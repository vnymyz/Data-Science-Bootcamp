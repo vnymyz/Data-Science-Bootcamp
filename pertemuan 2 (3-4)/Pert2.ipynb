{
 "cells": [
  {
   "cell_type": "markdown",
   "id": "f4cb56aa",
   "metadata": {},
   "source": [
    "# Intro To Python For Data Science\n",
    "****\n",
    "## Pertemuan 2 ( Sesi 3 - 4)\n",
    "### Apa saja yang akan kita bahas ?\n",
    "1. Pengenalan Syntax\n",
    "2. Tipe Data\n",
    "3. Variabel dan Konstanta\n",
    "4. Number\n",
    "5. List, Tuple dan Dictionary\n",
    "\n",
    "************"
   ]
  },
  {
   "cell_type": "markdown",
   "id": "4c3cd555",
   "metadata": {},
   "source": [
    "#### 1. Pengenalan Syntax"
   ]
  },
  {
   "cell_type": "markdown",
   "id": "93a2e525",
   "metadata": {},
   "source": [
    "Apa itu Syntax ? Sintaks (Syntax) adalah aturan penulisan kode dalam suatu bahasa pemrograman.\n",
    "\n",
    "```\n",
    "<!-- ini benar -->\n",
    "umur = 22\n",
    "\n",
    "<!-- ini salah -->\n",
    "22 = umur\n",
    "```"
   ]
  },
  {
   "cell_type": "code",
   "execution_count": null,
   "id": "4db67f1e",
   "metadata": {},
   "outputs": [
    {
     "name": "stdout",
     "output_type": "stream",
     "text": [
      "Hello World\n"
     ]
    }
   ],
   "source": [
    "# ini adalah komentar\n",
    "# program cetak\n",
    "print(\"Hello World\") "
   ]
  },
  {
   "cell_type": "code",
   "execution_count": null,
   "id": "a24cb889",
   "metadata": {},
   "outputs": [
    {
     "name": "stdout",
     "output_type": "stream",
     "text": [
      "Halo, Vanya Mayazura\n"
     ]
    }
   ],
   "source": [
    "# Program input\n",
    "nama = input(\"Masukkan nama: \")\n",
    "print(\"Halo, \" + nama)"
   ]
  },
  {
   "cell_type": "markdown",
   "id": "923c2a9c",
   "metadata": {},
   "source": [
    "*****************"
   ]
  },
  {
   "cell_type": "markdown",
   "id": "500f83d2",
   "metadata": {},
   "source": [
    "## 2. Tipe Data\n",
    "\n",
    "**Tipe data** adalah jenis nilai yang disimpan dalam variabel. Contoh tipe data umum:"
   ]
  },
  {
   "cell_type": "markdown",
   "id": "24da9f06",
   "metadata": {},
   "source": [
    "* Int atau Integer adalah bilangan bulat seperti 123456, 200, 3000.\n",
    "\n",
    "* Float adalah bilangan desimal dia temennya double. float itu 3,14.\n",
    "\n",
    "* Double temennya float bilangan desimal tapi lebih panjang. contoh 3,4445566774445.\n",
    "\n",
    "* str atau String adalah bilangan huruf atau kalimat dan bisa nampung banyak.\n",
    "\n",
    "* **float dan double dalam python sudah termasuk float64.**\n",
    "\n",
    "* **float64 artinya python sudah pasti dapat menampung banyak angka dan data.**\n",
    "\n",
    "* Complex itu bilangan terdiri dari real dan imajiner :\n",
    "\n",
    "Format umum complex :\n",
    "```\n",
    "a + bj\n",
    "```\n",
    "Keterangan complex :\n",
    "* a -> bagian real\n",
    "* b -> bagian imajiner\n",
    "* j -> simbol bilangan imajiner\n",
    "\n"
   ]
  },
  {
   "cell_type": "code",
   "execution_count": 63,
   "id": "c13050a6",
   "metadata": {},
   "outputs": [
    {
     "name": "stdout",
     "output_type": "stream",
     "text": [
      "10\n",
      "<class 'int'>\n",
      "3.14\n",
      "<class 'float'>\n",
      "(2+3j)\n",
      "<class 'complex'>\n"
     ]
    }
   ],
   "source": [
    "# Integer (bilangan bulat)\n",
    "x = 10\n",
    "print(x)\n",
    "print(type(x))  # <class 'int'>\n",
    "\n",
    "# Float (bilangan desimal)\n",
    "y = 3.14\n",
    "print(y)\n",
    "print(type(y))  # <class 'float'>\n",
    "\n",
    "# Complex (bilangan kompleks)\n",
    "z = 2 + 3j\n",
    "print(z)\n",
    "print(type(z))  # <class 'complex'>\n"
   ]
  },
  {
   "cell_type": "markdown",
   "id": "bf64b0f3",
   "metadata": {},
   "source": [
    "Fungsi Type() disini untuk menentukan dia tipe data apa :"
   ]
  },
  {
   "cell_type": "code",
   "execution_count": 64,
   "id": "81766be7",
   "metadata": {},
   "outputs": [
    {
     "name": "stdout",
     "output_type": "stream",
     "text": [
      "Tipe data nama: <class 'str'>\n",
      "Tipe data umur: <class 'int'>\n",
      "Tipe data ipk: <class 'float'>\n",
      "Tipe data lulus: <class 'bool'>\n",
      "Tipe data hobi: <class 'list'>\n",
      "Tipe data data: <class 'dict'>\n",
      "Tipe data angka_kompleks: <class 'complex'>\n"
     ]
    }
   ],
   "source": [
    "# menggunakan fungsi type()\n",
    "# Variabel dengan berbagai tipe data\n",
    "nama = \"Vanya\"        # str\n",
    "umur = 21             # int\n",
    "ipk = 3.85            # float\n",
    "lulus = True          # bool\n",
    "hobi = [\"ngoding\", \"gambar\"]  # list\n",
    "data = {\"nama\": \"Vanya\", \"umur\": 21}  # dict\n",
    "angka_kompleks = 5 + 2j        # complex\n",
    "\n",
    "# Mengecek dan mencetak tipe data\n",
    "print(\"Tipe data nama:\", type(nama))\n",
    "print(\"Tipe data umur:\", type(umur))\n",
    "print(\"Tipe data ipk:\", type(ipk))\n",
    "print(\"Tipe data lulus:\", type(lulus))\n",
    "print(\"Tipe data hobi:\", type(hobi))\n",
    "print(\"Tipe data data:\", type(data))\n",
    "print(\"Tipe data angka_kompleks:\", type(angka_kompleks))\n"
   ]
  },
  {
   "cell_type": "markdown",
   "id": "eefcd291",
   "metadata": {},
   "source": [
    "#### Trick Boolean\n",
    "* **AND (&&)**\n",
    "```\n",
    "true && false = false\n",
    "true && true = true\n",
    "false && false = false\n",
    "```\n",
    "Hasilnya true kalau kedua nya true.\n",
    "\n",
    "* **OR (||)**\n",
    "```\n",
    "true || false = true\n",
    "true || true = true\n",
    "false || false = false\n",
    "```\n",
    "Hasilnya true kalau salah satu ada yang true.\n",
    "\n",
    "* **NOT (!)**\n",
    "```\n",
    "!true = false\n",
    "!false = true\n",
    "```\n",
    "kebalikannya."
   ]
  },
  {
   "cell_type": "code",
   "execution_count": 14,
   "id": "087fd87f",
   "metadata": {},
   "outputs": [
    {
     "name": "stdout",
     "output_type": "stream",
     "text": [
      "Contoh AND:\n",
      "a and b = False\n",
      "\n",
      "Contoh OR:\n",
      "x or y = True\n",
      "\n",
      "Contoh NOT:\n",
      "not z = False\n",
      "\n",
      "Contoh Kombinasi:\n",
      "Boleh nonton dewasa: False\n",
      "Maaf, kamu belum bisa nonton film dewasa.\n"
     ]
    }
   ],
   "source": [
    "# Contoh 1: Operator AND\n",
    "print(\"Contoh AND:\")\n",
    "a = True\n",
    "b = False\n",
    "print(\"a and b =\", a and b)  # False, karena salah satu False\n",
    "\n",
    "# Contoh 2: Operator OR\n",
    "print(\"\\nContoh OR:\")\n",
    "x = True\n",
    "y = False\n",
    "print(\"x or y =\", x or y)  # True, karena salah satu True\n",
    "\n",
    "# Contoh 3: Operator NOT\n",
    "print(\"\\nContoh NOT:\")\n",
    "z = True\n",
    "print(\"not z =\", not z)  # False, karena not True = False\n",
    "\n",
    "# Contoh 4: Kombinasi\n",
    "print(\"\\nContoh Kombinasi:\")\n",
    "usia = 17\n",
    "punya_ktp = False\n",
    "\n",
    "boleh_nonton = usia >= 18 or punya_ktp\n",
    "print(\"Boleh nonton dewasa:\", boleh_nonton)\n",
    "\n",
    "if not boleh_nonton:\n",
    "    print(\"Maaf, kamu belum bisa nonton film dewasa.\")\n"
   ]
  },
  {
   "cell_type": "markdown",
   "id": "7796c900",
   "metadata": {},
   "source": [
    "**********************"
   ]
  },
  {
   "cell_type": "markdown",
   "id": "6507f1f6",
   "metadata": {},
   "source": [
    "### 3. Variabel dan Konstanta"
   ]
  },
  {
   "cell_type": "markdown",
   "id": "c36a7328",
   "metadata": {},
   "source": [
    "**Variabel** adalah tempat untuk menyimpan nilai sementara sehingga nilai dapat berubah2.\n",
    "\n",
    "```\n",
    "nama = \"Vanya\"\n",
    "umur = 21\n",
    "ipk = 3.75\n",
    "```\n",
    "\n",
    "nama, umur dan ipk adalah nama variabel.\n",
    "\n",
    "nilai di dalam variabel tersebut bisa kita ubah.\n",
    "\n",
    "**Aturan penamaan Variabel :**\n",
    "* Harus diawali huruf atau underscore (_)\n",
    "\n",
    "* Tidak boleh diawali angka\n",
    "\n",
    "* Tidak boleh pakai spasi (gunakan _)\n",
    "\n",
    "* Bersifat case-sensitive (nilai ≠ Nilai)"
   ]
  },
  {
   "cell_type": "code",
   "execution_count": 68,
   "id": "f11aa3e0",
   "metadata": {},
   "outputs": [
    {
     "name": "stdout",
     "output_type": "stream",
     "text": [
      "22\n",
      "3.75\n",
      "vanya\n"
     ]
    }
   ],
   "source": [
    "umur = 22\n",
    "nama = \"vanya\"\n",
    "ipk = 3.75\n",
    "\n",
    "\n",
    "# umur = 34\n",
    "# ipk = 3.93\n",
    "# nama = vanya mayazura\n",
    "\n",
    "\n",
    "print(umur)\n",
    "print(ipk)\n",
    "print(nama)\n"
   ]
  },
  {
   "cell_type": "markdown",
   "id": "d6739074",
   "metadata": {},
   "source": [
    "Sedangkan **Konstanta** adalah tempat untuk menyimpan nilai namun permanen.\n",
    "\n",
    "Konstanta ditulis dengan huruf kapital dan biasa diletakkan diawal program :\n",
    "```\n",
    "PI = 3.14159\n",
    "GOLDEN_RATIO = 1.618\n",
    "MAX_LOGIN_ATTEMPTS = 5\n",
    "```\n",
    "*** Aturan Penulisan Konstanta :**\n",
    "* Gunakan huruf kapital semua\n",
    "\n",
    "* Pakai underscore _ untuk pemisah\n",
    "\n",
    "* Simpan di bagian atas program"
   ]
  },
  {
   "cell_type": "code",
   "execution_count": 70,
   "id": "9c986d09",
   "metadata": {},
   "outputs": [
    {
     "name": "stdout",
     "output_type": "stream",
     "text": [
      "Luas lingkaran: 43.98226\n",
      "Nilai rasio emas: 1.618\n",
      "Batas percobaan login: 5\n"
     ]
    }
   ],
   "source": [
    "# KONSTANTA\n",
    "PI = 3.14159\n",
    "GOLDEN_RATIO = 1.618\n",
    "MAX_LOGIN_ATTEMPTS = 5\n",
    "\n",
    "# Variabel\n",
    "jari_jari = 7\n",
    "\n",
    "# menggunakan Konstanta\n",
    "luas_lingkaran = PI * jari_jari * 2\n",
    "\n",
    "print(\"Luas lingkaran:\", luas_lingkaran)\n",
    "print(\"Nilai rasio emas:\", GOLDEN_RATIO)\n",
    "print(\"Batas percobaan login:\", MAX_LOGIN_ATTEMPTS)\n"
   ]
  },
  {
   "cell_type": "markdown",
   "id": "b271a2bb",
   "metadata": {},
   "source": [
    "## Perbedaan Variabel dan Konstanta\n",
    "\n",
    "| Konsep    | Variabel               | Konstanta                            |\n",
    "|-----------|------------------------|--------------------------------------|\n",
    "| Sifat     | Bisa berubah           | Tidak boleh diubah (secara konvensi) |\n",
    "| Penulisan | nama_biasa, camelCase  | HURUF_KAPITAL                         |\n",
    "| Contoh    | `nama = \"Vanya\"`       | `MAX_USER = 100`                      |\n",
    "| Perilaku  | Fleksibel              | Tetap                                 |\n"
   ]
  },
  {
   "cell_type": "markdown",
   "id": "76a018ed",
   "metadata": {},
   "source": [
    "*********************************"
   ]
  },
  {
   "cell_type": "markdown",
   "id": "91e04e21",
   "metadata": {},
   "source": [
    "### 4. Number"
   ]
  },
  {
   "cell_type": "markdown",
   "id": "784d5efb",
   "metadata": {},
   "source": [
    "Number adalah bilangan angka seperti integer, float dan complex.\n",
    "\n",
    "| Tipe      | Nama Lengkap   | Contoh        | Digunakan untuk                     | Gambaran                                | \n",
    "| --------- | -------------- | ------------- | ----------------------------------- |-----------------------------------------|\n",
    "| `int`     | Integer        | 1, -100, 0    | Bilangan bulat                      | umur, jumlah dan skor                   |\n",
    "| `float`   | Floating Point | 3.14, -0.01   | Bilangan desimal                    | IPK, suhu dan bb                        |\n",
    "| `complex` | Complex Number | 2+3j, -1+0.5j | Bilangan kompleks (real + imajiner) | teknik, sinyal listrik dan mtk kompleks |\n"
   ]
  },
  {
   "cell_type": "code",
   "execution_count": 71,
   "id": "96e3c2ca",
   "metadata": {},
   "outputs": [
    {
     "name": "stdout",
     "output_type": "stream",
     "text": [
      "10 <class 'int'>\n",
      "----------------\n",
      "3.14 <class 'float'>\n",
      "3.5\n",
      "----------------\n",
      "(2+3j) <class 'complex'>\n",
      "Real: 2.0\n",
      "Imag: 3.0\n"
     ]
    }
   ],
   "source": [
    "# INTEGER\n",
    "a = 10\n",
    "b = -5\n",
    "c = 0\n",
    "\n",
    "print(a, type(a))  # 10 <class 'int'>\n",
    "print(\"----------------\")\n",
    "\n",
    "# FLOAT\n",
    "x = 3.14\n",
    "y = -0.5\n",
    "z = 7 / 2\n",
    "\n",
    "print(x, type(x))  # 3.14 <class 'float'>\n",
    "print(z)    \n",
    "print(\"----------------\")\n",
    "\n",
    "# COMPLEX\n",
    "f = 2 + 3j\n",
    "print(f, type(f))      # (2+3j) <class 'complex'>\n",
    "print(\"Real:\", f.real) # 2.0\n",
    "print(\"Imag:\", f.imag) # 3.0\n"
   ]
  },
  {
   "cell_type": "markdown",
   "id": "2dea4471",
   "metadata": {},
   "source": [
    "### Operasi Matematika Dasar"
   ]
  },
  {
   "cell_type": "code",
   "execution_count": 74,
   "id": "3274ba55",
   "metadata": {},
   "outputs": [
    {
     "name": "stdout",
     "output_type": "stream",
     "text": [
      "6\n",
      "-2\n",
      "8\n",
      "0.5\n",
      "0\n",
      "2\n",
      "16\n"
     ]
    }
   ],
   "source": [
    "a = 2\n",
    "b = 4\n",
    "\n",
    "print(a + b)   # Penjumlahan → 13\n",
    "print(a - b)   # Pengurangan → 7\n",
    "print(a * b)   # Perkalian → 30\n",
    "print(a / b)   # Pembagian → 3.333...\n",
    "print(a // b)  # Pembagian bulat → 3\n",
    "print(a % b)   # Sisa bagi (modulo) → 1\n",
    "print(a ** b)  # Pangkat → 1000\n"
   ]
  },
  {
   "cell_type": "markdown",
   "id": "52014ac2",
   "metadata": {},
   "source": [
    "### Konversi Tipe Number"
   ]
  },
  {
   "cell_type": "code",
   "execution_count": 76,
   "id": "d98c6b8d",
   "metadata": {},
   "outputs": [
    {
     "name": "stdout",
     "output_type": "stream",
     "text": [
      "10.0 <class 'float'>\n",
      "10 <class 'int'>\n",
      "(5+0j) <class 'complex'>\n"
     ]
    }
   ],
   "source": [
    "a = 10\n",
    "b = float(a)       # 10 → 10.0\n",
    "c = int(10.55)      # 3.99 → 3 (dibulatkan ke bawah)\n",
    "d = complex(5)     # 5 → (5+0j)\n",
    "\n",
    "print(b, type(b))  # <class 'float'>\n",
    "print(c, type(c))  # <class 'int'>\n",
    "print(d, type(d))\n"
   ]
  },
  {
   "cell_type": "markdown",
   "id": "6c964e34",
   "metadata": {},
   "source": [
    "| Hal yang Sering Ditanya              | Jawaban                                                         |\n",
    "| ------------------------------------ | --------------------------------------------------------------- |\n",
    "| Apakah `float` = `double` di Python? | Iya, `float` di Python = 64-bit float seperti `double` di Java  |\n",
    "| Bisa overflow?                       | Tidak seperti C/Java, Python mendukung int besar tanpa overflow |\n",
    "| Ada tipe `double`?                   | Tidak. Python hanya pakai `float`, tapi itu setara `double`     |\n",
    "| Perlu deklarasi tipe?                | Tidak. Python otomatis deteksi tipe data dari nilai             |\n"
   ]
  },
  {
   "cell_type": "markdown",
   "id": "1b761df8",
   "metadata": {},
   "source": [
    "Overflow adalah nilai yang melebihi batas maksimum sehingga nilai bisa salah, rusak atau bahkan error.\n",
    "\n",
    "C/C++\n",
    "```\n",
    "int x = 2147483647;  // batas maksimum\n",
    "x = x + 1;\n",
    "printf(\"%d\", x);     // hasilnya malah -2147483648 (jadi negatif!)\n",
    "```"
   ]
  },
  {
   "cell_type": "code",
   "execution_count": 83,
   "id": "4935e927",
   "metadata": {},
   "outputs": [
    {
     "name": "stdout",
     "output_type": "stream",
     "text": [
      "123.456678\n"
     ]
    }
   ],
   "source": [
    "x = 123.456678\n",
    "print(x)"
   ]
  },
  {
   "cell_type": "markdown",
   "id": "b7ab1b89",
   "metadata": {},
   "source": [
    "********************************"
   ]
  },
  {
   "cell_type": "markdown",
   "id": "9a1720b3",
   "metadata": {},
   "source": [
    "### 5. List, Tuple dan Dictionary\n",
    "\n",
    "\n",
    "#### 5.1 List ( Daftar )\n",
    "List adalah kumpulan nilai/data yang bisa berubah (mutable).\n",
    "Bisa menyimpan tipe data apa pun: angka, string, bahkan campuran."
   ]
  },
  {
   "cell_type": "code",
   "execution_count": 90,
   "id": "8678ae0e",
   "metadata": {},
   "outputs": [
    {
     "name": "stdout",
     "output_type": "stream",
     "text": [
      "['apel', 'pisang', 'jeruk']\n",
      "pisang\n",
      "jeruk\n",
      "['mangga', 'pisang', 'jeruk']\n",
      "['mangga', 'pisang', 'jeruk', 'nanas']\n"
     ]
    }
   ],
   "source": [
    "buah = [\"apel\", \"pisang\", \"jeruk\"]\n",
    "print(buah)              # ['apel', 'pisang', 'jeruk']\n",
    "print(buah[1])\n",
    "print(buah[-1])           \n",
    "\n",
    "# Mengubah isi list\n",
    "buah[0] = \"mangga\"\n",
    "print(buah)              # ['mangga', 'pisang', 'jeruk']\n",
    "\n",
    "# Menambahkan item\n",
    "buah.append(\"nanas\")\n",
    "print(buah)              # ['mangga', 'pisang', 'jeruk', 'nanas']\n"
   ]
  },
  {
   "cell_type": "markdown",
   "id": "b97af7bd",
   "metadata": {},
   "source": [
    "#### 5.3 Memanggil indeks list"
   ]
  },
  {
   "cell_type": "code",
   "execution_count": 88,
   "id": "3c527d36",
   "metadata": {},
   "outputs": [
    {
     "name": "stdout",
     "output_type": "stream",
     "text": [
      "Budi\n",
      "Lia 19\n"
     ]
    }
   ],
   "source": [
    "mahasiswa = [\n",
    "    {\"nama\": \"Rani\", \"umur\": 20},\n",
    "    {\"nama\": \"Budi\", \"umur\": 22},\n",
    "    {\"nama\": \"Lia\", \"umur\": 19}\n",
    "]\n",
    "\n",
    "print(mahasiswa[1][\"nama\"])  # 'Budi'\n",
    "# manggil kedua nya\n",
    "print(mahasiswa[2][\"nama\"], mahasiswa[2][\"umur\"])\n"
   ]
  },
  {
   "cell_type": "markdown",
   "id": "a81ca15f",
   "metadata": {},
   "source": [
    "#### 5.4 Menghapus indeks"
   ]
  },
  {
   "cell_type": "code",
   "execution_count": 89,
   "id": "7c27749f",
   "metadata": {},
   "outputs": [
    {
     "name": "stdout",
     "output_type": "stream",
     "text": [
      "['apel', 'pisang', 'mangga']\n"
     ]
    }
   ],
   "source": [
    "buah = [\"apel\", \"jeruk\", \"pisang\", \"mangga\"]\n",
    "buah.remove(\"jeruk\")\n",
    "print(buah)\n"
   ]
  },
  {
   "cell_type": "markdown",
   "id": "29c1b9e8",
   "metadata": {},
   "source": [
    "#### 5.5 Menambahkan list"
   ]
  },
  {
   "cell_type": "code",
   "execution_count": 57,
   "id": "240f5d84",
   "metadata": {},
   "outputs": [
    {
     "name": "stdout",
     "output_type": "stream",
     "text": [
      "['apel', 'mangga', 'pisang', 'jeruk']\n"
     ]
    }
   ],
   "source": [
    "buah = [\"apel\", \"pisang\", \"jeruk\"]\n",
    "buah.insert(1, \"mangga\")  # Menyisipkan 'mangga' di indeks ke-1\n",
    "print(buah)\n"
   ]
  },
  {
   "cell_type": "code",
   "execution_count": 93,
   "id": "edc32eb0",
   "metadata": {},
   "outputs": [
    {
     "name": "stdout",
     "output_type": "stream",
     "text": [
      "[5, 10, 20, 30, 35]\n"
     ]
    }
   ],
   "source": [
    "angka = [10, 20, 30]\n",
    "\n",
    "# Menyisipkan di awal\n",
    "angka.insert(0, 5)\n",
    "\n",
    "# Menyisipkan di akhir (sebelum elemen terakhir)\n",
    "angka.insert(len(angka), 35)\n",
    "\n",
    "print(angka)\n"
   ]
  },
  {
   "cell_type": "markdown",
   "id": "f0fa02ad",
   "metadata": {},
   "source": [
    "#### 5.6 Sort List"
   ]
  },
  {
   "cell_type": "code",
   "execution_count": 94,
   "id": "66108c3d",
   "metadata": {},
   "outputs": [
    {
     "name": "stdout",
     "output_type": "stream",
     "text": [
      "[1, 2, 4, 9]\n",
      "[9, 4, 2, 1]\n"
     ]
    }
   ],
   "source": [
    "angka = [4, 2, 9, 1]\n",
    "angka.sort()\n",
    "print(angka)  # [1, 2, 4, 9]\n",
    "\n",
    "angka.reverse()\n",
    "print(angka)  # [9, 4, 2, 1]\n"
   ]
  },
  {
   "cell_type": "markdown",
   "id": "710f1cb6",
   "metadata": {},
   "source": [
    "#### 5.7 Menyalin List"
   ]
  },
  {
   "cell_type": "code",
   "execution_count": 95,
   "id": "9a8aa39b",
   "metadata": {},
   "outputs": [
    {
     "name": "stdout",
     "output_type": "stream",
     "text": [
      "Asli: ['apel', 'jeruk', 'mangga']\n",
      "Salinan: ['apel', 'jeruk', 'mangga']\n"
     ]
    }
   ],
   "source": [
    "buah = [\"apel\", \"jeruk\", \"mangga\"]\n",
    "buah_salinan = buah.copy()\n",
    "\n",
    "print(\"Asli:\", buah)\n",
    "print(\"Salinan:\", buah_salinan)\n"
   ]
  },
  {
   "cell_type": "markdown",
   "id": "54300d42",
   "metadata": {},
   "source": [
    "#### 5.2 Tuple ( Data Tetap )\n",
    "\n",
    "Tuple mirip List, tapi tidak bisa diubah (immutable).\n",
    "Biasa dipakai untuk data tetap seperti koordinat, warna RGB, dll."
   ]
  },
  {
   "cell_type": "code",
   "execution_count": 97,
   "id": "e7dafc26",
   "metadata": {},
   "outputs": [
    {
     "name": "stdout",
     "output_type": "stream",
     "text": [
      "merah\n",
      "False\n"
     ]
    }
   ],
   "source": [
    "warna = (\"merah\", \"hijau\", \"biru\")\n",
    "print(warna[0])         # 'merah'\n",
    "print(warna[0] == \"kuning\")\n",
    "\n",
    "# warna[0] = \"kuning\"   ❌ ERROR: tidak bisa diubah\n"
   ]
  },
  {
   "cell_type": "code",
   "execution_count": 98,
   "id": "2fda6c13",
   "metadata": {},
   "outputs": [
    {
     "name": "stdout",
     "output_type": "stream",
     "text": [
      "(1, 2, 3, 4, 5)\n"
     ]
    }
   ],
   "source": [
    "angka1 = (1, 2, 3)\n",
    "angka2 = (4, 5)\n",
    "gabungan = angka1 + angka2\n",
    "print(gabungan)  # (1, 2, 3, 4, 5)"
   ]
  },
  {
   "cell_type": "code",
   "execution_count": 47,
   "id": "181c16d1",
   "metadata": {},
   "outputs": [
    {
     "name": "stdout",
     "output_type": "stream",
     "text": [
      "4\n"
     ]
    }
   ],
   "source": [
    "warna = (\"merah\", \"biru\", \"kuning\", \"hijau\")\n",
    "print(len(warna))  # 4"
   ]
  },
  {
   "cell_type": "markdown",
   "id": "06da0e98",
   "metadata": {},
   "source": [
    "#### 5.3 Dictionary ( Kamus Data )\n",
    "\n",
    "Dictionary menyimpan data dalam bentuk pasangan kunci-nilai (key-value).\n",
    "Mirip seperti tabel atau objek dalam JSON."
   ]
  },
  {
   "cell_type": "code",
   "execution_count": null,
   "id": "044b55fc",
   "metadata": {},
   "outputs": [
    {
     "name": "stdout",
     "output_type": "stream",
     "text": [
      "{'nama': 'Vanya', 'umur': 21, 'lulus': True}\n"
     ]
    }
   ],
   "source": [
    "# Dictionary\n",
    "mahasiswa = {\n",
    "    # \"key\": value\n",
    "    \"nama\": \"Vanya\",\n",
    "    \"umur\": 21,\n",
    "    \"lulus\": True\n",
    "}\n",
    "\n",
    "print(mahasiswa[\"nama\"])    # 'Vanya'\n",
    "print(mahasiswa.get(\"umur\"))  # 21\n",
    "\n",
    "# Mengubah nilai\n",
    "mahasiswa[\"umur\"] = 22\n",
    "\n",
    "# Menambahkan pasangan baru\n",
    "mahasiswa[\"jurusan\"] = \"Sistem Informasi\"\n",
    "\n",
    "print(mahasiswa)\n"
   ]
  },
  {
   "cell_type": "markdown",
   "id": "cb718429",
   "metadata": {},
   "source": [
    "| Struktur   | Bisa Diubah? | Bisa Duplikat? | Akses via | Contoh                          |\n",
    "| ---------- | ------------ | -------------- | --------- | ------------------------------- |\n",
    "| List       | ✅ Ya         | ✅ Ya           | Index     | `[\"apel\", \"jeruk\"]`             |\n",
    "| Tuple      | ❌ Tidak      | ✅ Ya           | Index     | `(\"merah\", \"biru\")`             |\n",
    "| Dictionary | ✅ Ya         | ❌ Key unik     | Key       | `{\"nama\": \"Vanya\", \"umur\": 21}` |"
   ]
  },
  {
   "cell_type": "markdown",
   "id": "a497cac3",
   "metadata": {},
   "source": [
    "*************************"
   ]
  },
  {
   "cell_type": "markdown",
   "id": "94987d9a",
   "metadata": {},
   "source": [
    "### Latihan Soal !"
   ]
  },
  {
   "cell_type": "markdown",
   "id": "69ebe4ca",
   "metadata": {},
   "source": [
    "**Soal 1: List**\n",
    "\n",
    "Buatlah list dengan nama hobi yang berisi tiga hobi favoritmu. Tambahkan satu hobi baru ke dalam list tersebut dan tampilkan semua hobi menggunakan print().\n",
    "\n",
    "\n",
    "**Soal 2: Tuple**\n",
    "\n",
    "Buat tuple dengan nama warna_pilihan yang berisi tiga warna favoritmu. Coba tampilkan warna kedua dari tuple tersebut.\n",
    "\n",
    "\n",
    "**Soal 3: Dictionary**\n",
    "\n",
    "Buat dictionary dengan nama buku yang berisi data berikut:\n",
    "\n",
    "\"judul\": \"Belajar Python\"\n",
    "\n",
    "\"penulis\": \"Andi\"\n",
    "\n",
    "\"tahun\": 2023\n",
    "\n",
    "Tampilkan nilai dari key \"penulis\" dan tambahkan key baru \"penerbit\" dengan nilai \"Informatika Press\".\n",
    "\n",
    "\n",
    "**Soal 4 : List Indeks**\n",
    "```\n",
    "mahasiswa = [\n",
    "    {\"nama\": \"Rani\", \"umur\": 20},\n",
    "    {\"nama\": \"Budi\", \"umur\": 22},\n",
    "    {\"nama\": \"Lia\", \"umur\": 19}\n",
    "]\n",
    "```\n",
    "bagaimana cara menampilkan si Rani dan umurnya."
   ]
  },
  {
   "cell_type": "markdown",
   "id": "c2259e5e",
   "metadata": {},
   "source": [
    "*************"
   ]
  },
  {
   "cell_type": "markdown",
   "id": "2513bd37",
   "metadata": {},
   "source": [
    "### Pembahasan"
   ]
  },
  {
   "cell_type": "code",
   "execution_count": null,
   "id": "019667ac",
   "metadata": {},
   "outputs": [
    {
     "name": "stdout",
     "output_type": "stream",
     "text": [
      "['menggambar', 'membaca', 'bersepeda', 'berkebun']\n"
     ]
    }
   ],
   "source": [
    "# 1.\n",
    "hobi = [\"menggambar\", \"membaca\", \"bersepeda\"]\n",
    "hobi.append(\"berkebun\")\n",
    "print(hobi)"
   ]
  },
  {
   "cell_type": "code",
   "execution_count": 104,
   "id": "01ad70f5",
   "metadata": {},
   "outputs": [
    {
     "name": "stdout",
     "output_type": "stream",
     "text": [
      "ungu\n"
     ]
    }
   ],
   "source": [
    "# 2\n",
    "warna_pilihan = (\"biru\", \"ungu\", \"hijau\")\n",
    "print(warna_pilihan[1])  # menampilkan warna kedua"
   ]
  },
  {
   "cell_type": "code",
   "execution_count": 105,
   "id": "dce020f1",
   "metadata": {},
   "outputs": [
    {
     "name": "stdout",
     "output_type": "stream",
     "text": [
      "Andi\n",
      "{'judul': 'Belajar Python', 'penulis': 'Andi', 'tahun': 2023, 'penerbit': 'Informatika Press'}\n"
     ]
    }
   ],
   "source": [
    "# 3\n",
    "buku = {\n",
    "    \"judul\": \"Belajar Python\",\n",
    "    \"penulis\": \"Andi\",\n",
    "    \"tahun\": 2023\n",
    "}\n",
    "\n",
    "# Tampilkan penulis\n",
    "print(buku[\"penulis\"])\n",
    "\n",
    "# Tambahkan key baru\n",
    "buku[\"penerbit\"] = \"Informatika Press\"\n",
    "\n",
    "# Cetak dictionary lengkap\n",
    "print(buku)\n"
   ]
  },
  {
   "cell_type": "code",
   "execution_count": 107,
   "id": "f70ee31b",
   "metadata": {},
   "outputs": [
    {
     "name": "stdout",
     "output_type": "stream",
     "text": [
      "Nama: Rani\n",
      "Umur: 20\n"
     ]
    }
   ],
   "source": [
    "4\n",
    "mahasiswa = [\n",
    "    {\"nama\": \"Rani\", \"umur\": 20},\n",
    "    {\"nama\": \"Budi\", \"umur\": 22},\n",
    "    {\"nama\": \"Lia\", \"umur\": 19}\n",
    "]\n",
    "\n",
    "print(\"Nama:\", mahasiswa[0][\"nama\"])\n",
    "print(\"Umur:\", mahasiswa[0][\"umur\"])\n"
   ]
  }
 ],
 "metadata": {
  "kernelspec": {
   "display_name": "Python 3",
   "language": "python",
   "name": "python3"
  },
  "language_info": {
   "codemirror_mode": {
    "name": "ipython",
    "version": 3
   },
   "file_extension": ".py",
   "mimetype": "text/x-python",
   "name": "python",
   "nbconvert_exporter": "python",
   "pygments_lexer": "ipython3",
   "version": "3.10.6"
  }
 },
 "nbformat": 4,
 "nbformat_minor": 5
}
