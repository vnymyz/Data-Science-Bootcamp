{
 "cells": [
  {
   "cell_type": "markdown",
   "id": "9a54ee93",
   "metadata": {},
   "source": [
    "## NLP (Natural Language Processing) in Machine Learning\n",
    "\n",
    "NLP (Natural Language Processing) adalah cabang dari kecerdasan buatan yang berfokus pada interaksi antara komputer dan bahasa manusia. NLP memungkinkan mesin untuk memahami, memproses, dan menghasilkan bahasa alami seperti yang digunakan manusia sehari-hari.\n",
    "\n",
    "Machine learning sendiri terdiri dari dua jenis utama, yaitu **supervised learning** dan **unsupervised learning**. \n",
    "\n",
    "- Pada **supervised learning**, model dilatih menggunakan data yang sudah diberi label. Dua contoh utama dari supervised learning adalah **classification** (klasifikasi) dan **regression** (regresi).  \n",
    "\n",
    "    - **Classification** digunakan untuk mengelompokkan data ke dalam kategori tertentu, misalnya kasus **spam classification** di mana email diklasifikasikan sebagai spam atau bukan spam.\n",
    "\n",
    "    - **Regression** digunakan untuk memprediksi nilai kontinu, seperti harga rumah berdasarkan fitur-fitur tertentu.\n",
    "\n",
    "- Sedangkan **unsupervised learning** digunakan untuk menemukan pola dalam data yang tidak memiliki label, seperti clustering.\n",
    "\n",
    "Contoh penerapan NLP dalam kehidupan sehari-hari adalah asisten virtual seperti **Alexa** atau **Google Assistant**, yang mampu memahami dan merespon perintah suara dari pengguna.\n",
    "\n",
    "Beberapa library populer yang digunakan untuk NLP antara lain:  \n",
    "- **NLTK** (Natural Language Toolkit)  \n",
    "- **spaCy**  \n",
    "- **TensorFlow**  \n",
    "- **PyTorch**"
   ]
  }
 ],
 "metadata": {
  "kernelspec": {
   "display_name": "Python 3",
   "language": "python",
   "name": "python3"
  },
  "language_info": {
   "name": "python",
   "version": "3.13.0"
  }
 },
 "nbformat": 4,
 "nbformat_minor": 5
}
