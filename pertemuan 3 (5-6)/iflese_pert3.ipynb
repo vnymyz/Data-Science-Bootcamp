{
 "cells": [
  {
   "cell_type": "markdown",
   "id": "9131162e",
   "metadata": {},
   "source": [
    "# Intro to Python Data Science\n",
    "****************"
   ]
  },
  {
   "cell_type": "markdown",
   "id": "29803c9d",
   "metadata": {},
   "source": [
    "## Pertemuan 3\n",
    "\n",
    "### **1. Conditional Programming if-else**\n",
    "\n",
    "**Conditional programming if-else** adalah teknik dalam pemrograman untuk mengambil keputusan berdasarkan kondisi tertentu. If - else atau percabangan terdapat beberapa macam yaitu :\n",
    "\n",
    "\n",
    "| Bentuk             | Keterangan                         |\n",
    "| ------------------ | ---------------------------------- |\n",
    "| `if`               | Hanya kondisi benar                |\n",
    "| `if - else`        | Dua kemungkinan (benar atau salah) |\n",
    "| `if - elif - else` | Banyak kondisi                     |\n",
    "| Nested `if`        | `if` di dalam `if` (bersarang)     |\n",
    "| Ternary            | `if` satu baris                    |\n"
   ]
  },
  {
   "cell_type": "markdown",
   "id": "82add902",
   "metadata": {},
   "source": [
    "#### **2. IF Statement**\n",
    "\n",
    "| **Aspek**                 | **Penjelasan**                                                          |\n",
    "| ------------------------- | ----------------------------------------------------------------------- |\n",
    "| 📘 **Teori**              | Mengecek 1 kondisi saja. Kalau benar, jalankan; kalau salah, diabaikan. |\n",
    "| 👣 **Contoh Sehari-hari** | Jika jam sudah 6 pagi → bangun tidur. Kalau belum, tetap tidur.         |"
   ]
  },
  {
   "cell_type": "code",
   "execution_count": null,
   "id": "bda00dc9",
   "metadata": {},
   "outputs": [],
   "source": [
    "# Struktur Program if statement (tidak perlu di-run)\n",
    "\n",
    "# Jika kondisi terpenuhi\n",
    "if kondisi:\n",
    "    # aksi jika kondisi benar"
   ]
  },
  {
   "cell_type": "markdown",
   "id": "571e918b",
   "metadata": {},
   "source": [
    "- Contoh if bangun tidur :"
   ]
  },
  {
   "cell_type": "code",
   "execution_count": 27,
   "id": "3dff62c5",
   "metadata": {},
   "outputs": [
    {
     "name": "stdout",
     "output_type": "stream",
     "text": [
      "Bangun tidur!\n"
     ]
    }
   ],
   "source": [
    "jam = 6\n",
    "\n",
    "if jam >= 6:\n",
    "    print(\"Bangun tidur!\")"
   ]
  },
  {
   "cell_type": "markdown",
   "id": "38f19534",
   "metadata": {},
   "source": [
    "- Contoh sarapan :"
   ]
  },
  {
   "cell_type": "code",
   "execution_count": 28,
   "id": "7aeb0846",
   "metadata": {},
   "outputs": [
    {
     "name": "stdout",
     "output_type": "stream",
     "text": [
      "Kamu belum sarapan, ayo makan dulu!\n"
     ]
    }
   ],
   "source": [
    "sudah_sarapan = False\n",
    "\n",
    "if not sudah_sarapan:\n",
    "    print(\"Kamu belum sarapan, ayo makan dulu!\")\n"
   ]
  },
  {
   "cell_type": "markdown",
   "id": "cf525b86",
   "metadata": {},
   "source": [
    "#### **3. IF ELSE Statement**\n",
    "\n",
    "| **Aspek**                 | **Penjelasan**                                                      |\n",
    "| ------------------------- | ------------------------------------------------------------------- |\n",
    "| 📘 **Teori**              | Mengecek kondisi. Kalau benar → lakukan A. Kalau salah → lakukan B. |\n",
    "| 👣 **Contoh Sehari-hari** | Jika >= 75 → Lulus, jika tidak → tidak lulus.     |"
   ]
  },
  {
   "cell_type": "code",
   "execution_count": null,
   "id": "0b3747b3",
   "metadata": {},
   "outputs": [],
   "source": [
    "# Struktur Program if else (tidak perlu di-run)\n",
    "\n",
    "# Jika kondisi terpenuhi\n",
    "if kondisi:\n",
    "    # aksi jika kondisi benar\n",
    "else:\n",
    "    # aksi jika kondisi salah"
   ]
  },
  {
   "cell_type": "markdown",
   "id": "19098068",
   "metadata": {},
   "source": [
    "- Contoh if else kelulusan :"
   ]
  },
  {
   "cell_type": "code",
   "execution_count": 29,
   "id": "c1046f8b",
   "metadata": {},
   "outputs": [
    {
     "name": "stdout",
     "output_type": "stream",
     "text": [
      "Tidak lulus\n"
     ]
    }
   ],
   "source": [
    "nilai = 60\n",
    "\n",
    "if nilai >= 75:\n",
    "    print(\"Lulus\")\n",
    "else:\n",
    "    print(\"Tidak lulus\")\n"
   ]
  },
  {
   "cell_type": "markdown",
   "id": "686f614f",
   "metadata": {},
   "source": [
    "### **4. IF - ELIF - ELSE Statement**\n",
    "\n",
    "| **Aspek**                 | **Penjelasan**                                                                               |\n",
    "| ------------------------- | -------------------------------------------------------------------------------------------- |\n",
    "| 📘 **Teori**              | Mengecek beberapa kondisi secara berurutan. Dieksekusi satu kondisi yang pertama kali benar. |\n",
    "| 👣 **Contoh Sehari-hari** | Nilai ujian: ≥90 A, ≥80 B, ≥70 C, <70 D                                                      |"
   ]
  },
  {
   "cell_type": "code",
   "execution_count": null,
   "id": "eedb446f",
   "metadata": {},
   "outputs": [],
   "source": [
    "# Struktur Program if else (tidak perlu di run)\n",
    "\n",
    "# Kondisi pertama jika benar\n",
    "if kondisi:\n",
    "\n",
    "# Kondisi kedua jika benar\n",
    "elif kondisi_lain:\n",
    "\n",
    "# Kondisi terakhir jika semua salah\n",
    "else:\n"
   ]
  },
  {
   "cell_type": "markdown",
   "id": "71660f41",
   "metadata": {},
   "source": [
    "- Contoh Cuaca :"
   ]
  },
  {
   "cell_type": "code",
   "execution_count": 30,
   "id": "5bf86f16",
   "metadata": {},
   "outputs": [
    {
     "name": "stdout",
     "output_type": "stream",
     "text": [
      "Siapkan jas hujan.\n"
     ]
    }
   ],
   "source": [
    "cuaca = \"mendung\"\n",
    "\n",
    "if cuaca == \"hujan\":\n",
    "    print(\"Bawa payung.\")\n",
    "elif cuaca == \"mendung\":\n",
    "    print(\"Siapkan jas hujan.\")\n",
    "else:\n",
    "    print(\"Cuaca cerah, nikmati hari ini!\")\n"
   ]
  },
  {
   "cell_type": "markdown",
   "id": "6f446b6d",
   "metadata": {},
   "source": [
    "- Contoh Penilaian Nilai Mahasiswa :"
   ]
  },
  {
   "cell_type": "code",
   "execution_count": null,
   "id": "b554d413",
   "metadata": {},
   "outputs": [],
   "source": [
    "nilai = 85\n",
    "\n",
    "if nilai >= 90:\n",
    "    print(\"Grade: A\")\n",
    "elif nilai >= 80:\n",
    "    print(\"Grade: B\")\n",
    "elif nilai >= 70:\n",
    "    print(\"Grade: C\")\n",
    "elif nilai >= 60:\n",
    "    print(\"Grade: D\")\n",
    "else:\n",
    "    print(\"Grade: E\")\n"
   ]
  },
  {
   "cell_type": "markdown",
   "id": "e1974cd0",
   "metadata": {},
   "source": [
    "- Contoh Sistem Login"
   ]
  },
  {
   "cell_type": "code",
   "execution_count": 34,
   "id": "7300c67c",
   "metadata": {},
   "outputs": [
    {
     "name": "stdout",
     "output_type": "stream",
     "text": [
      "Login berhasil!\n"
     ]
    }
   ],
   "source": [
    "username = input(\"Masukkan username: \")\n",
    "password = input(\"Masukkan password: \")\n",
    "\n",
    "if username == \"admin\" and password == \"123456\":\n",
    "    print(\"Login berhasil!\")\n",
    "elif username != \"admin\":\n",
    "    print(\"Username salah.\")\n",
    "else:\n",
    "    print(\"Password salah.\")\n"
   ]
  },
  {
   "cell_type": "markdown",
   "id": "69d4c651",
   "metadata": {},
   "source": [
    "### **5. Nested IF**\n",
    "\n",
    "Apa itu Nested if (if bersarang) ?\n",
    "\n",
    "| **Aspek**                 | **Penjelasan**                                                                     |\n",
    "| ------------------------- | ---------------------------------------------------------------------------------- |\n",
    "| 📘 **Teori**              | `if` di dalam `if` untuk mengecek kondisi yang lebih kompleks.                     |\n",
    "| 👣 **Contoh Sehari-hari** | Jika umur ≥17 dan punya KTP → boleh ikut pemilu. Jika tidak punya KTP → buat dulu. |"
   ]
  },
  {
   "cell_type": "code",
   "execution_count": null,
   "id": "a27f80ff",
   "metadata": {},
   "outputs": [],
   "source": [
    "# Struktur Program nested if (tidak perlu di-run)\n",
    "\n",
    "# Kondisi luar\n",
    "if kondisi_utama:\n",
    "    # aksi jika kondisi_utama benar\n",
    "\n",
    "    # Kondisi dalam (bersarang)\n",
    "    if kondisi_dalam:\n",
    "        # aksi jika kondisi_dalam juga benar\n"
   ]
  },
  {
   "cell_type": "markdown",
   "id": "cfb31948",
   "metadata": {},
   "source": [
    "- Contoh nested if KTP :"
   ]
  },
  {
   "cell_type": "code",
   "execution_count": 2,
   "id": "59275ae9",
   "metadata": {},
   "outputs": [],
   "source": [
    "umur = 20\n",
    "punya_ktp = True\n",
    "\n",
    "if umur < 17:\n",
    "    print(\"Umur masih dibawah 16 tahun\")\n",
    "    if punya_ktp:\n",
    "        print(\"Namun, sudah memiliki ktp\")\n",
    "        if umur < 10:\n",
    "            print(\"masih muda buat bikin ktp\")\n",
    "        "
   ]
  },
  {
   "cell_type": "code",
   "execution_count": 53,
   "id": "83029058",
   "metadata": {},
   "outputs": [
    {
     "name": "stdout",
     "output_type": "stream",
     "text": [
      "Lulus\n",
      "Nilai Bagus\n"
     ]
    }
   ],
   "source": [
    "nilai = 85\n",
    "\n",
    "if nilai >= 60:\n",
    "    print(\"Lulus\")\n",
    "    if nilai >= 75:\n",
    "        print(\"Nilai Bagus\")\n",
    "        if nilai >= 90:\n",
    "            print(\"Nilai Sangat Bagus\")"
   ]
  },
  {
   "cell_type": "markdown",
   "id": "3b6540f2",
   "metadata": {},
   "source": [
    "- Contoh nested if diskon belanja :"
   ]
  },
  {
   "cell_type": "code",
   "execution_count": null,
   "id": "eba42d0e",
   "metadata": {},
   "outputs": [],
   "source": [
    "total_belanja = 600000\n",
    "is_member = True\n",
    "\n",
    "if total_belanja > 500000:\n",
    "    if is_member:\n",
    "        print(\"Diskon 20%\")\n",
    "    else:\n",
    "        print(\"Diskon 10%\")\n",
    "elif is_member:\n",
    "    print(\"Diskon 10%\")\n",
    "else:\n",
    "    print(\"Tidak dapat diskon\")\n"
   ]
  },
  {
   "cell_type": "markdown",
   "id": "710153fb",
   "metadata": {},
   "source": [
    "### 6. **Ternary Operator**"
   ]
  },
  {
   "cell_type": "markdown",
   "id": "de5cedf2",
   "metadata": {},
   "source": [
    "| **Aspek**                 | **Penjelasan**                                                       |\n",
    "| ------------------------- | -------------------------------------------------------------------- |\n",
    "| 📘 **Teori**              | Versi singkat dari if-else untuk kondisi sederhana, satu baris saja. |\n",
    "| 👣 **Contoh Sehari-hari** | Jika umur ≥17 → dewasa, jika tidak → anak-anak                       |"
   ]
  },
  {
   "cell_type": "code",
   "execution_count": null,
   "id": "03deed3b",
   "metadata": {},
   "outputs": [],
   "source": [
    "# Struktur Program ternary operator (tidak perlu di-run)\n",
    "\n",
    "# Format umum:\n",
    "# variabel = nilai_jika_true if kondisi else nilai_jika_false\n",
    "\n",
    "variabel = hasil_true if kondisi else hasil_false\n"
   ]
  },
  {
   "cell_type": "markdown",
   "id": "872f951a",
   "metadata": {},
   "source": [
    "- Contoh Ternary Operator cek umur :"
   ]
  },
  {
   "cell_type": "code",
   "execution_count": 5,
   "id": "0703c5bc",
   "metadata": {},
   "outputs": [
    {
     "name": "stdout",
     "output_type": "stream",
     "text": [
      "Anak-anak\n"
     ]
    }
   ],
   "source": [
    "umur = 16\n",
    "status = \"Dewasa\" if umur >= 17 else \"Anak-anak\"\n",
    "print(status)\n"
   ]
  },
  {
   "cell_type": "code",
   "execution_count": 54,
   "id": "fca4781e",
   "metadata": {},
   "outputs": [
    {
     "name": "stdout",
     "output_type": "stream",
     "text": [
      "Diskon: 20.0%\n",
      "Total yang harus dibayar: Rp480,000\n"
     ]
    }
   ],
   "source": [
    "total_belanja = 600000\n",
    "is_member = True\n",
    "\n",
    "# Jika member dan belanja di atas 500k → diskon 20%, kalau tidak → 0%\n",
    "diskon = 0.2 if is_member and total_belanja >= 500000 else 0\n",
    "total_bayar = total_belanja - (total_belanja * diskon)\n",
    "\n",
    "print(f\"Diskon: {diskon * 100}%\")\n",
    "print(f\"Total yang harus dibayar: Rp{total_bayar:,.0f}\")\n",
    "\n",
    "# Penjelasan:\n",
    "# Kondisi: is_member = True AND total_belanja >= 500000 → True\n",
    "# Maka diskon = 0.2 (20%)\n",
    "# total_bayar = 600000 - (600000 * 0.2) = 480000\n"
   ]
  },
  {
   "cell_type": "markdown",
   "id": "fb2b52ae",
   "metadata": {},
   "source": [
    "### **7. Percabangan dengan Boolean**"
   ]
  },
  {
   "cell_type": "markdown",
   "id": "8a0b8e81",
   "metadata": {},
   "source": [
    "| **Aspek**                 | **Penjelasan**                                          |\n",
    "| ------------------------- | ------------------------------------------------------- |\n",
    "| 📘 **Teori**              | Menggabungkan dua atau lebih kondisi dengan `and`, `or` |\n",
    "| 👣 **Contoh Sehari-hari** | Jika kamu punya SIM **dan** motor → boleh bawa motor    |"
   ]
  },
  {
   "cell_type": "markdown",
   "id": "2c28a250",
   "metadata": {},
   "source": [
    "#### **AND ( && )**"
   ]
  },
  {
   "cell_type": "markdown",
   "id": "c53ddb1b",
   "metadata": {},
   "source": [
    "Penjelasan:\n",
    "\n",
    "True and True → hasilnya True\n",
    "\n",
    "Hanya akan bernilai True jika semua kondisi benar"
   ]
  },
  {
   "cell_type": "markdown",
   "id": "dbeb3037",
   "metadata": {},
   "source": [
    "- Contoh cek sim dan motor :"
   ]
  },
  {
   "cell_type": "code",
   "execution_count": 6,
   "id": "6827985b",
   "metadata": {},
   "outputs": [
    {
     "name": "stdout",
     "output_type": "stream",
     "text": [
      "Boleh bawa motor\n"
     ]
    }
   ],
   "source": [
    "punya_sim = True\n",
    "punya_motor = True\n",
    "\n",
    "if punya_sim and punya_motor:\n",
    "    print(\"Boleh bawa motor\")\n",
    "else:\n",
    "    print(\"Tidak boleh bawa motor\")\n"
   ]
  },
  {
   "cell_type": "markdown",
   "id": "7e350453",
   "metadata": {},
   "source": [
    "- Contoh sistem login dengan boolean :"
   ]
  },
  {
   "cell_type": "code",
   "execution_count": 55,
   "id": "21395755",
   "metadata": {},
   "outputs": [
    {
     "name": "stdout",
     "output_type": "stream",
     "text": [
      "Username dan Password salah.\n"
     ]
    }
   ],
   "source": [
    "username = input(\"Masukkan username: \")\n",
    "password = input(\"Masukkan password: \")\n",
    "\n",
    "if username == \"admin\" and password == \"123456\":\n",
    "    print(\"Login berhasil!\")\n",
    "elif username != \"admin\" and password == \"123456\":\n",
    "    print(\"Username salah.\")\n",
    "elif username == \"admin\" and password != \"123456\":\n",
    "    print(\"Password salah.\")\n",
    "else:\n",
    "    print(\"Username dan Password salah.\")\n",
    "\n",
    "\n",
    "# Penjelasan:\n",
    "\n",
    "# if     : keduanya benar\n",
    "# elif 1 : hanya username salah\n",
    "# elif 2 : hanya password salah\n",
    "# else : keduanya salah"
   ]
  },
  {
   "cell_type": "markdown",
   "id": "9bb1c58b",
   "metadata": {},
   "source": [
    "#### **OR ( | | )**"
   ]
  },
  {
   "cell_type": "markdown",
   "id": "d59635d9",
   "metadata": {},
   "source": [
    "Penjelasan:\n",
    "\n",
    "True or False → hasilnya True\n",
    "\n",
    "Akan bernilai True jika salah satu kondisi saja benar"
   ]
  },
  {
   "cell_type": "markdown",
   "id": "424c22d3",
   "metadata": {},
   "source": [
    "- Contoh cek kartu mahasiswa untuk masuk ruangan :"
   ]
  },
  {
   "cell_type": "code",
   "execution_count": 56,
   "id": "40e66d82",
   "metadata": {},
   "outputs": [
    {
     "name": "stdout",
     "output_type": "stream",
     "text": [
      "Akses ditolak\n"
     ]
    }
   ],
   "source": [
    "punya_kartu_mahasiswa = False\n",
    "punya_izin_dosen = False\n",
    "\n",
    "if punya_kartu_mahasiswa or punya_izin_dosen:\n",
    "    print(\"Silakan masuk ruangan\")\n",
    "else:\n",
    "    print(\"Akses ditolak\")\n",
    "\n",
    "# Penjelasan:\n",
    "# Jika pengguna memiliki kartu mahasiswa ATAU memiliki izin dosen,\n",
    "# maka diizinkan masuk ruangan.\n",
    "# Karena punya_izin_dosen bernilai True, maka kondisi terpenuhi.\n",
    "# Maka output: \"Silakan masuk ruangan\"\n"
   ]
  },
  {
   "cell_type": "code",
   "execution_count": 60,
   "id": "a2f9d7a2",
   "metadata": {},
   "outputs": [
    {
     "name": "stdout",
     "output_type": "stream",
     "text": [
      "Hari weekend\n"
     ]
    }
   ],
   "source": [
    "# Nama hari\n",
    "hari = \"Sabtu\"\n",
    "\n",
    "# Cek jenis hari\n",
    "if hari == \"Senin\" or hari == \"Selasa\" or hari == \"Rabu\" or hari == \"Kamis\" or hari == \"Jumat\":\n",
    "    print(\"Hari kerja\")\n",
    "elif hari == \"Sabtu\" or hari == \"Minggu\":\n",
    "    print(\"Hari weekend\")\n",
    "else:\n",
    "    print(\"Hari libur nasional atau tidak valid\")\n",
    "\n",
    "# Penjelasan:\n",
    "# Jika hari adalah salah satu dari Senin–Jumat → cetak \"Hari kerja\"\n",
    "# Jika hari adalah Sabtu atau Minggu → cetak \"Hari weekend\"\n",
    "# Jika bukan salah satu dari itu → dianggap hari libur nasional atau input tidak valid\n"
   ]
  },
  {
   "cell_type": "markdown",
   "id": "cf964830",
   "metadata": {},
   "source": [
    "#### **NOT ( ! )**"
   ]
  },
  {
   "cell_type": "markdown",
   "id": "3933f949",
   "metadata": {},
   "source": [
    " Penjelasan:\n",
    " \n",
    "not True → False\n",
    "\n",
    "not False → True\n",
    "\n",
    "Digunakan untuk membalik nilai boolean"
   ]
  },
  {
   "cell_type": "markdown",
   "id": "5d6f8fdf",
   "metadata": {},
   "source": [
    "- Contoh cek sudah terlambat atau belum :"
   ]
  },
  {
   "cell_type": "code",
   "execution_count": 61,
   "id": "fcfe4076",
   "metadata": {},
   "outputs": [
    {
     "name": "stdout",
     "output_type": "stream",
     "text": [
      "Tidak boleh ikut ujian\n"
     ]
    }
   ],
   "source": [
    "terlambat = True\n",
    "\n",
    "if not terlambat:\n",
    "    print(\"Boleh ikut ujian\")\n",
    "else:\n",
    "    print(\"Tidak boleh ikut ujian\")\n",
    "\n",
    "# Penjelasan:\n",
    "# Variabel 'terlambat' bernilai False (artinya tidak terlambat).\n",
    "# 'not terlambat' berarti membalik nilai menjadi True.\n",
    "# Karena kondisi menjadi True, maka output-nya: \"Boleh ikut ujian\".\n",
    "\n"
   ]
  },
  {
   "cell_type": "markdown",
   "id": "640d86c6",
   "metadata": {},
   "source": [
    "- Contoh verifikasi email :"
   ]
  },
  {
   "cell_type": "code",
   "execution_count": 63,
   "id": "1672083a",
   "metadata": {},
   "outputs": [
    {
     "name": "stdout",
     "output_type": "stream",
     "text": [
      "Akses ditolak\n"
     ]
    }
   ],
   "source": [
    "sudah_verifikasi_email = True\n",
    "diblokir = True\n",
    "\n",
    "if not diblokir and sudah_verifikasi_email:\n",
    "    print(\"Akses sistem diizinkan\")\n",
    "else:\n",
    "    print(\"Akses ditolak\")\n",
    "\n",
    "# Penjelasan:\n",
    "# not diblokir → not False → True\n",
    "# sudah_verifikasi_email → True\n",
    "# Maka: True and True → True → akses diizinkan\n"
   ]
  },
  {
   "cell_type": "markdown",
   "id": "0bca191e",
   "metadata": {},
   "source": [
    "- **Contoh Kombinasi** :"
   ]
  },
  {
   "cell_type": "code",
   "execution_count": 65,
   "id": "c9edaafc",
   "metadata": {},
   "outputs": [
    {
     "name": "stdout",
     "output_type": "stream",
     "text": [
      "Berbahaya! Bisa ditilang\n"
     ]
    }
   ],
   "source": [
    "# Inisialisasi variabel kondisi\n",
    "punya_sim = False            # Pengguna tidak punya SIM\n",
    "punya_motor = True           # Pengguna punya motor\n",
    "sedang_dikejar_polisi = True  # Pengguna tidak sedang dikejar polisi\n",
    "\n",
    "# Percabangan menggunakan kombinasi AND, OR, dan NOT\n",
    "if (punya_sim and punya_motor) or not sedang_dikejar_polisi:\n",
    "    print(\"Masih aman di jalan\")\n",
    "else:\n",
    "    print(\"Berbahaya! Bisa ditilang\")\n",
    "\n",
    "# Penjelasan:\n",
    "# (punya_sim and punya_motor) = (False and True) → False\n",
    "# not sedang_dikejar_polisi = not False → True\n",
    "# Maka kondisi: False or True → True\n",
    "# Karena kondisi if bernilai True, maka output: \"Masih aman di jalan\"\n",
    "\n",
    "\n"
   ]
  },
  {
   "cell_type": "markdown",
   "id": "ae73ef53",
   "metadata": {},
   "source": [
    "**********************************"
   ]
  },
  {
   "cell_type": "markdown",
   "id": "70b566f4",
   "metadata": {},
   "source": [
    "### Latihan Percabangan ! "
   ]
  },
  {
   "cell_type": "markdown",
   "id": "1be9a1e0",
   "metadata": {},
   "source": [
    "1. buatlah if statement untuk cek apakah suhu di atas 30 derajat. Jika ya, tampilkan :\n",
    "\n",
    "```\n",
    "Hari ini panas\n",
    "```\n",
    "\n",
    "2. buatlah if else statement untuk cek apakah Cek apakah umur ≥ 17.\n",
    "\n",
    "    Jika ya → \"Boleh buat KTP\"\n",
    "\n",
    "    Jika tidak → \"Belum cukup umur\"\n",
    "\n",
    "Output :\n",
    "```\n",
    "Belum cukup umur\n",
    "```\n",
    "```\n",
    "Boleh buat KTP\n",
    "```\n",
    "\n",
    "3. Tentukan grade berdasarkan nilai:\n",
    "\n",
    "    ≥90 → \"Grade A\"\n",
    "\n",
    "    ≥80 → \"Grade B\"\n",
    "\n",
    "    ≥70 → \"Grade C\"\n",
    "\n",
    "    <70 → \"Grade D\"\n",
    "\n",
    "Output :\n",
    "```\n",
    "Grade B\n",
    "```\n",
    "\n",
    "4. Buatlah Nested if Statement. Jika umur ≥ 17, lalu cek apakah sudah punya KTP:\n",
    "\n",
    "    Jika ya → \"Sudah bisa ikut pemilu\"\n",
    "\n",
    "    Jika tidak → \"Harus buat KTP dulu\"\n",
    "\n",
    "    Jika umur < 17 → \"Belum cukup umur\"\n",
    "\n",
    "output :\n",
    "\n",
    "```\n",
    "Harus buat KTP dulu\n",
    "```"
   ]
  },
  {
   "cell_type": "markdown",
   "id": "7ba28c63",
   "metadata": {},
   "source": [
    "5. Tentukan apakah angka adalah \"Genap\" atau \"Ganjil\" menggunakan ternary operator. output :\n",
    "\n",
    "```\n",
    "Genap\n",
    "```\n",
    "```\n",
    "Ganjil\n",
    "```"
   ]
  },
  {
   "cell_type": "markdown",
   "id": "98756218",
   "metadata": {},
   "source": [
    "6. Siswa hanya bisa ikut lomba jika sudah mendaftar dan membayar biaya. AND\n",
    "\n",
    "Tampilkan:\n",
    "```\n",
    "\"Pendaftaran berhasil\" jika kedua kondisi benar\n",
    "\n",
    "\"Syarat belum lengkap\" jika salah satu atau keduanya belum\n",
    "```\n",
    "\n",
    "7. Pengunjung boleh meminjam buku jika dia adalah: OR\n",
    "\n",
    "* Mahasiswa aktif atau\n",
    "\n",
    "* Memiliki kartu anggota perpustakaan\n",
    "\n",
    "Tampilkan:\n",
    "```\n",
    "\"Boleh pinjam buku\" jika salah satu kondisi terpenuhi\n",
    "\n",
    "\"Tidak boleh pinjam buku\" jika keduanya tidak terpenuhi\n",
    "```"
   ]
  },
  {
   "cell_type": "markdown",
   "id": "97ae04d9",
   "metadata": {},
   "source": [
    "******************************"
   ]
  },
  {
   "cell_type": "markdown",
   "id": "96452e89",
   "metadata": {},
   "source": [
    "### Pembahasan"
   ]
  },
  {
   "cell_type": "code",
   "execution_count": 1,
   "id": "ba96e532",
   "metadata": {},
   "outputs": [
    {
     "name": "stdout",
     "output_type": "stream",
     "text": [
      "Hari ini panas\n"
     ]
    }
   ],
   "source": [
    "# Nomor 1\n",
    "\n",
    "suhu = 32\n",
    "\n",
    "if suhu > 30:\n",
    "    print(\"Hari ini panas\")"
   ]
  },
  {
   "cell_type": "code",
   "execution_count": 3,
   "id": "45bd1c79",
   "metadata": {},
   "outputs": [
    {
     "name": "stdout",
     "output_type": "stream",
     "text": [
      "Boleh buat KTP\n"
     ]
    }
   ],
   "source": [
    "# Nomor 2\n",
    "umur = 18\n",
    "\n",
    "if umur >= 17:\n",
    "    print(\"Boleh buat KTP\")\n",
    "else:\n",
    "    print(\"Belum cukup umur\")\n"
   ]
  },
  {
   "cell_type": "code",
   "execution_count": 4,
   "id": "f07b8dd8",
   "metadata": {},
   "outputs": [
    {
     "name": "stdout",
     "output_type": "stream",
     "text": [
      "Grade B\n"
     ]
    }
   ],
   "source": [
    "# Nomor 3\n",
    "\n",
    "nilai = 85\n",
    "\n",
    "if nilai >= 90:\n",
    "    print(\"Grade A\")\n",
    "elif nilai >= 80:\n",
    "    print(\"Grade B\")\n",
    "elif nilai >= 70:\n",
    "    print(\"Grade C\")\n",
    "else:\n",
    "    print(\"Grade D\")\n"
   ]
  },
  {
   "cell_type": "code",
   "execution_count": 6,
   "id": "2e6d101f",
   "metadata": {},
   "outputs": [
    {
     "name": "stdout",
     "output_type": "stream",
     "text": [
      "Harus buat KTP dulu\n"
     ]
    }
   ],
   "source": [
    "# Nomor 4\n",
    "\n",
    "umur = 18\n",
    "punya_ktp = False\n",
    "\n",
    "if umur >= 17:\n",
    "    if punya_ktp:\n",
    "        print(\"Sudah bisa ikut pemilu\")\n",
    "    else:\n",
    "        print(\"Harus buat KTP dulu\")\n",
    "else:\n",
    "    print(\"Belum cukup umur\")"
   ]
  },
  {
   "cell_type": "code",
   "execution_count": null,
   "id": "28303afd",
   "metadata": {},
   "outputs": [],
   "source": [
    "# Nomor 5\n",
    "\n",
    "angka = 8\n",
    "jenis = \"Genap\" if angka % 2 == 0 else \"Ganjil\"\n",
    "print(jenis)\n"
   ]
  },
  {
   "cell_type": "code",
   "execution_count": null,
   "id": "2426ac9b",
   "metadata": {},
   "outputs": [],
   "source": [
    "# OR\n",
    "mahasiswa_aktif = False\n",
    "punya_kartu_anggota = True\n",
    "\n",
    "if mahasiswa_aktif or punya_kartu_anggota:\n",
    "    print(\"Boleh pinjam buku\")\n",
    "else:\n",
    "    print(\"Tidak boleh pinjam buku\")\n"
   ]
  },
  {
   "cell_type": "code",
   "execution_count": null,
   "id": "fb356f68",
   "metadata": {},
   "outputs": [],
   "source": [
    "# AND\n",
    "sudah_daftar = True\n",
    "sudah_bayar = True\n",
    "\n",
    "if sudah_daftar and sudah_bayar:\n",
    "    print(\"Pendaftaran berhasil\")\n",
    "else:\n",
    "    print(\"Syarat belum lengkap\")\n"
   ]
  }
 ],
 "metadata": {
  "kernelspec": {
   "display_name": "Python 3",
   "language": "python",
   "name": "python3"
  },
  "language_info": {
   "codemirror_mode": {
    "name": "ipython",
    "version": 3
   },
   "file_extension": ".py",
   "mimetype": "text/x-python",
   "name": "python",
   "nbconvert_exporter": "python",
   "pygments_lexer": "ipython3",
   "version": "3.10.6"
  }
 },
 "nbformat": 4,
 "nbformat_minor": 5
}
