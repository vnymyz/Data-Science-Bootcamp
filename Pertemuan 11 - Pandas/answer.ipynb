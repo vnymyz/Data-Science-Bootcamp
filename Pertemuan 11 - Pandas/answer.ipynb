{
 "cells": [
  {
   "cell_type": "code",
   "execution_count": null,
   "id": "9eeef3c6",
   "metadata": {},
   "outputs": [],
   "source": [
    "# 1. Tampilkan 10 data pertama\n",
    "df.head(10)\n",
    "\n",
    "# 2. Jumlah penumpang pria dan wanita\n",
    "df['Sex'].value_counts()\n",
    "\n",
    "# 3. Rata-rata umur penumpang\n",
    "df['Age'].mean()\n",
    "\n",
    "# 4. Kolom dengan missing value\n",
    "df.isnull().sum()\n",
    "\n",
    "# 5. Korelasi antara Fare dan Survived\n",
    "df[['Fare', 'Survived']].corr()\n"
   ]
  }
 ],
 "metadata": {
  "language_info": {
   "name": "python"
  }
 },
 "nbformat": 4,
 "nbformat_minor": 5
}
