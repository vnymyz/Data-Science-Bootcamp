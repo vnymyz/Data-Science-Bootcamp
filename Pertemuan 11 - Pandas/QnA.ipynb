{
 "cells": [
  {
   "cell_type": "markdown",
   "id": "f8821b10",
   "metadata": {},
   "source": [
    "## 1."
   ]
  },
  {
   "cell_type": "code",
   "execution_count": null,
   "id": "6a73dd8c",
   "metadata": {},
   "outputs": [],
   "source": [
    "# Mengubah Series menjadi DataFrame\n",
    "import pandas as pd\n",
    "\n",
    "s = pd.Series([10, 20, 30, 40, 50])\n",
    "\n",
    "# Ubah ke DataFrame\n",
    "df_s = pd.DataFrame(s, columns=[\"Angka\"])\n",
    "\n",
    "# Tampilkan\n",
    "df_s"
   ]
  },
  {
   "cell_type": "code",
   "execution_count": null,
   "id": "3aafa067",
   "metadata": {},
   "outputs": [],
   "source": [
    "# Mengubah Dataframe menjadi series\n",
    "import pandas as pd\n",
    "\n",
    "# DataFrame\n",
    "df = pd.DataFrame({\n",
    "    'Nama': ['Ari', 'Budi'],\n",
    "    'Umur': [25, 30]\n",
    "})\n",
    "\n",
    "# Ambil 1 kolom 'Umur' sebagai Series\n",
    "umur_series = df['Umur']\n",
    "\n",
    "print(umur_series)"
   ]
  },
  {
   "cell_type": "code",
   "execution_count": 4,
   "id": "a1dd67ea",
   "metadata": {},
   "outputs": [
    {
     "name": "stdout",
     "output_type": "stream",
     "text": [
      "0  Nama     Ari\n",
      "   Umur      25\n",
      "1  Nama    Budi\n",
      "   Umur      30\n",
      "dtype: object\n"
     ]
    }
   ],
   "source": [
    "# Mengubah Seluruh Dataframe menjadi Series\n",
    "import pandas as pd\n",
    "\n",
    "# DataFrame\n",
    "df = pd.DataFrame({\n",
    "    'Nama': ['Ari', 'Budi'],\n",
    "    'Umur': [25, 30]\n",
    "})\n",
    "\n",
    "# Mengubah seluruh DataFrame menjadi Series\n",
    "semua_series = df.stack()\n",
    "\n",
    "print(semua_series)"
   ]
  },
  {
   "cell_type": "code",
   "execution_count": null,
   "id": "af7d3789",
   "metadata": {},
   "outputs": [
    {
     "data": {
      "text/html": [
       "<div>\n",
       "<style scoped>\n",
       "    .dataframe tbody tr th:only-of-type {\n",
       "        vertical-align: middle;\n",
       "    }\n",
       "\n",
       "    .dataframe tbody tr th {\n",
       "        vertical-align: top;\n",
       "    }\n",
       "\n",
       "    .dataframe thead th {\n",
       "        text-align: right;\n",
       "    }\n",
       "</style>\n",
       "<table border=\"1\" class=\"dataframe\">\n",
       "  <thead>\n",
       "    <tr style=\"text-align: right;\">\n",
       "      <th></th>\n",
       "      <th>variable</th>\n",
       "      <th>value</th>\n",
       "    </tr>\n",
       "  </thead>\n",
       "  <tbody>\n",
       "    <tr>\n",
       "      <th>0</th>\n",
       "      <td>Nama</td>\n",
       "      <td>Ari</td>\n",
       "    </tr>\n",
       "    <tr>\n",
       "      <th>1</th>\n",
       "      <td>Nama</td>\n",
       "      <td>Budi</td>\n",
       "    </tr>\n",
       "    <tr>\n",
       "      <th>2</th>\n",
       "      <td>Umur</td>\n",
       "      <td>25</td>\n",
       "    </tr>\n",
       "    <tr>\n",
       "      <th>3</th>\n",
       "      <td>Umur</td>\n",
       "      <td>30</td>\n",
       "    </tr>\n",
       "  </tbody>\n",
       "</table>\n",
       "</div>"
      ],
      "text/plain": [
       "  variable value\n",
       "0     Nama   Ari\n",
       "1     Nama  Budi\n",
       "2     Umur    25\n",
       "3     Umur    30"
      ]
     },
     "execution_count": 6,
     "metadata": {},
     "output_type": "execute_result"
    }
   ],
   "source": [
    "# Pakai .melt() jika ingin lebih flat (opsional)\n",
    "df_melt = df.melt()\n",
    "df_melt"
   ]
  },
  {
   "cell_type": "code",
   "execution_count": 9,
   "id": "92aada6a",
   "metadata": {},
   "outputs": [
    {
     "data": {
      "text/plain": [
       "0     Ari\n",
       "1      25\n",
       "2    Budi\n",
       "3      30\n",
       "dtype: object"
      ]
     },
     "execution_count": 9,
     "metadata": {},
     "output_type": "execute_result"
    }
   ],
   "source": [
    "# Pakai .values.ravel() jika hanya mau isinya saja (tanpa label)\n",
    "semua_series = pd.Series(df.values.ravel())\n",
    "\n",
    "semua_series\n"
   ]
  },
  {
   "cell_type": "markdown",
   "id": "e6215511",
   "metadata": {},
   "source": [
    "| Tujuan                                    | Fungsi yang Dipakai            | Keterangan               |\n",
    "| ----------------------------------------- | ------------------------------ | ------------------------ |\n",
    "| Ingin Series lengkap (dengan label kolom) | `df.stack()`                   | Paling informatif        |\n",
    "| Ingin Series tanpa label                  | `pd.Series(df.values.ravel())` | Hanya isi data saja      |\n",
    "| Ingin format table vertikal               | `df.melt()`                    | Keluaran tetap DataFrame |\n"
   ]
  }
 ],
 "metadata": {
  "kernelspec": {
   "display_name": "Python 3",
   "language": "python",
   "name": "python3"
  },
  "language_info": {
   "codemirror_mode": {
    "name": "ipython",
    "version": 3
   },
   "file_extension": ".py",
   "mimetype": "text/x-python",
   "name": "python",
   "nbconvert_exporter": "python",
   "pygments_lexer": "ipython3",
   "version": "3.10.6"
  }
 },
 "nbformat": 4,
 "nbformat_minor": 5
}
