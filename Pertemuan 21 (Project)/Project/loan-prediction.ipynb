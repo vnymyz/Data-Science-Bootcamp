{
 "cells": [
  {
   "cell_type": "markdown",
   "id": "777e4805",
   "metadata": {},
   "source": [
    "## Loan Prediction Project Machine Learning"
   ]
  },
  {
   "cell_type": "markdown",
   "id": "76acfb93",
   "metadata": {},
   "source": [
    "---"
   ]
  },
  {
   "cell_type": "markdown",
   "id": "4ec05b10",
   "metadata": {},
   "source": [
    "### 1. Problem Statement\n",
    "\n",
    "1. Tujuan: memprediksi Loan_Status (Y/N) untuk aplikasi pinjaman berdasarkan fitur demografis & finansial.\n",
    "\n",
    "2. Output: model klasifikasi biner. iya = 1, tidak = 0. disetujui = 1, tidak disetujui = 0"
   ]
  },
  {
   "cell_type": "markdown",
   "id": "9d31a990",
   "metadata": {},
   "source": [
    "### 2. Data Collection\n",
    "1. Menggunakan dataset dari kaggle : https://www.kaggle.com/datasets/ninzaami/loan-predication?resource=download\n",
    "\n",
    "\n",
    "\n",
    "| **Nama Kolom**        | **Tipe Data**      | **Penjelasan**                                                                                                          |\n",
    "| --------------------- | ------------------ | ----------------------------------------------------------------------------------------------------------------------- |\n",
    "| **Loan_ID**           | Object/String      | ID unik untuk setiap pengajuan pinjaman (hanya sebagai identifier, tidak berpengaruh pada prediksi).                    |\n",
    "| **Gender**            | Kategori           | Jenis kelamin pemohon pinjaman. Nilai: `Male`, `Female`.                                                                |\n",
    "| **Married**           | Kategori           | Status pernikahan pemohon. Nilai: `Yes`, `No`.                                                                          |\n",
    "| **Dependents**        | Kategori → Numerik | Jumlah tanggungan pemohon (anak atau keluarga yang ditanggung). Bisa bernilai `0`, `1`, `2`, `3+`.                      |\n",
    "| **Education**         | Kategori           | Tingkat pendidikan pemohon. Nilai: `Graduate` (lulusan perguruan tinggi) atau `Not Graduate`.                           |\n",
    "| **Self_Employed**     | Kategori           | Status pekerjaan pemohon. Nilai: `Yes` (wiraswasta) atau `No` (pegawai).                                                |\n",
    "| **ApplicantIncome**   | Numerik (int)      | Pendapatan bulanan pemohon (dalam satuan moneter, biasanya ribuan).                                                     |\n",
    "| **CoapplicantIncome** | Numerik (float)    | Pendapatan tambahan dari pemohon bersama (misalnya pasangan/anggota keluarga yang ikut apply).                          |\n",
    "| **LoanAmount**        | Numerik (float)    | Jumlah pinjaman yang diajukan (biasanya dalam ribuan).                                                                  |\n",
    "| **Loan_Amount_Term**  | Numerik (float)    | Lama pinjaman dalam hitungan bulan (misalnya 360 = 30 tahun).                                                           |\n",
    "| **Credit_History**    | Numerik (float)    | Riwayat kredit pemohon. Nilai: `1.0` (riwayat kredit baik), `0.0` (riwayat kredit buruk), atau kosong (tidak ada data). |\n",
    "| **Property_Area**     | Kategori           | Lokasi properti yang akan dibiayai. Nilai: `Urban`, `Semiurban`, `Rural`.                                               |\n",
    "| **Loan_Status**       | Kategori (Target)  | Status persetujuan pinjaman. Nilai: `Y` (disetujui), `N` (tidak disetujui).                                             |\n"
   ]
  },
  {
   "cell_type": "markdown",
   "id": "41fba6dc",
   "metadata": {},
   "source": [
    "---"
   ]
  },
  {
   "cell_type": "markdown",
   "id": "e8e57192",
   "metadata": {},
   "source": [
    "### Loan Prediction Machine Learning Implemented"
   ]
  },
  {
   "cell_type": "markdown",
   "id": "0ad4f0d5",
   "metadata": {},
   "source": [
    "### 1. Data Preparation"
   ]
  },
  {
   "cell_type": "code",
   "execution_count": 53,
   "id": "c7a7179f",
   "metadata": {},
   "outputs": [],
   "source": [
    "# 1. Import library\n",
    "# buat load data table\n",
    "import pandas as pd\n",
    "# data visualisasi\n",
    "import seaborn as sns\n",
    "import matplotlib.pyplot as plt\n",
    "# untuk data preprocessing dan splitting\n",
    "from sklearn.model_selection import train_test_split\n",
    "from sklearn.preprocessing import LabelEncoder\n",
    "from sklearn.metrics import accuracy_score\n",
    "from sklearn.metrics import classification_report\n",
    "from sklearn.metrics import confusion_matrix\n",
    "\n",
    "# Models machine learning\n",
    "from sklearn.linear_model import LogisticRegression\n",
    "from sklearn.tree import DecisionTreeClassifier\n",
    "from sklearn.ensemble import RandomForestClassifier\n",
    "from sklearn.neighbors import KNeighborsClassifier\n",
    "from sklearn.svm import SVC\n",
    "\n",
    "# 2. Load dataset\n",
    "df = pd.read_csv(\"loan.csv\")"
   ]
  },
  {
   "cell_type": "code",
   "execution_count": 54,
   "id": "e756be30",
   "metadata": {},
   "outputs": [
    {
     "name": "stdout",
     "output_type": "stream",
     "text": [
      "    Loan_ID Gender Married Dependents     Education Self_Employed  \\\n",
      "0  LP001002   Male      No          0      Graduate            No   \n",
      "1  LP001003   Male     Yes          1      Graduate            No   \n",
      "2  LP001005   Male     Yes          0      Graduate           Yes   \n",
      "3  LP001006   Male     Yes          0  Not Graduate            No   \n",
      "4  LP001008   Male      No          0      Graduate            No   \n",
      "\n",
      "   ApplicantIncome  CoapplicantIncome  LoanAmount  Loan_Amount_Term  \\\n",
      "0             5849                0.0         NaN             360.0   \n",
      "1             4583             1508.0       128.0             360.0   \n",
      "2             3000                0.0        66.0             360.0   \n",
      "3             2583             2358.0       120.0             360.0   \n",
      "4             6000                0.0       141.0             360.0   \n",
      "\n",
      "   Credit_History Property_Area Loan_Status  \n",
      "0             1.0         Urban           Y  \n",
      "1             1.0         Rural           N  \n",
      "2             1.0         Urban           Y  \n",
      "3             1.0         Urban           Y  \n",
      "4             1.0         Urban           Y  \n"
     ]
    }
   ],
   "source": [
    "# EDA (Exploratory Data Analysis)\n",
    "# Lihat 5 data teratas\n",
    "print(df.head())"
   ]
  },
  {
   "cell_type": "code",
   "execution_count": 55,
   "id": "f5b83069",
   "metadata": {},
   "outputs": [
    {
     "name": "stdout",
     "output_type": "stream",
     "text": [
      "<class 'pandas.core.frame.DataFrame'>\n",
      "RangeIndex: 614 entries, 0 to 613\n",
      "Data columns (total 13 columns):\n",
      " #   Column             Non-Null Count  Dtype  \n",
      "---  ------             --------------  -----  \n",
      " 0   Loan_ID            614 non-null    object \n",
      " 1   Gender             601 non-null    object \n",
      " 2   Married            611 non-null    object \n",
      " 3   Dependents         599 non-null    object \n",
      " 4   Education          614 non-null    object \n",
      " 5   Self_Employed      582 non-null    object \n",
      " 6   ApplicantIncome    614 non-null    int64  \n",
      " 7   CoapplicantIncome  614 non-null    float64\n",
      " 8   LoanAmount         592 non-null    float64\n",
      " 9   Loan_Amount_Term   600 non-null    float64\n",
      " 10  Credit_History     564 non-null    float64\n",
      " 11  Property_Area      614 non-null    object \n",
      " 12  Loan_Status        614 non-null    object \n",
      "dtypes: float64(4), int64(1), object(8)\n",
      "memory usage: 62.5+ KB\n",
      "None\n"
     ]
    }
   ],
   "source": [
    "# Info dataset\n",
    "print(df.info())"
   ]
  },
  {
   "cell_type": "code",
   "execution_count": 56,
   "id": "e3948130",
   "metadata": {},
   "outputs": [
    {
     "name": "stdout",
     "output_type": "stream",
     "text": [
      "       ApplicantIncome  CoapplicantIncome  LoanAmount  Loan_Amount_Term  \\\n",
      "count       614.000000         614.000000  592.000000         600.00000   \n",
      "mean       5403.459283        1621.245798  146.412162         342.00000   \n",
      "std        6109.041673        2926.248369   85.587325          65.12041   \n",
      "min         150.000000           0.000000    9.000000          12.00000   \n",
      "25%        2877.500000           0.000000  100.000000         360.00000   \n",
      "50%        3812.500000        1188.500000  128.000000         360.00000   \n",
      "75%        5795.000000        2297.250000  168.000000         360.00000   \n",
      "max       81000.000000       41667.000000  700.000000         480.00000   \n",
      "\n",
      "       Credit_History  \n",
      "count      564.000000  \n",
      "mean         0.842199  \n",
      "std          0.364878  \n",
      "min          0.000000  \n",
      "25%          1.000000  \n",
      "50%          1.000000  \n",
      "75%          1.000000  \n",
      "max          1.000000  \n"
     ]
    }
   ],
   "source": [
    "# Statistik deskriptif\n",
    "print(df.describe())"
   ]
  },
  {
   "cell_type": "code",
   "execution_count": 57,
   "id": "c8f42927",
   "metadata": {},
   "outputs": [
    {
     "name": "stdout",
     "output_type": "stream",
     "text": [
      "Loan_ID               0\n",
      "Gender               13\n",
      "Married               3\n",
      "Dependents           15\n",
      "Education             0\n",
      "Self_Employed        32\n",
      "ApplicantIncome       0\n",
      "CoapplicantIncome     0\n",
      "LoanAmount           22\n",
      "Loan_Amount_Term     14\n",
      "Credit_History       50\n",
      "Property_Area         0\n",
      "Loan_Status           0\n",
      "dtype: int64\n"
     ]
    }
   ],
   "source": [
    "# Cek missing values\n",
    "print(df.isnull().sum())"
   ]
  },
  {
   "cell_type": "markdown",
   "id": "1de241d2",
   "metadata": {},
   "source": [
    "### 2. EDA atau Data Visualisasi"
   ]
  },
  {
   "cell_type": "code",
   "execution_count": 58,
   "id": "6bebb48b",
   "metadata": {},
   "outputs": [
    {
     "data": {
      "image/png": "[encoded data removed]",
      "text/plain": [
       "<Figure size 640x480 with 1 Axes>"
      ]
     },
     "metadata": {},
     "output_type": "display_data"
    }
   ],
   "source": [
    "# DATA VISUALISASI\n",
    "sns.countplot(x=\"Loan_Status\", data=df)\n",
    "plt.title(\"Distribusi Loan Status\")\n",
    "plt.show()"
   ]
  },
  {
   "cell_type": "code",
   "execution_count": 59,
   "id": "f786b45a",
   "metadata": {},
   "outputs": [
    {
     "data": {
      "image/png": "[encoded data removed]",
      "text/plain": [
       "<Figure size 640x480 with 1 Axes>"
      ]
     },
     "metadata": {},
     "output_type": "display_data"
    }
   ],
   "source": [
    "# Distribusi Gender\n",
    "sns.countplot(x=\"Gender\", data=df)\n",
    "plt.title(\"Distribusi Gender\")\n",
    "plt.show()"
   ]
  },
  {
   "cell_type": "code",
   "execution_count": 60,
   "id": "565ebe6b",
   "metadata": {},
   "outputs": [
    {
     "data": {
      "image/png": "[encoded data removed]",
      "text/plain": [
       "<Figure size 800x500 with 2 Axes>"
      ]
     },
     "metadata": {},
     "output_type": "display_data"
    }
   ],
   "source": [
    "# Korelasi antar fitur numerik\n",
    "plt.figure(figsize=(8,5))\n",
    "sns.heatmap(df.corr(numeric_only=True), annot=True, cmap=\"Blues\")\n",
    "plt.title(\"Heatmap Korelasi Fitur\")\n",
    "plt.show()"
   ]
  },
  {
   "cell_type": "markdown",
   "id": "bf449ba2",
   "metadata": {},
   "source": [
    "Dari EDA ini kita bisa tau:\n",
    "\n",
    "- Banyak data missing (misal di kolom Gender, LoanAmount, dll).\n",
    "\n",
    "- Loan disetujui (Y) lebih banyak daripada ditolak (N).\n",
    "\n",
    "- ApplicantIncome & LoanAmount punya pengaruh terhadap approval."
   ]
  },
  {
   "cell_type": "markdown",
   "id": "a1512de2",
   "metadata": {},
   "source": [
    "### 3. Data Cleaning + Feature Engineering"
   ]
  },
  {
   "cell_type": "code",
   "execution_count": 61,
   "id": "9cccb632",
   "metadata": {},
   "outputs": [
    {
     "name": "stderr",
     "output_type": "stream",
     "text": [
      "C:\\Users\\Vanya\\AppData\\Local\\Temp\\ipykernel_20148\\201538261.py:2: FutureWarning: A value is trying to be set on a copy of a DataFrame or Series through chained assignment using an inplace method.\n",
      "The behavior will change in pandas 3.0. This inplace method will never work because the intermediate object on which we are setting values always behaves as a copy.\n",
      "\n",
      "For example, when doing 'df[col].method(value, inplace=True)', try using 'df.method({col: value}, inplace=True)' or df[col] = df[col].method(value) instead, to perform the operation inplace on the original object.\n",
      "\n",
      "\n",
      "  df[\"LoanAmount\"].fillna(df[\"LoanAmount\"].median(), inplace=True)\n",
      "C:\\Users\\Vanya\\AppData\\Local\\Temp\\ipykernel_20148\\201538261.py:3: FutureWarning: A value is trying to be set on a copy of a DataFrame or Series through chained assignment using an inplace method.\n",
      "The behavior will change in pandas 3.0. This inplace method will never work because the intermediate object on which we are setting values always behaves as a copy.\n",
      "\n",
      "For example, when doing 'df[col].method(value, inplace=True)', try using 'df.method({col: value}, inplace=True)' or df[col] = df[col].method(value) instead, to perform the operation inplace on the original object.\n",
      "\n",
      "\n",
      "  df[\"Credit_History\"].fillna(df[\"Credit_History\"].mode()[0], inplace=True)\n",
      "C:\\Users\\Vanya\\AppData\\Local\\Temp\\ipykernel_20148\\201538261.py:4: FutureWarning: DataFrame.fillna with 'method' is deprecated and will raise in a future version. Use obj.ffill() or obj.bfill() instead.\n",
      "  df.fillna(method=\"ffill\", inplace=True)\n"
     ]
    }
   ],
   "source": [
    "# Isi missing values\n",
    "df[\"LoanAmount\"].fillna(df[\"LoanAmount\"].median(), inplace=True)\n",
    "df[\"Credit_History\"].fillna(df[\"Credit_History\"].mode()[0], inplace=True)\n",
    "df.fillna(method=\"ffill\", inplace=True)"
   ]
  },
  {
   "cell_type": "code",
   "execution_count": 62,
   "id": "e6c0b93f",
   "metadata": {},
   "outputs": [],
   "source": [
    "# Buat fitur baru\n",
    "# Feature Engineering\n",
    "# total income itu gabungan dari kolom orang yg minjem duit + orang yg ngikut minjem duit juga\n",
    "df[\"Total_Income\"] = df[\"ApplicantIncome\"] + df[\"CoapplicantIncome\"]\n",
    "# gabungan dari total income si peminjam = berapa yang dipinjam + total gajian si peminjam(diri sendiri / keluarga/temen)\n",
    "df[\"Loan_Income_Ratio\"] = df[\"LoanAmount\"] / df[\"Total_Income\"]\n",
    "\n",
    "df[\"Income_Level\"] = pd.cut(\n",
    "    df[\"Total_Income\"],\n",
    "    # disini dia bikin kategori gtu \n",
    "    # 0 low, 2500 medium, 6000 high, 10k very high\n",
    "    bins=[0, 2500, 6000, 10000, df[\"Total_Income\"].max()],\n",
    "    labels=[\"Low\", \"Medium\", \"High\", \"Very High\"]\n",
    ")"
   ]
  },
  {
   "cell_type": "code",
   "execution_count": 63,
   "id": "6b853acc",
   "metadata": {},
   "outputs": [],
   "source": [
    "# Encode Income_Level agar tidak string\n",
    "# kita mengubah le_income menjadi vektor atau numerik\n",
    "le_income = LabelEncoder()\n",
    "df[\"Income_Level\"] = le_income.fit_transform(df[\"Income_Level\"].astype(str))"
   ]
  },
  {
   "cell_type": "code",
   "execution_count": 64,
   "id": "2b904b77",
   "metadata": {},
   "outputs": [
    {
     "name": "stdout",
     "output_type": "stream",
     "text": [
      "\n",
      "Dataset setelah feature engineering:\n",
      "   Loan_ID  Gender  Married  Dependents  Education  Self_Employed  \\\n",
      "0        0       1        0           0          0              0   \n",
      "1        1       1        1           1          0              0   \n",
      "2        2       1        1           0          0              1   \n",
      "3        3       1        1           0          1              0   \n",
      "4        4       1        0           0          0              0   \n",
      "\n",
      "   ApplicantIncome  CoapplicantIncome  LoanAmount  Loan_Amount_Term  \\\n",
      "0             5849                0.0       128.0             360.0   \n",
      "1             4583             1508.0       128.0             360.0   \n",
      "2             3000                0.0        66.0             360.0   \n",
      "3             2583             2358.0       120.0             360.0   \n",
      "4             6000                0.0       141.0             360.0   \n",
      "\n",
      "   Credit_History  Property_Area  Loan_Status  Total_Income  \\\n",
      "0             1.0              2            1        5849.0   \n",
      "1             1.0              0            0        6091.0   \n",
      "2             1.0              2            1        3000.0   \n",
      "3             1.0              2            1        4941.0   \n",
      "4             1.0              2            1        6000.0   \n",
      "\n",
      "   Loan_Income_Ratio  Income_Level  \n",
      "0           0.021884             2  \n",
      "1           0.021015             0  \n",
      "2           0.022000             2  \n",
      "3           0.024287             2  \n",
      "4           0.023500             2  \n"
     ]
    }
   ],
   "source": [
    "# Encode kategori\n",
    "# string jadi numerik\n",
    "le = LabelEncoder()\n",
    "for col in df.select_dtypes(include=[\"object\"]).columns:\n",
    "    df[col] = le.fit_transform(df[col])\n",
    "\n",
    "print(\"\\nDataset setelah feature engineering:\")\n",
    "print(df.head())"
   ]
  },
  {
   "cell_type": "markdown",
   "id": "e450440e",
   "metadata": {},
   "source": [
    "### 4. Data Splitting"
   ]
  },
  {
   "cell_type": "code",
   "execution_count": 65,
   "id": "2539ad76",
   "metadata": {},
   "outputs": [],
   "source": [
    "# X sebagai input feature dan y sebagai output atau hasil prediksinya\n",
    "# kita harus memastikan mana X untuk input feature dan y untuk output atau target\n",
    "X = df.drop(columns=[\"Loan_ID\", \"Loan_Status\"])\n",
    "y = df[\"Loan_Status\"]"
   ]
  },
  {
   "cell_type": "code",
   "execution_count": 66,
   "id": "b80a50ea",
   "metadata": {},
   "outputs": [],
   "source": [
    "# DATA SPLITTING 80% Data Train : 20% Data test\n",
    "X_train, X_test, y_train, y_test = train_test_split(\n",
    "    X, y, test_size=0.2, random_state=42\n",
    ")"
   ]
  },
  {
   "cell_type": "code",
   "execution_count": 67,
   "id": "a04534ad",
   "metadata": {},
   "outputs": [
    {
     "name": "stdout",
     "output_type": "stream",
     "text": [
      "\n",
      "Jumlah data train: (491, 14)\n",
      "Jumlah data test: (123, 14)\n"
     ]
    }
   ],
   "source": [
    "print(\"\\nJumlah data train:\", X_train.shape)\n",
    "print(\"Jumlah data test:\", X_test.shape)"
   ]
  },
  {
   "cell_type": "markdown",
   "id": "338e9440",
   "metadata": {},
   "source": [
    "### 5. Modelling dan Evaluasi Model"
   ]
  },
  {
   "cell_type": "code",
   "execution_count": 68,
   "id": "7b3a77df",
   "metadata": {},
   "outputs": [
    {
     "name": "stderr",
     "output_type": "stream",
     "text": [
      "d:\\laragon\\bin\\python\\python-3.13\\Lib\\site-packages\\sklearn\\linear_model\\_logistic.py:473: ConvergenceWarning: lbfgs failed to converge after 1000 iteration(s) (status=1):\n",
      "STOP: TOTAL NO. OF ITERATIONS REACHED LIMIT\n",
      "\n",
      "Increase the number of iterations to improve the convergence (max_iter=1000).\n",
      "You might also want to scale the data as shown in:\n",
      "    https://scikit-learn.org/stable/modules/preprocessing.html\n",
      "Please also refer to the documentation for alternative solver options:\n",
      "    https://scikit-learn.org/stable/modules/linear_model.html#logistic-regression\n",
      "  n_iter_i = _check_optimize_result(\n"
     ]
    },
    {
     "name": "stdout",
     "output_type": "stream",
     "text": [
      "\n",
      "=== Logistic Regression ===\n",
      "Accuracy: 0.7886178861788617\n",
      "Classification Report:\n",
      "               precision    recall  f1-score   support\n",
      "\n",
      "           0       0.95      0.42      0.58        43\n",
      "           1       0.76      0.99      0.86        80\n",
      "\n",
      "    accuracy                           0.79       123\n",
      "   macro avg       0.85      0.70      0.72       123\n",
      "weighted avg       0.83      0.79      0.76       123\n",
      "\n",
      "\n",
      "=== Decision Tree ===\n",
      "Accuracy: 0.6991869918699187\n",
      "Classification Report:\n",
      "               precision    recall  f1-score   support\n",
      "\n",
      "           0       0.58      0.49      0.53        43\n",
      "           1       0.75      0.81      0.78        80\n",
      "\n",
      "    accuracy                           0.70       123\n",
      "   macro avg       0.67      0.65      0.66       123\n",
      "weighted avg       0.69      0.70      0.69       123\n",
      "\n",
      "\n",
      "=== Random Forest ===\n",
      "Accuracy: 0.7967479674796748\n",
      "Classification Report:\n",
      "               precision    recall  f1-score   support\n",
      "\n",
      "           0       0.82      0.53      0.65        43\n",
      "           1       0.79      0.94      0.86        80\n",
      "\n",
      "    accuracy                           0.80       123\n",
      "   macro avg       0.81      0.74      0.75       123\n",
      "weighted avg       0.80      0.80      0.78       123\n",
      "\n",
      "\n",
      "=== SVM ===\n",
      "Accuracy: 0.6504065040650406\n",
      "Classification Report:\n",
      "               precision    recall  f1-score   support\n",
      "\n",
      "           0       0.00      0.00      0.00        43\n",
      "           1       0.65      1.00      0.79        80\n",
      "\n",
      "    accuracy                           0.65       123\n",
      "   macro avg       0.33      0.50      0.39       123\n",
      "weighted avg       0.42      0.65      0.51       123\n",
      "\n"
     ]
    },
    {
     "name": "stderr",
     "output_type": "stream",
     "text": [
      "d:\\laragon\\bin\\python\\python-3.13\\Lib\\site-packages\\sklearn\\metrics\\_classification.py:1731: UndefinedMetricWarning: Precision is ill-defined and being set to 0.0 in labels with no predicted samples. Use `zero_division` parameter to control this behavior.\n",
      "  _warn_prf(average, modifier, f\"{metric.capitalize()} is\", result.shape[0])\n",
      "d:\\laragon\\bin\\python\\python-3.13\\Lib\\site-packages\\sklearn\\metrics\\_classification.py:1731: UndefinedMetricWarning: Precision is ill-defined and being set to 0.0 in labels with no predicted samples. Use `zero_division` parameter to control this behavior.\n",
      "  _warn_prf(average, modifier, f\"{metric.capitalize()} is\", result.shape[0])\n",
      "d:\\laragon\\bin\\python\\python-3.13\\Lib\\site-packages\\sklearn\\metrics\\_classification.py:1731: UndefinedMetricWarning: Precision is ill-defined and being set to 0.0 in labels with no predicted samples. Use `zero_division` parameter to control this behavior.\n",
      "  _warn_prf(average, modifier, f\"{metric.capitalize()} is\", result.shape[0])\n"
     ]
    }
   ],
   "source": [
    "models = {\n",
    "    \"Logistic Regression\": LogisticRegression(max_iter=1000),\n",
    "    \"Decision Tree\": DecisionTreeClassifier(),\n",
    "    \"Random Forest\": RandomForestClassifier(),\n",
    "    # support vector machine\n",
    "    \"SVM\": SVC()\n",
    "}\n",
    "\n",
    "results = {}\n",
    "\n",
    "for name, model in models.items():\n",
    "    model.fit(X_train, y_train)\n",
    "    y_pred = model.predict(X_test)\n",
    "    acc = accuracy_score(y_test, y_pred)\n",
    "    results[name] = acc\n",
    "    print(f\"\\n=== {name} ===\")\n",
    "    print(\"Accuracy:\", acc)\n",
    "    print(\"Classification Report:\\n\", classification_report(y_test, y_pred))"
   ]
  },
  {
   "cell_type": "code",
   "execution_count": 69,
   "id": "eb1c63bb",
   "metadata": {},
   "outputs": [
    {
     "name": "stderr",
     "output_type": "stream",
     "text": [
      "d:\\laragon\\bin\\python\\python-3.13\\Lib\\site-packages\\sklearn\\linear_model\\_logistic.py:473: ConvergenceWarning: lbfgs failed to converge after 1000 iteration(s) (status=1):\n",
      "STOP: TOTAL NO. OF ITERATIONS REACHED LIMIT\n",
      "\n",
      "Increase the number of iterations to improve the convergence (max_iter=1000).\n",
      "You might also want to scale the data as shown in:\n",
      "    https://scikit-learn.org/stable/modules/preprocessing.html\n",
      "Please also refer to the documentation for alternative solver options:\n",
      "    https://scikit-learn.org/stable/modules/linear_model.html#logistic-regression\n",
      "  n_iter_i = _check_optimize_result(\n"
     ]
    },
    {
     "data": {
      "text/html": [
       "<div>\n",
       "<style scoped>\n",
       "    .dataframe tbody tr th:only-of-type {\n",
       "        vertical-align: middle;\n",
       "    }\n",
       "\n",
       "    .dataframe tbody tr th {\n",
       "        vertical-align: top;\n",
       "    }\n",
       "\n",
       "    .dataframe thead th {\n",
       "        text-align: right;\n",
       "    }\n",
       "</style>\n",
       "<table border=\"1\" class=\"dataframe\">\n",
       "  <thead>\n",
       "    <tr style=\"text-align: right;\">\n",
       "      <th></th>\n",
       "      <th>Model</th>\n",
       "      <th>Accuracy</th>\n",
       "      <th>Precision</th>\n",
       "      <th>Recall</th>\n",
       "      <th>F1-Score</th>\n",
       "    </tr>\n",
       "  </thead>\n",
       "  <tbody>\n",
       "    <tr>\n",
       "      <th>0</th>\n",
       "      <td>Logistic Regression</td>\n",
       "      <td>0.788618</td>\n",
       "      <td>0.759615</td>\n",
       "      <td>0.9875</td>\n",
       "      <td>0.858696</td>\n",
       "    </tr>\n",
       "    <tr>\n",
       "      <th>1</th>\n",
       "      <td>Decision Tree</td>\n",
       "      <td>0.691057</td>\n",
       "      <td>0.762500</td>\n",
       "      <td>0.7625</td>\n",
       "      <td>0.762500</td>\n",
       "    </tr>\n",
       "    <tr>\n",
       "      <th>2</th>\n",
       "      <td>Random Forest</td>\n",
       "      <td>0.788618</td>\n",
       "      <td>0.781250</td>\n",
       "      <td>0.9375</td>\n",
       "      <td>0.852273</td>\n",
       "    </tr>\n",
       "    <tr>\n",
       "      <th>3</th>\n",
       "      <td>SVM</td>\n",
       "      <td>0.650407</td>\n",
       "      <td>0.650407</td>\n",
       "      <td>1.0000</td>\n",
       "      <td>0.788177</td>\n",
       "    </tr>\n",
       "  </tbody>\n",
       "</table>\n",
       "</div>"
      ],
      "text/plain": [
       "                 Model  Accuracy  Precision  Recall  F1-Score\n",
       "0  Logistic Regression  0.788618   0.759615  0.9875  0.858696\n",
       "1        Decision Tree  0.691057   0.762500  0.7625  0.762500\n",
       "2        Random Forest  0.788618   0.781250  0.9375  0.852273\n",
       "3                  SVM  0.650407   0.650407  1.0000  0.788177"
      ]
     },
     "execution_count": 69,
     "metadata": {},
     "output_type": "execute_result"
    }
   ],
   "source": [
    "from sklearn.metrics import precision_score, recall_score, f1_score\n",
    "\n",
    "# Simpan hasil evaluasi dalam list\n",
    "eval_results = []\n",
    "\n",
    "for name, model in models.items():\n",
    "    model.fit(X_train, y_train)\n",
    "    y_pred = model.predict(X_test)\n",
    "\n",
    "    acc = accuracy_score(y_test, y_pred)\n",
    "    prec = precision_score(y_test, y_pred, zero_division=0)\n",
    "    rec = recall_score(y_test, y_pred, zero_division=0)\n",
    "    f1 = f1_score(y_test, y_pred, zero_division=0)\n",
    "\n",
    "    eval_results.append([name, acc, prec, rec, f1])\n",
    "\n",
    "# Buat DataFrame hasil evaluasi\n",
    "results_df = pd.DataFrame(eval_results, columns=[\"Model\", \"Accuracy\", \"Precision\", \"Recall\", \"F1-Score\"])\n",
    "\n",
    "results_df"
   ]
  },
  {
   "cell_type": "code",
   "execution_count": 70,
   "id": "f5539ba9",
   "metadata": {},
   "outputs": [
    {
     "data": {
      "image/png": "[encoded data removed]",
      "text/plain": [
       "<Figure size 640x480 with 1 Axes>"
      ]
     },
     "metadata": {},
     "output_type": "display_data"
    }
   ],
   "source": [
    "# Evaluasi Model dalam bentuk barplot\n",
    "plt.bar(results.keys(), results.values())\n",
    "plt.title(\"Perbandingan Akurasi Model\")\n",
    "plt.ylabel(\"Accuracy\")\n",
    "plt.show()"
   ]
  },
  {
   "cell_type": "code",
   "execution_count": null,
   "id": "1194fe5f",
   "metadata": {},
   "outputs": [
    {
     "name": "stderr",
     "output_type": "stream",
     "text": [
      "d:\\laragon\\bin\\python\\python-3.13\\Lib\\site-packages\\sklearn\\linear_model\\_logistic.py:473: ConvergenceWarning: lbfgs failed to converge after 1000 iteration(s) (status=1):\n",
      "STOP: TOTAL NO. OF ITERATIONS REACHED LIMIT\n",
      "\n",
      "Increase the number of iterations to improve the convergence (max_iter=1000).\n",
      "You might also want to scale the data as shown in:\n",
      "    https://scikit-learn.org/stable/modules/preprocessing.html\n",
      "Please also refer to the documentation for alternative solver options:\n",
      "    https://scikit-learn.org/stable/modules/linear_model.html#logistic-regression\n",
      "  n_iter_i = _check_optimize_result(\n"
     ]
    },
    {
     "data": {
      "image/png": "[encoded data removed]",
      "text/plain": [
       "<Figure size 500x400 with 1 Axes>"
      ]
     },
     "metadata": {},
     "output_type": "display_data"
    },
    {
     "data": {
      "image/png": "[encoded data removed]",
      "text/plain": [
       "<Figure size 500x400 with 1 Axes>"
      ]
     },
     "metadata": {},
     "output_type": "display_data"
    },
    {
     "data": {
      "image/png": "[encoded data removed]",
      "text/plain": [
       "<Figure size 500x400 with 1 Axes>"
      ]
     },
     "metadata": {},
     "output_type": "display_data"
    },
    {
     "data": {
      "image/png": "[encoded data removed]",
      "text/plain": [
       "<Figure size 500x400 with 1 Axes>"
      ]
     },
     "metadata": {},
     "output_type": "display_data"
    }
   ],
   "source": [
    "# Confusion Matrix untuk tiap model\n",
    "for name, model in models.items():\n",
    "    model.fit(X_train, y_train)\n",
    "    y_pred = model.predict(X_test)\n",
    "\n",
    "# y_test itu target yg asli, y_pred target yang diprediksi kan\n",
    "    cm = confusion_matrix(y_test, y_pred)\n",
    "\n",
    "    plt.figure(figsize=(5,4))\n",
    "    sns.heatmap(cm, annot=True, fmt=\"d\", cmap=\"Blues\", cbar=False)\n",
    "    plt.title(f\"Confusion Matrix - {name}\")\n",
    "    plt.xlabel(\"Predicted\")\n",
    "    plt.ylabel(\"Actual\")\n",
    "    plt.show()\n"
   ]
  },
  {
   "cell_type": "markdown",
   "id": "5d49f384",
   "metadata": {},
   "source": [
    "### Implementasi Data baru menggunakan Random Forest untuk Loan Prediction"
   ]
  },
  {
   "cell_type": "code",
   "execution_count": null,
   "id": "b2dd34a0",
   "metadata": {},
   "outputs": [],
   "source": [
    "new_data = pd.DataFrame({\n",
    "    'ApplicantIncome': [5000],\n",
    "    'CoapplicantIncome': [2000],\n",
    "    'LoanAmount': [150],\n",
    "    'Loan_Amount_Term': [360], #isi bulan kek 5 bulan 10 bulan\n",
    "    'Credit_History': [1],\n",
    "    'Gender': [1],         # 1 = Male, 0 = Female\n",
    "    'Married': [1],        # 1 = Married\n",
    "    'Dependents': [0],     # 0 dependents\n",
    "    'Education': [0],      # 0 = Graduate\n",
    "    'Self_Employed': [0],  # 0 = No\n",
    "    'Property_Area': [2]   # 2 = Urban\n",
    "})"
   ]
  },
  {
   "cell_type": "code",
   "execution_count": 73,
   "id": "387b78d8",
   "metadata": {},
   "outputs": [],
   "source": [
    "# === Feature Engineering sama kayak training ===\n",
    "new_data['Total_Income'] = new_data['ApplicantIncome'] + new_data['CoapplicantIncome']\n",
    "new_data['Loan_Income_Ratio'] = new_data['LoanAmount'] / new_data['Total_Income']\n",
    "new_data['Income_Level'] = pd.cut(\n",
    "    new_data['Total_Income'],\n",
    "    bins=[0,2500,4000,6000,81000],\n",
    "    labels=['Low','Average','High','Very High']\n",
    ")"
   ]
  },
  {
   "cell_type": "code",
   "execution_count": 74,
   "id": "2ec514a6",
   "metadata": {},
   "outputs": [],
   "source": [
    "# Pastikan sama urutan kolomnya kayak X_train\n",
    "new_data = pd.get_dummies(new_data)\n",
    "new_data = new_data.reindex(columns=X_train.columns, fill_value=0)"
   ]
  },
  {
   "cell_type": "code",
   "execution_count": 75,
   "id": "d506ff96",
   "metadata": {},
   "outputs": [
    {
     "name": "stdout",
     "output_type": "stream",
     "text": [
      "Hasil Prediksi: Disetujui\n"
     ]
    }
   ],
   "source": [
    "# Prediksi\n",
    "prediction = models[\"Random Forest\"].predict(new_data)\n",
    "print(\"Hasil Prediksi:\", \"Disetujui\" if prediction[0] == 1 else \"Ditolak\")"
   ]
  },
  {
   "cell_type": "code",
   "execution_count": 76,
   "id": "8040b91a",
   "metadata": {},
   "outputs": [
    {
     "name": "stdout",
     "output_type": "stream",
     "text": [
      "Probabilitas Ditolak: 0.1\n",
      "Probabilitas Disetujui: 0.9\n"
     ]
    }
   ],
   "source": [
    "# Probabilitas\n",
    "proba = models[\"Random Forest\"].predict_proba(new_data)\n",
    "print(\"Probabilitas Ditolak:\", proba[0][0])\n",
    "print(\"Probabilitas Disetujui:\", proba[0][1])"
   ]
  }
 ],
 "metadata": {
  "kernelspec": {
   "display_name": "Python 3",
   "language": "python",
   "name": "python3"
  },
  "language_info": {
   "codemirror_mode": {
    "name": "ipython",
    "version": 3
   },
   "file_extension": ".py",
   "mimetype": "text/x-python",
   "name": "python",
   "nbconvert_exporter": "python",
   "pygments_lexer": "ipython3",
   "version": "3.13.0"
  }
 },
 "nbformat": 4,
 "nbformat_minor": 5
}
