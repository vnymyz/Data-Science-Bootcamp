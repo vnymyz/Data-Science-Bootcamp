{
 "cells": [
  {
   "cell_type": "markdown",
   "id": "f0366aee",
   "metadata": {},
   "source": [
    "# Pertemuan 21 (Project)\n",
    "---\n",
    "\n",
    "\n"
   ]
  },
  {
   "cell_type": "markdown",
   "id": "a445e251",
   "metadata": {},
   "source": [
    "### Kita Nostalgia sedikit\n",
    "\n",
    "- Misal kita memiliki dataset berobat pasien atau Patients Medical Records.\n",
    "\n",
    "- terus kita implementasikan machine learning untuk data science.\n",
    "\n",
    "- Pada saat kita ingin membuat suatu project data science dari data tersebut. Problem nya itu apa ?\n",
    "\n",
    "-  Problem : Apakah Pasien tersebut sakit atau tidak ?\n",
    "\n",
    "### Berikut juga terdapat beberapa package dasar untuk data science\n",
    "\n",
    "- Numpy : Mathematical calculations/Formulas/manipulations.\n",
    "\n",
    "- Pandas : Membaca files/manipulasi data/graphs/analisis statistik.\n",
    "\n",
    "- Matplotlib/Seaborn : Sebagai data visualisasi / Graphs (figures)\n",
    "\n",
    "- Sklearn : Machine Learning (Decision Tree/Random Forest/Logistic Regression)"
   ]
  },
  {
   "cell_type": "markdown",
   "id": "8ef5a201",
   "metadata": {},
   "source": [
    "---\n",
    "## How to Build Your First Data Science Project\n",
    "---"
   ]
  },
  {
   "cell_type": "markdown",
   "id": "71fc5f43",
   "metadata": {},
   "source": [
    "## 1. Menentukan Tujuan (Problem Statement)\n",
    "\n",
    "- Tentukan masalah yang mau dipecahkan.\n",
    "\n",
    "- Tuliskan tujuan & pertanyaan yang ingin dijawab.\n",
    "\n",
    "- Contoh: \"Apa faktor yang mempengaruhi keselamatan penumpang Titanic?\" atau \"Bagaimana memprediksi harga rumah?\"\n",
    "\n",
    "- Contoh: \"Prediksi apakah penumpang Titanic selamat berdasarkan data demografi.\"\n",
    "\n",
    "Output: Pernyataan masalah yang jelas + tujuan project.\n",
    "\n",
    "## 2. Mengumpulkan Data (Data Collection)\n",
    "\n",
    "Ambil dataset dari sumber:\n",
    "\n",
    "- Open source (Kaggle, UCI ML Repo, GitHub)\n",
    "\n",
    "- API publik (Twitter API, TMDb API)\n",
    "\n",
    "- Web scraping\n",
    "\n",
    "- Database internal perusahaan\n",
    "\n",
    "- Pastikan data cukup relevan & lengkap untuk menjawab pertanyaan.\n",
    "\n",
    "Output: File data mentah (CSV, JSON, SQL, dll).\n",
    "\n",
    "## 3. Exploratory Data Analysis (EDA)\n",
    "\n",
    "Tujuan: Memahami isi dataset sebelum modeling.\n",
    "\n",
    "Langkah:\n",
    "\n",
    "- Lihat struktur data (.head(), .info(), .describe()).\n",
    "\n",
    "- Cek missing values & Analisis tipe data numerik, kategorikal, teks, waktu.\n",
    "\n",
    "- Visualisasi distribusi & hubungan antar fitur.\n",
    "\n",
    "- Temukan insight awal (storytelling) atau Temukan pola, tren, atau anomali.\n",
    "\n",
    "Output: Notebook berisi insight awal + visualisasi.\n",
    "\n",
    "## 4. Data Cleaning (Data Preprocessing)\n",
    "\n",
    "Menangani masalah pada data:\n",
    "\n",
    "- Tangani missing values (imputasi median/mode atau hapus).\n",
    "\n",
    "- Outlier → identifikasi & putuskan mau di-handle atau tidak.\n",
    "\n",
    "- Data tidak konsisten → standarisasi format.\n",
    "\n",
    "- Konversi tipe data jika salah.\n",
    "\n",
    "- Perbaiki format & tipe data.\n",
    "\n",
    "Output: Dataset bersih yang siap diolah.\n",
    "\n",
    "## 5. Feature Engineering\n",
    "\n",
    "Buat fitur baru dari data yang ada:\n",
    "\n",
    "- Ekstraksi informasi dari teks/tanggal.\n",
    "\n",
    "- Kombinasi fitur (misalnya FamilySize dari jumlah saudara + orang tua di Titanic).\n",
    "\n",
    "- Encoding variabel kategorikal (One-Hot, Label Encoding).\n",
    "\n",
    "- Normalisasi atau standarisasi data numerik.\n",
    "\n",
    "Output: Dataset yang sudah kaya fitur & siap masuk ke model.\n",
    "\n",
    "## 6. Data Splitting\n",
    "\n",
    "Bagi dataset menjadi:\n",
    "\n",
    "- Training set → untuk melatih model.\n",
    "\n",
    "- Testing set → untuk mengevaluasi model.\n",
    "\n",
    "Umumnya 80:20 atau 70:30.\n",
    "\n",
    "## 7. Modelling (Machine Learning)\n",
    "\n",
    "1. Pilih algoritma sesuai jenis masalah:\n",
    "\n",
    "- Classification: Logistic Regression, Random Forest, KNN, SVM.\n",
    "\n",
    "- Regression: Linear Regression, Random Forest Regressor, XGBoost.\n",
    "\n",
    "- Clustering: K-Means, DBSCAN.\n",
    "\n",
    "2. Split data → train & test :\n",
    "\n",
    "- Latih model dengan data training.\n",
    "\n",
    "- Lakukan prediksi pada data testing.\n",
    "\n",
    "3. Latih model dan catat hasil performa.\n",
    "\n",
    "Output: Model machine learning yang bisa melakukan prediksi.\n",
    "\n",
    "## 8. Model Evaluation (Machine Learning)\n",
    "\n",
    "1. Gunakan metrik sesuai jenis masalah:\n",
    "\n",
    "- Classification → Accuracy, Precision, Recall, F1-Score, ROC-AUC.\n",
    "\n",
    "- Regression → RMSE, MAE, R².\n",
    "\n",
    "- Clustering → Silhouette Score.\n",
    "\n",
    "2. Bandingkan model & pilih yang terbaik.\n",
    "\n",
    "Output: Laporan performa model.\n",
    "\n",
    "## 9. Hyperparameter Tuning \n",
    "\n",
    "- Optimalkan model terbaik dengan GridSearchCV atau RandomizedSearchCV.\n",
    "\n",
    "- Catat peningkatan performa.\n",
    "\n",
    "## 10. Dokumentasi & Publikasi\n",
    "\n",
    "Buat dokumentasi lengkap di GitHub:\n",
    "\n",
    "- Problem statement\n",
    "\n",
    "- Dataset & sumber\n",
    "\n",
    "- EDA & insight\n",
    "\n",
    "- Modeling & evaluasi\n",
    "\n",
    "- Cara menjalankan\n",
    "\n",
    "Output: Project siap dilihat oleh user lain.\n",
    "\n"
   ]
  },
  {
   "cell_type": "markdown",
   "id": "c01f1e35",
   "metadata": {},
   "source": [
    "## Kesimpulan\n",
    "\n",
    "- Problem Statement → Data → EDA → Cleaning → Feature Engineering → Modeling → Evaluasi → Dokumentasi.\n",
    "\n",
    "- Machine Learning itu masuk di tahap Modeling dan lanjut ke Evaluasi.\n",
    "\n",
    "Inti dari Roadmap nya :\n",
    "\n",
    "- Data Preparation → (Step 1–5)\n",
    "\n",
    "- Machine Learning → (Step 6–9)\n",
    "\n",
    "- Documentation → (last step)\n",
    "\n",
    "\n",
    "\n",
    "---"
   ]
  },
  {
   "cell_type": "markdown",
   "id": "53a73e2d",
   "metadata": {},
   "source": [
    "## Contoh ide ide Machine Learning Project\n",
    "\n",
    "---\n",
    "\n",
    "### 1. Titanic Survival Prediction\n",
    "\n",
    "- Cerita: Menjelaskan faktor yang memengaruhi keselamatan penumpang Titanic.\n",
    "\n",
    "- Skill: Data cleaning, imputasi missing values, visualisasi hubungan antar fitur, klasifikasi (Logistic Regression, Random Forest, KNN).\n",
    "\n",
    "- Output: survival rate & model prediksi.\n",
    "\n",
    "### 2. House Price Prediction\n",
    "\n",
    "- Cerita: Prediksi harga rumah berdasarkan lokasi, luas, dan fitur lainnya.\n",
    "\n",
    "- Skill: Feature engineering, regression, evaluasi model (RMSE, MAE), hyperparameter tuning.\n",
    "\n",
    "- Output: Web app (Streamlit) di mana user bisa input data rumah → prediksi harga.\n",
    "\n",
    "### 3. Netflix Content Analysis\n",
    "\n",
    "- Cerita: Menjelaskan tren film & serial Netflix berdasarkan negara, genre, tahun rilis.\n",
    "\n",
    "- Skill: EDA, visualisasi time series, word cloud (NLP sederhana), clustering genre.\n",
    "\n",
    "- Output: Dashboard interaktif tren Netflix.\n",
    "\n",
    "### 4. Mall Customer Segmentation\n",
    "\n",
    "- Cerita: Membagi pelanggan berdasarkan kebiasaan belanja.\n",
    "\n",
    "- Skill: Clustering (K-Means, DBSCAN), PCA untuk visualisasi, insight bisnis.\n",
    "\n",
    "- Output: Laporan segmentasi + rekomendasi strategi marketing."
   ]
  },
  {
   "cell_type": "markdown",
   "id": "d8d11dfc",
   "metadata": {},
   "source": [
    "---"
   ]
  },
  {
   "cell_type": "markdown",
   "id": "d4a282fa",
   "metadata": {},
   "source": [
    "## Project Machine Learning\n",
    "\n",
    "Disini saya akan membuat contoh project machine learning menggunakan dataset titanic. tentukan :\n",
    "\n",
    "1. Problem Statement\n",
    "\n",
    "2. Data Collection\n",
    "\n",
    "3. EDA\n",
    "\n",
    "4. Cleaning\n",
    "\n",
    "5. Feature Engineering\n",
    "\n",
    "6. Modeling\n",
    "\n",
    "7. Evaluasi\n",
    "\n",
    "8. Hyperparameter Tuning"
   ]
  },
  {
   "cell_type": "markdown",
   "id": "fca12e19",
   "metadata": {},
   "source": [
    "#### 1. Problem Statement\n",
    "Tujuan dari project ini adalah memprediksi apakah penumpang Titanic selamat atau tidak berdasarkan informasi demografi dan tiket.\n",
    "Variabel target:\n",
    "\n",
    "Survived → 0 = Tidak Selamat, 1 = Selamat."
   ]
  },
  {
   "cell_type": "code",
   "execution_count": null,
   "id": "c12aa371",
   "metadata": {},
   "outputs": [],
   "source": [
    "# 1. Problem Statement\n",
    "\n",
    "# Tujuan:\n",
    "# Memprediksi apakah penumpang Titanic selamat atau tidak berdasarkan data demografi dan tiket.\n",
    "# Target: kolom \"Survived\" (0 = Tidak Selamat, 1 = Selamat)"
   ]
  },
  {
   "cell_type": "markdown",
   "id": "9602f2e1",
   "metadata": {},
   "source": [
    "#### 2. Data Collection"
   ]
  },
  {
   "cell_type": "markdown",
   "id": "08552815",
   "metadata": {},
   "source": [
    "Dataset diambil dari Kaggle Titanic Dataset\n",
    ".\n",
    "Terdiri dari dua file:\n",
    "\n",
    "- train.csv → digunakan untuk melatih model.\n",
    "\n",
    "- test.csv → digunakan untuk prediksi final."
   ]
  },
  {
   "cell_type": "code",
   "execution_count": 24,
   "id": "6000abae",
   "metadata": {},
   "outputs": [
    {
     "name": "stdout",
     "output_type": "stream",
     "text": [
      "   PassengerId  Survived  Pclass  \\\n",
      "0            1         0       3   \n",
      "1            2         1       1   \n",
      "2            3         1       3   \n",
      "3            4         1       1   \n",
      "4            5         0       3   \n",
      "\n",
      "                                                Name     Sex   Age  SibSp  \\\n",
      "0                            Braund, Mr. Owen Harris    male  22.0      1   \n",
      "1  Cumings, Mrs. John Bradley (Florence Briggs Th...  female  38.0      1   \n",
      "2                             Heikkinen, Miss. Laina  female  26.0      0   \n",
      "3       Futrelle, Mrs. Jacques Heath (Lily May Peel)  female  35.0      1   \n",
      "4                           Allen, Mr. William Henry    male  35.0      0   \n",
      "\n",
      "   Parch            Ticket     Fare Cabin Embarked  \n",
      "0      0         A/5 21171   7.2500   NaN        S  \n",
      "1      0          PC 17599  71.2833   C85        C  \n",
      "2      0  STON/O2. 3101282   7.9250   NaN        S  \n",
      "3      0            113803  53.1000  C123        S  \n",
      "4      0            373450   8.0500   NaN        S  \n"
     ]
    }
   ],
   "source": [
    "# 2. Import Library & Data Collection\n",
    "import pandas as pd\n",
    "import numpy as np\n",
    "import matplotlib.pyplot as plt\n",
    "import seaborn as sns\n",
    "\n",
    "from sklearn.model_selection import train_test_split, GridSearchCV\n",
    "from sklearn.preprocessing import LabelEncoder, StandardScaler\n",
    "from sklearn.metrics import accuracy_score, classification_report, confusion_matrix\n",
    "from sklearn.ensemble import RandomForestClassifier\n",
    "from sklearn.linear_model import LogisticRegression\n",
    "from sklearn.neighbors import KNeighborsClassifier\n",
    "\n",
    "# Load dataset\n",
    "train = pd.read_csv(\"train.csv\")\n",
    "test = pd.read_csv(\"test.csv\")\n",
    "\n",
    "# Melihat 5 data teratas\n",
    "print(train.head())"
   ]
  },
  {
   "cell_type": "code",
   "execution_count": 25,
   "id": "204cc7c6",
   "metadata": {},
   "outputs": [
    {
     "name": "stdout",
     "output_type": "stream",
     "text": [
      "   PassengerId  Pclass                                          Name     Sex  \\\n",
      "0          892       3                              Kelly, Mr. James    male   \n",
      "1          893       3              Wilkes, Mrs. James (Ellen Needs)  female   \n",
      "2          894       2                     Myles, Mr. Thomas Francis    male   \n",
      "3          895       3                              Wirz, Mr. Albert    male   \n",
      "4          896       3  Hirvonen, Mrs. Alexander (Helga E Lindqvist)  female   \n",
      "\n",
      "    Age  SibSp  Parch   Ticket     Fare Cabin Embarked  \n",
      "0  34.5      0      0   330911   7.8292   NaN        Q  \n",
      "1  47.0      1      0   363272   7.0000   NaN        S  \n",
      "2  62.0      0      0   240276   9.6875   NaN        Q  \n",
      "3  27.0      0      0   315154   8.6625   NaN        S  \n",
      "4  22.0      1      1  3101298  12.2875   NaN        S  \n"
     ]
    }
   ],
   "source": [
    "print(test.head())"
   ]
  },
  {
   "cell_type": "markdown",
   "id": "26e240b0",
   "metadata": {},
   "source": [
    "#### 3. Exploratory Data Analysis (EDA)\n",
    "\n",
    "Dilakukan analisis awal untuk memahami karakteristik data:\n",
    "\n",
    "- Distribusi Survived: Lebih banyak penumpang yang tidak selamat.\n",
    "\n",
    "- Gender: Penumpang perempuan memiliki peluang selamat lebih tinggi.\n",
    "\n",
    "- Pclass: Kelas pertama memiliki peluang selamat lebih besar dibanding kelas 3."
   ]
  },
  {
   "cell_type": "code",
   "execution_count": 26,
   "id": "8a8b53c9",
   "metadata": {},
   "outputs": [
    {
     "name": "stdout",
     "output_type": "stream",
     "text": [
      "<class 'pandas.core.frame.DataFrame'>\n",
      "RangeIndex: 891 entries, 0 to 890\n",
      "Data columns (total 12 columns):\n",
      " #   Column       Non-Null Count  Dtype  \n",
      "---  ------       --------------  -----  \n",
      " 0   PassengerId  891 non-null    int64  \n",
      " 1   Survived     891 non-null    int64  \n",
      " 2   Pclass       891 non-null    int64  \n",
      " 3   Name         891 non-null    object \n",
      " 4   Sex          891 non-null    object \n",
      " 5   Age          714 non-null    float64\n",
      " 6   SibSp        891 non-null    int64  \n",
      " 7   Parch        891 non-null    int64  \n",
      " 8   Ticket       891 non-null    object \n",
      " 9   Fare         891 non-null    float64\n",
      " 10  Cabin        204 non-null    object \n",
      " 11  Embarked     889 non-null    object \n",
      "dtypes: float64(2), int64(5), object(5)\n",
      "memory usage: 83.7+ KB\n",
      "None\n"
     ]
    }
   ],
   "source": [
    "print(train.info())"
   ]
  },
  {
   "cell_type": "code",
   "execution_count": 4,
   "id": "0e696320",
   "metadata": {},
   "outputs": [
    {
     "name": "stdout",
     "output_type": "stream",
     "text": [
      "       PassengerId    Survived      Pclass         Age       SibSp  \\\n",
      "count   891.000000  891.000000  891.000000  714.000000  891.000000   \n",
      "mean    446.000000    0.383838    2.308642   29.699118    0.523008   \n",
      "std     257.353842    0.486592    0.836071   14.526497    1.102743   \n",
      "min       1.000000    0.000000    1.000000    0.420000    0.000000   \n",
      "25%     223.500000    0.000000    2.000000   20.125000    0.000000   \n",
      "50%     446.000000    0.000000    3.000000   28.000000    0.000000   \n",
      "75%     668.500000    1.000000    3.000000   38.000000    1.000000   \n",
      "max     891.000000    1.000000    3.000000   80.000000    8.000000   \n",
      "\n",
      "            Parch        Fare  \n",
      "count  891.000000  891.000000  \n",
      "mean     0.381594   32.204208  \n",
      "std      0.806057   49.693429  \n",
      "min      0.000000    0.000000  \n",
      "25%      0.000000    7.910400  \n",
      "50%      0.000000   14.454200  \n",
      "75%      0.000000   31.000000  \n",
      "max      6.000000  512.329200  \n"
     ]
    }
   ],
   "source": [
    "print(train.describe())"
   ]
  },
  {
   "cell_type": "code",
   "execution_count": 5,
   "id": "fdcbf93d",
   "metadata": {},
   "outputs": [
    {
     "data": {
      "image/png": "[encoded data removed]",
      "text/plain": [
       "<Figure size 640x480 with 1 Axes>"
      ]
     },
     "metadata": {},
     "output_type": "display_data"
    }
   ],
   "source": [
    "# Distribusi target\n",
    "sns.countplot(x='Survived', data=train)\n",
    "plt.title(\"Distribusi Survival\")\n",
    "plt.show()"
   ]
  },
  {
   "cell_type": "code",
   "execution_count": 6,
   "id": "06eea458",
   "metadata": {},
   "outputs": [
    {
     "data": {
      "image/png": "[encoded data removed]",
      "text/plain": [
       "<Figure size 640x480 with 1 Axes>"
      ]
     },
     "metadata": {},
     "output_type": "display_data"
    }
   ],
   "source": [
    "# Survival rate berdasarkan Gender\n",
    "sns.countplot(x='Sex', hue='Survived', data=train)\n",
    "plt.title(\"Survival berdasarkan Gender\")\n",
    "plt.show()"
   ]
  },
  {
   "cell_type": "code",
   "execution_count": 7,
   "id": "923340f5",
   "metadata": {},
   "outputs": [
    {
     "data": {
      "image/png": "[encoded data removed]",
      "text/plain": [
       "<Figure size 640x480 with 1 Axes>"
      ]
     },
     "metadata": {},
     "output_type": "display_data"
    }
   ],
   "source": [
    "# Survival rate berdasarkan Pclass\n",
    "sns.countplot(x='Pclass', hue='Survived', data=train)\n",
    "plt.title(\"Survival berdasarkan Kelas Penumpang\")\n",
    "plt.show()"
   ]
  },
  {
   "cell_type": "markdown",
   "id": "c6a6bade",
   "metadata": {},
   "source": [
    "#### 4. Data Cleaning"
   ]
  },
  {
   "cell_type": "markdown",
   "id": "111a4697",
   "metadata": {},
   "source": [
    "Missing Values:\n",
    "\n",
    "- Age diisi dengan median berdasarkan kombinasi Pclass & Sex.\n",
    "\n",
    "- Embarked diisi dengan mode.\n",
    "\n",
    "- Fare diisi dengan median.\n",
    "\n",
    "Kolom yang dibuang: PassengerId, Name, Ticket, Cabin (tidak relevan atau terlalu banyak missing values)."
   ]
  },
  {
   "cell_type": "code",
   "execution_count": 27,
   "id": "dc40f1db",
   "metadata": {},
   "outputs": [
    {
     "name": "stdout",
     "output_type": "stream",
     "text": [
      "PassengerId      0\n",
      "Survived         0\n",
      "Pclass           0\n",
      "Name             0\n",
      "Sex              0\n",
      "Age            177\n",
      "SibSp            0\n",
      "Parch            0\n",
      "Ticket           0\n",
      "Fare             0\n",
      "Cabin          687\n",
      "Embarked         2\n",
      "dtype: int64\n"
     ]
    }
   ],
   "source": [
    "# Cek missing values\n",
    "print(train.isnull().sum())"
   ]
  },
  {
   "cell_type": "code",
   "execution_count": 28,
   "id": "3b0431a1",
   "metadata": {},
   "outputs": [],
   "source": [
    "# Imputasi Age dengan median per Pclass & Sex\n",
    "train['Age'] = train.groupby(['Pclass', 'Sex'])['Age'].transform(lambda x: x.fillna(x.mean()))\n",
    "test['Age'] = test.groupby(['Pclass', 'Sex'])['Age'].transform(lambda x: x.fillna(x.mean()))\n"
   ]
  },
  {
   "cell_type": "code",
   "execution_count": 29,
   "id": "9f8c9f6f",
   "metadata": {},
   "outputs": [
    {
     "name": "stdout",
     "output_type": "stream",
     "text": [
      "   Pclass     Sex        Age\n",
      "0       3    male  22.000000\n",
      "1       1  female  38.000000\n",
      "2       3  female  26.000000\n",
      "3       1  female  35.000000\n",
      "4       3    male  35.000000\n",
      "5       3    male  26.507589\n",
      "6       1    male  54.000000\n",
      "7       3    male   2.000000\n",
      "8       3  female  27.000000\n",
      "9       2  female  14.000000\n",
      "   Pclass     Sex   Age\n",
      "0       3    male  34.5\n",
      "1       3  female  47.0\n",
      "2       2    male  62.0\n",
      "3       3    male  27.0\n",
      "4       3  female  22.0\n",
      "5       3    male  14.0\n",
      "6       3  female  30.0\n",
      "7       2    male  26.0\n",
      "8       3  female  18.0\n",
      "9       3    male  21.0\n"
     ]
    }
   ],
   "source": [
    "# menampilkan setelah melakukan imputasi\n",
    "print(train[['Pclass', 'Sex', 'Age']].head(10))\n",
    "print(test[['Pclass', 'Sex', 'Age']].head(10))"
   ]
  },
  {
   "cell_type": "code",
   "execution_count": 31,
   "id": "6365c697",
   "metadata": {},
   "outputs": [],
   "source": [
    "# Isi Embarked dengan mode\n",
    "train['Embarked'] = train['Embarked'].fillna(train['Embarked'].mode()[0])\n",
    "test['Fare'] = test['Fare'].fillna(test['Fare'].mean())"
   ]
  },
  {
   "cell_type": "markdown",
   "id": "2ce703b5",
   "metadata": {},
   "source": [
    "#### 5. Feature Engineering\n",
    "\n",
    "Menambahkan fitur baru:\n",
    "\n",
    "- FamilySize = SibSp + Parch + 1.\n",
    "\n",
    "- Title: Diambil dari kolom Name, lalu kategori jarang digabung jadi Rare.\n",
    "\n",
    "- Melakukan encoding kolom kategorikal (Sex, Embarked, Title) menggunakan LabelEncoder dengan perlakuan khusus agar aman jika ada kategori baru di test set."
   ]
  },
  {
   "cell_type": "code",
   "execution_count": 32,
   "id": "5d57068b",
   "metadata": {},
   "outputs": [],
   "source": [
    "# Buat kolom FamilySize\n",
    "train['FamilySize'] = train['SibSp'] + train['Parch'] + 1\n",
    "test['FamilySize'] = test['SibSp'] + test['Parch'] + 1"
   ]
  },
  {
   "cell_type": "code",
   "execution_count": 33,
   "id": "13176799",
   "metadata": {},
   "outputs": [
    {
     "name": "stdout",
     "output_type": "stream",
     "text": [
      "['Mr' 'Mrs' 'Miss' 'Master' 'Don' 'Rev' 'Dr' 'Mme' 'Ms' 'Major' 'Lady'\n",
      " 'Sir' 'Mlle' 'Col' 'Capt' 'Countess' 'Jonkheer']\n",
      "['Mr' 'Mrs' 'Miss' 'Master' 'Ms' 'Col' 'Rev' 'Dr' 'Dona']\n"
     ]
    }
   ],
   "source": [
    "# Ambil Title dari Name\n",
    "train['Title'] = train['Name'].str.extract(r' ([A-Za-z]+)\\.', expand=False)\n",
    "test['Title'] = test['Name'].str.extract(r' ([A-Za-z]+)\\.', expand=False)\n",
    "\n",
    "print(train['Title'].unique())\n",
    "print(test['Title'].unique())"
   ]
  },
  {
   "cell_type": "code",
   "execution_count": 34,
   "id": "36937271",
   "metadata": {},
   "outputs": [],
   "source": [
    "# Encode Title jarang menjadi kategori \"Rare\"\n",
    "rare_titles = train['Title'].value_counts()[train['Title'].value_counts() < 10].index\n",
    "train['Title'] = train['Title'].replace(rare_titles, 'Rare')\n",
    "test['Title'] = test['Title'].replace(rare_titles, 'Rare')"
   ]
  },
  {
   "cell_type": "code",
   "execution_count": 35,
   "id": "aaeefe6e",
   "metadata": {},
   "outputs": [],
   "source": [
    "# Encoding kolom kategorikal\n",
    "label_cols = ['Sex', 'Embarked', 'Title']\n",
    "encoders = {}  # simpan encoder per kolom\n",
    "\n",
    "for col in label_cols:\n",
    "    le = LabelEncoder()\n",
    "    train[col] = le.fit_transform(train[col])  # fit di train\n",
    "    # transform test hanya untuk kategori yang sudah dikenali\n",
    "    test[col] = test[col].map(lambda s: le.transform([s])[0] if s in le.classes_ else -1)\n",
    "    encoders[col] = le"
   ]
  },
  {
   "cell_type": "code",
   "execution_count": 36,
   "id": "384a3a95",
   "metadata": {},
   "outputs": [],
   "source": [
    "# Drop kolom yang tidak diperlukan\n",
    "drop_cols = ['PassengerId', 'Name', 'Ticket', 'Cabin']\n",
    "train = train.drop(columns=drop_cols)\n",
    "test_data = test.drop(columns=drop_cols)"
   ]
  },
  {
   "cell_type": "markdown",
   "id": "b5385c8c",
   "metadata": {},
   "source": [
    "#### 6. Data Splitting\n",
    "\n",
    "- Dataset dibagi menjadi train dan validation (80%:20%).\n",
    "\n",
    "- Standarisasi fitur numerik menggunakan StandardScaler."
   ]
  },
  {
   "cell_type": "code",
   "execution_count": 37,
   "id": "ac352a93",
   "metadata": {},
   "outputs": [],
   "source": [
    "X = train.drop('Survived', axis=1)\n",
    "y = train['Survived']"
   ]
  },
  {
   "cell_type": "code",
   "execution_count": 38,
   "id": "f478c6ae",
   "metadata": {},
   "outputs": [],
   "source": [
    "# buat model train dan test\n",
    "X_train, X_test, y_train, y_test = train_test_split(X, y, test_size=0.2, random_state=42)"
   ]
  },
  {
   "cell_type": "code",
   "execution_count": 39,
   "id": "6345baba",
   "metadata": {},
   "outputs": [],
   "source": [
    "# Standarisasi fitur numerik\n",
    "scaler = StandardScaler()\n",
    "X_train = scaler.fit_transform(X_train)\n",
    "X_test = scaler.transform(X_test)\n",
    "test_data_scaled = scaler.transform(test_data)"
   ]
  },
  {
   "cell_type": "markdown",
   "id": "cfea552e",
   "metadata": {},
   "source": [
    "#### 7. Modelling (Machine Learning)\n",
    "Tiga model machine learning diuji:\n",
    "\n",
    "- Logistic Regression\n",
    "\n",
    "- Random Forest Classifier\n",
    "\n",
    "- K-Nearest Neighbors (KNN)\n",
    "\n",
    "| Model               | Akurasi |\n",
    "| ------------------- | ------- |\n",
    "| Logistic Regression | \\~81%   |\n",
    "| Random Forest       | \\~83%   |\n",
    "| KNN                 | \\~80%   |\n",
    "\n",
    "Random Forest memiliki akurasi tertinggi di antara ketiga model."
   ]
  },
  {
   "cell_type": "code",
   "execution_count": 40,
   "id": "d6f3cdd5",
   "metadata": {},
   "outputs": [
    {
     "name": "stdout",
     "output_type": "stream",
     "text": [
      "=== Logistic Regression ===\n",
      "Accuracy: 0.8212290502793296\n",
      "              precision    recall  f1-score   support\n",
      "\n",
      "           0       0.83      0.88      0.85       105\n",
      "           1       0.81      0.74      0.77        74\n",
      "\n",
      "    accuracy                           0.82       179\n",
      "   macro avg       0.82      0.81      0.81       179\n",
      "weighted avg       0.82      0.82      0.82       179\n",
      "\n",
      "=== Random Forest ===\n",
      "Accuracy: 0.8435754189944135\n",
      "              precision    recall  f1-score   support\n",
      "\n",
      "           0       0.87      0.86      0.87       105\n",
      "           1       0.80      0.82      0.81        74\n",
      "\n",
      "    accuracy                           0.84       179\n",
      "   macro avg       0.84      0.84      0.84       179\n",
      "weighted avg       0.84      0.84      0.84       179\n",
      "\n",
      "=== KNN ===\n",
      "Accuracy: 0.8156424581005587\n",
      "              precision    recall  f1-score   support\n",
      "\n",
      "           0       0.85      0.84      0.84       105\n",
      "           1       0.77      0.78      0.78        74\n",
      "\n",
      "    accuracy                           0.82       179\n",
      "   macro avg       0.81      0.81      0.81       179\n",
      "weighted avg       0.82      0.82      0.82       179\n",
      "\n"
     ]
    }
   ],
   "source": [
    "models = {\n",
    "    \"Logistic Regression\": LogisticRegression(max_iter=1000),\n",
    "    \"Random Forest\": RandomForestClassifier(random_state=42),\n",
    "    \"KNN\": KNeighborsClassifier()\n",
    "}\n",
    "\n",
    "for name, model in models.items():\n",
    "    model.fit(X_train, y_train)\n",
    "    y_pred = model.predict(X_test)\n",
    "    print(f\"=== {name} ===\")\n",
    "    print(\"Accuracy:\", accuracy_score(y_test, y_pred))\n",
    "    print(classification_report(y_test, y_pred))"
   ]
  },
  {
   "cell_type": "markdown",
   "id": "9ee48789",
   "metadata": {},
   "source": [
    "#### 8. Model Evaluation (Confusion Matrix) (Machine Learning)\n",
    "- Menggunakan Random Forest Sebagai Model terbaik lalu membuat Confusion Matrix untuk melihat performa prediksi lebih detail.\n",
    "\n",
    "- Metrik evaluasi: Accuracy, Precision, Recall, dan F1-Score.\n",
    "\n",
    "- Confusion Matrix digunakan untuk melihat performa prediksi."
   ]
  },
  {
   "cell_type": "code",
   "execution_count": 41,
   "id": "a606623d",
   "metadata": {},
   "outputs": [
    {
     "data": {
      "image/png": "[encoded data removed]",
      "text/plain": [
       "<Figure size 640x480 with 2 Axes>"
      ]
     },
     "metadata": {},
     "output_type": "display_data"
    }
   ],
   "source": [
    "best_model = RandomForestClassifier(random_state=42)\n",
    "best_model.fit(X_train, y_train)\n",
    "y_pred = best_model.predict(X_test)\n",
    "\n",
    "cm = confusion_matrix(y_test, y_pred)\n",
    "\n",
    "# Plot dengan label\n",
    "sns.heatmap(cm, annot=True, fmt='d', cmap='Blues',\n",
    "            xticklabels=['Pred: 0', 'Pred: 1'],   # label sumbu X\n",
    "            yticklabels=['True: 0', 'True: 1'])   # label sumbu Y\n",
    "\n",
    "plt.xlabel(\"Predicted Label\")\n",
    "plt.ylabel(\"True Label\")\n",
    "plt.title(\"Confusion Matrix - Random Forest\")\n",
    "plt.show()\n"
   ]
  },
  {
   "cell_type": "markdown",
   "id": "8ecf9784",
   "metadata": {},
   "source": [
    "|              | Prediksi 0 | Prediksi 1 |\n",
    "| ------------ | ---------- | ---------- |\n",
    "| **Aktual 0** | 90 (TN)    | 15 (FP)    |\n",
    "| **Aktual 1** | 14 (FN)    | 60 (TP)    |\n",
    "\n",
    "Penjelasan insight-nya:\n",
    "\n",
    "1. True Negative (TN) = 90. Model memprediksi kelas 0 dengan benar sebanyak 90 kasus.\n",
    "\n",
    "2. False Positive (FP) = 15. Ada 15 kasus yang sebenarnya kelas 0 tetapi diprediksi sebagai kelas 1. Ini adalah Type I Error.\n",
    "\n",
    "3. False Negative (FN) = 14. Ada 14 kasus yang sebenarnya kelas 1 tetapi diprediksi sebagai kelas 0. Ini adalah Type II Error.\n",
    "\n",
    "4. True Positive (TP) = 60. Model memprediksi kelas 1 dengan benar sebanyak 60 kasus."
   ]
  },
  {
   "cell_type": "markdown",
   "id": "0967d194",
   "metadata": {},
   "source": [
    "#### 9. Hyperparameter Tuning (Machine Learning)\n",
    "Dilakukan pencarian parameter terbaik untuk Random Forest menggunakan GridSearchCV:\n",
    "\n",
    "GridSearchCV adalah metode untuk mencari kombinasi parameter terbaik pada model machine learning dengan cara mencoba semua kemungkinan kombinasi (grid search) dan memilih yang menghasilkan performa terbaik berdasarkan evaluasi (cross-validation).\n",
    "\n",
    "Contohnya kita mencoba beberapa mie kuah atau goreng daripada kita ribet2 coba satu persatu dimana tiap orang masak mie nya berbeda2 kita pake aja GridSearchCV sebagai alat mencoba semua resep dia bakalan pilih yang paling enak atau akurasi tertinggi."
   ]
  },
  {
   "cell_type": "code",
   "execution_count": 42,
   "id": "cc2a82e2",
   "metadata": {},
   "outputs": [
    {
     "name": "stdout",
     "output_type": "stream",
     "text": [
      "Best Parameters: {'max_depth': 5, 'n_estimators': 100}\n",
      "Best Score: 0.8314192849404117\n"
     ]
    }
   ],
   "source": [
    "param_grid = {\n",
    "    'n_estimators': [100, 200, 300],\n",
    "    'max_depth': [None, 5, 10]\n",
    "}\n",
    "grid_search = GridSearchCV(RandomForestClassifier(random_state=42), param_grid, cv=5)\n",
    "grid_search.fit(X_train, y_train)\n",
    "\n",
    "print(\"Best Parameters:\", grid_search.best_params_)\n",
    "print(\"Best Score:\", grid_search.best_score_)"
   ]
  },
  {
   "cell_type": "markdown",
   "id": "ff43dda5",
   "metadata": {},
   "source": [
    "#### Insight Utama\n",
    "\n",
    "- Gender sangat berpengaruh: Perempuan memiliki peluang selamat jauh lebih tinggi.\n",
    "\n",
    "- Kelas Tiket mempengaruhi peluang: Kelas 1 paling aman, kelas 3 paling berisiko.\n",
    "\n",
    "- Umur muda cenderung lebih selamat.\n",
    "\n",
    "- Ukuran keluarga mempengaruhi: Terlalu kecil atau terlalu besar menurunkan peluang selamat."
   ]
  },
  {
   "cell_type": "markdown",
   "id": "675ea0ca",
   "metadata": {},
   "source": [
    "---"
   ]
  },
  {
   "cell_type": "markdown",
   "id": "e9bdf0ae",
   "metadata": {},
   "source": [
    "## Latihan Project (Take Home)\n",
    "\n",
    "Berikut terdapat beberapa latihan project. Pilih salah satu.\n",
    "\n",
    "### Classification Project\n",
    "\n",
    "| Dataset                     | Link                                                                                            | Problem Statement                                                                                   |\n",
    "| --------------------------- | ----------------------------------------------------------------------------------------------- | --------------------------------------------------------------------------------------------------- |\n",
    "| **Loan Prediction**         | [Kaggle - Loan Prediction](https://www.kaggle.com/datasets/ninzaami/loan-predication)           | \"Prediksi apakah pengajuan pinjaman nasabah akan disetujui berdasarkan data demografi & finansial.\" |\n",
    "| **Diabetes Prediction**     | [Kaggle - Diabetes Dataset](https://www.kaggle.com/datasets/mathchi/diabetes-data-set)          | \"Memprediksi apakah pasien memiliki risiko diabetes berdasarkan hasil tes medis.\"                   |\n",
    "| **Mushroom Classification** | [Kaggle - Mushroom Dataset](https://www.kaggle.com/datasets/uciml/mushroom-classification)      | \"Klasifikasikan jamur menjadi beracun atau aman berdasarkan karakteristik fisik.\"                   |\n",
    "| **Customer Churn**          | [Kaggle - Telco Customer Churn](https://www.kaggle.com/datasets/blastchar/telco-customer-churn) | \"Prediksi apakah pelanggan akan berhenti berlangganan layanan telekomunikasi.\"                      |\n",
    "\n",
    "### Regression Project\n",
    "\n",
    "| Dataset                           | Link                                                                                                   | Problem Statement                                                                                             |\n",
    "| --------------------------------- | ------------------------------------------------------------------------------------------------------ | ------------------------------------------------------------------------------------------------------------- |\n",
    "| **Student Performance**           | [Kaggle - Student Performance](https://www.kaggle.com/datasets/devansodariya/student-performance-data) | \"Memprediksi nilai ujian akhir siswa berdasarkan faktor demografi, kebiasaan belajar, dan dukungan keluarga.\" |\n",
    "| **Medical Cost Personal Dataset** | [Kaggle - Medical Cost](https://www.kaggle.com/datasets/mirichoi0218/insurance)                        | \"Memprediksi biaya asuransi kesehatan berdasarkan usia, BMI, kebiasaan merokok, dan faktor lainnya.\"          |\n",
    "| **Air Quality**                   | [Kaggle - Air Quality](https://www.kaggle.com/datasets/rohanrao/air-quality-data-in-india)             | \"Memprediksi tingkat polusi udara (PM2.5) berdasarkan kondisi cuaca dan polutan lainnya.\"                     |\n",
    "| **Energy Efficiency**             | [UCI - Energy Efficiency Dataset](https://archive.ics.uci.edu/dataset/242/energy+efficiency)           | \"Memprediksi efisiensi energi bangunan berdasarkan karakteristik desain.\"                                     |\n"
   ]
  },
  {
   "cell_type": "markdown",
   "id": "d1b2fa3c",
   "metadata": {},
   "source": []
  }
 ],
 "metadata": {
  "kernelspec": {
   "display_name": "Python 3",
   "language": "python",
   "name": "python3"
  },
  "language_info": {
   "codemirror_mode": {
    "name": "ipython",
    "version": 3
   },
   "file_extension": ".py",
   "mimetype": "text/x-python",
   "name": "python",
   "nbconvert_exporter": "python",
   "pygments_lexer": "ipython3",
   "version": "3.13.0"
  }
 },
 "nbformat": 4,
 "nbformat_minor": 5
}
