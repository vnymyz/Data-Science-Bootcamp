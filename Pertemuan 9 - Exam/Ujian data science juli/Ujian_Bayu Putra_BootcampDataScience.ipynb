{
 "cells": [
  {
   "cell_type": "markdown",
   "id": "a06847a9",
   "metadata": {},
   "source": [
    "### Nama: Bayu Putra \n",
    "### Kelas: Bootcamp Data Science \n",
    "### Tanggal: Kamis, 7 Agustus 2025\n",
    "### Nilai : 97 - kerenn banget. semangat terus ya :)"
   ]
  },
  {
   "cell_type": "code",
   "execution_count": 2,
   "id": "b545c776",
   "metadata": {},
   "outputs": [
    {
     "name": "stdout",
     "output_type": "stream",
     "text": [
      "Halo, Semua!\n",
      "Ini adlaah program pertama saya\n"
     ]
    }
   ],
   "source": [
    "# 1 Buatlah program mencetak yang menampilkan teks : \n",
    "#   “Halo, Semua !” \n",
    "#   “Ini adalah program pertama saya” \n",
    "\n",
    "print(\"Halo, Semua!\")\n",
    "print(\"Ini adlaah program pertama saya\")"
   ]
  },
  {
   "cell_type": "code",
   "execution_count": 3,
   "id": "de8be3df",
   "metadata": {},
   "outputs": [
    {
     "name": "stdout",
     "output_type": "stream",
     "text": [
      "Halo, bayoo! kamu berusia 18 tahun.\n"
     ]
    }
   ],
   "source": [
    "# 2. Buatlah program input output dan memanggil variable kembali : \n",
    "#    “Masukkan nama kamu: “\n",
    "#    “Masukkan usia kamu: “ \n",
    "#    Output : \n",
    "#    Halo, nama ! kamu berusia umur tahun. \n",
    "\n",
    "Nama = input(\"Masukan Nama: \")\n",
    "Usia = int(input(\"Masukan Usia: \"))\n",
    "print(f\"Halo, {Nama}! kamu berusia {Usia} tahun.\")"
   ]
  },
  {
   "cell_type": "code",
   "execution_count": 5,
   "id": "a827618c",
   "metadata": {},
   "outputs": [
    {
     "name": "stdout",
     "output_type": "stream",
     "text": [
      "Hasil 5 ditambah 7 adalah 12\n",
      "Hasil 6 dikurang 5 adalah 1\n"
     ]
    }
   ],
   "source": [
    "# 3. Buatlah program kalkulator sederhana untuk (+) dan (-). \n",
    "\n",
    "a = 5\n",
    "b = 6\n",
    "c = 7\n",
    "\n",
    "print(f\"Hasil {a} ditambah {c} adalah\", a + c)\n",
    "print(f\"Hasil {b} dikurang {a} adalah\", b - a)\n"
   ]
  },
  {
   "cell_type": "code",
   "execution_count": null,
   "id": "b5aa663f",
   "metadata": {},
   "outputs": [
    {
     "name": "stdout",
     "output_type": "stream",
     "text": [
      "Hello World!\n"
     ]
    }
   ],
   "source": [
    "# 4. Apa yang dimaksud dengan syntax ? (Berikan contoh kalau bisa) \n",
    "# Syntax adalah penulisan kode dalam suatu bahasa pemograman\n",
    "# contoh \n",
    "# print(\"Hello World!\")"
   ]
  },
  {
   "cell_type": "code",
   "execution_count": null,
   "id": "9f6fe492",
   "metadata": {},
   "outputs": [],
   "source": [
    "# 5. Sebutkan jenis-jenis tipe data ! \n",
    "# Tipe tipe data terdiri dari\n",
    "# - str/string yang bisa menampung value berupa huruf, contoh:\"Hallo\"\n",
    "# - int/integer merupakan tipe data yang menampung value berupa bilangan bulat, contoh:3, 15, 100, 2893\n",
    "# - float yaitu tipe data yang menampung value berupa bilangan desimal, contoh: 3,14\n",
    "# - kompleks yaitu tipe data yang terdapat bilangan imajiner, contohnya: 5+6j"
   ]
  },
  {
   "cell_type": "code",
   "execution_count": 7,
   "id": "d24f6f88",
   "metadata": {},
   "outputs": [
    {
     "name": "stdout",
     "output_type": "stream",
     "text": [
      "Durian\n"
     ]
    }
   ],
   "source": [
    "# 6. Buatlah program list dan memanggil elemen list tersebut berdasarkan indeks yang dipilih. \n",
    "buah = [\"Pear\", \"Pisang\", \"Durian\"]\n",
    "print(buah[2])"
   ]
  },
  {
   "cell_type": "code",
   "execution_count": 8,
   "id": "91573595",
   "metadata": {},
   "outputs": [
    {
     "name": "stdout",
     "output_type": "stream",
     "text": [
      "['Pear', 'Pisang', 'Durian', 'Mangga']\n"
     ]
    }
   ],
   "source": [
    "# 7. Buatlah program list dan menambahkan data seperti “mangga” atau 20 dengan menggunakan append atau insert. \n",
    "buah = [\"Pear\", \"Pisang\", \"Durian\"]\n",
    "buah.append(\"Mangga\")\n",
    "print(buah)"
   ]
  },
  {
   "cell_type": "code",
   "execution_count": null,
   "id": "6da360b4",
   "metadata": {},
   "outputs": [
    {
     "name": "stdout",
     "output_type": "stream",
     "text": [
      "[1, 2, 4, 9, 10, 12]\n"
     ]
    }
   ],
   "source": [
    "# 8. Buatlah program untuk sort list : \n",
    "# Angka = [4, 2, 9, 1, 10, 12] \n",
    "# Output : \n",
    "# [1, 2, 4, 9, 10, 12]  \n",
    "\n",
    "Angka = [4, 2, 9, 1, 10, 12]\n",
    "Angka.sort()\n",
    "print(Angka)\n"
   ]
  },
  {
   "cell_type": "code",
   "execution_count": null,
   "id": "eb9f8024",
   "metadata": {},
   "outputs": [
    {
     "name": "stdout",
     "output_type": "stream",
     "text": [
      "{'Nama': 'bayoo', 'umur': 18}\n"
     ]
    }
   ],
   "source": [
    "# Buatlah program dictionary yang menyimpan key dan value. Selanjutnya \n",
    "# memanggil dictionary tersebut. \n",
    "# Nama_dictionary = { \n",
    "# “key”: value\n",
    "#  }\n",
    "\n",
    "Data = { \n",
    "    'Nama': 'bayoo',\n",
    "    'umur': 18\n",
    "}\n",
    "print(Data)"
   ]
  },
  {
   "cell_type": "code",
   "execution_count": null,
   "id": "fc5ac544",
   "metadata": {},
   "outputs": [],
   "source": [
    "# 10. Apa perbedaan list dan dictionary yang kamu ketahui ? \n",
    "# list adalah tipe data yang bisa menyimpan str, int, dll. Sedangkan,\n",
    "# Dictionary adalah tipe data yang menyimpan data dalam bentuk key dan value."
   ]
  },
  {
   "cell_type": "code",
   "execution_count": null,
   "id": "99567db4",
   "metadata": {},
   "outputs": [
    {
     "name": "stdout",
     "output_type": "stream",
     "text": [
      "Nama: Rani\n",
      "Nama: 20\n"
     ]
    }
   ],
   "source": [
    "# 11. Bagaimana cara memanggil output yang diminta dari dictionary ini ? \n",
    "\n",
    "Mahasiswa = [ \n",
    "    {'nama': 'Rani', 'umur': 20},\n",
    "    {'nama': 'Budi', 'umur': 22}, \n",
    "    {'nama': 'Lia', 'umur': 19}\n",
    "]\n",
    "print(f\"Nama: {Mahasiswa[0]['nama']}\")\n",
    "print(f\"Nama: {Mahasiswa[0]['umur']}\")"
   ]
  },
  {
   "cell_type": "code",
   "execution_count": null,
   "id": "424e2622",
   "metadata": {},
   "outputs": [],
   "source": [
    "# 12. Apa perbedaan integer dan float ? dan menurut anda apakah python dapat menyimpan data atau angka yang besar ? \n",
    "# perbedaan antara integer dan float yaitu integer nampung value bilangan bulat, sementara float menampung value bilangan dengan bentuk desimal. Iya, Python bisa menyimpang angka dalam julah besar."
   ]
  },
  {
   "cell_type": "code",
   "execution_count": null,
   "id": "5b21f2d6",
   "metadata": {},
   "outputs": [],
   "source": [
    "# 13. Jelaskan perbedaan dari if, if else dan if elif else ! \n",
    "# if: Hanya mengecek kondisi yang benar, jika salah, maka program akan diabaikan (plan a)\n",
    "# elif: akan berjalan jika setelah mengecek kondisi if salah salah (plan b)\n",
    "# else: akan berjalan jika setelah mengecek kondisi if dan elif salah (plan c)"
   ]
  },
  {
   "cell_type": "code",
   "execution_count": 22,
   "id": "858bd8b7",
   "metadata": {},
   "outputs": [
    {
     "name": "stdout",
     "output_type": "stream",
     "text": [
      "Lulus\n"
     ]
    }
   ],
   "source": [
    "# 14. Buatlah program percabangan atau kondisi untuk mengecek kelulusan nilai. \n",
    "\n",
    "nilai = 87\n",
    "if nilai >= 80:\n",
    "    print(\"Lulus\")\n",
    "else:\n",
    "    print(\"Tidak Lulus\")"
   ]
  },
  {
   "cell_type": "code",
   "execution_count": 28,
   "id": "c5c1fffa",
   "metadata": {},
   "outputs": [
    {
     "name": "stdout",
     "output_type": "stream",
     "text": [
      "Grade E\n"
     ]
    }
   ],
   "source": [
    "# 15. Buatlah program percabangan untuk menentukan grade mahasiswa yang terdiri dari grade A, B, C , D dan E.\n",
    "\n",
    "nilai =  int(input(\"Masukan Nilai\"))\n",
    "\n",
    "if nilai >= 93:\n",
    "    print(\"Grade A\")\n",
    "elif nilai >= 87:\n",
    "    print(\"Grade B\")\n",
    "elif nilai >= 75:\n",
    "    print(\"Grade C\")\n",
    "elif nilai >= 60:\n",
    "    print(\"Grade D\")\n",
    "else:\n",
    "    print(\"Grade E\")"
   ]
  },
  {
   "cell_type": "code",
   "execution_count": null,
   "id": "3f69be1b",
   "metadata": {},
   "outputs": [
    {
     "name": "stdout",
     "output_type": "stream",
     "text": [
      "Username salah!\n"
     ]
    }
   ],
   "source": [
    "# 16. Buatlah program sistem login menggunakan percabangan : \n",
    "# 1) Melakukan input username dan password. \n",
    "# 2) Melakukan cek kondisi apakah username dan password sesuai. \n",
    "# 3) Jika sesuai maka berhasil login.. \n",
    "# 4) Jika username salah berarti username salah. \n",
    "# 5) Jika password salah berarti password salah.\n",
    "\n",
    "Username = input(\"Masukan Username: \")\n",
    "Password = input(\"Masukan Password: \")\n",
    "\n",
    "if Username == \"bayoo\" and Password == \"12345\":\n",
    "    print(\"Login Berhasil\")\n",
    "elif Username != \"bayoo\" and Password == \"12345\":\n",
    "    print(\"Username salah!\")\n",
    "elif Username == \"bayoo\" and Password != \"12345\":\n",
    "    print(\"Password salah!\")\n",
    "else: \n",
    "    print(\"Username dan Password salah.\")"
   ]
  },
  {
   "cell_type": "code",
   "execution_count": null,
   "id": "bf857981",
   "metadata": {},
   "outputs": [],
   "source": [
    "# 18. Jelaskan mengenai Booelan AND, OR dan NOT. \n",
    "# AND (&&): Mengecek value dari key, jika True and True maka hasilnya akan True, Jika True and False (sebaliknya) maka hasilnya False, Jika False and False maka hasilnya False\n",
    "# OR (||): Mengecek value dari key, jika True and True maka hasilnya akan True, Jika True and False (sebaliknya) maka hasilnya True, Jika False and False maka hasilnya False\n",
    "# NOT (!): Mengecek value dari key, jika !True maka hasilnya akan False, sementara juga sebaliknya !False maka hasilnya True"
   ]
  },
  {
   "cell_type": "code",
   "execution_count": null,
   "id": "1e6010bf",
   "metadata": {},
   "outputs": [
    {
     "name": "stdout",
     "output_type": "stream",
     "text": [
      "0\n",
      "1\n",
      "2\n",
      "3\n",
      "4\n",
      "5\n",
      "6\n",
      "7\n",
      "8\n",
      "9\n",
      "10\n"
     ]
    }
   ],
   "source": [
    "# 19. Buatlah program looping untuk menampilkan 0 – 10. \n",
    "for i in range(0, 11):\n",
    "    print(i)"
   ]
  },
  {
   "cell_type": "code",
   "execution_count": 45,
   "id": "42915bbc",
   "metadata": {},
   "outputs": [
    {
     "name": "stdout",
     "output_type": "stream",
     "text": [
      "1\n",
      "2\n",
      "3\n",
      "4\n",
      "5\n"
     ]
    }
   ],
   "source": [
    "#20. Buatlah program looping untuk menampilkan 1 – 5. \n",
    "for i in range(1, 6):\n",
    "    print(i)"
   ]
  },
  {
   "cell_type": "code",
   "execution_count": 46,
   "id": "03ba3080",
   "metadata": {},
   "outputs": [
    {
     "name": "stdout",
     "output_type": "stream",
     "text": [
      "1\n",
      "2\n",
      "3\n",
      "5\n"
     ]
    }
   ],
   "source": [
    "# 21. Buatlah program looping namun jika ketemu angka 4 maka akan di skip atau continue. \n",
    "for i in range(1, 6):\n",
    "    if i == 4:\n",
    "        continue\n",
    "    print(i)\n"
   ]
  },
  {
   "cell_type": "code",
   "execution_count": 52,
   "id": "a2ff4038",
   "metadata": {},
   "outputs": [
    {
     "name": "stdout",
     "output_type": "stream",
     "text": [
      "P\n",
      "y\n",
      "t\n",
      "h\n",
      "o\n",
      "n\n"
     ]
    }
   ],
   "source": [
    "# 22. Buatlah program looping untuk menampilkan string. \n",
    "for kata in \"Python\":\n",
    "    print(kata)"
   ]
  },
  {
   "cell_type": "code",
   "execution_count": null,
   "id": "d7fd581e",
   "metadata": {},
   "outputs": [
    {
     "name": "stdout",
     "output_type": "stream",
     "text": [
      "n\n",
      "o\n",
      "h\n",
      "t\n",
      "y\n",
      "P\n"
     ]
    }
   ],
   "source": [
    "# 23. Buatlah program looping untuk menampilkan string namun secara reversed.\n",
    "\n",
    "for word in reversed(\"Python\"):\n",
    "    print(word)"
   ]
  },
  {
   "cell_type": "code",
   "execution_count": 64,
   "id": "d08bacfc",
   "metadata": {},
   "outputs": [
    {
     "name": "stdout",
     "output_type": "stream",
     "text": [
      "Mie Ayam\n",
      "Bakso\n",
      "Roti\n"
     ]
    }
   ],
   "source": [
    "# 24. Buatlah program list dan panggil list tersebut menggunakan looping. \n",
    "Menu = [\"Mie Ayam\", \"Bakso\", \"Roti\"]\n",
    "\n",
    "for i in Menu:\n",
    "    print(i)\n"
   ]
  },
  {
   "cell_type": "code",
   "execution_count": null,
   "id": "31fd659b",
   "metadata": {},
   "outputs": [],
   "source": [
    "# 25. Buatlah program memilih menu makan 1 – 3, keluar dari program jika \n",
    "# input 4 dan pilihan tidak valid jika memilih angka lain. \n",
    "# (While True: ) (if elif else) \n",
    "\n",
    "Menu = [\"Mie Ayam\", \"Bakso\", \"Roti\"]\n"
   ]
  },
  {
   "cell_type": "code",
   "execution_count": 66,
   "id": "cfc0d1f4",
   "metadata": {},
   "outputs": [
    {
     "name": "stdout",
     "output_type": "stream",
     "text": [
      "1\n",
      "2\n",
      "3\n",
      "4\n",
      "5\n"
     ]
    }
   ],
   "source": [
    "# 26. Buatlah program loop sederhana menggunakan for loop. \n",
    "for i in range(1, 6):\n",
    "    print(i)"
   ]
  },
  {
   "cell_type": "code",
   "execution_count": null,
   "id": "239e94dd",
   "metadata": {},
   "outputs": [
    {
     "name": "stdout",
     "output_type": "stream",
     "text": [
      "25\n",
      "49\n"
     ]
    }
   ],
   "source": [
    "# 27. Buatlah function untuk mencetak hasil kuadrat dan memanggil function tersebut. \n",
    "# print(5 * 5) \n",
    "# print(7 * 7) \n",
    "\n",
    "def kali(a, b):\n",
    "    c = a * b\n",
    "    return c\n",
    "print(5 * 5) \n",
    "print(7 * 7) "
   ]
  },
  {
   "cell_type": "code",
   "execution_count": 91,
   "id": "e04a06d0",
   "metadata": {},
   "outputs": [
    {
     "name": "stdout",
     "output_type": "stream",
     "text": [
      "Kamu suda tua ya bayoo\n"
     ]
    }
   ],
   "source": [
    "# 28. Buatlah function yang terdiri dari 2 parameter untuk memanggil nama dan umur. \n",
    "# “Selamat Ulang tahun (nama mu)!” \n",
    "# “Kamu berumur (umur mu)” \n",
    "# “Kamu sudah tua ya (nama mu)” \n",
    "\n",
    "def ultah(func, nama):\n",
    "     print(f\"Selamat Ulang Tahun {nama}!\")\n",
    "     func()\n",
    "\n",
    "def ultah(func, umur):\n",
    "    print(f\"Kamu berumur: {umur}\")\n",
    "    func()\n",
    "    \n",
    "def ultah(nama, umur):\n",
    "    print(f\"Kamu suda tua ya {nama}\")\n",
    "    \n",
    "ultah(nama=\"bayoo\", umur=18)\n",
    "\n",
    "    "
   ]
  },
  {
   "cell_type": "code",
   "execution_count": 87,
   "id": "a97d7378",
   "metadata": {},
   "outputs": [
    {
     "name": "stdout",
     "output_type": "stream",
     "text": [
      "Jennie sedang makan sushi.\n"
     ]
    }
   ],
   "source": [
    "# 29. Buatlah program inheritance sederhana dimana class turunan mengambil sifat atau method dari class induk. ( pass )\n",
    "\n",
    "class Koki:\n",
    "    def __init__(self, nama):\n",
    "        self.nama = nama \n",
    "class Pelanggan(Koki):\n",
    "    def makan(self):\n",
    "        print(f\"{self.nama} sedang makan sushi.\")\n",
    "\n",
    "S1 = Pelanggan(\"Jennie\")\n",
    "S1.makan()\n"
   ]
  },
  {
   "cell_type": "code",
   "execution_count": null,
   "id": "eeef5db7",
   "metadata": {},
   "outputs": [],
   "source": [
    "# 1) Metode OOP apa yang digunakan dalam codingan tersebut ? \n",
    "# 2) Apa yang terjadi jika akun.setor diganti menjadi 150.000 \n",
    "# 3) Jelaskan bagaimana alur dari program tersebut.\n",
    "\n",
    "# 1) Polymorphism dan Inheritance\n",
    "# 2) Maka saldo akan bertambah 150.000, Jadi total saldonya adalah 250.000\n",
    "# 3)"
   ]
  }
 ],
 "metadata": {
  "kernelspec": {
   "display_name": "Python 3",
   "language": "python",
   "name": "python3"
  },
  "language_info": {
   "codemirror_mode": {
    "name": "ipython",
    "version": 3
   },
   "file_extension": ".py",
   "mimetype": "text/x-python",
   "name": "python",
   "nbconvert_exporter": "python",
   "pygments_lexer": "ipython3",
   "version": "3.13.3"
  }
 },
 "nbformat": 4,
 "nbformat_minor": 5
}
