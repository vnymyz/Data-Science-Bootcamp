{
  "cells": [
    {
      "cell_type": "markdown",
      "metadata": {
        "id": "JzdDQsgAJ-cY"
      },
      "source": [
        "### Budi\n",
        "### kelas Data science\n",
        "### Kamis, 7/08/2025\n",
        "### Nilai : 60 - Bapak udah keren bisa sampe sini, tapi bapak belajar lagi ya :)"
      ]
    },
    {
      "cell_type": "code",
      "execution_count": 2,
      "metadata": {
        "colab": {
          "base_uri": "https://localhost:8080/"
        },
        "id": "xS_UbnRULaFS",
        "outputId": "6191964b-9dfc-424e-8301-758c0b8981dd"
      },
      "outputs": [
        {
          "name": "stdout",
          "output_type": "stream",
          "text": [
            "hello semua\n",
            "ini program pertama saya\n"
          ]
        }
      ],
      "source": [
        "# Nomor 1\n",
        "\n",
        "print(\"hello semua\")\n",
        "print(\"ini program pertama saya\")"
      ]
    },
    {
      "cell_type": "code",
      "execution_count": 5,
      "metadata": {
        "colab": {
          "base_uri": "https://localhost:8080/"
        },
        "id": "NJac5hf_MYg-",
        "outputId": "35b2dd02-6f80-413a-876b-1a2d8f27df35"
      },
      "outputs": [
        {
          "name": "stdout",
          "output_type": "stream",
          "text": [
            "masukan nama:Dhananjaya\n",
            "masukan umur anda:14\n",
            "Hallo nama saya Dhananjaya dan umur saya 14 tahun !\n"
          ]
        }
      ],
      "source": [
        "# Nomor 2\n",
        "\n",
        "nama = input(\"masukan nama:\")\n",
        "umur = input(\"masukan umur anda:\")\n",
        "\n",
        "print(f\"Hallo nama saya {nama} dan umur saya {umur} tahun !\")"
      ]
    },
    {
      "cell_type": "code",
      "execution_count": 8,
      "metadata": {
        "colab": {
          "base_uri": "https://localhost:8080/"
        },
        "id": "EbQoMB3XM13C",
        "outputId": "303d912f-7ba2-4ec1-a50a-e19009eb044b"
      },
      "outputs": [
        {
          "name": "stdout",
          "output_type": "stream",
          "text": [
            "130\n",
            "60\n"
          ]
        }
      ],
      "source": [
        "# Nomor 3\n",
        "\n",
        "def tambah (a, b):\n",
        "    h = a+b\n",
        "    return h\n",
        "\n",
        "def kurang (a,b):\n",
        "    h = a-b\n",
        "    return h\n",
        "\n",
        "\n",
        "print(tambah (50,80))\n",
        "print(kurang (100,40))\n"
      ]
    },
    {
      "cell_type": "code",
      "execution_count": 12,
      "metadata": {
        "colab": {
          "base_uri": "https://localhost:8080/"
        },
        "id": "kKHVss45PPSr",
        "outputId": "36970096-0a0b-486e-cf82-90db0691cbd5"
      },
      "outputs": [
        {
          "name": "stdout",
          "output_type": "stream",
          "text": [
            "Masukkan nama: Mentari Buana\n",
            "masukan umur 8\n",
            "Hallo, Mentari Buana\n",
            "umur 8\n"
          ]
        }
      ],
      "source": [
        "# Nomor 4\n",
        "\n",
        "nama = input(\"Masukkan nama: \")\n",
        "umur = input(\"masukan umur\")\n",
        "print(\"Hallo, \" + nama)\n",
        "print(\"umur\" + umur)\n"
      ]
    },
    {
      "cell_type": "code",
      "execution_count": null,
      "metadata": {
        "id": "K812K_o7SyIt"
      },
      "outputs": [],
      "source": [
        "# Nomor 5\n",
        "\n",
        "\n",
        "Tipe data: Jenis nilai yang di simpan dalam variabel.\n",
        "\n",
        "contoh tipe data umum:\n",
        "\n",
        "\n",
        "1. Int atau Integer adalah bilangan bulat seperti 123456, 200, 3000, 40000.\n",
        "\n",
        "2. Float adalah bilangan desimal dia temennya double. float itu 5,50.\n",
        "\n",
        "3. Double temennya float bilangan desimal tapi lebih panjang. contoh 3,898989789789.\n",
        "\n",
        "4. str atau String adalah bilangan huruf atau kalimat dan bisa nampung banyak.\n",
        "\n",
        "5. **float dan double dalam python sudah termasuk float64.**\n",
        "\n",
        "6. **float64 artinya python sudah pasti dapat menampung banyak angka dan data.**\n",
        "\n",
        "7. Complex itu bilangan terdiri dari real dan imajiner :"
      ]
    },
    {
      "cell_type": "code",
      "execution_count": 18,
      "metadata": {
        "colab": {
          "base_uri": "https://localhost:8080/"
        },
        "id": "UMBICl6MS8HF",
        "outputId": "547f7a50-7d06-4863-9762-1d2197ef3e23"
      },
      "outputs": [
        {
          "name": "stdout",
          "output_type": "stream",
          "text": [
            "Diana 35\n",
            "Albert 34\n"
          ]
        }
      ],
      "source": [
        "# Nomor 6\n",
        "\n",
        "\n",
        "Karyawan = [\n",
        "    {\"nama\": \"Agung\", \"umur\": 30},\n",
        "    {\"nama\": \"Diana\", \"umur\": 35},\n",
        "    {\"nama\": \"Albert\", \"umur\": 34}\n",
        "]\n",
        "\n",
        "print(Karyawan[1][\"nama\"], Karyawan[1][\"umur\"])\n",
        "\n",
        "print(Karyawan[2][\"nama\"], Karyawan[2][\"umur\"])\n",
        "\n"
      ]
    },
    {
      "cell_type": "code",
      "execution_count": 19,
      "metadata": {
        "colab": {
          "base_uri": "https://localhost:8080/"
        },
        "id": "ulp5VrH1U-SR",
        "outputId": "19b5f703-9025-4324-f9b7-c901540bfd1c"
      },
      "outputs": [
        {
          "name": "stdout",
          "output_type": "stream",
          "text": [
            "['swiss', 'jepang', 'iran', 'Korut', 'irak', 'china']\n"
          ]
        }
      ],
      "source": [
        "# Nomor 7\n",
        "\n",
        "negara=[\"swiss\", \"jepang\", \"iran\", \"irak\",\"china\"]\n",
        "negara.insert(3, \"Korut\")\n",
        "print(negara)"
      ]
    },
    {
      "cell_type": "code",
      "execution_count": 21,
      "metadata": {
        "colab": {
          "base_uri": "https://localhost:8080/"
        },
        "id": "E22QYCbdVYX0",
        "outputId": "d368612c-3d91-4d45-8c59-3330e64bdccb"
      },
      "outputs": [
        {
          "name": "stdout",
          "output_type": "stream",
          "text": [
            "[1, 2, 4, 9, 10, 12]\n"
          ]
        }
      ],
      "source": [
        "# Nomor 8\n",
        "\n",
        "angka = [4, 2, 9, 1, 10, 12]\n",
        "angka.sort()\n",
        "print(angka)"
      ]
    },
    {
      "cell_type": "code",
      "execution_count": 22,
      "metadata": {
        "colab": {
          "base_uri": "https://localhost:8080/"
        },
        "id": "2UCqVun0WK81",
        "outputId": "9bf0b62e-93ab-4f22-81b1-50e54b2f6a4e"
      },
      "outputs": [
        {
          "name": "stdout",
          "output_type": "stream",
          "text": [
            "Cahya\n",
            "34\n",
            "{'nama': 'Cahya', 'umur': 35, 'lulus': True, 'departement': 'marketing'}\n"
          ]
        }
      ],
      "source": [
        "# Nomor 9\n",
        "\n",
        "karyawan={\n",
        "\n",
        "    \"nama\":\"Cahya\",\n",
        "    \"umur\": \"34\",\n",
        "    \"lulus\":True\n",
        "}\n",
        "\n",
        "print(karyawan[\"nama\"])\n",
        "print(karyawan.get(\"umur\"))\n",
        "\n",
        "#mengubah nialai\n",
        "\n",
        "karyawan[\"umur\"] = 35\n",
        "karyawan[\"departement\"] = \"marketing\"\n",
        "\n",
        "print(karyawan)\n"
      ]
    },
    {
      "cell_type": "code",
      "execution_count": null,
      "metadata": {
        "id": "NuSzYWd5WqC6"
      },
      "outputs": [],
      "source": [
        "# Nomor 10\n",
        "\n",
        "\n",
        "List adalah kumpulan data /nilai yang bisa berubah (mutable). Bisa menyimpan data apa pun: angka, strinh bahkan campuran\n",
        "\n",
        "Dictionry adalah menyimpan data dalam bentu pasangan kunci-nilai (key-value). Mirip seperti table atau obyek dalam JSON"
      ]
    },
    {
      "cell_type": "code",
      "execution_count": 27,
      "metadata": {
        "colab": {
          "base_uri": "https://localhost:8080/"
        },
        "id": "XUqBDH4hYRnr",
        "outputId": "74a7860d-6ea5-4dc7-ffbe-81841c571b80"
      },
      "outputs": [
        {
          "name": "stdout",
          "output_type": "stream",
          "text": [
            "Nama: Rani\n",
            "Umur: 20\n"
          ]
        }
      ],
      "source": [
        "# Nomor 11\n",
        "mahasiswa = [\n",
        "    {\"nama\": \"Rani\", \"umur\": 20},\n",
        "    {\"nama\": \"Budi\", \"umur\": 22},\n",
        "    {\"nama\": \"Lia\", \"umur\": 19}\n",
        "]\n",
        "\n",
        "print(\"Nama:\", mahasiswa[0][\"nama\"])\n",
        "print(\"Umur:\", mahasiswa[0][\"umur\"])\n"
      ]
    },
    {
      "cell_type": "code",
      "execution_count": null,
      "metadata": {
        "id": "9o6VwPtraCKf"
      },
      "outputs": [],
      "source": [
        "# Nomor 12\n",
        "\n",
        "\n",
        "Apa perbedaan integer adalah bilanagan bulat dan float bilanagn decimal? dan menurut anda apakah python dapat menyimpan data atau angka yang besar ? iya bisa"
      ]
    },
    {
      "cell_type": "code",
      "execution_count": null,
      "metadata": {
        "id": "KXQ_LuB6bOGC"
      },
      "outputs": [],
      "source": [
        "# Nomor 13\n",
        "\n",
        "If              : hanya kondisi benar\n",
        "if, else        : dua kemungkinan benar atau salah\n",
        "if, elif, else  : banyak kondisi\n",
        "\n",
        "\n"
      ]
    },
    {
      "cell_type": "code",
      "execution_count": 31,
      "metadata": {
        "colab": {
          "base_uri": "https://localhost:8080/"
        },
        "id": "YX3KGpL5ceV1",
        "outputId": "51c261bf-b162-43cc-8a2d-feba72730e4a"
      },
      "outputs": [
        {
          "name": "stdout",
          "output_type": "stream",
          "text": [
            "lulus\n"
          ]
        }
      ],
      "source": [
        "# Nomor 14\n",
        "\n",
        "nilai = 90\n",
        "\n",
        "if nilai >= 85:\n",
        "    print(\"lulus\")\n",
        "else:\n",
        "    print(\"tidak lulus\")"
      ]
    },
    {
      "cell_type": "code",
      "execution_count": 35,
      "metadata": {
        "colab": {
          "base_uri": "https://localhost:8080/"
        },
        "id": "kZ0qZk8teFlw",
        "outputId": "fcb7f148-c422-44e6-ad98-b1dcdad9eae9"
      },
      "outputs": [
        {
          "name": "stdout",
          "output_type": "stream",
          "text": [
            "Grade: B\n"
          ]
        }
      ],
      "source": [
        "# Nomor 15\n",
        "\n",
        "nilai = 85\n",
        "\n",
        "if nilai >= 90:\n",
        "    print(\"Grade: A\")\n",
        "elif nilai >= 80:\n",
        "    print(\"Grade: B\")\n",
        "elif nilai >= 70:\n",
        "    print(\"Grade: C\")\n",
        "elif nilai >= 60:\n",
        "    print(\"Grade: D\")\n",
        "else:\n",
        "    print(\"Grade: E\")"
      ]
    },
    {
      "cell_type": "code",
      "execution_count": 36,
      "metadata": {
        "colab": {
          "base_uri": "https://localhost:8080/"
        },
        "id": "zIrklcxJexup",
        "outputId": "80103347-0b2b-4975-bc28-8b5e245cef1d"
      },
      "outputs": [
        {
          "name": "stdout",
          "output_type": "stream",
          "text": [
            "Masukkan username: mentari\n",
            "Masukkan password: 789789\n",
            "Username salah.\n"
          ]
        }
      ],
      "source": [
        "# Nomor 16\n",
        "\n",
        "username = input(\"Masukkan username: \")\n",
        "password = input(\"Masukkan password: \")\n",
        "\n",
        "if username == \"admin\" and password == \"789789\":\n",
        "    print(\"Login berhasil!\")\n",
        "elif username != \"admin\":\n",
        "    print(\"Username salah.\")\n",
        "else:\n",
        "    print(\"Password salah.\")\n"
      ]
    },
    {
      "cell_type": "code",
      "execution_count": null,
      "metadata": {
        "id": "5eZW6S1VfXcN"
      },
      "outputs": [],
      "source": [
        "# Nomor 17\n",
        "\n",
        "umur = 16\n",
        "punya_ktp = False\n",
        "\n",
        "if umur < 17:\n",
        "    print(\"sudah boleh buat ktp\")\n",
        "    if punya_ktp:\n",
        "\n",
        "        print(\"punya ktp dan sudah memiliki ktp\")\n",
        "        else (\"tapi belum punya ktp ,silahkan urus ke ducapil!\")\n",
        "\n"
      ]
    }
  ],
  "metadata": {
    "colab": {
      "provenance": []
    },
    "kernelspec": {
      "display_name": "Python 3",
      "name": "python3"
    },
    "language_info": {
      "name": "python"
    }
  },
  "nbformat": 4,
  "nbformat_minor": 0
}
