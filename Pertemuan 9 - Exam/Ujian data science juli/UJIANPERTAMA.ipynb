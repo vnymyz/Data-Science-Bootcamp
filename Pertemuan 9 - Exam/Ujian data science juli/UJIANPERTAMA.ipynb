{
 "cells": [
  {
   "cell_type": "markdown",
   "id": "67f34af8",
   "metadata": {},
   "source": [
    "### Nama : Amelia Evita Alam\n",
    "### Kelas : Intro to Python for Data Science\n",
    "### Tutor : Kak Vanya\n",
    "### Tanggal : Kamis, 10/07/2025\n",
    "### Nilai : 80 - Mantappp perbanyakan latihan lagi aja yaa :)"
   ]
  },
  {
   "cell_type": "markdown",
   "id": "2d5fce0a",
   "metadata": {},
   "source": [
    "1. Buatlah program mencetak yang menampilkan teks :\n",
    "```python \n",
    "“Halo, Semua !”\n",
    "```\n",
    "```python\n",
    "“Ini adalah program pertama saya”\n",
    "```"
   ]
  },
  {
   "cell_type": "code",
   "execution_count": 1,
   "id": "e1cee266",
   "metadata": {},
   "outputs": [
    {
     "name": "stdout",
     "output_type": "stream",
     "text": [
      "Halo, Semua!\n",
      "Ini adalah program pertama saya\n"
     ]
    }
   ],
   "source": [
    "print(\"Halo, Semua!\")\n",
    "print(\"Ini adalah program pertama saya\")"
   ]
  },
  {
   "cell_type": "markdown",
   "id": "5a348508",
   "metadata": {},
   "source": [
    "2. Buatlah program input output dan memanggil variable kembali :\n",
    "```python \n",
    "“Masukkan nama kamu: “\n",
    "```\n",
    "```python \n",
    "“Masukkan usia kamu: “\n",
    "```\n",
    "\n",
    "Output :\n",
    "```python \n",
    "Halo, nama ! kamu berusia umur tahun.\n",
    "```\n"
   ]
  },
  {
   "cell_type": "code",
   "execution_count": 3,
   "id": "605f1fc5",
   "metadata": {},
   "outputs": [
    {
     "name": "stdout",
     "output_type": "stream",
     "text": [
      "Halo, Amelia  ! kamu berusia 23 tahun.\n"
     ]
    }
   ],
   "source": [
    "nama = input(\"Masukkan nama kamu: \")\n",
    "usia = int(input(\"Masukkan usia kamu: \"))\n",
    "\n",
    "print(f\"Halo, {nama} ! kamu berusia {usia} tahun.\")"
   ]
  },
  {
   "cell_type": "markdown",
   "id": "36c88b79",
   "metadata": {},
   "source": [
    "3. Buatlah program kalkulator sederhana untuk (+) dan (-)."
   ]
  },
  {
   "cell_type": "code",
   "execution_count": 11,
   "id": "3a22f22a",
   "metadata": {},
   "outputs": [
    {
     "name": "stdout",
     "output_type": "stream",
     "text": [
      " === Kalkulator Sederhana === \n",
      "a :  50\n",
      "b :  5\n",
      "\n",
      "55\n",
      "45\n"
     ]
    }
   ],
   "source": [
    "print (\" === Kalkulator Sederhana === \")\n",
    "\n",
    "a = int(input(\"masukkan angka pertama: \"))\n",
    "b = int(input(\"masukkan angka kedua : \"))\n",
    "\n",
    "print(\"a : \", a)\n",
    "print(\"b : \", b, end = \"\\n\\n\")\n",
    "print(a + b) \n",
    "print(a - b)\n"
   ]
  },
  {
   "cell_type": "markdown",
   "id": "e7a124eb",
   "metadata": {},
   "source": [
    "4. Apa yang dimaksud dengan syntax ? (Berikan contoh kalau bisa)"
   ]
  },
  {
   "cell_type": "markdown",
   "id": "cf6adf28",
   "metadata": {},
   "source": [
    "Syntax adalah suatu aturan dalam penulisan kode pada pemrograman. Pada syntax itu tidak boleh diawali oleh angka harus kalimat atau disebut string. \n",
    "\n",
    "Contoh penulisan syntax:\n",
    "- jikalau dia string harus menggunakan petik (\"\")\n",
    "Nama = \"amelia\"\n",
    "\n",
    "- jikalau dia integer tidak menggunakan petik (\"\")\n",
    "usia = 23\n",
    "\n",
    "\n"
   ]
  },
  {
   "cell_type": "markdown",
   "id": "0a36d302",
   "metadata": {},
   "source": [
    "5. Sebutkan jenis-jenis tipe data !"
   ]
  },
  {
   "cell_type": "markdown",
   "id": "cc013b15",
   "metadata": {},
   "source": [
    "Jenis-jenis Tipe Data :\n",
    "1. Integer (int)\n",
    "- Integer merupakan tipe data berupa bilangan bulat baik itu positif maupun negatif akan tetapi dia tidak menggunakan desimal. Penulisan integer tidak perlu menggunakan petik (\"\") seperti string.\n",
    "- Contoh: 5\n",
    "\n",
    "2. String (str)\n",
    "- String merupakan tipe data berupa teks dan ditulis menggunakan tanda kutip (\"\").\n",
    "- Ditulis di dalam tanda kutip.\n",
    "- Contoh: \"Amelia\"\n",
    "\n",
    "3. Float \n",
    "- Float merupakan tipe data berbentuk bilangan desimal.\n",
    "- contoh : 3,14 \n",
    "\n",
    "4. Boolean \n",
    "- Boolean merupakan tipe data yang dimana dia logika menentukan nilai antara False ataupun True.\n",
    "\n",
    "5. List\n",
    "- List merupakan tipe data berupa umpulan data dalam satu variabel tapi dia bisa berisi tipe data campuran juga. Penulisan list itu menggunakan square bracket '[]'\n",
    "- contoh : [\"Botol\", \"charger\", \"mouse\"]\n",
    "\n",
    "6. Tuple\n",
    "- Tuple merupakan tipe data yang sama kayak list, tapi tidak bisa diubah. Penulisan tuple itu menggunakan round bracket '()'\n",
    "- contoh : (\"amel\",\"indah\", \"nadia\"), (2,3,6)\n",
    "\n",
    "7. Dictionary\n",
    "- Dictionary merupakan tipe data yang dimana dia terdapat key dan value serta penulisannya menggunakan kurung kurawal '{}'\n",
    "- contoh : {\"nama\" : \"amelia}, {\"umur\" : 23}"
   ]
  },
  {
   "cell_type": "markdown",
   "id": "3b9869a3",
   "metadata": {},
   "source": [
    "6. Buatlah program list dan memanggil elemen list tersebut berdasarkan\n",
    "indeks yang dipilih."
   ]
  },
  {
   "cell_type": "code",
   "execution_count": 13,
   "id": "ca6c3ef3",
   "metadata": {},
   "outputs": [
    {
     "name": "stdout",
     "output_type": "stream",
     "text": [
      "['Data Science', 'Digital Marketing', 'Microsoft Excel']\n",
      "Microsoft Excel\n"
     ]
    }
   ],
   "source": [
    "Program_Haltev = [\"Data Science\", \"Digital Marketing\", \"Microsoft Excel\"]\n",
    "\n",
    "print(Program_Haltev)\n",
    "print(Program_Haltev[2])"
   ]
  },
  {
   "cell_type": "markdown",
   "id": "c36c8ed1",
   "metadata": {},
   "source": [
    "7. Buatlah program list dan menambahkan data seperti “mangga” atau 20\n",
    "dengan menggunakan append atau insert."
   ]
  },
  {
   "cell_type": "code",
   "execution_count": 17,
   "id": "5412a505",
   "metadata": {},
   "outputs": [
    {
     "name": "stdout",
     "output_type": "stream",
     "text": [
      "['naga', 'pepaya', 'duku', 'mangga']\n",
      "[10, 20, 30, 40, 50]\n"
     ]
    }
   ],
   "source": [
    "buah = [\"naga\", \"pepaya\", \"duku\"]\n",
    "buah.append(\"mangga\")\n",
    "print(buah)\n",
    "\n",
    "angka = [10, 30, 40, 50]\n",
    "angka.insert(1, 20)\n",
    "print(angka)\n"
   ]
  },
  {
   "cell_type": "markdown",
   "id": "f834cff8",
   "metadata": {},
   "source": [
    "8. Buatlah program untuk sort list :\n",
    "```python \n",
    "Angka = [4, 2, 9, 1, 10, 12]\n",
    "```\n",
    "\n",
    "Output :\n",
    "```python \n",
    "[1, 2, 4, 9, 10, 12]\n",
    "```"
   ]
  },
  {
   "cell_type": "code",
   "execution_count": 23,
   "id": "17a6bb1f",
   "metadata": {},
   "outputs": [
    {
     "name": "stdout",
     "output_type": "stream",
     "text": [
      "[1, 2, 4, 9, 10, 12]\n"
     ]
    }
   ],
   "source": [
    "angka = [4,2,9,1,10,12]\n",
    "\n",
    "angka.sort()\n",
    "print(angka)"
   ]
  },
  {
   "cell_type": "markdown",
   "id": "eb3513ae",
   "metadata": {},
   "source": [
    "9. Buatlah program dictionary yang menyimpan key dan value. Selanjutnya\n",
    "memanggil dictionary tersebut.\n",
    "```python \n",
    "Nama_dictionary = {\n",
    "```\n",
    "```python \n",
    "“key”: value\n",
    "}\n",
    "```"
   ]
  },
  {
   "cell_type": "code",
   "execution_count": 28,
   "id": "838da018",
   "metadata": {},
   "outputs": [
    {
     "name": "stdout",
     "output_type": "stream",
     "text": [
      "{'nama': 'Amelia', 'umur': 23}\n"
     ]
    }
   ],
   "source": [
    "Biodataku = {\n",
    "    \"nama\": \"Amelia\",\n",
    "    \"umur\": 23,\n",
    "}\n",
    "\n",
    "print(Biodataku)"
   ]
  },
  {
   "cell_type": "markdown",
   "id": "911771bd",
   "metadata": {},
   "source": [
    "10. Apa perbedaan list dan dictionary yang kamu ketahui ?"
   ]
  },
  {
   "cell_type": "markdown",
   "id": "c5d74e7c",
   "metadata": {},
   "source": [
    "1. List\n",
    "- List merupakan tipe data berupa umpulan data dalam satu variabel tapi dia bisa berisi tipe data campuran juga. Penulisan list itu menggunakan square bracket '[]'\n",
    "- contoh : [\"Botol\", \"charger\", \"mouse\"]\n",
    "\n",
    "2. Dictionary\n",
    "- Dictionary merupakan tipe data yang dimana dia terdapat key dan value serta penulisannya menggunakan kurung kurawal '{}'\n",
    "- contoh : {\"nama\" : \"amelia}, {\"umur\" : 23}"
   ]
  },
  {
   "cell_type": "markdown",
   "id": "108a43f0",
   "metadata": {},
   "source": [
    "11. Bagaimana cara memanggil output yang diminta dari dictionary ini ?\n",
    "\n",
    "Output :\n",
    "Nama: Rani\n",
    "Umur: 20"
   ]
  },
  {
   "cell_type": "code",
   "execution_count": 29,
   "id": "1148ca2c",
   "metadata": {},
   "outputs": [
    {
     "name": "stdout",
     "output_type": "stream",
     "text": [
      "Nama: Rani\n",
      "Umur: 20\n"
     ]
    }
   ],
   "source": [
    "mahasiswa = [\n",
    "    {\"nama\": \"Rani\", \"umur\": 20},\n",
    "    {\"nama\": \"Budi\", \"umur\": 22},\n",
    "    {\"nama\": \"Lia\", \"umur\": 19}\n",
    "]\n",
    "\n",
    "print(\"Nama:\", mahasiswa[0][\"nama\"])\n",
    "print(\"Umur:\", mahasiswa[0][\"umur\"])"
   ]
  },
  {
   "cell_type": "markdown",
   "id": "7fc4aafc",
   "metadata": {},
   "source": [
    "12. Apa perbedaan integer dan float ? dan menurut anda apakah python dapat menyimpan data atau angka yang besar ?"
   ]
  },
  {
   "cell_type": "markdown",
   "id": "92e9b486",
   "metadata": {},
   "source": [
    "1. Integer\n",
    "- Integer merupakan tipe data berupa bilangan bulat baik itu positif maupun negatif akan tetapi dia tidak menggunakan desimal. Penulisan integer tidak perlu menggunakan petik (\"\") seperti string.\n",
    "- Contoh: 5\n",
    "\n",
    "2. Float\n",
    "- Float merupakan tipe data berbentuk bilangan desimal.\n",
    "- contoh : 3,14 \n",
    "\n",
    " Ya, python dapat menyimpan data atau angka yang besar."
   ]
  },
  {
   "cell_type": "markdown",
   "id": "ed36002e",
   "metadata": {},
   "source": [
    "13. Jelaskan perbedaan dari if, if else dan if elif else !"
   ]
  },
  {
   "cell_type": "markdown",
   "id": "fe04b48b",
   "metadata": {},
   "source": [
    "1. if\n",
    "   - Digunakan untuk **satu kondisi saja**. Jika kondisi benar (True), maka blok kode akan dijalankan.\n",
    "   - Contoh :\n",
    "   if nilai >= 75:\n",
    "       print(\"Lulus\")\n",
    "\n",
    "2. if else\n",
    "   -  Digunakan untuk **dua kemungkinan**: jika kondisi benar (`if`), lakukan A, **jika salah** (`else`), lakukan B.\n",
    "   -  contoh :\n",
    "   if nilai > 75:\n",
    "       print(\"Lulus\")\n",
    "   else:\n",
    "       print(\"Tidak Lulus\")\n",
    "\n",
    "3. if elif else\n",
    "   - Digunakan untuk **lebih dari dua kondisi**. `elif` adalah singkatan dari **else if**, digunakan untuk memeriksa kondisi tambahan.\n",
    "   - contoh :\n",
    "   if nilai > 85:\n",
    "       print(\"Sangat Baik\")\n",
    "   elif nilai > 75:\n",
    "       print(\"Baik\")\n",
    "   else:\n",
    "       print(\"Perlu Belajar Lagi\")"
   ]
  },
  {
   "cell_type": "markdown",
   "id": "e798664b",
   "metadata": {},
   "source": [
    "14. Buatlah program percabangan atau kondisi untuk mengecek kelulusan nilai."
   ]
  },
  {
   "cell_type": "code",
   "execution_count": 34,
   "id": "91f5ddb3",
   "metadata": {},
   "outputs": [
    {
     "name": "stdout",
     "output_type": "stream",
     "text": [
      "Selamat! Kamu LULUS.\n",
      "nilai : 90\n"
     ]
    }
   ],
   "source": [
    "nilai = int(input(\"Masukkan nilai Anda: \"))\n",
    "\n",
    "if nilai >= 75:\n",
    "    print(\"Selamat! Kamu LULUS.\")\n",
    "else:\n",
    "    print(\"Maaf, Kamu TIDAK LULUS.\")\n",
    "\n",
    "print(\"nilai :\", nilai)\n"
   ]
  },
  {
   "cell_type": "markdown",
   "id": "ef9653a1",
   "metadata": {},
   "source": [
    "15. Buatlah program percabangan untuk menentukan grade mahasiswa yang terdiri dari grade A, B, C , D dan E."
   ]
  },
  {
   "cell_type": "code",
   "execution_count": 42,
   "id": "9c09bba0",
   "metadata": {},
   "outputs": [
    {
     "name": "stdout",
     "output_type": "stream",
     "text": [
      "Grade: B\n",
      "nilai:  75\n"
     ]
    }
   ],
   "source": [
    "nilai = int(input(\"Masukkan nilai mahasiswa: \"))\n",
    "if nilai >= 80:\n",
    "    print(\"Grade: A\")\n",
    "elif nilai >= 70:\n",
    "    print(\"Grade: B\")\n",
    "elif nilai >= 60:\n",
    "    print(\"Grade: C\")\n",
    "elif nilai >= 50:\n",
    "    print(\"Grade: D\")\n",
    "else:\n",
    "    print(\"Grade: E\")\n",
    "\n",
    "print(\"nilai: \", nilai)\n"
   ]
  },
  {
   "cell_type": "markdown",
   "id": "f19fe41f",
   "metadata": {},
   "source": [
    "16. Buatlah program sistem login menggunakan percabangan :\n",
    "1) Melakukan input username dan password.\n",
    "2) Melakukan cek kondisi apakah username dan password sesuai.\n",
    "3) Jika sesuai maka berhasil login..\n",
    "4) Jika username salah berarti username salah.\n",
    "5) Jika password salah berarti password salah."
   ]
  },
  {
   "cell_type": "code",
   "execution_count": 40,
   "id": "6b9916bf",
   "metadata": {},
   "outputs": [
    {
     "name": "stdout",
     "output_type": "stream",
     "text": [
      "Login berhasil.\n"
     ]
    }
   ],
   "source": [
    "username = input(\"Masukkan username kamu: \")\n",
    "password = input(\"Masukkan password kamu: \")\n",
    "\n",
    "if username == \"ameliya\" and password == \"210297\":\n",
    "    print(\"Login berhasil.\")\n",
    "elif username != \"ameliya\":\n",
    "    print(\"Maaf, username salah. Silakan masukkan ulang username\")\n",
    "else:\n",
    "    print(\"Maaf, Password salah. Silakan masukkan ulang Password\")"
   ]
  },
  {
   "cell_type": "markdown",
   "id": "90606d1b",
   "metadata": {},
   "source": [
    "17. Berikut terdapat program nested if :\n",
    "1) Jelaskan dengan logika sederhana bagaimana alur program tersebut bekerja.\n",
    "2) Apa yang akan ditampilkan jika umur = 18 dan punya_ktp = False? Jelaskan kenapa.\n",
    "3) Apa yang akan ditampilkan jika umur = 8 dan punya_ktp = True? Jelaskan kenapa."
   ]
  },
  {
   "cell_type": "code",
   "execution_count": 49,
   "id": "5a1cf2d8",
   "metadata": {},
   "outputs": [
    {
     "name": "stdout",
     "output_type": "stream",
     "text": [
      "Sudah boleh membuat KTP.\n",
      "Tapi belum punya KTP, silakan urus ke Dukcapil\n"
     ]
    }
   ],
   "source": [
    "umur = 17\n",
    "punya_ktp = False\n",
    "\n",
    "if umur >= 17:\n",
    "    print(\"Sudah boleh membuat KTP.\")\n",
    "    if punya_ktp:\n",
    "        print(\"Dan sudah memiliki KTP\")\n",
    "    else:\n",
    "        print(\"Tapi belum punya KTP, silakan urus ke Dukcapil\")\n",
    "else:\n",
    "    print(\"Belum boleh membuat KTP karena masih di bawah umur\")\n",
    "    if umur < 10:\n",
    "        print(\"Masih terlalu muda untuk urusan administrasi\")\n"
   ]
  },
  {
   "cell_type": "markdown",
   "id": "af1c0da2",
   "metadata": {},
   "source": [
    "**JAWABAN LANJUTAN NO. 17**\n",
    "1. Jelaskan dengan logika sederhana bagaimana alur program tersebut!\n",
    "untuk awalan kita harus cek terlebih dahulu apakah umur >= 17:\n",
    "- Jika ya (benar):\n",
    "   print( \"Sudah boleh membuat KTP\")\n",
    "- Lalu cek lagi:\n",
    "  Jika punya_ktp adalah True, cetak: \"Dan sudah memiliki KTP\"\n",
    "  Jika False, cetak: \"Tapi belum punya KTP, silakan urus ke Dukcapil\"\n",
    "Kalau ternyata umurnya < 17:\n",
    "- maka hasil printnya : \"Belum boleh membuat KTP karena masih di bawah umur\"\n",
    "Untuk else itu dilakukan pengecekan ulang:\n",
    "Jika umur < 10, maka akan diprint : \"Masih terlalu muda untuk urusan administrasi\"\n",
    "\n",
    "2. Apa yang akan ditampilkan jika umur = 18 dan punya_ktp = False? Jelaskan kenapa.\n",
    "--> jika umur yang ditampilkan itu = 18 dan punya_ktp = False . Maka, hasil yang akan diprint itu \"Sudah boleh membuat KTP. Tapi, belum punya KTP silakan urus ke dukcapil\" karena pada penulisan logika bagian  if umur >= 17 itu dimana 18 >= 17 (True) sedangkan punya KTP (False) maka hasil yang dicetak ialah  Maka, hasil yang akan diprint itu \"Sudah boleh membuat KTP. Tapi, belum punya KTP silakan urus ke dukcapil.\n",
    "\n",
    "3. Apa yang akan ditampilkan jika umur = 8 dan punya_ktp = True? Jelaskan kenapa.\n",
    "--> Karena umur < 17 jd dia masuk ke bagian else. maka hasil akhirnya adalah \"Belum boleh membuat KTP karena masih di bawah umur.Masih terlalu muda untuk urusan administrasi\".\n",
    "\n"
   ]
  },
  {
   "cell_type": "markdown",
   "id": "076dcb06",
   "metadata": {},
   "source": [
    "18. Jelaskan mengenai Booelan AND, OR dan NOT"
   ]
  },
  {
   "cell_type": "markdown",
   "id": "5165236a",
   "metadata": {},
   "source": [
    "1. AND (&&)\n",
    "- Menghasilkan True hanya jika kedua kondisi bernilai True.\n",
    "- Contoh: True and False = False\n",
    "\n",
    "2. OR (||)\n",
    "- Menghasilkan True jika salah satu kondisi bernilai True.\n",
    "- Contoh: True or False → True\n",
    "\n",
    "3. NOT\n",
    "- Membalik nilai boolean:\n",
    "- contoh : not True = False\n"
   ]
  },
  {
   "cell_type": "markdown",
   "id": "d2833d05",
   "metadata": {},
   "source": [
    "19. Buatlah program looping untuk menampilkan 0– 10."
   ]
  },
  {
   "cell_type": "code",
   "execution_count": 50,
   "id": "4e2aa2c5",
   "metadata": {},
   "outputs": [
    {
     "name": "stdout",
     "output_type": "stream",
     "text": [
      "0\n",
      "1\n",
      "2\n",
      "3\n",
      "4\n",
      "5\n",
      "6\n",
      "7\n",
      "8\n",
      "9\n",
      "10\n"
     ]
    }
   ],
   "source": [
    "i = 0\n",
    "while i <= 10:\n",
    "    print(i)\n",
    "    i += 1"
   ]
  },
  {
   "cell_type": "markdown",
   "id": "b4b0a8eb",
   "metadata": {},
   "source": [
    "20. Buatlah program looping untuk menampilkan 1 – 5."
   ]
  },
  {
   "cell_type": "code",
   "execution_count": 52,
   "id": "38a79740",
   "metadata": {},
   "outputs": [
    {
     "name": "stdout",
     "output_type": "stream",
     "text": [
      "1\n",
      "2\n",
      "3\n",
      "4\n",
      "5\n"
     ]
    }
   ],
   "source": [
    "i = 1\n",
    "while i <= 5:\n",
    "    print(i)\n",
    "    i += 1\n"
   ]
  },
  {
   "cell_type": "markdown",
   "id": "6546f5b3",
   "metadata": {},
   "source": [
    "21. Buatlah program looping namun jika ketemu angka 4 maka akan di skip atau continue."
   ]
  },
  {
   "cell_type": "code",
   "execution_count": 56,
   "id": "593b2930",
   "metadata": {},
   "outputs": [
    {
     "name": "stdout",
     "output_type": "stream",
     "text": [
      "0\n",
      "1\n",
      "2\n",
      "3\n",
      "5\n"
     ]
    }
   ],
   "source": [
    "for i in range(6):\n",
    "    if i == 4:\n",
    "        continue\n",
    "    print(i)"
   ]
  },
  {
   "cell_type": "markdown",
   "id": "83527861",
   "metadata": {},
   "source": [
    "22. Buatlah program looping untuk menampilkan string."
   ]
  },
  {
   "cell_type": "code",
   "execution_count": 58,
   "id": "d3dc6946",
   "metadata": {},
   "outputs": [
    {
     "name": "stdout",
     "output_type": "stream",
     "text": [
      "Hai, Perkenalkan namaku Amelia!\n",
      "Hai, Perkenalkan namaku Amelia!\n",
      "Hai, Perkenalkan namaku Amelia!\n"
     ]
    }
   ],
   "source": [
    "for i in range(3):\n",
    "    print(\"Hai, Perkenalkan namaku Amelia!\")\n"
   ]
  },
  {
   "cell_type": "markdown",
   "id": "55efe651",
   "metadata": {},
   "source": [
    "23. Buatlah program looping untuk menampilkan string namun secara\n",
    "reversed."
   ]
  },
  {
   "cell_type": "code",
   "execution_count": 62,
   "id": "c2796049",
   "metadata": {},
   "outputs": [
    {
     "name": "stdout",
     "output_type": "stream",
     "text": [
      "s\n",
      "i\n",
      "m\n",
      "a\n",
      "k\n",
      " \n",
      "i\n",
      "r\n",
      "a\n",
      "h\n"
     ]
    }
   ],
   "source": [
    "for x in reversed(\"hari kamis\"):\n",
    "    print(x)"
   ]
  },
  {
   "cell_type": "markdown",
   "id": "7d365f7f",
   "metadata": {},
   "source": [
    "24. Buatlah program list dan panggil list tersebut menggunakan looping"
   ]
  },
  {
   "cell_type": "code",
   "execution_count": null,
   "id": "f914cfbc",
   "metadata": {},
   "outputs": [
    {
     "name": "stdout",
     "output_type": "stream",
     "text": [
      "apel\n",
      "jeruk\n",
      "mangga\n"
     ]
    }
   ],
   "source": [
    "buah = [\"apel\", \"jeruk\", \"mangga\"]\n",
    "\n",
    "for item in buah:\n",
    "    print(item)"
   ]
  }
 ],
 "metadata": {
  "kernelspec": {
   "display_name": "Python 3",
   "language": "python",
   "name": "python3"
  },
  "language_info": {
   "codemirror_mode": {
    "name": "ipython",
    "version": 3
   },
   "file_extension": ".py",
   "mimetype": "text/x-python",
   "name": "python",
   "nbconvert_exporter": "python",
   "pygments_lexer": "ipython3",
   "version": "3.13.0"
  }
 },
 "nbformat": 4,
 "nbformat_minor": 5
}
