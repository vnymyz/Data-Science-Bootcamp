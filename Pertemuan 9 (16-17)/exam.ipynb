{
 "cells": [
  {
   "cell_type": "code",
   "execution_count": null,
   "id": "b1ae34d2",
   "metadata": {},
   "outputs": [],
   "source": [
    "# Nomor 1.\n",
    "print(\"Halo, Semua !\")\n",
    "print(\"Ini adalah program pertama saya\")"
   ]
  },
  {
   "cell_type": "code",
   "execution_count": null,
   "id": "83929c02",
   "metadata": {},
   "outputs": [],
   "source": [
    "# Nomor 2.\n",
    "name = input(\"masukkan nama kamu : \")\n",
    "age = input(\"masukkan usia kamu: \")\n",
    "\n",
    "print(f\"Halo {name} ! kamu berusia {age} tahun\")"
   ]
  },
  {
   "cell_type": "code",
   "execution_count": null,
   "id": "c1dd9b3c",
   "metadata": {},
   "outputs": [],
   "source": [
    "# Nomor 3.\n",
    "a = float(input(\"Masukkan angka pertama: \"))\n",
    "b = float(input(\"Masukkan angka kedua: \"))\n",
    "\n",
    "print(\"Penjumlahan:\", a + b)\n",
    "print(\"Pengurangan:\", a - b)"
   ]
  },
  {
   "cell_type": "code",
   "execution_count": null,
   "id": "e4608e39",
   "metadata": {},
   "outputs": [],
   "source": [
    "# Nomor 4\n",
    "print(\"Hello, Python!\")  # Ini adalah syntax Python untuk mencetak teks"
   ]
  },
  {
   "cell_type": "code",
   "execution_count": null,
   "id": "f8648fc4",
   "metadata": {},
   "outputs": [],
   "source": [
    "# Nomor 5\n",
    "# Integer (int)\n",
    "# Float (float)\n",
    "# String (str)\n",
    "# Boolean (bool)\n",
    "# List (list)\n",
    "# Tuple (tuple)\n",
    "# Dictionary (dict)\n",
    "# Set (set)"
   ]
  },
  {
   "cell_type": "code",
   "execution_count": null,
   "id": "6804b12c",
   "metadata": {},
   "outputs": [],
   "source": [
    "# Nomor 6\n",
    "buah = [\"apel\", \"pisang\", \"jeruk\"]\n",
    "print(buah[1])  # pisang"
   ]
  },
  {
   "cell_type": "code",
   "execution_count": null,
   "id": "70e23cd2",
   "metadata": {},
   "outputs": [],
   "source": [
    "# Nomor 7\n",
    "data = [10, 30]\n",
    "data.append(\"mangga\")\n",
    "data.insert(1, 20)\n",
    "print(data)"
   ]
  },
  {
   "cell_type": "code",
   "execution_count": null,
   "id": "3114cfd6",
   "metadata": {},
   "outputs": [],
   "source": [
    "# Nomor 8\n",
    "angka = [4, 2, 9, 1, 10, 12]\n",
    "angka.sort()\n",
    "print(angka)"
   ]
  },
  {
   "cell_type": "code",
   "execution_count": null,
   "id": "1720e5b9",
   "metadata": {},
   "outputs": [],
   "source": [
    "# Nomor 9\n",
    "biodata = {\n",
    "    \"nama\": \"Rani\",\n",
    "    \"umur\": 20\n",
    "}\n",
    "print(\"Nama:\", biodata[\"nama\"])\n",
    "print(\"Umur:\", biodata[\"umur\"])\n",
    "print(biodata)"
   ]
  },
  {
   "cell_type": "code",
   "execution_count": null,
   "id": "4af89a1f",
   "metadata": {},
   "outputs": [],
   "source": [
    "# Nomor 10\n",
    "# List menyimpan data dalam urutan, sedangkan Dictionary menyimpan pasangan key-value."
   ]
  },
  {
   "cell_type": "code",
   "execution_count": null,
   "id": "67805e9d",
   "metadata": {},
   "outputs": [],
   "source": [
    "# Nomor 11\n",
    "# List of dictionaries\n",
    "mahasiswa = [\n",
    "    {\"nama\": \"Rani\", \"umur\": 20},\n",
    "    {\"nama\": \"Budi\", \"umur\": 22},\n",
    "    {\"nama\": \"Lia\", \"umur\": 19}\n",
    "]\n",
    "\n",
    "# Memanggil data Rani\n",
    "print(\"Nama:\", mahasiswa[2][\"nama\"])\n",
    "print(\"Umur:\", mahasiswa[2][\"umur\"])\n"
   ]
  },
  {
   "cell_type": "code",
   "execution_count": null,
   "id": "bf1ea032",
   "metadata": {},
   "outputs": [],
   "source": [
    "# Nomor 12\n",
    "# Integer adalah bilangan bulat. Float adalah bilangan desimal. \n",
    "# Python dapat menyimpan angka besar karena mendukung tipe data arbitrarily large integers."
   ]
  },
  {
   "cell_type": "code",
   "execution_count": null,
   "id": "c922c82e",
   "metadata": {},
   "outputs": [],
   "source": [
    "# Nomor 13\n",
    "nilai = 75\n",
    "if nilai > 80:\n",
    "    print(\"Bagus\")\n",
    "elif nilai >= 60:\n",
    "    print(\"Cukup\")\n",
    "else:\n",
    "    print(\"Kurang\")"
   ]
  },
  {
   "cell_type": "code",
   "execution_count": null,
   "id": "a40b4dac",
   "metadata": {},
   "outputs": [],
   "source": [
    "# nomor 14\n",
    "nilai = int(input(\"Masukkan nilai: \"))\n",
    "if nilai >= 60:\n",
    "    print(\"Lulus\")\n",
    "else:\n",
    "    print(\"Tidak Lulus\")"
   ]
  },
  {
   "cell_type": "code",
   "execution_count": null,
   "id": "1bee5565",
   "metadata": {},
   "outputs": [],
   "source": [
    "# Nomor 15\n",
    "nilai = int(input(\"Masukkan nilai: \"))\n",
    "if nilai >= 85:\n",
    "    print(\"Grade A\")\n",
    "elif nilai >= 75:\n",
    "    print(\"Grade B\")\n",
    "elif nilai >= 65:\n",
    "    print(\"Grade C\")\n",
    "elif nilai >= 50:\n",
    "    print(\"Grade D\")\n",
    "else:\n",
    "    print(\"Grade E\")\n"
   ]
  },
  {
   "cell_type": "code",
   "execution_count": null,
   "id": "7743c9f9",
   "metadata": {},
   "outputs": [],
   "source": [
    "# Nomor 16\n",
    "username = input(\"Username: \")\n",
    "password = input(\"Password: \")\n",
    "\n",
    "if username == \"admin\" and password == \"12345\":\n",
    "    print(\"Berhasil login.\")\n",
    "elif username != \"admin\":\n",
    "    print(\"Username salah.\")\n",
    "elif password != \"12345\":\n",
    "    print(\"Password salah.\")"
   ]
  },
  {
   "cell_type": "code",
   "execution_count": null,
   "id": "f13cb5b7",
   "metadata": {},
   "outputs": [],
   "source": [
    "# Nomor 17\n",
    "umur = 8\n",
    "punya_ktp = True\n",
    "\n",
    "if umur >= 17:\n",
    "    print(\"Sudah boleh membuat KTP\")\n",
    "    if punya_ktp:\n",
    "        print(\"Dan sudah memiliki KTP\")\n",
    "    else:\n",
    "        print(\"Tapi belum punya KTP, silakan urus ke Dukcapil\")\n",
    "else:\n",
    "    print(\"Belum boleh membuat KTP karena masih di bawah umur\")\n",
    "    if umur < 10:\n",
    "        print(\"Masih terlalu muda untuk urusan administrasi\")"
   ]
  },
  {
   "cell_type": "code",
   "execution_count": null,
   "id": "f897dbc4",
   "metadata": {},
   "outputs": [],
   "source": [
    "# No 18\n",
    "a = True\n",
    "b = False\n",
    "\n",
    "print(\"AND:\", a and b)  # False\n",
    "print(\"OR:\", a or b)    # True\n",
    "print(\"NOT:\", not a)    # False\n"
   ]
  },
  {
   "cell_type": "code",
   "execution_count": null,
   "id": "e62a954f",
   "metadata": {},
   "outputs": [],
   "source": [
    "# No 19\n",
    "for i in range(11):\n",
    "    print(i)"
   ]
  },
  {
   "cell_type": "code",
   "execution_count": null,
   "id": "603e89c4",
   "metadata": {},
   "outputs": [],
   "source": [
    "# No. 20\n",
    "for i in range(1, 6):\n",
    "    print(i)"
   ]
  },
  {
   "cell_type": "code",
   "execution_count": null,
   "id": "e1be6a02",
   "metadata": {},
   "outputs": [],
   "source": [
    "# No. 21\n",
    "for i in range(1, 6):\n",
    "    if i == 4:\n",
    "        continue\n",
    "    print(i)\n"
   ]
  },
  {
   "cell_type": "code",
   "execution_count": null,
   "id": "359af993",
   "metadata": {},
   "outputs": [],
   "source": [
    "# No. 22\n",
    "teks = \"Belajar Python\"\n",
    "for huruf in teks:\n",
    "    print(huruf)"
   ]
  },
  {
   "cell_type": "code",
   "execution_count": null,
   "id": "0b6056f8",
   "metadata": {},
   "outputs": [],
   "source": [
    "# No 23\n",
    "teks = \"Python For Data Science\"\n",
    "for huruf in reversed(teks):\n",
    "    print(huruf)\n"
   ]
  },
  {
   "cell_type": "code",
   "execution_count": null,
   "id": "cf96abc5",
   "metadata": {},
   "outputs": [],
   "source": [
    "# No 24\n",
    "buah = [\"apel\", \"jeruk\", \"mangga\"]\n",
    "for item in buah:\n",
    "    print(item)\n"
   ]
  },
  {
   "cell_type": "code",
   "execution_count": null,
   "id": "90a7e97f",
   "metadata": {},
   "outputs": [],
   "source": [
    "# No 25\n",
    "while True:\n",
    "    print(\"\\nMenu Makanan:\")\n",
    "    print(\"1. Nasi Goreng\")\n",
    "    print(\"2. Mie Ayam\")\n",
    "    print(\"3. Sate\")\n",
    "    print(\"4. Keluar\")\n",
    "\n",
    "    pilihan = int(input(\"Pilih menu: \"))\n",
    "    \n",
    "    if pilihan == 1:\n",
    "        print(\"Anda memilih Nasi Goreng\")\n",
    "    elif pilihan == 2:\n",
    "        print(\"Anda memilih Mie Ayam\")\n",
    "    elif pilihan == 3:\n",
    "        print(\"Anda memilih Sate\")\n",
    "    elif pilihan == 4:\n",
    "        print(\"Keluar program.\")\n",
    "        break\n",
    "    else:\n",
    "        print(\"Pilihan tidak valid.\")\n"
   ]
  },
  {
   "cell_type": "code",
   "execution_count": 59,
   "id": "e1036ae8",
   "metadata": {},
   "outputs": [
    {
     "name": "stdout",
     "output_type": "stream",
     "text": [
      "Perulangan ke- 0\n",
      "Perulangan ke- 1\n",
      "Perulangan ke- 2\n",
      "Perulangan ke- 3\n",
      "Perulangan ke- 4\n"
     ]
    }
   ],
   "source": [
    "# No 26\n",
    "for i in range(5):\n",
    "    print(\"Perulangan ke-\", i)"
   ]
  },
  {
   "cell_type": "code",
   "execution_count": 60,
   "id": "57728839",
   "metadata": {},
   "outputs": [
    {
     "name": "stdout",
     "output_type": "stream",
     "text": [
      "25\n",
      "49\n"
     ]
    }
   ],
   "source": [
    "# No 27\n",
    "def kuadrat(x):\n",
    "    print(x * x)\n",
    "\n",
    "kuadrat(5)\n",
    "kuadrat(7)\n"
   ]
  },
  {
   "cell_type": "code",
   "execution_count": 61,
   "id": "ecf84102",
   "metadata": {},
   "outputs": [
    {
     "name": "stdout",
     "output_type": "stream",
     "text": [
      "Selamat Ulang Tahun Dina!\n",
      "Kamu berumur 25\n",
      "Kamu sudah tua ya Dina\n"
     ]
    }
   ],
   "source": [
    "# No.28\n",
    "def ulang_tahun(nama, umur):\n",
    "    print(f\"Selamat Ulang Tahun {nama}!\")\n",
    "    print(f\"Kamu berumur {umur}\")\n",
    "    print(f\"Kamu sudah tua ya {nama}\")\n",
    "\n",
    "ulang_tahun(\"Dina\", 25)\n"
   ]
  },
  {
   "cell_type": "code",
   "execution_count": 62,
   "id": "b911ce78",
   "metadata": {},
   "outputs": [
    {
     "name": "stdout",
     "output_type": "stream",
     "text": [
      "Halo dari Induk\n"
     ]
    }
   ],
   "source": [
    "# No. 29\n",
    "class Induk:\n",
    "    def sapa(self):\n",
    "        print(\"Halo dari Induk\")\n",
    "\n",
    "class Anak(Induk):\n",
    "    pass\n",
    "\n",
    "obj = Anak()\n",
    "obj.sapa()\n"
   ]
  },
  {
   "cell_type": "code",
   "execution_count": 63,
   "id": "96654d78",
   "metadata": {},
   "outputs": [
    {
     "name": "stdout",
     "output_type": "stream",
     "text": [
      "Saldo: 150000\n"
     ]
    }
   ],
   "source": [
    "# No. 30\n",
    "class AkunBank:\n",
    "    def __init__(self, nama, saldo):\n",
    "        self.nama = nama\n",
    "        self.__saldo = saldo\n",
    "\n",
    "    def lihat_saldo(self):\n",
    "        return self.__saldo\n",
    "\n",
    "    def setor(self, jumlah):\n",
    "        if jumlah > 0:\n",
    "            self.__saldo += jumlah\n",
    "        else:\n",
    "            print(\"Jumlah tidak valid!\")\n",
    "\n",
    "akun = AkunBank(\"Joe\", 100000)\n",
    "akun.setor(50000)\n",
    "print(\"Saldo:\", akun.lihat_saldo())\n",
    "\n",
    "# Metode OOP :Encapsulation (karena __saldo disembunyikan)\n",
    "# Jika akun.setor = 150000 → Akan menimpa method setor dengan value dan membuat error saat memanggil akun.setor(...)\n",
    "# Alur: membuat objek, menyetor uang, dan melihat saldo dengan metode yang aman dari modifikasi langsung.\n"
   ]
  },
  {
   "cell_type": "markdown",
   "id": "cc31ddcf",
   "metadata": {},
   "source": [
    "*****************"
   ]
  },
  {
   "cell_type": "code",
   "execution_count": null,
   "id": "a8f4dacb",
   "metadata": {},
   "outputs": [],
   "source": [
    "# Nomor 19 Nadia\n",
    "i = 0\n",
    "while i < 11:\n",
    "    print(i)\n",
    "    i += 1\n"
   ]
  },
  {
   "cell_type": "code",
   "execution_count": null,
   "id": "ac24291e",
   "metadata": {},
   "outputs": [],
   "source": [
    "# Nomor 20 Nadia\n",
    "i = 0\n",
    "while i < 6:\n",
    "    i += 1\n",
    "    print(i)\n",
    "    "
   ]
  }
 ],
 "metadata": {
  "kernelspec": {
   "display_name": "Python 3",
   "language": "python",
   "name": "python3"
  },
  "language_info": {
   "codemirror_mode": {
    "name": "ipython",
    "version": 3
   },
   "file_extension": ".py",
   "mimetype": "text/x-python",
   "name": "python",
   "nbconvert_exporter": "python",
   "pygments_lexer": "ipython3",
   "version": "3.10.6"
  }
 },
 "nbformat": 4,
 "nbformat_minor": 5
}
