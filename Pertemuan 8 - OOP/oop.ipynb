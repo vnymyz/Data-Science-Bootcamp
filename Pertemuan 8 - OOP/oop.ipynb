{
 "cells": [
  {
   "cell_type": "markdown",
   "id": "e8ba8691",
   "metadata": {},
   "source": [
    "# Pertemuan 8\n",
    "**********\n",
    "# Object Oriented Programming (OOP)\n",
    "**************"
   ]
  },
  {
   "cell_type": "markdown",
   "id": "4cf958b8",
   "metadata": {},
   "source": [
    "## 1. Apa itu OOP (Object Oriented Programming)?\n",
    "\n",
    "- OOP adalah paradigma pemrograman yang berfokus pada objek. Objek merepresentasikan data (atribut) dan perilaku (fungsi/metode).\n",
    "\n",
    "- **Tujuan OOP**: membuat kode lebih modular, mudah dipelihara, dan digunakan ulang (reusability).\n",
    "\n",
    "- Objek = kombinasi data (atribut) + fungsi (method) → yang meniru perilaku dunia nyata.\n",
    "\n",
    "\n",
    "> \"Kucing\" adalah objek. Ia punya nama, warna (atribut), dan bisa meong() atau tidur() (method)."
   ]
  },
  {
   "cell_type": "markdown",
   "id": "03a33efe",
   "metadata": {},
   "source": [
    "## 2. Jenis - Jenis OOP"
   ]
  },
  {
   "cell_type": "markdown",
   "id": "df90fc56",
   "metadata": {},
   "source": [
    "1. Encapsulation (Enkapsulasi)\n",
    "\n",
    "2. Inheritance (Pewarisan)\n",
    "\n",
    "3. Polymorphism (Polimorfisme)\n",
    "\n",
    "4. Abstraction (Abstraksi)\n",
    "\n",
    "### 2.1 Penjelasan Teori\n",
    "\n",
    "| Pilar OOP         | Pengertian                                                                                    |\n",
    "| ----------------- | --------------------------------------------------------------------------------------------- |\n",
    "| **Encapsulation** | Membungkus data dan method dalam satu kesatuan (class), menyembunyikan akses langsung ke data |\n",
    "| **Inheritance**   | Pewarisan atribut dan method dari class induk ke class anak                                   |\n",
    "| **Polymorphism**  | Kemampuan objek untuk memiliki banyak bentuk (method sama, perilaku berbeda)                  |\n",
    "| **Abstraction**   | Menyembunyikan detail implementasi dan hanya menampilkan fitur penting                        |\n",
    "\n",
    "### 2.2 Penjelasan Analogi\n",
    "\n",
    "| Pilar OOP         | Fungsi Singkat                                   | Analogi Kehidupan Nyata                                                          |\n",
    "| ----------------- | ------------------------------------------------ | -------------------------------------------------------------------------------- |\n",
    "| **Encapsulation** | Melindungi data, hanya bisa diakses lewat method | ATM: kita bisa ambil uang dengan PIN, tapi tidak bisa langsung buka isi mesinnya |\n",
    "| **Inheritance**   | Mengurangi duplikasi kode                        | Anak mewarisi sifat orang tua, tapi bisa juga punya ciri khas sendiri            |\n",
    "| **Polymorphism**  | Membuat method bisa bekerja untuk banyak tipe    | Tombol “power” di berbagai perangkat, fungsinya berbeda                          |\n",
    "| **Abstraction**   | Menyembunyikan kompleksitas                      | Kita bisa mengendarai mobil tanpa tahu cara kerja mesin di dalamnya              |\n"
   ]
  },
  {
   "cell_type": "markdown",
   "id": "389c3867",
   "metadata": {},
   "source": [
    "##### 1. Encapsulation (Pembungkusan)\n",
    "\n",
    "- Analogi: Seperti ATM\n",
    "\n",
    "- Kamu bisa mengambil uang lewat antarmuka (tombol dan layar),\n",
    "\n",
    "- Tapi kamu tidak bisa melihat atau mengubah isi mesinnya langsung.\n",
    "\n",
    "- ATM hanya memberikan akses terbatas untuk melindungi data di dalamnya.\n",
    "\n",
    "- Logika nya. Data disimpan rapat-rapat (misalnya __saldo), hanya bisa diakses lewat pintu resmi (method seperti cek_saldo() atau setor()).\n",
    "\n",
    "##### 2. Inheritance (Pewarisan)\n",
    "\n",
    "- Analogi: Seperti anak mewarisi sifat dari orang tua\n",
    "\n",
    "- Orang tua punya nama, alamat, kebiasaan → anak juga punya.\n",
    "\n",
    "- Tapi anak bisa punya hal baru, misalnya hobi sendiri.\n",
    "\n",
    "- Logika nya. Class anak mewarisi semua atribut dan method dari class induk, tapi bisa nambah atau ubah sesuai kebutuhan.\n",
    "\n",
    "##### 3. Polymorphism (Banyak Bentuk)\n",
    "\n",
    "- Analogi: Tombol \"Play\"\n",
    "\n",
    "- Di TV, tombol \"Play\" memutar video.\n",
    "\n",
    "- Di speaker, tombol \"Play\" memutar lagu.\n",
    "\n",
    "- Tombolnya sama, tapi aksi yang dilakukan tergantung alatnya.\n",
    "\n",
    "- Logikanya: Method play() bisa dipanggil dari banyak class, tapi hasilnya berbeda-beda sesuai objeknya.\n",
    "\n",
    "##### 4. Abstraction (Abstraksi)\n",
    "- Analogi: Menyetir mobil\n",
    "\n",
    "- Kamu tahu cara menyetir, injak gas, rem, dll.\n",
    "\n",
    "- Tapi kamu tidak perlu tahu bagaimana mesin bekerja di dalamnya.\n",
    "\n",
    "- Logikanya: Kita hanya fokus pada fitur penting yang perlu digunakan, tanpa perlu tahu detail implementasinya."
   ]
  },
  {
   "cell_type": "markdown",
   "id": "6c632047",
   "metadata": {},
   "source": [
    "| Konsep OOP    | Analogi Kehidupan                      | Fokus Utama                       |\n",
    "| ------------- | -------------------------------------- | --------------------------------- |\n",
    "| Encapsulation | ATM → hanya akses terbatas ke isi      | Melindungi data dari akses bebas  |\n",
    "| Inheritance   | Anak mewarisi sifat orang tua          | Reuse kode dan relasi antar class |\n",
    "| Polymorphism  | Tombol \"Play\" di alat berbeda          | Satu method, banyak bentuk        |\n",
    "| Abstraction   | Menyetir mobil tanpa tahu isi mesinnya | Sederhanakan penggunaan fitur     |\n"
   ]
  },
  {
   "cell_type": "markdown",
   "id": "a2a43c82",
   "metadata": {},
   "source": [
    "## 3. Struktur Dasar Program OOP"
   ]
  },
  {
   "cell_type": "markdown",
   "id": "2397f9f2",
   "metadata": {},
   "source": [
    "### 3.1 Encapsulation"
   ]
  },
  {
   "cell_type": "code",
   "execution_count": null,
   "id": "5bf5f6a0",
   "metadata": {},
   "outputs": [],
   "source": [
    "class Contoh:\n",
    "    def __init__(self):\n",
    "        self.__data = \"private\"\n",
    "\n",
    "    def tampil(self):\n",
    "        print(self.__data)\n"
   ]
  },
  {
   "cell_type": "code",
   "execution_count": null,
   "id": "8bd38201",
   "metadata": {},
   "outputs": [],
   "source": [
    "class Contoh:\n",
    "    # Constructor (method yang otomatis dipanggil saat objek dibuat)\n",
    "    def __init__(self):\n",
    "        # __data adalah atribut private (hanya bisa diakses dari dalam class)\n",
    "        # Tanda double underscore (__) digunakan untuk menyembunyikan atribut ini dari luar\n",
    "        self.__data = \"private\"\n",
    "\n",
    "    # Method publik untuk mengakses nilai dari atribut __data\n",
    "    def tampil(self):\n",
    "        # Menampilkan isi dari atribut __data\n",
    "        print(self.__data) # kita memanggil function private\n",
    "\n",
    "\n",
    "# Membuat objek dari class Contoh\n",
    "objek = Contoh()\n",
    "\n",
    "# Memanggil method tampil() untuk melihat isi data private\n",
    "objek.tampil()  # Output: private\n",
    "\n",
    "# Akses langsung seperti ini akan error:\n",
    "# print(objek.__data)  ❌ AttributeError karena __data bersifat private\n"
   ]
  },
  {
   "cell_type": "markdown",
   "id": "73e994b2",
   "metadata": {},
   "source": [
    "**Penjelasan** :\n",
    "#### 1. `class`\n",
    "- Mendefinisikan sebuah class bernama Contoh.\n",
    "\n",
    "- Class adalah blueprint atau cetakan untuk membuat objek.\n",
    "\n",
    "#### 2. `def __init__(self)`\n",
    "- Ini adalah constructor.\n",
    "\n",
    "- Method ini otomatis dipanggil saat objek dibuat dari class.\n",
    "\n",
    "- self merujuk pada instance dari class tersebut (objeknya).\n",
    "\n",
    "#### 3. `self.__data = \"private\"`\n",
    "- __data adalah atribut (variabel dalam objek) yang disimpan dalam objek.\n",
    "\n",
    "- Awalan __ (double underscore) menunjukkan bahwa variabel ini bersifat private, artinya:\n",
    "    - Tidak bisa diakses langsung dari luar class (obj.__data akan error).\n",
    "\n",
    "    - Hanya bisa diakses dari dalam class itu sendiri.\n",
    "\n",
    "    >Tujuan utama dari encapsulation adalah menjaga data agar tidak sembarangan diubah atau dibaca dari luar class.\n",
    "\n",
    "### 4. `def tampil(self)`\n",
    "- Method ini berfungsi untuk menampilkan isi dari __data.\n",
    "\n",
    "- Ini adalah akses terkendali ke data private __data."
   ]
  },
  {
   "cell_type": "code",
   "execution_count": null,
   "id": "e6640825",
   "metadata": {},
   "outputs": [],
   "source": [
    "objek = Contoh()\n",
    "objek.tampil()       # ✅ Output: private\n",
    "print(objek.__data)  # ❌ Error! Karena __data bersifat private"
   ]
  },
  {
   "cell_type": "markdown",
   "id": "6ef7834e",
   "metadata": {},
   "source": [
    "#### 5. Kesimpulan Encapsulation\n",
    "\n",
    "- Private data disimpan dalam `class (__data)`\n",
    "\n",
    "- Akses dibatasi, hanya bisa melalui method tertentu (misalnya `tampil)`\n",
    "\n",
    "- Mencegah pengubahan data sembarangan dari luar"
   ]
  },
  {
   "cell_type": "markdown",
   "id": "c7cf3a12",
   "metadata": {},
   "source": [
    "### 3.2 Inheritance"
   ]
  },
  {
   "cell_type": "code",
   "execution_count": null,
   "id": "9d20f617",
   "metadata": {},
   "outputs": [],
   "source": [
    "class Induk:\n",
    "    def salam(self):\n",
    "        print(\"Halo dari induk\") # sifat dari induk\n",
    "\n",
    "class Anak(Induk):\n",
    "    pass # dia ngambil sifat dari si induk"
   ]
  },
  {
   "cell_type": "code",
   "execution_count": null,
   "id": "210a9932",
   "metadata": {},
   "outputs": [],
   "source": [
    "# Class induk (superclass)\n",
    "class Induk: \n",
    "    # Method salam() dimiliki oleh class Induk\n",
    "    def salam(self):\n",
    "        print(\"Halo dari induk\")\n",
    "\n",
    "# Class Anak mewarisi class Induk\n",
    "class Anak(Induk): # class turunan\n",
    "    # Tidak menambahkan method atau atribut baru\n",
    "    # Namun class ini secara otomatis mewarisi semua yang dimiliki class Induk\n",
    "    pass\n",
    "\n",
    "# Membuat objek dari class Anak\n",
    "objek = Anak()\n",
    "\n",
    "# Memanggil method salam() dari objek class Anak\n",
    "# Karena class Anak mewarisi dari Induk, maka bisa menggunakan method salam() milik Induk\n",
    "objek.salam()\n",
    "  # Output: Halo dari induk\n"
   ]
  },
  {
   "cell_type": "markdown",
   "id": "f6bb4e03",
   "metadata": {},
   "source": [
    "**Penjelasan :**\n",
    "\n",
    "#### 1. `class Induk`\n",
    "- Mendeklarasikan class bernama Induk. Ini adalah class induk (superclass).\n",
    "\n",
    "#### 2. `def salam(self)`\n",
    "- Method bernama salam(). Parameter self merepresentasikan objek dari class ini.\n",
    "\n",
    "#### 3. `print(\"Halo dari induk\")`\n",
    "- Saat method salam() dipanggil, maka akan menampilkan teks \"Halo dari induk\" ke layar.\n",
    "\n",
    "#### 4. `class Anak(Induk)`\n",
    "- Mendeklarasikan class bernama Anak yang mewarisi class Induk. Artinya, Anak bisa memakai semua method dari Induk.\n",
    "\n",
    "#### 5. `pass`\n",
    "- Digunakan ketika tidak ada isi tambahan. Tapi class tetap valid. Anak tetap punya method salam() karena diwarisi dari Induk.\n",
    "\n",
    "#### 6. `obj = Anak()`\n",
    "- Membuat objek dari class Anak. Constructor default dipakai karena tidak didefinisikan secara eksplisit.\n",
    "\n",
    "#### 7. `obj.salam()`\n",
    "- Memanggil method salam() dari objek obj. \n",
    "\n",
    "- Karena class Anak tidak punya salam(), Python akan mencari ke class induk (Induk) → dan menjalankan print(\"Halo dari induk\").\n",
    "\n",
    "**Jadi, program ini mendemonstrasikan pewarisan/inheritance:**\n",
    "\n",
    "**Objek dari Anak bisa menggunakan method dari Induk, walaupun Anak tidak mendefinisikan method itu sendiri.**"
   ]
  },
  {
   "cell_type": "markdown",
   "id": "805f5e08",
   "metadata": {},
   "source": [
    "### 3.3 Polymorphism"
   ]
  },
  {
   "cell_type": "code",
   "execution_count": null,
   "id": "5b9f9938",
   "metadata": {},
   "outputs": [],
   "source": [
    "class Hewan:\n",
    "    def suara(self):\n",
    "        pass\n",
    "\n",
    "class Kucing(Hewan):\n",
    "    def suara(self):\n",
    "        print(\"Meong\")\n"
   ]
  },
  {
   "cell_type": "code",
   "execution_count": null,
   "id": "0a043b0b",
   "metadata": {},
   "outputs": [],
   "source": [
    "# Class induk\n",
    "class Hewan:\n",
    "    # Method suara() didefinisikan tapi belum diimplementasikan (kosong dengan 'pass')\n",
    "    # Ini memberikan \"kerangka\" yang bisa diubah oleh class turunan\n",
    "    def suara(self):\n",
    "        pass # dia ngambil perintah dari class turunannya\n",
    "\n",
    "# Class turunan (Kucing) mewarisi dari Hewan\n",
    "class Kucing(Hewan):\n",
    "    # Method suara() di-*override* dengan implementasi khusus untuk Kucing\n",
    "    def suara(self):\n",
    "        print(\"Meong\")\n",
    "\n",
    "# Membuat objek dari class Kucing\n",
    "k = Kucing()\n",
    "\n",
    "# Memanggil method suara()\n",
    "# Karena method suara() sudah di-*override* di class Kucing,\n",
    "# maka yang dipanggil adalah versi milik Kucing, bukan Hewan\n",
    "k.suara()  # Output: Meong\n"
   ]
  },
  {
   "cell_type": "markdown",
   "id": "bfa24b9f",
   "metadata": {},
   "source": [
    "| **Baris Kode**                              | **Penjelasan**                                                                                             |\n",
    "| ------------------------------------------- | ---------------------------------------------------------------------------------------------------------- |\n",
    "| `class Hewan:`                              | Mendeklarasikan class induk (superclass) bernama `Hewan`.                                                  |\n",
    "| `    def suara(self):`                      | Method `suara()` didefinisikan sebagai method umum yang akan di-*override* oleh class turunan.             |\n",
    "| `        pass`                              | Method belum diimplementasikan. Ini semacam *template* agar bisa diubah di class turunan.                  |\n",
    "| `class Kucing(Hewan):`                      | Class `Kucing` mewarisi class `Hewan`. Ini adalah class turunan (subclass).                                |\n",
    "| `    def suara(self):`                      | Method `suara()` di-*override* dengan implementasi khusus milik `Kucing`.                                  |\n",
    "| `        print(\"Meong\")`                    | Ketika `suara()` dipanggil dari objek `Kucing`, maka akan menampilkan `\"Meong\"`.                           |\n",
    "| `k = Kucing()`                              | Membuat objek dari class `Kucing`.                                                                         |\n",
    "| `k.suara()`                                 | Memanggil method `suara()` dari objek `k`. Karena class `Kucing` meng-*override*, maka hasilnya `\"Meong\"`. |\n"
   ]
  },
  {
   "cell_type": "markdown",
   "id": "8fe4e299",
   "metadata": {},
   "source": [
    "#### **Kesimpulan Singkat Polymorphism**\n",
    "- Polymorphism memungkinkan method dengan nama yang sama (suara) punya perilaku berbeda tergantung objeknya.\n",
    "\n",
    "- Ini berguna saat ingin membuat struktur program yang fleksibel, tanpa harus tahu detail jenis objek yang digunakan."
   ]
  },
  {
   "cell_type": "markdown",
   "id": "a8163ea1",
   "metadata": {},
   "source": [
    "### 3.4 Abstraction"
   ]
  },
  {
   "cell_type": "code",
   "execution_count": null,
   "id": "7b1462c2",
   "metadata": {},
   "outputs": [],
   "source": [
    "from abc import ABC, abstractmethod\n",
    "\n",
    "class Bentuk(ABC):\n",
    "    @abstractmethod\n",
    "    def luas(self):\n",
    "        pass\n"
   ]
  },
  {
   "cell_type": "code",
   "execution_count": null,
   "id": "1901694c",
   "metadata": {},
   "outputs": [],
   "source": [
    "# Contoh penerapan konsep Abstraction (Abstraksi) dalam OOP Python\n",
    "\n",
    "# Mengimpor modul ABC (Abstract Base Class)\n",
    "from abc import ABC, abstractmethod\n",
    "\n",
    "# Membuat class abstrak 'Bentuk' yang mewarisi dari ABC\n",
    "class Bentuk(ABC):\n",
    "    # Menandai bahwa method luas() adalah abstract method\n",
    "    # Artinya method ini harus diimplementasikan oleh class turunan\n",
    "    @abstractmethod\n",
    "    def luas(self):\n",
    "        pass\n"
   ]
  },
  {
   "cell_type": "markdown",
   "id": "6d8f7c7c",
   "metadata": {},
   "source": [
    "| **Baris Kode**                             | **Penjelasan**                                                                                        |\n",
    "| ------------------------------------------ | ----------------------------------------------------------------------------------------------------- |\n",
    "| `from abc import ABC, abstractmethod`      | Mengimpor modul `ABC` dan dekorator `@abstractmethod` dari library `abc` untuk membuat class abstrak. |\n",
    "| `class Bentuk(ABC):`                       | Mendefinisikan class abstrak `Bentuk` yang mewarisi dari `ABC` (Abstract Base Class).                 |\n",
    "| `    @abstractmethod`                      | Dekorator ini digunakan untuk menandai method `luas()` sebagai **abstract method**.                   |\n",
    "| `    def luas(self):`                      | Mendefinisikan method `luas()` yang harus diimplementasikan di setiap class turunan.                  |\n",
    "| `        pass`                             | Tidak ada implementasi di sini. Menandakan bahwa method ini hanya sebagai **kerangka (template)**.    |\n"
   ]
  },
  {
   "cell_type": "markdown",
   "id": "79bab09b",
   "metadata": {},
   "source": [
    "#### **Kesimpulan Singkat Abstraction**\n",
    "- Class abstrak (Bentuk) tidak bisa digunakan langsung untuk membuat objek.\n",
    "\n",
    "- Method luas() harus di-override dan diimplementasikan oleh class turunan seperti Persegi, Lingkaran, dll.\n",
    "\n",
    "- Abstraction membantu menyembunyikan detail implementasi, dan memaksa setiap turunan untuk mengikuti struktur umum."
   ]
  },
  {
   "cell_type": "markdown",
   "id": "deace064",
   "metadata": {},
   "source": [
    "## Perbedaan masing-masing oop apa jadinya ?"
   ]
  },
  {
   "cell_type": "markdown",
   "id": "4eb0d77f",
   "metadata": {},
   "source": [
    "| **Aspek**              | **Encapsulation**                                                                 | **Inheritance**                                                     | **Polymorphism**                                                                   | **Abstraction**                                                                     |\n",
    "| ---------------------- | --------------------------------------------------------------------------------- | ------------------------------------------------------------------- | ---------------------------------------------------------------------------------- | ----------------------------------------------------------------------------------- |\n",
    "| **Pengertian**         | Membungkus data dan method dalam satu class, serta menyembunyikan akses langsung. | Pewarisan atribut dan method dari class induk ke class anak.        | Satu method bisa memiliki banyak bentuk (perilaku berbeda pada class turunan).     | Menyembunyikan detail implementasi dan hanya menunjukkan fitur penting (interface). |\n",
    "| **Tujuan**             | Melindungi data dari akses luar yang tidak diizinkan.                             | Menghindari penulisan ulang kode (kode lebih efisien dan reusable). | Meningkatkan fleksibilitas dan konsistensi antar class.                            | Menyederhanakan kompleksitas, memaksa class turunan untuk implementasi tertentu.    |\n",
    "| **Ciri Khas**          | Menggunakan atribut `private`, `getter/setter`, dan method akses.                 | Menggunakan pewarisan dengan `class Anak(Induk)`.                   | Method dengan nama yang sama namun perilaku berbeda.                               | Menggunakan `ABC` dan `@abstractmethod`.                                            |\n",
    "| **Kata Kunci Umum**    | `__atribut`, method `get/set`, `self.__data`                                      | `super()`, pewarisan class                                          | `def method()` yang di-*override* di banyak class                                  | `from abc import ABC, abstractmethod`                                               |\n",
    "| **Contoh Kehidupan**   | ATM: ambil uang hanya lewat antarmuka, isi mesinnya tersembunyi.                  | Anak mewarisi sifat dari orang tua.                                 | Tombol \"play\" di berbagai perangkat: TV, musik, video — bentuk sama, aksi berbeda. | Mobil: kita bisa menyetir tanpa tahu cara kerja mesin.                              |\n",
    "| **Contoh Kode Pendek** | `self.__saldo = 100000` → hanya bisa diakses via method                           | `class Anak(Induk):` → mewarisi method dari Induk                   | `def suara(self):` → bisa `Meong`, `Guk`, `Kukuruyuk`, tergantung class            | `@abstractmethod def luas(self):` → wajib diisi oleh class turunannya               |\n"
   ]
  },
  {
   "cell_type": "markdown",
   "id": "e306d6c3",
   "metadata": {},
   "source": [
    "- Inheritance + Polymorphism sering muncul bareng,\n",
    "\n",
    "- Abstraction + Polymorphism cocok untuk desain sistem besar,\n",
    "\n",
    "- Encapsulation selalu jadi pondasi dalam setiap class."
   ]
  },
  {
   "cell_type": "code",
   "execution_count": null,
   "id": "747be6cc",
   "metadata": {},
   "outputs": [],
   "source": [
    "# Encapsulation\n",
    "\n",
    "class Buku:\n",
    "    def __init__(self, judul):\n",
    "        self.__judul = judul  # private\n",
    "\n",
    "    def tampilkan(self):\n",
    "        print(\"Judul:\", self.__judul)\n",
    "\n",
    "b = Buku(\"Belajar Python\")\n",
    "b.tampilkan()"
   ]
  },
  {
   "cell_type": "code",
   "execution_count": null,
   "id": "8442c8ab",
   "metadata": {},
   "outputs": [],
   "source": [
    "# Inheritance\n",
    "\n",
    "class Hewan:\n",
    "    def suara(self):\n",
    "        print(\"Hewan bersuara\")\n",
    "\n",
    "class Kucing(Hewan):  # mewarisi dari Hewan\n",
    "    pass\n",
    "\n",
    "k = Kucing()\n",
    "k.suara()\n"
   ]
  },
  {
   "cell_type": "code",
   "execution_count": null,
   "id": "bbca247f",
   "metadata": {},
   "outputs": [],
   "source": [
    "# kalau ada 3 turunan\n",
    "# Class Induk\n",
    "class Hewan:\n",
    "    def suara(self):\n",
    "        print(\"Hewan bersuara\")\n",
    "\n",
    "# Class Turunan 1\n",
    "class Kucing(Hewan):\n",
    "    def suara(self):\n",
    "        print(\"Meong~\")\n",
    "\n",
    "# Class Turunan 2\n",
    "class Anjing(Hewan):\n",
    "    def suara(self):\n",
    "        print(\"Guk guk!\")\n",
    "\n",
    "# Class Turunan 3\n",
    "class Burung(Hewan):\n",
    "    def suara(self):\n",
    "        print(\"Cuit cuit~\")\n",
    "\n",
    "# --- Main Program ---\n",
    "# Semua class mewarisi dari class Hewan\n",
    "k = Kucing()\n",
    "a = Anjing()\n",
    "b = Burung()\n",
    "\n",
    "k.suara()  # Meong~\n",
    "a.suara()  # Guk guk!\n",
    "b.suara()  # Cuit cuit~\n"
   ]
  },
  {
   "cell_type": "code",
   "execution_count": null,
   "id": "409a24f3",
   "metadata": {},
   "outputs": [],
   "source": [
    "# Polymorphism\n",
    "\n",
    "class Kucing:\n",
    "    def suara(self):\n",
    "        print(\"Meong\")\n",
    "\n",
    "class Anjing:\n",
    "    def suara(self):\n",
    "        print(\"Guk\")\n",
    "\n",
    "# Sama-sama punya method suara()\n",
    "for hewan in [Kucing(), Anjing()]:\n",
    "    hewan.suara()\n"
   ]
  },
  {
   "cell_type": "code",
   "execution_count": null,
   "id": "7515a6be",
   "metadata": {},
   "outputs": [],
   "source": [
    "# Polymorphism\n",
    "\n",
    "class Facebook:\n",
    "    def kirim_pesan(self):\n",
    "        print(\"Pesan dikirim via Facebook\")\n",
    "\n",
    "class WhatsApp:\n",
    "    def kirim_pesan(self):\n",
    "        print(\"Pesan dikirim via WhatsApp\")\n",
    "\n",
    "class Telegram:\n",
    "    def kirim_pesan(self):\n",
    "        print(\"Pesan dikirim via Telegram\")\n",
    "\n",
    "# --- Main Program ---\n",
    "# Meski beda class, method-nya sama: kirim_pesan()\n",
    "for app in [Facebook(), WhatsApp(), Telegram()]:\n",
    "    app.kirim_pesan()\n"
   ]
  },
  {
   "cell_type": "code",
   "execution_count": null,
   "id": "fdb36c36",
   "metadata": {},
   "outputs": [],
   "source": [
    "# Abstraction\n",
    "\n",
    "from abc import ABC, abstractmethod\n",
    "\n",
    "class Kendaraan(ABC):\n",
    "    @abstractmethod\n",
    "    def jalan(self):\n",
    "        pass\n",
    "\n",
    "class Mobil(Kendaraan):\n",
    "    def jalan(self):\n",
    "        print(\"Mobil berjalan\")\n",
    "\n",
    "m = Mobil() # bikin objek\n",
    "m.jalan()# jalanin programnya\n"
   ]
  },
  {
   "cell_type": "markdown",
   "id": "87690cb1",
   "metadata": {},
   "source": [
    "## 4. Let's Code"
   ]
  },
  {
   "cell_type": "code",
   "execution_count": null,
   "id": "e443be19",
   "metadata": {},
   "outputs": [],
   "source": [
    "# Encapsulation\n",
    "class AkunBank:\n",
    "    def __init__(self, nama, saldo):\n",
    "        self.nama = nama\n",
    "        self.__saldo = saldo #private\n",
    "\n",
    "    # saldo hanya dapat diakses pada function lihat saldo\n",
    "    def lihat_saldo(self):\n",
    "        return self.__saldo # untuk memanggil data private nya\n",
    "\n",
    "    def setor(self, jumlah):\n",
    "        if jumlah > 0:\n",
    "            self.__saldo += jumlah # saldo = saldo + jumlah\n",
    "        else:\n",
    "            print(\"Jumlah tidak valid!\")\n",
    "\n",
    "akun = AkunBank(\"Joe\", 100000)\n",
    "akun.setor(100000)\n",
    "print(\"Saldo:\", akun.lihat_saldo()) # menampikan saldo yang private"
   ]
  },
  {
   "cell_type": "code",
   "execution_count": null,
   "id": "827fa8d1",
   "metadata": {},
   "outputs": [],
   "source": [
    "# Encapsulation\n",
    "class AkunBank:\n",
    "    # Constructor untuk inisialisasi data saat objek dibuat\n",
    "    def __init__(self, nama, saldo):\n",
    "        # self adalah referensi ke objek yang sedang dibuat (misalnya: akun)\n",
    "        # self.nama dan self.__saldo berarti menyimpan data ke dalam objek tersebut\n",
    "        self.nama = nama                      # Atribut publik, bisa diakses langsung\n",
    "        self.__saldo = saldo                  # Atribut private, hanya bisa diakses dari dalam class\n",
    "\n",
    "    # Method untuk melihat saldo secara aman\n",
    "    def lihat_saldo(self):\n",
    "        # self mengacu pada objek yang sedang memanggil method ini\n",
    "        # Jadi misalnya akun.lihat_saldo(), maka self = akun\n",
    "        return self.__saldo                   # Mengembalikan nilai saldo (private)\n",
    "\n",
    "    # Method untuk setor uang ke rekening\n",
    "    def setor(self, jumlah):\n",
    "        # self masih merujuk ke objek yang sedang aktif\n",
    "        if jumlah > 0:\n",
    "            self.__saldo += jumlah           # Menambah saldo hanya jika jumlah valid\n",
    "        else:\n",
    "            print(\"Jumlah tidak valid!\")     # Validasi input agar tidak bisa setor nilai negatif\n",
    "\n",
    "# --- Main Program ---\n",
    "akun = AkunBank(\"Vanya\", 100000)  # Membuat objek akun dengan nama dan saldo awal\n",
    "akun.setor(50000)                 # Menyetor uang sebesar 50.000 ke dalam akun\n",
    "print(\"Saldo:\", akun.lihat_saldo())  # Melihat saldo setelah setor (Output: 150000)\n"
   ]
  },
  {
   "cell_type": "code",
   "execution_count": null,
   "id": "a3a8c470",
   "metadata": {},
   "outputs": [],
   "source": [
    "# Inheritance\n",
    "class Pegawai:\n",
    "    def __init__(self, nama):\n",
    "        self.nama = nama\n",
    "\n",
    "    def kerja(self):\n",
    "        print(f\"{self.nama} sedang bekerja.\")\n",
    "\n",
    "class Manajer(Pegawai):  # mewarisi dari Pegawai\n",
    "    def kerja(self):  # override\n",
    "        print(f\"{self.nama} sedang memimpin rapat.\")\n",
    "\n",
    "# --- Main Program ---\n",
    "p1 = Pegawai(\"Ani\")\n",
    "p2 = Manajer(\"Budi\")\n",
    "\n",
    "p1.kerja()\n",
    "p2.kerja()\n"
   ]
  },
  {
   "cell_type": "code",
   "execution_count": null,
   "id": "a72b7f9e",
   "metadata": {},
   "outputs": [],
   "source": [
    "# Inheritance\n",
    "# Class induk (superclass)\n",
    "class Pegawai:\n",
    "    def __init__(self, nama):\n",
    "        # Menyimpan nama pegawai ke dalam atribut objek\n",
    "        self.nama = nama\n",
    "\n",
    "    def kerja(self):\n",
    "        # Method umum untuk semua pegawai\n",
    "        print(f\"{self.nama} sedang bekerja.\")\n",
    "\n",
    "# Class turunan (subclass) Manajer yang mewarisi class Pegawai\n",
    "class Manajer(Pegawai):  # Inheritance\n",
    "    # Override method kerja() milik Pegawai\n",
    "    def kerja(self):\n",
    "        # Implementasi khusus untuk Manajer\n",
    "        print(f\"{self.nama} sedang memimpin rapat.\")\n",
    "\n",
    "# --- Main Program ---\n",
    "# Membuat objek dari class Pegawai\n",
    "p1 = Pegawai(\"Ani\")  # objek p1 bertipe Pegawai\n",
    "\n",
    "# Membuat objek dari class Manajer\n",
    "p2 = Manajer(\"Budi\")  # objek p2 bertipe Manajer, mewarisi dari Pegawai\n",
    "\n",
    "# Memanggil method kerja dari masing-masing objek\n",
    "p1.kerja()  # Output: Ani sedang bekerja.\n",
    "p2.kerja()  # Output: Budi sedang memimpin rapat.\n"
   ]
  },
  {
   "cell_type": "markdown",
   "id": "449efa4b",
   "metadata": {},
   "source": [
    "| Konsep           | Penjelasan                                                                             |\n",
    "| ---------------- | -------------------------------------------------------------------------------------- |\n",
    "| **Inheritance**  | `Manajer(Pegawai)` artinya class `Manajer` mewarisi atribut dan method dari `Pegawai`. |\n",
    "| **Polymorphism** | Method `kerja()` di-*override* di class `Manajer`, sehingga perilakunya berbeda.       |\n",
    "| **self**         | Menunjuk ke objek itu sendiri (misalnya: `self.nama` → `p1.nama` atau `p2.nama`).      |\n"
   ]
  },
  {
   "cell_type": "code",
   "execution_count": null,
   "id": "98549a5f",
   "metadata": {},
   "outputs": [],
   "source": [
    "# Polymorphism\n",
    "class Hewan:\n",
    "    def suara(self):\n",
    "        pass\n",
    "\n",
    "class Kucing(Hewan):\n",
    "    def suara(self):\n",
    "        print(\"Meong~\")\n",
    "\n",
    "class Ayam(Hewan):\n",
    "    def suara(self):\n",
    "        print(\"Kukuruyuk~\")\n",
    "\n",
    "# --- Main Program ---\n",
    "hewan1 = Kucing()\n",
    "hewan2 = Ayam()\n",
    "\n",
    "for h in [hewan1, hewan2]:\n",
    "    h.suara()\n"
   ]
  },
  {
   "cell_type": "code",
   "execution_count": null,
   "id": "f58460c1",
   "metadata": {},
   "outputs": [],
   "source": [
    "# Polymorphism\n",
    "# Class induk\n",
    "class Hewan:\n",
    "    def suara(self):\n",
    "        # Method suara ini hanya sebagai template (akan di-override oleh class turunan)\n",
    "        pass\n",
    "\n",
    "# Class turunan Kucing mewarisi class Hewan\n",
    "class Kucing(Hewan):\n",
    "    def suara(self):\n",
    "        # Override method suara() dengan suara khas Kucing\n",
    "        print(\"Meong~\")\n",
    "\n",
    "# Class turunan Ayam mewarisi class Hewan\n",
    "class Ayam(Hewan):\n",
    "    def suara(self):\n",
    "        # Override method suara() dengan suara khas Ayam\n",
    "        print(\"Kukuruyuk~\")\n",
    "\n",
    "# --- Main Program ---\n",
    "\n",
    "# Membuat objek dari class Kucing dan Ayam\n",
    "hewan1 = Kucing()\n",
    "hewan2 = Ayam()\n",
    "\n",
    "# Menyimpan objek dalam list\n",
    "# Keduanya diperlakukan sebagai objek dari class induk Hewan\n",
    "for h in [hewan1, hewan2]:\n",
    "    # Memanggil method suara() masing-masing objek\n",
    "    # Meski dipanggil dari tipe Hewan, hasilnya berbeda sesuai class aslinya (Kucing atau Ayam)\n",
    "    h.suara()\n",
    "\n",
    "# Output:\n",
    "# Meong~\n",
    "# Kukuruyuk~\n"
   ]
  },
  {
   "cell_type": "code",
   "execution_count": 33,
   "id": "2997b314",
   "metadata": {},
   "outputs": [
    {
     "name": "stdout",
     "output_type": "stream",
     "text": [
      "TV menyala\n"
     ]
    }
   ],
   "source": [
    "# Abstraction\n",
    "from abc import ABC, abstractmethod\n",
    "\n",
    "class AlatElektronik(ABC):\n",
    "    @abstractmethod\n",
    "    def hidupkan(self):\n",
    "        pass\n",
    "\n",
    "class TV(AlatElektronik):\n",
    "    def hidupkan(self):\n",
    "        print(\"TV menyala\")\n",
    "\n",
    "tv = TV()\n",
    "tv.hidupkan()\n"
   ]
  },
  {
   "cell_type": "code",
   "execution_count": null,
   "id": "0647c307",
   "metadata": {},
   "outputs": [],
   "source": [
    "# Abstraction\n",
    "# Mengimpor ABC (Abstract Base Class) dan abstractmethod dari modul abc\n",
    "from abc import ABC, abstractmethod\n",
    "\n",
    "# Membuat class abstrak bernama AlatElektronik\n",
    "# ABC artinya class ini tidak bisa langsung dibuat objeknya\n",
    "class AlatElektronik(ABC):\n",
    "    \n",
    "    # Menandai bahwa method ini adalah abstract method\n",
    "    # Harus diimplementasikan oleh setiap class turunan\n",
    "    @abstractmethod\n",
    "    def hidupkan(self):\n",
    "        pass  # Tidak ada implementasi, hanya kerangka\n",
    "\n",
    "# Class TV adalah turunan dari AlatElektronik\n",
    "class TV(AlatElektronik):\n",
    "    \n",
    "    # Mengimplementasikan abstract method hidupkan()\n",
    "    def hidupkan(self):\n",
    "        print(\"TV menyala\")\n",
    "\n",
    "# --- Main Program ---\n",
    "tv = TV()            # Membuat objek dari class TV\n",
    "tv.hidupkan()        # Memanggil method hidupkan() → Output: TV menyala\n"
   ]
  },
  {
   "cell_type": "markdown",
   "id": "c74c65cf",
   "metadata": {},
   "source": [
    "| **Konsep**           | **Penjelasan**                                                                                   |\n",
    "| -------------------- | ------------------------------------------------------------------------------------------------ |\n",
    "| `ABC`                | Class dasar abstrak, tidak bisa langsung dibuat objek. Digunakan sebagai blueprint.              |\n",
    "| `@abstractmethod`    | Menandakan method *wajib diimplementasikan* oleh semua class turunannya.                         |\n",
    "| `TV(AlatElektronik)` | Class `TV` **mewarisi** class abstrak dan **mengisi isi method hidupkan()**.                     |\n",
    "| `tv = TV()`          | Hanya class turunan yang bisa dibuat objek jika sudah mengimplementasikan semua abstract method. |\n"
   ]
  },
  {
   "cell_type": "markdown",
   "id": "18005119",
   "metadata": {},
   "source": [
    "## 5. Contoh Kasus"
   ]
  },
  {
   "cell_type": "code",
   "execution_count": 35,
   "id": "8cbe7ed4",
   "metadata": {},
   "outputs": [
    {
     "name": "stdout",
     "output_type": "stream",
     "text": [
      "Login: False\n"
     ]
    }
   ],
   "source": [
    "#  Encapsulation – Sistem Akun Sederhana\n",
    "\n",
    "class Akun:\n",
    "    def __init__(self, username, password):\n",
    "        self.__username = username\n",
    "        self.__password = password\n",
    "\n",
    "    def login(self, username, password):\n",
    "        return self.__username == username and self.__password == password\n",
    "\n",
    "#kita bikin objek disini\n",
    "akun = Akun(\"vanya\", \"1234\")\n",
    "print(\"Login:\", akun.login(\"vanyaaa\", \"1234\"))\n"
   ]
  },
  {
   "cell_type": "code",
   "execution_count": null,
   "id": "8c2526b3",
   "metadata": {},
   "outputs": [],
   "source": [
    "#  Encapsulation – Sistem Akun Sederhana\n",
    "\n",
    "# Membuat class Akun\n",
    "class Akun:\n",
    "    # Constructor untuk inisialisasi objek dengan username dan password\n",
    "    def __init__(self, username, password):\n",
    "        # Atribut private: tidak bisa diakses langsung dari luar class\n",
    "        self.__username = username\n",
    "        self.__password = password\n",
    "\n",
    "    # Method untuk login, menerima input username dan password\n",
    "    def login(self, username, password):\n",
    "        # Membandingkan input dengan data yang disimpan secara private\n",
    "        return self.__username == username and self.__password == password\n",
    "\n",
    "# --- Main Program ---\n",
    "# Membuat objek akun dengan data username dan password\n",
    "akun = Akun(\"vanya\", \"1234\")\n",
    "\n",
    "# Melakukan proses login dan mencetak hasilnya (True/False)\n",
    "print(\"Login:\", akun.login(\"vanya\", \"1234\"))  # Output: Login: True\n"
   ]
  },
  {
   "cell_type": "markdown",
   "id": "91a23cb9",
   "metadata": {},
   "source": [
    "| Konsep             | Penjelasan                                                                                        |\n",
    "| ------------------ | ------------------------------------------------------------------------------------------------- |\n",
    "| **Encapsulation**  | `__username` dan `__password` disembunyikan agar tidak bisa diakses langsung.                     |\n",
    "| **Validasi Login** | Method `login()` mengecek apakah input cocok dengan data dalam objek.                             |\n",
    "| **Keamanan Data**  | Dengan atribut `private`, data lebih aman karena hanya bisa diakses lewat method yang ditentukan. |\n"
   ]
  },
  {
   "cell_type": "code",
   "execution_count": 36,
   "id": "6e2dba03",
   "metadata": {},
   "outputs": [
    {
     "name": "stdout",
     "output_type": "stream",
     "text": [
      "Mahasiswa Vanya, NIM 12345\n",
      "Lulus tahun 2024\n"
     ]
    }
   ],
   "source": [
    "# Inheritance – Data Mahasiswa dan Alumni\n",
    "class Mahasiswa:\n",
    "    def __init__(self, nama, nim):\n",
    "        self.nama = nama\n",
    "        self.nim = nim\n",
    "\n",
    "    def info(self):\n",
    "        print(f\"Mahasiswa {self.nama}, NIM {self.nim}\")\n",
    "\n",
    "class Alumni(Mahasiswa):\n",
    "    def __init__(self, nama, nim, tahun_lulus):\n",
    "        super().__init__(nama, nim)\n",
    "        self.tahun_lulus = tahun_lulus\n",
    "\n",
    "    def info(self):\n",
    "        super().info()\n",
    "        print(f\"Lulus tahun {self.tahun_lulus}\")\n",
    "\n",
    "a = Alumni(\"Vanya\", \"12345\", 2024)\n",
    "a.info()\n"
   ]
  },
  {
   "cell_type": "code",
   "execution_count": null,
   "id": "c12fd92a",
   "metadata": {},
   "outputs": [],
   "source": [
    "# Inheritance – Data Mahasiswa dan Alumni\n",
    "\n",
    "# Class induk (superclass)\n",
    "class Mahasiswa:\n",
    "    def __init__(self, nama, nim):\n",
    "        # Inisialisasi atribut nama dan nim\n",
    "        self.nama = nama\n",
    "        self.nim = nim\n",
    "\n",
    "    def info(self):\n",
    "        # Method untuk menampilkan info mahasiswa\n",
    "        print(f\"Mahasiswa {self.nama}, NIM {self.nim}\")\n",
    "\n",
    "# Class turunan (subclass) Alumni yang mewarisi Mahasiswa\n",
    "class Alumni(Mahasiswa):\n",
    "    def __init__(self, nama, nim, tahun_lulus):\n",
    "        # Memanggil constructor dari class Mahasiswa (induk) dengan super()\n",
    "        super().__init__(nama, nim)\n",
    "        # Menambahkan atribut baru khusus alumni\n",
    "        self.tahun_lulus = tahun_lulus\n",
    "\n",
    "    # Override method info() untuk menambahkan informasi tahun lulus\n",
    "    def info(self):\n",
    "        super().info()  # Memanggil method info() dari class induk\n",
    "        print(f\"Lulus tahun {self.tahun_lulus}\")\n",
    "\n",
    "# --- Main Program ---\n",
    "# Membuat objek dari class Alumni\n",
    "a = Alumni(\"Vanya\", \"12345\", 2024)\n",
    "\n",
    "# Memanggil method info() → menampilkan data mahasiswa + tahun lulus\n",
    "a.info()\n",
    "\n",
    "# Output:\n",
    "# Mahasiswa Vanya, NIM 12345\n",
    "# Lulus tahun 2024\n"
   ]
  },
  {
   "cell_type": "markdown",
   "id": "a3348015",
   "metadata": {},
   "source": [
    "| Konsep             | Penjelasan                                                                                  |\n",
    "| ------------------ | ------------------------------------------------------------------------------------------- |\n",
    "| **Inheritance**    | Class `Alumni` mewarisi atribut dan method dari class `Mahasiswa`.                          |\n",
    "| **super()**        | Digunakan untuk memanggil constructor dan method dari class induk.                          |\n",
    "| **Override**       | Method `info()` di `Alumni` menimpa method `info()` milik `Mahasiswa`.                      |\n",
    "| **Ekstensi Fitur** | Class `Alumni` menambahkan data baru (`tahun_lulus`) yang tidak dimiliki class `Mahasiswa`. |\n"
   ]
  },
  {
   "cell_type": "code",
   "execution_count": 37,
   "id": "25d89038",
   "metadata": {},
   "outputs": [
    {
     "name": "stdout",
     "output_type": "stream",
     "text": [
      "Bayar pakai DANA\n",
      "Bayar pakai GOPAY\n"
     ]
    }
   ],
   "source": [
    "# Polymorphism – Transaksi Online\n",
    "class Pembayaran:\n",
    "    def proses(self):\n",
    "        pass\n",
    "\n",
    "class Dana(Pembayaran):\n",
    "    def proses(self):\n",
    "        print(\"Bayar pakai DANA\")\n",
    "\n",
    "class Gopay(Pembayaran):\n",
    "    def proses(self):\n",
    "        print(\"Bayar pakai GOPAY\")\n",
    "\n",
    "for metode in [Dana(), Gopay()]:\n",
    "    metode.proses()\n"
   ]
  },
  {
   "cell_type": "code",
   "execution_count": null,
   "id": "24d92d40",
   "metadata": {},
   "outputs": [],
   "source": [
    "# Polymorphism – Transaksi Online\n",
    "\n",
    "# Class induk (superclass)\n",
    "class Pembayaran:\n",
    "    # Method proses() sebagai template (belum diimplementasikan)\n",
    "    def proses(self):\n",
    "        pass\n",
    "\n",
    "# Class Dana mewarisi dari class Pembayaran\n",
    "class Dana(Pembayaran):\n",
    "    # Override method proses() dengan implementasi khusus\n",
    "    def proses(self):\n",
    "        print(\"Bayar pakai DANA\")\n",
    "\n",
    "# Class Gopay juga mewarisi dari class Pembayaran\n",
    "class Gopay(Pembayaran):\n",
    "    # Override method proses() dengan implementasi khusus\n",
    "    def proses(self):\n",
    "        print(\"Bayar pakai GOPAY\")\n",
    "\n",
    "# --- Main Program ---\n",
    "# Polymorphism: objek-objek dari class turunan dipanggil dengan cara yang sama\n",
    "for metode in [Dana(), Gopay()]:\n",
    "    metode.proses()\n",
    "\n",
    "# Output:\n",
    "# Bayar pakai DANA\n",
    "# Bayar pakai GOPAY\n"
   ]
  },
  {
   "cell_type": "code",
   "execution_count": 38,
   "id": "2e29664e",
   "metadata": {},
   "outputs": [
    {
     "name": "stdout",
     "output_type": "stream",
     "text": [
      "Luas: 16\n",
      "Luas: 153.86\n"
     ]
    }
   ],
   "source": [
    "# Polymorphism – Bentuk Bangun Datar\n",
    "class BangunDatar:\n",
    "    def luas(self):\n",
    "        pass\n",
    "\n",
    "class Persegi(BangunDatar):\n",
    "    def __init__(self, sisi):\n",
    "        self.sisi = sisi\n",
    "\n",
    "    def luas(self):\n",
    "        return self.sisi * self.sisi\n",
    "\n",
    "class Lingkaran(BangunDatar):\n",
    "    def __init__(self, r):\n",
    "        self.r = r\n",
    "\n",
    "    def luas(self):\n",
    "        return 3.14 * self.r * self.r\n",
    "\n",
    "# --- Main Program ---\n",
    "bangun1 = Persegi(4)\n",
    "bangun2 = Lingkaran(7)\n",
    "\n",
    "for b in [bangun1, bangun2]:\n",
    "    print(\"Luas:\", b.luas())\n"
   ]
  },
  {
   "cell_type": "code",
   "execution_count": null,
   "id": "223fda97",
   "metadata": {},
   "outputs": [],
   "source": [
    "# Contoh Polymorphism dan Inheritance – Menghitung Luas Bangun Datar\n",
    "\n",
    "# Class induk (superclass)\n",
    "class BangunDatar:\n",
    "    # Method luas() sebagai template yang akan di-override oleh class turunan\n",
    "    def luas(self):\n",
    "        pass\n",
    "\n",
    "# Class Persegi mewarisi dari BangunDatar\n",
    "class Persegi(BangunDatar):\n",
    "    def __init__(self, sisi):\n",
    "        # Menyimpan panjang sisi sebagai atribut objek\n",
    "        self.sisi = sisi\n",
    "\n",
    "    def luas(self):\n",
    "        # Menghitung luas persegi (sisi × sisi)\n",
    "        return self.sisi * self.sisi\n",
    "\n",
    "# Class Lingkaran mewarisi dari BangunDatar\n",
    "class Lingkaran(BangunDatar):\n",
    "    def __init__(self, r):\n",
    "        # Menyimpan jari-jari sebagai atribut objek\n",
    "        self.r = r\n",
    "\n",
    "    def luas(self):\n",
    "        # Menghitung luas lingkaran (π × r × r)\n",
    "        return 3.14 * self.r * self.r\n",
    "\n",
    "# --- Main Program ---\n",
    "\n",
    "# Membuat objek persegi dan lingkaran\n",
    "bangun1 = Persegi(4)      # Persegi dengan sisi 4 → luas = 16\n",
    "bangun2 = Lingkaran(7)    # Lingkaran dengan jari-jari 7 → luas = 153.86\n",
    "\n",
    "# Polymorphism: memanggil method luas() dari berbagai objek dengan cara yang sama\n",
    "for b in [bangun1, bangun2]:\n",
    "    print(\"Luas:\", b.luas())\n",
    "\n",
    "# Output:\n",
    "# Luas: 16\n",
    "# Luas: 153.86\n"
   ]
  },
  {
   "cell_type": "markdown",
   "id": "2005e124",
   "metadata": {},
   "source": [
    "| Konsep           | Penjelasan                                                                         |\n",
    "| ---------------- | ---------------------------------------------------------------------------------- |\n",
    "| **Inheritance**  | `Persegi` dan `Lingkaran` mewarisi class `BangunDatar`.                            |\n",
    "| **Polymorphism** | Method `luas()` digunakan pada objek yang berbeda, tapi hasilnya sesuai bentuknya. |\n",
    "| **Override**     | Kedua class turunan mengganti isi method `luas()` dari class induk.                |\n",
    "| **Generalisasi** | Bisa membuat daftar `BangunDatar`, dan memanggil `luas()` secara seragam.          |\n"
   ]
  },
  {
   "cell_type": "code",
   "execution_count": 40,
   "id": "3f823417",
   "metadata": {},
   "outputs": [
    {
     "name": "stdout",
     "output_type": "stream",
     "text": [
      "SMS dikirim: Halo sms sudah terkirim!\n",
      "Email dikirim: Halo, kelas dimulai!\n"
     ]
    }
   ],
   "source": [
    "# Abstraction – Sistem Notifikasi\n",
    "from abc import ABC, abstractmethod\n",
    "\n",
    "class Notifikasi(ABC):\n",
    "    @abstractmethod\n",
    "    def kirim(self, pesan):\n",
    "        pass\n",
    "\n",
    "class Email(Notifikasi):\n",
    "    def kirim(self, pesan):\n",
    "        print(\"Email dikirim:\", pesan)\n",
    "\n",
    "class SMS(Notifikasi):\n",
    "    def kirim(self, pesan):\n",
    "        print(\"SMS dikirim:\", pesan)\n",
    "\n",
    "notif = Email()\n",
    "sms = SMS()\n",
    "sms.kirim(\"Halo sms sudah terkirim!\")\n",
    "notif.kirim(\"Halo, kelas dimulai!\")\n"
   ]
  },
  {
   "cell_type": "code",
   "execution_count": null,
   "id": "916210e4",
   "metadata": {},
   "outputs": [],
   "source": [
    "# Abstraction dan Polymorphism – Sistem Notifikasi\n",
    "\n",
    "# Mengimpor ABC dan abstractmethod dari modul abc\n",
    "from abc import ABC, abstractmethod\n",
    "\n",
    "# Membuat class abstrak Notifikasi\n",
    "class Notifikasi(ABC):\n",
    "    # Method abstrak yang harus diimplementasikan oleh class turunan\n",
    "    @abstractmethod\n",
    "    def kirim(self, pesan):\n",
    "        pass  # Tidak ada implementasi, hanya kerangka\n",
    "\n",
    "# Class Email mewarisi Notifikasi dan mengimplementasikan method kirim()\n",
    "class Email(Notifikasi):\n",
    "    def kirim(self, pesan):\n",
    "        print(\"Email dikirim:\", pesan)\n",
    "\n",
    "# Class SMS juga mewarisi Notifikasi dan mengimplementasikan method kirim()\n",
    "class SMS(Notifikasi):\n",
    "    def kirim(self, pesan):\n",
    "        print(\"SMS dikirim:\", pesan)\n",
    "\n",
    "# --- Main Program ---\n",
    "notif = Email()                      # Membuat objek notif dari class Email\n",
    "notif.kirim(\"Halo, kelas dimulai!\") # Memanggil method kirim() dari Email\n",
    "\n",
    "# Output:\n",
    "# Email dikirim: Halo, kelas dimulai!\n"
   ]
  },
  {
   "cell_type": "code",
   "execution_count": null,
   "id": "0dbba127",
   "metadata": {},
   "outputs": [],
   "source": [
    "# Abstraction\n",
    "from abc import ABC, abstractmethod\n",
    "\n",
    "class Notifikasi(ABC):  # class abstrak\n",
    "    @abstractmethod\n",
    "    def kirim(self, pesan):\n",
    "        pass\n",
    "\n",
    "class Email(Notifikasi):\n",
    "    def kirim(self, pesan):\n",
    "        print(\"Email dikirim:\", pesan)\n",
    "\n",
    "class SMS(Notifikasi):\n",
    "    def kirim(self, pesan):\n",
    "        print(\"SMS dikirim:\", pesan)\n",
    "\n",
    "# --- Main Program ---\n",
    "notif1 = Email()\n",
    "notif2 = SMS()\n",
    "\n",
    "notif1.kirim(\"Kelas dimulai jam 10\")\n",
    "notif2.kirim(\"Jangan lupa absen ya\")\n"
   ]
  },
  {
   "cell_type": "code",
   "execution_count": null,
   "id": "60d8173b",
   "metadata": {},
   "outputs": [],
   "source": [
    "# Abstraction (Abstraksi) dalam OOP Python\n",
    "\n",
    "# Mengimpor ABC (Abstract Base Class) dan dekorator @abstractmethod\n",
    "from abc import ABC, abstractmethod\n",
    "\n",
    "# Membuat class abstrak bernama Notifikasi\n",
    "class Notifikasi(ABC):  # class abstrak, tidak bisa langsung dibuat objeknya\n",
    "\n",
    "    # Menandai bahwa kirim() adalah abstract method\n",
    "    # Setiap class turunan WAJIB mengimplementasikan method ini\n",
    "    @abstractmethod\n",
    "    def kirim(self, pesan):\n",
    "        pass  # Tidak ada implementasi → hanya sebagai kerangka/fungsi wajib\n",
    "\n",
    "# Class Email mewarisi dari Notifikasi dan mengimplementasikan method kirim()\n",
    "class Email(Notifikasi):\n",
    "    def kirim(self, pesan):\n",
    "        print(\"Email dikirim:\", pesan)\n",
    "\n",
    "# Class SMS juga mewarisi Notifikasi dan mengimplementasikan method kirim()\n",
    "class SMS(Notifikasi):\n",
    "    def kirim(self, pesan):\n",
    "        print(\"SMS dikirim:\", pesan)\n",
    "\n",
    "# --- Main Program ---\n",
    "\n",
    "# Membuat objek dari class turunan (bisa karena sudah implementasi abstract method)\n",
    "notif1 = Email()\n",
    "notif2 = SMS()\n",
    "\n",
    "# Memanggil method kirim() dengan isi pesan yang berbeda\n",
    "notif1.kirim(\"Kelas dimulai jam 10\")     # Output: Email dikirim: Kelas dimulai jam 10\n",
    "notif2.kirim(\"Jangan lupa absen ya\")     # Output: SMS dikirim: Jangan lupa absen ya\n"
   ]
  },
  {
   "cell_type": "code",
   "execution_count": null,
   "id": "cbb23645",
   "metadata": {},
   "outputs": [],
   "source": [
    "# Abstraction – Alat Elektronik\n",
    "from abc import ABC, abstractmethod\n",
    "\n",
    "class Elektronik(ABC):\n",
    "    @abstractmethod\n",
    "    def hidupkan(self):\n",
    "        pass\n",
    "\n",
    "class Kulkas(Elektronik):\n",
    "    def hidupkan(self):\n",
    "        print(\"Kulkas menyala ❄️\")\n",
    "\n",
    "class Laptop(Elektronik):\n",
    "    def hidupkan(self):\n",
    "        print(\"Laptop menyala 💻\")\n",
    "\n",
    "# --- Main Program ---\n",
    "alat1 = Kulkas()\n",
    "alat2 = Laptop()\n",
    "\n",
    "alat1.hidupkan()\n",
    "alat2.hidupkan()\n"
   ]
  },
  {
   "cell_type": "code",
   "execution_count": null,
   "id": "9a6285e1",
   "metadata": {},
   "outputs": [],
   "source": [
    "# Abstraction – Alat Elektronik\n",
    "\n",
    "# Mengimpor ABC (Abstract Base Class) dan abstractmethod dari modul abc\n",
    "from abc import ABC, abstractmethod\n",
    "\n",
    "# Membuat class abstrak bernama Elektronik\n",
    "class Elektronik(ABC):\n",
    "    # Menandai bahwa hidupkan() adalah abstract method\n",
    "    # Artinya class turunan wajib mengimplementasikan method ini\n",
    "    @abstractmethod\n",
    "    def hidupkan(self):\n",
    "        pass  # Tidak ada implementasi, hanya kerangka/fungsi wajib\n",
    "\n",
    "# Class Kulkas mewarisi dari Elektronik\n",
    "class Kulkas(Elektronik):\n",
    "    def hidupkan(self):\n",
    "        # Implementasi method hidupkan khusus untuk Kulkas\n",
    "        print(\"Kulkas menyala ❄️\")\n",
    "\n",
    "# Class Laptop mewarisi dari Elektronik\n",
    "class Laptop(Elektronik):\n",
    "    def hidupkan(self):\n",
    "        # Implementasi method hidupkan khusus untuk Laptop\n",
    "        print(\"Laptop menyala 💻\")\n",
    "\n",
    "# --- Main Program ---\n",
    "# Membuat objek dari class Kulkas dan Laptop\n",
    "alat1 = Kulkas()\n",
    "alat2 = Laptop()\n",
    "\n",
    "# Memanggil method hidupkan() dari masing-masing objek\n",
    "alat1.hidupkan()   # Output: Kulkas menyala ❄️\n",
    "alat2.hidupkan()   # Output: Laptop menyala 💻"
   ]
  },
  {
   "cell_type": "markdown",
   "id": "45e0b1d0",
   "metadata": {},
   "source": [
    "| **Konsep**          | **Penjelasan**                                                                                        |\n",
    "| ------------------- | ----------------------------------------------------------------------------------------------------- |\n",
    "| **Abstraction**     | `Elektronik` adalah class abstrak: hanya menyediakan kerangka method `hidupkan()`.                    |\n",
    "| **@abstractmethod** | Menandai bahwa method `hidupkan()` wajib di-*override* oleh class turunan.                            |\n",
    "| **Inheritance**     | `Kulkas` dan `Laptop` mewarisi `Elektronik` dan mengimplementasikan methodnya.                        |\n",
    "| **Polymorphism**    | Kedua objek (`alat1`, `alat2`) bisa dipanggil method yang sama (`hidupkan()`), tapi hasilnya berbeda. |\n"
   ]
  },
  {
   "cell_type": "markdown",
   "id": "3a703b26",
   "metadata": {},
   "source": [
    "## Latihan"
   ]
  },
  {
   "cell_type": "code",
   "execution_count": null,
   "id": "033916c3",
   "metadata": {},
   "outputs": [],
   "source": [
    "# inheritance"
   ]
  }
 ],
 "metadata": {
  "kernelspec": {
   "display_name": "Python 3",
   "language": "python",
   "name": "python3"
  },
  "language_info": {
   "codemirror_mode": {
    "name": "ipython",
    "version": 3
   },
   "file_extension": ".py",
   "mimetype": "text/x-python",
   "name": "python",
   "nbconvert_exporter": "python",
   "pygments_lexer": "ipython3",
   "version": "3.13.0"
  }
 },
 "nbformat": 4,
 "nbformat_minor": 5
}
