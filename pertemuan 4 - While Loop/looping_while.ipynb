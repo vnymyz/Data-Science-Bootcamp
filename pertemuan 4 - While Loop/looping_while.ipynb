{
 "cells": [
  {
   "cell_type": "markdown",
   "id": "cdf57c22",
   "metadata": {},
   "source": [
    "# Pertemuan 4\n",
    "\n",
    "## Conditional Programming (Looping While)\n",
    "\n",
    "*********************\n",
    "\n",
    "### 1. While Loop"
   ]
  },
  {
   "cell_type": "markdown",
   "id": "c9cabddd",
   "metadata": {},
   "source": [
    "While loop akan menjalankan beberapa kode **WHILE atau Ketika** beberapa kondisi adalah **TRUE**"
   ]
  },
  {
   "cell_type": "markdown",
   "id": "67dd1bfd",
   "metadata": {},
   "source": [
    "* 1.1 Bentuk Dasar While loop "
   ]
  },
  {
   "cell_type": "code",
   "execution_count": null,
   "id": "fda7043a",
   "metadata": {},
   "outputs": [],
   "source": [
    "i = 0\n",
    "while i < 5:\n",
    "    print(i) \n",
    "    i += 1 \n"
   ]
  },
  {
   "cell_type": "markdown",
   "id": "ec2b75cb",
   "metadata": {},
   "source": [
    "* 1.2 While loop Continue "
   ]
  },
  {
   "cell_type": "markdown",
   "id": "d3a310b8",
   "metadata": {},
   "source": [
    "Continue adalah keyword python yang artinya \"Lewati sisa isi loop dan langsung ke iterasi berikutnya\" atau skip."
   ]
  },
  {
   "cell_type": "code",
   "execution_count": null,
   "id": "37045584",
   "metadata": {},
   "outputs": [],
   "source": [
    "i = 0\n",
    "while i < 5:\n",
    "    i += 1\n",
    "    if i == 4:\n",
    "        continue\n",
    "    print(i)"
   ]
  },
  {
   "cell_type": "markdown",
   "id": "d36f1dce",
   "metadata": {},
   "source": [
    "* 1.3 Nested While loop x dan y"
   ]
  },
  {
   "cell_type": "code",
   "execution_count": null,
   "id": "5110a727",
   "metadata": {},
   "outputs": [],
   "source": [
    "x = 0 \n",
    "while x < 5: # inner loop\n",
    "    y = 0\n",
    "    while y < 5: # outer loop\n",
    "        print(f\"x={x}, y={y}\")\n",
    "        y += 1\n",
    "    x += 1"
   ]
  },
  {
   "cell_type": "markdown",
   "id": "7b39a500",
   "metadata": {},
   "source": [
    "Gambaran secara perlahan :"
   ]
  },
  {
   "cell_type": "code",
   "execution_count": null,
   "id": "e94ae151",
   "metadata": {},
   "outputs": [],
   "source": [
    "import time\n",
    "\n",
    "x = 0\n",
    "while x < 3:\n",
    "    print(f\"x={x}\")\n",
    "    time.sleep(1)\n",
    "\n",
    "    y = 0\n",
    "    while y < 3:\n",
    "        print(f\"  y={y}\")\n",
    "        time.sleep(1)\n",
    "        y += 1\n",
    "        \n",
    "    x += 1\n"
   ]
  },
  {
   "cell_type": "markdown",
   "id": "4a8b6d62",
   "metadata": {},
   "source": [
    "Kalau misal ada 3 loop gimana ?"
   ]
  },
  {
   "cell_type": "code",
   "execution_count": null,
   "id": "a8227ee7",
   "metadata": {},
   "outputs": [],
   "source": [
    "x = 0\n",
    "while x < 2: # inner loop 1\n",
    "    y = 0\n",
    "    while y < 2: # inner loop 2\n",
    "        z = 0\n",
    "        while z < 2: # outer loop\n",
    "            print(f\"x={x}, y={y}, z={z}\")\n",
    "            z += 1 \n",
    "        y += 1  \n",
    "    x += 1  "
   ]
  },
  {
   "cell_type": "markdown",
   "id": "c99b80cd",
   "metadata": {},
   "source": [
    "Penjelasan :\n",
    "\n",
    "* z berubah paling cepat\n",
    "\n",
    "* y naik setelah z selesai\n",
    "\n",
    "* x naik setelah semua y dan z selesai"
   ]
  },
  {
   "cell_type": "markdown",
   "id": "724a2136",
   "metadata": {},
   "source": [
    "Gambaran Looping nya secara perlahan :"
   ]
  },
  {
   "cell_type": "code",
   "execution_count": null,
   "id": "7b718fd0",
   "metadata": {},
   "outputs": [],
   "source": [
    "import time\n",
    "\n",
    "x = 0\n",
    "while x < 2:\n",
    "    print(f\"x={x}\")\n",
    "    time.sleep(0.5)\n",
    "\n",
    "    y = 0\n",
    "    while y < 2:\n",
    "        print(f\"  y={y}\")\n",
    "        time.sleep(0.5)\n",
    "\n",
    "        z = 0\n",
    "        while z < 2:\n",
    "            print(f\"    z={z}\")\n",
    "            time.sleep(0.5)\n",
    "            z += 1\n",
    "\n",
    "        y += 1\n",
    "    x += 1\n"
   ]
  },
  {
   "cell_type": "markdown",
   "id": "1f3f649c",
   "metadata": {},
   "source": [
    "* 1.4 Infinite Loop"
   ]
  },
  {
   "cell_type": "code",
   "execution_count": null,
   "id": "11d340f0",
   "metadata": {},
   "outputs": [],
   "source": [
    "while True:\n",
    "    print(\"Halo terus-menerus\")"
   ]
  },
  {
   "cell_type": "markdown",
   "id": "31d4990e",
   "metadata": {},
   "source": [
    "* 1.5 While loop input"
   ]
  },
  {
   "cell_type": "code",
   "execution_count": null,
   "id": "59c8723a",
   "metadata": {},
   "outputs": [],
   "source": [
    "while True:\n",
    "    angka = int(input(\"Masukkan angka positif: \"))\n",
    "    if angka > 10:\n",
    "        break # memberhentikan program\n",
    "    print(angka)"
   ]
  },
  {
   "cell_type": "markdown",
   "id": "10d8866a",
   "metadata": {},
   "source": [
    "* 1.6 If else input nama\n",
    "\n",
    "Kalau Percabangan dia enggak berulang kali. Kalau kondisi sudah selesai ya selesai."
   ]
  },
  {
   "cell_type": "code",
   "execution_count": null,
   "id": "d3971a13",
   "metadata": {},
   "outputs": [],
   "source": [
    "nama = input(\"Masukkan nama anda : \")\n",
    "\n",
    "if nama == \"\":\n",
    "    print(\"Kamu belum masukkin nama\")\n",
    "else:\n",
    "    print(f\"Hello {nama}\")"
   ]
  },
  {
   "cell_type": "markdown",
   "id": "cb4ddf36",
   "metadata": {},
   "source": [
    "* 1.7 While Loop Input nama\n",
    "\n",
    "Program looping Semisal kita ingin terus menerus menginput nama kita."
   ]
  },
  {
   "cell_type": "code",
   "execution_count": null,
   "id": "e4bb7a0f",
   "metadata": {},
   "outputs": [],
   "source": [
    "nama = input(\"Masukkan nama anda: \")\n",
    "\n",
    "while nama == \"\":\n",
    "    print(\"Kamu belum masukkin nama\")\n",
    "    nama = input(\"Masukkan nama anda: \")\n",
    "print(f\"Hello {nama}\")"
   ]
  },
  {
   "cell_type": "markdown",
   "id": "7cb06bf7",
   "metadata": {},
   "source": [
    "* 1.8 While loop input Umur"
   ]
  },
  {
   "cell_type": "code",
   "execution_count": null,
   "id": "3eeadf6e",
   "metadata": {},
   "outputs": [],
   "source": [
    "umur = int(input(\"Masukkan Umur anda: \"))\n",
    "\n",
    "while umur < 0:\n",
    "    print(\"Umur tidak bisa negatif\")\n",
    "    umur = int(input(\"Masukkan umur anda: \"))\n",
    "\n",
    "print(f\"Kamu berumur {umur} tahun\")\n"
   ]
  },
  {
   "cell_type": "markdown",
   "id": "d0770453",
   "metadata": {},
   "source": [
    "Jadi while loop akan terus berjalan selama kondisi itu true. jika sudah false maka berenti.\n",
    "\n",
    "While loop ibaratnya kayak jalan dulu baru cek gtu. kalan true ya jalan terus kalau false ya berenti.\n",
    "\n",
    "**Misal dibawah ini ada infinite loop atau loop tidak berhenti.**"
   ]
  },
  {
   "cell_type": "markdown",
   "id": "2365c279",
   "metadata": {},
   "source": [
    "* 1.9 While loop infinite"
   ]
  },
  {
   "cell_type": "code",
   "execution_count": null,
   "id": "4fc83a50",
   "metadata": {},
   "outputs": [],
   "source": [
    "# infinite loop\n",
    "nama = input(\"Masukkan nama anda: \")\n",
    "\n",
    "while nama == \"\":\n",
    "    print(\"Kamu belum masukkin nama\")\n",
    "\n",
    "print(f\"Hello {nama}\")"
   ]
  },
  {
   "cell_type": "code",
   "execution_count": null,
   "id": "46792a86",
   "metadata": {},
   "outputs": [],
   "source": [
    "# while loop biasa\n",
    "nama = input(\"Masukkan nama anda: \")\n",
    "\n",
    "while nama == \"\":\n",
    "    print(\"Kamu belum masukkin nama\")\n",
    "    nama = input(\"Masukkan nama anda: \")\n",
    "print(f\"Hello {nama}\")"
   ]
  },
  {
   "cell_type": "markdown",
   "id": "59160e1d",
   "metadata": {},
   "source": [
    "Program memilih menu sederhana :"
   ]
  },
  {
   "cell_type": "code",
   "execution_count": null,
   "id": "06474821",
   "metadata": {},
   "outputs": [],
   "source": [
    "while True:\n",
    "    print(\"\\nMenu Makanan:\")\n",
    "    print(\"1. Nasi Goreng\")\n",
    "    print(\"2. Mie Ayam\")\n",
    "    print(\"3. Sate Ayam\")\n",
    "    print(\"4. Keluar\")\n",
    "\n",
    "    pilihan = input(\"Pilih nomor menu: \")\n",
    "\n",
    "    if pilihan == \"1\":\n",
    "        print(\"Kamu memilih Nasi Goreng.\")\n",
    "    elif pilihan == \"2\":\n",
    "        print(\"Kamu memilih Mie Ayam.\")\n",
    "    elif pilihan == \"3\":\n",
    "        print(\"Kamu memilih Sate Ayam.\")\n",
    "    elif pilihan == \"4\":\n",
    "        print(\"Kamu milih menu 4\")\n",
    "    elif pilihan == \"5\":\n",
    "        print(\"Kamu milih menu 5\")\n",
    "    elif pilihan == \"6\":\n",
    "        print(\"Kamu milih menu 6\")\n",
    "    elif pilihan == \"7\":\n",
    "        print(\"Kamu milih menu 7\")\n",
    "    elif pilihan == \"8\":\n",
    "        print(\"Kamu milih menu 8\")\n",
    "    elif pilihan == \"9\":\n",
    "        print(\"program Berhenti\")\n",
    "        break\n",
    "    else:\n",
    "        print(\"Pilihan tidak valid. Coba lagi.\")\n"
   ]
  },
  {
   "cell_type": "markdown",
   "id": "f4c0a0c0",
   "metadata": {},
   "source": [
    "Contoh selanjutnya misal kita input umur"
   ]
  },
  {
   "cell_type": "markdown",
   "id": "cb119336",
   "metadata": {},
   "source": [
    "Contoh soal logika operator :"
   ]
  },
  {
   "cell_type": "code",
   "execution_count": null,
   "id": "f10ef1a3",
   "metadata": {},
   "outputs": [],
   "source": [
    "makanan = input(\"Masukkan makanan favorit mu : \")\n",
    "\n",
    "while not makanan == \"\":\n",
    "    print(f\"kamu suka {makanan}\")\n",
    "    makanan = input(\"Masukkan makanan yang kamu suka lagi (pencet q untuk berhenti) : \")\n",
    "\n",
    "print(\"bye\") # ini itu buat jalanin jika makanan = \"\" atau kosong"
   ]
  },
  {
   "cell_type": "markdown",
   "id": "aafdfbf7",
   "metadata": {},
   "source": [
    "Contoh Soal lagi :"
   ]
  },
  {
   "cell_type": "code",
   "execution_count": null,
   "id": "d35518d5",
   "metadata": {},
   "outputs": [],
   "source": [
    "angka = int(input(\"Masukkan Angka dari 1 - 10: \"))\n",
    "\n",
    "while angka < 1 or angka > 10:\n",
    "    print(f\"Angka tidak valid\")\n",
    "    angka = int(input(\"Masukkan Angka dari 1 - 10: \"))\n",
    "\n",
    "print(f\"Angka kamu adalah {angka}\")"
   ]
  },
  {
   "cell_type": "code",
   "execution_count": null,
   "id": "65d68ccc",
   "metadata": {},
   "outputs": [],
   "source": [
    "while True:\n",
    "    angka = int(input(\"Masukkan Angka dari 1 - 10: \"))\n",
    "\n",
    "# if statement\n",
    "    if 0 <= angka <= 10:\n",
    "        print(f\"Angka kamu adalah {angka}\")\n",
    "        break\n",
    "    else:\n",
    "        print(\"Angka tidak valid\")"
   ]
  },
  {
   "cell_type": "markdown",
   "id": "b50d163a",
   "metadata": {},
   "source": [
    "**Contoh Program Bunga Majemuk (Compound Interest)**\n",
    "\n",
    "Rumus :\n",
    "\n",
    "$$\n",
    "A = P \\times \\left(1 + \\frac{r}{n} \\right)^{n \\times t}\n",
    "$$\n",
    "\n",
    "\n",
    "kalau dihitung pertahun satu kali, maka :\n",
    "\n",
    "$$\n",
    "A = P \\times \\left(1 + \\frac{r}{100} \\right)^{t}\n",
    "$$\n",
    "\n",
    "\n",
    "Keterangan:\n",
    "\n",
    "| Simbol | Arti                                                           |\n",
    "| ------ | -------------------------------------------------------------- |\n",
    "| **A**  | Jumlah uang akhir (pokok + bunga)                              |\n",
    "| **P**  | Pokok awal (jumlah uang yang ditabung/pinjam awalnya)          |\n",
    "| **r**  | Suku bunga per tahun dalam persen (misal: 5%)                  |\n",
    "| **t**  | Lama waktu dalam **tahun**                                     |\n",
    "| **n**  | Berapa kali bunga dihitung per tahun (misal: 12 untuk bulanan) |\n"
   ]
  },
  {
   "cell_type": "markdown",
   "id": "6646a1ce",
   "metadata": {},
   "source": [
    "### Cara Menghitung Bunga Majemuk (Compound Interest)\n",
    "\n",
    "---\n",
    "\n",
    "#### Contoh Soal:\n",
    "\n",
    "> Kamu menabung **Rp1.000.000** dengan bunga **5% per tahun** selama **3 tahun**.  \n",
    "> Hitung total saldo akhir dengan bunga **majemuk**, dihitung **sekali per tahun**.\n",
    "\n",
    "---\n",
    "\n",
    "### Rumus Bunga Majemuk:\n",
    "\n",
    "$$\n",
    "A = P \\times \\left(1 + \\frac{r}{100} \\right)^t\n",
    "$$\n",
    "\n",
    "**Keterangan:**\n",
    "- **A** = Jumlah akhir (pokok + bunga)\n",
    "- **P** = Pokok (jumlah uang awal)\n",
    "- **r** = Persentase bunga per tahun (%)\n",
    "- **t** = Lama menabung (tahun)\n",
    "\n",
    "---\n",
    "\n",
    "### Langkah-langkah Perhitungan\n",
    "\n",
    "\n",
    "\n",
    "* Langkah 1: Ubah bunga ke bentuk desimal\n",
    "\n",
    "$$\n",
    "\\frac{5}{100} = 0.05\n",
    "$$\n",
    "\n",
    "\n",
    "\n",
    "* Langkah 2: Tambahkan 1 ke bunga desimal\n",
    "\n",
    "$$\n",
    "1 + 0.05 = 1.05\n",
    "$$\n",
    "\n",
    "**maksud dari 1.05 nya adalah uang total setelah setahun.**\n",
    "\n",
    "\n",
    "\n",
    "\n",
    "\n",
    "* Langkah 3: Pangkatkan dengan jumlah tahun\n",
    "\n",
    "$$\n",
    "1.05^3 = 1.157625\n",
    "$$\n",
    "\n",
    "\n",
    "\n",
    "* Langkah 4: Kalikan dengan jumlah pokok\n",
    "\n",
    "$$\n",
    "1.157625 \\times 1.000.000 = 1.157.625\n",
    "$$\n",
    "\n",
    "\n",
    "\n",
    "### Jawaban:\n",
    "\n",
    "**Saldo akhir setelah 3 tahun: Rp1.157.625**\n",
    "\n",
    "---\n",
    "\n",
    "### 📊 Tabel Simulasi Tahun per Tahun:\n",
    "\n",
    "| Tahun | Saldo Awal   | Bunga 5%         | Saldo Akhir       |\n",
    "|-------|--------------|------------------|-------------------|\n",
    "| 1     | Rp1.000.000  | Rp50.000         | Rp1.050.000       |\n",
    "| 2     | Rp1.050.000  | Rp52.500         | Rp1.102.500       |\n",
    "| 3     | Rp1.102.500  | Rp55.125         | **Rp1.157.625**   |\n"
   ]
  },
  {
   "cell_type": "markdown",
   "id": "79917af8",
   "metadata": {},
   "source": [
    "**1. Cara Pertama :**"
   ]
  },
  {
   "cell_type": "code",
   "execution_count": null,
   "id": "e4f98b38",
   "metadata": {},
   "outputs": [],
   "source": [
    "# Inisialisasi variabel\n",
    "pokok = 0\n",
    "bunga = 0\n",
    "waktu = 0\n",
    "\n",
    "# Validasi input jumlah pokok\n",
    "while pokok <= 0:\n",
    "    pokok = int(input(\"Masukkan jumlah pokok (Rp): \"))\n",
    "    if pokok <= 0:\n",
    "        print(\"Jumlah pokok tidak boleh kurang dari atau sama dengan 0\")\n",
    "\n",
    "# Validasi input suku bunga\n",
    "while bunga <= 0:\n",
    "    bunga = float(input(\"Masukkan persentase bunga per tahun (%): \"))\n",
    "    if bunga <= 0:\n",
    "        print(\"Bunga tidak boleh kurang dari atau sama dengan 0\")\n",
    "\n",
    "# Validasi input waktu\n",
    "while waktu <= 0:\n",
    "    waktu = int(input(\"Masukkan jangka waktu (dalam tahun): \"))\n",
    "    if waktu <= 0:\n",
    "        print(\"Waktu tidak boleh kurang dari atau sama dengan 0\")\n",
    "\n",
    "# Tampilkan input\n",
    "print(f\"Pokok: Rp{pokok}\")\n",
    "print(f\"Bunga: {bunga}%\")\n",
    "print(f\"Waktu: {waktu} tahun\")\n",
    "\n",
    "# Hitung bunga majemuk\n",
    "total = pokok * pow((1 + bunga / 100), waktu)\n",
    "\n",
    "# Tampilkan hasil\n",
    "print(f\"Jumlah saldo setelah {waktu} tahun: Rp{total:.1f}\")"
   ]
  },
  {
   "cell_type": "markdown",
   "id": "38e727ff",
   "metadata": {},
   "source": [
    "**2. Cara Kedua :**\n",
    "\n",
    "Misal kita ngebolehin user buat masukkin nilai 0 gimana ?"
   ]
  },
  {
   "cell_type": "code",
   "execution_count": null,
   "id": "01437d4e",
   "metadata": {},
   "outputs": [],
   "source": [
    "pokok = 0\n",
    "bunga = 0\n",
    "waktu = 0\n",
    "\n",
    "# Validasi jumlah pokok\n",
    "while pokok < 0:\n",
    "    pokok = float(input(\"Masukkan jumlah pokok: \"))\n",
    "    if pokok < 0:\n",
    "        print(\"Jumlah pokok tidak boleh kurang dari 0\")\n",
    "\n",
    "# Validasi tingkat bunga\n",
    "while bunga < 0:\n",
    "    bunga = float(input(\"Masukkan tingkat bunga (% per tahun): \"))\n",
    "    if bunga < 0:\n",
    "        print(\"Tingkat bunga tidak boleh kurang dari 0\")\n",
    "\n",
    "# Validasi waktu\n",
    "while waktu < 0:\n",
    "    waktu = int(input(\"Masukkan waktu (dalam tahun): \"))\n",
    "    if waktu < 0:\n",
    "        print(\"Waktu tidak boleh kurang dari 0\")\n",
    "\n",
    "# Menampilkan input\n",
    "print(f\"\\nJumlah Pokok: Rp{pokok}\")\n",
    "print(f\"Bunga: {bunga}% per tahun\")\n",
    "print(f\"Jangka waktu: {waktu} tahun\")\n",
    "\n",
    "# Menghitung bunga majemuk\n",
    "total = pokok * pow((1 + bunga / 100), waktu)\n",
    "\n",
    "# Menampilkan hasil\n",
    "print(f\"Saldo akhir setelah {waktu} tahun: Rp{total:.2f}\")"
   ]
  },
  {
   "cell_type": "markdown",
   "id": "0cad745a",
   "metadata": {},
   "source": [
    "**3. Cara Ketiga :**"
   ]
  },
  {
   "cell_type": "code",
   "execution_count": null,
   "id": "0bad9315",
   "metadata": {},
   "outputs": [],
   "source": [
    "pokok = 0\n",
    "bunga = 0\n",
    "waktu = 0\n",
    "\n",
    "# Input dan validasi jumlah pokok\n",
    "while True:\n",
    "    pokok = float(input(\"Masukkan jumlah pokok (Rp): \"))\n",
    "    if pokok < 0:\n",
    "        print(\"Jumlah pokok tidak boleh kurang dari 0\")\n",
    "    else:\n",
    "        break\n",
    "\n",
    "# Input dan validasi bunga\n",
    "while True:\n",
    "    bunga = float(input(\"Masukkan tingkat bunga (% per tahun): \"))\n",
    "    if bunga < 0:\n",
    "        print(\"Tingkat bunga tidak boleh kurang dari 0\")\n",
    "    else:\n",
    "        break\n",
    "\n",
    "# Input dan validasi waktu\n",
    "while True:\n",
    "    waktu = int(input(\"Masukkan jangka waktu (dalam tahun): \"))\n",
    "    if waktu < 0:\n",
    "        print(\"Waktu tidak boleh kurang dari 0\")\n",
    "    else:\n",
    "        break\n",
    "\n",
    "# Menampilkan data input\n",
    "print(\"\\n--- Rangkuman Data ---\")\n",
    "print(f\"Jumlah Pokok: Rp{pokok}\")\n",
    "print(f\"Tingkat Bunga: {bunga}% per tahun\")\n",
    "print(f\"Waktu: {waktu} tahun\")\n",
    "\n",
    "# Menghitung bunga majemuk\n",
    "total = pokok * pow((1 + bunga / 100), waktu)\n",
    "\n",
    "# Menampilkan hasil akhir\n",
    "print(f\"\\nSaldo akhir setelah {waktu} tahun: Rp{total:,.2f}\")"
   ]
  },
  {
   "cell_type": "markdown",
   "id": "a9c992e6",
   "metadata": {},
   "source": [
    "**Contoh Program Tebak Angka**"
   ]
  },
  {
   "cell_type": "code",
   "execution_count": null,
   "id": "64fdf228",
   "metadata": {},
   "outputs": [
    {
     "name": "stdout",
     "output_type": "stream",
     "text": [
      "Terlalu besar!\n",
      "\n",
      "Terlalu besar!\n",
      "\n",
      "Terlalu kecil!\n",
      "\n",
      "Benar! Angka yang dicari adalah 2\n",
      "Jumlah tebakan: 5 kali\n"
     ]
    }
   ],
   "source": [
    "import random\n",
    "\n",
    "# Komputer memilih angka acak antara 1 dan 10\n",
    "angka_rahasia = random.randint(1, 10)\n",
    "\n",
    "# Hitung jumlah tebakan\n",
    "jumlah_tebakan = 0\n",
    "\n",
    "print(\"Selamat datang di Game Tebak Angka!\")\n",
    "print(\"Tebak angka dari 1 sampai 10.\\n\")\n",
    "\n",
    "while True:\n",
    "    try:\n",
    "        tebakan = int(input(\"Masukkan tebakan kamu: \"))\n",
    "        jumlah_tebakan += 1\n",
    "\n",
    "        if tebakan < 1 or tebakan > 10:\n",
    "            print(\"Angka harus antara 1 dan 10!\\n\")\n",
    "            continue\n",
    "\n",
    "        if tebakan < angka_rahasia:\n",
    "            print(\"Terlalu kecil!\\n\")\n",
    "        elif tebakan > angka_rahasia:\n",
    "            print(\"Terlalu besar!\\n\")\n",
    "        else:\n",
    "            print(f\"Benar! Angka yang dicari adalah {angka_rahasia}\")\n",
    "            print(f\"Jumlah tebakan: {jumlah_tebakan} kali\")\n",
    "            break\n",
    "\n",
    "    except ValueError: # ini kalau dimasukkin string atau bukan integer\n",
    "        print(\"Masukkan angka yang valid!\\n\")\n"
   ]
  },
  {
   "cell_type": "markdown",
   "id": "7caed335",
   "metadata": {},
   "source": [
    "| Fitur                  | Konsep                         |\n",
    "| ---------------------- | ------------------------------ |\n",
    "| `random.randint()`     | Import & library               |\n",
    "| `while True:`          | Infinite loop sampai benar     |\n",
    "| `if-elif-else`         | Percabangan                    |\n",
    "| `break`                | Keluar dari loop               |\n",
    "| `try-except`           | Tangani input yang bukan angka |\n",
    "| Validasi rentang angka | Kombinasi logika & perulangan  |\n"
   ]
  },
  {
   "cell_type": "code",
   "execution_count": null,
   "id": "8fe1a07b",
   "metadata": {},
   "outputs": [],
   "source": [
    "# Inisialisasi total belanja\n",
    "total_belanja = 0\n",
    "\n",
    "# Mulai perulangan\n",
    "while True:\n",
    "    print(\"\\nMasukkan data barang:\")\n",
    "    nama_barang = input(\"Nama barang: \")\n",
    "    harga = float(input(\"Harga barang: \"))\n",
    "    jumlah = int(input(\"Jumlah barang: \"))\n",
    "\n",
    "    # Hitung total harga barang\n",
    "    total_harga = harga * jumlah\n",
    "    print(f\"Total untuk {nama_barang}: Rp{total_harga:,.2f}\")\n",
    "\n",
    "    # Tambahkan ke total belanja\n",
    "    total_belanja += total_harga\n",
    "\n",
    "    # Tanya user apakah ingin menambah barang lagi\n",
    "    lanjut = input(\"Tambah barang lain? (y/n): \")\n",
    "\n",
    "    # Jika tidak, keluar dari loop\n",
    "    if lanjut.lower() != 'y':\n",
    "        break\n",
    "\n",
    "# Tampilkan total belanja akhir\n",
    "print(\"\\n=== Total Belanja ===\")\n",
    "print(f\"Total belanja Anda adalah: Rp{total_belanja:,.2f}\")\n"
   ]
  }
 ],
 "metadata": {
  "kernelspec": {
   "display_name": "Python 3",
   "language": "python",
   "name": "python3"
  },
  "language_info": {
   "codemirror_mode": {
    "name": "ipython",
    "version": 3
   },
   "file_extension": ".py",
   "mimetype": "text/x-python",
   "name": "python",
   "nbconvert_exporter": "python",
   "pygments_lexer": "ipython3",
   "version": "3.13.0"
  }
 },
 "nbformat": 4,
 "nbformat_minor": 5
}
