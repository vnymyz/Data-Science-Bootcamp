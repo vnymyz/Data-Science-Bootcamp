{
 "cells": [
  {
   "cell_type": "markdown",
   "id": "5db96295",
   "metadata": {},
   "source": [
    "## Pertemuan 13\n",
    "----\n",
    "##  Eksplorasi dan Pengolahan Data Pandas\n",
    "----\n"
   ]
  },
  {
   "cell_type": "markdown",
   "id": "d1186f13",
   "metadata": {},
   "source": [
    "## 1. GroupBy dan Aggregasi"
   ]
  },
  {
   "cell_type": "markdown",
   "id": "a0bbbd92",
   "metadata": {},
   "source": [
    "GroupBy memungkinkan kita untuk mengelompokkan data berdasarkan kolom tertentu dan melakukan agregasi (merangkum data) seperti menghitung rata-rata, jumlah, total, dll."
   ]
  },
  {
   "cell_type": "markdown",
   "id": "87345610",
   "metadata": {},
   "source": [
    "Bayangkan kamu punya data penjualan di berbagai kota. groupby() itu seperti:\n",
    "\n",
    "*“Kelompokkan semua baris berdasarkan kota, lalu jumlahkan total penjualannya di tiap kota.”*"
   ]
  },
  {
   "cell_type": "markdown",
   "id": "9a8ac36f",
   "metadata": {},
   "source": [
    "| Fungsi      | Kegunaan                                              |\n",
    "| ----------- | ----------------------------------------------------- |\n",
    "| `groupby()` | Mengelompokkan data berdasarkan satu atau lebih kolom |\n",
    "| `agg()`     | Melakukan banyak fungsi agregasi sekaligus            |\n",
    "| `mean()`    | Rata-rata                                             |\n",
    "| `sum()`     | Total penjumlahan                                     |\n",
    "| `count()`   | Menghitung jumlah baris di tiap grup                  |\n"
   ]
  },
  {
   "cell_type": "markdown",
   "id": "26bb77ea",
   "metadata": {},
   "source": [
    "Misal kita menggunakan dataset kecil untuk simple :"
   ]
  },
  {
   "cell_type": "code",
   "execution_count": 22,
   "id": "b9ce82d8",
   "metadata": {},
   "outputs": [
    {
     "data": {
      "text/html": [
       "<div>\n",
       "<style scoped>\n",
       "    .dataframe tbody tr th:only-of-type {\n",
       "        vertical-align: middle;\n",
       "    }\n",
       "\n",
       "    .dataframe tbody tr th {\n",
       "        vertical-align: top;\n",
       "    }\n",
       "\n",
       "    .dataframe thead th {\n",
       "        text-align: right;\n",
       "    }\n",
       "</style>\n",
       "<table border=\"1\" class=\"dataframe\">\n",
       "  <thead>\n",
       "    <tr style=\"text-align: right;\">\n",
       "      <th></th>\n",
       "      <th>Kategori</th>\n",
       "      <th>Toko</th>\n",
       "      <th>Penjualan</th>\n",
       "      <th>Transaksi</th>\n",
       "    </tr>\n",
       "  </thead>\n",
       "  <tbody>\n",
       "    <tr>\n",
       "      <th>0</th>\n",
       "      <td>Elektronik</td>\n",
       "      <td>Toko A</td>\n",
       "      <td>1000</td>\n",
       "      <td>10</td>\n",
       "    </tr>\n",
       "    <tr>\n",
       "      <th>1</th>\n",
       "      <td>Elektronik</td>\n",
       "      <td>Toko B</td>\n",
       "      <td>1500</td>\n",
       "      <td>15</td>\n",
       "    </tr>\n",
       "    <tr>\n",
       "      <th>2</th>\n",
       "      <td>Pakaian</td>\n",
       "      <td>Toko A</td>\n",
       "      <td>500</td>\n",
       "      <td>5</td>\n",
       "    </tr>\n",
       "    <tr>\n",
       "      <th>3</th>\n",
       "      <td>Pakaian</td>\n",
       "      <td>Toko B</td>\n",
       "      <td>700</td>\n",
       "      <td>7</td>\n",
       "    </tr>\n",
       "    <tr>\n",
       "      <th>4</th>\n",
       "      <td>Makanan</td>\n",
       "      <td>Toko A</td>\n",
       "      <td>300</td>\n",
       "      <td>3</td>\n",
       "    </tr>\n",
       "  </tbody>\n",
       "</table>\n",
       "</div>"
      ],
      "text/plain": [
       "     Kategori    Toko  Penjualan  Transaksi\n",
       "0  Elektronik  Toko A       1000         10\n",
       "1  Elektronik  Toko B       1500         15\n",
       "2     Pakaian  Toko A        500          5\n",
       "3     Pakaian  Toko B        700          7\n",
       "4     Makanan  Toko A        300          3"
      ]
     },
     "execution_count": 22,
     "metadata": {},
     "output_type": "execute_result"
    }
   ],
   "source": [
    "import pandas as pd\n",
    "\n",
    "# Buat dataset kecil\n",
    "data = {\n",
    "    'Kategori': ['Elektronik', 'Elektronik', 'Pakaian', 'Pakaian', 'Makanan'],\n",
    "    'Toko': ['Toko A', 'Toko B', 'Toko A', 'Toko B', 'Toko A'],\n",
    "    'Penjualan': [1000, 1500, 500, 700, 300],\n",
    "    'Transaksi': [10, 15, 5, 7, 3]\n",
    "}\n",
    "\n",
    "df_mini = pd.DataFrame(data)\n",
    "\n",
    "df_mini\n"
   ]
  },
  {
   "cell_type": "markdown",
   "id": "ca1da8b6",
   "metadata": {},
   "source": [
    "### groupby()\n",
    "\n",
    "Mengelompokkan data berdasarkan kolom tertentu."
   ]
  },
  {
   "cell_type": "code",
   "execution_count": 23,
   "id": "1adeefb8",
   "metadata": {},
   "outputs": [
    {
     "name": "stdout",
     "output_type": "stream",
     "text": [
      "<pandas.core.groupby.generic.DataFrameGroupBy object at 0x000001904937F230>\n"
     ]
    }
   ],
   "source": [
    "# Ini belum menampilkan hasil, tapi membentuk objek GroupBy berdasarkan Kategori.\n",
    "grouped = df_mini.groupby('Kategori')\n",
    "\n",
    "print(grouped)"
   ]
  },
  {
   "cell_type": "markdown",
   "id": "4ded82f0",
   "metadata": {},
   "source": [
    "### agg()\n",
    "Melakukan agregasi ganda (multi fungsi) sekaligus."
   ]
  },
  {
   "cell_type": "code",
   "execution_count": 24,
   "id": "38c59c15",
   "metadata": {},
   "outputs": [
    {
     "data": {
      "text/html": [
       "<div>\n",
       "<style scoped>\n",
       "    .dataframe tbody tr th:only-of-type {\n",
       "        vertical-align: middle;\n",
       "    }\n",
       "\n",
       "    .dataframe tbody tr th {\n",
       "        vertical-align: top;\n",
       "    }\n",
       "\n",
       "    .dataframe thead th {\n",
       "        text-align: right;\n",
       "    }\n",
       "</style>\n",
       "<table border=\"1\" class=\"dataframe\">\n",
       "  <thead>\n",
       "    <tr style=\"text-align: right;\">\n",
       "      <th></th>\n",
       "      <th>Penjualan</th>\n",
       "      <th>Transaksi</th>\n",
       "    </tr>\n",
       "    <tr>\n",
       "      <th>Kategori</th>\n",
       "      <th></th>\n",
       "      <th></th>\n",
       "    </tr>\n",
       "  </thead>\n",
       "  <tbody>\n",
       "    <tr>\n",
       "      <th>Elektronik</th>\n",
       "      <td>2500</td>\n",
       "      <td>12.5</td>\n",
       "    </tr>\n",
       "    <tr>\n",
       "      <th>Makanan</th>\n",
       "      <td>300</td>\n",
       "      <td>3.0</td>\n",
       "    </tr>\n",
       "    <tr>\n",
       "      <th>Pakaian</th>\n",
       "      <td>1200</td>\n",
       "      <td>6.0</td>\n",
       "    </tr>\n",
       "  </tbody>\n",
       "</table>\n",
       "</div>"
      ],
      "text/plain": [
       "            Penjualan  Transaksi\n",
       "Kategori                        \n",
       "Elektronik       2500       12.5\n",
       "Makanan           300        3.0\n",
       "Pakaian          1200        6.0"
      ]
     },
     "execution_count": 24,
     "metadata": {},
     "output_type": "execute_result"
    }
   ],
   "source": [
    "hasil_agg = df_mini.groupby('Kategori').agg({\n",
    "    'Penjualan': 'sum',\n",
    "    'Transaksi': 'mean'\n",
    "})\n",
    "\n",
    "hasil_agg"
   ]
  },
  {
   "cell_type": "markdown",
   "id": "0324672e",
   "metadata": {},
   "source": [
    "### mean()\n",
    "Menghitung rata-rata data"
   ]
  },
  {
   "cell_type": "code",
   "execution_count": null,
   "id": "75cf5e5c",
   "metadata": {},
   "outputs": [
    {
     "data": {
      "text/html": [
       "<div>\n",
       "<style scoped>\n",
       "    .dataframe tbody tr th:only-of-type {\n",
       "        vertical-align: middle;\n",
       "    }\n",
       "\n",
       "    .dataframe tbody tr th {\n",
       "        vertical-align: top;\n",
       "    }\n",
       "\n",
       "    .dataframe thead th {\n",
       "        text-align: right;\n",
       "    }\n",
       "</style>\n",
       "<table border=\"1\" class=\"dataframe\">\n",
       "  <thead>\n",
       "    <tr style=\"text-align: right;\">\n",
       "      <th></th>\n",
       "      <th>Kategori</th>\n",
       "      <th>Rata-Rata Penjualan</th>\n",
       "    </tr>\n",
       "  </thead>\n",
       "  <tbody>\n",
       "    <tr>\n",
       "      <th>0</th>\n",
       "      <td>Elektronik</td>\n",
       "      <td>1250.0</td>\n",
       "    </tr>\n",
       "    <tr>\n",
       "      <th>1</th>\n",
       "      <td>Makanan</td>\n",
       "      <td>300.0</td>\n",
       "    </tr>\n",
       "    <tr>\n",
       "      <th>2</th>\n",
       "      <td>Pakaian</td>\n",
       "      <td>600.0</td>\n",
       "    </tr>\n",
       "  </tbody>\n",
       "</table>\n",
       "</div>"
      ],
      "text/plain": [
       "     Kategori  Rata-Rata Penjualan\n",
       "0  Elektronik               1250.0\n",
       "1     Makanan                300.0\n",
       "2     Pakaian                600.0"
      ]
     },
     "execution_count": 28,
     "metadata": {},
     "output_type": "execute_result"
    }
   ],
   "source": [
    "mean_penjualan = df_mini.groupby('Kategori')['Penjualan'].mean().reset_index()\n",
    "mean_penjualan.columns = ['Kategori', 'Rata-Rata Penjualan'] # buat ganti nama kolom aja\n",
    "\n",
    "mean_penjualan"
   ]
  },
  {
   "cell_type": "markdown",
   "id": "d2d6c76c",
   "metadata": {},
   "source": [
    "### sum()\n",
    "Menghitung total nilai"
   ]
  },
  {
   "cell_type": "code",
   "execution_count": 29,
   "id": "479a30a8",
   "metadata": {},
   "outputs": [
    {
     "data": {
      "text/html": [
       "<div>\n",
       "<style scoped>\n",
       "    .dataframe tbody tr th:only-of-type {\n",
       "        vertical-align: middle;\n",
       "    }\n",
       "\n",
       "    .dataframe tbody tr th {\n",
       "        vertical-align: top;\n",
       "    }\n",
       "\n",
       "    .dataframe thead th {\n",
       "        text-align: right;\n",
       "    }\n",
       "</style>\n",
       "<table border=\"1\" class=\"dataframe\">\n",
       "  <thead>\n",
       "    <tr style=\"text-align: right;\">\n",
       "      <th></th>\n",
       "      <th>Kategori</th>\n",
       "      <th>Total Penjualan</th>\n",
       "    </tr>\n",
       "  </thead>\n",
       "  <tbody>\n",
       "    <tr>\n",
       "      <th>0</th>\n",
       "      <td>Elektronik</td>\n",
       "      <td>2500</td>\n",
       "    </tr>\n",
       "    <tr>\n",
       "      <th>1</th>\n",
       "      <td>Makanan</td>\n",
       "      <td>300</td>\n",
       "    </tr>\n",
       "    <tr>\n",
       "      <th>2</th>\n",
       "      <td>Pakaian</td>\n",
       "      <td>1200</td>\n",
       "    </tr>\n",
       "  </tbody>\n",
       "</table>\n",
       "</div>"
      ],
      "text/plain": [
       "     Kategori  Total Penjualan\n",
       "0  Elektronik             2500\n",
       "1     Makanan              300\n",
       "2     Pakaian             1200"
      ]
     },
     "execution_count": 29,
     "metadata": {},
     "output_type": "execute_result"
    }
   ],
   "source": [
    "total_penjualan = df_mini.groupby('Kategori')['Penjualan'].sum().reset_index()\n",
    "total_penjualan.columns = ['Kategori', 'Total Penjualan']\n",
    "\n",
    "total_penjualan\n"
   ]
  },
  {
   "cell_type": "markdown",
   "id": "68b5007d",
   "metadata": {},
   "source": [
    "### count()\n",
    "Menghitung jumlah baris/data per grup"
   ]
  },
  {
   "cell_type": "code",
   "execution_count": 33,
   "id": "5734609d",
   "metadata": {},
   "outputs": [
    {
     "data": {
      "text/html": [
       "<div>\n",
       "<style scoped>\n",
       "    .dataframe tbody tr th:only-of-type {\n",
       "        vertical-align: middle;\n",
       "    }\n",
       "\n",
       "    .dataframe tbody tr th {\n",
       "        vertical-align: top;\n",
       "    }\n",
       "\n",
       "    .dataframe thead th {\n",
       "        text-align: right;\n",
       "    }\n",
       "</style>\n",
       "<table border=\"1\" class=\"dataframe\">\n",
       "  <thead>\n",
       "    <tr style=\"text-align: right;\">\n",
       "      <th></th>\n",
       "      <th>Kategori</th>\n",
       "      <th>Jumlah Baris atau data</th>\n",
       "    </tr>\n",
       "  </thead>\n",
       "  <tbody>\n",
       "    <tr>\n",
       "      <th>0</th>\n",
       "      <td>Elektronik</td>\n",
       "      <td>2</td>\n",
       "    </tr>\n",
       "    <tr>\n",
       "      <th>1</th>\n",
       "      <td>Makanan</td>\n",
       "      <td>1</td>\n",
       "    </tr>\n",
       "    <tr>\n",
       "      <th>2</th>\n",
       "      <td>Pakaian</td>\n",
       "      <td>2</td>\n",
       "    </tr>\n",
       "  </tbody>\n",
       "</table>\n",
       "</div>"
      ],
      "text/plain": [
       "     Kategori  Jumlah Baris atau data\n",
       "0  Elektronik                       2\n",
       "1     Makanan                       1\n",
       "2     Pakaian                       2"
      ]
     },
     "execution_count": 33,
     "metadata": {},
     "output_type": "execute_result"
    }
   ],
   "source": [
    "jumlah_data = df_mini.groupby('Kategori')['Penjualan'].count().reset_index()\n",
    "jumlah_data.columns = ['Kategori', 'Jumlah Baris atau data']\n",
    "\n",
    "jumlah_data"
   ]
  },
  {
   "cell_type": "markdown",
   "id": "6f96f59d",
   "metadata": {},
   "source": [
    "## Kesimpulan\n",
    "Semua fungsi ini bekerja dengan pendekatan :"
   ]
  },
  {
   "cell_type": "code",
   "execution_count": null,
   "id": "36a72831",
   "metadata": {},
   "outputs": [],
   "source": [
    "# Bentuk Struktur saja tidak perlu di run\n",
    "df.groupby('Kolom')['Kolom_Ag'].fungsi()\n",
    "\n",
    "# atau\n",
    "df.groupby('Kolom').agg({...})"
   ]
  },
  {
   "cell_type": "markdown",
   "id": "612b768f",
   "metadata": {},
   "source": [
    "------------"
   ]
  },
  {
   "cell_type": "markdown",
   "id": "00f109bb",
   "metadata": {},
   "source": [
    "## 2. Pivot Table dan Crosstab\n",
    "\n",
    "- Membuat pivot table untuk melihat ringkasan data berdasarkan baris dan kolom.\n",
    "\n",
    "- Menggunakan crosstab untuk menghitung frekuensi atau agregasi antar kategori.\n",
    "\n",
    "- Pivot Table itu seperti tabel dinamis di Excel — kamu bisa melihat total penjualan per kategori di setiap toko, dalam bentuk tabel dua dimensi.\n",
    "\n",
    "- Crosstab itu seperti membuat tabel kontingensi (jumlah kemunculan kombinasi dua variabel kategori)."
   ]
  },
  {
   "cell_type": "markdown",
   "id": "28f87c11",
   "metadata": {},
   "source": [
    "### Pivot Table\n",
    "\n",
    "Fungsi : pd.pivot_table()"
   ]
  },
  {
   "cell_type": "code",
   "execution_count": 34,
   "id": "e4ce9f6a",
   "metadata": {},
   "outputs": [
    {
     "data": {
      "text/html": [
       "<div>\n",
       "<style scoped>\n",
       "    .dataframe tbody tr th:only-of-type {\n",
       "        vertical-align: middle;\n",
       "    }\n",
       "\n",
       "    .dataframe tbody tr th {\n",
       "        vertical-align: top;\n",
       "    }\n",
       "\n",
       "    .dataframe thead th {\n",
       "        text-align: right;\n",
       "    }\n",
       "</style>\n",
       "<table border=\"1\" class=\"dataframe\">\n",
       "  <thead>\n",
       "    <tr style=\"text-align: right;\">\n",
       "      <th></th>\n",
       "      <th>Kategori</th>\n",
       "      <th>Toko</th>\n",
       "      <th>Penjualan</th>\n",
       "      <th>Transaksi</th>\n",
       "    </tr>\n",
       "  </thead>\n",
       "  <tbody>\n",
       "    <tr>\n",
       "      <th>0</th>\n",
       "      <td>Elektronik</td>\n",
       "      <td>Toko A</td>\n",
       "      <td>1000</td>\n",
       "      <td>10</td>\n",
       "    </tr>\n",
       "    <tr>\n",
       "      <th>1</th>\n",
       "      <td>Elektronik</td>\n",
       "      <td>Toko B</td>\n",
       "      <td>1500</td>\n",
       "      <td>15</td>\n",
       "    </tr>\n",
       "    <tr>\n",
       "      <th>2</th>\n",
       "      <td>Pakaian</td>\n",
       "      <td>Toko A</td>\n",
       "      <td>500</td>\n",
       "      <td>5</td>\n",
       "    </tr>\n",
       "    <tr>\n",
       "      <th>3</th>\n",
       "      <td>Pakaian</td>\n",
       "      <td>Toko B</td>\n",
       "      <td>700</td>\n",
       "      <td>7</td>\n",
       "    </tr>\n",
       "    <tr>\n",
       "      <th>4</th>\n",
       "      <td>Makanan</td>\n",
       "      <td>Toko A</td>\n",
       "      <td>300</td>\n",
       "      <td>3</td>\n",
       "    </tr>\n",
       "  </tbody>\n",
       "</table>\n",
       "</div>"
      ],
      "text/plain": [
       "     Kategori    Toko  Penjualan  Transaksi\n",
       "0  Elektronik  Toko A       1000         10\n",
       "1  Elektronik  Toko B       1500         15\n",
       "2     Pakaian  Toko A        500          5\n",
       "3     Pakaian  Toko B        700          7\n",
       "4     Makanan  Toko A        300          3"
      ]
     },
     "execution_count": 34,
     "metadata": {},
     "output_type": "execute_result"
    }
   ],
   "source": [
    "import pandas as pd\n",
    "\n",
    "data = {\n",
    "    'Kategori': ['Elektronik', 'Elektronik', 'Pakaian', 'Pakaian', 'Makanan'],\n",
    "    'Toko': ['Toko A', 'Toko B', 'Toko A', 'Toko B', 'Toko A'],\n",
    "    'Penjualan': [1000, 1500, 500, 700, 300],\n",
    "    'Transaksi': [10, 15, 5, 7, 3]\n",
    "}\n",
    "\n",
    "df_mini = pd.DataFrame(data)\n",
    "\n",
    "df_mini"
   ]
  },
  {
   "cell_type": "markdown",
   "id": "bf504020",
   "metadata": {},
   "source": [
    "Total Penjualan per Kategori di tiap Toko :"
   ]
  },
  {
   "cell_type": "code",
   "execution_count": 37,
   "id": "96b5c740",
   "metadata": {},
   "outputs": [
    {
     "data": {
      "text/html": [
       "<div>\n",
       "<style scoped>\n",
       "    .dataframe tbody tr th:only-of-type {\n",
       "        vertical-align: middle;\n",
       "    }\n",
       "\n",
       "    .dataframe tbody tr th {\n",
       "        vertical-align: top;\n",
       "    }\n",
       "\n",
       "    .dataframe thead th {\n",
       "        text-align: right;\n",
       "    }\n",
       "</style>\n",
       "<table border=\"1\" class=\"dataframe\">\n",
       "  <thead>\n",
       "    <tr style=\"text-align: right;\">\n",
       "      <th>Toko</th>\n",
       "      <th>Toko A</th>\n",
       "      <th>Toko B</th>\n",
       "    </tr>\n",
       "    <tr>\n",
       "      <th>Kategori</th>\n",
       "      <th></th>\n",
       "      <th></th>\n",
       "    </tr>\n",
       "  </thead>\n",
       "  <tbody>\n",
       "    <tr>\n",
       "      <th>Elektronik</th>\n",
       "      <td>1000</td>\n",
       "      <td>1500</td>\n",
       "    </tr>\n",
       "    <tr>\n",
       "      <th>Makanan</th>\n",
       "      <td>300</td>\n",
       "      <td>0</td>\n",
       "    </tr>\n",
       "    <tr>\n",
       "      <th>Pakaian</th>\n",
       "      <td>500</td>\n",
       "      <td>700</td>\n",
       "    </tr>\n",
       "  </tbody>\n",
       "</table>\n",
       "</div>"
      ],
      "text/plain": [
       "Toko        Toko A  Toko B\n",
       "Kategori                  \n",
       "Elektronik    1000    1500\n",
       "Makanan        300       0\n",
       "Pakaian        500     700"
      ]
     },
     "execution_count": 37,
     "metadata": {},
     "output_type": "execute_result"
    }
   ],
   "source": [
    "pivot1 = pd.pivot_table(df_mini, \n",
    "                        values='Penjualan', \n",
    "                        index='Kategori', \n",
    "                        columns='Toko', \n",
    "                        aggfunc='sum', \n",
    "                        fill_value=0)\n",
    "\n",
    "pivot1"
   ]
  },
  {
   "cell_type": "markdown",
   "id": "f475e308",
   "metadata": {},
   "source": [
    "### Penjelasan :\n",
    "- values='Penjualan': Nilai yang dirangkum.\n",
    "\n",
    "- index='Kategori'  : Ditaruh di baris.\n",
    "\n",
    "- columns='Toko'    : Ditaruh di kolom.\n",
    "\n",
    "- aggfunc='sum'     : Agregasi berupa penjumlahan.\n",
    "\n",
    "- fill_value=0      : Kosong → diisi 0."
   ]
  },
  {
   "cell_type": "markdown",
   "id": "d6a6172d",
   "metadata": {},
   "source": [
    "Rata-rata Transaksi per kombinasi :"
   ]
  },
  {
   "cell_type": "code",
   "execution_count": 38,
   "id": "cd61f6b5",
   "metadata": {},
   "outputs": [
    {
     "data": {
      "text/html": [
       "<div>\n",
       "<style scoped>\n",
       "    .dataframe tbody tr th:only-of-type {\n",
       "        vertical-align: middle;\n",
       "    }\n",
       "\n",
       "    .dataframe tbody tr th {\n",
       "        vertical-align: top;\n",
       "    }\n",
       "\n",
       "    .dataframe thead th {\n",
       "        text-align: right;\n",
       "    }\n",
       "</style>\n",
       "<table border=\"1\" class=\"dataframe\">\n",
       "  <thead>\n",
       "    <tr style=\"text-align: right;\">\n",
       "      <th>Kategori</th>\n",
       "      <th>Elektronik</th>\n",
       "      <th>Makanan</th>\n",
       "      <th>Pakaian</th>\n",
       "    </tr>\n",
       "    <tr>\n",
       "      <th>Toko</th>\n",
       "      <th></th>\n",
       "      <th></th>\n",
       "      <th></th>\n",
       "    </tr>\n",
       "  </thead>\n",
       "  <tbody>\n",
       "    <tr>\n",
       "      <th>Toko A</th>\n",
       "      <td>10.0</td>\n",
       "      <td>3.0</td>\n",
       "      <td>5.0</td>\n",
       "    </tr>\n",
       "    <tr>\n",
       "      <th>Toko B</th>\n",
       "      <td>15.0</td>\n",
       "      <td>0.0</td>\n",
       "      <td>7.0</td>\n",
       "    </tr>\n",
       "  </tbody>\n",
       "</table>\n",
       "</div>"
      ],
      "text/plain": [
       "Kategori  Elektronik  Makanan  Pakaian\n",
       "Toko                                  \n",
       "Toko A          10.0      3.0      5.0\n",
       "Toko B          15.0      0.0      7.0"
      ]
     },
     "execution_count": 38,
     "metadata": {},
     "output_type": "execute_result"
    }
   ],
   "source": [
    "pivot2 = pd.pivot_table(df_mini, \n",
    "                        values='Transaksi', \n",
    "                        index='Toko', \n",
    "                        columns='Kategori', \n",
    "                        aggfunc='mean', \n",
    "                        fill_value=0)\n",
    "\n",
    "pivot2"
   ]
  },
  {
   "cell_type": "markdown",
   "id": "1ce2fa51",
   "metadata": {},
   "source": [
    "### Crosstab"
   ]
  },
  {
   "cell_type": "markdown",
   "id": "d1f22041",
   "metadata": {},
   "source": [
    "Fungsi: pd.crosstab()"
   ]
  },
  {
   "cell_type": "markdown",
   "id": "964b4e8d",
   "metadata": {},
   "source": [
    "Jumlah data per kombinasi Kategori dan Toko :"
   ]
  },
  {
   "cell_type": "code",
   "execution_count": 39,
   "id": "b819fc49",
   "metadata": {},
   "outputs": [
    {
     "data": {
      "text/html": [
       "<div>\n",
       "<style scoped>\n",
       "    .dataframe tbody tr th:only-of-type {\n",
       "        vertical-align: middle;\n",
       "    }\n",
       "\n",
       "    .dataframe tbody tr th {\n",
       "        vertical-align: top;\n",
       "    }\n",
       "\n",
       "    .dataframe thead th {\n",
       "        text-align: right;\n",
       "    }\n",
       "</style>\n",
       "<table border=\"1\" class=\"dataframe\">\n",
       "  <thead>\n",
       "    <tr style=\"text-align: right;\">\n",
       "      <th>Toko</th>\n",
       "      <th>Toko A</th>\n",
       "      <th>Toko B</th>\n",
       "    </tr>\n",
       "    <tr>\n",
       "      <th>Kategori</th>\n",
       "      <th></th>\n",
       "      <th></th>\n",
       "    </tr>\n",
       "  </thead>\n",
       "  <tbody>\n",
       "    <tr>\n",
       "      <th>Elektronik</th>\n",
       "      <td>1</td>\n",
       "      <td>1</td>\n",
       "    </tr>\n",
       "    <tr>\n",
       "      <th>Makanan</th>\n",
       "      <td>1</td>\n",
       "      <td>0</td>\n",
       "    </tr>\n",
       "    <tr>\n",
       "      <th>Pakaian</th>\n",
       "      <td>1</td>\n",
       "      <td>1</td>\n",
       "    </tr>\n",
       "  </tbody>\n",
       "</table>\n",
       "</div>"
      ],
      "text/plain": [
       "Toko        Toko A  Toko B\n",
       "Kategori                  \n",
       "Elektronik       1       1\n",
       "Makanan          1       0\n",
       "Pakaian          1       1"
      ]
     },
     "execution_count": 39,
     "metadata": {},
     "output_type": "execute_result"
    }
   ],
   "source": [
    "ctab = pd.crosstab(df_mini['Kategori'], df_mini['Toko'])\n",
    "\n",
    "ctab\n",
    "# Ini cocok untuk menghitung frekuensi atau jumlah kemunculan kombinasi kategori."
   ]
  },
  {
   "cell_type": "markdown",
   "id": "f94cff8d",
   "metadata": {},
   "source": [
    "Crosstab dengan nilai dan agregasi. Misalnya, total Penjualan :"
   ]
  },
  {
   "cell_type": "code",
   "execution_count": 40,
   "id": "2152c195",
   "metadata": {},
   "outputs": [
    {
     "data": {
      "text/html": [
       "<div>\n",
       "<style scoped>\n",
       "    .dataframe tbody tr th:only-of-type {\n",
       "        vertical-align: middle;\n",
       "    }\n",
       "\n",
       "    .dataframe tbody tr th {\n",
       "        vertical-align: top;\n",
       "    }\n",
       "\n",
       "    .dataframe thead th {\n",
       "        text-align: right;\n",
       "    }\n",
       "</style>\n",
       "<table border=\"1\" class=\"dataframe\">\n",
       "  <thead>\n",
       "    <tr style=\"text-align: right;\">\n",
       "      <th>Toko</th>\n",
       "      <th>Toko A</th>\n",
       "      <th>Toko B</th>\n",
       "    </tr>\n",
       "    <tr>\n",
       "      <th>Kategori</th>\n",
       "      <th></th>\n",
       "      <th></th>\n",
       "    </tr>\n",
       "  </thead>\n",
       "  <tbody>\n",
       "    <tr>\n",
       "      <th>Elektronik</th>\n",
       "      <td>1000.0</td>\n",
       "      <td>1500.0</td>\n",
       "    </tr>\n",
       "    <tr>\n",
       "      <th>Makanan</th>\n",
       "      <td>300.0</td>\n",
       "      <td>0.0</td>\n",
       "    </tr>\n",
       "    <tr>\n",
       "      <th>Pakaian</th>\n",
       "      <td>500.0</td>\n",
       "      <td>700.0</td>\n",
       "    </tr>\n",
       "  </tbody>\n",
       "</table>\n",
       "</div>"
      ],
      "text/plain": [
       "Toko        Toko A  Toko B\n",
       "Kategori                  \n",
       "Elektronik  1000.0  1500.0\n",
       "Makanan      300.0     0.0\n",
       "Pakaian      500.0   700.0"
      ]
     },
     "execution_count": 40,
     "metadata": {},
     "output_type": "execute_result"
    }
   ],
   "source": [
    "ctab_penjualan = pd.crosstab(df_mini['Kategori'], \n",
    "                             df_mini['Toko'], \n",
    "                             values=df_mini['Penjualan'], \n",
    "                             aggfunc='sum').fillna(0)\n",
    "\n",
    "ctab_penjualan\n",
    "# Hasilnya sama seperti pivot, tapi ini lebih ringkas."
   ]
  },
  {
   "cell_type": "markdown",
   "id": "3cc36118",
   "metadata": {},
   "source": [
    "| Fungsi        | Gunanya                                                       |\n",
    "| ------------- | ------------------------------------------------------------- |\n",
    "| `pivot_table` | Merangkum nilai (sum, mean, count, dll) dalam bentuk tabel 2D |\n",
    "| `crosstab`    | Menghitung frekuensi atau agregasi antar kategori             |\n"
   ]
  },
  {
   "cell_type": "markdown",
   "id": "5bb40d7c",
   "metadata": {},
   "source": [
    "-----------"
   ]
  },
  {
   "cell_type": "markdown",
   "id": "c36e257c",
   "metadata": {},
   "source": [
    "## 3. Merge dan Join Dataset\n",
    "- Menggabungkan dua DataFrame berdasarkan kolom tertentu.\n",
    "\n",
    "- Mengenal jenis-jenis join: inner, left, right, outer.\n",
    "\n",
    "#### Analogi Sederhana\n",
    "\n",
    "Bayangkan kamu punya:\n",
    "\n",
    "- Tabel 1: Data Customer\n",
    "\n",
    "- Tabel 2: Data Penjualan\n",
    "\n",
    "Merge & Join = menggabungkan dua tabel yang punya kolom kunci sama, seperti Customer ID."
   ]
  },
  {
   "cell_type": "code",
   "execution_count": 41,
   "id": "f9b26673",
   "metadata": {},
   "outputs": [],
   "source": [
    "import pandas as pd\n",
    "\n",
    "# Data pelanggan\n",
    "pelanggan = pd.DataFrame({\n",
    "    'CustomerID': [1, 2, 3],\n",
    "    'Nama': ['Andi', 'Budi', 'Citra']\n",
    "})\n",
    "\n",
    "# Data pesanan\n",
    "pesanan = pd.DataFrame({\n",
    "    'OrderID': [101, 102, 103, 104],\n",
    "    'CustomerID': [1, 2, 2, 4],\n",
    "    'Total': [50000, 75000, 30000, 100000]\n",
    "})\n"
   ]
  },
  {
   "cell_type": "code",
   "execution_count": 42,
   "id": "012643bd",
   "metadata": {},
   "outputs": [
    {
     "data": {
      "text/html": [
       "<div>\n",
       "<style scoped>\n",
       "    .dataframe tbody tr th:only-of-type {\n",
       "        vertical-align: middle;\n",
       "    }\n",
       "\n",
       "    .dataframe tbody tr th {\n",
       "        vertical-align: top;\n",
       "    }\n",
       "\n",
       "    .dataframe thead th {\n",
       "        text-align: right;\n",
       "    }\n",
       "</style>\n",
       "<table border=\"1\" class=\"dataframe\">\n",
       "  <thead>\n",
       "    <tr style=\"text-align: right;\">\n",
       "      <th></th>\n",
       "      <th>CustomerID</th>\n",
       "      <th>Nama</th>\n",
       "    </tr>\n",
       "  </thead>\n",
       "  <tbody>\n",
       "    <tr>\n",
       "      <th>0</th>\n",
       "      <td>1</td>\n",
       "      <td>Andi</td>\n",
       "    </tr>\n",
       "    <tr>\n",
       "      <th>1</th>\n",
       "      <td>2</td>\n",
       "      <td>Budi</td>\n",
       "    </tr>\n",
       "    <tr>\n",
       "      <th>2</th>\n",
       "      <td>3</td>\n",
       "      <td>Citra</td>\n",
       "    </tr>\n",
       "  </tbody>\n",
       "</table>\n",
       "</div>"
      ],
      "text/plain": [
       "   CustomerID   Nama\n",
       "0           1   Andi\n",
       "1           2   Budi\n",
       "2           3  Citra"
      ]
     },
     "execution_count": 42,
     "metadata": {},
     "output_type": "execute_result"
    }
   ],
   "source": [
    "pelanggan"
   ]
  },
  {
   "cell_type": "code",
   "execution_count": 43,
   "id": "d45a8bde",
   "metadata": {},
   "outputs": [
    {
     "data": {
      "text/html": [
       "<div>\n",
       "<style scoped>\n",
       "    .dataframe tbody tr th:only-of-type {\n",
       "        vertical-align: middle;\n",
       "    }\n",
       "\n",
       "    .dataframe tbody tr th {\n",
       "        vertical-align: top;\n",
       "    }\n",
       "\n",
       "    .dataframe thead th {\n",
       "        text-align: right;\n",
       "    }\n",
       "</style>\n",
       "<table border=\"1\" class=\"dataframe\">\n",
       "  <thead>\n",
       "    <tr style=\"text-align: right;\">\n",
       "      <th></th>\n",
       "      <th>OrderID</th>\n",
       "      <th>CustomerID</th>\n",
       "      <th>Total</th>\n",
       "    </tr>\n",
       "  </thead>\n",
       "  <tbody>\n",
       "    <tr>\n",
       "      <th>0</th>\n",
       "      <td>101</td>\n",
       "      <td>1</td>\n",
       "      <td>50000</td>\n",
       "    </tr>\n",
       "    <tr>\n",
       "      <th>1</th>\n",
       "      <td>102</td>\n",
       "      <td>2</td>\n",
       "      <td>75000</td>\n",
       "    </tr>\n",
       "    <tr>\n",
       "      <th>2</th>\n",
       "      <td>103</td>\n",
       "      <td>2</td>\n",
       "      <td>30000</td>\n",
       "    </tr>\n",
       "    <tr>\n",
       "      <th>3</th>\n",
       "      <td>104</td>\n",
       "      <td>4</td>\n",
       "      <td>100000</td>\n",
       "    </tr>\n",
       "  </tbody>\n",
       "</table>\n",
       "</div>"
      ],
      "text/plain": [
       "   OrderID  CustomerID   Total\n",
       "0      101           1   50000\n",
       "1      102           2   75000\n",
       "2      103           2   30000\n",
       "3      104           4  100000"
      ]
     },
     "execution_count": 43,
     "metadata": {},
     "output_type": "execute_result"
    }
   ],
   "source": [
    "pesanan"
   ]
  },
  {
   "cell_type": "markdown",
   "id": "6c0f07d7",
   "metadata": {},
   "source": [
    "### Inner Join\n",
    "Menggabungkan data yang ada di kedua tabel :"
   ]
  },
  {
   "cell_type": "code",
   "execution_count": 44,
   "id": "4c5880ac",
   "metadata": {},
   "outputs": [
    {
     "data": {
      "text/html": [
       "<div>\n",
       "<style scoped>\n",
       "    .dataframe tbody tr th:only-of-type {\n",
       "        vertical-align: middle;\n",
       "    }\n",
       "\n",
       "    .dataframe tbody tr th {\n",
       "        vertical-align: top;\n",
       "    }\n",
       "\n",
       "    .dataframe thead th {\n",
       "        text-align: right;\n",
       "    }\n",
       "</style>\n",
       "<table border=\"1\" class=\"dataframe\">\n",
       "  <thead>\n",
       "    <tr style=\"text-align: right;\">\n",
       "      <th></th>\n",
       "      <th>CustomerID</th>\n",
       "      <th>Nama</th>\n",
       "      <th>OrderID</th>\n",
       "      <th>Total</th>\n",
       "    </tr>\n",
       "  </thead>\n",
       "  <tbody>\n",
       "    <tr>\n",
       "      <th>0</th>\n",
       "      <td>1</td>\n",
       "      <td>Andi</td>\n",
       "      <td>101</td>\n",
       "      <td>50000</td>\n",
       "    </tr>\n",
       "    <tr>\n",
       "      <th>1</th>\n",
       "      <td>2</td>\n",
       "      <td>Budi</td>\n",
       "      <td>102</td>\n",
       "      <td>75000</td>\n",
       "    </tr>\n",
       "    <tr>\n",
       "      <th>2</th>\n",
       "      <td>2</td>\n",
       "      <td>Budi</td>\n",
       "      <td>103</td>\n",
       "      <td>30000</td>\n",
       "    </tr>\n",
       "  </tbody>\n",
       "</table>\n",
       "</div>"
      ],
      "text/plain": [
       "   CustomerID  Nama  OrderID  Total\n",
       "0           1  Andi      101  50000\n",
       "1           2  Budi      102  75000\n",
       "2           2  Budi      103  30000"
      ]
     },
     "execution_count": 44,
     "metadata": {},
     "output_type": "execute_result"
    }
   ],
   "source": [
    "inner = pd.merge(pelanggan, pesanan, on='CustomerID', how='inner')\n",
    "\n",
    "inner"
   ]
  },
  {
   "cell_type": "markdown",
   "id": "b6b853e7",
   "metadata": {},
   "source": [
    "### Left Join\n",
    "Ambil semua data dari tabel kiri, yang kanan ikut kalau cocok :"
   ]
  },
  {
   "cell_type": "code",
   "execution_count": 45,
   "id": "740f91b9",
   "metadata": {},
   "outputs": [
    {
     "data": {
      "text/html": [
       "<div>\n",
       "<style scoped>\n",
       "    .dataframe tbody tr th:only-of-type {\n",
       "        vertical-align: middle;\n",
       "    }\n",
       "\n",
       "    .dataframe tbody tr th {\n",
       "        vertical-align: top;\n",
       "    }\n",
       "\n",
       "    .dataframe thead th {\n",
       "        text-align: right;\n",
       "    }\n",
       "</style>\n",
       "<table border=\"1\" class=\"dataframe\">\n",
       "  <thead>\n",
       "    <tr style=\"text-align: right;\">\n",
       "      <th></th>\n",
       "      <th>CustomerID</th>\n",
       "      <th>Nama</th>\n",
       "      <th>OrderID</th>\n",
       "      <th>Total</th>\n",
       "    </tr>\n",
       "  </thead>\n",
       "  <tbody>\n",
       "    <tr>\n",
       "      <th>0</th>\n",
       "      <td>1</td>\n",
       "      <td>Andi</td>\n",
       "      <td>101.0</td>\n",
       "      <td>50000.0</td>\n",
       "    </tr>\n",
       "    <tr>\n",
       "      <th>1</th>\n",
       "      <td>2</td>\n",
       "      <td>Budi</td>\n",
       "      <td>102.0</td>\n",
       "      <td>75000.0</td>\n",
       "    </tr>\n",
       "    <tr>\n",
       "      <th>2</th>\n",
       "      <td>2</td>\n",
       "      <td>Budi</td>\n",
       "      <td>103.0</td>\n",
       "      <td>30000.0</td>\n",
       "    </tr>\n",
       "    <tr>\n",
       "      <th>3</th>\n",
       "      <td>3</td>\n",
       "      <td>Citra</td>\n",
       "      <td>NaN</td>\n",
       "      <td>NaN</td>\n",
       "    </tr>\n",
       "  </tbody>\n",
       "</table>\n",
       "</div>"
      ],
      "text/plain": [
       "   CustomerID   Nama  OrderID    Total\n",
       "0           1   Andi    101.0  50000.0\n",
       "1           2   Budi    102.0  75000.0\n",
       "2           2   Budi    103.0  30000.0\n",
       "3           3  Citra      NaN      NaN"
      ]
     },
     "execution_count": 45,
     "metadata": {},
     "output_type": "execute_result"
    }
   ],
   "source": [
    "left = pd.merge(pelanggan, pesanan, on='CustomerID', how='left')\n",
    "\n",
    "left"
   ]
  },
  {
   "cell_type": "markdown",
   "id": "55c5439c",
   "metadata": {},
   "source": [
    "### Right Join\n",
    "Ambil semua data dari tabel kanan, yang kiri ikut kalau cocok :"
   ]
  },
  {
   "cell_type": "code",
   "execution_count": 46,
   "id": "42cb305e",
   "metadata": {},
   "outputs": [
    {
     "data": {
      "text/html": [
       "<div>\n",
       "<style scoped>\n",
       "    .dataframe tbody tr th:only-of-type {\n",
       "        vertical-align: middle;\n",
       "    }\n",
       "\n",
       "    .dataframe tbody tr th {\n",
       "        vertical-align: top;\n",
       "    }\n",
       "\n",
       "    .dataframe thead th {\n",
       "        text-align: right;\n",
       "    }\n",
       "</style>\n",
       "<table border=\"1\" class=\"dataframe\">\n",
       "  <thead>\n",
       "    <tr style=\"text-align: right;\">\n",
       "      <th></th>\n",
       "      <th>CustomerID</th>\n",
       "      <th>Nama</th>\n",
       "      <th>OrderID</th>\n",
       "      <th>Total</th>\n",
       "    </tr>\n",
       "  </thead>\n",
       "  <tbody>\n",
       "    <tr>\n",
       "      <th>0</th>\n",
       "      <td>1</td>\n",
       "      <td>Andi</td>\n",
       "      <td>101</td>\n",
       "      <td>50000</td>\n",
       "    </tr>\n",
       "    <tr>\n",
       "      <th>1</th>\n",
       "      <td>2</td>\n",
       "      <td>Budi</td>\n",
       "      <td>102</td>\n",
       "      <td>75000</td>\n",
       "    </tr>\n",
       "    <tr>\n",
       "      <th>2</th>\n",
       "      <td>2</td>\n",
       "      <td>Budi</td>\n",
       "      <td>103</td>\n",
       "      <td>30000</td>\n",
       "    </tr>\n",
       "    <tr>\n",
       "      <th>3</th>\n",
       "      <td>4</td>\n",
       "      <td>NaN</td>\n",
       "      <td>104</td>\n",
       "      <td>100000</td>\n",
       "    </tr>\n",
       "  </tbody>\n",
       "</table>\n",
       "</div>"
      ],
      "text/plain": [
       "   CustomerID  Nama  OrderID   Total\n",
       "0           1  Andi      101   50000\n",
       "1           2  Budi      102   75000\n",
       "2           2  Budi      103   30000\n",
       "3           4   NaN      104  100000"
      ]
     },
     "execution_count": 46,
     "metadata": {},
     "output_type": "execute_result"
    }
   ],
   "source": [
    "right = pd.merge(pelanggan, pesanan, on='CustomerID', how='right')\n",
    "\n",
    "right"
   ]
  },
  {
   "cell_type": "markdown",
   "id": "1346bab3",
   "metadata": {},
   "source": [
    "### Outer Join\n",
    "Gabungkan semua data, baik yang cocok maupun tidak cocok :"
   ]
  },
  {
   "cell_type": "code",
   "execution_count": 47,
   "id": "e18c3045",
   "metadata": {},
   "outputs": [
    {
     "data": {
      "text/html": [
       "<div>\n",
       "<style scoped>\n",
       "    .dataframe tbody tr th:only-of-type {\n",
       "        vertical-align: middle;\n",
       "    }\n",
       "\n",
       "    .dataframe tbody tr th {\n",
       "        vertical-align: top;\n",
       "    }\n",
       "\n",
       "    .dataframe thead th {\n",
       "        text-align: right;\n",
       "    }\n",
       "</style>\n",
       "<table border=\"1\" class=\"dataframe\">\n",
       "  <thead>\n",
       "    <tr style=\"text-align: right;\">\n",
       "      <th></th>\n",
       "      <th>CustomerID</th>\n",
       "      <th>Nama</th>\n",
       "      <th>OrderID</th>\n",
       "      <th>Total</th>\n",
       "    </tr>\n",
       "  </thead>\n",
       "  <tbody>\n",
       "    <tr>\n",
       "      <th>0</th>\n",
       "      <td>1</td>\n",
       "      <td>Andi</td>\n",
       "      <td>101.0</td>\n",
       "      <td>50000.0</td>\n",
       "    </tr>\n",
       "    <tr>\n",
       "      <th>1</th>\n",
       "      <td>2</td>\n",
       "      <td>Budi</td>\n",
       "      <td>102.0</td>\n",
       "      <td>75000.0</td>\n",
       "    </tr>\n",
       "    <tr>\n",
       "      <th>2</th>\n",
       "      <td>2</td>\n",
       "      <td>Budi</td>\n",
       "      <td>103.0</td>\n",
       "      <td>30000.0</td>\n",
       "    </tr>\n",
       "    <tr>\n",
       "      <th>3</th>\n",
       "      <td>3</td>\n",
       "      <td>Citra</td>\n",
       "      <td>NaN</td>\n",
       "      <td>NaN</td>\n",
       "    </tr>\n",
       "    <tr>\n",
       "      <th>4</th>\n",
       "      <td>4</td>\n",
       "      <td>NaN</td>\n",
       "      <td>104.0</td>\n",
       "      <td>100000.0</td>\n",
       "    </tr>\n",
       "  </tbody>\n",
       "</table>\n",
       "</div>"
      ],
      "text/plain": [
       "   CustomerID   Nama  OrderID     Total\n",
       "0           1   Andi    101.0   50000.0\n",
       "1           2   Budi    102.0   75000.0\n",
       "2           2   Budi    103.0   30000.0\n",
       "3           3  Citra      NaN       NaN\n",
       "4           4    NaN    104.0  100000.0"
      ]
     },
     "execution_count": 47,
     "metadata": {},
     "output_type": "execute_result"
    }
   ],
   "source": [
    "outer = pd.merge(pelanggan, pesanan, on='CustomerID', how='outer')\n",
    "\n",
    "outer"
   ]
  },
  {
   "cell_type": "markdown",
   "id": "40637483",
   "metadata": {},
   "source": [
    "### Rangkuman Join\n",
    "\n",
    "| Tipe Join | Data dari Kiri | Data dari Kanan | Baris Tidak Cocok         |\n",
    "| --------- | -------------- | --------------- | ------------------------- |\n",
    "| Inner     | ✅ kalau cocok  | ✅ kalau cocok   | ❌ dihapus                 |\n",
    "| Left      | ✅ semua        | ✅ kalau cocok   | ❌ kanan kosong            |\n",
    "| Right     | ✅ kalau cocok  | ✅ semua         | ❌ kiri kosong             |\n",
    "| Outer     | ✅ semua        | ✅ semua         | ✅ isi NaN kalau tak cocok |\n"
   ]
  },
  {
   "cell_type": "markdown",
   "id": "771fbbaf",
   "metadata": {},
   "source": [
    "### Gambaran\n"
   ]
  },
  {
   "cell_type": "markdown",
   "id": "aa8bc24d",
   "metadata": {},
   "source": [
    "Tabel Pelanggan (kiri) :\n",
    "```diff\n",
    "CustomerID   Nama\n",
    "-----------  ------\n",
    "1            Andi\n",
    "2            Budi\n",
    "3            Citra\n",
    "```\n",
    "\n",
    "Tabel pesanan (kanan):\n",
    "```diff\n",
    "OrderID   CustomerID   Total\n",
    "--------  -----------  ------\n",
    "101       1            50000\n",
    "102       2            75000\n",
    "103       2            30000\n",
    "104       4            100000\n",
    "```"
   ]
  },
  {
   "cell_type": "markdown",
   "id": "6e4df080",
   "metadata": {},
   "source": [
    "### Cara Kerja Join\n",
    "\n",
    "### 1. Inner Join (how ='inner')\n",
    "Hanya ambil data yang cocok di kedua tabel\n",
    "```lua\n",
    "  pelanggan             pesanan\n",
    "  ----------            ---------\n",
    "  1  Andi     ─────▶     1  50000\n",
    "  2  Budi     ─────▶     2  75000\n",
    "                     ─────▶     2  30000\n",
    "\n",
    "⬇ Hasil:\n",
    "\n",
    "CustomerID  Nama   OrderID  Total\n",
    "----------- ------ -------- -------\n",
    "1           Andi   101      50000\n",
    "2           Budi   102      75000\n",
    "2           Budi   103      30000\n",
    "```"
   ]
  },
  {
   "cell_type": "markdown",
   "id": "a1dbbe83",
   "metadata": {},
   "source": [
    "### 2. Left Join (how='left')\n",
    "Ambil semua dari tabel kiri, kanan ikut jika cocok :\n",
    "```lua\n",
    "  pelanggan             pesanan\n",
    "  ----------            ---------\n",
    "  1  Andi     ─────▶     1  50000\n",
    "  2  Budi     ─────▶     2  75000\n",
    "                     ─────▶     2  30000\n",
    "  3  Citra    ─────▶     (tidak ada)\n",
    "\n",
    "⬇ Hasil:\n",
    "\n",
    "CustomerID  Nama   OrderID  Total\n",
    "----------- ------ -------- -------\n",
    "1           Andi   101      50000\n",
    "2           Budi   102      75000\n",
    "2           Budi   103      30000\n",
    "3           Citra  NaN      NaN\n",
    "```"
   ]
  },
  {
   "cell_type": "markdown",
   "id": "a333f4d2",
   "metadata": {},
   "source": [
    "### 3. Right Join (how='right')\n",
    "Ambil semua dari tabel kanan, kiri ikut jika cocok :\n",
    "```lua\n",
    "  pelanggan             pesanan\n",
    "  ----------            ---------\n",
    "  1  Andi     ◀─────     1  50000\n",
    "  2  Budi     ◀─────     2  75000\n",
    "                     ◀─────     2  30000\n",
    "  (tidak ada) ◀─────     4  100000\n",
    "\n",
    "⬇ Hasil:\n",
    "\n",
    "CustomerID  Nama   OrderID  Total\n",
    "----------- ------ -------- -------\n",
    "1           Andi   101      50000\n",
    "2           Budi   102      75000\n",
    "2           Budi   103      30000\n",
    "4           NaN    104      100000\n",
    "```"
   ]
  },
  {
   "cell_type": "markdown",
   "id": "bc269931",
   "metadata": {},
   "source": [
    "### 4. Outer Join (how='outer')\n",
    "Ambil semua dari kedua tabel, isi kosong kalau tidak cocok :\n",
    "```lua\n",
    "  pelanggan             pesanan\n",
    "  ----------            ---------\n",
    "  1  Andi     ◀─────▶     1  50000\n",
    "  2  Budi     ◀─────▶     2  75000\n",
    "                     ◀─────▶     2  30000\n",
    "  3  Citra    ◀─────▶     (tidak ada)\n",
    "  (tidak ada) ◀─────▶     4  100000\n",
    "\n",
    "⬇ Hasil:\n",
    "\n",
    "CustomerID  Nama   OrderID  Total\n",
    "----------- ------ -------- -------\n",
    "1           Andi   101      50000\n",
    "2           Budi   102      75000\n",
    "2           Budi   103      30000\n",
    "3           Citra  NaN      NaN\n",
    "4           NaN    104      100000\n",
    "```"
   ]
  },
  {
   "cell_type": "markdown",
   "id": "a1c94781",
   "metadata": {},
   "source": [
    "-----------"
   ]
  },
  {
   "cell_type": "markdown",
   "id": "0062b157",
   "metadata": {},
   "source": [
    "## 4. Reshape dan Melt\n",
    "membahas cara mengubah bentuk (struktur) DataFrame, dari lebar ke panjang atau sebaliknya.\n",
    "\n",
    "Memahami fungsi melt() dan pivot()\n",
    "\n",
    "Mengubah data dari bentuk lebar (wide) ke panjang (long), dan sebaliknya\n",
    "\n",
    "### Analogi\n",
    "\n",
    "Bayangkan data kamu seperti lembar Excel dengan kolom per bulan:\n",
    "```lua\n",
    "| Produk | Jan | Feb | Mar |\n",
    "```\n",
    "Tapi kamu ingin ubah jadi:\n",
    "```lua\n",
    "| Produk | Bulan | Penjualan |\n",
    "```\n",
    "ini adalah melt"
   ]
  },
  {
   "cell_type": "code",
   "execution_count": 48,
   "id": "9523085c",
   "metadata": {},
   "outputs": [
    {
     "data": {
      "text/html": [
       "<div>\n",
       "<style scoped>\n",
       "    .dataframe tbody tr th:only-of-type {\n",
       "        vertical-align: middle;\n",
       "    }\n",
       "\n",
       "    .dataframe tbody tr th {\n",
       "        vertical-align: top;\n",
       "    }\n",
       "\n",
       "    .dataframe thead th {\n",
       "        text-align: right;\n",
       "    }\n",
       "</style>\n",
       "<table border=\"1\" class=\"dataframe\">\n",
       "  <thead>\n",
       "    <tr style=\"text-align: right;\">\n",
       "      <th></th>\n",
       "      <th>Produk</th>\n",
       "      <th>Jan</th>\n",
       "      <th>Feb</th>\n",
       "      <th>Mar</th>\n",
       "    </tr>\n",
       "  </thead>\n",
       "  <tbody>\n",
       "    <tr>\n",
       "      <th>0</th>\n",
       "      <td>A</td>\n",
       "      <td>100</td>\n",
       "      <td>120</td>\n",
       "      <td>130</td>\n",
       "    </tr>\n",
       "    <tr>\n",
       "      <th>1</th>\n",
       "      <td>B</td>\n",
       "      <td>150</td>\n",
       "      <td>180</td>\n",
       "      <td>170</td>\n",
       "    </tr>\n",
       "    <tr>\n",
       "      <th>2</th>\n",
       "      <td>C</td>\n",
       "      <td>200</td>\n",
       "      <td>210</td>\n",
       "      <td>190</td>\n",
       "    </tr>\n",
       "  </tbody>\n",
       "</table>\n",
       "</div>"
      ],
      "text/plain": [
       "  Produk  Jan  Feb  Mar\n",
       "0      A  100  120  130\n",
       "1      B  150  180  170\n",
       "2      C  200  210  190"
      ]
     },
     "execution_count": 48,
     "metadata": {},
     "output_type": "execute_result"
    }
   ],
   "source": [
    "import pandas as pd\n",
    "\n",
    "data = {\n",
    "    'Produk': ['A', 'B', 'C'],\n",
    "    'Jan': [100, 150, 200],\n",
    "    'Feb': [120, 180, 210],\n",
    "    'Mar': [130, 170, 190]\n",
    "}\n",
    "\n",
    "df_a = pd.DataFrame(data)\n",
    "\n",
    "df_a"
   ]
  },
  {
   "cell_type": "markdown",
   "id": "4e04c681",
   "metadata": {},
   "source": [
    "### melt()\n",
    "Mengubah format wide menjadi long (data panjang per baris)."
   ]
  },
  {
   "cell_type": "code",
   "execution_count": 49,
   "id": "d1767d86",
   "metadata": {},
   "outputs": [
    {
     "data": {
      "text/html": [
       "<div>\n",
       "<style scoped>\n",
       "    .dataframe tbody tr th:only-of-type {\n",
       "        vertical-align: middle;\n",
       "    }\n",
       "\n",
       "    .dataframe tbody tr th {\n",
       "        vertical-align: top;\n",
       "    }\n",
       "\n",
       "    .dataframe thead th {\n",
       "        text-align: right;\n",
       "    }\n",
       "</style>\n",
       "<table border=\"1\" class=\"dataframe\">\n",
       "  <thead>\n",
       "    <tr style=\"text-align: right;\">\n",
       "      <th></th>\n",
       "      <th>Produk</th>\n",
       "      <th>Bulan</th>\n",
       "      <th>Penjualan</th>\n",
       "    </tr>\n",
       "  </thead>\n",
       "  <tbody>\n",
       "    <tr>\n",
       "      <th>0</th>\n",
       "      <td>A</td>\n",
       "      <td>Jan</td>\n",
       "      <td>100</td>\n",
       "    </tr>\n",
       "    <tr>\n",
       "      <th>1</th>\n",
       "      <td>B</td>\n",
       "      <td>Jan</td>\n",
       "      <td>150</td>\n",
       "    </tr>\n",
       "    <tr>\n",
       "      <th>2</th>\n",
       "      <td>C</td>\n",
       "      <td>Jan</td>\n",
       "      <td>200</td>\n",
       "    </tr>\n",
       "    <tr>\n",
       "      <th>3</th>\n",
       "      <td>A</td>\n",
       "      <td>Feb</td>\n",
       "      <td>120</td>\n",
       "    </tr>\n",
       "    <tr>\n",
       "      <th>4</th>\n",
       "      <td>B</td>\n",
       "      <td>Feb</td>\n",
       "      <td>180</td>\n",
       "    </tr>\n",
       "    <tr>\n",
       "      <th>5</th>\n",
       "      <td>C</td>\n",
       "      <td>Feb</td>\n",
       "      <td>210</td>\n",
       "    </tr>\n",
       "    <tr>\n",
       "      <th>6</th>\n",
       "      <td>A</td>\n",
       "      <td>Mar</td>\n",
       "      <td>130</td>\n",
       "    </tr>\n",
       "    <tr>\n",
       "      <th>7</th>\n",
       "      <td>B</td>\n",
       "      <td>Mar</td>\n",
       "      <td>170</td>\n",
       "    </tr>\n",
       "    <tr>\n",
       "      <th>8</th>\n",
       "      <td>C</td>\n",
       "      <td>Mar</td>\n",
       "      <td>190</td>\n",
       "    </tr>\n",
       "  </tbody>\n",
       "</table>\n",
       "</div>"
      ],
      "text/plain": [
       "  Produk Bulan  Penjualan\n",
       "0      A   Jan        100\n",
       "1      B   Jan        150\n",
       "2      C   Jan        200\n",
       "3      A   Feb        120\n",
       "4      B   Feb        180\n",
       "5      C   Feb        210\n",
       "6      A   Mar        130\n",
       "7      B   Mar        170\n",
       "8      C   Mar        190"
      ]
     },
     "execution_count": 49,
     "metadata": {},
     "output_type": "execute_result"
    }
   ],
   "source": [
    "df_melt = pd.melt(df_a, \n",
    "                  id_vars='Produk', \n",
    "                  value_vars=['Jan', 'Feb', 'Mar'],\n",
    "                  var_name='Bulan', value_name='Penjualan')\n",
    "\n",
    "df_melt"
   ]
  },
  {
   "cell_type": "markdown",
   "id": "7f10e190",
   "metadata": {},
   "source": [
    "jika ingin mengembalikan seperti semula bisa mengggunakan pivot.\n",
    "\n",
    "karena pivot mengubah dari long ke wide format :"
   ]
  },
  {
   "cell_type": "code",
   "execution_count": 50,
   "id": "b08048b1",
   "metadata": {},
   "outputs": [
    {
     "data": {
      "text/html": [
       "<div>\n",
       "<style scoped>\n",
       "    .dataframe tbody tr th:only-of-type {\n",
       "        vertical-align: middle;\n",
       "    }\n",
       "\n",
       "    .dataframe tbody tr th {\n",
       "        vertical-align: top;\n",
       "    }\n",
       "\n",
       "    .dataframe thead th {\n",
       "        text-align: right;\n",
       "    }\n",
       "</style>\n",
       "<table border=\"1\" class=\"dataframe\">\n",
       "  <thead>\n",
       "    <tr style=\"text-align: right;\">\n",
       "      <th>Bulan</th>\n",
       "      <th>Produk</th>\n",
       "      <th>Feb</th>\n",
       "      <th>Jan</th>\n",
       "      <th>Mar</th>\n",
       "    </tr>\n",
       "  </thead>\n",
       "  <tbody>\n",
       "    <tr>\n",
       "      <th>0</th>\n",
       "      <td>A</td>\n",
       "      <td>120</td>\n",
       "      <td>100</td>\n",
       "      <td>130</td>\n",
       "    </tr>\n",
       "    <tr>\n",
       "      <th>1</th>\n",
       "      <td>B</td>\n",
       "      <td>180</td>\n",
       "      <td>150</td>\n",
       "      <td>170</td>\n",
       "    </tr>\n",
       "    <tr>\n",
       "      <th>2</th>\n",
       "      <td>C</td>\n",
       "      <td>210</td>\n",
       "      <td>200</td>\n",
       "      <td>190</td>\n",
       "    </tr>\n",
       "  </tbody>\n",
       "</table>\n",
       "</div>"
      ],
      "text/plain": [
       "Bulan Produk  Feb  Jan  Mar\n",
       "0          A  120  100  130\n",
       "1          B  180  150  170\n",
       "2          C  210  200  190"
      ]
     },
     "execution_count": 50,
     "metadata": {},
     "output_type": "execute_result"
    }
   ],
   "source": [
    "df_pivot = df_melt.pivot(index='Produk', columns='Bulan', values='Penjualan').reset_index()\n",
    "\n",
    "df_pivot"
   ]
  },
  {
   "cell_type": "markdown",
   "id": "caf678a6",
   "metadata": {},
   "source": [
    "### stack() dan unstack()\n",
    "\n",
    "stack() dan unstack() ini digunakan untuk mengubah level baris dan kolom (MultiIndex) — biasanya dipakai ketika data kamu punya beberapa level indeks."
   ]
  },
  {
   "cell_type": "markdown",
   "id": "b16d5803",
   "metadata": {},
   "source": [
    "### 1. Membuat produk sebagai index\n",
    "stack() bekerja lebih baik kalau ada satu kolom index, kita set dulu kolom Produk jadi index:"
   ]
  },
  {
   "cell_type": "code",
   "execution_count": 51,
   "id": "e76716e3",
   "metadata": {},
   "outputs": [
    {
     "data": {
      "text/html": [
       "<div>\n",
       "<style scoped>\n",
       "    .dataframe tbody tr th:only-of-type {\n",
       "        vertical-align: middle;\n",
       "    }\n",
       "\n",
       "    .dataframe tbody tr th {\n",
       "        vertical-align: top;\n",
       "    }\n",
       "\n",
       "    .dataframe thead th {\n",
       "        text-align: right;\n",
       "    }\n",
       "</style>\n",
       "<table border=\"1\" class=\"dataframe\">\n",
       "  <thead>\n",
       "    <tr style=\"text-align: right;\">\n",
       "      <th></th>\n",
       "      <th>Jan</th>\n",
       "      <th>Feb</th>\n",
       "      <th>Mar</th>\n",
       "    </tr>\n",
       "    <tr>\n",
       "      <th>Produk</th>\n",
       "      <th></th>\n",
       "      <th></th>\n",
       "      <th></th>\n",
       "    </tr>\n",
       "  </thead>\n",
       "  <tbody>\n",
       "    <tr>\n",
       "      <th>A</th>\n",
       "      <td>100</td>\n",
       "      <td>120</td>\n",
       "      <td>130</td>\n",
       "    </tr>\n",
       "    <tr>\n",
       "      <th>B</th>\n",
       "      <td>150</td>\n",
       "      <td>180</td>\n",
       "      <td>170</td>\n",
       "    </tr>\n",
       "    <tr>\n",
       "      <th>C</th>\n",
       "      <td>200</td>\n",
       "      <td>210</td>\n",
       "      <td>190</td>\n",
       "    </tr>\n",
       "  </tbody>\n",
       "</table>\n",
       "</div>"
      ],
      "text/plain": [
       "        Jan  Feb  Mar\n",
       "Produk               \n",
       "A       100  120  130\n",
       "B       150  180  170\n",
       "C       200  210  190"
      ]
     },
     "execution_count": 51,
     "metadata": {},
     "output_type": "execute_result"
    }
   ],
   "source": [
    "df_b = df_a.set_index('Produk')\n",
    "\n",
    "df_b"
   ]
  },
  {
   "cell_type": "markdown",
   "id": "4ee65307",
   "metadata": {},
   "source": [
    "### 2. Mengggunakan stack() untuk Mengubah kolom menjadi baris"
   ]
  },
  {
   "cell_type": "code",
   "execution_count": 52,
   "id": "cddad868",
   "metadata": {},
   "outputs": [
    {
     "name": "stdout",
     "output_type": "stream",
     "text": [
      "Produk     \n",
      "A       Jan    100\n",
      "        Feb    120\n",
      "        Mar    130\n",
      "B       Jan    150\n",
      "        Feb    180\n",
      "        Mar    170\n",
      "C       Jan    200\n",
      "        Feb    210\n",
      "        Mar    190\n",
      "dtype: int64\n"
     ]
    }
   ],
   "source": [
    "# Series dengan Multiindex\n",
    "df_stacked = df_b.stack()\n",
    "\n",
    "print(df_stacked)"
   ]
  },
  {
   "cell_type": "markdown",
   "id": "2300b741",
   "metadata": {},
   "source": [
    "### Penjelasan :\n",
    "- Kolom Jan, Feb, dan Mar sekarang menjadi baris baru.\n",
    "\n",
    "- Produk jadi level 1 index, sedangkan nama bulan (Jan, Feb, dll) jadi level 2 index.\n",
    "\n",
    "agak mirip ya sama melt()"
   ]
  },
  {
   "cell_type": "markdown",
   "id": "016d0d4e",
   "metadata": {},
   "source": [
    "Kalau mau jadi tabel :"
   ]
  },
  {
   "cell_type": "code",
   "execution_count": 53,
   "id": "552beece",
   "metadata": {},
   "outputs": [
    {
     "data": {
      "text/html": [
       "<div>\n",
       "<style scoped>\n",
       "    .dataframe tbody tr th:only-of-type {\n",
       "        vertical-align: middle;\n",
       "    }\n",
       "\n",
       "    .dataframe tbody tr th {\n",
       "        vertical-align: top;\n",
       "    }\n",
       "\n",
       "    .dataframe thead th {\n",
       "        text-align: right;\n",
       "    }\n",
       "</style>\n",
       "<table border=\"1\" class=\"dataframe\">\n",
       "  <thead>\n",
       "    <tr style=\"text-align: right;\">\n",
       "      <th></th>\n",
       "      <th>Produk</th>\n",
       "      <th>Bulan</th>\n",
       "      <th>Penjualan</th>\n",
       "    </tr>\n",
       "  </thead>\n",
       "  <tbody>\n",
       "    <tr>\n",
       "      <th>0</th>\n",
       "      <td>A</td>\n",
       "      <td>Jan</td>\n",
       "      <td>100</td>\n",
       "    </tr>\n",
       "    <tr>\n",
       "      <th>1</th>\n",
       "      <td>A</td>\n",
       "      <td>Feb</td>\n",
       "      <td>120</td>\n",
       "    </tr>\n",
       "    <tr>\n",
       "      <th>2</th>\n",
       "      <td>A</td>\n",
       "      <td>Mar</td>\n",
       "      <td>130</td>\n",
       "    </tr>\n",
       "    <tr>\n",
       "      <th>3</th>\n",
       "      <td>B</td>\n",
       "      <td>Jan</td>\n",
       "      <td>150</td>\n",
       "    </tr>\n",
       "    <tr>\n",
       "      <th>4</th>\n",
       "      <td>B</td>\n",
       "      <td>Feb</td>\n",
       "      <td>180</td>\n",
       "    </tr>\n",
       "    <tr>\n",
       "      <th>5</th>\n",
       "      <td>B</td>\n",
       "      <td>Mar</td>\n",
       "      <td>170</td>\n",
       "    </tr>\n",
       "    <tr>\n",
       "      <th>6</th>\n",
       "      <td>C</td>\n",
       "      <td>Jan</td>\n",
       "      <td>200</td>\n",
       "    </tr>\n",
       "    <tr>\n",
       "      <th>7</th>\n",
       "      <td>C</td>\n",
       "      <td>Feb</td>\n",
       "      <td>210</td>\n",
       "    </tr>\n",
       "    <tr>\n",
       "      <th>8</th>\n",
       "      <td>C</td>\n",
       "      <td>Mar</td>\n",
       "      <td>190</td>\n",
       "    </tr>\n",
       "  </tbody>\n",
       "</table>\n",
       "</div>"
      ],
      "text/plain": [
       "  Produk Bulan  Penjualan\n",
       "0      A   Jan        100\n",
       "1      A   Feb        120\n",
       "2      A   Mar        130\n",
       "3      B   Jan        150\n",
       "4      B   Feb        180\n",
       "5      B   Mar        170\n",
       "6      C   Jan        200\n",
       "7      C   Feb        210\n",
       "8      C   Mar        190"
      ]
     },
     "execution_count": 53,
     "metadata": {},
     "output_type": "execute_result"
    }
   ],
   "source": [
    "df_stacked = df_b.stack().reset_index()\n",
    "df_stacked.columns = ['Produk', 'Bulan', 'Penjualan']\n",
    "\n",
    "df_stacked"
   ]
  },
  {
   "cell_type": "markdown",
   "id": "3cccb88e",
   "metadata": {},
   "source": [
    "### 3. unstack() untuk Mengembalikan ke format semula"
   ]
  },
  {
   "cell_type": "code",
   "execution_count": 54,
   "id": "872a9a89",
   "metadata": {},
   "outputs": [
    {
     "name": "stdout",
     "output_type": "stream",
     "text": [
      "Produk     0      A\n",
      "           1      A\n",
      "           2      A\n",
      "           3      B\n",
      "           4      B\n",
      "           5      B\n",
      "           6      C\n",
      "           7      C\n",
      "           8      C\n",
      "Bulan      0    Jan\n",
      "           1    Feb\n",
      "           2    Mar\n",
      "           3    Jan\n",
      "           4    Feb\n",
      "           5    Mar\n",
      "           6    Jan\n",
      "           7    Feb\n",
      "           8    Mar\n",
      "Penjualan  0    100\n",
      "           1    120\n",
      "           2    130\n",
      "           3    150\n",
      "           4    180\n",
      "           5    170\n",
      "           6    200\n",
      "           7    210\n",
      "           8    190\n",
      "dtype: object\n"
     ]
    }
   ],
   "source": [
    "df_unstacked = df_stacked.unstack()\n",
    "\n",
    "print(df_unstacked)"
   ]
  },
  {
   "cell_type": "markdown",
   "id": "666fd893",
   "metadata": {},
   "source": [
    "jadi kembali seperti semula deh"
   ]
  },
  {
   "cell_type": "markdown",
   "id": "65fb63bc",
   "metadata": {},
   "source": [
    "### Perbedaan dengan melt :\n",
    "- melt() hasil akhirnya adalah DataFrame dengan kolom 'Produk', 'Bulan', dan 'Penjualan'.\n",
    "\n",
    "- stack() hasil akhirnya adalah Series dengan MultiIndex.\n",
    "\n",
    "- Gunakan stack() jika kamu nyaman dengan index yang kompleks atau ingin manipulasi lanjutan seperti groupby() MultiIndex."
   ]
  },
  {
   "cell_type": "markdown",
   "id": "1fc41c4e",
   "metadata": {},
   "source": [
    "----------------"
   ]
  },
  {
   "cell_type": "markdown",
   "id": "f134846a",
   "metadata": {},
   "source": [
    "## 5. Data time series vs Data Cross-sectional\n",
    "\n",
    "### 1. Time series\n",
    "Adalah data yang dikumpulkan berdasarkan urutan waktu tertentu, biasanya teratur seperti harian, mingguan, bulanan.\n",
    "\n",
    "Contoh: Harga saham harian, jumlah penjualan bulanan, suhu setiap jam."
   ]
  },
  {
   "cell_type": "code",
   "execution_count": 55,
   "id": "7759ed5c",
   "metadata": {},
   "outputs": [
    {
     "data": {
      "text/html": [
       "<div>\n",
       "<style scoped>\n",
       "    .dataframe tbody tr th:only-of-type {\n",
       "        vertical-align: middle;\n",
       "    }\n",
       "\n",
       "    .dataframe tbody tr th {\n",
       "        vertical-align: top;\n",
       "    }\n",
       "\n",
       "    .dataframe thead th {\n",
       "        text-align: right;\n",
       "    }\n",
       "</style>\n",
       "<table border=\"1\" class=\"dataframe\">\n",
       "  <thead>\n",
       "    <tr style=\"text-align: right;\">\n",
       "      <th></th>\n",
       "      <th>Tanggal</th>\n",
       "      <th>Penjualan</th>\n",
       "    </tr>\n",
       "  </thead>\n",
       "  <tbody>\n",
       "    <tr>\n",
       "      <th>0</th>\n",
       "      <td>2025-01-01</td>\n",
       "      <td>100</td>\n",
       "    </tr>\n",
       "    <tr>\n",
       "      <th>1</th>\n",
       "      <td>2025-01-02</td>\n",
       "      <td>120</td>\n",
       "    </tr>\n",
       "    <tr>\n",
       "      <th>2</th>\n",
       "      <td>2025-01-03</td>\n",
       "      <td>130</td>\n",
       "    </tr>\n",
       "    <tr>\n",
       "      <th>3</th>\n",
       "      <td>2025-01-04</td>\n",
       "      <td>110</td>\n",
       "    </tr>\n",
       "    <tr>\n",
       "      <th>4</th>\n",
       "      <td>2025-01-05</td>\n",
       "      <td>150</td>\n",
       "    </tr>\n",
       "  </tbody>\n",
       "</table>\n",
       "</div>"
      ],
      "text/plain": [
       "     Tanggal  Penjualan\n",
       "0 2025-01-01        100\n",
       "1 2025-01-02        120\n",
       "2 2025-01-03        130\n",
       "3 2025-01-04        110\n",
       "4 2025-01-05        150"
      ]
     },
     "execution_count": 55,
     "metadata": {},
     "output_type": "execute_result"
    }
   ],
   "source": [
    "import pandas as pd\n",
    "\n",
    "data_ts = pd.DataFrame({\n",
    "    'Tanggal': pd.date_range(start='2025-01-01', periods=5, freq='D'),\n",
    "    'Penjualan': [100, 120, 130, 110, 150]\n",
    "})\n",
    "\n",
    "data_ts"
   ]
  },
  {
   "cell_type": "markdown",
   "id": "2dbf7bd5",
   "metadata": {},
   "source": [
    "```python\n",
    "'Tanggal': pd.date_range(start='2025-01-01', periods=5, freq='D')\n",
    "```\n",
    "adalah cara membuat kolom berisi tanggal berurutan menggunakan fungsi pd.date_range() dari pustaka pandas.\n",
    "\n",
    "| Parameter            | Artinya                                             |\n",
    "| -------------------- | --------------------------------------------------- |\n",
    "| `start='2025-01-01'` | Tanggal mulai (1 Januari 2025)                      |\n",
    "| `periods=5`          | Jumlah tanggal yang ingin dibuat (sebanyak 5 baris) |\n",
    "| `freq='D'`           | Frekuensi waktunya adalah harian (`D` = daily)      |\n"
   ]
  },
  {
   "cell_type": "markdown",
   "id": "7f2c5093",
   "metadata": {},
   "source": [
    "Kalau kamu mau ganti jadi mingguan, tinggal ganti freq='W'. Atau bulanan → freq='M'."
   ]
  },
  {
   "cell_type": "markdown",
   "id": "ce72c76d",
   "metadata": {},
   "source": [
    "### Cross-sectional\n",
    "data dari banyak entitas pada satu titik waktu tertentu (bukan time-based).\n",
    "\n",
    "Contoh: Pendapatan 10 perusahaan pada tahun 2025."
   ]
  },
  {
   "cell_type": "code",
   "execution_count": 56,
   "id": "fef05432",
   "metadata": {},
   "outputs": [
    {
     "data": {
      "text/html": [
       "<div>\n",
       "<style scoped>\n",
       "    .dataframe tbody tr th:only-of-type {\n",
       "        vertical-align: middle;\n",
       "    }\n",
       "\n",
       "    .dataframe tbody tr th {\n",
       "        vertical-align: top;\n",
       "    }\n",
       "\n",
       "    .dataframe thead th {\n",
       "        text-align: right;\n",
       "    }\n",
       "</style>\n",
       "<table border=\"1\" class=\"dataframe\">\n",
       "  <thead>\n",
       "    <tr style=\"text-align: right;\">\n",
       "      <th></th>\n",
       "      <th>Perusahaan</th>\n",
       "      <th>Pendapatan 2025</th>\n",
       "    </tr>\n",
       "  </thead>\n",
       "  <tbody>\n",
       "    <tr>\n",
       "      <th>0</th>\n",
       "      <td>A</td>\n",
       "      <td>50000</td>\n",
       "    </tr>\n",
       "    <tr>\n",
       "      <th>1</th>\n",
       "      <td>B</td>\n",
       "      <td>70000</td>\n",
       "    </tr>\n",
       "    <tr>\n",
       "      <th>2</th>\n",
       "      <td>C</td>\n",
       "      <td>60000</td>\n",
       "    </tr>\n",
       "  </tbody>\n",
       "</table>\n",
       "</div>"
      ],
      "text/plain": [
       "  Perusahaan  Pendapatan 2025\n",
       "0          A            50000\n",
       "1          B            70000\n",
       "2          C            60000"
      ]
     },
     "execution_count": 56,
     "metadata": {},
     "output_type": "execute_result"
    }
   ],
   "source": [
    "data_cs = pd.DataFrame({\n",
    "    'Perusahaan': ['A', 'B', 'C'],\n",
    "    'Pendapatan 2025': [50000, 70000, 60000]\n",
    "})\n",
    "\n",
    "data_cs"
   ]
  },
  {
   "cell_type": "markdown",
   "id": "1358ce3d",
   "metadata": {},
   "source": [
    "### 2. Modul datetime dan Implementasinya (year, month, day)\n",
    "Python memiliki modul datetime untuk mengelola tanggal dan waktu."
   ]
  },
  {
   "cell_type": "code",
   "execution_count": 57,
   "id": "9b2c8d61",
   "metadata": {},
   "outputs": [
    {
     "name": "stdout",
     "output_type": "stream",
     "text": [
      "Tanggal dan Waktu Saat Ini: 2025-08-26 08:55:01.698334\n",
      "Tahun: 2025\n",
      "Bulan: 8\n",
      "Hari: 26\n"
     ]
    }
   ],
   "source": [
    "from datetime import datetime\n",
    "\n",
    "# Ambil waktu sekarang\n",
    "sekarang = datetime.now()\n",
    "\n",
    "print(\"Tanggal dan Waktu Saat Ini:\", sekarang)\n",
    "print(\"Tahun:\", sekarang.year)\n",
    "print(\"Bulan:\", sekarang.month)\n",
    "print(\"Hari:\", sekarang.day)"
   ]
  },
  {
   "cell_type": "markdown",
   "id": "19a6d373",
   "metadata": {},
   "source": [
    "### Fungsi Tanggal & Waktu di Python (datetime)\n",
    "- today()\n",
    "\n",
    "- weekday()\n",
    "\n",
    "- isoweekday()\n",
    "\n",
    "- isoformat()"
   ]
  },
  {
   "cell_type": "markdown",
   "id": "b8e466a7",
   "metadata": {},
   "source": [
    "### datetime.today()\n",
    " Fungsi ini akan memberikan tanggal dan waktu sekarang (saat ini)."
   ]
  },
  {
   "cell_type": "code",
   "execution_count": 58,
   "id": "7e9299ab",
   "metadata": {},
   "outputs": [
    {
     "name": "stdout",
     "output_type": "stream",
     "text": [
      "2025-08-26 08:55:52.066048\n"
     ]
    }
   ],
   "source": [
    "from datetime import datetime\n",
    "\n",
    "print(datetime.today())"
   ]
  },
  {
   "cell_type": "markdown",
   "id": "a0d7db56",
   "metadata": {},
   "source": [
    "### weekday()\n",
    "Mengembalikan angka hari dalam seminggu (0 = Senin, 6 = Minggu)."
   ]
  },
  {
   "cell_type": "code",
   "execution_count": 60,
   "id": "30850e57",
   "metadata": {},
   "outputs": [
    {
     "name": "stdout",
     "output_type": "stream",
     "text": [
      "1\n"
     ]
    }
   ],
   "source": [
    "hari_ini = datetime.today()\n",
    "print(hari_ini.weekday())\n",
    "# hasilnya 2 berarti rabu"
   ]
  },
  {
   "cell_type": "markdown",
   "id": "cde8bf6e",
   "metadata": {},
   "source": [
    "### isoweekday()\n",
    "Mirip weekday(), tapi dimulai dari 1 = Senin, 7 = Minggu (ISO standard)."
   ]
  },
  {
   "cell_type": "code",
   "execution_count": 61,
   "id": "44e2d285",
   "metadata": {},
   "outputs": [
    {
     "name": "stdout",
     "output_type": "stream",
     "text": [
      "2\n"
     ]
    }
   ],
   "source": [
    "print(hari_ini.isoweekday())"
   ]
  },
  {
   "cell_type": "markdown",
   "id": "4186854b",
   "metadata": {},
   "source": [
    "### isoformat()\n",
    "Mengubah objek datetime ke format ISO 8601 string → YYYY-MM-DDTHH:MM:SS"
   ]
  },
  {
   "cell_type": "code",
   "execution_count": 62,
   "id": "24c4aa66",
   "metadata": {},
   "outputs": [
    {
     "name": "stdout",
     "output_type": "stream",
     "text": [
      "2025-08-26T08:56:29.486650\n"
     ]
    }
   ],
   "source": [
    "print(hari_ini.isoformat())"
   ]
  },
  {
   "cell_type": "markdown",
   "id": "93ec3b80",
   "metadata": {},
   "source": [
    "```lua\n",
    "2025-07-22T14:30:00\n",
    "          ↑\n",
    "          Ini adalah huruf T (bukan bagian dari jam)\n",
    "```\n",
    "| Bagian       | Keterangan              | Contoh                  |\n",
    "| ------------ | ----------------------- | ----------------------- |\n",
    "| `2025-07-22` | **Tanggal**             | 22 Juli 2025            |\n",
    "| `T`          | **Pemisah (delimiter)** | Bukan bagian dari waktu |\n",
    "| `14:30:00`   | **Waktu** (HH\\:MM\\:SS)  | Jam 14:30:00            |\n",
    "\n",
    "Jadi T itu singkatan dari \"Time\", sebagai penanda bahwa setelahnya adalah bagian waktu."
   ]
  },
  {
   "cell_type": "markdown",
   "id": "fee47134",
   "metadata": {},
   "source": [
    "| Fungsi         | Kegunaan                                    | Contoh Output                |\n",
    "| -------------- | ------------------------------------------- | ---------------------------- |\n",
    "| `today()`      | Tanggal dan waktu saat ini                  | `2025-07-22 03:12:45.123456` |\n",
    "| `weekday()`    | Index hari dari 0 (Senin) sampai 6 (Minggu) | `1`                          |\n",
    "| `isoweekday()` | Index hari dari 1 (Senin) sampai 7 (Minggu) | `2`                          |\n",
    "| `isoformat()`  | Format string ISO 8601                      | `2025-07-22T03:12:45.123456` |\n"
   ]
  },
  {
   "cell_type": "markdown",
   "id": "c0a2f98c",
   "metadata": {},
   "source": [
    "### Objek time\n",
    "Gunakan datetime.time() untuk membuat objek waktu tanpa tanggal."
   ]
  },
  {
   "cell_type": "code",
   "execution_count": 63,
   "id": "19ed997e",
   "metadata": {},
   "outputs": [
    {
     "name": "stdout",
     "output_type": "stream",
     "text": [
      "14:30:00\n",
      "14\n",
      "30\n",
      "0\n"
     ]
    }
   ],
   "source": [
    "from datetime import time\n",
    "\n",
    "jam = time(14, 30, 0)\n",
    "print(jam)               # 14:30:00\n",
    "print(jam.hour)          # 14\n",
    "print(jam.minute)        # 30\n",
    "print(jam.second)        # 0"
   ]
  },
  {
   "cell_type": "markdown",
   "id": "5ebfd894",
   "metadata": {},
   "source": [
    "### Objek datetime dan now()\n",
    "Gabungan tanggal dan waktu."
   ]
  },
  {
   "cell_type": "code",
   "execution_count": 64,
   "id": "85799f3e",
   "metadata": {},
   "outputs": [
    {
     "name": "stdout",
     "output_type": "stream",
     "text": [
      "2025-08-26 08:58:49.685719\n",
      "2025\n",
      "8\n"
     ]
    }
   ],
   "source": [
    "from datetime import datetime\n",
    "\n",
    "sekarang = datetime.now()\n",
    "print(sekarang)           # contoh: 2025-07-22 14:42:00\n",
    "print(sekarang.year)      # 2025\n",
    "print(sekarang.hour)      # 14"
   ]
  },
  {
   "cell_type": "markdown",
   "id": "00de7a40",
   "metadata": {},
   "source": [
    "### Pandas Timestamp\n",
    "Pandas punya tipe waktu sendiri yang powerful: Timestamp. Bisa dibuat dari:\n",
    "\n",
    "### String"
   ]
  },
  {
   "cell_type": "code",
   "execution_count": 65,
   "id": "2a0bba8e",
   "metadata": {},
   "outputs": [
    {
     "data": {
      "text/plain": [
       "Timestamp('2025-01-01 12:30:00')"
      ]
     },
     "execution_count": 65,
     "metadata": {},
     "output_type": "execute_result"
    }
   ],
   "source": [
    "pd.Timestamp('2025-01-01 12:30:00')"
   ]
  },
  {
   "cell_type": "markdown",
   "id": "e7da4702",
   "metadata": {},
   "source": [
    "### Komponen Tanggal"
   ]
  },
  {
   "cell_type": "code",
   "execution_count": 66,
   "id": "fc5b2874",
   "metadata": {},
   "outputs": [
    {
     "data": {
      "text/plain": [
       "Timestamp('2025-01-01 12:00:00')"
      ]
     },
     "execution_count": 66,
     "metadata": {},
     "output_type": "execute_result"
    }
   ],
   "source": [
    "pd.Timestamp(year=2025, month=1, day=1, hour=12)"
   ]
  },
  {
   "cell_type": "markdown",
   "id": "7d3956a4",
   "metadata": {},
   "source": [
    "### Dari objek datetime"
   ]
  },
  {
   "cell_type": "code",
   "execution_count": 67,
   "id": "8f72b36b",
   "metadata": {},
   "outputs": [
    {
     "data": {
      "text/plain": [
       "Timestamp('2025-01-01 00:00:00')"
      ]
     },
     "execution_count": 67,
     "metadata": {},
     "output_type": "execute_result"
    }
   ],
   "source": [
    "dt = datetime(2025, 1, 1)\n",
    "pd.Timestamp(dt)"
   ]
  },
  {
   "cell_type": "markdown",
   "id": "e2d0ed42",
   "metadata": {},
   "source": [
    "### Dari integer/float timestamp"
   ]
  },
  {
   "cell_type": "code",
   "execution_count": 68,
   "id": "ce6555db",
   "metadata": {},
   "outputs": [
    {
     "data": {
      "text/plain": [
       "Timestamp('2023-01-01 05:00:00')"
      ]
     },
     "execution_count": 68,
     "metadata": {},
     "output_type": "execute_result"
    }
   ],
   "source": [
    "pd.Timestamp(1672549200, unit='s')  # Unix timestamp"
   ]
  },
  {
   "cell_type": "markdown",
   "id": "1ca11a9f",
   "metadata": {},
   "source": [
    "### Fungsi pd.to_datetime()\n",
    "Berfungsi untuk mengonversi:\n",
    "\n",
    "- String\n",
    "\n",
    "- List tanggal\n",
    "\n",
    "- Kolom dalam DataFrame\n",
    "ke dalam bentuk datetime."
   ]
  },
  {
   "cell_type": "code",
   "execution_count": 69,
   "id": "1f096548",
   "metadata": {},
   "outputs": [
    {
     "data": {
      "text/plain": [
       "DatetimeIndex(['2025-01-01', '2025-01-02', '2025-01-03'], dtype='datetime64[ns]', freq=None)"
      ]
     },
     "execution_count": 69,
     "metadata": {},
     "output_type": "execute_result"
    }
   ],
   "source": [
    "tanggal = ['2025-01-01', '2025-01-02', '2025-01-03']\n",
    "pd.to_datetime(tanggal)"
   ]
  },
  {
   "cell_type": "markdown",
   "id": "8d4c1eb1",
   "metadata": {},
   "source": [
    "### Parsing String ke DatetimeIndex"
   ]
  },
  {
   "cell_type": "code",
   "execution_count": 70,
   "id": "cdc24ae8",
   "metadata": {},
   "outputs": [
    {
     "data": {
      "text/html": [
       "<div>\n",
       "<style scoped>\n",
       "    .dataframe tbody tr th:only-of-type {\n",
       "        vertical-align: middle;\n",
       "    }\n",
       "\n",
       "    .dataframe tbody tr th {\n",
       "        vertical-align: top;\n",
       "    }\n",
       "\n",
       "    .dataframe thead th {\n",
       "        text-align: right;\n",
       "    }\n",
       "</style>\n",
       "<table border=\"1\" class=\"dataframe\">\n",
       "  <thead>\n",
       "    <tr style=\"text-align: right;\">\n",
       "      <th></th>\n",
       "      <th>Penjualan</th>\n",
       "    </tr>\n",
       "    <tr>\n",
       "      <th>Tanggal</th>\n",
       "      <th></th>\n",
       "    </tr>\n",
       "  </thead>\n",
       "  <tbody>\n",
       "    <tr>\n",
       "      <th>2025-01-01</th>\n",
       "      <td>100</td>\n",
       "    </tr>\n",
       "    <tr>\n",
       "      <th>2025-01-02</th>\n",
       "      <td>200</td>\n",
       "    </tr>\n",
       "    <tr>\n",
       "      <th>2025-01-03</th>\n",
       "      <td>150</td>\n",
       "    </tr>\n",
       "  </tbody>\n",
       "</table>\n",
       "</div>"
      ],
      "text/plain": [
       "            Penjualan\n",
       "Tanggal              \n",
       "2025-01-01        100\n",
       "2025-01-02        200\n",
       "2025-01-03        150"
      ]
     },
     "execution_count": 70,
     "metadata": {},
     "output_type": "execute_result"
    }
   ],
   "source": [
    "data = {\n",
    "    'Tanggal': ['2025-01-01', '2025-01-02', '2025-01-03'],\n",
    "    'Penjualan': [100, 200, 150]\n",
    "}\n",
    "df = pd.DataFrame(data)\n",
    "\n",
    "# Ubah kolom Tanggal jadi datetime\n",
    "df['Tanggal'] = pd.to_datetime(df['Tanggal'])\n",
    "\n",
    "# Jadikan sebagai index\n",
    "df = df.set_index('Tanggal')\n",
    "\n",
    "df"
   ]
  },
  {
   "cell_type": "markdown",
   "id": "514debf8",
   "metadata": {},
   "source": [
    "-----------"
   ]
  },
  {
   "cell_type": "markdown",
   "id": "681b901a",
   "metadata": {},
   "source": [
    "## Implementasi pada Dataset Superstore"
   ]
  },
  {
   "cell_type": "code",
   "execution_count": 73,
   "id": "0e18a66f",
   "metadata": {},
   "outputs": [
    {
     "data": {
      "text/html": [
       "<div>\n",
       "<style scoped>\n",
       "    .dataframe tbody tr th:only-of-type {\n",
       "        vertical-align: middle;\n",
       "    }\n",
       "\n",
       "    .dataframe tbody tr th {\n",
       "        vertical-align: top;\n",
       "    }\n",
       "\n",
       "    .dataframe thead th {\n",
       "        text-align: right;\n",
       "    }\n",
       "</style>\n",
       "<table border=\"1\" class=\"dataframe\">\n",
       "  <thead>\n",
       "    <tr style=\"text-align: right;\">\n",
       "      <th></th>\n",
       "      <th>Row ID</th>\n",
       "      <th>Order ID</th>\n",
       "      <th>Order Date</th>\n",
       "      <th>Ship Date</th>\n",
       "      <th>Ship Mode</th>\n",
       "      <th>Customer ID</th>\n",
       "      <th>Customer Name</th>\n",
       "      <th>Segment</th>\n",
       "      <th>Country</th>\n",
       "      <th>City</th>\n",
       "      <th>...</th>\n",
       "      <th>Postal Code</th>\n",
       "      <th>Region</th>\n",
       "      <th>Product ID</th>\n",
       "      <th>Category</th>\n",
       "      <th>Sub-Category</th>\n",
       "      <th>Product Name</th>\n",
       "      <th>Sales</th>\n",
       "      <th>Quantity</th>\n",
       "      <th>Discount</th>\n",
       "      <th>Profit</th>\n",
       "    </tr>\n",
       "  </thead>\n",
       "  <tbody>\n",
       "    <tr>\n",
       "      <th>0</th>\n",
       "      <td>1</td>\n",
       "      <td>CA-2016-152156</td>\n",
       "      <td>11/8/2016</td>\n",
       "      <td>11/11/2016</td>\n",
       "      <td>Second Class</td>\n",
       "      <td>CG-12520</td>\n",
       "      <td>Claire Gute</td>\n",
       "      <td>Consumer</td>\n",
       "      <td>United States</td>\n",
       "      <td>Henderson</td>\n",
       "      <td>...</td>\n",
       "      <td>42420</td>\n",
       "      <td>South</td>\n",
       "      <td>FUR-BO-10001798</td>\n",
       "      <td>Furniture</td>\n",
       "      <td>Bookcases</td>\n",
       "      <td>Bush Somerset Collection Bookcase</td>\n",
       "      <td>261.9600</td>\n",
       "      <td>2</td>\n",
       "      <td>0.00</td>\n",
       "      <td>41.9136</td>\n",
       "    </tr>\n",
       "    <tr>\n",
       "      <th>1</th>\n",
       "      <td>2</td>\n",
       "      <td>CA-2016-152156</td>\n",
       "      <td>11/8/2016</td>\n",
       "      <td>11/11/2016</td>\n",
       "      <td>Second Class</td>\n",
       "      <td>CG-12520</td>\n",
       "      <td>Claire Gute</td>\n",
       "      <td>Consumer</td>\n",
       "      <td>United States</td>\n",
       "      <td>Henderson</td>\n",
       "      <td>...</td>\n",
       "      <td>42420</td>\n",
       "      <td>South</td>\n",
       "      <td>FUR-CH-10000454</td>\n",
       "      <td>Furniture</td>\n",
       "      <td>Chairs</td>\n",
       "      <td>Hon Deluxe Fabric Upholstered Stacking Chairs,...</td>\n",
       "      <td>731.9400</td>\n",
       "      <td>3</td>\n",
       "      <td>0.00</td>\n",
       "      <td>219.5820</td>\n",
       "    </tr>\n",
       "    <tr>\n",
       "      <th>2</th>\n",
       "      <td>3</td>\n",
       "      <td>CA-2016-138688</td>\n",
       "      <td>6/12/2016</td>\n",
       "      <td>6/16/2016</td>\n",
       "      <td>Second Class</td>\n",
       "      <td>DV-13045</td>\n",
       "      <td>Darrin Van Huff</td>\n",
       "      <td>Corporate</td>\n",
       "      <td>United States</td>\n",
       "      <td>Los Angeles</td>\n",
       "      <td>...</td>\n",
       "      <td>90036</td>\n",
       "      <td>West</td>\n",
       "      <td>OFF-LA-10000240</td>\n",
       "      <td>Office Supplies</td>\n",
       "      <td>Labels</td>\n",
       "      <td>Self-Adhesive Address Labels for Typewriters b...</td>\n",
       "      <td>14.6200</td>\n",
       "      <td>2</td>\n",
       "      <td>0.00</td>\n",
       "      <td>6.8714</td>\n",
       "    </tr>\n",
       "    <tr>\n",
       "      <th>3</th>\n",
       "      <td>4</td>\n",
       "      <td>US-2015-108966</td>\n",
       "      <td>10/11/2015</td>\n",
       "      <td>10/18/2015</td>\n",
       "      <td>Standard Class</td>\n",
       "      <td>SO-20335</td>\n",
       "      <td>Sean O'Donnell</td>\n",
       "      <td>Consumer</td>\n",
       "      <td>United States</td>\n",
       "      <td>Fort Lauderdale</td>\n",
       "      <td>...</td>\n",
       "      <td>33311</td>\n",
       "      <td>South</td>\n",
       "      <td>FUR-TA-10000577</td>\n",
       "      <td>Furniture</td>\n",
       "      <td>Tables</td>\n",
       "      <td>Bretford CR4500 Series Slim Rectangular Table</td>\n",
       "      <td>957.5775</td>\n",
       "      <td>5</td>\n",
       "      <td>0.45</td>\n",
       "      <td>-383.0310</td>\n",
       "    </tr>\n",
       "    <tr>\n",
       "      <th>4</th>\n",
       "      <td>5</td>\n",
       "      <td>US-2015-108966</td>\n",
       "      <td>10/11/2015</td>\n",
       "      <td>10/18/2015</td>\n",
       "      <td>Standard Class</td>\n",
       "      <td>SO-20335</td>\n",
       "      <td>Sean O'Donnell</td>\n",
       "      <td>Consumer</td>\n",
       "      <td>United States</td>\n",
       "      <td>Fort Lauderdale</td>\n",
       "      <td>...</td>\n",
       "      <td>33311</td>\n",
       "      <td>South</td>\n",
       "      <td>OFF-ST-10000760</td>\n",
       "      <td>Office Supplies</td>\n",
       "      <td>Storage</td>\n",
       "      <td>Eldon Fold 'N Roll Cart System</td>\n",
       "      <td>22.3680</td>\n",
       "      <td>2</td>\n",
       "      <td>0.20</td>\n",
       "      <td>2.5164</td>\n",
       "    </tr>\n",
       "  </tbody>\n",
       "</table>\n",
       "<p>5 rows × 21 columns</p>\n",
       "</div>"
      ],
      "text/plain": [
       "   Row ID        Order ID  Order Date   Ship Date       Ship Mode Customer ID  \\\n",
       "0       1  CA-2016-152156   11/8/2016  11/11/2016    Second Class    CG-12520   \n",
       "1       2  CA-2016-152156   11/8/2016  11/11/2016    Second Class    CG-12520   \n",
       "2       3  CA-2016-138688   6/12/2016   6/16/2016    Second Class    DV-13045   \n",
       "3       4  US-2015-108966  10/11/2015  10/18/2015  Standard Class    SO-20335   \n",
       "4       5  US-2015-108966  10/11/2015  10/18/2015  Standard Class    SO-20335   \n",
       "\n",
       "     Customer Name    Segment        Country             City  ...  \\\n",
       "0      Claire Gute   Consumer  United States        Henderson  ...   \n",
       "1      Claire Gute   Consumer  United States        Henderson  ...   \n",
       "2  Darrin Van Huff  Corporate  United States      Los Angeles  ...   \n",
       "3   Sean O'Donnell   Consumer  United States  Fort Lauderdale  ...   \n",
       "4   Sean O'Donnell   Consumer  United States  Fort Lauderdale  ...   \n",
       "\n",
       "  Postal Code  Region       Product ID         Category Sub-Category  \\\n",
       "0       42420   South  FUR-BO-10001798        Furniture    Bookcases   \n",
       "1       42420   South  FUR-CH-10000454        Furniture       Chairs   \n",
       "2       90036    West  OFF-LA-10000240  Office Supplies       Labels   \n",
       "3       33311   South  FUR-TA-10000577        Furniture       Tables   \n",
       "4       33311   South  OFF-ST-10000760  Office Supplies      Storage   \n",
       "\n",
       "                                        Product Name     Sales  Quantity  \\\n",
       "0                  Bush Somerset Collection Bookcase  261.9600         2   \n",
       "1  Hon Deluxe Fabric Upholstered Stacking Chairs,...  731.9400         3   \n",
       "2  Self-Adhesive Address Labels for Typewriters b...   14.6200         2   \n",
       "3      Bretford CR4500 Series Slim Rectangular Table  957.5775         5   \n",
       "4                     Eldon Fold 'N Roll Cart System   22.3680         2   \n",
       "\n",
       "   Discount    Profit  \n",
       "0      0.00   41.9136  \n",
       "1      0.00  219.5820  \n",
       "2      0.00    6.8714  \n",
       "3      0.45 -383.0310  \n",
       "4      0.20    2.5164  \n",
       "\n",
       "[5 rows x 21 columns]"
      ]
     },
     "execution_count": 73,
     "metadata": {},
     "output_type": "execute_result"
    }
   ],
   "source": [
    "import pandas as pd\n",
    "\n",
    "# Import file CSV\n",
    "df = pd.read_csv(\"Superstore.csv\", encoding=\"ISO-8859-1\")\n",
    "\n",
    "# Lihat 5 baris pertama\n",
    "df.head()"
   ]
  },
  {
   "cell_type": "markdown",
   "id": "51451a7c",
   "metadata": {},
   "source": [
    "## 1. GroupBy dan Agregasi\n",
    "Contoh penggunaan fungsi: groupby(), agg(), mean(), sum(), count()"
   ]
  },
  {
   "cell_type": "code",
   "execution_count": 74,
   "id": "63a2271b",
   "metadata": {},
   "outputs": [
    {
     "data": {
      "text/html": [
       "<div>\n",
       "<style scoped>\n",
       "    .dataframe tbody tr th:only-of-type {\n",
       "        vertical-align: middle;\n",
       "    }\n",
       "\n",
       "    .dataframe tbody tr th {\n",
       "        vertical-align: top;\n",
       "    }\n",
       "\n",
       "    .dataframe thead th {\n",
       "        text-align: right;\n",
       "    }\n",
       "</style>\n",
       "<table border=\"1\" class=\"dataframe\">\n",
       "  <thead>\n",
       "    <tr style=\"text-align: right;\">\n",
       "      <th></th>\n",
       "      <th>Region</th>\n",
       "      <th>Total Sales</th>\n",
       "    </tr>\n",
       "  </thead>\n",
       "  <tbody>\n",
       "    <tr>\n",
       "      <th>0</th>\n",
       "      <td>Central</td>\n",
       "      <td>501239.8908</td>\n",
       "    </tr>\n",
       "    <tr>\n",
       "      <th>1</th>\n",
       "      <td>East</td>\n",
       "      <td>678781.2400</td>\n",
       "    </tr>\n",
       "    <tr>\n",
       "      <th>2</th>\n",
       "      <td>South</td>\n",
       "      <td>391721.9050</td>\n",
       "    </tr>\n",
       "    <tr>\n",
       "      <th>3</th>\n",
       "      <td>West</td>\n",
       "      <td>725457.8245</td>\n",
       "    </tr>\n",
       "  </tbody>\n",
       "</table>\n",
       "</div>"
      ],
      "text/plain": [
       "    Region  Total Sales\n",
       "0  Central  501239.8908\n",
       "1     East  678781.2400\n",
       "2    South  391721.9050\n",
       "3     West  725457.8245"
      ]
     },
     "execution_count": 74,
     "metadata": {},
     "output_type": "execute_result"
    }
   ],
   "source": [
    "# Total Sales per Region\n",
    "sales_per_region = df.groupby(\"Region\")[\"Sales\"].sum().reset_index()\n",
    "sales_per_region.columns = [\"Region\", \"Total Sales\"]\n",
    "\n",
    "sales_per_region"
   ]
  },
  {
   "cell_type": "code",
   "execution_count": 75,
   "id": "8926d24a",
   "metadata": {},
   "outputs": [
    {
     "data": {
      "text/html": [
       "<div>\n",
       "<style scoped>\n",
       "    .dataframe tbody tr th:only-of-type {\n",
       "        vertical-align: middle;\n",
       "    }\n",
       "\n",
       "    .dataframe tbody tr th {\n",
       "        vertical-align: top;\n",
       "    }\n",
       "\n",
       "    .dataframe thead th {\n",
       "        text-align: right;\n",
       "    }\n",
       "</style>\n",
       "<table border=\"1\" class=\"dataframe\">\n",
       "  <thead>\n",
       "    <tr style=\"text-align: right;\">\n",
       "      <th></th>\n",
       "      <th>Category</th>\n",
       "      <th>Average Profit</th>\n",
       "    </tr>\n",
       "  </thead>\n",
       "  <tbody>\n",
       "    <tr>\n",
       "      <th>0</th>\n",
       "      <td>Furniture</td>\n",
       "      <td>8.699327</td>\n",
       "    </tr>\n",
       "    <tr>\n",
       "      <th>1</th>\n",
       "      <td>Office Supplies</td>\n",
       "      <td>20.327050</td>\n",
       "    </tr>\n",
       "    <tr>\n",
       "      <th>2</th>\n",
       "      <td>Technology</td>\n",
       "      <td>78.752002</td>\n",
       "    </tr>\n",
       "  </tbody>\n",
       "</table>\n",
       "</div>"
      ],
      "text/plain": [
       "          Category  Average Profit\n",
       "0        Furniture        8.699327\n",
       "1  Office Supplies       20.327050\n",
       "2       Technology       78.752002"
      ]
     },
     "execution_count": 75,
     "metadata": {},
     "output_type": "execute_result"
    }
   ],
   "source": [
    "# Rata-rata Profit per Category\n",
    "avg_profit_per_category = df.groupby(\"Category\")[\"Profit\"].mean().reset_index()\n",
    "avg_profit_per_category.columns = [\"Category\", \"Average Profit\"]\n",
    "\n",
    "avg_profit_per_category"
   ]
  },
  {
   "cell_type": "code",
   "execution_count": 76,
   "id": "1688f1e9",
   "metadata": {},
   "outputs": [
    {
     "data": {
      "text/html": [
       "<div>\n",
       "<style scoped>\n",
       "    .dataframe tbody tr th:only-of-type {\n",
       "        vertical-align: middle;\n",
       "    }\n",
       "\n",
       "    .dataframe tbody tr th {\n",
       "        vertical-align: top;\n",
       "    }\n",
       "\n",
       "    .dataframe thead th {\n",
       "        text-align: right;\n",
       "    }\n",
       "</style>\n",
       "<table border=\"1\" class=\"dataframe\">\n",
       "  <thead>\n",
       "    <tr style=\"text-align: right;\">\n",
       "      <th></th>\n",
       "      <th>Segment</th>\n",
       "      <th>Transaction Count</th>\n",
       "    </tr>\n",
       "  </thead>\n",
       "  <tbody>\n",
       "    <tr>\n",
       "      <th>0</th>\n",
       "      <td>Consumer</td>\n",
       "      <td>5191</td>\n",
       "    </tr>\n",
       "    <tr>\n",
       "      <th>1</th>\n",
       "      <td>Corporate</td>\n",
       "      <td>3020</td>\n",
       "    </tr>\n",
       "    <tr>\n",
       "      <th>2</th>\n",
       "      <td>Home Office</td>\n",
       "      <td>1783</td>\n",
       "    </tr>\n",
       "  </tbody>\n",
       "</table>\n",
       "</div>"
      ],
      "text/plain": [
       "       Segment  Transaction Count\n",
       "0     Consumer               5191\n",
       "1    Corporate               3020\n",
       "2  Home Office               1783"
      ]
     },
     "execution_count": 76,
     "metadata": {},
     "output_type": "execute_result"
    }
   ],
   "source": [
    "# Jumlah transaksi per Segment\n",
    "trans_count_per_segment = df.groupby(\"Segment\")[\"Order ID\"].count().reset_index()\n",
    "trans_count_per_segment.columns = [\"Segment\", \"Transaction Count\"]\n",
    "\n",
    "trans_count_per_segment"
   ]
  },
  {
   "cell_type": "code",
   "execution_count": 77,
   "id": "6713c832",
   "metadata": {},
   "outputs": [
    {
     "data": {
      "text/html": [
       "<div>\n",
       "<style scoped>\n",
       "    .dataframe tbody tr th:only-of-type {\n",
       "        vertical-align: middle;\n",
       "    }\n",
       "\n",
       "    .dataframe tbody tr th {\n",
       "        vertical-align: top;\n",
       "    }\n",
       "\n",
       "    .dataframe thead th {\n",
       "        text-align: right;\n",
       "    }\n",
       "</style>\n",
       "<table border=\"1\" class=\"dataframe\">\n",
       "  <thead>\n",
       "    <tr style=\"text-align: right;\">\n",
       "      <th></th>\n",
       "      <th>Region</th>\n",
       "      <th>Total Sales</th>\n",
       "    </tr>\n",
       "  </thead>\n",
       "  <tbody>\n",
       "    <tr>\n",
       "      <th>0</th>\n",
       "      <td>Central</td>\n",
       "      <td>501239.8908</td>\n",
       "    </tr>\n",
       "    <tr>\n",
       "      <th>1</th>\n",
       "      <td>East</td>\n",
       "      <td>678781.2400</td>\n",
       "    </tr>\n",
       "    <tr>\n",
       "      <th>2</th>\n",
       "      <td>South</td>\n",
       "      <td>391721.9050</td>\n",
       "    </tr>\n",
       "    <tr>\n",
       "      <th>3</th>\n",
       "      <td>West</td>\n",
       "      <td>725457.8245</td>\n",
       "    </tr>\n",
       "  </tbody>\n",
       "</table>\n",
       "</div>"
      ],
      "text/plain": [
       "    Region  Total Sales\n",
       "0  Central  501239.8908\n",
       "1     East  678781.2400\n",
       "2    South  391721.9050\n",
       "3     West  725457.8245"
      ]
     },
     "metadata": {},
     "output_type": "display_data"
    },
    {
     "data": {
      "text/html": [
       "<div>\n",
       "<style scoped>\n",
       "    .dataframe tbody tr th:only-of-type {\n",
       "        vertical-align: middle;\n",
       "    }\n",
       "\n",
       "    .dataframe tbody tr th {\n",
       "        vertical-align: top;\n",
       "    }\n",
       "\n",
       "    .dataframe thead th {\n",
       "        text-align: right;\n",
       "    }\n",
       "</style>\n",
       "<table border=\"1\" class=\"dataframe\">\n",
       "  <thead>\n",
       "    <tr style=\"text-align: right;\">\n",
       "      <th></th>\n",
       "      <th>Category</th>\n",
       "      <th>Average Profit</th>\n",
       "    </tr>\n",
       "  </thead>\n",
       "  <tbody>\n",
       "    <tr>\n",
       "      <th>0</th>\n",
       "      <td>Furniture</td>\n",
       "      <td>8.699327</td>\n",
       "    </tr>\n",
       "    <tr>\n",
       "      <th>1</th>\n",
       "      <td>Office Supplies</td>\n",
       "      <td>20.327050</td>\n",
       "    </tr>\n",
       "    <tr>\n",
       "      <th>2</th>\n",
       "      <td>Technology</td>\n",
       "      <td>78.752002</td>\n",
       "    </tr>\n",
       "  </tbody>\n",
       "</table>\n",
       "</div>"
      ],
      "text/plain": [
       "          Category  Average Profit\n",
       "0        Furniture        8.699327\n",
       "1  Office Supplies       20.327050\n",
       "2       Technology       78.752002"
      ]
     },
     "metadata": {},
     "output_type": "display_data"
    },
    {
     "data": {
      "text/html": [
       "<div>\n",
       "<style scoped>\n",
       "    .dataframe tbody tr th:only-of-type {\n",
       "        vertical-align: middle;\n",
       "    }\n",
       "\n",
       "    .dataframe tbody tr th {\n",
       "        vertical-align: top;\n",
       "    }\n",
       "\n",
       "    .dataframe thead th {\n",
       "        text-align: right;\n",
       "    }\n",
       "</style>\n",
       "<table border=\"1\" class=\"dataframe\">\n",
       "  <thead>\n",
       "    <tr style=\"text-align: right;\">\n",
       "      <th></th>\n",
       "      <th>Segment</th>\n",
       "      <th>Transaction Count</th>\n",
       "    </tr>\n",
       "  </thead>\n",
       "  <tbody>\n",
       "    <tr>\n",
       "      <th>0</th>\n",
       "      <td>Consumer</td>\n",
       "      <td>5191</td>\n",
       "    </tr>\n",
       "    <tr>\n",
       "      <th>1</th>\n",
       "      <td>Corporate</td>\n",
       "      <td>3020</td>\n",
       "    </tr>\n",
       "    <tr>\n",
       "      <th>2</th>\n",
       "      <td>Home Office</td>\n",
       "      <td>1783</td>\n",
       "    </tr>\n",
       "  </tbody>\n",
       "</table>\n",
       "</div>"
      ],
      "text/plain": [
       "       Segment  Transaction Count\n",
       "0     Consumer               5191\n",
       "1    Corporate               3020\n",
       "2  Home Office               1783"
      ]
     },
     "metadata": {},
     "output_type": "display_data"
    }
   ],
   "source": [
    "display(sales_per_region)\n",
    "display(avg_profit_per_category)\n",
    "display(trans_count_per_segment)\n"
   ]
  },
  {
   "cell_type": "code",
   "execution_count": 78,
   "id": "bae721bd",
   "metadata": {},
   "outputs": [
    {
     "data": {
      "text/html": [
       "<div>\n",
       "<style scoped>\n",
       "    .dataframe tbody tr th:only-of-type {\n",
       "        vertical-align: middle;\n",
       "    }\n",
       "\n",
       "    .dataframe tbody tr th {\n",
       "        vertical-align: top;\n",
       "    }\n",
       "\n",
       "    .dataframe thead th {\n",
       "        text-align: right;\n",
       "    }\n",
       "</style>\n",
       "<table border=\"1\" class=\"dataframe\">\n",
       "  <thead>\n",
       "    <tr style=\"text-align: right;\">\n",
       "      <th></th>\n",
       "      <th>Region</th>\n",
       "      <th>Total Sales</th>\n",
       "    </tr>\n",
       "  </thead>\n",
       "  <tbody>\n",
       "    <tr>\n",
       "      <th>2</th>\n",
       "      <td>South</td>\n",
       "      <td>391721.9050</td>\n",
       "    </tr>\n",
       "    <tr>\n",
       "      <th>0</th>\n",
       "      <td>Central</td>\n",
       "      <td>501239.8908</td>\n",
       "    </tr>\n",
       "    <tr>\n",
       "      <th>1</th>\n",
       "      <td>East</td>\n",
       "      <td>678781.2400</td>\n",
       "    </tr>\n",
       "    <tr>\n",
       "      <th>3</th>\n",
       "      <td>West</td>\n",
       "      <td>725457.8245</td>\n",
       "    </tr>\n",
       "  </tbody>\n",
       "</table>\n",
       "</div>"
      ],
      "text/plain": [
       "    Region  Total Sales\n",
       "2    South  391721.9050\n",
       "0  Central  501239.8908\n",
       "1     East  678781.2400\n",
       "3     West  725457.8245"
      ]
     },
     "execution_count": 78,
     "metadata": {},
     "output_type": "execute_result"
    }
   ],
   "source": [
    "# urutkan berdasarkan nilai tertentu\n",
    "sales_per_region.sort_values(\"Total Sales\", ascending=True)"
   ]
  },
  {
   "cell_type": "markdown",
   "id": "394aedf5",
   "metadata": {},
   "source": [
    "## 2. Pivot Table dan Crosstab\n",
    "Contoh penggunaan: pivot_table(), pd.crosstab()"
   ]
  },
  {
   "cell_type": "code",
   "execution_count": null,
   "id": "0a2db90a",
   "metadata": {},
   "outputs": [
    {
     "data": {
      "text/html": [
       "<div>\n",
       "<style scoped>\n",
       "    .dataframe tbody tr th:only-of-type {\n",
       "        vertical-align: middle;\n",
       "    }\n",
       "\n",
       "    .dataframe tbody tr th {\n",
       "        vertical-align: top;\n",
       "    }\n",
       "\n",
       "    .dataframe thead th {\n",
       "        text-align: right;\n",
       "    }\n",
       "</style>\n",
       "<table border=\"1\" class=\"dataframe\">\n",
       "  <thead>\n",
       "    <tr style=\"text-align: right;\">\n",
       "      <th>Segment</th>\n",
       "      <th>Consumer</th>\n",
       "      <th>Corporate</th>\n",
       "      <th>Home Office</th>\n",
       "    </tr>\n",
       "    <tr>\n",
       "      <th>Region</th>\n",
       "      <th></th>\n",
       "      <th></th>\n",
       "      <th></th>\n",
       "    </tr>\n",
       "  </thead>\n",
       "  <tbody>\n",
       "    <tr>\n",
       "      <th>Central</th>\n",
       "      <td>8564.0481</td>\n",
       "      <td>18703.9020</td>\n",
       "      <td>12438.4124</td>\n",
       "    </tr>\n",
       "    <tr>\n",
       "      <th>East</th>\n",
       "      <td>41190.9843</td>\n",
       "      <td>23622.5789</td>\n",
       "      <td>26709.2168</td>\n",
       "    </tr>\n",
       "    <tr>\n",
       "      <th>South</th>\n",
       "      <td>26913.5728</td>\n",
       "      <td>15215.2232</td>\n",
       "      <td>4620.6343</td>\n",
       "    </tr>\n",
       "    <tr>\n",
       "      <th>West</th>\n",
       "      <td>57450.6040</td>\n",
       "      <td>34437.4299</td>\n",
       "      <td>16530.4150</td>\n",
       "    </tr>\n",
       "  </tbody>\n",
       "</table>\n",
       "</div>"
      ],
      "text/plain": [
       "Segment    Consumer   Corporate  Home Office\n",
       "Region                                      \n",
       "Central   8564.0481  18703.9020   12438.4124\n",
       "East     41190.9843  23622.5789   26709.2168\n",
       "South    26913.5728  15215.2232    4620.6343\n",
       "West     57450.6040  34437.4299   16530.4150"
      ]
     },
     "execution_count": 79,
     "metadata": {},
     "output_type": "execute_result"
    }
   ],
   "source": [
    "# Pivot Table: Total Profit per Region dan Segment\n",
    "pd.pivot_table(df, values=\"Profit\", index=\"Region\", columns=\"Segment\", aggfunc=\"sum\")"
   ]
  },
  {
   "cell_type": "code",
   "execution_count": 80,
   "id": "dcbdead7",
   "metadata": {},
   "outputs": [
    {
     "data": {
      "text/html": [
       "<div>\n",
       "<style scoped>\n",
       "    .dataframe tbody tr th:only-of-type {\n",
       "        vertical-align: middle;\n",
       "    }\n",
       "\n",
       "    .dataframe tbody tr th {\n",
       "        vertical-align: top;\n",
       "    }\n",
       "\n",
       "    .dataframe thead th {\n",
       "        text-align: right;\n",
       "    }\n",
       "</style>\n",
       "<table border=\"1\" class=\"dataframe\">\n",
       "  <thead>\n",
       "    <tr style=\"text-align: right;\">\n",
       "      <th>Ship Mode</th>\n",
       "      <th>First Class</th>\n",
       "      <th>Same Day</th>\n",
       "      <th>Second Class</th>\n",
       "      <th>Standard Class</th>\n",
       "    </tr>\n",
       "    <tr>\n",
       "      <th>Segment</th>\n",
       "      <th></th>\n",
       "      <th></th>\n",
       "      <th></th>\n",
       "      <th></th>\n",
       "    </tr>\n",
       "  </thead>\n",
       "  <tbody>\n",
       "    <tr>\n",
       "      <th>Consumer</th>\n",
       "      <td>769</td>\n",
       "      <td>317</td>\n",
       "      <td>1020</td>\n",
       "      <td>3085</td>\n",
       "    </tr>\n",
       "    <tr>\n",
       "      <th>Corporate</th>\n",
       "      <td>485</td>\n",
       "      <td>114</td>\n",
       "      <td>609</td>\n",
       "      <td>1812</td>\n",
       "    </tr>\n",
       "    <tr>\n",
       "      <th>Home Office</th>\n",
       "      <td>284</td>\n",
       "      <td>112</td>\n",
       "      <td>316</td>\n",
       "      <td>1071</td>\n",
       "    </tr>\n",
       "  </tbody>\n",
       "</table>\n",
       "</div>"
      ],
      "text/plain": [
       "Ship Mode    First Class  Same Day  Second Class  Standard Class\n",
       "Segment                                                         \n",
       "Consumer             769       317          1020            3085\n",
       "Corporate            485       114           609            1812\n",
       "Home Office          284       112           316            1071"
      ]
     },
     "execution_count": 80,
     "metadata": {},
     "output_type": "execute_result"
    }
   ],
   "source": [
    "# Crosstab: Frekuensi Segment per Ship Mode\n",
    "pd.crosstab(df[\"Segment\"], df[\"Ship Mode\"])"
   ]
  },
  {
   "cell_type": "markdown",
   "id": "4dae8852",
   "metadata": {},
   "source": [
    "## 3. Merge & Join Dataset\n",
    "Karena Sample - Superstore adalah satu file, kita buat 2 subset dulu lalu merge:"
   ]
  },
  {
   "cell_type": "code",
   "execution_count": 81,
   "id": "9e204820",
   "metadata": {},
   "outputs": [],
   "source": [
    "import pandas as pd\n",
    "\n",
    "# Baca file Superstore\n",
    "df = pd.read_csv(\"Superstore.csv\", encoding=\"ISO-8859-1\")\n",
    "\n",
    "# Subset untuk simulasi dua tabel\n",
    "orders = df[[\"Order ID\", \"Order Date\", \"Customer ID\"]].drop_duplicates() # kiri\n",
    "details = df[[\"Order ID\", \"Product Name\", \"Sales\"]] # kanan"
   ]
  },
  {
   "cell_type": "code",
   "execution_count": 82,
   "id": "35075c96",
   "metadata": {},
   "outputs": [
    {
     "name": "stdout",
     "output_type": "stream",
     "text": [
      "Row ID           0\n",
      "Order ID         0\n",
      "Order Date       0\n",
      "Ship Date        0\n",
      "Ship Mode        0\n",
      "Customer ID      0\n",
      "Customer Name    0\n",
      "Segment          0\n",
      "Country          0\n",
      "City             0\n",
      "State            0\n",
      "Postal Code      0\n",
      "Region           0\n",
      "Product ID       0\n",
      "Category         0\n",
      "Sub-Category     0\n",
      "Product Name     0\n",
      "Sales            0\n",
      "Quantity         0\n",
      "Discount         0\n",
      "Profit           0\n",
      "dtype: int64\n"
     ]
    }
   ],
   "source": [
    "# cek apakah ada data yang kosong\n",
    "print(df.isnull().sum())"
   ]
  },
  {
   "cell_type": "markdown",
   "id": "63a35447",
   "metadata": {},
   "source": [
    "### Inner Join"
   ]
  },
  {
   "cell_type": "code",
   "execution_count": 83,
   "id": "5393a3c3",
   "metadata": {},
   "outputs": [
    {
     "name": "stdout",
     "output_type": "stream",
     "text": [
      "Inner Join:\n"
     ]
    },
    {
     "data": {
      "text/html": [
       "<div>\n",
       "<style scoped>\n",
       "    .dataframe tbody tr th:only-of-type {\n",
       "        vertical-align: middle;\n",
       "    }\n",
       "\n",
       "    .dataframe tbody tr th {\n",
       "        vertical-align: top;\n",
       "    }\n",
       "\n",
       "    .dataframe thead th {\n",
       "        text-align: right;\n",
       "    }\n",
       "</style>\n",
       "<table border=\"1\" class=\"dataframe\">\n",
       "  <thead>\n",
       "    <tr style=\"text-align: right;\">\n",
       "      <th></th>\n",
       "      <th>Order ID</th>\n",
       "      <th>Order Date</th>\n",
       "      <th>Customer ID</th>\n",
       "      <th>Product Name</th>\n",
       "      <th>Sales</th>\n",
       "    </tr>\n",
       "  </thead>\n",
       "  <tbody>\n",
       "    <tr>\n",
       "      <th>0</th>\n",
       "      <td>CA-2016-152156</td>\n",
       "      <td>11/8/2016</td>\n",
       "      <td>CG-12520</td>\n",
       "      <td>Bush Somerset Collection Bookcase</td>\n",
       "      <td>261.9600</td>\n",
       "    </tr>\n",
       "    <tr>\n",
       "      <th>1</th>\n",
       "      <td>CA-2016-152156</td>\n",
       "      <td>11/8/2016</td>\n",
       "      <td>CG-12520</td>\n",
       "      <td>Hon Deluxe Fabric Upholstered Stacking Chairs,...</td>\n",
       "      <td>731.9400</td>\n",
       "    </tr>\n",
       "    <tr>\n",
       "      <th>2</th>\n",
       "      <td>CA-2016-138688</td>\n",
       "      <td>6/12/2016</td>\n",
       "      <td>DV-13045</td>\n",
       "      <td>Self-Adhesive Address Labels for Typewriters b...</td>\n",
       "      <td>14.6200</td>\n",
       "    </tr>\n",
       "    <tr>\n",
       "      <th>3</th>\n",
       "      <td>US-2015-108966</td>\n",
       "      <td>10/11/2015</td>\n",
       "      <td>SO-20335</td>\n",
       "      <td>Bretford CR4500 Series Slim Rectangular Table</td>\n",
       "      <td>957.5775</td>\n",
       "    </tr>\n",
       "    <tr>\n",
       "      <th>4</th>\n",
       "      <td>US-2015-108966</td>\n",
       "      <td>10/11/2015</td>\n",
       "      <td>SO-20335</td>\n",
       "      <td>Eldon Fold 'N Roll Cart System</td>\n",
       "      <td>22.3680</td>\n",
       "    </tr>\n",
       "  </tbody>\n",
       "</table>\n",
       "</div>"
      ],
      "text/plain": [
       "         Order ID  Order Date Customer ID  \\\n",
       "0  CA-2016-152156   11/8/2016    CG-12520   \n",
       "1  CA-2016-152156   11/8/2016    CG-12520   \n",
       "2  CA-2016-138688   6/12/2016    DV-13045   \n",
       "3  US-2015-108966  10/11/2015    SO-20335   \n",
       "4  US-2015-108966  10/11/2015    SO-20335   \n",
       "\n",
       "                                        Product Name     Sales  \n",
       "0                  Bush Somerset Collection Bookcase  261.9600  \n",
       "1  Hon Deluxe Fabric Upholstered Stacking Chairs,...  731.9400  \n",
       "2  Self-Adhesive Address Labels for Typewriters b...   14.6200  \n",
       "3      Bretford CR4500 Series Slim Rectangular Table  957.5775  \n",
       "4                     Eldon Fold 'N Roll Cart System   22.3680  "
      ]
     },
     "execution_count": 83,
     "metadata": {},
     "output_type": "execute_result"
    }
   ],
   "source": [
    "inner_join = pd.merge(orders, details, on=\"Order ID\", how=\"inner\")\n",
    "print(\"Inner Join:\")\n",
    "\n",
    "inner_join.head()"
   ]
  },
  {
   "cell_type": "markdown",
   "id": "542d59f4",
   "metadata": {},
   "source": [
    "### Left Join"
   ]
  },
  {
   "cell_type": "code",
   "execution_count": 84,
   "id": "28c280ad",
   "metadata": {},
   "outputs": [
    {
     "name": "stdout",
     "output_type": "stream",
     "text": [
      "Left Join:\n"
     ]
    },
    {
     "data": {
      "text/html": [
       "<div>\n",
       "<style scoped>\n",
       "    .dataframe tbody tr th:only-of-type {\n",
       "        vertical-align: middle;\n",
       "    }\n",
       "\n",
       "    .dataframe tbody tr th {\n",
       "        vertical-align: top;\n",
       "    }\n",
       "\n",
       "    .dataframe thead th {\n",
       "        text-align: right;\n",
       "    }\n",
       "</style>\n",
       "<table border=\"1\" class=\"dataframe\">\n",
       "  <thead>\n",
       "    <tr style=\"text-align: right;\">\n",
       "      <th></th>\n",
       "      <th>Order ID</th>\n",
       "      <th>Order Date</th>\n",
       "      <th>Customer ID</th>\n",
       "      <th>Product Name</th>\n",
       "      <th>Sales</th>\n",
       "    </tr>\n",
       "  </thead>\n",
       "  <tbody>\n",
       "    <tr>\n",
       "      <th>0</th>\n",
       "      <td>CA-2016-152156</td>\n",
       "      <td>11/8/2016</td>\n",
       "      <td>CG-12520</td>\n",
       "      <td>Bush Somerset Collection Bookcase</td>\n",
       "      <td>261.9600</td>\n",
       "    </tr>\n",
       "    <tr>\n",
       "      <th>1</th>\n",
       "      <td>CA-2016-152156</td>\n",
       "      <td>11/8/2016</td>\n",
       "      <td>CG-12520</td>\n",
       "      <td>Hon Deluxe Fabric Upholstered Stacking Chairs,...</td>\n",
       "      <td>731.9400</td>\n",
       "    </tr>\n",
       "    <tr>\n",
       "      <th>2</th>\n",
       "      <td>CA-2016-138688</td>\n",
       "      <td>6/12/2016</td>\n",
       "      <td>DV-13045</td>\n",
       "      <td>Self-Adhesive Address Labels for Typewriters b...</td>\n",
       "      <td>14.6200</td>\n",
       "    </tr>\n",
       "    <tr>\n",
       "      <th>3</th>\n",
       "      <td>US-2015-108966</td>\n",
       "      <td>10/11/2015</td>\n",
       "      <td>SO-20335</td>\n",
       "      <td>Bretford CR4500 Series Slim Rectangular Table</td>\n",
       "      <td>957.5775</td>\n",
       "    </tr>\n",
       "    <tr>\n",
       "      <th>4</th>\n",
       "      <td>US-2015-108966</td>\n",
       "      <td>10/11/2015</td>\n",
       "      <td>SO-20335</td>\n",
       "      <td>Eldon Fold 'N Roll Cart System</td>\n",
       "      <td>22.3680</td>\n",
       "    </tr>\n",
       "    <tr>\n",
       "      <th>...</th>\n",
       "      <td>...</td>\n",
       "      <td>...</td>\n",
       "      <td>...</td>\n",
       "      <td>...</td>\n",
       "      <td>...</td>\n",
       "    </tr>\n",
       "    <tr>\n",
       "      <th>9989</th>\n",
       "      <td>CA-2014-110422</td>\n",
       "      <td>1/21/2014</td>\n",
       "      <td>TB-21400</td>\n",
       "      <td>Ultra Door Pull Handle</td>\n",
       "      <td>25.2480</td>\n",
       "    </tr>\n",
       "    <tr>\n",
       "      <th>9990</th>\n",
       "      <td>CA-2017-121258</td>\n",
       "      <td>2/26/2017</td>\n",
       "      <td>DB-13060</td>\n",
       "      <td>Tenex B1-RE Series Chair Mats for Low Pile Car...</td>\n",
       "      <td>91.9600</td>\n",
       "    </tr>\n",
       "    <tr>\n",
       "      <th>9991</th>\n",
       "      <td>CA-2017-121258</td>\n",
       "      <td>2/26/2017</td>\n",
       "      <td>DB-13060</td>\n",
       "      <td>Aastra 57i VoIP phone</td>\n",
       "      <td>258.5760</td>\n",
       "    </tr>\n",
       "    <tr>\n",
       "      <th>9992</th>\n",
       "      <td>CA-2017-121258</td>\n",
       "      <td>2/26/2017</td>\n",
       "      <td>DB-13060</td>\n",
       "      <td>It's Hot Message Books with Stickers, 2 3/4\" x 5\"</td>\n",
       "      <td>29.6000</td>\n",
       "    </tr>\n",
       "    <tr>\n",
       "      <th>9993</th>\n",
       "      <td>CA-2017-119914</td>\n",
       "      <td>5/4/2017</td>\n",
       "      <td>CC-12220</td>\n",
       "      <td>Acco 7-Outlet Masterpiece Power Center, Wihtou...</td>\n",
       "      <td>243.1600</td>\n",
       "    </tr>\n",
       "  </tbody>\n",
       "</table>\n",
       "<p>9994 rows × 5 columns</p>\n",
       "</div>"
      ],
      "text/plain": [
       "            Order ID  Order Date Customer ID  \\\n",
       "0     CA-2016-152156   11/8/2016    CG-12520   \n",
       "1     CA-2016-152156   11/8/2016    CG-12520   \n",
       "2     CA-2016-138688   6/12/2016    DV-13045   \n",
       "3     US-2015-108966  10/11/2015    SO-20335   \n",
       "4     US-2015-108966  10/11/2015    SO-20335   \n",
       "...              ...         ...         ...   \n",
       "9989  CA-2014-110422   1/21/2014    TB-21400   \n",
       "9990  CA-2017-121258   2/26/2017    DB-13060   \n",
       "9991  CA-2017-121258   2/26/2017    DB-13060   \n",
       "9992  CA-2017-121258   2/26/2017    DB-13060   \n",
       "9993  CA-2017-119914    5/4/2017    CC-12220   \n",
       "\n",
       "                                           Product Name     Sales  \n",
       "0                     Bush Somerset Collection Bookcase  261.9600  \n",
       "1     Hon Deluxe Fabric Upholstered Stacking Chairs,...  731.9400  \n",
       "2     Self-Adhesive Address Labels for Typewriters b...   14.6200  \n",
       "3         Bretford CR4500 Series Slim Rectangular Table  957.5775  \n",
       "4                        Eldon Fold 'N Roll Cart System   22.3680  \n",
       "...                                                 ...       ...  \n",
       "9989                             Ultra Door Pull Handle   25.2480  \n",
       "9990  Tenex B1-RE Series Chair Mats for Low Pile Car...   91.9600  \n",
       "9991                              Aastra 57i VoIP phone  258.5760  \n",
       "9992  It's Hot Message Books with Stickers, 2 3/4\" x 5\"   29.6000  \n",
       "9993  Acco 7-Outlet Masterpiece Power Center, Wihtou...  243.1600  \n",
       "\n",
       "[9994 rows x 5 columns]"
      ]
     },
     "execution_count": 84,
     "metadata": {},
     "output_type": "execute_result"
    }
   ],
   "source": [
    "left_join = pd.merge(orders, details, on=\"Order ID\", how=\"left\")\n",
    "print(\"Left Join:\")\n",
    "\n",
    "left_join\n"
   ]
  },
  {
   "cell_type": "markdown",
   "id": "226520e8",
   "metadata": {},
   "source": [
    "## Right Join"
   ]
  },
  {
   "cell_type": "code",
   "execution_count": 85,
   "id": "4bb1c06a",
   "metadata": {},
   "outputs": [
    {
     "name": "stdout",
     "output_type": "stream",
     "text": [
      "Right Join:\n"
     ]
    },
    {
     "data": {
      "text/html": [
       "<div>\n",
       "<style scoped>\n",
       "    .dataframe tbody tr th:only-of-type {\n",
       "        vertical-align: middle;\n",
       "    }\n",
       "\n",
       "    .dataframe tbody tr th {\n",
       "        vertical-align: top;\n",
       "    }\n",
       "\n",
       "    .dataframe thead th {\n",
       "        text-align: right;\n",
       "    }\n",
       "</style>\n",
       "<table border=\"1\" class=\"dataframe\">\n",
       "  <thead>\n",
       "    <tr style=\"text-align: right;\">\n",
       "      <th></th>\n",
       "      <th>Order ID</th>\n",
       "      <th>Order Date</th>\n",
       "      <th>Customer ID</th>\n",
       "      <th>Product Name</th>\n",
       "      <th>Sales</th>\n",
       "    </tr>\n",
       "  </thead>\n",
       "  <tbody>\n",
       "    <tr>\n",
       "      <th>0</th>\n",
       "      <td>CA-2016-152156</td>\n",
       "      <td>11/8/2016</td>\n",
       "      <td>CG-12520</td>\n",
       "      <td>Bush Somerset Collection Bookcase</td>\n",
       "      <td>261.9600</td>\n",
       "    </tr>\n",
       "    <tr>\n",
       "      <th>1</th>\n",
       "      <td>CA-2016-152156</td>\n",
       "      <td>11/8/2016</td>\n",
       "      <td>CG-12520</td>\n",
       "      <td>Hon Deluxe Fabric Upholstered Stacking Chairs,...</td>\n",
       "      <td>731.9400</td>\n",
       "    </tr>\n",
       "    <tr>\n",
       "      <th>2</th>\n",
       "      <td>CA-2016-138688</td>\n",
       "      <td>6/12/2016</td>\n",
       "      <td>DV-13045</td>\n",
       "      <td>Self-Adhesive Address Labels for Typewriters b...</td>\n",
       "      <td>14.6200</td>\n",
       "    </tr>\n",
       "    <tr>\n",
       "      <th>3</th>\n",
       "      <td>US-2015-108966</td>\n",
       "      <td>10/11/2015</td>\n",
       "      <td>SO-20335</td>\n",
       "      <td>Bretford CR4500 Series Slim Rectangular Table</td>\n",
       "      <td>957.5775</td>\n",
       "    </tr>\n",
       "    <tr>\n",
       "      <th>4</th>\n",
       "      <td>US-2015-108966</td>\n",
       "      <td>10/11/2015</td>\n",
       "      <td>SO-20335</td>\n",
       "      <td>Eldon Fold 'N Roll Cart System</td>\n",
       "      <td>22.3680</td>\n",
       "    </tr>\n",
       "  </tbody>\n",
       "</table>\n",
       "</div>"
      ],
      "text/plain": [
       "         Order ID  Order Date Customer ID  \\\n",
       "0  CA-2016-152156   11/8/2016    CG-12520   \n",
       "1  CA-2016-152156   11/8/2016    CG-12520   \n",
       "2  CA-2016-138688   6/12/2016    DV-13045   \n",
       "3  US-2015-108966  10/11/2015    SO-20335   \n",
       "4  US-2015-108966  10/11/2015    SO-20335   \n",
       "\n",
       "                                        Product Name     Sales  \n",
       "0                  Bush Somerset Collection Bookcase  261.9600  \n",
       "1  Hon Deluxe Fabric Upholstered Stacking Chairs,...  731.9400  \n",
       "2  Self-Adhesive Address Labels for Typewriters b...   14.6200  \n",
       "3      Bretford CR4500 Series Slim Rectangular Table  957.5775  \n",
       "4                     Eldon Fold 'N Roll Cart System   22.3680  "
      ]
     },
     "execution_count": 85,
     "metadata": {},
     "output_type": "execute_result"
    }
   ],
   "source": [
    "right_join = pd.merge(orders, details, on=\"Order ID\", how=\"right\")\n",
    "print(\"Right Join:\")\n",
    "\n",
    "right_join.head()"
   ]
  },
  {
   "cell_type": "markdown",
   "id": "4e4e2f25",
   "metadata": {},
   "source": [
    "## Outer Join"
   ]
  },
  {
   "cell_type": "code",
   "execution_count": 86,
   "id": "8277d130",
   "metadata": {},
   "outputs": [
    {
     "name": "stdout",
     "output_type": "stream",
     "text": [
      "Outer Join:\n"
     ]
    },
    {
     "data": {
      "text/html": [
       "<div>\n",
       "<style scoped>\n",
       "    .dataframe tbody tr th:only-of-type {\n",
       "        vertical-align: middle;\n",
       "    }\n",
       "\n",
       "    .dataframe tbody tr th {\n",
       "        vertical-align: top;\n",
       "    }\n",
       "\n",
       "    .dataframe thead th {\n",
       "        text-align: right;\n",
       "    }\n",
       "</style>\n",
       "<table border=\"1\" class=\"dataframe\">\n",
       "  <thead>\n",
       "    <tr style=\"text-align: right;\">\n",
       "      <th></th>\n",
       "      <th>Order ID</th>\n",
       "      <th>Order Date</th>\n",
       "      <th>Customer ID</th>\n",
       "      <th>Product Name</th>\n",
       "      <th>Sales</th>\n",
       "    </tr>\n",
       "  </thead>\n",
       "  <tbody>\n",
       "    <tr>\n",
       "      <th>0</th>\n",
       "      <td>CA-2014-100006</td>\n",
       "      <td>9/7/2014</td>\n",
       "      <td>DK-13375</td>\n",
       "      <td>AT&amp;T EL51110 DECT</td>\n",
       "      <td>377.970</td>\n",
       "    </tr>\n",
       "    <tr>\n",
       "      <th>1</th>\n",
       "      <td>CA-2014-100090</td>\n",
       "      <td>7/8/2014</td>\n",
       "      <td>EB-13705</td>\n",
       "      <td>Hon 2111 Invitation Series Corner Table</td>\n",
       "      <td>502.488</td>\n",
       "    </tr>\n",
       "    <tr>\n",
       "      <th>2</th>\n",
       "      <td>CA-2014-100090</td>\n",
       "      <td>7/8/2014</td>\n",
       "      <td>EB-13705</td>\n",
       "      <td>Wilson Jones Ledger-Size, Piano-Hinge Binder, ...</td>\n",
       "      <td>196.704</td>\n",
       "    </tr>\n",
       "    <tr>\n",
       "      <th>3</th>\n",
       "      <td>CA-2014-100293</td>\n",
       "      <td>3/14/2014</td>\n",
       "      <td>NF-18475</td>\n",
       "      <td>Xerox 1887</td>\n",
       "      <td>91.056</td>\n",
       "    </tr>\n",
       "    <tr>\n",
       "      <th>4</th>\n",
       "      <td>CA-2014-100328</td>\n",
       "      <td>1/28/2014</td>\n",
       "      <td>JC-15340</td>\n",
       "      <td>Pressboard Covers with Storage Hooks, 9 1/2\" x...</td>\n",
       "      <td>3.928</td>\n",
       "    </tr>\n",
       "  </tbody>\n",
       "</table>\n",
       "</div>"
      ],
      "text/plain": [
       "         Order ID Order Date Customer ID  \\\n",
       "0  CA-2014-100006   9/7/2014    DK-13375   \n",
       "1  CA-2014-100090   7/8/2014    EB-13705   \n",
       "2  CA-2014-100090   7/8/2014    EB-13705   \n",
       "3  CA-2014-100293  3/14/2014    NF-18475   \n",
       "4  CA-2014-100328  1/28/2014    JC-15340   \n",
       "\n",
       "                                        Product Name    Sales  \n",
       "0                                  AT&T EL51110 DECT  377.970  \n",
       "1            Hon 2111 Invitation Series Corner Table  502.488  \n",
       "2  Wilson Jones Ledger-Size, Piano-Hinge Binder, ...  196.704  \n",
       "3                                         Xerox 1887   91.056  \n",
       "4  Pressboard Covers with Storage Hooks, 9 1/2\" x...    3.928  "
      ]
     },
     "execution_count": 86,
     "metadata": {},
     "output_type": "execute_result"
    }
   ],
   "source": [
    "outer_join = pd.merge(orders, details, on=\"Order ID\", how=\"outer\")\n",
    "print(\"Outer Join:\")\n",
    "\n",
    "outer_join.head()"
   ]
  },
  {
   "cell_type": "code",
   "execution_count": 87,
   "id": "0256e22b",
   "metadata": {},
   "outputs": [
    {
     "data": {
      "text/html": [
       "<div>\n",
       "<style scoped>\n",
       "    .dataframe tbody tr th:only-of-type {\n",
       "        vertical-align: middle;\n",
       "    }\n",
       "\n",
       "    .dataframe tbody tr th {\n",
       "        vertical-align: top;\n",
       "    }\n",
       "\n",
       "    .dataframe thead th {\n",
       "        text-align: right;\n",
       "    }\n",
       "</style>\n",
       "<table border=\"1\" class=\"dataframe\">\n",
       "  <thead>\n",
       "    <tr style=\"text-align: right;\">\n",
       "      <th></th>\n",
       "      <th>Order ID</th>\n",
       "      <th>Order Date</th>\n",
       "      <th>Customer ID</th>\n",
       "      <th>Product Name</th>\n",
       "      <th>Sales</th>\n",
       "    </tr>\n",
       "  </thead>\n",
       "  <tbody>\n",
       "    <tr>\n",
       "      <th>0</th>\n",
       "      <td>CA-2016-152156</td>\n",
       "      <td>11/8/2016</td>\n",
       "      <td>CG-12520</td>\n",
       "      <td>Bush Somerset Collection Bookcase</td>\n",
       "      <td>261.9600</td>\n",
       "    </tr>\n",
       "    <tr>\n",
       "      <th>1</th>\n",
       "      <td>CA-2016-152156</td>\n",
       "      <td>11/8/2016</td>\n",
       "      <td>CG-12520</td>\n",
       "      <td>Hon Deluxe Fabric Upholstered Stacking Chairs,...</td>\n",
       "      <td>731.9400</td>\n",
       "    </tr>\n",
       "    <tr>\n",
       "      <th>2</th>\n",
       "      <td>CA-2016-138688</td>\n",
       "      <td>6/12/2016</td>\n",
       "      <td>DV-13045</td>\n",
       "      <td>Self-Adhesive Address Labels for Typewriters b...</td>\n",
       "      <td>14.6200</td>\n",
       "    </tr>\n",
       "    <tr>\n",
       "      <th>3</th>\n",
       "      <td>US-2015-108966</td>\n",
       "      <td>10/11/2015</td>\n",
       "      <td>SO-20335</td>\n",
       "      <td>Bretford CR4500 Series Slim Rectangular Table</td>\n",
       "      <td>957.5775</td>\n",
       "    </tr>\n",
       "    <tr>\n",
       "      <th>4</th>\n",
       "      <td>US-2015-108966</td>\n",
       "      <td>10/11/2015</td>\n",
       "      <td>SO-20335</td>\n",
       "      <td>Eldon Fold 'N Roll Cart System</td>\n",
       "      <td>22.3680</td>\n",
       "    </tr>\n",
       "  </tbody>\n",
       "</table>\n",
       "</div>"
      ],
      "text/plain": [
       "         Order ID  Order Date Customer ID  \\\n",
       "0  CA-2016-152156   11/8/2016    CG-12520   \n",
       "1  CA-2016-152156   11/8/2016    CG-12520   \n",
       "2  CA-2016-138688   6/12/2016    DV-13045   \n",
       "3  US-2015-108966  10/11/2015    SO-20335   \n",
       "4  US-2015-108966  10/11/2015    SO-20335   \n",
       "\n",
       "                                        Product Name     Sales  \n",
       "0                  Bush Somerset Collection Bookcase  261.9600  \n",
       "1  Hon Deluxe Fabric Upholstered Stacking Chairs,...  731.9400  \n",
       "2  Self-Adhesive Address Labels for Typewriters b...   14.6200  \n",
       "3      Bretford CR4500 Series Slim Rectangular Table  957.5775  \n",
       "4                     Eldon Fold 'N Roll Cart System   22.3680  "
      ]
     },
     "execution_count": 87,
     "metadata": {},
     "output_type": "execute_result"
    }
   ],
   "source": [
    "# Merge berdasarkan Order ID\n",
    "merged = pd.merge(orders, details, on=\"Order ID\")\n",
    "\n",
    "merged.head()"
   ]
  },
  {
   "cell_type": "markdown",
   "id": "5b744220",
   "metadata": {},
   "source": [
    "### Penjelasan Parameter how:\n",
    "- \"inner\" → hanya data yang cocok di kedua tabel\n",
    "\n",
    "- \"left\" → semua data dari tabel kiri (orders)\n",
    "\n",
    "- \"right\" → semua data dari tabel kanan (details)\n",
    "\n",
    "- \"outer\" → semua data dari kedua tabel, gabung berdasarkan Order ID"
   ]
  },
  {
   "cell_type": "markdown",
   "id": "5ada2b4e",
   "metadata": {},
   "source": [
    "## 4. Reshape dan Melt\n",
    "Contoh penggunaan: melt(), stack(), unstack()"
   ]
  },
  {
   "cell_type": "code",
   "execution_count": 88,
   "id": "2fe7182d",
   "metadata": {},
   "outputs": [],
   "source": [
    "# Melting beberapa kolom numerik\n",
    "melted = pd.melt(df, id_vars=[\"Region\", \"Category\"], value_vars=[\"Sales\", \"Profit\"])\n",
    "\n",
    "# Stack dan Unstack\n",
    "pivot = df.pivot_table(index=\"Region\", columns=\"Category\", values=\"Sales\", aggfunc=\"sum\")\n",
    "stacked = pivot.stack()\n",
    "unstacked = stacked.unstack()"
   ]
  },
  {
   "cell_type": "code",
   "execution_count": 89,
   "id": "07706e23",
   "metadata": {},
   "outputs": [
    {
     "data": {
      "text/html": [
       "<div>\n",
       "<style scoped>\n",
       "    .dataframe tbody tr th:only-of-type {\n",
       "        vertical-align: middle;\n",
       "    }\n",
       "\n",
       "    .dataframe tbody tr th {\n",
       "        vertical-align: top;\n",
       "    }\n",
       "\n",
       "    .dataframe thead th {\n",
       "        text-align: right;\n",
       "    }\n",
       "</style>\n",
       "<table border=\"1\" class=\"dataframe\">\n",
       "  <thead>\n",
       "    <tr style=\"text-align: right;\">\n",
       "      <th></th>\n",
       "      <th>Region</th>\n",
       "      <th>Category</th>\n",
       "      <th>variable</th>\n",
       "      <th>value</th>\n",
       "    </tr>\n",
       "  </thead>\n",
       "  <tbody>\n",
       "    <tr>\n",
       "      <th>0</th>\n",
       "      <td>South</td>\n",
       "      <td>Furniture</td>\n",
       "      <td>Sales</td>\n",
       "      <td>261.9600</td>\n",
       "    </tr>\n",
       "    <tr>\n",
       "      <th>1</th>\n",
       "      <td>South</td>\n",
       "      <td>Furniture</td>\n",
       "      <td>Sales</td>\n",
       "      <td>731.9400</td>\n",
       "    </tr>\n",
       "    <tr>\n",
       "      <th>2</th>\n",
       "      <td>West</td>\n",
       "      <td>Office Supplies</td>\n",
       "      <td>Sales</td>\n",
       "      <td>14.6200</td>\n",
       "    </tr>\n",
       "    <tr>\n",
       "      <th>3</th>\n",
       "      <td>South</td>\n",
       "      <td>Furniture</td>\n",
       "      <td>Sales</td>\n",
       "      <td>957.5775</td>\n",
       "    </tr>\n",
       "    <tr>\n",
       "      <th>4</th>\n",
       "      <td>South</td>\n",
       "      <td>Office Supplies</td>\n",
       "      <td>Sales</td>\n",
       "      <td>22.3680</td>\n",
       "    </tr>\n",
       "    <tr>\n",
       "      <th>...</th>\n",
       "      <td>...</td>\n",
       "      <td>...</td>\n",
       "      <td>...</td>\n",
       "      <td>...</td>\n",
       "    </tr>\n",
       "    <tr>\n",
       "      <th>19983</th>\n",
       "      <td>South</td>\n",
       "      <td>Furniture</td>\n",
       "      <td>Profit</td>\n",
       "      <td>4.1028</td>\n",
       "    </tr>\n",
       "    <tr>\n",
       "      <th>19984</th>\n",
       "      <td>West</td>\n",
       "      <td>Furniture</td>\n",
       "      <td>Profit</td>\n",
       "      <td>15.6332</td>\n",
       "    </tr>\n",
       "    <tr>\n",
       "      <th>19985</th>\n",
       "      <td>West</td>\n",
       "      <td>Technology</td>\n",
       "      <td>Profit</td>\n",
       "      <td>19.3932</td>\n",
       "    </tr>\n",
       "    <tr>\n",
       "      <th>19986</th>\n",
       "      <td>West</td>\n",
       "      <td>Office Supplies</td>\n",
       "      <td>Profit</td>\n",
       "      <td>13.3200</td>\n",
       "    </tr>\n",
       "    <tr>\n",
       "      <th>19987</th>\n",
       "      <td>West</td>\n",
       "      <td>Office Supplies</td>\n",
       "      <td>Profit</td>\n",
       "      <td>72.9480</td>\n",
       "    </tr>\n",
       "  </tbody>\n",
       "</table>\n",
       "<p>19988 rows × 4 columns</p>\n",
       "</div>"
      ],
      "text/plain": [
       "      Region         Category variable     value\n",
       "0      South        Furniture    Sales  261.9600\n",
       "1      South        Furniture    Sales  731.9400\n",
       "2       West  Office Supplies    Sales   14.6200\n",
       "3      South        Furniture    Sales  957.5775\n",
       "4      South  Office Supplies    Sales   22.3680\n",
       "...      ...              ...      ...       ...\n",
       "19983  South        Furniture   Profit    4.1028\n",
       "19984   West        Furniture   Profit   15.6332\n",
       "19985   West       Technology   Profit   19.3932\n",
       "19986   West  Office Supplies   Profit   13.3200\n",
       "19987   West  Office Supplies   Profit   72.9480\n",
       "\n",
       "[19988 rows x 4 columns]"
      ]
     },
     "execution_count": 89,
     "metadata": {},
     "output_type": "execute_result"
    }
   ],
   "source": [
    "# Melting Kolom Numerik\n",
    "melted"
   ]
  },
  {
   "cell_type": "code",
   "execution_count": 90,
   "id": "df2b2231",
   "metadata": {},
   "outputs": [
    {
     "data": {
      "text/html": [
       "<div>\n",
       "<style scoped>\n",
       "    .dataframe tbody tr th:only-of-type {\n",
       "        vertical-align: middle;\n",
       "    }\n",
       "\n",
       "    .dataframe tbody tr th {\n",
       "        vertical-align: top;\n",
       "    }\n",
       "\n",
       "    .dataframe thead th {\n",
       "        text-align: right;\n",
       "    }\n",
       "</style>\n",
       "<table border=\"1\" class=\"dataframe\">\n",
       "  <thead>\n",
       "    <tr style=\"text-align: right;\">\n",
       "      <th>Category</th>\n",
       "      <th>Furniture</th>\n",
       "      <th>Office Supplies</th>\n",
       "      <th>Technology</th>\n",
       "    </tr>\n",
       "    <tr>\n",
       "      <th>Region</th>\n",
       "      <th></th>\n",
       "      <th></th>\n",
       "      <th></th>\n",
       "    </tr>\n",
       "  </thead>\n",
       "  <tbody>\n",
       "    <tr>\n",
       "      <th>Central</th>\n",
       "      <td>163797.1638</td>\n",
       "      <td>167026.415</td>\n",
       "      <td>170416.312</td>\n",
       "    </tr>\n",
       "    <tr>\n",
       "      <th>East</th>\n",
       "      <td>208291.2040</td>\n",
       "      <td>205516.055</td>\n",
       "      <td>264973.981</td>\n",
       "    </tr>\n",
       "    <tr>\n",
       "      <th>South</th>\n",
       "      <td>117298.6840</td>\n",
       "      <td>125651.313</td>\n",
       "      <td>148771.908</td>\n",
       "    </tr>\n",
       "    <tr>\n",
       "      <th>West</th>\n",
       "      <td>252612.7435</td>\n",
       "      <td>220853.249</td>\n",
       "      <td>251991.832</td>\n",
       "    </tr>\n",
       "  </tbody>\n",
       "</table>\n",
       "</div>"
      ],
      "text/plain": [
       "Category    Furniture  Office Supplies  Technology\n",
       "Region                                            \n",
       "Central   163797.1638       167026.415  170416.312\n",
       "East      208291.2040       205516.055  264973.981\n",
       "South     117298.6840       125651.313  148771.908\n",
       "West      252612.7435       220853.249  251991.832"
      ]
     },
     "execution_count": 90,
     "metadata": {},
     "output_type": "execute_result"
    }
   ],
   "source": [
    "# hasil pivot (Sales berdasarkan Region dan Category):\n",
    "pivot"
   ]
  },
  {
   "cell_type": "code",
   "execution_count": 91,
   "id": "b34611db",
   "metadata": {},
   "outputs": [
    {
     "data": {
      "text/plain": [
       "Region   Category       \n",
       "Central  Furniture          163797.1638\n",
       "         Office Supplies    167026.4150\n",
       "         Technology         170416.3120\n",
       "East     Furniture          208291.2040\n",
       "         Office Supplies    205516.0550\n",
       "         Technology         264973.9810\n",
       "South    Furniture          117298.6840\n",
       "         Office Supplies    125651.3130\n",
       "         Technology         148771.9080\n",
       "West     Furniture          252612.7435\n",
       "         Office Supplies    220853.2490\n",
       "         Technology         251991.8320\n",
       "dtype: float64"
      ]
     },
     "execution_count": 91,
     "metadata": {},
     "output_type": "execute_result"
    }
   ],
   "source": [
    "# ubah kolom menjadi baris\n",
    "stacked"
   ]
  },
  {
   "cell_type": "code",
   "execution_count": 92,
   "id": "17f87749",
   "metadata": {},
   "outputs": [
    {
     "data": {
      "text/html": [
       "<div>\n",
       "<style scoped>\n",
       "    .dataframe tbody tr th:only-of-type {\n",
       "        vertical-align: middle;\n",
       "    }\n",
       "\n",
       "    .dataframe tbody tr th {\n",
       "        vertical-align: top;\n",
       "    }\n",
       "\n",
       "    .dataframe thead th {\n",
       "        text-align: right;\n",
       "    }\n",
       "</style>\n",
       "<table border=\"1\" class=\"dataframe\">\n",
       "  <thead>\n",
       "    <tr style=\"text-align: right;\">\n",
       "      <th>Category</th>\n",
       "      <th>Furniture</th>\n",
       "      <th>Office Supplies</th>\n",
       "      <th>Technology</th>\n",
       "    </tr>\n",
       "    <tr>\n",
       "      <th>Region</th>\n",
       "      <th></th>\n",
       "      <th></th>\n",
       "      <th></th>\n",
       "    </tr>\n",
       "  </thead>\n",
       "  <tbody>\n",
       "    <tr>\n",
       "      <th>Central</th>\n",
       "      <td>163797.1638</td>\n",
       "      <td>167026.415</td>\n",
       "      <td>170416.312</td>\n",
       "    </tr>\n",
       "    <tr>\n",
       "      <th>East</th>\n",
       "      <td>208291.2040</td>\n",
       "      <td>205516.055</td>\n",
       "      <td>264973.981</td>\n",
       "    </tr>\n",
       "    <tr>\n",
       "      <th>South</th>\n",
       "      <td>117298.6840</td>\n",
       "      <td>125651.313</td>\n",
       "      <td>148771.908</td>\n",
       "    </tr>\n",
       "    <tr>\n",
       "      <th>West</th>\n",
       "      <td>252612.7435</td>\n",
       "      <td>220853.249</td>\n",
       "      <td>251991.832</td>\n",
       "    </tr>\n",
       "  </tbody>\n",
       "</table>\n",
       "</div>"
      ],
      "text/plain": [
       "Category    Furniture  Office Supplies  Technology\n",
       "Region                                            \n",
       "Central   163797.1638       167026.415  170416.312\n",
       "East      208291.2040       205516.055  264973.981\n",
       "South     117298.6840       125651.313  148771.908\n",
       "West      252612.7435       220853.249  251991.832"
      ]
     },
     "execution_count": 92,
     "metadata": {},
     "output_type": "execute_result"
    }
   ],
   "source": [
    "# kembali jadi kolom\n",
    "unstacked"
   ]
  },
  {
   "cell_type": "code",
   "execution_count": 93,
   "id": "1ea98d64",
   "metadata": {},
   "outputs": [
    {
     "data": {
      "text/html": [
       "<div>\n",
       "<style scoped>\n",
       "    .dataframe tbody tr th:only-of-type {\n",
       "        vertical-align: middle;\n",
       "    }\n",
       "\n",
       "    .dataframe tbody tr th {\n",
       "        vertical-align: top;\n",
       "    }\n",
       "\n",
       "    .dataframe thead th {\n",
       "        text-align: right;\n",
       "    }\n",
       "</style>\n",
       "<table border=\"1\" class=\"dataframe\">\n",
       "  <thead>\n",
       "    <tr style=\"text-align: right;\">\n",
       "      <th></th>\n",
       "      <th>Region</th>\n",
       "      <th>Category</th>\n",
       "      <th>variable</th>\n",
       "      <th>value</th>\n",
       "    </tr>\n",
       "  </thead>\n",
       "  <tbody>\n",
       "    <tr>\n",
       "      <th>0</th>\n",
       "      <td>South</td>\n",
       "      <td>Furniture</td>\n",
       "      <td>Sales</td>\n",
       "      <td>261.9600</td>\n",
       "    </tr>\n",
       "    <tr>\n",
       "      <th>1</th>\n",
       "      <td>South</td>\n",
       "      <td>Furniture</td>\n",
       "      <td>Sales</td>\n",
       "      <td>731.9400</td>\n",
       "    </tr>\n",
       "    <tr>\n",
       "      <th>2</th>\n",
       "      <td>West</td>\n",
       "      <td>Office Supplies</td>\n",
       "      <td>Sales</td>\n",
       "      <td>14.6200</td>\n",
       "    </tr>\n",
       "    <tr>\n",
       "      <th>3</th>\n",
       "      <td>South</td>\n",
       "      <td>Furniture</td>\n",
       "      <td>Sales</td>\n",
       "      <td>957.5775</td>\n",
       "    </tr>\n",
       "    <tr>\n",
       "      <th>4</th>\n",
       "      <td>South</td>\n",
       "      <td>Office Supplies</td>\n",
       "      <td>Sales</td>\n",
       "      <td>22.3680</td>\n",
       "    </tr>\n",
       "  </tbody>\n",
       "</table>\n",
       "</div>"
      ],
      "text/plain": [
       "  Region         Category variable     value\n",
       "0  South        Furniture    Sales  261.9600\n",
       "1  South        Furniture    Sales  731.9400\n",
       "2   West  Office Supplies    Sales   14.6200\n",
       "3  South        Furniture    Sales  957.5775\n",
       "4  South  Office Supplies    Sales   22.3680"
      ]
     },
     "metadata": {},
     "output_type": "display_data"
    },
    {
     "data": {
      "text/html": [
       "<div>\n",
       "<style scoped>\n",
       "    .dataframe tbody tr th:only-of-type {\n",
       "        vertical-align: middle;\n",
       "    }\n",
       "\n",
       "    .dataframe tbody tr th {\n",
       "        vertical-align: top;\n",
       "    }\n",
       "\n",
       "    .dataframe thead th {\n",
       "        text-align: right;\n",
       "    }\n",
       "</style>\n",
       "<table border=\"1\" class=\"dataframe\">\n",
       "  <thead>\n",
       "    <tr style=\"text-align: right;\">\n",
       "      <th>Category</th>\n",
       "      <th>Furniture</th>\n",
       "      <th>Office Supplies</th>\n",
       "      <th>Technology</th>\n",
       "    </tr>\n",
       "    <tr>\n",
       "      <th>Region</th>\n",
       "      <th></th>\n",
       "      <th></th>\n",
       "      <th></th>\n",
       "    </tr>\n",
       "  </thead>\n",
       "  <tbody>\n",
       "    <tr>\n",
       "      <th>Central</th>\n",
       "      <td>163797.1638</td>\n",
       "      <td>167026.415</td>\n",
       "      <td>170416.312</td>\n",
       "    </tr>\n",
       "    <tr>\n",
       "      <th>East</th>\n",
       "      <td>208291.2040</td>\n",
       "      <td>205516.055</td>\n",
       "      <td>264973.981</td>\n",
       "    </tr>\n",
       "    <tr>\n",
       "      <th>South</th>\n",
       "      <td>117298.6840</td>\n",
       "      <td>125651.313</td>\n",
       "      <td>148771.908</td>\n",
       "    </tr>\n",
       "    <tr>\n",
       "      <th>West</th>\n",
       "      <td>252612.7435</td>\n",
       "      <td>220853.249</td>\n",
       "      <td>251991.832</td>\n",
       "    </tr>\n",
       "  </tbody>\n",
       "</table>\n",
       "</div>"
      ],
      "text/plain": [
       "Category    Furniture  Office Supplies  Technology\n",
       "Region                                            \n",
       "Central   163797.1638       167026.415  170416.312\n",
       "East      208291.2040       205516.055  264973.981\n",
       "South     117298.6840       125651.313  148771.908\n",
       "West      252612.7435       220853.249  251991.832"
      ]
     },
     "metadata": {},
     "output_type": "display_data"
    },
    {
     "data": {
      "text/plain": [
       "Region   Category       \n",
       "Central  Furniture          163797.1638\n",
       "         Office Supplies    167026.4150\n",
       "         Technology         170416.3120\n",
       "East     Furniture          208291.2040\n",
       "         Office Supplies    205516.0550\n",
       "dtype: float64"
      ]
     },
     "metadata": {},
     "output_type": "display_data"
    },
    {
     "data": {
      "text/html": [
       "<div>\n",
       "<style scoped>\n",
       "    .dataframe tbody tr th:only-of-type {\n",
       "        vertical-align: middle;\n",
       "    }\n",
       "\n",
       "    .dataframe tbody tr th {\n",
       "        vertical-align: top;\n",
       "    }\n",
       "\n",
       "    .dataframe thead th {\n",
       "        text-align: right;\n",
       "    }\n",
       "</style>\n",
       "<table border=\"1\" class=\"dataframe\">\n",
       "  <thead>\n",
       "    <tr style=\"text-align: right;\">\n",
       "      <th>Category</th>\n",
       "      <th>Furniture</th>\n",
       "      <th>Office Supplies</th>\n",
       "      <th>Technology</th>\n",
       "    </tr>\n",
       "    <tr>\n",
       "      <th>Region</th>\n",
       "      <th></th>\n",
       "      <th></th>\n",
       "      <th></th>\n",
       "    </tr>\n",
       "  </thead>\n",
       "  <tbody>\n",
       "    <tr>\n",
       "      <th>Central</th>\n",
       "      <td>163797.1638</td>\n",
       "      <td>167026.415</td>\n",
       "      <td>170416.312</td>\n",
       "    </tr>\n",
       "    <tr>\n",
       "      <th>East</th>\n",
       "      <td>208291.2040</td>\n",
       "      <td>205516.055</td>\n",
       "      <td>264973.981</td>\n",
       "    </tr>\n",
       "    <tr>\n",
       "      <th>South</th>\n",
       "      <td>117298.6840</td>\n",
       "      <td>125651.313</td>\n",
       "      <td>148771.908</td>\n",
       "    </tr>\n",
       "    <tr>\n",
       "      <th>West</th>\n",
       "      <td>252612.7435</td>\n",
       "      <td>220853.249</td>\n",
       "      <td>251991.832</td>\n",
       "    </tr>\n",
       "  </tbody>\n",
       "</table>\n",
       "</div>"
      ],
      "text/plain": [
       "Category    Furniture  Office Supplies  Technology\n",
       "Region                                            \n",
       "Central   163797.1638       167026.415  170416.312\n",
       "East      208291.2040       205516.055  264973.981\n",
       "South     117298.6840       125651.313  148771.908\n",
       "West      252612.7435       220853.249  251991.832"
      ]
     },
     "metadata": {},
     "output_type": "display_data"
    }
   ],
   "source": [
    "# buat liat hasil semua\n",
    "display(melted.head())\n",
    "display(pivot)\n",
    "display(stacked.head())\n",
    "display(unstacked)"
   ]
  },
  {
   "cell_type": "markdown",
   "id": "adf7488e",
   "metadata": {},
   "source": [
    "## 5. Time Series\n",
    "Topik: parsing waktu, datetime, to_datetime(), weekday, dll."
   ]
  },
  {
   "cell_type": "code",
   "execution_count": 95,
   "id": "d57a246f",
   "metadata": {},
   "outputs": [],
   "source": [
    "# Ubah kolom Order Date menjadi datetime\n",
    "df[\"Order Date\"] = pd.to_datetime(df[\"Order Date\"])\n",
    "\n",
    "# Ekstrak informasi waktu\n",
    "df[\"Year\"] = df[\"Order Date\"].dt.year\n",
    "df[\"Month\"] = df[\"Order Date\"].dt.month\n",
    "df[\"Day\"] = df[\"Order Date\"].dt.day\n",
    "df[\"Weekday\"] = df[\"Order Date\"].dt.day_name()\n",
    "\n",
    "# Filter data berdasarkan tahun\n",
    "df_2017 = df[df[\"Order Date\"].dt.year == 2017]"
   ]
  },
  {
   "cell_type": "code",
   "execution_count": 96,
   "id": "23e24c69",
   "metadata": {},
   "outputs": [
    {
     "data": {
      "text/html": [
       "<div>\n",
       "<style scoped>\n",
       "    .dataframe tbody tr th:only-of-type {\n",
       "        vertical-align: middle;\n",
       "    }\n",
       "\n",
       "    .dataframe tbody tr th {\n",
       "        vertical-align: top;\n",
       "    }\n",
       "\n",
       "    .dataframe thead th {\n",
       "        text-align: right;\n",
       "    }\n",
       "</style>\n",
       "<table border=\"1\" class=\"dataframe\">\n",
       "  <thead>\n",
       "    <tr style=\"text-align: right;\">\n",
       "      <th></th>\n",
       "      <th>Order Date</th>\n",
       "      <th>Year</th>\n",
       "      <th>Month</th>\n",
       "      <th>Day</th>\n",
       "      <th>Weekday</th>\n",
       "    </tr>\n",
       "  </thead>\n",
       "  <tbody>\n",
       "    <tr>\n",
       "      <th>0</th>\n",
       "      <td>2016-11-08</td>\n",
       "      <td>2016</td>\n",
       "      <td>11</td>\n",
       "      <td>8</td>\n",
       "      <td>Tuesday</td>\n",
       "    </tr>\n",
       "    <tr>\n",
       "      <th>1</th>\n",
       "      <td>2016-11-08</td>\n",
       "      <td>2016</td>\n",
       "      <td>11</td>\n",
       "      <td>8</td>\n",
       "      <td>Tuesday</td>\n",
       "    </tr>\n",
       "    <tr>\n",
       "      <th>2</th>\n",
       "      <td>2016-06-12</td>\n",
       "      <td>2016</td>\n",
       "      <td>6</td>\n",
       "      <td>12</td>\n",
       "      <td>Sunday</td>\n",
       "    </tr>\n",
       "    <tr>\n",
       "      <th>3</th>\n",
       "      <td>2015-10-11</td>\n",
       "      <td>2015</td>\n",
       "      <td>10</td>\n",
       "      <td>11</td>\n",
       "      <td>Sunday</td>\n",
       "    </tr>\n",
       "    <tr>\n",
       "      <th>4</th>\n",
       "      <td>2015-10-11</td>\n",
       "      <td>2015</td>\n",
       "      <td>10</td>\n",
       "      <td>11</td>\n",
       "      <td>Sunday</td>\n",
       "    </tr>\n",
       "  </tbody>\n",
       "</table>\n",
       "</div>"
      ],
      "text/plain": [
       "  Order Date  Year  Month  Day  Weekday\n",
       "0 2016-11-08  2016     11    8  Tuesday\n",
       "1 2016-11-08  2016     11    8  Tuesday\n",
       "2 2016-06-12  2016      6   12   Sunday\n",
       "3 2015-10-11  2015     10   11   Sunday\n",
       "4 2015-10-11  2015     10   11   Sunday"
      ]
     },
     "execution_count": 96,
     "metadata": {},
     "output_type": "execute_result"
    }
   ],
   "source": [
    "# Melihat hasil konversi kolom Order Date dan kolom waktu baru\n",
    "df[[\"Order Date\", \"Year\", \"Month\", \"Day\", \"Weekday\"]].head()"
   ]
  },
  {
   "cell_type": "code",
   "execution_count": 97,
   "id": "d44e7988",
   "metadata": {},
   "outputs": [
    {
     "data": {
      "text/html": [
       "<div>\n",
       "<style scoped>\n",
       "    .dataframe tbody tr th:only-of-type {\n",
       "        vertical-align: middle;\n",
       "    }\n",
       "\n",
       "    .dataframe tbody tr th {\n",
       "        vertical-align: top;\n",
       "    }\n",
       "\n",
       "    .dataframe thead th {\n",
       "        text-align: right;\n",
       "    }\n",
       "</style>\n",
       "<table border=\"1\" class=\"dataframe\">\n",
       "  <thead>\n",
       "    <tr style=\"text-align: right;\">\n",
       "      <th></th>\n",
       "      <th>Row ID</th>\n",
       "      <th>Order ID</th>\n",
       "      <th>Order Date</th>\n",
       "      <th>Ship Date</th>\n",
       "      <th>Ship Mode</th>\n",
       "      <th>Customer ID</th>\n",
       "      <th>Customer Name</th>\n",
       "      <th>Segment</th>\n",
       "      <th>Country</th>\n",
       "      <th>City</th>\n",
       "      <th>...</th>\n",
       "      <th>Sub-Category</th>\n",
       "      <th>Product Name</th>\n",
       "      <th>Sales</th>\n",
       "      <th>Quantity</th>\n",
       "      <th>Discount</th>\n",
       "      <th>Profit</th>\n",
       "      <th>Year</th>\n",
       "      <th>Month</th>\n",
       "      <th>Day</th>\n",
       "      <th>Weekday</th>\n",
       "    </tr>\n",
       "  </thead>\n",
       "  <tbody>\n",
       "    <tr>\n",
       "      <th>12</th>\n",
       "      <td>13</td>\n",
       "      <td>CA-2017-114412</td>\n",
       "      <td>2017-04-15</td>\n",
       "      <td>4/20/2017</td>\n",
       "      <td>Standard Class</td>\n",
       "      <td>AA-10480</td>\n",
       "      <td>Andrew Allen</td>\n",
       "      <td>Consumer</td>\n",
       "      <td>United States</td>\n",
       "      <td>Concord</td>\n",
       "      <td>...</td>\n",
       "      <td>Paper</td>\n",
       "      <td>Xerox 1967</td>\n",
       "      <td>15.552</td>\n",
       "      <td>3</td>\n",
       "      <td>0.2</td>\n",
       "      <td>5.4432</td>\n",
       "      <td>2017</td>\n",
       "      <td>4</td>\n",
       "      <td>15</td>\n",
       "      <td>Saturday</td>\n",
       "    </tr>\n",
       "    <tr>\n",
       "      <th>23</th>\n",
       "      <td>24</td>\n",
       "      <td>US-2017-156909</td>\n",
       "      <td>2017-07-16</td>\n",
       "      <td>7/18/2017</td>\n",
       "      <td>Second Class</td>\n",
       "      <td>SF-20065</td>\n",
       "      <td>Sandra Flanagan</td>\n",
       "      <td>Consumer</td>\n",
       "      <td>United States</td>\n",
       "      <td>Philadelphia</td>\n",
       "      <td>...</td>\n",
       "      <td>Chairs</td>\n",
       "      <td>Global Deluxe Stacking Chair, Gray</td>\n",
       "      <td>71.372</td>\n",
       "      <td>2</td>\n",
       "      <td>0.3</td>\n",
       "      <td>-1.0196</td>\n",
       "      <td>2017</td>\n",
       "      <td>7</td>\n",
       "      <td>16</td>\n",
       "      <td>Sunday</td>\n",
       "    </tr>\n",
       "    <tr>\n",
       "      <th>34</th>\n",
       "      <td>35</td>\n",
       "      <td>CA-2017-107727</td>\n",
       "      <td>2017-10-19</td>\n",
       "      <td>10/23/2017</td>\n",
       "      <td>Second Class</td>\n",
       "      <td>MA-17560</td>\n",
       "      <td>Matt Abelman</td>\n",
       "      <td>Home Office</td>\n",
       "      <td>United States</td>\n",
       "      <td>Houston</td>\n",
       "      <td>...</td>\n",
       "      <td>Paper</td>\n",
       "      <td>Easy-staple paper</td>\n",
       "      <td>29.472</td>\n",
       "      <td>3</td>\n",
       "      <td>0.2</td>\n",
       "      <td>9.9468</td>\n",
       "      <td>2017</td>\n",
       "      <td>10</td>\n",
       "      <td>19</td>\n",
       "      <td>Thursday</td>\n",
       "    </tr>\n",
       "    <tr>\n",
       "      <th>41</th>\n",
       "      <td>42</td>\n",
       "      <td>CA-2017-120999</td>\n",
       "      <td>2017-09-10</td>\n",
       "      <td>9/15/2017</td>\n",
       "      <td>Standard Class</td>\n",
       "      <td>LC-16930</td>\n",
       "      <td>Linda Cazamias</td>\n",
       "      <td>Corporate</td>\n",
       "      <td>United States</td>\n",
       "      <td>Naperville</td>\n",
       "      <td>...</td>\n",
       "      <td>Phones</td>\n",
       "      <td>Panasonic Kx-TS550</td>\n",
       "      <td>147.168</td>\n",
       "      <td>4</td>\n",
       "      <td>0.2</td>\n",
       "      <td>16.5564</td>\n",
       "      <td>2017</td>\n",
       "      <td>9</td>\n",
       "      <td>10</td>\n",
       "      <td>Sunday</td>\n",
       "    </tr>\n",
       "    <tr>\n",
       "      <th>43</th>\n",
       "      <td>44</td>\n",
       "      <td>CA-2017-139619</td>\n",
       "      <td>2017-09-19</td>\n",
       "      <td>9/23/2017</td>\n",
       "      <td>Standard Class</td>\n",
       "      <td>ES-14080</td>\n",
       "      <td>Erin Smith</td>\n",
       "      <td>Corporate</td>\n",
       "      <td>United States</td>\n",
       "      <td>Melbourne</td>\n",
       "      <td>...</td>\n",
       "      <td>Storage</td>\n",
       "      <td>Advantus 10-Drawer Portable Organizer, Chrome ...</td>\n",
       "      <td>95.616</td>\n",
       "      <td>2</td>\n",
       "      <td>0.2</td>\n",
       "      <td>9.5616</td>\n",
       "      <td>2017</td>\n",
       "      <td>9</td>\n",
       "      <td>19</td>\n",
       "      <td>Tuesday</td>\n",
       "    </tr>\n",
       "  </tbody>\n",
       "</table>\n",
       "<p>5 rows × 25 columns</p>\n",
       "</div>"
      ],
      "text/plain": [
       "    Row ID        Order ID Order Date   Ship Date       Ship Mode Customer ID  \\\n",
       "12      13  CA-2017-114412 2017-04-15   4/20/2017  Standard Class    AA-10480   \n",
       "23      24  US-2017-156909 2017-07-16   7/18/2017    Second Class    SF-20065   \n",
       "34      35  CA-2017-107727 2017-10-19  10/23/2017    Second Class    MA-17560   \n",
       "41      42  CA-2017-120999 2017-09-10   9/15/2017  Standard Class    LC-16930   \n",
       "43      44  CA-2017-139619 2017-09-19   9/23/2017  Standard Class    ES-14080   \n",
       "\n",
       "      Customer Name      Segment        Country          City  ...  \\\n",
       "12     Andrew Allen     Consumer  United States       Concord  ...   \n",
       "23  Sandra Flanagan     Consumer  United States  Philadelphia  ...   \n",
       "34     Matt Abelman  Home Office  United States       Houston  ...   \n",
       "41   Linda Cazamias    Corporate  United States    Naperville  ...   \n",
       "43       Erin Smith    Corporate  United States     Melbourne  ...   \n",
       "\n",
       "   Sub-Category                                       Product Name    Sales  \\\n",
       "12        Paper                                         Xerox 1967   15.552   \n",
       "23       Chairs                 Global Deluxe Stacking Chair, Gray   71.372   \n",
       "34        Paper                                  Easy-staple paper   29.472   \n",
       "41       Phones                                 Panasonic Kx-TS550  147.168   \n",
       "43      Storage  Advantus 10-Drawer Portable Organizer, Chrome ...   95.616   \n",
       "\n",
       "   Quantity Discount   Profit  Year  Month  Day   Weekday  \n",
       "12        3      0.2   5.4432  2017      4   15  Saturday  \n",
       "23        2      0.3  -1.0196  2017      7   16    Sunday  \n",
       "34        3      0.2   9.9468  2017     10   19  Thursday  \n",
       "41        4      0.2  16.5564  2017      9   10    Sunday  \n",
       "43        2      0.2   9.5616  2017      9   19   Tuesday  \n",
       "\n",
       "[5 rows x 25 columns]"
      ]
     },
     "execution_count": 97,
     "metadata": {},
     "output_type": "execute_result"
    }
   ],
   "source": [
    "# Menampilkan data yang hanya terjadi di tahun 2017\n",
    "df_2017.head()"
   ]
  },
  {
   "cell_type": "code",
   "execution_count": 98,
   "id": "16d657df",
   "metadata": {},
   "outputs": [
    {
     "data": {
      "text/plain": [
       "3312"
      ]
     },
     "execution_count": 98,
     "metadata": {},
     "output_type": "execute_result"
    }
   ],
   "source": [
    "# kalau ingin tahu berapa banyak data dalam tahun 2017\n",
    "len(df_2017)"
   ]
  },
  {
   "cell_type": "code",
   "execution_count": 99,
   "id": "03819ddd",
   "metadata": {},
   "outputs": [
    {
     "data": {
      "text/plain": [
       "(3312, 25)"
      ]
     },
     "execution_count": 99,
     "metadata": {},
     "output_type": "execute_result"
    }
   ],
   "source": [
    "df_2017.shape"
   ]
  },
  {
   "cell_type": "markdown",
   "id": "931c8462",
   "metadata": {},
   "source": [
    "### Penjelasan :\n",
    "- 3312 baris: Ada 3312 transaksi (record) yang terjadi di tahun 2017.\n",
    "\n",
    "- 25 kolom: Setiap baris memiliki 25 atribut (kolom), seperti Order Date, Sales, Profit, Category, dll.\n",
    "\n",
    "- Dataset df_2017 memiliki 3312 baris data dan 25 kolom, yang merupakan subset dari data original berdasarkan filter tahun 2017."
   ]
  },
  {
   "cell_type": "code",
   "execution_count": 100,
   "id": "74ed67a3",
   "metadata": {},
   "outputs": [
    {
     "data": {
      "text/plain": [
       "Month\n",
       "1     155\n",
       "2     107\n",
       "3     238\n",
       "4     203\n",
       "5     242\n",
       "6     245\n",
       "7     226\n",
       "8     218\n",
       "9     459\n",
       "10    298\n",
       "11    459\n",
       "12    462\n",
       "Name: count, dtype: int64"
      ]
     },
     "execution_count": 100,
     "metadata": {},
     "output_type": "execute_result"
    }
   ],
   "source": [
    "# Menampilkan jumlah transaksi per bulan di tahun 2017\n",
    "df_2017[\"Month\"].value_counts().sort_index()"
   ]
  },
  {
   "cell_type": "code",
   "execution_count": 102,
   "id": "7429ac56",
   "metadata": {},
   "outputs": [
    {
     "data": {
      "text/plain": [
       "Month\n",
       "1     155\n",
       "2     107\n",
       "3     238\n",
       "4     203\n",
       "5     242\n",
       "6     245\n",
       "7     226\n",
       "8     218\n",
       "9     459\n",
       "10    298\n",
       "11    459\n",
       "12    462\n",
       "Name: Order ID, dtype: int64"
      ]
     },
     "execution_count": 102,
     "metadata": {},
     "output_type": "execute_result"
    }
   ],
   "source": [
    "# tabel\n",
    "df_2017.groupby(\"Month\")[\"Order ID\"].count()"
   ]
  },
  {
   "cell_type": "code",
   "execution_count": 103,
   "id": "1d989e6b",
   "metadata": {},
   "outputs": [
    {
     "data": {
      "text/html": [
       "<div>\n",
       "<style scoped>\n",
       "    .dataframe tbody tr th:only-of-type {\n",
       "        vertical-align: middle;\n",
       "    }\n",
       "\n",
       "    .dataframe tbody tr th {\n",
       "        vertical-align: top;\n",
       "    }\n",
       "\n",
       "    .dataframe thead th {\n",
       "        text-align: right;\n",
       "    }\n",
       "</style>\n",
       "<table border=\"1\" class=\"dataframe\">\n",
       "  <thead>\n",
       "    <tr style=\"text-align: right;\">\n",
       "      <th></th>\n",
       "      <th>Order Date</th>\n",
       "      <th>Year</th>\n",
       "      <th>Month</th>\n",
       "      <th>Day</th>\n",
       "      <th>Weekday</th>\n",
       "    </tr>\n",
       "  </thead>\n",
       "  <tbody>\n",
       "    <tr>\n",
       "      <th>0</th>\n",
       "      <td>2016-11-08</td>\n",
       "      <td>2016</td>\n",
       "      <td>11</td>\n",
       "      <td>8</td>\n",
       "      <td>Tuesday</td>\n",
       "    </tr>\n",
       "    <tr>\n",
       "      <th>1</th>\n",
       "      <td>2016-11-08</td>\n",
       "      <td>2016</td>\n",
       "      <td>11</td>\n",
       "      <td>8</td>\n",
       "      <td>Tuesday</td>\n",
       "    </tr>\n",
       "    <tr>\n",
       "      <th>2</th>\n",
       "      <td>2016-06-12</td>\n",
       "      <td>2016</td>\n",
       "      <td>6</td>\n",
       "      <td>12</td>\n",
       "      <td>Sunday</td>\n",
       "    </tr>\n",
       "    <tr>\n",
       "      <th>3</th>\n",
       "      <td>2015-10-11</td>\n",
       "      <td>2015</td>\n",
       "      <td>10</td>\n",
       "      <td>11</td>\n",
       "      <td>Sunday</td>\n",
       "    </tr>\n",
       "    <tr>\n",
       "      <th>4</th>\n",
       "      <td>2015-10-11</td>\n",
       "      <td>2015</td>\n",
       "      <td>10</td>\n",
       "      <td>11</td>\n",
       "      <td>Sunday</td>\n",
       "    </tr>\n",
       "  </tbody>\n",
       "</table>\n",
       "</div>"
      ],
      "text/plain": [
       "  Order Date  Year  Month  Day  Weekday\n",
       "0 2016-11-08  2016     11    8  Tuesday\n",
       "1 2016-11-08  2016     11    8  Tuesday\n",
       "2 2016-06-12  2016      6   12   Sunday\n",
       "3 2015-10-11  2015     10   11   Sunday\n",
       "4 2015-10-11  2015     10   11   Sunday"
      ]
     },
     "metadata": {},
     "output_type": "display_data"
    },
    {
     "data": {
      "text/html": [
       "<div>\n",
       "<style scoped>\n",
       "    .dataframe tbody tr th:only-of-type {\n",
       "        vertical-align: middle;\n",
       "    }\n",
       "\n",
       "    .dataframe tbody tr th {\n",
       "        vertical-align: top;\n",
       "    }\n",
       "\n",
       "    .dataframe thead th {\n",
       "        text-align: right;\n",
       "    }\n",
       "</style>\n",
       "<table border=\"1\" class=\"dataframe\">\n",
       "  <thead>\n",
       "    <tr style=\"text-align: right;\">\n",
       "      <th></th>\n",
       "      <th>Row ID</th>\n",
       "      <th>Order ID</th>\n",
       "      <th>Order Date</th>\n",
       "      <th>Ship Date</th>\n",
       "      <th>Ship Mode</th>\n",
       "      <th>Customer ID</th>\n",
       "      <th>Customer Name</th>\n",
       "      <th>Segment</th>\n",
       "      <th>Country</th>\n",
       "      <th>City</th>\n",
       "      <th>...</th>\n",
       "      <th>Sub-Category</th>\n",
       "      <th>Product Name</th>\n",
       "      <th>Sales</th>\n",
       "      <th>Quantity</th>\n",
       "      <th>Discount</th>\n",
       "      <th>Profit</th>\n",
       "      <th>Year</th>\n",
       "      <th>Month</th>\n",
       "      <th>Day</th>\n",
       "      <th>Weekday</th>\n",
       "    </tr>\n",
       "  </thead>\n",
       "  <tbody>\n",
       "    <tr>\n",
       "      <th>12</th>\n",
       "      <td>13</td>\n",
       "      <td>CA-2017-114412</td>\n",
       "      <td>2017-04-15</td>\n",
       "      <td>4/20/2017</td>\n",
       "      <td>Standard Class</td>\n",
       "      <td>AA-10480</td>\n",
       "      <td>Andrew Allen</td>\n",
       "      <td>Consumer</td>\n",
       "      <td>United States</td>\n",
       "      <td>Concord</td>\n",
       "      <td>...</td>\n",
       "      <td>Paper</td>\n",
       "      <td>Xerox 1967</td>\n",
       "      <td>15.552</td>\n",
       "      <td>3</td>\n",
       "      <td>0.2</td>\n",
       "      <td>5.4432</td>\n",
       "      <td>2017</td>\n",
       "      <td>4</td>\n",
       "      <td>15</td>\n",
       "      <td>Saturday</td>\n",
       "    </tr>\n",
       "    <tr>\n",
       "      <th>23</th>\n",
       "      <td>24</td>\n",
       "      <td>US-2017-156909</td>\n",
       "      <td>2017-07-16</td>\n",
       "      <td>7/18/2017</td>\n",
       "      <td>Second Class</td>\n",
       "      <td>SF-20065</td>\n",
       "      <td>Sandra Flanagan</td>\n",
       "      <td>Consumer</td>\n",
       "      <td>United States</td>\n",
       "      <td>Philadelphia</td>\n",
       "      <td>...</td>\n",
       "      <td>Chairs</td>\n",
       "      <td>Global Deluxe Stacking Chair, Gray</td>\n",
       "      <td>71.372</td>\n",
       "      <td>2</td>\n",
       "      <td>0.3</td>\n",
       "      <td>-1.0196</td>\n",
       "      <td>2017</td>\n",
       "      <td>7</td>\n",
       "      <td>16</td>\n",
       "      <td>Sunday</td>\n",
       "    </tr>\n",
       "    <tr>\n",
       "      <th>34</th>\n",
       "      <td>35</td>\n",
       "      <td>CA-2017-107727</td>\n",
       "      <td>2017-10-19</td>\n",
       "      <td>10/23/2017</td>\n",
       "      <td>Second Class</td>\n",
       "      <td>MA-17560</td>\n",
       "      <td>Matt Abelman</td>\n",
       "      <td>Home Office</td>\n",
       "      <td>United States</td>\n",
       "      <td>Houston</td>\n",
       "      <td>...</td>\n",
       "      <td>Paper</td>\n",
       "      <td>Easy-staple paper</td>\n",
       "      <td>29.472</td>\n",
       "      <td>3</td>\n",
       "      <td>0.2</td>\n",
       "      <td>9.9468</td>\n",
       "      <td>2017</td>\n",
       "      <td>10</td>\n",
       "      <td>19</td>\n",
       "      <td>Thursday</td>\n",
       "    </tr>\n",
       "    <tr>\n",
       "      <th>41</th>\n",
       "      <td>42</td>\n",
       "      <td>CA-2017-120999</td>\n",
       "      <td>2017-09-10</td>\n",
       "      <td>9/15/2017</td>\n",
       "      <td>Standard Class</td>\n",
       "      <td>LC-16930</td>\n",
       "      <td>Linda Cazamias</td>\n",
       "      <td>Corporate</td>\n",
       "      <td>United States</td>\n",
       "      <td>Naperville</td>\n",
       "      <td>...</td>\n",
       "      <td>Phones</td>\n",
       "      <td>Panasonic Kx-TS550</td>\n",
       "      <td>147.168</td>\n",
       "      <td>4</td>\n",
       "      <td>0.2</td>\n",
       "      <td>16.5564</td>\n",
       "      <td>2017</td>\n",
       "      <td>9</td>\n",
       "      <td>10</td>\n",
       "      <td>Sunday</td>\n",
       "    </tr>\n",
       "    <tr>\n",
       "      <th>43</th>\n",
       "      <td>44</td>\n",
       "      <td>CA-2017-139619</td>\n",
       "      <td>2017-09-19</td>\n",
       "      <td>9/23/2017</td>\n",
       "      <td>Standard Class</td>\n",
       "      <td>ES-14080</td>\n",
       "      <td>Erin Smith</td>\n",
       "      <td>Corporate</td>\n",
       "      <td>United States</td>\n",
       "      <td>Melbourne</td>\n",
       "      <td>...</td>\n",
       "      <td>Storage</td>\n",
       "      <td>Advantus 10-Drawer Portable Organizer, Chrome ...</td>\n",
       "      <td>95.616</td>\n",
       "      <td>2</td>\n",
       "      <td>0.2</td>\n",
       "      <td>9.5616</td>\n",
       "      <td>2017</td>\n",
       "      <td>9</td>\n",
       "      <td>19</td>\n",
       "      <td>Tuesday</td>\n",
       "    </tr>\n",
       "  </tbody>\n",
       "</table>\n",
       "<p>5 rows × 25 columns</p>\n",
       "</div>"
      ],
      "text/plain": [
       "    Row ID        Order ID Order Date   Ship Date       Ship Mode Customer ID  \\\n",
       "12      13  CA-2017-114412 2017-04-15   4/20/2017  Standard Class    AA-10480   \n",
       "23      24  US-2017-156909 2017-07-16   7/18/2017    Second Class    SF-20065   \n",
       "34      35  CA-2017-107727 2017-10-19  10/23/2017    Second Class    MA-17560   \n",
       "41      42  CA-2017-120999 2017-09-10   9/15/2017  Standard Class    LC-16930   \n",
       "43      44  CA-2017-139619 2017-09-19   9/23/2017  Standard Class    ES-14080   \n",
       "\n",
       "      Customer Name      Segment        Country          City  ...  \\\n",
       "12     Andrew Allen     Consumer  United States       Concord  ...   \n",
       "23  Sandra Flanagan     Consumer  United States  Philadelphia  ...   \n",
       "34     Matt Abelman  Home Office  United States       Houston  ...   \n",
       "41   Linda Cazamias    Corporate  United States    Naperville  ...   \n",
       "43       Erin Smith    Corporate  United States     Melbourne  ...   \n",
       "\n",
       "   Sub-Category                                       Product Name    Sales  \\\n",
       "12        Paper                                         Xerox 1967   15.552   \n",
       "23       Chairs                 Global Deluxe Stacking Chair, Gray   71.372   \n",
       "34        Paper                                  Easy-staple paper   29.472   \n",
       "41       Phones                                 Panasonic Kx-TS550  147.168   \n",
       "43      Storage  Advantus 10-Drawer Portable Organizer, Chrome ...   95.616   \n",
       "\n",
       "   Quantity Discount   Profit  Year  Month  Day   Weekday  \n",
       "12        3      0.2   5.4432  2017      4   15  Saturday  \n",
       "23        2      0.3  -1.0196  2017      7   16    Sunday  \n",
       "34        3      0.2   9.9468  2017     10   19  Thursday  \n",
       "41        4      0.2  16.5564  2017      9   10    Sunday  \n",
       "43        2      0.2   9.5616  2017      9   19   Tuesday  \n",
       "\n",
       "[5 rows x 25 columns]"
      ]
     },
     "metadata": {},
     "output_type": "display_data"
    },
    {
     "data": {
      "text/plain": [
       "Month\n",
       "1     155\n",
       "2     107\n",
       "3     238\n",
       "4     203\n",
       "5     242\n",
       "6     245\n",
       "7     226\n",
       "8     218\n",
       "9     459\n",
       "10    298\n",
       "11    459\n",
       "12    462\n",
       "Name: Order ID, dtype: int64"
      ]
     },
     "metadata": {},
     "output_type": "display_data"
    }
   ],
   "source": [
    "# untuk menampilkan semua\n",
    "display(df[[\"Order Date\", \"Year\", \"Month\", \"Day\", \"Weekday\"]].head())\n",
    "display(df_2017.head())\n",
    "display(df_2017.groupby(\"Month\")[\"Order ID\"].count())"
   ]
  },
  {
   "cell_type": "markdown",
   "id": "24508102",
   "metadata": {},
   "source": [
    "------------------"
   ]
  },
  {
   "cell_type": "markdown",
   "id": "932d4b9e",
   "metadata": {},
   "source": [
    "## Latihan"
   ]
  },
  {
   "cell_type": "markdown",
   "id": "e8815392",
   "metadata": {},
   "source": [
    "### Soal 1\n",
    "Berapa total penjualan (Sales) untuk setiap kategori (Category)?"
   ]
  },
  {
   "cell_type": "code",
   "execution_count": 104,
   "id": "a58587df",
   "metadata": {},
   "outputs": [
    {
     "data": {
      "text/html": [
       "<div>\n",
       "<style scoped>\n",
       "    .dataframe tbody tr th:only-of-type {\n",
       "        vertical-align: middle;\n",
       "    }\n",
       "\n",
       "    .dataframe tbody tr th {\n",
       "        vertical-align: top;\n",
       "    }\n",
       "\n",
       "    .dataframe thead th {\n",
       "        text-align: right;\n",
       "    }\n",
       "</style>\n",
       "<table border=\"1\" class=\"dataframe\">\n",
       "  <thead>\n",
       "    <tr style=\"text-align: right;\">\n",
       "      <th></th>\n",
       "      <th>Category</th>\n",
       "      <th>Total Sales</th>\n",
       "    </tr>\n",
       "  </thead>\n",
       "  <tbody>\n",
       "    <tr>\n",
       "      <th>0</th>\n",
       "      <td>Furniture</td>\n",
       "      <td>741999.7953</td>\n",
       "    </tr>\n",
       "    <tr>\n",
       "      <th>1</th>\n",
       "      <td>Office Supplies</td>\n",
       "      <td>719047.0320</td>\n",
       "    </tr>\n",
       "    <tr>\n",
       "      <th>2</th>\n",
       "      <td>Technology</td>\n",
       "      <td>836154.0330</td>\n",
       "    </tr>\n",
       "  </tbody>\n",
       "</table>\n",
       "</div>"
      ],
      "text/plain": [
       "          Category  Total Sales\n",
       "0        Furniture  741999.7953\n",
       "1  Office Supplies  719047.0320\n",
       "2       Technology  836154.0330"
      ]
     },
     "execution_count": 104,
     "metadata": {},
     "output_type": "execute_result"
    }
   ],
   "source": [
    "# Write Your Code Here\n",
    "sales_per_category = df.groupby(\"Category\")[\"Sales\"].sum().reset_index()\n",
    "sales_per_category.columns = [\"Category\", \"Total Sales\"]\n",
    "\n",
    "sales_per_category\n"
   ]
  },
  {
   "cell_type": "markdown",
   "id": "7f14ee60",
   "metadata": {},
   "source": [
    "### Soal 2\n",
    "Tampilkan rata-rata profit per Ship Mode dalam bentuk pivot table."
   ]
  },
  {
   "cell_type": "code",
   "execution_count": 105,
   "id": "b560ebb2",
   "metadata": {},
   "outputs": [
    {
     "data": {
      "text/html": [
       "<div>\n",
       "<style scoped>\n",
       "    .dataframe tbody tr th:only-of-type {\n",
       "        vertical-align: middle;\n",
       "    }\n",
       "\n",
       "    .dataframe tbody tr th {\n",
       "        vertical-align: top;\n",
       "    }\n",
       "\n",
       "    .dataframe thead th {\n",
       "        text-align: right;\n",
       "    }\n",
       "</style>\n",
       "<table border=\"1\" class=\"dataframe\">\n",
       "  <thead>\n",
       "    <tr style=\"text-align: right;\">\n",
       "      <th></th>\n",
       "      <th>Profit</th>\n",
       "    </tr>\n",
       "    <tr>\n",
       "      <th>Ship Mode</th>\n",
       "      <th></th>\n",
       "    </tr>\n",
       "  </thead>\n",
       "  <tbody>\n",
       "    <tr>\n",
       "      <th>First Class</th>\n",
       "      <td>31.839948</td>\n",
       "    </tr>\n",
       "    <tr>\n",
       "      <th>Same Day</th>\n",
       "      <td>29.266591</td>\n",
       "    </tr>\n",
       "    <tr>\n",
       "      <th>Second Class</th>\n",
       "      <td>29.535545</td>\n",
       "    </tr>\n",
       "    <tr>\n",
       "      <th>Standard Class</th>\n",
       "      <td>27.494770</td>\n",
       "    </tr>\n",
       "  </tbody>\n",
       "</table>\n",
       "</div>"
      ],
      "text/plain": [
       "                   Profit\n",
       "Ship Mode                \n",
       "First Class     31.839948\n",
       "Same Day        29.266591\n",
       "Second Class    29.535545\n",
       "Standard Class  27.494770"
      ]
     },
     "execution_count": 105,
     "metadata": {},
     "output_type": "execute_result"
    }
   ],
   "source": [
    "# Write Your Code Here\n",
    "pd.pivot_table(df, values=\"Profit\", index=\"Ship Mode\", aggfunc=\"mean\")"
   ]
  },
  {
   "cell_type": "markdown",
   "id": "74450390",
   "metadata": {},
   "source": [
    "### Soal 3\n",
    "Gabungkan informasi tanggal pesanan (Order Date) dengan detail produk berdasarkan Order ID."
   ]
  },
  {
   "cell_type": "code",
   "execution_count": 106,
   "id": "e6883c0a",
   "metadata": {},
   "outputs": [
    {
     "data": {
      "text/html": [
       "<div>\n",
       "<style scoped>\n",
       "    .dataframe tbody tr th:only-of-type {\n",
       "        vertical-align: middle;\n",
       "    }\n",
       "\n",
       "    .dataframe tbody tr th {\n",
       "        vertical-align: top;\n",
       "    }\n",
       "\n",
       "    .dataframe thead th {\n",
       "        text-align: right;\n",
       "    }\n",
       "</style>\n",
       "<table border=\"1\" class=\"dataframe\">\n",
       "  <thead>\n",
       "    <tr style=\"text-align: right;\">\n",
       "      <th></th>\n",
       "      <th>Order ID</th>\n",
       "      <th>Order Date</th>\n",
       "      <th>Product Name</th>\n",
       "      <th>Sales</th>\n",
       "    </tr>\n",
       "  </thead>\n",
       "  <tbody>\n",
       "    <tr>\n",
       "      <th>0</th>\n",
       "      <td>CA-2016-152156</td>\n",
       "      <td>2016-11-08</td>\n",
       "      <td>Bush Somerset Collection Bookcase</td>\n",
       "      <td>261.9600</td>\n",
       "    </tr>\n",
       "    <tr>\n",
       "      <th>1</th>\n",
       "      <td>CA-2016-152156</td>\n",
       "      <td>2016-11-08</td>\n",
       "      <td>Hon Deluxe Fabric Upholstered Stacking Chairs,...</td>\n",
       "      <td>731.9400</td>\n",
       "    </tr>\n",
       "    <tr>\n",
       "      <th>2</th>\n",
       "      <td>CA-2016-138688</td>\n",
       "      <td>2016-06-12</td>\n",
       "      <td>Self-Adhesive Address Labels for Typewriters b...</td>\n",
       "      <td>14.6200</td>\n",
       "    </tr>\n",
       "    <tr>\n",
       "      <th>3</th>\n",
       "      <td>US-2015-108966</td>\n",
       "      <td>2015-10-11</td>\n",
       "      <td>Bretford CR4500 Series Slim Rectangular Table</td>\n",
       "      <td>957.5775</td>\n",
       "    </tr>\n",
       "    <tr>\n",
       "      <th>4</th>\n",
       "      <td>US-2015-108966</td>\n",
       "      <td>2015-10-11</td>\n",
       "      <td>Eldon Fold 'N Roll Cart System</td>\n",
       "      <td>22.3680</td>\n",
       "    </tr>\n",
       "    <tr>\n",
       "      <th>...</th>\n",
       "      <td>...</td>\n",
       "      <td>...</td>\n",
       "      <td>...</td>\n",
       "      <td>...</td>\n",
       "    </tr>\n",
       "    <tr>\n",
       "      <th>9989</th>\n",
       "      <td>CA-2014-110422</td>\n",
       "      <td>2014-01-21</td>\n",
       "      <td>Ultra Door Pull Handle</td>\n",
       "      <td>25.2480</td>\n",
       "    </tr>\n",
       "    <tr>\n",
       "      <th>9990</th>\n",
       "      <td>CA-2017-121258</td>\n",
       "      <td>2017-02-26</td>\n",
       "      <td>Tenex B1-RE Series Chair Mats for Low Pile Car...</td>\n",
       "      <td>91.9600</td>\n",
       "    </tr>\n",
       "    <tr>\n",
       "      <th>9991</th>\n",
       "      <td>CA-2017-121258</td>\n",
       "      <td>2017-02-26</td>\n",
       "      <td>Aastra 57i VoIP phone</td>\n",
       "      <td>258.5760</td>\n",
       "    </tr>\n",
       "    <tr>\n",
       "      <th>9992</th>\n",
       "      <td>CA-2017-121258</td>\n",
       "      <td>2017-02-26</td>\n",
       "      <td>It's Hot Message Books with Stickers, 2 3/4\" x 5\"</td>\n",
       "      <td>29.6000</td>\n",
       "    </tr>\n",
       "    <tr>\n",
       "      <th>9993</th>\n",
       "      <td>CA-2017-119914</td>\n",
       "      <td>2017-05-04</td>\n",
       "      <td>Acco 7-Outlet Masterpiece Power Center, Wihtou...</td>\n",
       "      <td>243.1600</td>\n",
       "    </tr>\n",
       "  </tbody>\n",
       "</table>\n",
       "<p>9994 rows × 4 columns</p>\n",
       "</div>"
      ],
      "text/plain": [
       "            Order ID Order Date  \\\n",
       "0     CA-2016-152156 2016-11-08   \n",
       "1     CA-2016-152156 2016-11-08   \n",
       "2     CA-2016-138688 2016-06-12   \n",
       "3     US-2015-108966 2015-10-11   \n",
       "4     US-2015-108966 2015-10-11   \n",
       "...              ...        ...   \n",
       "9989  CA-2014-110422 2014-01-21   \n",
       "9990  CA-2017-121258 2017-02-26   \n",
       "9991  CA-2017-121258 2017-02-26   \n",
       "9992  CA-2017-121258 2017-02-26   \n",
       "9993  CA-2017-119914 2017-05-04   \n",
       "\n",
       "                                           Product Name     Sales  \n",
       "0                     Bush Somerset Collection Bookcase  261.9600  \n",
       "1     Hon Deluxe Fabric Upholstered Stacking Chairs,...  731.9400  \n",
       "2     Self-Adhesive Address Labels for Typewriters b...   14.6200  \n",
       "3         Bretford CR4500 Series Slim Rectangular Table  957.5775  \n",
       "4                        Eldon Fold 'N Roll Cart System   22.3680  \n",
       "...                                                 ...       ...  \n",
       "9989                             Ultra Door Pull Handle   25.2480  \n",
       "9990  Tenex B1-RE Series Chair Mats for Low Pile Car...   91.9600  \n",
       "9991                              Aastra 57i VoIP phone  258.5760  \n",
       "9992  It's Hot Message Books with Stickers, 2 3/4\" x 5\"   29.6000  \n",
       "9993  Acco 7-Outlet Masterpiece Power Center, Wihtou...  243.1600  \n",
       "\n",
       "[9994 rows x 4 columns]"
      ]
     },
     "execution_count": 106,
     "metadata": {},
     "output_type": "execute_result"
    }
   ],
   "source": [
    "# Write Your Code Here\n",
    "orders = df[[\"Order ID\", \"Order Date\"]].drop_duplicates()\n",
    "details = df[[\"Order ID\", \"Product Name\", \"Sales\"]]\n",
    "pd.merge(orders, details, on=\"Order ID\")"
   ]
  },
  {
   "cell_type": "markdown",
   "id": "5c68e0a6",
   "metadata": {},
   "source": [
    "### Soal 4\n",
    "Gunakan melt() untuk mengubah kolom Sales dan Profit menjadi baris berdasarkan Region"
   ]
  },
  {
   "cell_type": "code",
   "execution_count": null,
   "id": "039c8dd5",
   "metadata": {},
   "outputs": [
    {
     "data": {
      "text/html": [
       "<div>\n",
       "<style scoped>\n",
       "    .dataframe tbody tr th:only-of-type {\n",
       "        vertical-align: middle;\n",
       "    }\n",
       "\n",
       "    .dataframe tbody tr th {\n",
       "        vertical-align: top;\n",
       "    }\n",
       "\n",
       "    .dataframe thead th {\n",
       "        text-align: right;\n",
       "    }\n",
       "</style>\n",
       "<table border=\"1\" class=\"dataframe\">\n",
       "  <thead>\n",
       "    <tr style=\"text-align: right;\">\n",
       "      <th></th>\n",
       "      <th>Region</th>\n",
       "      <th>variable</th>\n",
       "      <th>value</th>\n",
       "    </tr>\n",
       "  </thead>\n",
       "  <tbody>\n",
       "    <tr>\n",
       "      <th>0</th>\n",
       "      <td>South</td>\n",
       "      <td>Sales</td>\n",
       "      <td>261.9600</td>\n",
       "    </tr>\n",
       "    <tr>\n",
       "      <th>1</th>\n",
       "      <td>South</td>\n",
       "      <td>Sales</td>\n",
       "      <td>731.9400</td>\n",
       "    </tr>\n",
       "    <tr>\n",
       "      <th>2</th>\n",
       "      <td>West</td>\n",
       "      <td>Sales</td>\n",
       "      <td>14.6200</td>\n",
       "    </tr>\n",
       "    <tr>\n",
       "      <th>3</th>\n",
       "      <td>South</td>\n",
       "      <td>Sales</td>\n",
       "      <td>957.5775</td>\n",
       "    </tr>\n",
       "    <tr>\n",
       "      <th>4</th>\n",
       "      <td>South</td>\n",
       "      <td>Sales</td>\n",
       "      <td>22.3680</td>\n",
       "    </tr>\n",
       "    <tr>\n",
       "      <th>...</th>\n",
       "      <td>...</td>\n",
       "      <td>...</td>\n",
       "      <td>...</td>\n",
       "    </tr>\n",
       "    <tr>\n",
       "      <th>19983</th>\n",
       "      <td>South</td>\n",
       "      <td>Profit</td>\n",
       "      <td>4.1028</td>\n",
       "    </tr>\n",
       "    <tr>\n",
       "      <th>19984</th>\n",
       "      <td>West</td>\n",
       "      <td>Profit</td>\n",
       "      <td>15.6332</td>\n",
       "    </tr>\n",
       "    <tr>\n",
       "      <th>19985</th>\n",
       "      <td>West</td>\n",
       "      <td>Profit</td>\n",
       "      <td>19.3932</td>\n",
       "    </tr>\n",
       "    <tr>\n",
       "      <th>19986</th>\n",
       "      <td>West</td>\n",
       "      <td>Profit</td>\n",
       "      <td>13.3200</td>\n",
       "    </tr>\n",
       "    <tr>\n",
       "      <th>19987</th>\n",
       "      <td>West</td>\n",
       "      <td>Profit</td>\n",
       "      <td>72.9480</td>\n",
       "    </tr>\n",
       "  </tbody>\n",
       "</table>\n",
       "<p>19988 rows × 3 columns</p>\n",
       "</div>"
      ],
      "text/plain": [
       "      Region variable     value\n",
       "0      South    Sales  261.9600\n",
       "1      South    Sales  731.9400\n",
       "2       West    Sales   14.6200\n",
       "3      South    Sales  957.5775\n",
       "4      South    Sales   22.3680\n",
       "...      ...      ...       ...\n",
       "19983  South   Profit    4.1028\n",
       "19984   West   Profit   15.6332\n",
       "19985   West   Profit   19.3932\n",
       "19986   West   Profit   13.3200\n",
       "19987   West   Profit   72.9480\n",
       "\n",
       "[19988 rows x 3 columns]"
      ]
     },
     "execution_count": 107,
     "metadata": {},
     "output_type": "execute_result"
    }
   ],
   "source": [
    "# Write Your Code Here\n",
    "pd.melt(df, id_vars=\"Region\", value_vars=[\"Sales\", \"Profit\"])"
   ]
  },
  {
   "cell_type": "markdown",
   "id": "944aeddf",
   "metadata": {},
   "source": [
    "### Soal 5\n",
    "Tampilkan jumlah pesanan yang terjadi pada hari Senin saja."
   ]
  },
  {
   "cell_type": "code",
   "execution_count": 108,
   "id": "cd125c43",
   "metadata": {},
   "outputs": [
    {
     "data": {
      "text/plain": [
       "920"
      ]
     },
     "execution_count": 108,
     "metadata": {},
     "output_type": "execute_result"
    }
   ],
   "source": [
    "# Write Your Code Here\n",
    "df[\"Order Date\"] = pd.to_datetime(df[\"Order Date\"])\n",
    "df[df[\"Order Date\"].dt.weekday == 0][\"Order ID\"].nunique()"
   ]
  },
  {
   "cell_type": "markdown",
   "id": "aa31174e",
   "metadata": {},
   "source": [
    "---------"
   ]
  },
  {
   "cell_type": "markdown",
   "id": "8b97d23c",
   "metadata": {},
   "source": [
    "### Dataset\n",
    "Gunakan Superstore.csv, dan bagi menjadi dua dataframe:\n",
    "```python\n",
    "orders = df[[\"Order ID\", \"Order Date\", \"Customer ID\", \"Region\"]].drop_duplicates()\n",
    "details = df[[\"Order ID\", \"Product Name\", \"Category\", \"Sales\", \"Profit\"]]\n",
    "```"
   ]
  },
  {
   "cell_type": "code",
   "execution_count": 109,
   "id": "5f876a1e",
   "metadata": {},
   "outputs": [],
   "source": [
    "# Write Your Code Here\n",
    "orders = df[[\"Order ID\", \"Order Date\", \"Customer ID\", \"Region\"]].drop_duplicates()\n",
    "details = df[[\"Order ID\", \"Product Name\", \"Category\", \"Sales\", \"Profit\"]]"
   ]
  },
  {
   "cell_type": "markdown",
   "id": "56a380fa",
   "metadata": {},
   "source": [
    "### Soal 6 : Inner Join\n",
    "Gabungkan tabel orders dan details menggunakan inner join berdasarkan Order ID.\n",
    "Pertanyaan:\n",
    "\n",
    "- Berapa total baris hasil gabungan?\n",
    "\n",
    "- Tampilkan 5 data pertama yang berada di region \"West\"."
   ]
  },
  {
   "cell_type": "code",
   "execution_count": 111,
   "id": "d8c19c17",
   "metadata": {},
   "outputs": [
    {
     "name": "stdout",
     "output_type": "stream",
     "text": [
      "(9994, 8)\n"
     ]
    },
    {
     "data": {
      "text/html": [
       "<div>\n",
       "<style scoped>\n",
       "    .dataframe tbody tr th:only-of-type {\n",
       "        vertical-align: middle;\n",
       "    }\n",
       "\n",
       "    .dataframe tbody tr th {\n",
       "        vertical-align: top;\n",
       "    }\n",
       "\n",
       "    .dataframe thead th {\n",
       "        text-align: right;\n",
       "    }\n",
       "</style>\n",
       "<table border=\"1\" class=\"dataframe\">\n",
       "  <thead>\n",
       "    <tr style=\"text-align: right;\">\n",
       "      <th></th>\n",
       "      <th>Order ID</th>\n",
       "      <th>Order Date</th>\n",
       "      <th>Customer ID</th>\n",
       "      <th>Region</th>\n",
       "      <th>Product Name</th>\n",
       "      <th>Category</th>\n",
       "      <th>Sales</th>\n",
       "      <th>Profit</th>\n",
       "    </tr>\n",
       "  </thead>\n",
       "  <tbody>\n",
       "    <tr>\n",
       "      <th>2</th>\n",
       "      <td>CA-2016-138688</td>\n",
       "      <td>2016-06-12</td>\n",
       "      <td>DV-13045</td>\n",
       "      <td>West</td>\n",
       "      <td>Self-Adhesive Address Labels for Typewriters b...</td>\n",
       "      <td>Office Supplies</td>\n",
       "      <td>14.620</td>\n",
       "      <td>6.8714</td>\n",
       "    </tr>\n",
       "    <tr>\n",
       "      <th>5</th>\n",
       "      <td>CA-2014-115812</td>\n",
       "      <td>2014-06-09</td>\n",
       "      <td>BH-11710</td>\n",
       "      <td>West</td>\n",
       "      <td>Eldon Expressions Wood and Plastic Desk Access...</td>\n",
       "      <td>Furniture</td>\n",
       "      <td>48.860</td>\n",
       "      <td>14.1694</td>\n",
       "    </tr>\n",
       "    <tr>\n",
       "      <th>6</th>\n",
       "      <td>CA-2014-115812</td>\n",
       "      <td>2014-06-09</td>\n",
       "      <td>BH-11710</td>\n",
       "      <td>West</td>\n",
       "      <td>Newell 322</td>\n",
       "      <td>Office Supplies</td>\n",
       "      <td>7.280</td>\n",
       "      <td>1.9656</td>\n",
       "    </tr>\n",
       "    <tr>\n",
       "      <th>7</th>\n",
       "      <td>CA-2014-115812</td>\n",
       "      <td>2014-06-09</td>\n",
       "      <td>BH-11710</td>\n",
       "      <td>West</td>\n",
       "      <td>Mitel 5320 IP Phone VoIP phone</td>\n",
       "      <td>Technology</td>\n",
       "      <td>907.152</td>\n",
       "      <td>90.7152</td>\n",
       "    </tr>\n",
       "    <tr>\n",
       "      <th>8</th>\n",
       "      <td>CA-2014-115812</td>\n",
       "      <td>2014-06-09</td>\n",
       "      <td>BH-11710</td>\n",
       "      <td>West</td>\n",
       "      <td>DXL Angle-View Binders with Locking Rings by S...</td>\n",
       "      <td>Office Supplies</td>\n",
       "      <td>18.504</td>\n",
       "      <td>5.7825</td>\n",
       "    </tr>\n",
       "    <tr>\n",
       "      <th>...</th>\n",
       "      <td>...</td>\n",
       "      <td>...</td>\n",
       "      <td>...</td>\n",
       "      <td>...</td>\n",
       "      <td>...</td>\n",
       "      <td>...</td>\n",
       "      <td>...</td>\n",
       "      <td>...</td>\n",
       "    </tr>\n",
       "    <tr>\n",
       "      <th>9986</th>\n",
       "      <td>CA-2016-125794</td>\n",
       "      <td>2016-09-29</td>\n",
       "      <td>ML-17410</td>\n",
       "      <td>West</td>\n",
       "      <td>Memorex Mini Travel Drive 64 GB USB 2.0 Flash ...</td>\n",
       "      <td>Technology</td>\n",
       "      <td>36.240</td>\n",
       "      <td>15.2208</td>\n",
       "    </tr>\n",
       "    <tr>\n",
       "      <th>9990</th>\n",
       "      <td>CA-2017-121258</td>\n",
       "      <td>2017-02-26</td>\n",
       "      <td>DB-13060</td>\n",
       "      <td>West</td>\n",
       "      <td>Tenex B1-RE Series Chair Mats for Low Pile Car...</td>\n",
       "      <td>Furniture</td>\n",
       "      <td>91.960</td>\n",
       "      <td>15.6332</td>\n",
       "    </tr>\n",
       "    <tr>\n",
       "      <th>9991</th>\n",
       "      <td>CA-2017-121258</td>\n",
       "      <td>2017-02-26</td>\n",
       "      <td>DB-13060</td>\n",
       "      <td>West</td>\n",
       "      <td>Aastra 57i VoIP phone</td>\n",
       "      <td>Technology</td>\n",
       "      <td>258.576</td>\n",
       "      <td>19.3932</td>\n",
       "    </tr>\n",
       "    <tr>\n",
       "      <th>9992</th>\n",
       "      <td>CA-2017-121258</td>\n",
       "      <td>2017-02-26</td>\n",
       "      <td>DB-13060</td>\n",
       "      <td>West</td>\n",
       "      <td>It's Hot Message Books with Stickers, 2 3/4\" x 5\"</td>\n",
       "      <td>Office Supplies</td>\n",
       "      <td>29.600</td>\n",
       "      <td>13.3200</td>\n",
       "    </tr>\n",
       "    <tr>\n",
       "      <th>9993</th>\n",
       "      <td>CA-2017-119914</td>\n",
       "      <td>2017-05-04</td>\n",
       "      <td>CC-12220</td>\n",
       "      <td>West</td>\n",
       "      <td>Acco 7-Outlet Masterpiece Power Center, Wihtou...</td>\n",
       "      <td>Office Supplies</td>\n",
       "      <td>243.160</td>\n",
       "      <td>72.9480</td>\n",
       "    </tr>\n",
       "  </tbody>\n",
       "</table>\n",
       "<p>3203 rows × 8 columns</p>\n",
       "</div>"
      ],
      "text/plain": [
       "            Order ID Order Date Customer ID Region  \\\n",
       "2     CA-2016-138688 2016-06-12    DV-13045   West   \n",
       "5     CA-2014-115812 2014-06-09    BH-11710   West   \n",
       "6     CA-2014-115812 2014-06-09    BH-11710   West   \n",
       "7     CA-2014-115812 2014-06-09    BH-11710   West   \n",
       "8     CA-2014-115812 2014-06-09    BH-11710   West   \n",
       "...              ...        ...         ...    ...   \n",
       "9986  CA-2016-125794 2016-09-29    ML-17410   West   \n",
       "9990  CA-2017-121258 2017-02-26    DB-13060   West   \n",
       "9991  CA-2017-121258 2017-02-26    DB-13060   West   \n",
       "9992  CA-2017-121258 2017-02-26    DB-13060   West   \n",
       "9993  CA-2017-119914 2017-05-04    CC-12220   West   \n",
       "\n",
       "                                           Product Name         Category  \\\n",
       "2     Self-Adhesive Address Labels for Typewriters b...  Office Supplies   \n",
       "5     Eldon Expressions Wood and Plastic Desk Access...        Furniture   \n",
       "6                                            Newell 322  Office Supplies   \n",
       "7                        Mitel 5320 IP Phone VoIP phone       Technology   \n",
       "8     DXL Angle-View Binders with Locking Rings by S...  Office Supplies   \n",
       "...                                                 ...              ...   \n",
       "9986  Memorex Mini Travel Drive 64 GB USB 2.0 Flash ...       Technology   \n",
       "9990  Tenex B1-RE Series Chair Mats for Low Pile Car...        Furniture   \n",
       "9991                              Aastra 57i VoIP phone       Technology   \n",
       "9992  It's Hot Message Books with Stickers, 2 3/4\" x 5\"  Office Supplies   \n",
       "9993  Acco 7-Outlet Masterpiece Power Center, Wihtou...  Office Supplies   \n",
       "\n",
       "        Sales   Profit  \n",
       "2      14.620   6.8714  \n",
       "5      48.860  14.1694  \n",
       "6       7.280   1.9656  \n",
       "7     907.152  90.7152  \n",
       "8      18.504   5.7825  \n",
       "...       ...      ...  \n",
       "9986   36.240  15.2208  \n",
       "9990   91.960  15.6332  \n",
       "9991  258.576  19.3932  \n",
       "9992   29.600  13.3200  \n",
       "9993  243.160  72.9480  \n",
       "\n",
       "[3203 rows x 8 columns]"
      ]
     },
     "execution_count": 111,
     "metadata": {},
     "output_type": "execute_result"
    }
   ],
   "source": [
    "# Write Your Code Here\n",
    "inner = pd.merge(orders, details, on=\"Order ID\", how=\"inner\")\n",
    "print(inner.shape)  # Ukuran data\n",
    "inner[inner[\"Region\"] == \"West\"]  # Filter region \"West\""
   ]
  },
  {
   "cell_type": "markdown",
   "id": "65f98940",
   "metadata": {},
   "source": [
    "### Soal 7 : Left Join\n",
    "Lakukan left join antara orders (kiri) dan details (kanan).\n",
    "Pertanyaan:\n",
    "\n",
    "- Apakah hasil join ini memiliki baris lebih banyak dari inner join?\n",
    "\n",
    "- Ada berapa nilai NaN di kolom Product Name?"
   ]
  },
  {
   "cell_type": "code",
   "execution_count": 112,
   "id": "498715d5",
   "metadata": {},
   "outputs": [
    {
     "name": "stdout",
     "output_type": "stream",
     "text": [
      "(9994, 8)\n",
      "0\n"
     ]
    }
   ],
   "source": [
    "# Write Your Code Here\n",
    "left = pd.merge(orders, details, on=\"Order ID\", how=\"left\")\n",
    "print(left.shape)\n",
    "print(left[\"Product Name\"].isna().sum())  # Hitung missing values"
   ]
  },
  {
   "cell_type": "markdown",
   "id": "88b57d4b",
   "metadata": {},
   "source": [
    "### Soal 8 : Right Join\n",
    "Lakukan right join antara orders (kiri) dan details (kanan).\n",
    "\n",
    "Pertanyaan:\n",
    "\n",
    "- Berapa banyak transaksi (Order ID) dari hasil right join yang tidak ada di tabel orders?"
   ]
  },
  {
   "cell_type": "code",
   "execution_count": 113,
   "id": "178ba7c5",
   "metadata": {},
   "outputs": [
    {
     "name": "stdout",
     "output_type": "stream",
     "text": [
      "0\n"
     ]
    }
   ],
   "source": [
    "# Write Your Code Here\n",
    "right = pd.merge(orders, details, on=\"Order ID\", how=\"right\")\n",
    "missing_orders = right[\"Customer ID\"].isna().sum()\n",
    "print(missing_orders)"
   ]
  },
  {
   "cell_type": "markdown",
   "id": "85d83f66",
   "metadata": {},
   "source": [
    "### Soal 9 : Full Outer Join\n",
    "Gabungkan kedua tabel dengan outer join berdasarkan Order ID.\n",
    "Pertanyaan:\n",
    "\n",
    "- Hitung jumlah total Order ID unik dari hasil outer join.\n",
    "\n",
    "- Berapa baris yang memiliki missing value di kolom Customer ID?"
   ]
  },
  {
   "cell_type": "code",
   "execution_count": 114,
   "id": "d356b3a4",
   "metadata": {},
   "outputs": [
    {
     "name": "stdout",
     "output_type": "stream",
     "text": [
      "Order ID unik: 5009\n",
      "Missing Customer ID: 0\n"
     ]
    }
   ],
   "source": [
    "# Write your Code Here\n",
    "outer = pd.merge(orders, details, on=\"Order ID\", how=\"outer\")\n",
    "unique_order_ids = outer[\"Order ID\"].nunique()\n",
    "missing_customer_id = outer[\"Customer ID\"].isna().sum()\n",
    "print(\"Order ID unik:\", unique_order_ids)\n",
    "print(\"Missing Customer ID:\", missing_customer_id)\n"
   ]
  }
 ],
 "metadata": {
  "kernelspec": {
   "display_name": "Python 3",
   "language": "python",
   "name": "python3"
  },
  "language_info": {
   "codemirror_mode": {
    "name": "ipython",
    "version": 3
   },
   "file_extension": ".py",
   "mimetype": "text/x-python",
   "name": "python",
   "nbconvert_exporter": "python",
   "pygments_lexer": "ipython3",
   "version": "3.13.0"
  }
 },
 "nbformat": 4,
 "nbformat_minor": 5
}
