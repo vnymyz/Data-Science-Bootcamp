{
 "cells": [
  {
   "cell_type": "markdown",
   "id": "78a486a4",
   "metadata": {},
   "source": [
    "# Pertemuan 5\n",
    "\n",
    "************************\n",
    "\n",
    "## Conditional Programming (Looping for)\n",
    "\n",
    "*************************\n",
    "\n",
    "### 1. Looping For"
   ]
  },
  {
   "cell_type": "markdown",
   "id": "65504c48",
   "metadata": {},
   "source": [
    "For looping adalah perulangan yang menjalankan beberapa blok kode dengan ketentuan yang sudah ditetapkan.\n",
    "\n",
    "Gunakan for disaat kita mengetahui berapa kali ingin mengulang. Sedangkan while jalan dulu baru kondisi di akhir."
   ]
  },
  {
   "cell_type": "markdown",
   "id": "0d86ce90",
   "metadata": {},
   "source": [
    "**Struktur Program For Loop**\n",
    "```Python\n",
    "for variabel in urutan:\n",
    "    # blok kode yang diulang\n",
    "```\n",
    "\n",
    "**Penjelasan:**\n",
    "\n",
    "* variabel → nama variabel yang akan menyimpan tiap nilai sementara dalam urutan\n",
    "\n",
    "* urutan → bisa berupa range(), list, string, atau data iterable lainnya\n",
    "\n",
    "* Blok kode di dalam for akan diulang sebanyak elemen dalam urutan tersebut"
   ]
  },
  {
   "cell_type": "markdown",
   "id": "fdd2ef8a",
   "metadata": {},
   "source": [
    "| Tipe `for` Loop           | Digunakan Saat...                   |\n",
    "| ------------------------- | ----------------------------------- |\n",
    "| `for i in range()`        | Perulangan berdasarkan jumlah angka |\n",
    "| `for item in list/tuple`  | Menelusuri isi koleksi              |\n",
    "| `for char in string`      | Mengulang tiap huruf                |\n",
    "| `for key, value in dict`  | Iterasi key dan value               |\n",
    "| `for i, v in enumerate()` | Dapatkan index dan item             |\n",
    "| Nested loop               | Pola, kombinasi, baris x kolom      |\n"
   ]
  },
  {
   "cell_type": "markdown",
   "id": "e4273192",
   "metadata": {},
   "source": [
    "| Aspek                    | `for` loop                                       | `while` loop                                       |\n",
    "| ------------------------ | ------------------------------------------------ | -------------------------------------------------- |\n",
    "| **Digunakan saat**       | Jumlah perulangan **sudah diketahui**            | Jumlah perulangan **belum pasti / dinamis**        |\n",
    "| **Struktur**             | `for variabel in urutan:`                        | `while kondisi:`                                   |\n",
    "| **Berdasarkan**          | **urutan / iterable** (list, range, string, dsb) | **kondisi** (True/False)                           |\n",
    "| **Kontrol perulangan**   | Otomatis (lewat range, list, dst)                | Harus update variabel manual agar kondisi berhenti |\n",
    "| **Risiko infinite loop** | Kecil (karena otomatis selesai)                  | Lebih tinggi (kalau lupa update kondisi)           |\n"
   ]
  },
  {
   "cell_type": "code",
   "execution_count": null,
   "id": "12992a7c",
   "metadata": {},
   "outputs": [],
   "source": [
    "# perulangan sederhana\n",
    "for i in range(6): # range\n",
    "    print(i)\n"
   ]
  },
  {
   "cell_type": "code",
   "execution_count": null,
   "id": "11352c72",
   "metadata": {},
   "outputs": [],
   "source": [
    "# FOR LOOP LIST\n",
    "buah = [\"apel\", \"jeruk\", \"pisang\", \"Mangga\", \"Buah naga\", \"Markisa\", \"Terong belanda\", \"tomat\"]\n",
    "for name in buah: # in list\n",
    "    print(name)\n",
    "    print(\"============\")\n",
    "    print(f\"Saya suka {name}\\n\")"
   ]
  },
  {
   "cell_type": "code",
   "execution_count": null,
   "id": "e5584c51",
   "metadata": {},
   "outputs": [],
   "source": [
    "# FOR LOOP STRING\n",
    "\n",
    "# perulangan huruf atau string\n",
    "for huruf in \"Python Data Science\": # string\n",
    "    print(huruf)"
   ]
  },
  {
   "cell_type": "code",
   "execution_count": null,
   "id": "e0f9e523",
   "metadata": {},
   "outputs": [],
   "source": [
    "# FOR LOOP STRING\n",
    "\n",
    "kartu_kredit = \"1234-5678-9012-3456\"\n",
    "\n",
    "for x in reversed(kartu_kredit):\n",
    "    print(x)"
   ]
  },
  {
   "cell_type": "markdown",
   "id": "dc2c92e5",
   "metadata": {},
   "source": [
    "#### 1.2 For in range"
   ]
  },
  {
   "cell_type": "code",
   "execution_count": null,
   "id": "cd4bf125",
   "metadata": {},
   "outputs": [],
   "source": [
    "# perulangan for range\n",
    "# start = 0\n",
    "# stop = 11\n",
    "# <= \n",
    "# < 11\n",
    "for x in range(12):\n",
    "    print(x)\n",
    "\n",
    "print(\"Ini adalah looping\")"
   ]
  },
  {
   "cell_type": "code",
   "execution_count": null,
   "id": "a92a66cd",
   "metadata": {},
   "outputs": [],
   "source": [
    "for x in range(1, 21):\n",
    "    if x == 13:\n",
    "        continue\n",
    "        # break\n",
    "    else:\n",
    "        print(x)"
   ]
  },
  {
   "cell_type": "code",
   "execution_count": null,
   "id": "1b8683c9",
   "metadata": {},
   "outputs": [],
   "source": [
    "# Program tabel perkalian\n",
    "angka = int(input(\"Masukkan angka: \"))\n",
    "\n",
    "for i in range(1, 11):\n",
    "    print(f\"{angka} x {i} = {angka * i}\")\n"
   ]
  },
  {
   "cell_type": "code",
   "execution_count": null,
   "id": "5974d05a",
   "metadata": {},
   "outputs": [],
   "source": [
    "# Program bentuk segitiga\n",
    "tinggi = 5\n",
    "for i in range(1, tinggi + 1):\n",
    "    print(\"*\" * i)\n"
   ]
  },
  {
   "cell_type": "code",
   "execution_count": null,
   "id": "842ffbdf",
   "metadata": {},
   "outputs": [],
   "source": [
    "# menggunakan perintah reversed\n",
    "for x in reversed(range(0, 5)):\n",
    "    print(x)\n",
    "\n",
    "print(\"Looping ini terbalik\")"
   ]
  },
  {
   "cell_type": "code",
   "execution_count": null,
   "id": "bed11aa6",
   "metadata": {},
   "outputs": [],
   "source": [
    "# Program Ganjil Genap\n",
    "for i in range(1, 11):\n",
    "    # % mod atau modulus\n",
    "    if i % 2 == 0:\n",
    "        print(f\"{i} adalah genap\")\n",
    "    else:\n",
    "        print(f\"{i} adalah ganjil\")"
   ]
  },
  {
   "cell_type": "markdown",
   "id": "67528599",
   "metadata": {},
   "source": [
    "#### 1.3 For loop (Start, Stop, Step)\n",
    "\n",
    "termasuk perulangan terkontrol. Struktur nya :\n",
    "\n",
    "```Pyhton\n",
    "range(start, stop, step)\n",
    "```\n",
    "Penjelasan :\n",
    "\n",
    "start → nilai awal perulangan (default: 0)\n",
    "\n",
    "stop → batas akhir (tidak termasuk) atau kapan berhenti nya\n",
    "\n",
    "step → loncatan / selisih antar nilai (default: 1)\n"
   ]
  },
  {
   "cell_type": "code",
   "execution_count": null,
   "id": "7aad96eb",
   "metadata": {},
   "outputs": [],
   "source": [
    "#           start, stop, step\n",
    "for x in range(0, 20, 3):\n",
    "    print(x)"
   ]
  },
  {
   "cell_type": "code",
   "execution_count": null,
   "id": "11382a50",
   "metadata": {},
   "outputs": [],
   "source": [
    "for x in range(-10, 10, 2):\n",
    "    print(x)"
   ]
  },
  {
   "cell_type": "code",
   "execution_count": null,
   "id": "eeae96a9",
   "metadata": {},
   "outputs": [],
   "source": [
    "# program hitung mundur atau countdown\n",
    "import time\n",
    "\n",
    "waktu_saya = int(input(\"Masukkan waktu dalam detik\")) # start\n",
    "\n",
    "# for x in range(0, waktu_saya):\n",
    "for x in range(waktu_saya, 0, -1):\n",
    "    detik = x % 60 \n",
    "    menit = int(x / 60) % 60\n",
    "    jam = int(x / 3600)\n",
    "    print(f\"{jam:02}:{menit:02}:{detik:02}\")\n",
    "    time.sleep(1)\n",
    "\n",
    "print(\"Waktu habis\")"
   ]
  },
  {
   "cell_type": "markdown",
   "id": "16557d96",
   "metadata": {},
   "source": [
    "#### 1.4 For loop Dictionary"
   ]
  },
  {
   "cell_type": "code",
   "execution_count": null,
   "id": "932fdf84",
   "metadata": {},
   "outputs": [],
   "source": [
    "# Data siswa berupa dictionary\n",
    "siswa = {\n",
    "    #key  :  value\n",
    "    \"nama\": \"Budi\",\n",
    "    \"umur\": 21,\n",
    "    \"jurusan\": \"Teknik Informatika\"\n",
    "}\n",
    "\n",
    "# Menelusuri key dan value\n",
    "# key, #value\n",
    "for d, b in siswa.items():\n",
    "    print(f\"{d}: {b}\")\n"
   ]
  },
  {
   "cell_type": "code",
   "execution_count": 51,
   "id": "b97925ab",
   "metadata": {},
   "outputs": [
    {
     "name": "stdout",
     "output_type": "stream",
     "text": [
      "\n",
      "Data Siswa 3:\n",
      "Nama: Budi\n",
      "Umur: 21\n",
      "Jurusan: Teknik Informatika\n",
      "\n",
      "Data Siswa 4:\n",
      "Nama: Ani\n",
      "Umur: 22\n",
      "Jurusan: Sistem Informasi\n",
      "\n",
      "Data Siswa 5:\n",
      "Nama: Cici\n",
      "Umur: 20\n",
      "Jurusan: Teknik Komputer\n"
     ]
    }
   ],
   "source": [
    "# Nested Loop Dictionary\n",
    "data_siswa = [\n",
    "    {\"nama\": \"Budi\", \"umur\": 21, \"jurusan\": \"Teknik Informatika\"},\n",
    "    {\"nama\": \"Ani\", \"umur\": 22, \"jurusan\": \"Sistem Informasi\"},\n",
    "    {\"nama\": \"Cici\", \"umur\": 20, \"jurusan\": \"Teknik Komputer\"}\n",
    "]\n",
    "\n",
    "# Menelusuri seluruh data\n",
    "# perulangan penomoran = enumerate\n",
    "for index, siswa in enumerate(data_siswa, start=3):\n",
    "    print(f\"\\nData Siswa {index}:\")\n",
    "    # perulangan buat nampilin dictionary\n",
    "    for key, value in siswa.items():\n",
    "        print(f\"{key.capitalize()}: {value}\")\n"
   ]
  },
  {
   "cell_type": "markdown",
   "id": "ea18882f",
   "metadata": {},
   "source": [
    "#### 1.5 For Loop Enumerate"
   ]
  },
  {
   "cell_type": "markdown",
   "id": "222040e7",
   "metadata": {},
   "source": [
    "**Apa Itu enumerate ?**\n",
    "\n",
    "**Enumerate()** adalah fungsi bawaan (built-in function) di Python yang digunakan untuk mengulang (loop) sebuah iterable sambil mendapatkan index-nya secara otomatis.\n",
    "\n",
    "**Enumerate** itu memberi nomor pada isi list pada saat for loop.\n",
    "\n",
    "Struktur Dasar nya :\n",
    "\n",
    "```python\n",
    "for index, value in enumerate(iterable):\n",
    "    # kode di sini\n",
    "```"
   ]
  },
  {
   "cell_type": "code",
   "execution_count": 53,
   "id": "e969d504",
   "metadata": {},
   "outputs": [
    {
     "name": "stdout",
     "output_type": "stream",
     "text": [
      "1. apel\n",
      "2. jeruk\n",
      "3. mangga\n"
     ]
    }
   ],
   "source": [
    "buah = [\"apel\", \"jeruk\", \"mangga\"]\n",
    "\n",
    "for i, nama in enumerate(buah, start=1):\n",
    "    print(f\"{i}. {nama}\")"
   ]
  },
  {
   "cell_type": "code",
   "execution_count": null,
   "id": "c4214054",
   "metadata": {},
   "outputs": [
    {
     "name": "stdout",
     "output_type": "stream",
     "text": [
      "0. Matematika\n",
      "1. Biologi\n",
      "2. Pemrograman\n",
      "3. Fisika\n"
     ]
    }
   ],
   "source": [
    "# List mata pelajaran\n",
    "mapel = [\"Matematika\", \"Biologi\", \"Pemrograman\", \"Fisika\"]\n",
    "\n",
    "# Loop dengan index\n",
    "for index, nama in enumerate(mapel):\n",
    "    print(f\"{index + 1}. {nama}\")"
   ]
  },
  {
   "cell_type": "code",
   "execution_count": 57,
   "id": "534291ea",
   "metadata": {},
   "outputs": [
    {
     "name": "stdout",
     "output_type": "stream",
     "text": [
      "1. Matematika\n",
      "2. Biologi\n",
      "3. Pemrograman\n",
      "4. Fisika\n"
     ]
    }
   ],
   "source": [
    "for i, pelajaran in enumerate(mapel, start=1):\n",
    "    print(f\"{i}. {pelajaran}\")\n"
   ]
  },
  {
   "cell_type": "code",
   "execution_count": 66,
   "id": "e8033b15",
   "metadata": {},
   "outputs": [
    {
     "name": "stdout",
     "output_type": "stream",
     "text": [
      "Menu Hari Ini:\n",
      "1. Nasi Goreng\n",
      "2. Mie Ayam\n",
      "3. Sate Ayam\n",
      "Kamu memilih: Nasi Goreng\n"
     ]
    }
   ],
   "source": [
    "menu = [\"Nasi Goreng\", \"Mie Ayam\", \"Sate Ayam\"]\n",
    "\n",
    "print(\"Menu Hari Ini:\")\n",
    "for i, makanan in enumerate(menu, start=1):\n",
    "    print(f\"{i}. {makanan}\")\n",
    "\n",
    "pilihan = int(input(\"Pilih menu nomor berapa? \"))\n",
    "\n",
    "if 1 <= pilihan <= len(menu):\n",
    "    print(f\"Kamu memilih: {menu[pilihan - 1]}\")\n",
    "else:\n",
    "    print(\"Pilihan tidak valid.\")\n",
    "\n"
   ]
  },
  {
   "cell_type": "markdown",
   "id": "c3c31042",
   "metadata": {},
   "source": [
    "****************************"
   ]
  },
  {
   "cell_type": "markdown",
   "id": "e9e6b9e3",
   "metadata": {},
   "source": [
    "### 2. Nested Loop For\n",
    "\n",
    "Nested loop adalah loop bersarang yang terdiri dari outer loop dan inner loop.\n",
    "\n",
    "Digunakan untuk : \n",
    "\n",
    "* Matriks\n",
    "\n",
    "* Tabel\n",
    "\n",
    "* Pola bintang\n",
    "\n",
    "* Loop dalam loop (misalnya: baris dan kolom)\n",
    "\n",
    "**Contoh bentuk nya :**\n",
    "\n",
    "```python\n",
    "outer loop:\n",
    "    inner loop:\n",
    "```"
   ]
  },
  {
   "cell_type": "code",
   "execution_count": 69,
   "id": "827090c8",
   "metadata": {},
   "outputs": [
    {
     "name": "stdout",
     "output_type": "stream",
     "text": [
      "1 2 3 4 5 6 7 8 9 "
     ]
    }
   ],
   "source": [
    "# looping angka satu baris\n",
    "for x in range(1, 10):\n",
    "    print(x, end=\" \")"
   ]
  },
  {
   "cell_type": "code",
   "execution_count": 71,
   "id": "3818a344",
   "metadata": {},
   "outputs": [
    {
     "name": "stdout",
     "output_type": "stream",
     "text": [
      "1 2 3 4 5 6 7 8 9 10 \n",
      "1 2 3 4 5 6 7 8 9 10 \n",
      "1 2 3 4 5 6 7 8 9 10 \n"
     ]
    }
   ],
   "source": [
    "# outer loop\n",
    "for x in range(3):# baris\n",
    "    # inner loop\n",
    "    for y in range(1, 11): # kolom\n",
    "        print(y, end=\" \")\n",
    "    print()"
   ]
  },
  {
   "cell_type": "code",
   "execution_count": 72,
   "id": "8d044c87",
   "metadata": {},
   "outputs": [
    {
     "name": "stdout",
     "output_type": "stream",
     "text": [
      "*****\n",
      "*****\n",
      "*****\n",
      "*****\n"
     ]
    }
   ],
   "source": [
    "# PROGRAM BARIS DAN KOLOM\n",
    "baris = int(input(\"masukkan angka untuk baris: \"))\n",
    "kolom = int(input(\"masukkan angka untuk kolom: \"))\n",
    "simbol = input(\"masukkan simbol yang digunakan: \")\n",
    "\n",
    "# outer loop\n",
    "for x in range(baris): # ambil input dari baris\n",
    "    # inner loop\n",
    "    for y in range(kolom): # ambil range inputan dari kolom\n",
    "        print(simbol, end=\"\")\n",
    "    \n",
    "    print()"
   ]
  },
  {
   "cell_type": "code",
   "execution_count": 74,
   "id": "acfe397c",
   "metadata": {},
   "outputs": [
    {
     "name": "stdout",
     "output_type": "stream",
     "text": [
      "\n",
      "Daftar Nilai Siswa:\n",
      "Siswa 1: 67.0\n",
      "Siswa 2: 80.0\n",
      "Siswa 3: 90.0\n",
      "\n",
      "Rata-rata nilai kelas: 79.0\n"
     ]
    }
   ],
   "source": [
    "# Program Jumlah rata2 kelas siswa\n",
    "\n",
    "# Input jumlah siswa\n",
    "jumlah_siswa = int(input(\"Masukkan jumlah siswa: \"))\n",
    "daftar_nilai = [] # list kosong\n",
    "\n",
    "# Input nilai menggunakan for loop\n",
    "for i in range(1, jumlah_siswa + 1):\n",
    "    nilai = float(input(f\"Masukkan nilai siswa ke-{i}: \"))\n",
    "    daftar_nilai.append(nilai)\n",
    "\n",
    "# Tampilkan nilai tiap siswa\n",
    "print(\"\\nDaftar Nilai Siswa:\")\n",
    "for index, nilai in enumerate(daftar_nilai, start=1):\n",
    "    print(f\"Siswa {index}: {nilai}\")\n",
    "\n",
    "# Hitung rata-rata\n",
    "rata_rata = sum(daftar_nilai) / jumlah_siswa\n",
    "print(f\"\\nRata-rata nilai kelas: {rata_rata:.1f}\")\n"
   ]
  },
  {
   "cell_type": "code",
   "execution_count": 78,
   "id": "449a82bd",
   "metadata": {},
   "outputs": [
    {
     "name": "stdout",
     "output_type": "stream",
     "text": [
      "\n",
      "Masukkan elemen matriks:\n",
      "\n",
      "Matriks yang diinput:\n",
      "4\t5\t\n",
      "6\t7\t\n"
     ]
    }
   ],
   "source": [
    "# PROGRAM MATRIKS\n",
    "\n",
    "# Input ukuran matriks\n",
    "baris = int(input(\"Masukkan jumlah baris: \"))\n",
    "kolom = int(input(\"Masukkan jumlah kolom: \"))\n",
    "\n",
    "# Buat matriks kosong\n",
    "matriks = []\n",
    "\n",
    "# Input elemen matriks\n",
    "print(\"\\nMasukkan elemen matriks:\")\n",
    "for i in range(baris):\n",
    "    baris_data = []\n",
    "    for j in range(kolom):\n",
    "        nilai = int(input(f\"Elemen [{i}][{j}]: \"))\n",
    "        baris_data.append(nilai)\n",
    "    matriks.append(baris_data)\n",
    "\n",
    "# Tampilkan matriks\n",
    "print(\"\\nMatriks yang diinput:\")\n",
    "for i in range(baris):\n",
    "    for j in range(kolom):\n",
    "        print(matriks[i][j], end=\"\\t\")\n",
    "    print()\n"
   ]
  },
  {
   "cell_type": "code",
   "execution_count": 79,
   "id": "c4614b3b",
   "metadata": {},
   "outputs": [
    {
     "name": "stdout",
     "output_type": "stream",
     "text": [
      "\n",
      " Lokasi Barang di Gudang:\n",
      "\n",
      "Rak-1 | Baris-1 | Kolom-1\n",
      "Rak-1 | Baris-1 | Kolom-2\n",
      "Rak-1 | Baris-1 | Kolom-3\n",
      "Rak-1 | Baris-1 | Kolom-4\n",
      "Rak-1 | Baris-2 | Kolom-1\n",
      "Rak-1 | Baris-2 | Kolom-2\n",
      "Rak-1 | Baris-2 | Kolom-3\n",
      "Rak-1 | Baris-2 | Kolom-4\n",
      "Rak-1 | Baris-3 | Kolom-1\n",
      "Rak-1 | Baris-3 | Kolom-2\n",
      "Rak-1 | Baris-3 | Kolom-3\n",
      "Rak-1 | Baris-3 | Kolom-4\n",
      "Rak-2 | Baris-1 | Kolom-1\n",
      "Rak-2 | Baris-1 | Kolom-2\n",
      "Rak-2 | Baris-1 | Kolom-3\n",
      "Rak-2 | Baris-1 | Kolom-4\n",
      "Rak-2 | Baris-2 | Kolom-1\n",
      "Rak-2 | Baris-2 | Kolom-2\n",
      "Rak-2 | Baris-2 | Kolom-3\n",
      "Rak-2 | Baris-2 | Kolom-4\n",
      "Rak-2 | Baris-3 | Kolom-1\n",
      "Rak-2 | Baris-3 | Kolom-2\n",
      "Rak-2 | Baris-3 | Kolom-3\n",
      "Rak-2 | Baris-3 | Kolom-4\n"
     ]
    }
   ],
   "source": [
    "# Program Gudang Sederhana untuk Menampilkan Lokasi Barang\n",
    "# Dibuat dengan nested loop 3 tingkat (rak, baris, kolom)\n",
    "\n",
    "# Input dari pengguna untuk menentukan ukuran gudang\n",
    "rak = int(input(\"Masukkan jumlah rak: \"))       # Input jumlah rak (tinggi)\n",
    "baris = int(input(\"Masukkan jumlah baris: \"))   # Input jumlah baris (maju-mundur)\n",
    "kolom = int(input(\"Masukkan jumlah kolom: \"))   # Input jumlah kolom (kiri-kanan)\n",
    "\n",
    "print(\"\\n Lokasi Barang di Gudang:\\n\")\n",
    "\n",
    "# Perulangan pertama: untuk setiap rak\n",
    "for r in range(1, rak + 1):  \n",
    "    \n",
    "    for b in range(1, baris + 1):\n",
    "        \n",
    "        for k in range(1, kolom + 1):\n",
    "           \n",
    "            print(f\"Rak-{r} | Baris-{b} | Kolom-{k}\")\n",
    "\n",
    "# +1 ini agar loop mencakup angka terakhir\n"
   ]
  },
  {
   "cell_type": "markdown",
   "id": "7a0c2e88",
   "metadata": {},
   "source": [
    "*******\n",
    "## Latihan For Loop"
   ]
  },
  {
   "cell_type": "markdown",
   "id": "46a87972",
   "metadata": {},
   "source": [
    "### 1. Soal 1\n",
    "Tampilkan semua huruf dalam kata \"Python\" menggunakan \"for\" loop.\n",
    "```python\n",
    "# Output yang diharapkan\n",
    "P\n",
    "y\n",
    "t\n",
    "h\n",
    "o\n",
    "n\n",
    "```"
   ]
  },
  {
   "cell_type": "code",
   "execution_count": null,
   "id": "6947e8a7",
   "metadata": {},
   "outputs": [],
   "source": [
    "# Write your code here"
   ]
  },
  {
   "cell_type": "markdown",
   "id": "c97c37ce",
   "metadata": {},
   "source": [
    "### Soal 2\n",
    "Gunakan for dan range untuk mencetak angka dari 1 sampai 5.\n",
    "```python\n",
    "# Output yang diharapkan:\n",
    "1\n",
    "2\n",
    "3\n",
    "4\n",
    "5\n",
    "```\n"
   ]
  },
  {
   "cell_type": "code",
   "execution_count": null,
   "id": "3ade90c9",
   "metadata": {},
   "outputs": [],
   "source": [
    "# Write your code here"
   ]
  },
  {
   "cell_type": "markdown",
   "id": "7b902a83",
   "metadata": {},
   "source": [
    "### Soal 3\n",
    "Cetak angka dari 0 sampai 20 dengan kelipatan 5. Gunakan for loop start, step, stop.\n",
    "```python\n",
    "# Output yang diharapkan:\n",
    "0\n",
    "5\n",
    "10\n",
    "15\n",
    "20\n",
    "```\n"
   ]
  },
  {
   "cell_type": "code",
   "execution_count": null,
   "id": "19643eb8",
   "metadata": {},
   "outputs": [],
   "source": [
    "# Write your code here"
   ]
  },
  {
   "cell_type": "markdown",
   "id": "6aaaaeeb",
   "metadata": {},
   "source": [
    "### Soal 4\n",
    "Diberikan dictionary berikut:\n",
    "```python\n",
    "scores = {\"Alice\": 90, \"Bob\": 85, \"Charlie\": 92}\n",
    "```\n",
    "Tampilkan nama dan skornya dalam format Nama: Skor.\n",
    "```python\n",
    "# Output yang diharapkan:\n",
    "Alice: 90\n",
    "Bob: 85\n",
    "Charlie: 92\n",
    "```"
   ]
  },
  {
   "cell_type": "code",
   "execution_count": null,
   "id": "41b3e51a",
   "metadata": {},
   "outputs": [],
   "source": [
    "# Write Your Code here"
   ]
  },
  {
   "cell_type": "markdown",
   "id": "4819c1da",
   "metadata": {},
   "source": [
    "### Soal 5\n",
    "Diberikan list berikut:\n",
    "```python\n",
    "fruits = [\"apple\", \"banana\", \"cherry\"]\n",
    "```\n",
    "Tampilkan daftar buah dengan nomor urut (dimulai dari 1) menggunakan enumerate.\n",
    "```python\n",
    "# Output yang diharapkan:\n",
    "1. apple\n",
    "2. banana\n",
    "3. cherry\n",
    "```"
   ]
  },
  {
   "cell_type": "code",
   "execution_count": null,
   "id": "e1934e2a",
   "metadata": {},
   "outputs": [],
   "source": [
    "# Write your code here"
   ]
  },
  {
   "cell_type": "markdown",
   "id": "1987c6ab",
   "metadata": {},
   "source": [
    "### 6. Soal 6\n",
    "Buat pola segitiga dengan 5 baris seperti berikut:\n",
    "```markdown\n",
    "*\n",
    "* *\n",
    "* * *\n",
    "* * * *\n",
    "* * * * *\n",
    "```"
   ]
  },
  {
   "cell_type": "code",
   "execution_count": null,
   "id": "53e3c617",
   "metadata": {},
   "outputs": [],
   "source": [
    "# Write your code here"
   ]
  },
  {
   "cell_type": "markdown",
   "id": "e3395764",
   "metadata": {},
   "source": [
    "### Soal 7\n",
    "Tampilkan tabel perkalian 1 sampai 5, hasilnya seperti ini:\n",
    "```lua\n",
    "1 2 3 4 5 \n",
    "2 4 6 8 10 \n",
    "3 6 9 12 15 \n",
    "4 8 12 16 20 \n",
    "5 10 15 20 25 \n",
    "```"
   ]
  },
  {
   "cell_type": "code",
   "execution_count": null,
   "id": "9808a73f",
   "metadata": {},
   "outputs": [],
   "source": [
    "# Write your code here"
   ]
  },
  {
   "cell_type": "markdown",
   "id": "0fd6e5b3",
   "metadata": {},
   "source": [
    "### Soal 8\n",
    "Buatlah program matriks 2 dimensi dengan baris dan kolom yang dapat diinput user \n",
    "```python\n",
    "Matriks yang dibuat:\n",
    "1 2 3\n",
    "4 5 6\n",
    "```"
   ]
  },
  {
   "cell_type": "code",
   "execution_count": null,
   "id": "cdc7f17a",
   "metadata": {},
   "outputs": [],
   "source": [
    "# Write your code here"
   ]
  },
  {
   "cell_type": "markdown",
   "id": "a94bf06d",
   "metadata": {},
   "source": [
    "## Pembahasan soal"
   ]
  },
  {
   "cell_type": "code",
   "execution_count": 80,
   "id": "3022282e",
   "metadata": {},
   "outputs": [
    {
     "name": "stdout",
     "output_type": "stream",
     "text": [
      "P\n",
      "y\n",
      "t\n",
      "h\n",
      "o\n",
      "n\n"
     ]
    }
   ],
   "source": [
    "# Soal 1\n",
    "for huruf in \"Python\":\n",
    "    print(huruf)"
   ]
  },
  {
   "cell_type": "code",
   "execution_count": 81,
   "id": "be2d2c10",
   "metadata": {},
   "outputs": [
    {
     "name": "stdout",
     "output_type": "stream",
     "text": [
      "1\n",
      "2\n",
      "3\n",
      "4\n",
      "5\n"
     ]
    }
   ],
   "source": [
    "# Soal 2\n",
    "for i in range (1, 6):\n",
    "    print(i)"
   ]
  },
  {
   "cell_type": "code",
   "execution_count": 82,
   "id": "2fbff7a4",
   "metadata": {},
   "outputs": [
    {
     "name": "stdout",
     "output_type": "stream",
     "text": [
      "0\n",
      "5\n",
      "10\n",
      "15\n",
      "20\n"
     ]
    }
   ],
   "source": [
    "# Soal 3\n",
    "for i in range(0, 21, 5):\n",
    "    print(i)"
   ]
  },
  {
   "cell_type": "code",
   "execution_count": 83,
   "id": "f813d87c",
   "metadata": {},
   "outputs": [
    {
     "name": "stdout",
     "output_type": "stream",
     "text": [
      "Alice: 90\n",
      "Bob: 85\n",
      "Charlie: 92\n"
     ]
    }
   ],
   "source": [
    "# Soal 4\n",
    "scores = {\"Alice\": 90, \"Bob\": 85, \"Charlie\": 92}\n",
    "for name, score in scores.items():\n",
    "    print(f\"{name}: {score}\")\n"
   ]
  },
  {
   "cell_type": "code",
   "execution_count": 84,
   "id": "276c31ef",
   "metadata": {},
   "outputs": [
    {
     "name": "stdout",
     "output_type": "stream",
     "text": [
      "1. apple\n",
      "2. banana\n",
      "3. cherry\n"
     ]
    }
   ],
   "source": [
    "# Soal 5\n",
    "fruits = [\"apple\", \"banana\", \"cherry\"]\n",
    "for index, fruit in enumerate(fruits, start=1):\n",
    "    print(f\"{index}. {fruit}\")"
   ]
  },
  {
   "cell_type": "code",
   "execution_count": 85,
   "id": "300cfbbc",
   "metadata": {},
   "outputs": [
    {
     "name": "stdout",
     "output_type": "stream",
     "text": [
      "* \n",
      "* * \n",
      "* * * \n",
      "* * * * \n",
      "* * * * * \n"
     ]
    }
   ],
   "source": [
    "# Soal 6\n",
    "for i in range(1, 6):\n",
    "    for j in range(i):\n",
    "        print(\"*\", end=\" \")\n",
    "    print()"
   ]
  },
  {
   "cell_type": "code",
   "execution_count": 86,
   "id": "0a7d02f8",
   "metadata": {},
   "outputs": [
    {
     "name": "stdout",
     "output_type": "stream",
     "text": [
      "1 2 3 4 5 \n",
      "2 4 6 8 10 \n",
      "3 6 9 12 15 \n",
      "4 8 12 16 20 \n",
      "5 10 15 20 25 \n"
     ]
    }
   ],
   "source": [
    "# Soal 7\n",
    "for i in range(1, 6):\n",
    "    for j in range(1, 6):\n",
    "        print(i * j, end=\" \")\n",
    "    print()\n"
   ]
  },
  {
   "cell_type": "code",
   "execution_count": null,
   "id": "af7b0231",
   "metadata": {},
   "outputs": [],
   "source": [
    "# Soal 8\n",
    "# Ukuran matriks\n",
    "baris = int(input(\"Masukkan jumlah baris: \"))\n",
    "kolom = int(input(\"Masukkan jumlah kolom: \"))\n",
    "\n",
    "# Inisialisasi matriks kosong\n",
    "matriks = []\n",
    "\n",
    "# Loop untuk mengisi data\n",
    "for i in range(baris):\n",
    "    row = []  # baris baru\n",
    "    for j in range(kolom):\n",
    "        elemen = int(input(f\"Masukkan elemen matriks[{i}][{j}]: \"))\n",
    "        row.append(elemen)\n",
    "    matriks.append(row)\n",
    "\n",
    "# Menampilkan hasil matriks\n",
    "print(\"\\nMatriks yang dibuat:\")\n",
    "for row in matriks:\n",
    "    for elemen in row:\n",
    "        print(elemen, end=\" \")\n",
    "    print()\n"
   ]
  }
 ],
 "metadata": {
  "kernelspec": {
   "display_name": "Python 3",
   "language": "python",
   "name": "python3"
  },
  "language_info": {
   "codemirror_mode": {
    "name": "ipython",
    "version": 3
   },
   "file_extension": ".py",
   "mimetype": "text/x-python",
   "name": "python",
   "nbconvert_exporter": "python",
   "pygments_lexer": "ipython3",
   "version": "3.13.0"
  }
 },
 "nbformat": 4,
 "nbformat_minor": 5
}
