{
 "cells": [
  {
   "cell_type": "markdown",
   "id": "5db96295",
   "metadata": {},
   "source": [
    "## Pertemuan 13\n",
    "----\n",
    "##  Eksplorasi dan Pengolahan Data Pandas\n",
    "----\n"
   ]
  },
  {
   "cell_type": "markdown",
   "id": "d1186f13",
   "metadata": {},
   "source": [
    "## 1. GroupBy dan Aggregasi"
   ]
  },
  {
   "cell_type": "markdown",
   "id": "a0bbbd92",
   "metadata": {},
   "source": [
    "GroupBy memungkinkan kita untuk mengelompokkan data berdasarkan kolom tertentu dan melakukan agregasi (merangkum data) seperti menghitung rata-rata, jumlah, total, dll."
   ]
  },
  {
   "cell_type": "markdown",
   "id": "87345610",
   "metadata": {},
   "source": [
    "Bayangkan kamu punya data penjualan di berbagai kota. groupby() itu seperti:\n",
    "\n",
    "*“Kelompokkan semua baris berdasarkan kota, lalu jumlahkan total penjualannya di tiap kota.”*"
   ]
  },
  {
   "cell_type": "markdown",
   "id": "9a8ac36f",
   "metadata": {},
   "source": [
    "| Fungsi      | Kegunaan                                              |\n",
    "| ----------- | ----------------------------------------------------- |\n",
    "| `groupby()` | Mengelompokkan data berdasarkan satu atau lebih kolom |\n",
    "| `agg()`     | Melakukan banyak fungsi agregasi sekaligus            |\n",
    "| `mean()`    | Rata-rata                                             |\n",
    "| `sum()`     | Total penjumlahan                                     |\n",
    "| `count()`   | Menghitung jumlah baris di tiap grup                  |\n"
   ]
  },
  {
   "cell_type": "markdown",
   "id": "26bb77ea",
   "metadata": {},
   "source": [
    "Misal kita menggunakan dataset kecil untuk simple :"
   ]
  },
  {
   "cell_type": "code",
   "execution_count": 22,
   "id": "b9ce82d8",
   "metadata": {},
   "outputs": [
    {
     "data": {
      "text/html": [
       "<div>\n",
       "<style scoped>\n",
       "    .dataframe tbody tr th:only-of-type {\n",
       "        vertical-align: middle;\n",
       "    }\n",
       "\n",
       "    .dataframe tbody tr th {\n",
       "        vertical-align: top;\n",
       "    }\n",
       "\n",
       "    .dataframe thead th {\n",
       "        text-align: right;\n",
       "    }\n",
       "</style>\n",
       "<table border=\"1\" class=\"dataframe\">\n",
       "  <thead>\n",
       "    <tr style=\"text-align: right;\">\n",
       "      <th></th>\n",
       "      <th>Kategori</th>\n",
       "      <th>Toko</th>\n",
       "      <th>Penjualan</th>\n",
       "      <th>Transaksi</th>\n",
       "    </tr>\n",
       "  </thead>\n",
       "  <tbody>\n",
       "    <tr>\n",
       "      <th>0</th>\n",
       "      <td>Elektronik</td>\n",
       "      <td>Toko A</td>\n",
       "      <td>1000</td>\n",
       "      <td>10</td>\n",
       "    </tr>\n",
       "    <tr>\n",
       "      <th>1</th>\n",
       "      <td>Elektronik</td>\n",
       "      <td>Toko B</td>\n",
       "      <td>1500</td>\n",
       "      <td>15</td>\n",
       "    </tr>\n",
       "    <tr>\n",
       "      <th>2</th>\n",
       "      <td>Pakaian</td>\n",
       "      <td>Toko A</td>\n",
       "      <td>500</td>\n",
       "      <td>5</td>\n",
       "    </tr>\n",
       "    <tr>\n",
       "      <th>3</th>\n",
       "      <td>Pakaian</td>\n",
       "      <td>Toko B</td>\n",
       "      <td>700</td>\n",
       "      <td>7</td>\n",
       "    </tr>\n",
       "    <tr>\n",
       "      <th>4</th>\n",
       "      <td>Makanan</td>\n",
       "      <td>Toko A</td>\n",
       "      <td>300</td>\n",
       "      <td>3</td>\n",
       "    </tr>\n",
       "  </tbody>\n",
       "</table>\n",
       "</div>"
      ],
      "text/plain": [
       "     Kategori    Toko  Penjualan  Transaksi\n",
       "0  Elektronik  Toko A       1000         10\n",
       "1  Elektronik  Toko B       1500         15\n",
       "2     Pakaian  Toko A        500          5\n",
       "3     Pakaian  Toko B        700          7\n",
       "4     Makanan  Toko A        300          3"
      ]
     },
     "execution_count": 22,
     "metadata": {},
     "output_type": "execute_result"
    }
   ],
   "source": [
    "import pandas as pd\n",
    "\n",
    "# Buat dataset kecil\n",
    "data = {\n",
    "    'Kategori': ['Elektronik', 'Elektronik', 'Pakaian', 'Pakaian', 'Makanan'],\n",
    "    'Toko': ['Toko A', 'Toko B', 'Toko A', 'Toko B', 'Toko A'],\n",
    "    'Penjualan': [1000, 1500, 500, 700, 300],\n",
    "    'Transaksi': [10, 15, 5, 7, 3]\n",
    "}\n",
    "\n",
    "df_mini = pd.DataFrame(data)\n",
    "\n",
    "df_mini\n"
   ]
  },
  {
   "cell_type": "markdown",
   "id": "ca1da8b6",
   "metadata": {},
   "source": [
    "### groupby()\n",
    "\n",
    "Mengelompokkan data berdasarkan kolom tertentu."
   ]
  },
  {
   "cell_type": "code",
   "execution_count": 23,
   "id": "1adeefb8",
   "metadata": {},
   "outputs": [
    {
     "name": "stdout",
     "output_type": "stream",
     "text": [
      "<pandas.core.groupby.generic.DataFrameGroupBy object at 0x000001904937F230>\n"
     ]
    }
   ],
   "source": [
    "# Ini belum menampilkan hasil, tapi membentuk objek GroupBy berdasarkan Kategori.\n",
    "grouped = df_mini.groupby('Kategori')\n",
    "\n",
    "print(grouped)"
   ]
  },
  {
   "cell_type": "markdown",
   "id": "4ded82f0",
   "metadata": {},
   "source": [
    "### agg()\n",
    "Melakukan agregasi ganda (multi fungsi) sekaligus."
   ]
  },
  {
   "cell_type": "code",
   "execution_count": 24,
   "id": "38c59c15",
   "metadata": {},
   "outputs": [
    {
     "data": {
      "text/html": [
       "<div>\n",
       "<style scoped>\n",
       "    .dataframe tbody tr th:only-of-type {\n",
       "        vertical-align: middle;\n",
       "    }\n",
       "\n",
       "    .dataframe tbody tr th {\n",
       "        vertical-align: top;\n",
       "    }\n",
       "\n",
       "    .dataframe thead th {\n",
       "        text-align: right;\n",
       "    }\n",
       "</style>\n",
       "<table border=\"1\" class=\"dataframe\">\n",
       "  <thead>\n",
       "    <tr style=\"text-align: right;\">\n",
       "      <th></th>\n",
       "      <th>Penjualan</th>\n",
       "      <th>Transaksi</th>\n",
       "    </tr>\n",
       "    <tr>\n",
       "      <th>Kategori</th>\n",
       "      <th></th>\n",
       "      <th></th>\n",
       "    </tr>\n",
       "  </thead>\n",
       "  <tbody>\n",
       "    <tr>\n",
       "      <th>Elektronik</th>\n",
       "      <td>2500</td>\n",
       "      <td>12.5</td>\n",
       "    </tr>\n",
       "    <tr>\n",
       "      <th>Makanan</th>\n",
       "      <td>300</td>\n",
       "      <td>3.0</td>\n",
       "    </tr>\n",
       "    <tr>\n",
       "      <th>Pakaian</th>\n",
       "      <td>1200</td>\n",
       "      <td>6.0</td>\n",
       "    </tr>\n",
       "  </tbody>\n",
       "</table>\n",
       "</div>"
      ],
      "text/plain": [
       "            Penjualan  Transaksi\n",
       "Kategori                        \n",
       "Elektronik       2500       12.5\n",
       "Makanan           300        3.0\n",
       "Pakaian          1200        6.0"
      ]
     },
     "execution_count": 24,
     "metadata": {},
     "output_type": "execute_result"
    }
   ],
   "source": [
    "hasil_agg = df_mini.groupby('Kategori').agg({\n",
    "    'Penjualan': 'sum',\n",
    "    'Transaksi': 'mean'\n",
    "})\n",
    "\n",
    "hasil_agg"
   ]
  },
  {
   "cell_type": "markdown",
   "id": "0324672e",
   "metadata": {},
   "source": [
    "### mean()\n",
    "Menghitung rata-rata data"
   ]
  },
  {
   "cell_type": "code",
   "execution_count": null,
   "id": "75cf5e5c",
   "metadata": {},
   "outputs": [
    {
     "data": {
      "text/html": [
       "<div>\n",
       "<style scoped>\n",
       "    .dataframe tbody tr th:only-of-type {\n",
       "        vertical-align: middle;\n",
       "    }\n",
       "\n",
       "    .dataframe tbody tr th {\n",
       "        vertical-align: top;\n",
       "    }\n",
       "\n",
       "    .dataframe thead th {\n",
       "        text-align: right;\n",
       "    }\n",
       "</style>\n",
       "<table border=\"1\" class=\"dataframe\">\n",
       "  <thead>\n",
       "    <tr style=\"text-align: right;\">\n",
       "      <th></th>\n",
       "      <th>Kategori</th>\n",
       "      <th>Rata-Rata Penjualan</th>\n",
       "    </tr>\n",
       "  </thead>\n",
       "  <tbody>\n",
       "    <tr>\n",
       "      <th>0</th>\n",
       "      <td>Elektronik</td>\n",
       "      <td>1250.0</td>\n",
       "    </tr>\n",
       "    <tr>\n",
       "      <th>1</th>\n",
       "      <td>Makanan</td>\n",
       "      <td>300.0</td>\n",
       "    </tr>\n",
       "    <tr>\n",
       "      <th>2</th>\n",
       "      <td>Pakaian</td>\n",
       "      <td>600.0</td>\n",
       "    </tr>\n",
       "  </tbody>\n",
       "</table>\n",
       "</div>"
      ],
      "text/plain": [
       "     Kategori  Rata-Rata Penjualan\n",
       "0  Elektronik               1250.0\n",
       "1     Makanan                300.0\n",
       "2     Pakaian                600.0"
      ]
     },
     "execution_count": 28,
     "metadata": {},
     "output_type": "execute_result"
    }
   ],
   "source": [
    "mean_penjualan = df_mini.groupby('Kategori')['Penjualan'].mean().reset_index()\n",
    "mean_penjualan.columns = ['Kategori', 'Rata-Rata Penjualan'] # buat ganti nama kolom aja\n",
    "\n",
    "mean_penjualan"
   ]
  },
  {
   "cell_type": "markdown",
   "id": "d2d6c76c",
   "metadata": {},
   "source": [
    "### sum()\n",
    "Menghitung total nilai"
   ]
  },
  {
   "cell_type": "code",
   "execution_count": 29,
   "id": "479a30a8",
   "metadata": {},
   "outputs": [
    {
     "data": {
      "text/html": [
       "<div>\n",
       "<style scoped>\n",
       "    .dataframe tbody tr th:only-of-type {\n",
       "        vertical-align: middle;\n",
       "    }\n",
       "\n",
       "    .dataframe tbody tr th {\n",
       "        vertical-align: top;\n",
       "    }\n",
       "\n",
       "    .dataframe thead th {\n",
       "        text-align: right;\n",
       "    }\n",
       "</style>\n",
       "<table border=\"1\" class=\"dataframe\">\n",
       "  <thead>\n",
       "    <tr style=\"text-align: right;\">\n",
       "      <th></th>\n",
       "      <th>Kategori</th>\n",
       "      <th>Total Penjualan</th>\n",
       "    </tr>\n",
       "  </thead>\n",
       "  <tbody>\n",
       "    <tr>\n",
       "      <th>0</th>\n",
       "      <td>Elektronik</td>\n",
       "      <td>2500</td>\n",
       "    </tr>\n",
       "    <tr>\n",
       "      <th>1</th>\n",
       "      <td>Makanan</td>\n",
       "      <td>300</td>\n",
       "    </tr>\n",
       "    <tr>\n",
       "      <th>2</th>\n",
       "      <td>Pakaian</td>\n",
       "      <td>1200</td>\n",
       "    </tr>\n",
       "  </tbody>\n",
       "</table>\n",
       "</div>"
      ],
      "text/plain": [
       "     Kategori  Total Penjualan\n",
       "0  Elektronik             2500\n",
       "1     Makanan              300\n",
       "2     Pakaian             1200"
      ]
     },
     "execution_count": 29,
     "metadata": {},
     "output_type": "execute_result"
    }
   ],
   "source": [
    "total_penjualan = df_mini.groupby('Kategori')['Penjualan'].sum().reset_index()\n",
    "total_penjualan.columns = ['Kategori', 'Total Penjualan']\n",
    "\n",
    "total_penjualan\n"
   ]
  },
  {
   "cell_type": "markdown",
   "id": "68b5007d",
   "metadata": {},
   "source": [
    "### count()\n",
    "Menghitung jumlah baris/data per grup"
   ]
  },
  {
   "cell_type": "code",
   "execution_count": 33,
   "id": "5734609d",
   "metadata": {},
   "outputs": [
    {
     "data": {
      "text/html": [
       "<div>\n",
       "<style scoped>\n",
       "    .dataframe tbody tr th:only-of-type {\n",
       "        vertical-align: middle;\n",
       "    }\n",
       "\n",
       "    .dataframe tbody tr th {\n",
       "        vertical-align: top;\n",
       "    }\n",
       "\n",
       "    .dataframe thead th {\n",
       "        text-align: right;\n",
       "    }\n",
       "</style>\n",
       "<table border=\"1\" class=\"dataframe\">\n",
       "  <thead>\n",
       "    <tr style=\"text-align: right;\">\n",
       "      <th></th>\n",
       "      <th>Kategori</th>\n",
       "      <th>Jumlah Baris atau data</th>\n",
       "    </tr>\n",
       "  </thead>\n",
       "  <tbody>\n",
       "    <tr>\n",
       "      <th>0</th>\n",
       "      <td>Elektronik</td>\n",
       "      <td>2</td>\n",
       "    </tr>\n",
       "    <tr>\n",
       "      <th>1</th>\n",
       "      <td>Makanan</td>\n",
       "      <td>1</td>\n",
       "    </tr>\n",
       "    <tr>\n",
       "      <th>2</th>\n",
       "      <td>Pakaian</td>\n",
       "      <td>2</td>\n",
       "    </tr>\n",
       "  </tbody>\n",
       "</table>\n",
       "</div>"
      ],
      "text/plain": [
       "     Kategori  Jumlah Baris atau data\n",
       "0  Elektronik                       2\n",
       "1     Makanan                       1\n",
       "2     Pakaian                       2"
      ]
     },
     "execution_count": 33,
     "metadata": {},
     "output_type": "execute_result"
    }
   ],
   "source": [
    "jumlah_data = df_mini.groupby('Kategori')['Penjualan'].count().reset_index()\n",
    "jumlah_data.columns = ['Kategori', 'Jumlah Baris atau data']\n",
    "\n",
    "jumlah_data"
   ]
  },
  {
   "cell_type": "markdown",
   "id": "6f96f59d",
   "metadata": {},
   "source": [
    "## Kesimpulan\n",
    "Semua fungsi ini bekerja dengan pendekatan :"
   ]
  },
  {
   "cell_type": "code",
   "execution_count": null,
   "id": "36a72831",
   "metadata": {},
   "outputs": [],
   "source": [
    "# Bentuk Struktur saja tidak perlu di run\n",
    "df.groupby('Kolom')['Kolom_Ag'].fungsi()\n",
    "\n",
    "# atau\n",
    "df.groupby('Kolom').agg({...})"
   ]
  },
  {
   "cell_type": "markdown",
   "id": "612b768f",
   "metadata": {},
   "source": [
    "------------"
   ]
  },
  {
   "cell_type": "markdown",
   "id": "00f109bb",
   "metadata": {},
   "source": [
    "## 2. Pivot Table dan Crosstab\n",
    "\n",
    "- Membuat pivot table untuk melihat ringkasan data berdasarkan baris dan kolom.\n",
    "\n",
    "- Menggunakan crosstab untuk menghitung frekuensi atau agregasi antar kategori.\n",
    "\n",
    "- Pivot Table itu seperti tabel dinamis di Excel — kamu bisa melihat total penjualan per kategori di setiap toko, dalam bentuk tabel dua dimensi.\n",
    "\n",
    "- Crosstab itu seperti membuat tabel kontingensi (jumlah kemunculan kombinasi dua variabel kategori)."
   ]
  },
  {
   "cell_type": "markdown",
   "id": "28f87c11",
   "metadata": {},
   "source": [
    "### Pivot Table\n",
    "\n",
    "Fungsi : pd.pivot_table()"
   ]
  },
  {
   "cell_type": "code",
   "execution_count": 34,
   "id": "e4ce9f6a",
   "metadata": {},
   "outputs": [
    {
     "data": {
      "text/html": [
       "<div>\n",
       "<style scoped>\n",
       "    .dataframe tbody tr th:only-of-type {\n",
       "        vertical-align: middle;\n",
       "    }\n",
       "\n",
       "    .dataframe tbody tr th {\n",
       "        vertical-align: top;\n",
       "    }\n",
       "\n",
       "    .dataframe thead th {\n",
       "        text-align: right;\n",
       "    }\n",
       "</style>\n",
       "<table border=\"1\" class=\"dataframe\">\n",
       "  <thead>\n",
       "    <tr style=\"text-align: right;\">\n",
       "      <th></th>\n",
       "      <th>Kategori</th>\n",
       "      <th>Toko</th>\n",
       "      <th>Penjualan</th>\n",
       "      <th>Transaksi</th>\n",
       "    </tr>\n",
       "  </thead>\n",
       "  <tbody>\n",
       "    <tr>\n",
       "      <th>0</th>\n",
       "      <td>Elektronik</td>\n",
       "      <td>Toko A</td>\n",
       "      <td>1000</td>\n",
       "      <td>10</td>\n",
       "    </tr>\n",
       "    <tr>\n",
       "      <th>1</th>\n",
       "      <td>Elektronik</td>\n",
       "      <td>Toko B</td>\n",
       "      <td>1500</td>\n",
       "      <td>15</td>\n",
       "    </tr>\n",
       "    <tr>\n",
       "      <th>2</th>\n",
       "      <td>Pakaian</td>\n",
       "      <td>Toko A</td>\n",
       "      <td>500</td>\n",
       "      <td>5</td>\n",
       "    </tr>\n",
       "    <tr>\n",
       "      <th>3</th>\n",
       "      <td>Pakaian</td>\n",
       "      <td>Toko B</td>\n",
       "      <td>700</td>\n",
       "      <td>7</td>\n",
       "    </tr>\n",
       "    <tr>\n",
       "      <th>4</th>\n",
       "      <td>Makanan</td>\n",
       "      <td>Toko A</td>\n",
       "      <td>300</td>\n",
       "      <td>3</td>\n",
       "    </tr>\n",
       "  </tbody>\n",
       "</table>\n",
       "</div>"
      ],
      "text/plain": [
       "     Kategori    Toko  Penjualan  Transaksi\n",
       "0  Elektronik  Toko A       1000         10\n",
       "1  Elektronik  Toko B       1500         15\n",
       "2     Pakaian  Toko A        500          5\n",
       "3     Pakaian  Toko B        700          7\n",
       "4     Makanan  Toko A        300          3"
      ]
     },
     "execution_count": 34,
     "metadata": {},
     "output_type": "execute_result"
    }
   ],
   "source": [
    "import pandas as pd\n",
    "\n",
    "data = {\n",
    "    'Kategori': ['Elektronik', 'Elektronik', 'Pakaian', 'Pakaian', 'Makanan'],\n",
    "    'Toko': ['Toko A', 'Toko B', 'Toko A', 'Toko B', 'Toko A'],\n",
    "    'Penjualan': [1000, 1500, 500, 700, 300],\n",
    "    'Transaksi': [10, 15, 5, 7, 3]\n",
    "}\n",
    "\n",
    "df_mini = pd.DataFrame(data)\n",
    "\n",
    "df_mini"
   ]
  },
  {
   "cell_type": "markdown",
   "id": "bf504020",
   "metadata": {},
   "source": [
    "Total Penjualan per Kategori di tiap Toko :"
   ]
  },
  {
   "cell_type": "code",
   "execution_count": 37,
   "id": "96b5c740",
   "metadata": {},
   "outputs": [
    {
     "data": {
      "text/html": [
       "<div>\n",
       "<style scoped>\n",
       "    .dataframe tbody tr th:only-of-type {\n",
       "        vertical-align: middle;\n",
       "    }\n",
       "\n",
       "    .dataframe tbody tr th {\n",
       "        vertical-align: top;\n",
       "    }\n",
       "\n",
       "    .dataframe thead th {\n",
       "        text-align: right;\n",
       "    }\n",
       "</style>\n",
       "<table border=\"1\" class=\"dataframe\">\n",
       "  <thead>\n",
       "    <tr style=\"text-align: right;\">\n",
       "      <th>Toko</th>\n",
       "      <th>Toko A</th>\n",
       "      <th>Toko B</th>\n",
       "    </tr>\n",
       "    <tr>\n",
       "      <th>Kategori</th>\n",
       "      <th></th>\n",
       "      <th></th>\n",
       "    </tr>\n",
       "  </thead>\n",
       "  <tbody>\n",
       "    <tr>\n",
       "      <th>Elektronik</th>\n",
       "      <td>1000</td>\n",
       "      <td>1500</td>\n",
       "    </tr>\n",
       "    <tr>\n",
       "      <th>Makanan</th>\n",
       "      <td>300</td>\n",
       "      <td>0</td>\n",
       "    </tr>\n",
       "    <tr>\n",
       "      <th>Pakaian</th>\n",
       "      <td>500</td>\n",
       "      <td>700</td>\n",
       "    </tr>\n",
       "  </tbody>\n",
       "</table>\n",
       "</div>"
      ],
      "text/plain": [
       "Toko        Toko A  Toko B\n",
       "Kategori                  \n",
       "Elektronik    1000    1500\n",
       "Makanan        300       0\n",
       "Pakaian        500     700"
      ]
     },
     "execution_count": 37,
     "metadata": {},
     "output_type": "execute_result"
    }
   ],
   "source": [
    "pivot1 = pd.pivot_table(df_mini, \n",
    "                        values='Penjualan', \n",
    "                        index='Kategori', \n",
    "                        columns='Toko', \n",
    "                        aggfunc='sum', \n",
    "                        fill_value=0)\n",
    "\n",
    "pivot1"
   ]
  },
  {
   "cell_type": "markdown",
   "id": "f475e308",
   "metadata": {},
   "source": [
    "### Penjelasan :\n",
    "- values='Penjualan': Nilai yang dirangkum.\n",
    "\n",
    "- index='Kategori'  : Ditaruh di baris.\n",
    "\n",
    "- columns='Toko'    : Ditaruh di kolom.\n",
    "\n",
    "- aggfunc='sum'     : Agregasi berupa penjumlahan.\n",
    "\n",
    "- fill_value=0      : Kosong → diisi 0."
   ]
  },
  {
   "cell_type": "markdown",
   "id": "d6a6172d",
   "metadata": {},
   "source": [
    "Rata-rata Transaksi per kombinasi :"
   ]
  },
  {
   "cell_type": "code",
   "execution_count": 38,
   "id": "cd61f6b5",
   "metadata": {},
   "outputs": [
    {
     "data": {
      "text/html": [
       "<div>\n",
       "<style scoped>\n",
       "    .dataframe tbody tr th:only-of-type {\n",
       "        vertical-align: middle;\n",
       "    }\n",
       "\n",
       "    .dataframe tbody tr th {\n",
       "        vertical-align: top;\n",
       "    }\n",
       "\n",
       "    .dataframe thead th {\n",
       "        text-align: right;\n",
       "    }\n",
       "</style>\n",
       "<table border=\"1\" class=\"dataframe\">\n",
       "  <thead>\n",
       "    <tr style=\"text-align: right;\">\n",
       "      <th>Kategori</th>\n",
       "      <th>Elektronik</th>\n",
       "      <th>Makanan</th>\n",
       "      <th>Pakaian</th>\n",
       "    </tr>\n",
       "    <tr>\n",
       "      <th>Toko</th>\n",
       "      <th></th>\n",
       "      <th></th>\n",
       "      <th></th>\n",
       "    </tr>\n",
       "  </thead>\n",
       "  <tbody>\n",
       "    <tr>\n",
       "      <th>Toko A</th>\n",
       "      <td>10.0</td>\n",
       "      <td>3.0</td>\n",
       "      <td>5.0</td>\n",
       "    </tr>\n",
       "    <tr>\n",
       "      <th>Toko B</th>\n",
       "      <td>15.0</td>\n",
       "      <td>0.0</td>\n",
       "      <td>7.0</td>\n",
       "    </tr>\n",
       "  </tbody>\n",
       "</table>\n",
       "</div>"
      ],
      "text/plain": [
       "Kategori  Elektronik  Makanan  Pakaian\n",
       "Toko                                  \n",
       "Toko A          10.0      3.0      5.0\n",
       "Toko B          15.0      0.0      7.0"
      ]
     },
     "execution_count": 38,
     "metadata": {},
     "output_type": "execute_result"
    }
   ],
   "source": [
    "pivot2 = pd.pivot_table(df_mini, \n",
    "                        values='Transaksi', \n",
    "                        index='Toko', \n",
    "                        columns='Kategori', \n",
    "                        aggfunc='mean', \n",
    "                        fill_value=0)\n",
    "\n",
    "pivot2"
   ]
  },
  {
   "cell_type": "markdown",
   "id": "1ce2fa51",
   "metadata": {},
   "source": [
    "### Crosstab"
   ]
  },
  {
   "cell_type": "markdown",
   "id": "d1f22041",
   "metadata": {},
   "source": [
    "Fungsi: pd.crosstab()"
   ]
  },
  {
   "cell_type": "markdown",
   "id": "964b4e8d",
   "metadata": {},
   "source": [
    "Jumlah data per kombinasi Kategori dan Toko :"
   ]
  },
  {
   "cell_type": "code",
   "execution_count": 39,
   "id": "b819fc49",
   "metadata": {},
   "outputs": [
    {
     "data": {
      "text/html": [
       "<div>\n",
       "<style scoped>\n",
       "    .dataframe tbody tr th:only-of-type {\n",
       "        vertical-align: middle;\n",
       "    }\n",
       "\n",
       "    .dataframe tbody tr th {\n",
       "        vertical-align: top;\n",
       "    }\n",
       "\n",
       "    .dataframe thead th {\n",
       "        text-align: right;\n",
       "    }\n",
       "</style>\n",
       "<table border=\"1\" class=\"dataframe\">\n",
       "  <thead>\n",
       "    <tr style=\"text-align: right;\">\n",
       "      <th>Toko</th>\n",
       "      <th>Toko A</th>\n",
       "      <th>Toko B</th>\n",
       "    </tr>\n",
       "    <tr>\n",
       "      <th>Kategori</th>\n",
       "      <th></th>\n",
       "      <th></th>\n",
       "    </tr>\n",
       "  </thead>\n",
       "  <tbody>\n",
       "    <tr>\n",
       "      <th>Elektronik</th>\n",
       "      <td>1</td>\n",
       "      <td>1</td>\n",
       "    </tr>\n",
       "    <tr>\n",
       "      <th>Makanan</th>\n",
       "      <td>1</td>\n",
       "      <td>0</td>\n",
       "    </tr>\n",
       "    <tr>\n",
       "      <th>Pakaian</th>\n",
       "      <td>1</td>\n",
       "      <td>1</td>\n",
       "    </tr>\n",
       "  </tbody>\n",
       "</table>\n",
       "</div>"
      ],
      "text/plain": [
       "Toko        Toko A  Toko B\n",
       "Kategori                  \n",
       "Elektronik       1       1\n",
       "Makanan          1       0\n",
       "Pakaian          1       1"
      ]
     },
     "execution_count": 39,
     "metadata": {},
     "output_type": "execute_result"
    }
   ],
   "source": [
    "ctab = pd.crosstab(df_mini['Kategori'], df_mini['Toko'])\n",
    "\n",
    "ctab\n",
    "# Ini cocok untuk menghitung frekuensi atau jumlah kemunculan kombinasi kategori."
   ]
  },
  {
   "cell_type": "markdown",
   "id": "f94cff8d",
   "metadata": {},
   "source": [
    "Crosstab dengan nilai dan agregasi. Misalnya, total Penjualan :"
   ]
  },
  {
   "cell_type": "code",
   "execution_count": 40,
   "id": "2152c195",
   "metadata": {},
   "outputs": [
    {
     "data": {
      "text/html": [
       "<div>\n",
       "<style scoped>\n",
       "    .dataframe tbody tr th:only-of-type {\n",
       "        vertical-align: middle;\n",
       "    }\n",
       "\n",
       "    .dataframe tbody tr th {\n",
       "        vertical-align: top;\n",
       "    }\n",
       "\n",
       "    .dataframe thead th {\n",
       "        text-align: right;\n",
       "    }\n",
       "</style>\n",
       "<table border=\"1\" class=\"dataframe\">\n",
       "  <thead>\n",
       "    <tr style=\"text-align: right;\">\n",
       "      <th>Toko</th>\n",
       "      <th>Toko A</th>\n",
       "      <th>Toko B</th>\n",
       "    </tr>\n",
       "    <tr>\n",
       "      <th>Kategori</th>\n",
       "      <th></th>\n",
       "      <th></th>\n",
       "    </tr>\n",
       "  </thead>\n",
       "  <tbody>\n",
       "    <tr>\n",
       "      <th>Elektronik</th>\n",
       "      <td>1000.0</td>\n",
       "      <td>1500.0</td>\n",
       "    </tr>\n",
       "    <tr>\n",
       "      <th>Makanan</th>\n",
       "      <td>300.0</td>\n",
       "      <td>0.0</td>\n",
       "    </tr>\n",
       "    <tr>\n",
       "      <th>Pakaian</th>\n",
       "      <td>500.0</td>\n",
       "      <td>700.0</td>\n",
       "    </tr>\n",
       "  </tbody>\n",
       "</table>\n",
       "</div>"
      ],
      "text/plain": [
       "Toko        Toko A  Toko B\n",
       "Kategori                  \n",
       "Elektronik  1000.0  1500.0\n",
       "Makanan      300.0     0.0\n",
       "Pakaian      500.0   700.0"
      ]
     },
     "execution_count": 40,
     "metadata": {},
     "output_type": "execute_result"
    }
   ],
   "source": [
    "ctab_penjualan = pd.crosstab(df_mini['Kategori'], \n",
    "                             df_mini['Toko'], \n",
    "                             values=df_mini['Penjualan'], \n",
    "                             aggfunc='sum').fillna(0)\n",
    "\n",
    "ctab_penjualan\n",
    "# Hasilnya sama seperti pivot, tapi ini lebih ringkas."
   ]
  },
  {
   "cell_type": "markdown",
   "id": "3cc36118",
   "metadata": {},
   "source": [
    "| Fungsi        | Gunanya                                                       |\n",
    "| ------------- | ------------------------------------------------------------- |\n",
    "| `pivot_table` | Merangkum nilai (sum, mean, count, dll) dalam bentuk tabel 2D |\n",
    "| `crosstab`    | Menghitung frekuensi atau agregasi antar kategori             |\n"
   ]
  },
  {
   "cell_type": "markdown",
   "id": "5bb40d7c",
   "metadata": {},
   "source": [
    "-----------"
   ]
  },
  {
   "cell_type": "markdown",
   "id": "c36e257c",
   "metadata": {},
   "source": [
    "## 3. Merge dan Join Dataset\n",
    "- Menggabungkan dua DataFrame berdasarkan kolom tertentu.\n",
    "\n",
    "- Mengenal jenis-jenis join: inner, left, right, outer.\n",
    "\n",
    "#### Analogi Sederhana\n",
    "\n",
    "Bayangkan kamu punya:\n",
    "\n",
    "- Tabel 1: Data Customer\n",
    "\n",
    "- Tabel 2: Data Penjualan\n",
    "\n",
    "Merge & Join = menggabungkan dua tabel yang punya kolom kunci sama, seperti Customer ID."
   ]
  },
  {
   "cell_type": "code",
   "execution_count": 41,
   "id": "f9b26673",
   "metadata": {},
   "outputs": [],
   "source": [
    "import pandas as pd\n",
    "\n",
    "# Data pelanggan\n",
    "pelanggan = pd.DataFrame({\n",
    "    'CustomerID': [1, 2, 3],\n",
    "    'Nama': ['Andi', 'Budi', 'Citra']\n",
    "})\n",
    "\n",
    "# Data pesanan\n",
    "pesanan = pd.DataFrame({\n",
    "    'OrderID': [101, 102, 103, 104],\n",
    "    'CustomerID': [1, 2, 2, 4],\n",
    "    'Total': [50000, 75000, 30000, 100000]\n",
    "})\n"
   ]
  },
  {
   "cell_type": "code",
   "execution_count": 42,
   "id": "012643bd",
   "metadata": {},
   "outputs": [
    {
     "data": {
      "text/html": [
       "<div>\n",
       "<style scoped>\n",
       "    .dataframe tbody tr th:only-of-type {\n",
       "        vertical-align: middle;\n",
       "    }\n",
       "\n",
       "    .dataframe tbody tr th {\n",
       "        vertical-align: top;\n",
       "    }\n",
       "\n",
       "    .dataframe thead th {\n",
       "        text-align: right;\n",
       "    }\n",
       "</style>\n",
       "<table border=\"1\" class=\"dataframe\">\n",
       "  <thead>\n",
       "    <tr style=\"text-align: right;\">\n",
       "      <th></th>\n",
       "      <th>CustomerID</th>\n",
       "      <th>Nama</th>\n",
       "    </tr>\n",
       "  </thead>\n",
       "  <tbody>\n",
       "    <tr>\n",
       "      <th>0</th>\n",
       "      <td>1</td>\n",
       "      <td>Andi</td>\n",
       "    </tr>\n",
       "    <tr>\n",
       "      <th>1</th>\n",
       "      <td>2</td>\n",
       "      <td>Budi</td>\n",
       "    </tr>\n",
       "    <tr>\n",
       "      <th>2</th>\n",
       "      <td>3</td>\n",
       "      <td>Citra</td>\n",
       "    </tr>\n",
       "  </tbody>\n",
       "</table>\n",
       "</div>"
      ],
      "text/plain": [
       "   CustomerID   Nama\n",
       "0           1   Andi\n",
       "1           2   Budi\n",
       "2           3  Citra"
      ]
     },
     "execution_count": 42,
     "metadata": {},
     "output_type": "execute_result"
    }
   ],
   "source": [
    "pelanggan"
   ]
  },
  {
   "cell_type": "code",
   "execution_count": 43,
   "id": "d45a8bde",
   "metadata": {},
   "outputs": [
    {
     "data": {
      "text/html": [
       "<div>\n",
       "<style scoped>\n",
       "    .dataframe tbody tr th:only-of-type {\n",
       "        vertical-align: middle;\n",
       "    }\n",
       "\n",
       "    .dataframe tbody tr th {\n",
       "        vertical-align: top;\n",
       "    }\n",
       "\n",
       "    .dataframe thead th {\n",
       "        text-align: right;\n",
       "    }\n",
       "</style>\n",
       "<table border=\"1\" class=\"dataframe\">\n",
       "  <thead>\n",
       "    <tr style=\"text-align: right;\">\n",
       "      <th></th>\n",
       "      <th>OrderID</th>\n",
       "      <th>CustomerID</th>\n",
       "      <th>Total</th>\n",
       "    </tr>\n",
       "  </thead>\n",
       "  <tbody>\n",
       "    <tr>\n",
       "      <th>0</th>\n",
       "      <td>101</td>\n",
       "      <td>1</td>\n",
       "      <td>50000</td>\n",
       "    </tr>\n",
       "    <tr>\n",
       "      <th>1</th>\n",
       "      <td>102</td>\n",
       "      <td>2</td>\n",
       "      <td>75000</td>\n",
       "    </tr>\n",
       "    <tr>\n",
       "      <th>2</th>\n",
       "      <td>103</td>\n",
       "      <td>2</td>\n",
       "      <td>30000</td>\n",
       "    </tr>\n",
       "    <tr>\n",
       "      <th>3</th>\n",
       "      <td>104</td>\n",
       "      <td>4</td>\n",
       "      <td>100000</td>\n",
       "    </tr>\n",
       "  </tbody>\n",
       "</table>\n",
       "</div>"
      ],
      "text/plain": [
       "   OrderID  CustomerID   Total\n",
       "0      101           1   50000\n",
       "1      102           2   75000\n",
       "2      103           2   30000\n",
       "3      104           4  100000"
      ]
     },
     "execution_count": 43,
     "metadata": {},
     "output_type": "execute_result"
    }
   ],
   "source": [
    "pesanan"
   ]
  },
  {
   "cell_type": "markdown",
   "id": "6c0f07d7",
   "metadata": {},
   "source": [
    "### Inner Join\n",
    "Menggabungkan data yang ada di kedua tabel :"
   ]
  },
  {
   "cell_type": "code",
   "execution_count": 44,
   "id": "4c5880ac",
   "metadata": {},
   "outputs": [
    {
     "data": {
      "text/html": [
       "<div>\n",
       "<style scoped>\n",
       "    .dataframe tbody tr th:only-of-type {\n",
       "        vertical-align: middle;\n",
       "    }\n",
       "\n",
       "    .dataframe tbody tr th {\n",
       "        vertical-align: top;\n",
       "    }\n",
       "\n",
       "    .dataframe thead th {\n",
       "        text-align: right;\n",
       "    }\n",
       "</style>\n",
       "<table border=\"1\" class=\"dataframe\">\n",
       "  <thead>\n",
       "    <tr style=\"text-align: right;\">\n",
       "      <th></th>\n",
       "      <th>CustomerID</th>\n",
       "      <th>Nama</th>\n",
       "      <th>OrderID</th>\n",
       "      <th>Total</th>\n",
       "    </tr>\n",
       "  </thead>\n",
       "  <tbody>\n",
       "    <tr>\n",
       "      <th>0</th>\n",
       "      <td>1</td>\n",
       "      <td>Andi</td>\n",
       "      <td>101</td>\n",
       "      <td>50000</td>\n",
       "    </tr>\n",
       "    <tr>\n",
       "      <th>1</th>\n",
       "      <td>2</td>\n",
       "      <td>Budi</td>\n",
       "      <td>102</td>\n",
       "      <td>75000</td>\n",
       "    </tr>\n",
       "    <tr>\n",
       "      <th>2</th>\n",
       "      <td>2</td>\n",
       "      <td>Budi</td>\n",
       "      <td>103</td>\n",
       "      <td>30000</td>\n",
       "    </tr>\n",
       "  </tbody>\n",
       "</table>\n",
       "</div>"
      ],
      "text/plain": [
       "   CustomerID  Nama  OrderID  Total\n",
       "0           1  Andi      101  50000\n",
       "1           2  Budi      102  75000\n",
       "2           2  Budi      103  30000"
      ]
     },
     "execution_count": 44,
     "metadata": {},
     "output_type": "execute_result"
    }
   ],
   "source": [
    "inner = pd.merge(pelanggan, pesanan, on='CustomerID', how='inner')\n",
    "\n",
    "inner"
   ]
  },
  {
   "cell_type": "markdown",
   "id": "b6b853e7",
   "metadata": {},
   "source": [
    "### Left Join\n",
    "Ambil semua data dari tabel kiri, yang kanan ikut kalau cocok :"
   ]
  },
  {
   "cell_type": "code",
   "execution_count": 45,
   "id": "740f91b9",
   "metadata": {},
   "outputs": [
    {
     "data": {
      "text/html": [
       "<div>\n",
       "<style scoped>\n",
       "    .dataframe tbody tr th:only-of-type {\n",
       "        vertical-align: middle;\n",
       "    }\n",
       "\n",
       "    .dataframe tbody tr th {\n",
       "        vertical-align: top;\n",
       "    }\n",
       "\n",
       "    .dataframe thead th {\n",
       "        text-align: right;\n",
       "    }\n",
       "</style>\n",
       "<table border=\"1\" class=\"dataframe\">\n",
       "  <thead>\n",
       "    <tr style=\"text-align: right;\">\n",
       "      <th></th>\n",
       "      <th>CustomerID</th>\n",
       "      <th>Nama</th>\n",
       "      <th>OrderID</th>\n",
       "      <th>Total</th>\n",
       "    </tr>\n",
       "  </thead>\n",
       "  <tbody>\n",
       "    <tr>\n",
       "      <th>0</th>\n",
       "      <td>1</td>\n",
       "      <td>Andi</td>\n",
       "      <td>101.0</td>\n",
       "      <td>50000.0</td>\n",
       "    </tr>\n",
       "    <tr>\n",
       "      <th>1</th>\n",
       "      <td>2</td>\n",
       "      <td>Budi</td>\n",
       "      <td>102.0</td>\n",
       "      <td>75000.0</td>\n",
       "    </tr>\n",
       "    <tr>\n",
       "      <th>2</th>\n",
       "      <td>2</td>\n",
       "      <td>Budi</td>\n",
       "      <td>103.0</td>\n",
       "      <td>30000.0</td>\n",
       "    </tr>\n",
       "    <tr>\n",
       "      <th>3</th>\n",
       "      <td>3</td>\n",
       "      <td>Citra</td>\n",
       "      <td>NaN</td>\n",
       "      <td>NaN</td>\n",
       "    </tr>\n",
       "  </tbody>\n",
       "</table>\n",
       "</div>"
      ],
      "text/plain": [
       "   CustomerID   Nama  OrderID    Total\n",
       "0           1   Andi    101.0  50000.0\n",
       "1           2   Budi    102.0  75000.0\n",
       "2           2   Budi    103.0  30000.0\n",
       "3           3  Citra      NaN      NaN"
      ]
     },
     "execution_count": 45,
     "metadata": {},
     "output_type": "execute_result"
    }
   ],
   "source": [
    "left = pd.merge(pelanggan, pesanan, on='CustomerID', how='left')\n",
    "\n",
    "left"
   ]
  },
  {
   "cell_type": "markdown",
   "id": "55c5439c",
   "metadata": {},
   "source": [
    "### Right Join\n",
    "Ambil semua data dari tabel kanan, yang kiri ikut kalau cocok :"
   ]
  },
  {
   "cell_type": "code",
   "execution_count": 46,
   "id": "42cb305e",
   "metadata": {},
   "outputs": [
    {
     "data": {
      "text/html": [
       "<div>\n",
       "<style scoped>\n",
       "    .dataframe tbody tr th:only-of-type {\n",
       "        vertical-align: middle;\n",
       "    }\n",
       "\n",
       "    .dataframe tbody tr th {\n",
       "        vertical-align: top;\n",
       "    }\n",
       "\n",
       "    .dataframe thead th {\n",
       "        text-align: right;\n",
       "    }\n",
       "</style>\n",
       "<table border=\"1\" class=\"dataframe\">\n",
       "  <thead>\n",
       "    <tr style=\"text-align: right;\">\n",
       "      <th></th>\n",
       "      <th>CustomerID</th>\n",
       "      <th>Nama</th>\n",
       "      <th>OrderID</th>\n",
       "      <th>Total</th>\n",
       "    </tr>\n",
       "  </thead>\n",
       "  <tbody>\n",
       "    <tr>\n",
       "      <th>0</th>\n",
       "      <td>1</td>\n",
       "      <td>Andi</td>\n",
       "      <td>101</td>\n",
       "      <td>50000</td>\n",
       "    </tr>\n",
       "    <tr>\n",
       "      <th>1</th>\n",
       "      <td>2</td>\n",
       "      <td>Budi</td>\n",
       "      <td>102</td>\n",
       "      <td>75000</td>\n",
       "    </tr>\n",
       "    <tr>\n",
       "      <th>2</th>\n",
       "      <td>2</td>\n",
       "      <td>Budi</td>\n",
       "      <td>103</td>\n",
       "      <td>30000</td>\n",
       "    </tr>\n",
       "    <tr>\n",
       "      <th>3</th>\n",
       "      <td>4</td>\n",
       "      <td>NaN</td>\n",
       "      <td>104</td>\n",
       "      <td>100000</td>\n",
       "    </tr>\n",
       "  </tbody>\n",
       "</table>\n",
       "</div>"
      ],
      "text/plain": [
       "   CustomerID  Nama  OrderID   Total\n",
       "0           1  Andi      101   50000\n",
       "1           2  Budi      102   75000\n",
       "2           2  Budi      103   30000\n",
       "3           4   NaN      104  100000"
      ]
     },
     "execution_count": 46,
     "metadata": {},
     "output_type": "execute_result"
    }
   ],
   "source": [
    "right = pd.merge(pelanggan, pesanan, on='CustomerID', how='right')\n",
    "\n",
    "right"
   ]
  },
  {
   "cell_type": "markdown",
   "id": "1346bab3",
   "metadata": {},
   "source": [
    "### Outer Join\n",
    "Gabungkan semua data, baik yang cocok maupun tidak cocok :"
   ]
  },
  {
   "cell_type": "code",
   "execution_count": 47,
   "id": "e18c3045",
   "metadata": {},
   "outputs": [
    {
     "data": {
      "text/html": [
       "<div>\n",
       "<style scoped>\n",
       "    .dataframe tbody tr th:only-of-type {\n",
       "        vertical-align: middle;\n",
       "    }\n",
       "\n",
       "    .dataframe tbody tr th {\n",
       "        vertical-align: top;\n",
       "    }\n",
       "\n",
       "    .dataframe thead th {\n",
       "        text-align: right;\n",
       "    }\n",
       "</style>\n",
       "<table border=\"1\" class=\"dataframe\">\n",
       "  <thead>\n",
       "    <tr style=\"text-align: right;\">\n",
       "      <th></th>\n",
       "      <th>CustomerID</th>\n",
       "      <th>Nama</th>\n",
       "      <th>OrderID</th>\n",
       "      <th>Total</th>\n",
       "    </tr>\n",
       "  </thead>\n",
       "  <tbody>\n",
       "    <tr>\n",
       "      <th>0</th>\n",
       "      <td>1</td>\n",
       "      <td>Andi</td>\n",
       "      <td>101.0</td>\n",
       "      <td>50000.0</td>\n",
       "    </tr>\n",
       "    <tr>\n",
       "      <th>1</th>\n",
       "      <td>2</td>\n",
       "      <td>Budi</td>\n",
       "      <td>102.0</td>\n",
       "      <td>75000.0</td>\n",
       "    </tr>\n",
       "    <tr>\n",
       "      <th>2</th>\n",
       "      <td>2</td>\n",
       "      <td>Budi</td>\n",
       "      <td>103.0</td>\n",
       "      <td>30000.0</td>\n",
       "    </tr>\n",
       "    <tr>\n",
       "      <th>3</th>\n",
       "      <td>3</td>\n",
       "      <td>Citra</td>\n",
       "      <td>NaN</td>\n",
       "      <td>NaN</td>\n",
       "    </tr>\n",
       "    <tr>\n",
       "      <th>4</th>\n",
       "      <td>4</td>\n",
       "      <td>NaN</td>\n",
       "      <td>104.0</td>\n",
       "      <td>100000.0</td>\n",
       "    </tr>\n",
       "  </tbody>\n",
       "</table>\n",
       "</div>"
      ],
      "text/plain": [
       "   CustomerID   Nama  OrderID     Total\n",
       "0           1   Andi    101.0   50000.0\n",
       "1           2   Budi    102.0   75000.0\n",
       "2           2   Budi    103.0   30000.0\n",
       "3           3  Citra      NaN       NaN\n",
       "4           4    NaN    104.0  100000.0"
      ]
     },
     "execution_count": 47,
     "metadata": {},
     "output_type": "execute_result"
    }
   ],
   "source": [
    "outer = pd.merge(pelanggan, pesanan, on='CustomerID', how='outer')\n",
    "\n",
    "outer"
   ]
  },
  {
   "cell_type": "markdown",
   "id": "40637483",
   "metadata": {},
   "source": [
    "### Rangkuman Join\n",
    "\n",
    "| Tipe Join | Data dari Kiri | Data dari Kanan | Baris Tidak Cocok         |\n",
    "| --------- | -------------- | --------------- | ------------------------- |\n",
    "| Inner     | ✅ kalau cocok  | ✅ kalau cocok   | ❌ dihapus                 |\n",
    "| Left      | ✅ semua        | ✅ kalau cocok   | ❌ kanan kosong            |\n",
    "| Right     | ✅ kalau cocok  | ✅ semua         | ❌ kiri kosong             |\n",
    "| Outer     | ✅ semua        | ✅ semua         | ✅ isi NaN kalau tak cocok |\n"
   ]
  },
  {
   "cell_type": "markdown",
   "id": "771fbbaf",
   "metadata": {},
   "source": [
    "### Gambaran\n"
   ]
  },
  {
   "cell_type": "markdown",
   "id": "aa8bc24d",
   "metadata": {},
   "source": [
    "Tabel Pelanggan (kiri) :\n",
    "```diff\n",
    "CustomerID   Nama\n",
    "-----------  ------\n",
    "1            Andi\n",
    "2            Budi\n",
    "3            Citra\n",
    "```\n",
    "\n",
    "Tabel pesanan (kanan):\n",
    "```diff\n",
    "OrderID   CustomerID   Total\n",
    "--------  -----------  ------\n",
    "101       1            50000\n",
    "102       2            75000\n",
    "103       2            30000\n",
    "104       4            100000\n",
    "```"
   ]
  },
  {
   "cell_type": "markdown",
   "id": "6e4df080",
   "metadata": {},
   "source": [
    "### Cara Kerja Join\n",
    "\n",
    "### 1. Inner Join (how ='inner')\n",
    "Hanya ambil data yang cocok di kedua tabel\n",
    "```lua\n",
    "  pelanggan             pesanan\n",
    "  ----------            ---------\n",
    "  1  Andi     ─────▶     1  50000\n",
    "  2  Budi     ─────▶     2  75000\n",
    "                     ─────▶     2  30000\n",
    "\n",
    "⬇ Hasil:\n",
    "\n",
    "CustomerID  Nama   OrderID  Total\n",
    "----------- ------ -------- -------\n",
    "1           Andi   101      50000\n",
    "2           Budi   102      75000\n",
    "2           Budi   103      30000\n",
    "```"
   ]
  },
  {
   "cell_type": "markdown",
   "id": "a1dbbe83",
   "metadata": {},
   "source": [
    "### 2. Left Join (how='left')\n",
    "Ambil semua dari tabel kiri, kanan ikut jika cocok :\n",
    "```lua\n",
    "  pelanggan             pesanan\n",
    "  ----------            ---------\n",
    "  1  Andi     ─────▶     1  50000\n",
    "  2  Budi     ─────▶     2  75000\n",
    "                     ─────▶     2  30000\n",
    "  3  Citra    ─────▶     (tidak ada)\n",
    "\n",
    "⬇ Hasil:\n",
    "\n",
    "CustomerID  Nama   OrderID  Total\n",
    "----------- ------ -------- -------\n",
    "1           Andi   101      50000\n",
    "2           Budi   102      75000\n",
    "2           Budi   103      30000\n",
    "3           Citra  NaN      NaN\n",
    "```"
   ]
  },
  {
   "cell_type": "markdown",
   "id": "a333f4d2",
   "metadata": {},
   "source": [
    "### 3. Right Join (how='right')\n",
    "Ambil semua dari tabel kanan, kiri ikut jika cocok :\n",
    "```lua\n",
    "  pelanggan             pesanan\n",
    "  ----------            ---------\n",
    "  1  Andi     ◀─────     1  50000\n",
    "  2  Budi     ◀─────     2  75000\n",
    "                     ◀─────     2  30000\n",
    "  (tidak ada) ◀─────     4  100000\n",
    "\n",
    "⬇ Hasil:\n",
    "\n",
    "CustomerID  Nama   OrderID  Total\n",
    "----------- ------ -------- -------\n",
    "1           Andi   101      50000\n",
    "2           Budi   102      75000\n",
    "2           Budi   103      30000\n",
    "4           NaN    104      100000\n",
    "```"
   ]
  },
  {
   "cell_type": "markdown",
   "id": "bc269931",
   "metadata": {},
   "source": [
    "### 4. Outer Join (how='outer')\n",
    "Ambil semua dari kedua tabel, isi kosong kalau tidak cocok :\n",
    "```lua\n",
    "  pelanggan             pesanan\n",
    "  ----------            ---------\n",
    "  1  Andi     ◀─────▶     1  50000\n",
    "  2  Budi     ◀─────▶     2  75000\n",
    "                     ◀─────▶     2  30000\n",
    "  3  Citra    ◀─────▶     (tidak ada)\n",
    "  (tidak ada) ◀─────▶     4  100000\n",
    "\n",
    "⬇ Hasil:\n",
    "\n",
    "CustomerID  Nama   OrderID  Total\n",
    "----------- ------ -------- -------\n",
    "1           Andi   101      50000\n",
    "2           Budi   102      75000\n",
    "2           Budi   103      30000\n",
    "3           Citra  NaN      NaN\n",
    "4           NaN    104      100000\n",
    "```"
   ]
  },
  {
   "cell_type": "markdown",
   "id": "a1c94781",
   "metadata": {},
   "source": [
    "-----------"
   ]
  },
  {
   "cell_type": "markdown",
   "id": "0062b157",
   "metadata": {},
   "source": [
    "## 4. Reshape dan Melt\n",
    "membahas cara mengubah bentuk (struktur) DataFrame, dari lebar ke panjang atau sebaliknya.\n",
    "\n",
    "Memahami fungsi melt() dan pivot()\n",
    "\n",
    "Mengubah data dari bentuk lebar (wide) ke panjang (long), dan sebaliknya\n",
    "\n",
    "### Analogi\n",
    "\n",
    "Bayangkan data kamu seperti lembar Excel dengan kolom per bulan:\n",
    "```lua\n",
    "| Produk | Jan | Feb | Mar |\n",
    "```\n",
    "Tapi kamu ingin ubah jadi:\n",
    "```lua\n",
    "| Produk | Bulan | Penjualan |\n",
    "```\n",
    "ini adalah melt"
   ]
  },
  {
   "cell_type": "code",
   "execution_count": 48,
   "id": "9523085c",
   "metadata": {},
   "outputs": [
    {
     "data": {
      "text/html": [
       "<div>\n",
       "<style scoped>\n",
       "    .dataframe tbody tr th:only-of-type {\n",
       "        vertical-align: middle;\n",
       "    }\n",
       "\n",
       "    .dataframe tbody tr th {\n",
       "        vertical-align: top;\n",
       "    }\n",
       "\n",
       "    .dataframe thead th {\n",
       "        text-align: right;\n",
       "    }\n",
       "</style>\n",
       "<table border=\"1\" class=\"dataframe\">\n",
       "  <thead>\n",
       "    <tr style=\"text-align: right;\">\n",
       "      <th></th>\n",
       "      <th>Produk</th>\n",
       "      <th>Jan</th>\n",
       "      <th>Feb</th>\n",
       "      <th>Mar</th>\n",
       "    </tr>\n",
       "  </thead>\n",
       "  <tbody>\n",
       "    <tr>\n",
       "      <th>0</th>\n",
       "      <td>A</td>\n",
       "      <td>100</td>\n",
       "      <td>120</td>\n",
       "      <td>130</td>\n",
       "    </tr>\n",
       "    <tr>\n",
       "      <th>1</th>\n",
       "      <td>B</td>\n",
       "      <td>150</td>\n",
       "      <td>180</td>\n",
       "      <td>170</td>\n",
       "    </tr>\n",
       "    <tr>\n",
       "      <th>2</th>\n",
       "      <td>C</td>\n",
       "      <td>200</td>\n",
       "      <td>210</td>\n",
       "      <td>190</td>\n",
       "    </tr>\n",
       "  </tbody>\n",
       "</table>\n",
       "</div>"
      ],
      "text/plain": [
       "  Produk  Jan  Feb  Mar\n",
       "0      A  100  120  130\n",
       "1      B  150  180  170\n",
       "2      C  200  210  190"
      ]
     },
     "execution_count": 48,
     "metadata": {},
     "output_type": "execute_result"
    }
   ],
   "source": [
    "import pandas as pd\n",
    "\n",
    "data = {\n",
    "    'Produk': ['A', 'B', 'C'],\n",
    "    'Jan': [100, 150, 200],\n",
    "    'Feb': [120, 180, 210],\n",
    "    'Mar': [130, 170, 190]\n",
    "}\n",
    "\n",
    "df_a = pd.DataFrame(data)\n",
    "\n",
    "df_a"
   ]
  },
  {
   "cell_type": "markdown",
   "id": "4e04c681",
   "metadata": {},
   "source": [
    "### melt()\n",
    "Mengubah format wide menjadi long (data panjang per baris)."
   ]
  },
  {
   "cell_type": "code",
   "execution_count": 49,
   "id": "d1767d86",
   "metadata": {},
   "outputs": [
    {
     "data": {
      "text/html": [
       "<div>\n",
       "<style scoped>\n",
       "    .dataframe tbody tr th:only-of-type {\n",
       "        vertical-align: middle;\n",
       "    }\n",
       "\n",
       "    .dataframe tbody tr th {\n",
       "        vertical-align: top;\n",
       "    }\n",
       "\n",
       "    .dataframe thead th {\n",
       "        text-align: right;\n",
       "    }\n",
       "</style>\n",
       "<table border=\"1\" class=\"dataframe\">\n",
       "  <thead>\n",
       "    <tr style=\"text-align: right;\">\n",
       "      <th></th>\n",
       "      <th>Produk</th>\n",
       "      <th>Bulan</th>\n",
       "      <th>Penjualan</th>\n",
       "    </tr>\n",
       "  </thead>\n",
       "  <tbody>\n",
       "    <tr>\n",
       "      <th>0</th>\n",
       "      <td>A</td>\n",
       "      <td>Jan</td>\n",
       "      <td>100</td>\n",
       "    </tr>\n",
       "    <tr>\n",
       "      <th>1</th>\n",
       "      <td>B</td>\n",
       "      <td>Jan</td>\n",
       "      <td>150</td>\n",
       "    </tr>\n",
       "    <tr>\n",
       "      <th>2</th>\n",
       "      <td>C</td>\n",
       "      <td>Jan</td>\n",
       "      <td>200</td>\n",
       "    </tr>\n",
       "    <tr>\n",
       "      <th>3</th>\n",
       "      <td>A</td>\n",
       "      <td>Feb</td>\n",
       "      <td>120</td>\n",
       "    </tr>\n",
       "    <tr>\n",
       "      <th>4</th>\n",
       "      <td>B</td>\n",
       "      <td>Feb</td>\n",
       "      <td>180</td>\n",
       "    </tr>\n",
       "    <tr>\n",
       "      <th>5</th>\n",
       "      <td>C</td>\n",
       "      <td>Feb</td>\n",
       "      <td>210</td>\n",
       "    </tr>\n",
       "    <tr>\n",
       "      <th>6</th>\n",
       "      <td>A</td>\n",
       "      <td>Mar</td>\n",
       "      <td>130</td>\n",
       "    </tr>\n",
       "    <tr>\n",
       "      <th>7</th>\n",
       "      <td>B</td>\n",
       "      <td>Mar</td>\n",
       "      <td>170</td>\n",
       "    </tr>\n",
       "    <tr>\n",
       "      <th>8</th>\n",
       "      <td>C</td>\n",
       "      <td>Mar</td>\n",
       "      <td>190</td>\n",
       "    </tr>\n",
       "  </tbody>\n",
       "</table>\n",
       "</div>"
      ],
      "text/plain": [
       "  Produk Bulan  Penjualan\n",
       "0      A   Jan        100\n",
       "1      B   Jan        150\n",
       "2      C   Jan        200\n",
       "3      A   Feb        120\n",
       "4      B   Feb        180\n",
       "5      C   Feb        210\n",
       "6      A   Mar        130\n",
       "7      B   Mar        170\n",
       "8      C   Mar        190"
      ]
     },
     "execution_count": 49,
     "metadata": {},
     "output_type": "execute_result"
    }
   ],
   "source": [
    "df_melt = pd.melt(df_a, \n",
    "                  id_vars='Produk', \n",
    "                  value_vars=['Jan', 'Feb', 'Mar'],\n",
    "                  var_name='Bulan', value_name='Penjualan')\n",
    "\n",
    "df_melt"
   ]
  },
  {
   "cell_type": "markdown",
   "id": "7f10e190",
   "metadata": {},
   "source": [
    "jika ingin mengembalikan seperti semula bisa mengggunakan pivot.\n",
    "\n",
    "karena pivot mengubah dari long ke wide format :"
   ]
  },
  {
   "cell_type": "code",
   "execution_count": 50,
   "id": "b08048b1",
   "metadata": {},
   "outputs": [
    {
     "data": {
      "text/html": [
       "<div>\n",
       "<style scoped>\n",
       "    .dataframe tbody tr th:only-of-type {\n",
       "        vertical-align: middle;\n",
       "    }\n",
       "\n",
       "    .dataframe tbody tr th {\n",
       "        vertical-align: top;\n",
       "    }\n",
       "\n",
       "    .dataframe thead th {\n",
       "        text-align: right;\n",
       "    }\n",
       "</style>\n",
       "<table border=\"1\" class=\"dataframe\">\n",
       "  <thead>\n",
       "    <tr style=\"text-align: right;\">\n",
       "      <th>Bulan</th>\n",
       "      <th>Produk</th>\n",
       "      <th>Feb</th>\n",
       "      <th>Jan</th>\n",
       "      <th>Mar</th>\n",
       "    </tr>\n",
       "  </thead>\n",
       "  <tbody>\n",
       "    <tr>\n",
       "      <th>0</th>\n",
       "      <td>A</td>\n",
       "      <td>120</td>\n",
       "      <td>100</td>\n",
       "      <td>130</td>\n",
       "    </tr>\n",
       "    <tr>\n",
       "      <th>1</th>\n",
       "      <td>B</td>\n",
       "      <td>180</td>\n",
       "      <td>150</td>\n",
       "      <td>170</td>\n",
       "    </tr>\n",
       "    <tr>\n",
       "      <th>2</th>\n",
       "      <td>C</td>\n",
       "      <td>210</td>\n",
       "      <td>200</td>\n",
       "      <td>190</td>\n",
       "    </tr>\n",
       "  </tbody>\n",
       "</table>\n",
       "</div>"
      ],
      "text/plain": [
       "Bulan Produk  Feb  Jan  Mar\n",
       "0          A  120  100  130\n",
       "1          B  180  150  170\n",
       "2          C  210  200  190"
      ]
     },
     "execution_count": 50,
     "metadata": {},
     "output_type": "execute_result"
    }
   ],
   "source": [
    "df_pivot = df_melt.pivot(index='Produk', columns='Bulan', values='Penjualan').reset_index()\n",
    "\n",
    "df_pivot"
   ]
  },
  {
   "cell_type": "markdown",
   "id": "caf678a6",
   "metadata": {},
   "source": [
    "### stack() dan unstack()\n",
    "\n",
    "stack() dan unstack() ini digunakan untuk mengubah level baris dan kolom (MultiIndex) — biasanya dipakai ketika data kamu punya beberapa level indeks."
   ]
  },
  {
   "cell_type": "markdown",
   "id": "b16d5803",
   "metadata": {},
   "source": [
    "### 1. Membuat produk sebagai index\n",
    "stack() bekerja lebih baik kalau ada satu kolom index, kita set dulu kolom Produk jadi index:"
   ]
  },
  {
   "cell_type": "code",
   "execution_count": 51,
   "id": "e76716e3",
   "metadata": {},
   "outputs": [
    {
     "data": {
      "text/html": [
       "<div>\n",
       "<style scoped>\n",
       "    .dataframe tbody tr th:only-of-type {\n",
       "        vertical-align: middle;\n",
       "    }\n",
       "\n",
       "    .dataframe tbody tr th {\n",
       "        vertical-align: top;\n",
       "    }\n",
       "\n",
       "    .dataframe thead th {\n",
       "        text-align: right;\n",
       "    }\n",
       "</style>\n",
       "<table border=\"1\" class=\"dataframe\">\n",
       "  <thead>\n",
       "    <tr style=\"text-align: right;\">\n",
       "      <th></th>\n",
       "      <th>Jan</th>\n",
       "      <th>Feb</th>\n",
       "      <th>Mar</th>\n",
       "    </tr>\n",
       "    <tr>\n",
       "      <th>Produk</th>\n",
       "      <th></th>\n",
       "      <th></th>\n",
       "      <th></th>\n",
       "    </tr>\n",
       "  </thead>\n",
       "  <tbody>\n",
       "    <tr>\n",
       "      <th>A</th>\n",
       "      <td>100</td>\n",
       "      <td>120</td>\n",
       "      <td>130</td>\n",
       "    </tr>\n",
       "    <tr>\n",
       "      <th>B</th>\n",
       "      <td>150</td>\n",
       "      <td>180</td>\n",
       "      <td>170</td>\n",
       "    </tr>\n",
       "    <tr>\n",
       "      <th>C</th>\n",
       "      <td>200</td>\n",
       "      <td>210</td>\n",
       "      <td>190</td>\n",
       "    </tr>\n",
       "  </tbody>\n",
       "</table>\n",
       "</div>"
      ],
      "text/plain": [
       "        Jan  Feb  Mar\n",
       "Produk               \n",
       "A       100  120  130\n",
       "B       150  180  170\n",
       "C       200  210  190"
      ]
     },
     "execution_count": 51,
     "metadata": {},
     "output_type": "execute_result"
    }
   ],
   "source": [
    "df_b = df_a.set_index('Produk')\n",
    "\n",
    "df_b"
   ]
  },
  {
   "cell_type": "markdown",
   "id": "4ee65307",
   "metadata": {},
   "source": [
    "### 2. Mengggunakan stack() untuk Mengubah kolom menjadi baris"
   ]
  },
  {
   "cell_type": "code",
   "execution_count": 52,
   "id": "cddad868",
   "metadata": {},
   "outputs": [
    {
     "name": "stdout",
     "output_type": "stream",
     "text": [
      "Produk     \n",
      "A       Jan    100\n",
      "        Feb    120\n",
      "        Mar    130\n",
      "B       Jan    150\n",
      "        Feb    180\n",
      "        Mar    170\n",
      "C       Jan    200\n",
      "        Feb    210\n",
      "        Mar    190\n",
      "dtype: int64\n"
     ]
    }
   ],
   "source": [
    "# Series dengan Multiindex\n",
    "df_stacked = df_b.stack()\n",
    "\n",
    "print(df_stacked)"
   ]
  },
  {
   "cell_type": "markdown",
   "id": "2300b741",
   "metadata": {},
   "source": [
    "### Penjelasan :\n",
    "- Kolom Jan, Feb, dan Mar sekarang menjadi baris baru.\n",
    "\n",
    "- Produk jadi level 1 index, sedangkan nama bulan (Jan, Feb, dll) jadi level 2 index.\n",
    "\n",
    "agak mirip ya sama melt()"
   ]
  },
  {
   "cell_type": "markdown",
   "id": "016d0d4e",
   "metadata": {},
   "source": [
    "Kalau mau jadi tabel :"
   ]
  },
  {
   "cell_type": "code",
   "execution_count": 53,
   "id": "552beece",
   "metadata": {},
   "outputs": [
    {
     "data": {
      "text/html": [
       "<div>\n",
       "<style scoped>\n",
       "    .dataframe tbody tr th:only-of-type {\n",
       "        vertical-align: middle;\n",
       "    }\n",
       "\n",
       "    .dataframe tbody tr th {\n",
       "        vertical-align: top;\n",
       "    }\n",
       "\n",
       "    .dataframe thead th {\n",
       "        text-align: right;\n",
       "    }\n",
       "</style>\n",
       "<table border=\"1\" class=\"dataframe\">\n",
       "  <thead>\n",
       "    <tr style=\"text-align: right;\">\n",
       "      <th></th>\n",
       "      <th>Produk</th>\n",
       "      <th>Bulan</th>\n",
       "      <th>Penjualan</th>\n",
       "    </tr>\n",
       "  </thead>\n",
       "  <tbody>\n",
       "    <tr>\n",
       "      <th>0</th>\n",
       "      <td>A</td>\n",
       "      <td>Jan</td>\n",
       "      <td>100</td>\n",
       "    </tr>\n",
       "    <tr>\n",
       "      <th>1</th>\n",
       "      <td>A</td>\n",
       "      <td>Feb</td>\n",
       "      <td>120</td>\n",
       "    </tr>\n",
       "    <tr>\n",
       "      <th>2</th>\n",
       "      <td>A</td>\n",
       "      <td>Mar</td>\n",
       "      <td>130</td>\n",
       "    </tr>\n",
       "    <tr>\n",
       "      <th>3</th>\n",
       "      <td>B</td>\n",
       "      <td>Jan</td>\n",
       "      <td>150</td>\n",
       "    </tr>\n",
       "    <tr>\n",
       "      <th>4</th>\n",
       "      <td>B</td>\n",
       "      <td>Feb</td>\n",
       "      <td>180</td>\n",
       "    </tr>\n",
       "    <tr>\n",
       "      <th>5</th>\n",
       "      <td>B</td>\n",
       "      <td>Mar</td>\n",
       "      <td>170</td>\n",
       "    </tr>\n",
       "    <tr>\n",
       "      <th>6</th>\n",
       "      <td>C</td>\n",
       "      <td>Jan</td>\n",
       "      <td>200</td>\n",
       "    </tr>\n",
       "    <tr>\n",
       "      <th>7</th>\n",
       "      <td>C</td>\n",
       "      <td>Feb</td>\n",
       "      <td>210</td>\n",
       "    </tr>\n",
       "    <tr>\n",
       "      <th>8</th>\n",
       "      <td>C</td>\n",
       "      <td>Mar</td>\n",
       "      <td>190</td>\n",
       "    </tr>\n",
       "  </tbody>\n",
       "</table>\n",
       "</div>"
      ],
      "text/plain": [
       "  Produk Bulan  Penjualan\n",
       "0      A   Jan        100\n",
       "1      A   Feb        120\n",
       "2      A   Mar        130\n",
       "3      B   Jan        150\n",
       "4      B   Feb        180\n",
       "5      B   Mar        170\n",
       "6      C   Jan        200\n",
       "7      C   Feb        210\n",
       "8      C   Mar        190"
      ]
     },
     "execution_count": 53,
     "metadata": {},
     "output_type": "execute_result"
    }
   ],
   "source": [
    "df_stacked = df_b.stack().reset_index()\n",
    "df_stacked.columns = ['Produk', 'Bulan', 'Penjualan']\n",
    "\n",
    "df_stacked"
   ]
  },
  {
   "cell_type": "markdown",
   "id": "3cccb88e",
   "metadata": {},
   "source": [
    "### 3. unstack() untuk Mengembalikan ke format semula"
   ]
  },
  {
   "cell_type": "code",
   "execution_count": 54,
   "id": "872a9a89",
   "metadata": {},
   "outputs": [
    {
     "name": "stdout",
     "output_type": "stream",
     "text": [
      "Produk     0      A\n",
      "           1      A\n",
      "           2      A\n",
      "           3      B\n",
      "           4      B\n",
      "           5      B\n",
      "           6      C\n",
      "           7      C\n",
      "           8      C\n",
      "Bulan      0    Jan\n",
      "           1    Feb\n",
      "           2    Mar\n",
      "           3    Jan\n",
      "           4    Feb\n",
      "           5    Mar\n",
      "           6    Jan\n",
      "           7    Feb\n",
      "           8    Mar\n",
      "Penjualan  0    100\n",
      "           1    120\n",
      "           2    130\n",
      "           3    150\n",
      "           4    180\n",
      "           5    170\n",
      "           6    200\n",
      "           7    210\n",
      "           8    190\n",
      "dtype: object\n"
     ]
    }
   ],
   "source": [
    "df_unstacked = df_stacked.unstack()\n",
    "\n",
    "print(df_unstacked)"
   ]
  },
  {
   "cell_type": "markdown",
   "id": "666fd893",
   "metadata": {},
   "source": [
    "jadi kembali seperti semula deh"
   ]
  },
  {
   "cell_type": "markdown",
   "id": "65fb63bc",
   "metadata": {},
   "source": [
    "### Perbedaan dengan melt :\n",
    "- melt() hasil akhirnya adalah DataFrame dengan kolom 'Produk', 'Bulan', dan 'Penjualan'.\n",
    "\n",
    "- stack() hasil akhirnya adalah Series dengan MultiIndex.\n",
    "\n",
    "- Gunakan stack() jika kamu nyaman dengan index yang kompleks atau ingin manipulasi lanjutan seperti groupby() MultiIndex."
   ]
  },
  {
   "cell_type": "markdown",
   "id": "1fc41c4e",
   "metadata": {},
   "source": [
    "----------------"
   ]
  },
  {
   "cell_type": "markdown",
   "id": "f134846a",
   "metadata": {},
   "source": [
    "## 5. Data time series vs Data Cross-sectional\n",
    "\n",
    "### 1. Time series\n",
    "Adalah data yang dikumpulkan berdasarkan urutan waktu tertentu, biasanya teratur seperti harian, mingguan, bulanan.\n",
    "\n",
    "Contoh: Harga saham harian, jumlah penjualan bulanan, suhu setiap jam."
   ]
  },
  {
   "cell_type": "code",
   "execution_count": 55,
   "id": "7759ed5c",
   "metadata": {},
   "outputs": [
    {
     "data": {
      "text/html": [
       "<div>\n",
       "<style scoped>\n",
       "    .dataframe tbody tr th:only-of-type {\n",
       "        vertical-align: middle;\n",
       "    }\n",
       "\n",
       "    .dataframe tbody tr th {\n",
       "        vertical-align: top;\n",
       "    }\n",
       "\n",
       "    .dataframe thead th {\n",
       "        text-align: right;\n",
       "    }\n",
       "</style>\n",
       "<table border=\"1\" class=\"dataframe\">\n",
       "  <thead>\n",
       "    <tr style=\"text-align: right;\">\n",
       "      <th></th>\n",
       "      <th>Tanggal</th>\n",
       "      <th>Penjualan</th>\n",
       "    </tr>\n",
       "  </thead>\n",
       "  <tbody>\n",
       "    <tr>\n",
       "      <th>0</th>\n",
       "      <td>2025-01-01</td>\n",
       "      <td>100</td>\n",
       "    </tr>\n",
       "    <tr>\n",
       "      <th>1</th>\n",
       "      <td>2025-01-02</td>\n",
       "      <td>120</td>\n",
       "    </tr>\n",
       "    <tr>\n",
       "      <th>2</th>\n",
       "      <td>2025-01-03</td>\n",
       "      <td>130</td>\n",
       "    </tr>\n",
       "    <tr>\n",
       "      <th>3</th>\n",
       "      <td>2025-01-04</td>\n",
       "      <td>110</td>\n",
       "    </tr>\n",
       "    <tr>\n",
       "      <th>4</th>\n",
       "      <td>2025-01-05</td>\n",
       "      <td>150</td>\n",
       "    </tr>\n",
       "  </tbody>\n",
       "</table>\n",
       "</div>"
      ],
      "text/plain": [
       "     Tanggal  Penjualan\n",
       "0 2025-01-01        100\n",
       "1 2025-01-02        120\n",
       "2 2025-01-03        130\n",
       "3 2025-01-04        110\n",
       "4 2025-01-05        150"
      ]
     },
     "execution_count": 55,
     "metadata": {},
     "output_type": "execute_result"
    }
   ],
   "source": [
    "import pandas as pd\n",
    "\n",
    "data_ts = pd.DataFrame({\n",
    "    'Tanggal': pd.date_range(start='2025-01-01', periods=5, freq='D'),\n",
    "    'Penjualan': [100, 120, 130, 110, 150]\n",
    "})\n",
    "\n",
    "data_ts"
   ]
  },
  {
   "cell_type": "markdown",
   "id": "2dbf7bd5",
   "metadata": {},
   "source": [
    "```python\n",
    "'Tanggal': pd.date_range(start='2025-01-01', periods=5, freq='D')\n",
    "```\n",
    "adalah cara membuat kolom berisi tanggal berurutan menggunakan fungsi pd.date_range() dari pustaka pandas.\n",
    "\n",
    "| Parameter            | Artinya                                             |\n",
    "| -------------------- | --------------------------------------------------- |\n",
    "| `start='2025-01-01'` | Tanggal mulai (1 Januari 2025)                      |\n",
    "| `periods=5`          | Jumlah tanggal yang ingin dibuat (sebanyak 5 baris) |\n",
    "| `freq='D'`           | Frekuensi waktunya adalah harian (`D` = daily)      |\n"
   ]
  },
  {
   "cell_type": "markdown",
   "id": "7f2c5093",
   "metadata": {},
   "source": [
    "Kalau kamu mau ganti jadi mingguan, tinggal ganti freq='W'. Atau bulanan → freq='M'."
   ]
  },
  {
   "cell_type": "markdown",
   "id": "ce72c76d",
   "metadata": {},
   "source": [
    "### Cross-sectional\n",
    "data dari banyak entitas pada satu titik waktu tertentu (bukan time-based).\n",
    "\n",
    "Contoh: Pendapatan 10 perusahaan pada tahun 2025."
   ]
  },
  {
   "cell_type": "code",
   "execution_count": 56,
   "id": "fef05432",
   "metadata": {},
   "outputs": [
    {
     "data": {
      "text/html": [
       "<div>\n",
       "<style scoped>\n",
       "    .dataframe tbody tr th:only-of-type {\n",
       "        vertical-align: middle;\n",
       "    }\n",
       "\n",
       "    .dataframe tbody tr th {\n",
       "        vertical-align: top;\n",
       "    }\n",
       "\n",
       "    .dataframe thead th {\n",
       "        text-align: right;\n",
       "    }\n",
       "</style>\n",
       "<table border=\"1\" class=\"dataframe\">\n",
       "  <thead>\n",
       "    <tr style=\"text-align: right;\">\n",
       "      <th></th>\n",
       "      <th>Perusahaan</th>\n",
       "      <th>Pendapatan 2025</th>\n",
       "    </tr>\n",
       "  </thead>\n",
       "  <tbody>\n",
       "    <tr>\n",
       "      <th>0</th>\n",
       "      <td>A</td>\n",
       "      <td>50000</td>\n",
       "    </tr>\n",
       "    <tr>\n",
       "      <th>1</th>\n",
       "      <td>B</td>\n",
       "      <td>70000</td>\n",
       "    </tr>\n",
       "    <tr>\n",
       "      <th>2</th>\n",
       "      <td>C</td>\n",
       "      <td>60000</td>\n",
       "    </tr>\n",
       "  </tbody>\n",
       "</table>\n",
       "</div>"
      ],
      "text/plain": [
       "  Perusahaan  Pendapatan 2025\n",
       "0          A            50000\n",
       "1          B            70000\n",
       "2          C            60000"
      ]
     },
     "execution_count": 56,
     "metadata": {},
     "output_type": "execute_result"
    }
   ],
   "source": [
    "data_cs = pd.DataFrame({\n",
    "    'Perusahaan': ['A', 'B', 'C'],\n",
    "    'Pendapatan 2025': [50000, 70000, 60000]\n",
    "})\n",
    "\n",
    "data_cs"
   ]
  },
  {
   "cell_type": "markdown",
   "id": "1358ce3d",
   "metadata": {},
   "source": [
    "### 2. Modul datetime dan Implementasinya (year, month, day)\n",
    "Python memiliki modul datetime untuk mengelola tanggal dan waktu."
   ]
  },
  {
   "cell_type": "code",
   "execution_count": 57,
   "id": "9b2c8d61",
   "metadata": {},
   "outputs": [
    {
     "name": "stdout",
     "output_type": "stream",
     "text": [
      "Tanggal dan Waktu Saat Ini: 2025-08-26 08:55:01.698334\n",
      "Tahun: 2025\n",
      "Bulan: 8\n",
      "Hari: 26\n"
     ]
    }
   ],
   "source": [
    "from datetime import datetime\n",
    "\n",
    "# Ambil waktu sekarang\n",
    "sekarang = datetime.now()\n",
    "\n",
    "print(\"Tanggal dan Waktu Saat Ini:\", sekarang)\n",
    "print(\"Tahun:\", sekarang.year)\n",
    "print(\"Bulan:\", sekarang.month)\n",
    "print(\"Hari:\", sekarang.day)"
   ]
  },
  {
   "cell_type": "markdown",
   "id": "19a6d373",
   "metadata": {},
   "source": [
    "### Fungsi Tanggal & Waktu di Python (datetime)\n",
    "- today()\n",
    "\n",
    "- weekday()\n",
    "\n",
    "- isoweekday()\n",
    "\n",
    "- isoformat()"
   ]
  },
  {
   "cell_type": "markdown",
   "id": "b8e466a7",
   "metadata": {},
   "source": [
    "### datetime.today()\n",
    " Fungsi ini akan memberikan tanggal dan waktu sekarang (saat ini)."
   ]
  },
  {
   "cell_type": "code",
   "execution_count": 58,
   "id": "7e9299ab",
   "metadata": {},
   "outputs": [
    {
     "name": "stdout",
     "output_type": "stream",
     "text": [
      "2025-08-26 08:55:52.066048\n"
     ]
    }
   ],
   "source": [
    "from datetime import datetime\n",
    "\n",
    "print(datetime.today())"
   ]
  },
  {
   "cell_type": "markdown",
   "id": "a0d7db56",
   "metadata": {},
   "source": [
    "### weekday()\n",
    "Mengembalikan angka hari dalam seminggu (0 = Senin, 6 = Minggu)."
   ]
  },
  {
   "cell_type": "code",
   "execution_count": 60,
   "id": "30850e57",
   "metadata": {},
   "outputs": [
    {
     "name": "stdout",
     "output_type": "stream",
     "text": [
      "1\n"
     ]
    }
   ],
   "source": [
    "hari_ini = datetime.today()\n",
    "print(hari_ini.weekday())\n",
    "# hasilnya 2 berarti rabu"
   ]
  },
  {
   "cell_type": "markdown",
   "id": "cde8bf6e",
   "metadata": {},
   "source": [
    "### isoweekday()\n",
    "Mirip weekday(), tapi dimulai dari 1 = Senin, 7 = Minggu (ISO standard)."
   ]
  },
  {
   "cell_type": "code",
   "execution_count": 61,
   "id": "44e2d285",
   "metadata": {},
   "outputs": [
    {
     "name": "stdout",
     "output_type": "stream",
     "text": [
      "2\n"
     ]
    }
   ],
   "source": [
    "print(hari_ini.isoweekday())"
   ]
  },
  {
   "cell_type": "markdown",
   "id": "4186854b",
   "metadata": {},
   "source": [
    "### isoformat()\n",
    "Mengubah objek datetime ke format ISO 8601 string → YYYY-MM-DDTHH:MM:SS"
   ]
  },
  {
   "cell_type": "code",
   "execution_count": 62,
   "id": "24c4aa66",
   "metadata": {},
   "outputs": [
    {
     "name": "stdout",
     "output_type": "stream",
     "text": [
      "2025-08-26T08:56:29.486650\n"
     ]
    }
   ],
   "source": [
    "print(hari_ini.isoformat())"
   ]
  },
  {
   "cell_type": "markdown",
   "id": "93ec3b80",
   "metadata": {},
   "source": [
    "```lua\n",
    "2025-07-22T14:30:00\n",
    "          ↑\n",
    "          Ini adalah huruf T (bukan bagian dari jam)\n",
    "```\n",
    "| Bagian       | Keterangan              | Contoh                  |\n",
    "| ------------ | ----------------------- | ----------------------- |\n",
    "| `2025-07-22` | **Tanggal**             | 22 Juli 2025            |\n",
    "| `T`          | **Pemisah (delimiter)** | Bukan bagian dari waktu |\n",
    "| `14:30:00`   | **Waktu** (HH\\:MM\\:SS)  | Jam 14:30:00            |\n",
    "\n",
    "Jadi T itu singkatan dari \"Time\", sebagai penanda bahwa setelahnya adalah bagian waktu."
   ]
  },
  {
   "cell_type": "markdown",
   "id": "fee47134",
   "metadata": {},
   "source": [
    "| Fungsi         | Kegunaan                                    | Contoh Output                |\n",
    "| -------------- | ------------------------------------------- | ---------------------------- |\n",
    "| `today()`      | Tanggal dan waktu saat ini                  | `2025-07-22 03:12:45.123456` |\n",
    "| `weekday()`    | Index hari dari 0 (Senin) sampai 6 (Minggu) | `1`                          |\n",
    "| `isoweekday()` | Index hari dari 1 (Senin) sampai 7 (Minggu) | `2`                          |\n",
    "| `isoformat()`  | Format string ISO 8601                      | `2025-07-22T03:12:45.123456` |\n"
   ]
  },
  {
   "cell_type": "markdown",
   "id": "c0a2f98c",
   "metadata": {},
   "source": [
    "### Objek time\n",
    "Gunakan datetime.time() untuk membuat objek waktu tanpa tanggal."
   ]
  },
  {
   "cell_type": "code",
   "execution_count": 63,
   "id": "19ed997e",
   "metadata": {},
   "outputs": [
    {
     "name": "stdout",
     "output_type": "stream",
     "text": [
      "14:30:00\n",
      "14\n",
      "30\n",
      "0\n"
     ]
    }
   ],
   "source": [
    "from datetime import time\n",
    "\n",
    "jam = time(14, 30, 0)\n",
    "print(jam)               # 14:30:00\n",
    "print(jam.hour)          # 14\n",
    "print(jam.minute)        # 30\n",
    "print(jam.second)        # 0"
   ]
  },
  {
   "cell_type": "markdown",
   "id": "5ebfd894",
   "metadata": {},
   "source": [
    "### Objek datetime dan now()\n",
    "Gabungan tanggal dan waktu."
   ]
  },
  {
   "cell_type": "code",
   "execution_count": 64,
   "id": "85799f3e",
   "metadata": {},
   "outputs": [
    {
     "name": "stdout",
     "output_type": "stream",
     "text": [
      "2025-08-26 08:58:49.685719\n",
      "2025\n",
      "8\n"
     ]
    }
   ],
   "source": [
    "from datetime import datetime\n",
    "\n",
    "sekarang = datetime.now()\n",
    "print(sekarang)           # contoh: 2025-07-22 14:42:00\n",
    "print(sekarang.year)      # 2025\n",
    "print(sekarang.hour)      # 14"
   ]
  },
  {
   "cell_type": "markdown",
   "id": "00de7a40",
   "metadata": {},
   "source": [
    "### Pandas Timestamp\n",
    "Pandas punya tipe waktu sendiri yang powerful: Timestamp. Bisa dibuat dari:\n",
    "\n",
    "### String"
   ]
  },
  {
   "cell_type": "code",
   "execution_count": 65,
   "id": "2a0bba8e",
   "metadata": {},
   "outputs": [
    {
     "data": {
      "text/plain": [
       "Timestamp('2025-01-01 12:30:00')"
      ]
     },
     "execution_count": 65,
     "metadata": {},
     "output_type": "execute_result"
    }
   ],
   "source": [
    "pd.Timestamp('2025-01-01 12:30:00')"
   ]
  },
  {
   "cell_type": "markdown",
   "id": "e7da4702",
   "metadata": {},
   "source": [
    "### Komponen Tanggal"
   ]
  },
  {
   "cell_type": "code",
   "execution_count": 66,
   "id": "fc5b2874",
   "metadata": {},
   "outputs": [
    {
     "data": {
      "text/plain": [
       "Timestamp('2025-01-01 12:00:00')"
      ]
     },
     "execution_count": 66,
     "metadata": {},
     "output_type": "execute_result"
    }
   ],
   "source": [
    "pd.Timestamp(year=2025, month=1, day=1, hour=12)"
   ]
  },
  {
   "cell_type": "markdown",
   "id": "7d3956a4",
   "metadata": {},
   "source": [
    "### Dari objek datetime"
   ]
  },
  {
   "cell_type": "code",
   "execution_count": 67,
   "id": "8f72b36b",
   "metadata": {},
   "outputs": [
    {
     "data": {
      "text/plain": [
       "Timestamp('2025-01-01 00:00:00')"
      ]
     },
     "execution_count": 67,
     "metadata": {},
     "output_type": "execute_result"
    }
   ],
   "source": [
    "dt = datetime(2025, 1, 1)\n",
    "pd.Timestamp(dt)"
   ]
  },
  {
   "cell_type": "markdown",
   "id": "e2d0ed42",
   "metadata": {},
   "source": [
    "### Dari integer/float timestamp"
   ]
  },
  {
   "cell_type": "code",
   "execution_count": 68,
   "id": "ce6555db",
   "metadata": {},
   "outputs": [
    {
     "data": {
      "text/plain": [
       "Timestamp('2023-01-01 05:00:00')"
      ]
     },
     "execution_count": 68,
     "metadata": {},
     "output_type": "execute_result"
    }
   ],
   "source": [
    "pd.Timestamp(1672549200, unit='s')  # Unix timestamp"
   ]
  },
  {
   "cell_type": "markdown",
   "id": "1ca11a9f",
   "metadata": {},
   "source": [
    "### Fungsi pd.to_datetime()\n",
    "Berfungsi untuk mengonversi:\n",
    "\n",
    "- String\n",
    "\n",
    "- List tanggal\n",
    "\n",
    "- Kolom dalam DataFrame\n",
    "ke dalam bentuk datetime."
   ]
  },
  {
   "cell_type": "code",
   "execution_count": 69,
   "id": "1f096548",
   "metadata": {},
   "outputs": [
    {
     "data": {
      "text/plain": [
       "DatetimeIndex(['2025-01-01', '2025-01-02', '2025-01-03'], dtype='datetime64[ns]', freq=None)"
      ]
     },
     "execution_count": 69,
     "metadata": {},
     "output_type": "execute_result"
    }
   ],
   "source": [
    "tanggal = ['2025-01-01', '2025-01-02', '2025-01-03']\n",
    "pd.to_datetime(tanggal)"
   ]
  },
  {
   "cell_type": "markdown",
   "id": "8d4c1eb1",
   "metadata": {},
   "source": [
    "### Parsing String ke DatetimeIndex"
   ]
  },
  {
   "cell_type": "code",
   "execution_count": 70,
   "id": "cdc24ae8",
   "metadata": {},
   "outputs": [
    {
     "data": {
      "text/html": [
       "<div>\n",
       "<style scoped>\n",
       "    .dataframe tbody tr th:only-of-type {\n",
       "        vertical-align: middle;\n",
       "    }\n",
       "\n",
       "    .dataframe tbody tr th {\n",
       "        vertical-align: top;\n",
       "    }\n",
       "\n",
       "    .dataframe thead th {\n",
       "        text-align: right;\n",
       "    }\n",
       "</style>\n",
       "<table border=\"1\" class=\"dataframe\">\n",
       "  <thead>\n",
       "    <tr style=\"text-align: right;\">\n",
       "      <th></th>\n",
       "      <th>Penjualan</th>\n",
       "    </tr>\n",
       "    <tr>\n",
       "      <th>Tanggal</th>\n",
       "      <th></th>\n",
       "    </tr>\n",
       "  </thead>\n",
       "  <tbody>\n",
       "    <tr>\n",
       "      <th>2025-01-01</th>\n",
       "      <td>100</td>\n",
       "    </tr>\n",
       "    <tr>\n",
       "      <th>2025-01-02</th>\n",
       "      <td>200</td>\n",
       "    </tr>\n",
       "    <tr>\n",
       "      <th>2025-01-03</th>\n",
       "      <td>150</td>\n",
       "    </tr>\n",
       "  </tbody>\n",
       "</table>\n",
       "</div>"
      ],
      "text/plain": [
       "            Penjualan\n",
       "Tanggal              \n",
       "2025-01-01        100\n",
       "2025-01-02        200\n",
       "2025-01-03        150"
      ]
     },
     "execution_count": 70,
     "metadata": {},
     "output_type": "execute_result"
    }
   ],
   "source": [
    "data = {\n",
    "    'Tanggal': ['2025-01-01', '2025-01-02', '2025-01-03'],\n",
    "    'Penjualan': [100, 200, 150]\n",
    "}\n",
    "df = pd.DataFrame(data)\n",
    "\n",
    "# Ubah kolom Tanggal jadi datetime\n",
    "df['Tanggal'] = pd.to_datetime(df['Tanggal'])\n",
    "\n",
    "# Jadikan sebagai index\n",
    "df = df.set_index('Tanggal')\n",
    "\n",
    "df"
   ]
  },
  {
   "cell_type": "markdown",
   "id": "514debf8",
   "metadata": {},
   "source": [
    "-----------"
   ]
  },
  {
   "cell_type": "markdown",
   "id": "681b901a",
   "metadata": {},
   "source": [
    "## Implementasi pada Dataset Superstore"
   ]
  },
  {
   "cell_type": "code",
   "execution_count": 73,
   "id": "0e18a66f",
   "metadata": {},
   "outputs": [
    {
     "data": {
      "text/html": [
       "<div>\n",
       "<style scoped>\n",
       "    .dataframe tbody tr th:only-of-type {\n",
       "        vertical-align: middle;\n",
       "    }\n",
       "\n",
       "    .dataframe tbody tr th {\n",
       "        vertical-align: top;\n",
       "    }\n",
       "\n",
       "    .dataframe thead th {\n",
       "        text-align: right;\n",
       "    }\n",
       "</style>\n",
       "<table border=\"1\" class=\"dataframe\">\n",
       "  <thead>\n",
       "    <tr style=\"text-align: right;\">\n",
       "      <th></th>\n",
       "      <th>Row ID</th>\n",
       "      <th>Order ID</th>\n",
       "      <th>Order Date</th>\n",
       "      <th>Ship Date</th>\n",
       "      <th>Ship Mode</th>\n",
       "      <th>Customer ID</th>\n",
       "      <th>Customer Name</th>\n",
       "      <th>Segment</th>\n",
       "      <th>Country</th>\n",
       "      <th>City</th>\n",
       "      <th>...</th>\n",
       "      <th>Postal Code</th>\n",
       "      <th>Region</th>\n",
       "      <th>Product ID</th>\n",
       "      <th>Category</th>\n",
       "      <th>Sub-Category</th>\n",
       "      <th>Product Name</th>\n",
       "      <th>Sales</th>\n",
       "      <th>Quantity</th>\n",
       "      <th>Discount</th>\n",
       "      <th>Profit</th>\n",
       "    </tr>\n",
       "  </thead>\n",
       "  <tbody>\n",
       "    <tr>\n",
       "      <th>0</th>\n",
       "      <td>1</td>\n",
       "      <td>CA-2016-152156</td>\n",
       "      <td>11/8/2016</td>\n",
       "      <td>11/11/2016</td>\n",
       "      <td>Second Class</td>\n",
       "      <td>CG-12520</td>\n",
       "      <td>Claire Gute</td>\n",
       "      <td>Consumer</td>\n",
       "      <td>United States</td>\n",
       "      <td>Henderson</td>\n",
       "      <td>...</td>\n",
       "      <td>42420</td>\n",
       "      <td>South</td>\n",
       "      <td>FUR-BO-10001798</td>\n",
       "      <td>Furniture</td>\n",
       "      <td>Bookcases</td>\n",
       "      <td>Bush Somerset Collection Bookcase</td>\n",
       "      <td>261.9600</td>\n",
       "      <td>2</td>\n",
       "      <td>0.00</td>\n",
       "      <td>41.9136</td>\n",
       "    </tr>\n",
       "    <tr>\n",
       "      <th>1</th>\n",
       "      <td>2</td>\n",
       "      <td>CA-2016-152156</td>\n",
       "      <td>11/8/2016</td>\n",
       "      <td>11/11/2016</td>\n",
       "      <td>Second Class</td>\n",
       "      <td>CG-12520</td>\n",
       "      <td>Claire Gute</td>\n",
       "      <td>Consumer</td>\n",
       "      <td>United States</td>\n",
       "      <td>Henderson</td>\n",
       "      <td>...</td>\n",
       "      <td>42420</td>\n",
       "      <td>South</td>\n",
       "      <td>FUR-CH-10000454</td>\n",
       "      <td>Furniture</td>\n",
       "      <td>Chairs</td>\n",
       "      <td>Hon Deluxe Fabric Upholstered Stacking Chairs,...</td>\n",
       "      <td>731.9400</td>\n",
       "      <td>3</td>\n",
       "      <td>0.00</td>\n",
       "      <td>219.5820</td>\n",
       "    </tr>\n",
       "    <tr>\n",
       "      <th>2</th>\n",
       "      <td>3</td>\n",
       "      <td>CA-2016-138688</td>\n",
       "      <td>6/12/2016</td>\n",
       "      <td>6/16/2016</td>\n",
       "      <td>Second Class</td>\n",
       "      <td>DV-13045</td>\n",
       "      <td>Darrin Van Huff</td>\n",
       "      <td>Corporate</td>\n",
       "      <td>United States</td>\n",
       "      <td>Los Angeles</td>\n",
       "      <td>...</td>\n",
       "      <td>90036</td>\n",
       "      <td>West</td>\n",
       "      <td>OFF-LA-10000240</td>\n",
       "      <td>Office Supplies</td>\n",
       "      <td>Labels</td>\n",
       "      <td>Self-Adhesive Address Labels for Typewriters b...</td>\n",
       "      <td>14.6200</td>\n",
       "      <td>2</td>\n",
       "      <td>0.00</td>\n",
       "      <td>6.8714</td>\n",
       "    </tr>\n",
       "    <tr>\n",
       "      <th>3</th>\n",
       "      <td>4</td>\n",
       "      <td>US-2015-108966</td>\n",
       "      <td>10/11/2015</td>\n",
       "      <td>10/18/2015</td>\n",
       "      <td>Standard Class</td>\n",
       "      <td>SO-20335</td>\n",
       "      <td>Sean O'Donnell</td>\n",
       "      <td>Consumer</td>\n",
       "      <td>United States</td>\n",
       "      <td>Fort Lauderdale</td>\n",
       "      <td>...</td>\n",
       "      <td>33311</td>\n",
       "      <td>South</td>\n",
       "      <td>FUR-TA-10000577</td>\n",
       "      <td>Furniture</td>\n",
       "      <td>Tables</td>\n",
       "      <td>Bretford CR4500 Series Slim Rectangular Table</td>\n",
       "      <td>957.5775</td>\n",
       "      <td>5</td>\n",
       "      <td>0.45</td>\n",
       "      <td>-383.0310</td>\n",
       "    </tr>\n",
       "    <tr>\n",
       "      <th>4</th>\n",
       "      <td>5</td>\n",
       "      <td>US-2015-108966</td>\n",
       "      <td>10/11/2015</td>\n",
       "      <td>10/18/2015</td>\n",
       "      <td>Standard Class</td>\n",
       "      <td>SO-20335</td>\n",
       "      <td>Sean O'Donnell</td>\n",
       "      <td>Consumer</td>\n",
       "      <td>United States</td>\n",
       "      <td>Fort Lauderdale</td>\n",
       "      <td>...</td>\n",
       "      <td>33311</td>\n",
       "      <td>South</td>\n",
       "      <td>OFF-ST-10000760</td>\n",
       "      <td>Office Supplies</td>\n",
       "      <td>Storage</td>\n",
       "      <td>Eldon Fold 'N Roll Cart System</td>\n",
       "      <td>22.3680</td>\n",
       "      <td>2</td>\n",
       "      <td>0.20</td>\n",
       "      <td>2.5164</td>\n",
       "    </tr>\n",
       "  </tbody>\n",
       "</table>\n",
       "<p>5 rows × 21 columns</p>\n",
       "</div>"
      ],
      "text/plain": [
       "   Row ID        Order ID  Order Date   Ship Date       Ship Mode Customer ID  \\\n",
       "0       1  CA-2016-152156   11/8/2016  11/11/2016    Second Class    CG-12520   \n",
       "1       2  CA-2016-152156   11/8/2016  11/11/2016    Second Class    CG-12520   \n",
       "2       3  CA-2016-138688   6/12/2016   6/16/2016    Second Class    DV-13045   \n",
       "3       4  US-2015-108966  10/11/2015  10/18/2015  Standard Class    SO-20335   \n",
       "4       5  US-2015-108966  10/11/2015  10/18/2015  Standard Class    SO-20335   \n",
       "\n",
       "     Customer Name    Segment        Country             City  ...  \\\n",
       "0      Claire Gute   Consumer  United States        Henderson  ...   \n",
       "1      Claire Gute   Consumer  United States        Henderson  ...   \n",
       "2  Darrin Van Huff  Corporate  United States      Los Angeles  ...   \n",
       "3   Sean O'Donnell   Consumer  United States  Fort Lauderdale  ...   \n",
       "4   Sean O'Donnell   Consumer  United States  Fort Lauderdale  ...   \n",
       "\n",
       "  Postal Code  Region       Product ID         Category Sub-Category  \\\n",
       "0       42420   South  FUR-BO-10001798        Furniture    Bookcases   \n",
       "1       42420   South  FUR-CH-10000454        Furniture       Chairs   \n",
       "2       90036    West  OFF-LA-10000240  Office Supplies       Labels   \n",
       "3       33311   South  FUR-TA-10000577        Furniture       Tables   \n",
       "4       33311   South  OFF-ST-10000760  Office Supplies      Storage   \n",
       "\n",
       "                                        Product Name     Sales  Quantity  \\\n",
       "0                  Bush Somerset Collection Bookcase  261.9600         2   \n",
       "1  Hon Deluxe Fabric Upholstered Stacking Chairs,...  731.9400         3   \n",
       "2  Self-Adhesive Address Labels for Typewriters b...   14.6200         2   \n",
       "3      Bretford CR4500 Series Slim Rectangular Table  957.5775         5   \n",
       "4                     Eldon Fold 'N Roll Cart System   22.3680         2   \n",
       "\n",
       "   Discount    Profit  \n",
       "0      0.00   41.9136  \n",
       "1      0.00  219.5820  \n",
       "2      0.00    6.8714  \n",
       "3      0.45 -383.0310  \n",
       "4      0.20    2.5164  \n",
       "\n",
       "[5 rows x 21 columns]"
      ]
     },
     "execution_count": 73,
     "metadata": {},
     "output_type": "execute_result"
    }
   ],
   "source": [
    "import pandas as pd\n",
    "\n",
    "# Import file CSV\n",
    "df = pd.read_csv(\"Superstore.csv\", encoding=\"ISO-8859-1\")\n",
    "\n",
    "# Lihat 5 baris pertama\n",
    "df.head()"
   ]
  },
  {
   "cell_type": "markdown",
   "id": "51451a7c",
   "metadata": {},
   "source": [
    "## 1. GroupBy dan Agregasi\n",
    "Contoh penggunaan fungsi: groupby(), agg(), mean(), sum(), count()"
   ]
  },
  {
   "cell_type": "code",
   "execution_count": 74,
   "id": "63a2271b",
   "metadata": {},
   "outputs": [
    {
     "data": {
      "text/html": [
       "<div>\n",
       "<style scoped>\n",
       "    .dataframe tbody tr th:only-of-type {\n",
       "        vertical-align: middle;\n",
       "    }\n",
       "\n",
       "    .dataframe tbody tr th {\n",
       "        vertical-align: top;\n",
       "    }\n",
       "\n",
       "    .dataframe thead th {\n",
       "        text-align: right;\n",
       "    }\n",
       "</style>\n",
       "<table border=\"1\" class=\"dataframe\">\n",
       "  <thead>\n",
       "    <tr style=\"text-align: right;\">\n",
       "      <th></th>\n",
       "      <th>Region</th>\n",
       "      <th>Total Sales</th>\n",
       "    </tr>\n",
       "  </thead>\n",
       "  <tbody>\n",
       "    <tr>\n",
       "      <th>0</th>\n",
       "      <td>Central</td>\n",
       "      <td>501239.8908</td>\n",
       "    </tr>\n",
       "    <tr>\n",
       "      <th>1</th>\n",
       "      <td>East</td>\n",
       "      <td>678781.2400</td>\n",
       "    </tr>\n",
       "    <tr>\n",
       "      <th>2</th>\n",
       "      <td>South</td>\n",
       "      <td>391721.9050</td>\n",
       "    </tr>\n",
       "    <tr>\n",
       "      <th>3</th>\n",
       "      <td>West</td>\n",
       "      <td>725457.8245</td>\n",
       "    </tr>\n",
       "  </tbody>\n",
       "</table>\n",
       "</div>"
      ],
      "text/plain": [
       "    Region  Total Sales\n",
       "0  Central  501239.8908\n",
       "1     East  678781.2400\n",
       "2    South  391721.9050\n",
       "3     West  725457.8245"
      ]
     },
     "execution_count": 74,
     "metadata": {},
     "output_type": "execute_result"
    }
   ],
   "source": [
    "# Total Sales per Region\n",
    "sales_per_region = df.groupby(\"Region\")[\"Sales\"].sum().reset_index()\n",
    "sales_per_region.columns = [\"Region\", \"Total Sales\"]\n",
    "\n",
    "sales_per_region"
   ]
  },
  {
   "cell_type": "code",
   "execution_count": null,
   "id": "8926d24a",
   "metadata": {},
   "outputs": [],
   "source": [
    "# Rata-rata Profit per Category\n",
    "avg_profit_per_category = df.groupby(\"Category\")[\"Profit\"].mean().reset_index()\n",
    "avg_profit_per_category.columns = [\"Category\", \"Average Profit\"]\n",
    "\n",
    "avg_profit_per_category"
   ]
  },
  {
   "cell_type": "code",
   "execution_count": null,
   "id": "1688f1e9",
   "metadata": {},
   "outputs": [],
   "source": [
    "# Jumlah transaksi per Segment\n",
    "trans_count_per_segment = df.groupby(\"Segment\")[\"Order ID\"].count().reset_index()\n",
    "trans_count_per_segment.columns = [\"Segment\", \"Transaction Count\"]\n",
    "\n",
    "trans_count_per_segment"
   ]
  },
  {
   "cell_type": "code",
   "execution_count": null,
   "id": "6713c832",
   "metadata": {},
   "outputs": [],
   "source": [
    "display(sales_per_region)\n",
    "display(avg_profit_per_category)\n",
    "display(trans_count_per_segment)\n"
   ]
  },
  {
   "cell_type": "code",
   "execution_count": null,
   "id": "bae721bd",
   "metadata": {},
   "outputs": [],
   "source": [
    "# urutkan berdasarkan nilai tertentu\n",
    "sales_per_region.sort_values(\"Total Sales\", ascending=True)"
   ]
  },
  {
   "cell_type": "markdown",
   "id": "394aedf5",
   "metadata": {},
   "source": [
    "## 2. Pivot Table dan Crosstab\n",
    "Contoh penggunaan: pivot_table(), pd.crosstab()"
   ]
  },
  {
   "cell_type": "code",
   "execution_count": null,
   "id": "0a2db90a",
   "metadata": {},
   "outputs": [],
   "source": [
    "# Pivot Table: Total Profit per Region dan Segment\n",
    "pd.pivot_table(df, values=\"Profit\", index=\"Region\", columns=\"Segment\", aggfunc=\"sum\")"
   ]
  },
  {
   "cell_type": "code",
   "execution_count": null,
   "id": "dcbdead7",
   "metadata": {},
   "outputs": [],
   "source": [
    "# Crosstab: Frekuensi Segment per Ship Mode\n",
    "pd.crosstab(df[\"Segment\"], df[\"Ship Mode\"])"
   ]
  },
  {
   "cell_type": "markdown",
   "id": "4dae8852",
   "metadata": {},
   "source": [
    "## 3. Merge & Join Dataset\n",
    "Karena Sample - Superstore adalah satu file, kita buat 2 subset dulu lalu merge:"
   ]
  },
  {
   "cell_type": "code",
   "execution_count": null,
   "id": "9e204820",
   "metadata": {},
   "outputs": [],
   "source": [
    "import pandas as pd\n",
    "\n",
    "# Baca file Superstore\n",
    "df = pd.read_csv(\"Superstore.csv\", encoding=\"ISO-8859-1\")\n",
    "\n",
    "# Subset untuk simulasi dua tabel\n",
    "orders = df[[\"Order ID\", \"Order Date\", \"Customer ID\"]].drop_duplicates() # kiri\n",
    "details = df[[\"Order ID\", \"Product Name\", \"Sales\"]] # kanan"
   ]
  },
  {
   "cell_type": "code",
   "execution_count": null,
   "id": "35075c96",
   "metadata": {},
   "outputs": [],
   "source": [
    "# cek apakah ada data yang kosong\n",
    "print(df.isnull().sum())"
   ]
  },
  {
   "cell_type": "markdown",
   "id": "63a35447",
   "metadata": {},
   "source": [
    "### Inner Join"
   ]
  },
  {
   "cell_type": "code",
   "execution_count": null,
   "id": "5393a3c3",
   "metadata": {},
   "outputs": [],
   "source": [
    "inner_join = pd.merge(orders, details, on=\"Order ID\", how=\"inner\")\n",
    "print(\"Inner Join:\")\n",
    "\n",
    "inner_join.head()"
   ]
  },
  {
   "cell_type": "markdown",
   "id": "542d59f4",
   "metadata": {},
   "source": [
    "### Left Join"
   ]
  },
  {
   "cell_type": "code",
   "execution_count": null,
   "id": "28c280ad",
   "metadata": {},
   "outputs": [],
   "source": [
    "left_join = pd.merge(orders, details, on=\"Order ID\", how=\"left\")\n",
    "print(\"Left Join:\")\n",
    "\n",
    "left_join\n"
   ]
  },
  {
   "cell_type": "markdown",
   "id": "226520e8",
   "metadata": {},
   "source": [
    "## Right Join"
   ]
  },
  {
   "cell_type": "code",
   "execution_count": null,
   "id": "4bb1c06a",
   "metadata": {},
   "outputs": [],
   "source": [
    "right_join = pd.merge(orders, details, on=\"Order ID\", how=\"right\")\n",
    "print(\"Right Join:\")\n",
    "\n",
    "right_join.head()"
   ]
  },
  {
   "cell_type": "markdown",
   "id": "4e4e2f25",
   "metadata": {},
   "source": [
    "## Outer Join"
   ]
  },
  {
   "cell_type": "code",
   "execution_count": null,
   "id": "8277d130",
   "metadata": {},
   "outputs": [],
   "source": [
    "outer_join = pd.merge(orders, details, on=\"Order ID\", how=\"outer\")\n",
    "print(\"Outer Join:\")\n",
    "\n",
    "outer_join.head()"
   ]
  },
  {
   "cell_type": "code",
   "execution_count": null,
   "id": "0256e22b",
   "metadata": {},
   "outputs": [],
   "source": [
    "# Merge berdasarkan Order ID\n",
    "merged = pd.merge(orders, details, on=\"Order ID\")\n",
    "\n",
    "merged.head()"
   ]
  },
  {
   "cell_type": "markdown",
   "id": "5b744220",
   "metadata": {},
   "source": [
    "### Penjelasan Parameter how:\n",
    "- \"inner\" → hanya data yang cocok di kedua tabel\n",
    "\n",
    "- \"left\" → semua data dari tabel kiri (orders)\n",
    "\n",
    "- \"right\" → semua data dari tabel kanan (details)\n",
    "\n",
    "- \"outer\" → semua data dari kedua tabel, gabung berdasarkan Order ID"
   ]
  },
  {
   "cell_type": "markdown",
   "id": "5ada2b4e",
   "metadata": {},
   "source": [
    "## 4. Reshape dan Melt\n",
    "Contoh penggunaan: melt(), stack(), unstack()"
   ]
  },
  {
   "cell_type": "code",
   "execution_count": null,
   "id": "2fe7182d",
   "metadata": {},
   "outputs": [],
   "source": [
    "# Melting beberapa kolom numerik\n",
    "melted = pd.melt(df, id_vars=[\"Region\", \"Category\"], value_vars=[\"Sales\", \"Profit\"])\n",
    "\n",
    "# Stack dan Unstack\n",
    "pivot = df.pivot_table(index=\"Region\", columns=\"Category\", values=\"Sales\", aggfunc=\"sum\")\n",
    "stacked = pivot.stack()\n",
    "unstacked = stacked.unstack()"
   ]
  },
  {
   "cell_type": "code",
   "execution_count": null,
   "id": "07706e23",
   "metadata": {},
   "outputs": [],
   "source": [
    "# Melting Kolom Numerik\n",
    "melted"
   ]
  },
  {
   "cell_type": "code",
   "execution_count": null,
   "id": "df2b2231",
   "metadata": {},
   "outputs": [],
   "source": [
    "# hasil pivot (Sales berdasarkan Region dan Category):\n",
    "pivot"
   ]
  },
  {
   "cell_type": "code",
   "execution_count": null,
   "id": "b34611db",
   "metadata": {},
   "outputs": [],
   "source": [
    "# ubah kolom menjadi baris\n",
    "stacked"
   ]
  },
  {
   "cell_type": "code",
   "execution_count": null,
   "id": "17f87749",
   "metadata": {},
   "outputs": [],
   "source": [
    "# kembali jadi kolom\n",
    "unstacked"
   ]
  },
  {
   "cell_type": "code",
   "execution_count": null,
   "id": "1ea98d64",
   "metadata": {},
   "outputs": [],
   "source": [
    "# buat liat hasil semua\n",
    "display(melted.head())\n",
    "display(pivot)\n",
    "display(stacked.head())\n",
    "display(unstacked)"
   ]
  },
  {
   "cell_type": "markdown",
   "id": "adf7488e",
   "metadata": {},
   "source": [
    "## 5. Time Series\n",
    "Topik: parsing waktu, datetime, to_datetime(), weekday, dll."
   ]
  },
  {
   "cell_type": "code",
   "execution_count": null,
   "id": "d57a246f",
   "metadata": {},
   "outputs": [],
   "source": [
    "# Ubah kolom Order Date menjadi datetime\n",
    "df[\"Order Date\"] = pd.to_datetime(df[\"Order Date\"])\n",
    "\n",
    "# Ekstrak informasi waktu\n",
    "df[\"Year\"] = df[\"Order Date\"].dt.year\n",
    "df[\"Month\"] = df[\"Order Date\"].dt.month\n",
    "df[\"Day\"] = df[\"Order Date\"].dt.day\n",
    "df[\"Weekday\"] = df[\"Order Date\"].dt.day_name()\n",
    "\n",
    "# Filter data berdasarkan tahun\n",
    "df_2017 = df[df[\"Order Date\"].dt.year == 2017]"
   ]
  },
  {
   "cell_type": "code",
   "execution_count": null,
   "id": "23e24c69",
   "metadata": {},
   "outputs": [],
   "source": [
    "# Melihat hasil konversi kolom Order Date dan kolom waktu baru\n",
    "df[[\"Order Date\", \"Year\", \"Month\", \"Day\", \"Weekday\"]].head()"
   ]
  },
  {
   "cell_type": "code",
   "execution_count": null,
   "id": "d44e7988",
   "metadata": {},
   "outputs": [],
   "source": [
    "# Menampilkan data yang hanya terjadi di tahun 2017\n",
    "df_2017.head()"
   ]
  },
  {
   "cell_type": "code",
   "execution_count": null,
   "id": "16d657df",
   "metadata": {},
   "outputs": [],
   "source": [
    "# kalau ingin tahu berapa banyak data dalam tahun 2017\n",
    "len(df_2017)"
   ]
  },
  {
   "cell_type": "code",
   "execution_count": null,
   "id": "03819ddd",
   "metadata": {},
   "outputs": [],
   "source": [
    "df_2017.shape"
   ]
  },
  {
   "cell_type": "markdown",
   "id": "931c8462",
   "metadata": {},
   "source": [
    "### Penjelasan :\n",
    "- 3312 baris: Ada 3312 transaksi (record) yang terjadi di tahun 2017.\n",
    "\n",
    "- 25 kolom: Setiap baris memiliki 25 atribut (kolom), seperti Order Date, Sales, Profit, Category, dll.\n",
    "\n",
    "- Dataset df_2017 memiliki 3312 baris data dan 25 kolom, yang merupakan subset dari data original berdasarkan filter tahun 2017."
   ]
  },
  {
   "cell_type": "code",
   "execution_count": null,
   "id": "74ed67a3",
   "metadata": {},
   "outputs": [],
   "source": [
    "# Menampilkan jumlah transaksi per bulan di tahun 2017\n",
    "df_2017[\"Month\"].value_counts().sort_index()"
   ]
  },
  {
   "cell_type": "code",
   "execution_count": null,
   "id": "7429ac56",
   "metadata": {},
   "outputs": [],
   "source": [
    "# tabel\n",
    "df_2017.groupby(\"Month\")[\"Order ID\"].count()"
   ]
  },
  {
   "cell_type": "code",
   "execution_count": null,
   "id": "1d989e6b",
   "metadata": {},
   "outputs": [],
   "source": [
    "# untuk menampilkan semua\n",
    "display(df[[\"Order Date\", \"Year\", \"Month\", \"Day\", \"Weekday\"]].head())\n",
    "display(df_2017.head())\n",
    "display(df_2017.groupby(\"Month\")[\"Order ID\"].count())"
   ]
  },
  {
   "cell_type": "markdown",
   "id": "24508102",
   "metadata": {},
   "source": [
    "------------------"
   ]
  },
  {
   "cell_type": "markdown",
   "id": "932d4b9e",
   "metadata": {},
   "source": [
    "## Latihan"
   ]
  },
  {
   "cell_type": "markdown",
   "id": "e8815392",
   "metadata": {},
   "source": [
    "### Soal 1\n",
    "Berapa total penjualan (Sales) untuk setiap kategori (Category)?"
   ]
  },
  {
   "cell_type": "code",
   "execution_count": null,
   "id": "a58587df",
   "metadata": {},
   "outputs": [],
   "source": [
    "# Write Your Code Here\n",
    "sales_per_category = df.groupby(\"Category\")[\"Sales\"].sum().reset_index()\n",
    "sales_per_category.columns = [\"Category\", \"Total Sales\"]\n",
    "\n",
    "sales_per_category\n"
   ]
  },
  {
   "cell_type": "markdown",
   "id": "7f14ee60",
   "metadata": {},
   "source": [
    "### Soal 2\n",
    "Tampilkan rata-rata profit per Ship Mode dalam bentuk pivot table."
   ]
  },
  {
   "cell_type": "code",
   "execution_count": null,
   "id": "b560ebb2",
   "metadata": {},
   "outputs": [],
   "source": [
    "# Write Your Code Here\n",
    "pd.pivot_table(df, values=\"Profit\", index=\"Ship Mode\", aggfunc=\"mean\")"
   ]
  },
  {
   "cell_type": "markdown",
   "id": "74450390",
   "metadata": {},
   "source": [
    "### Soal 3\n",
    "Gabungkan informasi tanggal pesanan (Order Date) dengan detail produk berdasarkan Order ID."
   ]
  },
  {
   "cell_type": "code",
   "execution_count": null,
   "id": "e6883c0a",
   "metadata": {},
   "outputs": [],
   "source": [
    "# Write Your Code Here\n",
    "orders = df[[\"Order ID\", \"Order Date\"]].drop_duplicates()\n",
    "details = df[[\"Order ID\", \"Product Name\", \"Sales\"]]\n",
    "pd.merge(orders, details, on=\"Order ID\")"
   ]
  },
  {
   "cell_type": "markdown",
   "id": "5c68e0a6",
   "metadata": {},
   "source": [
    "### Soal 4\n",
    "Gunakan melt() untuk mengubah kolom Sales dan Profit menjadi baris berdasarkan Region"
   ]
  },
  {
   "cell_type": "code",
   "execution_count": null,
   "id": "039c8dd5",
   "metadata": {},
   "outputs": [],
   "source": [
    "# Write Your Code Here\n",
    "pd.melt(df, id_vars=\"Region\", value_vars=[\"Sales\", \"Profit\"])"
   ]
  },
  {
   "cell_type": "markdown",
   "id": "944aeddf",
   "metadata": {},
   "source": [
    "### Soal 5\n",
    "Tampilkan jumlah pesanan yang terjadi pada hari Senin saja."
   ]
  },
  {
   "cell_type": "code",
   "execution_count": null,
   "id": "cd125c43",
   "metadata": {},
   "outputs": [],
   "source": [
    "# Write Your Code Here\n",
    "df[\"Order Date\"] = pd.to_datetime(df[\"Order Date\"])\n",
    "df[df[\"Order Date\"].dt.weekday == 0][\"Order ID\"].nunique()"
   ]
  },
  {
   "cell_type": "markdown",
   "id": "aa31174e",
   "metadata": {},
   "source": [
    "---------"
   ]
  },
  {
   "cell_type": "markdown",
   "id": "8b97d23c",
   "metadata": {},
   "source": [
    "### Dataset\n",
    "Gunakan Superstore.csv, dan bagi menjadi dua dataframe:\n",
    "```python\n",
    "orders = df[[\"Order ID\", \"Order Date\", \"Customer ID\", \"Region\"]].drop_duplicates()\n",
    "details = df[[\"Order ID\", \"Product Name\", \"Category\", \"Sales\", \"Profit\"]]\n",
    "```"
   ]
  },
  {
   "cell_type": "code",
   "execution_count": null,
   "id": "5f876a1e",
   "metadata": {},
   "outputs": [],
   "source": [
    "# Write Your Code Here\n",
    "orders = df[[\"Order ID\", \"Order Date\", \"Customer ID\", \"Region\"]].drop_duplicates()\n",
    "details = df[[\"Order ID\", \"Product Name\", \"Category\", \"Sales\", \"Profit\"]]"
   ]
  },
  {
   "cell_type": "markdown",
   "id": "56a380fa",
   "metadata": {},
   "source": [
    "### Soal 6 : Inner Join\n",
    "Gabungkan tabel orders dan details menggunakan inner join berdasarkan Order ID.\n",
    "Pertanyaan:\n",
    "\n",
    "- Berapa total baris hasil gabungan?\n",
    "\n",
    "- Tampilkan 5 data pertama yang berada di region \"West\"."
   ]
  },
  {
   "cell_type": "code",
   "execution_count": null,
   "id": "d8c19c17",
   "metadata": {},
   "outputs": [],
   "source": [
    "# Write Your Code Here\n",
    "inner = pd.merge(orders, details, on=\"Order ID\", how=\"inner\")\n",
    "print(inner.shape)  # Ukuran data\n",
    "inner[inner[\"Region\"] == \"West\"].head()  # Filter region \"West\""
   ]
  },
  {
   "cell_type": "markdown",
   "id": "65f98940",
   "metadata": {},
   "source": [
    "### Soal 7 : Left Join\n",
    "Lakukan left join antara orders (kiri) dan details (kanan).\n",
    "Pertanyaan:\n",
    "\n",
    "- Apakah hasil join ini memiliki baris lebih banyak dari inner join?\n",
    "\n",
    "- Ada berapa nilai NaN di kolom Product Name?"
   ]
  },
  {
   "cell_type": "code",
   "execution_count": null,
   "id": "498715d5",
   "metadata": {},
   "outputs": [],
   "source": [
    "# Write Your Code Here\n",
    "left = pd.merge(orders, details, on=\"Order ID\", how=\"left\")\n",
    "print(left.shape)\n",
    "print(left[\"Product Name\"].isna().sum())  # Hitung missing values"
   ]
  },
  {
   "cell_type": "markdown",
   "id": "88b57d4b",
   "metadata": {},
   "source": [
    "### Soal 8 : Right Join\n",
    "Lakukan right join antara orders (kiri) dan details (kanan).\n",
    "\n",
    "Pertanyaan:\n",
    "\n",
    "- Berapa banyak transaksi (Order ID) dari hasil right join yang tidak ada di tabel orders?"
   ]
  },
  {
   "cell_type": "code",
   "execution_count": null,
   "id": "178ba7c5",
   "metadata": {},
   "outputs": [],
   "source": [
    "# Write Your Code Here\n",
    "right = pd.merge(orders, details, on=\"Order ID\", how=\"right\")\n",
    "missing_orders = right[\"Customer ID\"].isna().sum()\n",
    "print(missing_orders)"
   ]
  },
  {
   "cell_type": "markdown",
   "id": "85d83f66",
   "metadata": {},
   "source": [
    "### Soal 9 : Full Outer Join\n",
    "Gabungkan kedua tabel dengan outer join berdasarkan Order ID.\n",
    "Pertanyaan:\n",
    "\n",
    "- Hitung jumlah total Order ID unik dari hasil outer join.\n",
    "\n",
    "- Berapa baris yang memiliki missing value di kolom Customer ID?"
   ]
  },
  {
   "cell_type": "code",
   "execution_count": null,
   "id": "d356b3a4",
   "metadata": {},
   "outputs": [],
   "source": [
    "# Write your Code Here\n",
    "outer = pd.merge(orders, details, on=\"Order ID\", how=\"outer\")\n",
    "unique_order_ids = outer[\"Order ID\"].nunique()\n",
    "missing_customer_id = outer[\"Customer ID\"].isna().sum()\n",
    "print(\"Order ID unik:\", unique_order_ids)\n",
    "print(\"Missing Customer ID:\", missing_customer_id)\n"
   ]
  }
 ],
 "metadata": {
  "kernelspec": {
   "display_name": "Python 3",
   "language": "python",
   "name": "python3"
  },
  "language_info": {
   "codemirror_mode": {
    "name": "ipython",
    "version": 3
   },
   "file_extension": ".py",
   "mimetype": "text/x-python",
   "name": "python",
   "nbconvert_exporter": "python",
   "pygments_lexer": "ipython3",
   "version": "3.13.0"
  }
 },
 "nbformat": 4,
 "nbformat_minor": 5
}
