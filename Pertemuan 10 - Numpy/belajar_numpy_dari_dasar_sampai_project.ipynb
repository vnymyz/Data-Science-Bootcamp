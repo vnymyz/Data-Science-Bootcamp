{
 "cells": [
  {
   "cell_type": "markdown",
   "id": "412eea28",
   "metadata": {},
   "source": [
    "# Belajar NumPy untuk Data Science\n",
    "Panduan ini akan membahas NumPy dari dasar hingga lanjutan, lengkap dengan contoh dan mini project."
   ]
  },
  {
   "cell_type": "markdown",
   "id": "326430ad",
   "metadata": {},
   "source": [
    "## 1. Apa itu NumPy?\n",
    "NumPy adalah library Python untuk komputasi numerik. Dengan NumPy, kita bisa mengolah data dalam bentuk array dengan cepat dan efisien."
   ]
  },
  {
   "cell_type": "markdown",
   "id": "bf421dd7",
   "metadata": {},
   "source": [
    "## 2. Instalasi dan Import"
   ]
  },
  {
   "cell_type": "code",
   "execution_count": null,
   "id": "38d6e2ef",
   "metadata": {},
   "outputs": [],
   "source": [
    "# !pip install numpy\n",
    "import numpy as np"
   ]
  },
  {
   "cell_type": "markdown",
   "id": "8037c4c2",
   "metadata": {},
   "source": [
    "## 3. Membuat Array"
   ]
  },
  {
   "cell_type": "code",
   "execution_count": null,
   "id": "6dfb104a",
   "metadata": {},
   "outputs": [],
   "source": [
    "# Array 1D\n",
    "arr1 = np.array([1, 2, 3])\n",
    "\n",
    "# Array 2D\n",
    "arr2 = np.array([[1, 2], [3, 4]])\n",
    "\n",
    "# Array kosong\n",
    "zeros = np.zeros((2, 3))\n",
    "ones = np.ones((2, 3))\n",
    "randoms = np.random.rand(2, 3)\n",
    "\n",
    "print(\"Array 1D:\", arr1)\n",
    "print(\"Array 2D:\\n\", arr2)\n",
    "print(\"Zeros:\\n\", zeros)\n",
    "print(\"Ones:\\n\", ones)\n",
    "print(\"Randoms:\\n\", randoms)"
   ]
  },
  {
   "cell_type": "markdown",
   "id": "427b02ee",
   "metadata": {},
   "source": [
    "## 4. Atribut Array"
   ]
  },
  {
   "cell_type": "code",
   "execution_count": null,
   "id": "a9d8a1b2",
   "metadata": {},
   "outputs": [],
   "source": [
    "print(\"Shape:\", arr2.shape)\n",
    "print(\"Dimensi:\", arr2.ndim)\n",
    "print(\"Jumlah elemen:\", arr2.size)\n",
    "print(\"Tipe data:\", arr2.dtype)"
   ]
  },
  {
   "cell_type": "markdown",
   "id": "d9b0d44c",
   "metadata": {},
   "source": [
    "## 5. Indexing dan Slicing"
   ]
  },
  {
   "cell_type": "code",
   "execution_count": null,
   "id": "713fd8b5",
   "metadata": {},
   "outputs": [],
   "source": [
    "arr = np.array([[10, 20, 30], [40, 50, 60]])\n",
    "print(\"Elemen baris 0 kolom 1:\", arr[0, 1])\n",
    "print(\"Ambil kolom ke-1:\", arr[:, 1])\n",
    "print(\"Ambil baris ke-1:\", arr[1, :])"
   ]
  },
  {
   "cell_type": "markdown",
   "id": "c549968f",
   "metadata": {},
   "source": [
    "## 6. Operasi Dasar Array"
   ]
  },
  {
   "cell_type": "code",
   "execution_count": null,
   "id": "fb8cea44",
   "metadata": {},
   "outputs": [],
   "source": [
    "a = np.array([1, 2, 3])\n",
    "b = np.array([4, 5, 6])\n",
    "\n",
    "print(\"Penjumlahan:\", a + b)\n",
    "print(\"Perkalian skalar:\", a * 2)\n",
    "print(\"Broadcasting:\")\n",
    "A = np.array([[1, 2], [3, 4]])\n",
    "print(A + 10)"
   ]
  },
  {
   "cell_type": "markdown",
   "id": "579fdd72",
   "metadata": {},
   "source": [
    "## 7. Fungsi Statistik"
   ]
  },
  {
   "cell_type": "code",
   "execution_count": null,
   "id": "d7bc8cd9",
   "metadata": {},
   "outputs": [],
   "source": [
    "data = np.array([[5, 10], [15, 20]])\n",
    "print(\"Mean:\", np.mean(data))\n",
    "print(\"Max:\", np.max(data))\n",
    "print(\"Min:\", np.min(data))\n",
    "print(\"Std:\", np.std(data))"
   ]
  },
  {
   "cell_type": "markdown",
   "id": "c875bc4a",
   "metadata": {},
   "source": [
    "## 8. Operasi Lanjutan"
   ]
  },
  {
   "cell_type": "code",
   "execution_count": 10,
   "id": "5c7e5714",
   "metadata": {},
   "outputs": [
    {
     "name": "stdout",
     "output_type": "stream",
     "text": [
      "Dot product:\n",
      " [[19 22]\n",
      " [43 50]]\n",
      "Transpose:\n",
      " [[1 3]\n",
      " [2 4]]\n"
     ]
    }
   ],
   "source": [
    "mat1 = np.array([[1, 2], [3, 4]])\n",
    "mat2 = np.array([[5, 6], [7, 8]])\n",
    "\n",
    "# Dot product\n",
    "print(\"Dot product:\\n\", np.dot(mat1, mat2))\n",
    "\n",
    "# Transpose\n",
    "print(\"Transpose:\\n\", mat1.T)"
   ]
  },
  {
   "cell_type": "markdown",
   "id": "d9d8f38a",
   "metadata": {},
   "source": [
    "## 9. Mini Project: Analisis Data Suhu Harian\n",
    "Misalnya kita punya data suhu harian selama seminggu dari 3 kota. Kita akan menghitung rata-rata, suhu maksimum, dan kota terpanas setiap harinya."
   ]
  },
  {
   "cell_type": "code",
   "execution_count": null,
   "id": "8c4b8cd3",
   "metadata": {},
   "outputs": [],
   "source": [
    "# Data suhu: 7 hari x 3 kota (dalam derajat Celsius)\n",
    "suhu = np.array([\n",
    "    [30, 32, 31],\n",
    "    [29, 34, 33],\n",
    "    [28, 31, 30],\n",
    "    [27, 29, 32],\n",
    "    [30, 33, 35],\n",
    "    [32, 34, 36],\n",
    "    [31, 30, 29]\n",
    "])\n",
    "\n",
    "rata2_per_hari = np.mean(suhu, axis=1)\n",
    "max_per_hari = np.max(suhu, axis=1)\n",
    "kota_terpanas = np.argmax(suhu, axis=1)\n",
    "\n",
    "print(\"Rata-rata suhu per hari:\", rata2_per_hari)\n",
    "print(\"Suhu maksimum per hari:\", max_per_hari)\n",
    "print(\"Index kota terpanas tiap hari:\", kota_terpanas)"
   ]
  },
  {
   "cell_type": "markdown",
   "id": "39d8cbf5",
   "metadata": {},
   "source": [
    "## 10. Kesimpulan\n",
    "Dengan NumPy, kamu bisa mengolah data numerik dengan sangat efisien. Library ini adalah fondasi untuk data science di Python."
   ]
  }
 ],
 "metadata": {
  "kernelspec": {
   "display_name": "Python 3",
   "language": "python",
   "name": "python3"
  },
  "language_info": {
   "codemirror_mode": {
    "name": "ipython",
    "version": 3
   },
   "file_extension": ".py",
   "mimetype": "text/x-python",
   "name": "python",
   "nbconvert_exporter": "python",
   "pygments_lexer": "ipython3",
   "version": "3.10.6"
  }
 },
 "nbformat": 4,
 "nbformat_minor": 5
}
