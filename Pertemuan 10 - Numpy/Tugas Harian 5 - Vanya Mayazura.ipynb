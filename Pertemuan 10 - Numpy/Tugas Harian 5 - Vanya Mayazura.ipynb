{
 "cells": [
  {
   "cell_type": "markdown",
   "metadata": {},
   "source": [
    "<h2>Vanya Mayazura Puspitaningrum</h2>\n",
    "\n",
    "Tugas Harian 5 - Sanbercode\n",
    "\n",
    "15/02/2025"
   ]
  },
  {
   "cell_type": "markdown",
   "metadata": {
    "id": "IE8a6SXLbYzl"
   },
   "source": [
    "# Statistika Deskriptif"
   ]
  },
  {
   "cell_type": "code",
   "execution_count": 1,
   "metadata": {
    "id": "u6bx8Llrbhs8"
   },
   "outputs": [],
   "source": [
    "import statistics\n",
    "import numpy as np\n",
    "import scipy.stats\n",
    "\n",
    "\n",
    "#Berikut adalah data dari breast cancer dataset, area dan status mematikan atau tidaknya\n",
    "\n",
    "area = [1001. , 1326. , 1203. ,  386.1, 1297. ,  477.1, 1040. ,  577.9, 519.8,  475.9,  797.8,  781. , 1123. ,  782.7,  578.3,  658.8, 684.5,  798.8, 1260. ,  566.3,  520. ,  273.9,  704.4, 1404. ,\n",
    "        904.6,  912.7,  644.8, 1094. ,  732.4,  955.1, 1088. ,  440.6, 899.3, 1162. ,  807.2,  869.5,  633. ,  523.8,  698.8,  559.2, 563. ,  371.1, 1104. ,  545.2,  531.5, 1076. ,  201.9,  534.6,\n",
    "        449.3,  561. ,  427.9,  571.8,  437.6, 1033. ,  712.8,  409. , 1152. ,  656.9,  527.2,  224.5,  311.9,  221.8,  645.7,  260.9, 499. ,  668.3,  269.4,  394.1,  250.5,  502.5, 1130. ,  244. ,\n",
    "        929.4,  584.1,  470.9,  817.7,  559.2, 1006. , 1245. ,  506.3, 401.5,  520. , 1878. , 1132. ,  443.3, 1075. ,  648.2, 1076. , 466.1,  651.9,  662.7,  728.2,  551.7,  555.1,  705.6, 1264. ,\n",
    "        451.1,  294.5,  412.6,  642.5,  582.7,  143.5,  458.7,  298.3, 336.1,  530.2,  412.5,  466.7, 1509. ,  396.5,  290.2,  480.4, 629.9,  334.2,  230.9,  438.6,  245.2,  682.5,  782.6,  982. ,\n",
    "        403.3, 1077. , 1761. ,  640.7,  553.5,  588.7,  572.6, 1138. , 674.5, 1192. ,  455.8,  748.9,  809.8,  761.7, 1075. ,  506.3, 423.6,  399.8,  678.1,  384.8,  288.5,  813. ,  398. ,  512.2,\n",
    "        355.3,  432.8,  432. ,  689.5,  640.1,  585. ,  519.4,  203.9, 300.2,  381.9,  538.9,  460.3,  963.7,  880.2,  448.6,  366.8, 419.8, 1157. , 1214. ,  464.5, 1686. ,  690.2,  357.6,  886.3,\n",
    "        984.6,  685.9,  464.1,  565.4,  736.9,  372.7,  349.6,  227.2, 302.4,  832.9,  526.4,  508.8, 2250. , 1311. ,  766.6,  402. , 710.6,  317.5, 1041. ,  420.3,  428.9,  463.7,  609.9,  507.4,\n",
    "        288.1,  477.4,  671.4,  516.4,  588.9, 1024. , 1148. ,  642.7, 461. ,  951.6, 1685. ,  597.8,  481.9,  716.6,  295.4,  904.3, 529.4,  725.5, 1290. ,  428. , 2499. ,  948. ,  610.7,  578.9,\n",
    "        432.2,  321.2, 1230. , 1223. ,  568.9,  561.3,  313.1,  761.3, 546.4,  641.2,  329.6,  684.5,  496.4,  503.2,  895. ,  395.7, 386.8, 1319. ,  279.6,  603.4, 1670. , 1306. ,  623.9,  920.6,\n",
    "        575.3,  476.5,  389.4,  590. , 1155. ,  337.7,  541.6,  512.2, 347. ,  406.3, 1364. ,  407.4, 1206. ,  928.2, 1169. ,  602.4, 1207. ,  713.3,  773.5,  744.9, 1288. ,  933.1,  947.8,  758.6,\n",
    "        928.3, 1419. ,  346.4,  561. ,  512.2,  344.9,  632.6,  388. , 1491. ,  289.9,  998.9,  435.6,  396.6, 1102. ,  572.3,  587.4, 1138. ,  427.3, 1145. ,  805.1,  516.6,  489. ,  441. ,  515.9,\n",
    "        394.1,  396. ,  651. ,  687.3,  513.7,  432.7,  492.1,  582.7, 363.7,  431.1,  633.1,  334.2, 1217. ,  471.3, 1247. ,  334.3, 403.1,  417.2,  537.3,  246.3,  566.2,  530.6,  418.7,  664.9,\n",
    "        504.1,  409.1,  221.2,  481.6,  461.4, 1027. ,  244.5,  477.3, 324.2, 1274. ,  504.8, 1264. ,  457.9,  489.9,  616.5,  446. , 813.7,  826.8,  793.2,  514. ,  387.3,  390. ,  464.4,  918.6,\n",
    "        514.3, 1092. ,  310.8, 1747. ,  641.2,  280.5,  373.9, 1194. , 420.3,  321.6,  445.3,  668.7,  402.7,  426.7,  421. ,  758.6, 2010. ,  716.6,  384.6,  485.8,  512. ,  593.7,  241. ,  278.6,\n",
    "        491.9,  546.1,  496.6,  838.1,  552.4, 1293. , 1234. ,  458.4, 1546. , 1482. ,  840.4,  711.8, 1386. , 1335. ,  579.1,  788.5, 338.3,  562.1,  580.6,  361.6,  386.3,  372.7,  447.8,  462.9,\n",
    "        541.8,  664.7,  462. ,  596.6,  392. , 1174. ,  321.6,  234.3, 744.7, 1407. ,  446.2,  609.1,  558.1,  508.3,  378.2,  431.9, 994. ,  442.7,  525.2,  507.6,  469.1,  370. ,  800. ,  514.5,\n",
    "        991.7,  466.1,  399.8,  373.2,  268.8,  693.7,  719.5,  433.8, 271.2,  803.1,  495. ,  380.3,  409.7,  656.1,  408.2,  575.3, 289.7,  307.3,  333.6,  359.9,  381.1,  501.3,  685. ,  467.8,\n",
    "       1250. , 1110. ,  673.7,  599.5,  509.2,  611.2,  592.6,  606.5, 371.5,  928.8,  585.9,  340.9,  990. ,  441.3,  981.6,  674.8, 659.7, 1384. ,  432. , 1191. ,  442.5,  644.2,  492.9,  557.2,\n",
    "        415.1,  537.9,  520.2,  290.9,  930.9, 2501. ,  646.1,  412.7, 537.3,  542.9,  536.9,  286.3,  980.5,  408.8,  289.1,  449.9, 686.9,  465.4,  358.9,  506.9,  618.4,  599.4,  404.9,  815.8,\n",
    "        455.3,  602.9,  546.3,  571.1,  747.2,  476.7,  666. , 1167. , 420.5,  857.6,  466.5,  992.1, 1007. ,  477.3,  538.7,  680.9, 485.6,  480.1, 1068. , 1320. ,  689.4,  595.9,  476.3, 1682. ,\n",
    "        248.7,  272.5,  453.1,  366.5,  819.8,  731.3,  426. ,  680.7, 556.7,  658.8,  701.9,  391.2, 1052. , 1214. ,  493.1,  493.8, 257.8, 1841. ,  388.1,  571. ,  293.2,  221.3,  551.1,  468.5,\n",
    "        594.2,  445.2,  422.9,  416.2,  575.5, 1299. ,  365.6, 1308. , 629.8,  406.4,  178.8,  170.4,  402.9,  656.4,  668.6,  538.4, 584.8,  573.2,  324.9,  320.8,  285.7,  361.6,  360.5,  378.4,\n",
    "        507.9,  264. ,  514.3,  321.4,  311.7,  271.3,  657.1,  403.5, 600.4,  386. ,  716.9, 1347. , 1479. , 1261. ,  858.1, 1265. , 181. ]\n",
    "\n",
    "malignant = [0., 0., 0., 0., 0., 0., 0., 0., 0., 0., 0., 0., 0., 0., 0., 0., 0.,\n",
    "       0., 0., 1., 1., 1., 0., 0., 0., 0., 0., 0., 0., 0., 0., 0., 0., 0.,\n",
    "       0., 0., 0., 1., 0., 0., 0., 0., 0., 0., 0., 0., 1., 0., 1., 1., 1.,\n",
    "       1., 1., 0., 0., 1., 0., 0., 1., 1., 1., 1., 0., 1., 0., 0., 1., 1.,\n",
    "       1., 1., 0., 1., 0., 0., 1., 0., 1., 0., 0., 1., 1., 1., 0., 0., 1.,\n",
    "       0., 0., 0., 1., 1., 1., 0., 1., 1., 0., 0., 1., 1., 1., 0., 0., 1.,\n",
    "       1., 1., 1., 0., 1., 1., 0., 1., 1., 1., 1., 1., 1., 1., 1., 0., 0.,\n",
    "       0., 1., 0., 0., 1., 1., 1., 0., 0., 1., 0., 1., 0., 0., 1., 0., 0.,\n",
    "       1., 1., 0., 1., 1., 0., 1., 1., 1., 1., 0., 1., 1., 1., 1., 1., 1.,\n",
    "       1., 1., 1., 0., 1., 1., 1., 1., 0., 0., 1., 0., 1., 1., 0., 0., 1.,\n",
    "       1., 0., 0., 1., 1., 1., 1., 0., 1., 1., 0., 0., 0., 1., 0., 1., 0.,\n",
    "       1., 1., 1., 0., 1., 1., 0., 0., 1., 0., 0., 0., 0., 1., 0., 0., 0.,\n",
    "       1., 0., 1., 0., 1., 1., 0., 1., 0., 0., 0., 0., 1., 1., 0., 0., 1.,\n",
    "       1., 1., 0., 1., 1., 1., 1., 1., 0., 0., 1., 1., 0., 1., 1., 0., 0.,\n",
    "       1., 0., 1., 1., 1., 1., 0., 1., 1., 1., 1., 1., 0., 1., 0., 0., 0.,\n",
    "       0., 0., 0., 0., 0., 0., 0., 0., 0., 0., 0., 1., 1., 1., 1., 1., 1.,\n",
    "       0., 1., 0., 1., 1., 0., 1., 1., 0., 1., 0., 0., 1., 1., 1., 1., 1.,\n",
    "       1., 1., 1., 1., 1., 1., 1., 1., 0., 1., 1., 0., 1., 0., 1., 1., 1.,\n",
    "       1., 1., 1., 1., 1., 1., 1., 1., 1., 1., 1., 0., 1., 1., 1., 0., 1.,\n",
    "       0., 1., 1., 1., 1., 0., 0., 0., 1., 1., 1., 1., 0., 1., 0., 1., 0.,\n",
    "       1., 1., 1., 0., 1., 1., 1., 1., 1., 1., 1., 0., 0., 0., 1., 1., 1.,\n",
    "       1., 1., 1., 1., 1., 1., 1., 1., 0., 0., 1., 0., 0., 0., 1., 0., 0.,\n",
    "       1., 1., 1., 1., 1., 0., 1., 1., 1., 1., 1., 0., 1., 1., 1., 0., 1.,\n",
    "       1., 0., 0., 1., 1., 1., 1., 1., 1., 0., 1., 1., 1., 1., 1., 1., 1.,\n",
    "       0., 1., 1., 1., 1., 1., 0., 1., 1., 0., 1., 1., 1., 1., 1., 1., 1.,\n",
    "       1., 1., 1., 1., 1., 0., 1., 0., 0., 1., 0., 1., 1., 1., 1., 1., 0.,\n",
    "       1., 1., 0., 1., 0., 1., 1., 0., 1., 0., 1., 1., 1., 1., 1., 1., 1.,\n",
    "       1., 0., 0., 1., 1., 1., 1., 1., 1., 0., 1., 1., 1., 1., 1., 1., 1.,\n",
    "       1., 1., 1., 0., 1., 1., 1., 1., 1., 1., 1., 0., 1., 0., 1., 1., 0.,\n",
    "       1., 1., 1., 1., 1., 0., 0., 1., 0., 1., 0., 1., 1., 1., 1., 1., 0.,\n",
    "       1., 1., 0., 1., 0., 1., 0., 0., 1., 1., 1., 0., 1., 1., 1., 1., 1.,\n",
    "       1., 1., 1., 1., 1., 1., 0., 1., 0., 0., 1., 1., 1., 1., 1., 1., 1.,\n",
    "       1., 1., 1., 1., 1., 1., 1., 1., 1., 1., 1., 1., 1., 1., 1., 1., 1.,\n",
    "       1., 0., 0., 0., 0., 0., 0., 1.]"
   ]
  },
  {
   "cell_type": "markdown",
   "metadata": {
    "id": "EAqqZ4yrboOn"
   },
   "source": [
    "# Soal 1. Menghitung central tendency\n",
    "\n",
    "\n",
    "\n",
    "*   Hitung nilai mean dari area menggunakan cara python\n",
    "*   Hitung nilai median menggunakan library numpy\n",
    "*   Hitung nilai modus menggunakan scipy\n",
    "\n"
   ]
  },
  {
   "cell_type": "code",
   "execution_count": null,
   "metadata": {
    "id": "KxxIPZ1jb7xR"
   },
   "outputs": [
    {
     "name": "stdout",
     "output_type": "stream",
     "text": [
      "654.8891036906854\n",
      "551.1\n",
      "ModeResult(mode=np.float64(512.2), count=np.int64(3))\n",
      "1.15.1\n"
     ]
    }
   ],
   "source": [
    "# MEAN STATIS\n",
    "mean_ = statistics.mean(area)\n",
    "print(mean_)\n",
    "\n",
    "# MEDIAN NUMPY\n",
    "median_ = np.median(area)\n",
    "print(median_)\n",
    "\n",
    "# MODUS / MODE SCIPY\n",
    "area = np.array(area)\n",
    "mode_ = scipy.stats.mode(area)\n",
    "print(mode_)\n",
    "\n",
    "# versi scipy saya 1.15.1\n",
    "print(scipy.__version__)\n"
   ]
  },
  {
   "cell_type": "markdown",
   "metadata": {
    "id": "zamDw5bIbXin"
   },
   "source": [
    "Expected output:\n",
    "\n",
    "\n",
    "```\n",
    "654.8891036906857 \n",
    "551.1\n",
    "ModeResult(mode=array([512.2]), count=array([3]))\n",
    "```"
   ]
  },
  {
   "cell_type": "markdown",
   "metadata": {
    "id": "lbGK0ue5y76R"
   },
   "source": [
    "---"
   ]
  },
  {
   "cell_type": "markdown",
   "metadata": {
    "id": "WfDPupq6dxAT"
   },
   "source": [
    "# Soal 2. Menghitung sebaran data\n",
    "\n",
    "\n",
    "\n",
    "*   Hitung nilai variance dari area menggunakan numpy dengan ddof = 1\n",
    "*   Hitung nilai standar deviasi dari area menggunakan numpy dengan ddof = 1\n",
    "\n"
   ]
  },
  {
   "cell_type": "code",
   "execution_count": 17,
   "metadata": {
    "id": "RY8LfslonVMq"
   },
   "outputs": [
    {
     "name": "stdout",
     "output_type": "stream",
     "text": [
      "123843.55431768115\n",
      "351.914129181653\n"
     ]
    }
   ],
   "source": [
    "# VARIANCE  NUMPY DDOF = 1\n",
    "var_ = np.var(area, ddof=1)\n",
    "print(var_)\n",
    "\n",
    "# STANDAR DEVIASI NUMPY DDOF = 1\n",
    "std_ = np.std(area, ddof=1)\n",
    "print(std_)\n"
   ]
  },
  {
   "cell_type": "markdown",
   "metadata": {
    "id": "vd0o3W3_nUHe"
   },
   "source": [
    "Expected output:\n",
    "\n",
    "\n",
    "```\n",
    "123843.55431768115\n",
    "351.914129181653\n",
    "```\n",
    "\n"
   ]
  },
  {
   "cell_type": "markdown",
   "metadata": {
    "id": "G0beaH44fwkz"
   },
   "source": [
    "\n",
    "\n",
    "---\n",
    "\n",
    "\n",
    "\n",
    "---\n",
    "\n"
   ]
  },
  {
   "cell_type": "markdown",
   "metadata": {
    "id": "V1ZGmVi9feXa"
   },
   "source": [
    "# Soal 3. Menghitung Range\n",
    "\n",
    "Hitung nilai range dari area menggunakan numpy"
   ]
  },
  {
   "cell_type": "code",
   "execution_count": 18,
   "metadata": {
    "id": "_eflvygLfdbS"
   },
   "outputs": [
    {
     "name": "stdout",
     "output_type": "stream",
     "text": [
      "2357.5\n"
     ]
    }
   ],
   "source": [
    "# NILAI RANGE\n",
    "range_ = np.ptp(area)\n",
    "print(range_)"
   ]
  },
  {
   "cell_type": "markdown",
   "metadata": {
    "id": "rBCVXNQqfpEq"
   },
   "source": [
    "Expected output:\n",
    "\n",
    "\n",
    "```\n",
    "2357.5\n",
    "```"
   ]
  },
  {
   "cell_type": "markdown",
   "metadata": {
    "id": "QxbbQiCefyvb"
   },
   "source": [
    "\n",
    "\n",
    "---\n",
    "\n",
    "\n",
    "\n",
    "---\n",
    "\n"
   ]
  },
  {
   "cell_type": "markdown",
   "metadata": {
    "id": "H5gqUHSCf2xD"
   },
   "source": [
    "# Soal 4. Menghitung Quartile\n",
    "\n",
    "Hitung Quartile 1 dan 3 dari area menggunakan numpy"
   ]
  },
  {
   "cell_type": "code",
   "execution_count": 24,
   "metadata": {
    "id": "tnhfCWvMnauS"
   },
   "outputs": [
    {
     "name": "stdout",
     "output_type": "stream",
     "text": [
      "Q1 =  420.3\n",
      "Q3 =  782.7\n"
     ]
    }
   ],
   "source": [
    "# Q1 = 25\n",
    "Q1_ = np.percentile(area, 25)\n",
    "print(\"Q1 = \", Q1_)\n",
    "\n",
    "# Q3 = 75\n",
    "Q3_ = np.percentile(area, 75)\n",
    "print(\"Q3 = \", Q3_)\n"
   ]
  },
  {
   "cell_type": "markdown",
   "metadata": {
    "id": "39IZU0XJgFrd"
   },
   "source": [
    "Expected output:\n",
    "\n",
    "```\n",
    "Q1 = 420.3\n",
    "\n",
    "Q3 = 782.7\n",
    "```\n"
   ]
  },
  {
   "cell_type": "markdown",
   "metadata": {
    "id": "PmyyftEPgm8X"
   },
   "source": [
    "\n",
    "\n",
    "---\n",
    "\n",
    "\n",
    "\n",
    "---\n",
    "\n"
   ]
  },
  {
   "cell_type": "markdown",
   "metadata": {
    "id": "uZ4TjoFEgotf"
   },
   "source": [
    "# Soal 5. Menghitung Covariance\n",
    "\n",
    "Hitung nilai covariance dari 'area' dan 'malignant' menggunakan numpy\n"
   ]
  },
  {
   "cell_type": "code",
   "execution_count": 25,
   "metadata": {
    "id": "Rf1DJcZ_g4Hy"
   },
   "outputs": [
    {
     "name": "stdout",
     "output_type": "stream",
     "text": [
      "[[ 1.23843554e+05 -1.20738222e+02]\n",
      " [-1.20738222e+02  2.34176589e-01]]\n"
     ]
    }
   ],
   "source": [
    "cov_matrix = np.cov(area, malignant)\n",
    "print(cov_matrix)"
   ]
  },
  {
   "cell_type": "markdown",
   "metadata": {
    "id": "33wj1HfUg6Tg"
   },
   "source": [
    "Expexted output:\n",
    "\n",
    "```\n",
    "[[ 1.23843554e+05 -1.20738222e+02]\n",
    " [-1.20738222e+02  2.34176589e-01]]\n",
    "```\n"
   ]
  },
  {
   "cell_type": "markdown",
   "metadata": {
    "id": "UHh93Ud2hUmQ"
   },
   "source": [
    "\n",
    "\n",
    "---\n",
    "\n",
    "\n",
    "\n",
    "---\n",
    "\n"
   ]
  },
  {
   "cell_type": "markdown",
   "metadata": {
    "id": "kMUm-TrZhqdI"
   },
   "source": [
    "# Statistika Inferential"
   ]
  },
  {
   "cell_type": "markdown",
   "metadata": {
    "id": "dH1_3gWfiOF9"
   },
   "source": [
    "# Soal 6. Menghintung bentuk sebaran data\n",
    "\n",
    "*   Hitung nilai skewness dari 'area' menggunakan scipy\n",
    "*   Berikan analisa bentuk sebaran data dari area\n",
    "\n"
   ]
  },
  {
   "cell_type": "code",
   "execution_count": null,
   "metadata": {
    "id": "_SesOoaz_EiG"
   },
   "outputs": [
    {
     "name": "stdout",
     "output_type": "stream",
     "text": [
      "1.6457321756240424\n"
     ]
    }
   ],
   "source": [
    "#code here\n",
    "sebardata_ = scipy.stats.skew(area, bias=False)\n",
    "print(sebardata_)"
   ]
  },
  {
   "cell_type": "markdown",
   "metadata": {
    "id": "4jTMC_ydn0l0"
   },
   "source": [
    "Expected output:\n",
    "\n",
    "\n",
    "```\n",
    "1.6457321756240424\n",
    "```\n",
    "\n"
   ]
  },
  {
   "cell_type": "markdown",
   "metadata": {
    "id": "FktxnxPvioWl"
   },
   "source": [
    "Analisis bentuk sebaran data:\n",
    "\n",
    "- Skewness digunakan untuk memahami distribusi data.\n",
    "- misal kalau nilainya positif atau nilai > 0 berarti dia lebih condong ke kanan.\n",
    "- kalau nilai negatif atau nilai < 0 berarti dia lebih condong ke kiri.\n",
    "- kalau nilai 0 berarti dia simetris atau distribusi normal.\n",
    "\n",
    "di soal yang dikerjain hasilnya 1.6 sekian yang artinya positif atau condong ke kanan\n"
   ]
  },
  {
   "cell_type": "markdown",
   "metadata": {
    "id": "uHZKHWWOiuFv"
   },
   "source": [
    "\n",
    "\n",
    "---\n",
    "\n",
    "\n",
    "\n",
    "---\n",
    "\n"
   ]
  }
 ],
 "metadata": {
  "colab": {
   "collapsed_sections": [],
   "name": "Tugas Hari 5.ipynb",
   "provenance": []
  },
  "kernelspec": {
   "display_name": "Python 3",
   "language": "python",
   "name": "python3"
  },
  "language_info": {
   "codemirror_mode": {
    "name": "ipython",
    "version": 3
   },
   "file_extension": ".py",
   "mimetype": "text/x-python",
   "name": "python",
   "nbconvert_exporter": "python",
   "pygments_lexer": "ipython3",
   "version": "3.10.6"
  }
 },
 "nbformat": 4,
 "nbformat_minor": 0
}
