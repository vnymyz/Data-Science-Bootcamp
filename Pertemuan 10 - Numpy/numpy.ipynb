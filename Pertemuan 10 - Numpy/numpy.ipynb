{
 "cells": [
  {
   "cell_type": "markdown",
   "id": "1021d922",
   "metadata": {},
   "source": [
    "# Pertemuan 10\n",
    "***********"
   ]
  },
  {
   "cell_type": "markdown",
   "id": "29388750",
   "metadata": {},
   "source": [
    "# Eksplorasi dan Pengolahan (Numpy)\n",
    "********"
   ]
  },
  {
   "cell_type": "markdown",
   "id": "2e5baac4",
   "metadata": {},
   "source": [
    "## Installasi Pandas\n",
    "\n",
    "### pip show pandas di cmd\n",
    "\n",
    "### pip list\n",
    "\n",
    "### pip install pandas"
   ]
  },
  {
   "cell_type": "markdown",
   "id": "f6bf7bd5",
   "metadata": {},
   "source": [
    "## 1. Why Numpy ?\n",
    "\n",
    "- Numpy itu cepat. NumPy adalah sistem saraf dari komputasi numerik di Python.\n",
    "\n",
    "- NumPy itu alat penting di Python buat ngolah angka.\n",
    "\n",
    "- Punya array (ndarray) yang bisa simpan banyak data, kayak tabel 1D, 2D, atau 3D.\n",
    "\n",
    "- Bisa ngitung cepat tanpa perlu loop.\n",
    "\n",
    "- Ada fitur buat aljabar, angka acak, dan transformasi data.\n",
    "\n",
    "**Kenapa penting? Karena hampir semua data dan model machine learning jalan pakai NumPy di belakang layar.**\n",
    "\n",
    ">Bayangkan kamu seorang ilmuwan di laboratorium yang harus bekerja dengan tabel angka yang sangat besar — jutaan data suhu, harga saham, piksel gambar, atau bobot model. List biasa di Python ibarat sempoa kayu: lambat dan tidak efisien. NumPy adalah kalkulator grafik super canggih — cepat, teroptimasi, dan memungkinkanmu melakukan perhitungan dalam skala besar.\n"
   ]
  },
  {
   "cell_type": "markdown",
   "id": "2058b581",
   "metadata": {},
   "source": [
    "### 1.1 Membuat Array"
   ]
  },
  {
   "cell_type": "code",
   "execution_count": 1,
   "id": "d240f497",
   "metadata": {},
   "outputs": [],
   "source": [
    "# import dan membuat array\n",
    "import numpy as np"
   ]
  },
  {
   "cell_type": "code",
   "execution_count": 2,
   "id": "72521705",
   "metadata": {},
   "outputs": [
    {
     "name": "stdout",
     "output_type": "stream",
     "text": [
      "Array 1D: [1 2 3]\n",
      "Array 2D:\n",
      " [[1 2]\n",
      " [3 4]]\n",
      "Zeros:\n",
      " [[0. 0. 0.]\n",
      " [0. 0. 0.]]\n",
      "Ones:\n",
      " [[1. 1. 1.]\n",
      " [1. 1. 1.]]\n",
      "Randoms:\n",
      " [[0.67740218 0.67312403 0.74988258]\n",
      " [0.17116977 0.15547706 0.39474161]]\n"
     ]
    }
   ],
   "source": [
    "# Array 1D\n",
    "arr1 = np.array([1, 2, 3])\n",
    "\n",
    "# Array 2D\n",
    "arr2 = np.array([[1, 2], [3, 4]])\n",
    "\n",
    "# Array kosong\n",
    "zeros = np.zeros((2, 3)) # Membuat array 2D berukuran 2 baris × 3 kolom yang semua elemennya berisi angka 0.\n",
    "ones = np.ones((2, 3)) # Membuat array 2D berukuran 2 baris × 3 kolom yang semua elemennya berisi angka 1.\n",
    "randoms = np.random.rand(2, 3) # Membuat array 2D berukuran 2 baris × 3 kolom yang isinya angka acak antara 0 dan 1 (tiap kali dijalankan nilainya bisa berbeda).\n",
    "\n",
    "print(\"Array 1D:\", arr1)\n",
    "print(\"Array 2D:\\n\", arr2)\n",
    "print(\"Zeros:\\n\", zeros)\n",
    "print(\"Ones:\\n\", ones)\n",
    "print(\"Randoms:\\n\", randoms)"
   ]
  },
  {
   "cell_type": "markdown",
   "id": "8e2ba378",
   "metadata": {},
   "source": [
    "| Fungsi                                | Keterangan                                 |\n",
    "| ------------------------------------- | ------------------------------------------ |\n",
    "| `np.zeros(shape)`                     | Buat array isi 0                           |\n",
    "| `np.ones(shape)`                      | Buat array isi 1                           |\n",
    "| `np.random.rand(shape)`               | Buat array isi angka acak (0–1)            |\n",
    "| `.shape` pakai tuple `(baris, kolom)` | Misal `(2, 3)` berarti 2 baris dan 3 kolom |\n"
   ]
  },
  {
   "cell_type": "markdown",
   "id": "59ab9b4f",
   "metadata": {},
   "source": [
    "### 1.2 Atribut Array"
   ]
  },
  {
   "cell_type": "code",
   "execution_count": 3,
   "id": "06293fa3",
   "metadata": {},
   "outputs": [
    {
     "name": "stdout",
     "output_type": "stream",
     "text": [
      "Shape: (2, 2)\n",
      "Dimensi: 2\n",
      "Jumlah elemen: 4\n",
      "Tipe data: int64\n"
     ]
    }
   ],
   "source": [
    "print(\"Shape:\", arr2.shape) # Menampilkan bentuk atau ukuran dari array arr2.\n",
    "print(\"Dimensi:\", arr2.ndim) # Menampilkan jumlah dimensi dari array arr2\n",
    "print(\"Jumlah elemen:\", arr2.size) # Menampilkan jumlah total elemen dalam array.\n",
    "print(\"Tipe data:\", arr2.dtype) # Menampilkan tipe data dari elemen di dalam array arr2."
   ]
  },
  {
   "cell_type": "markdown",
   "id": "eb3394ad",
   "metadata": {},
   "source": [
    "| Properti           | Kode         | Penjelasan                                                            |\n",
    "| ------------------ | ------------ | --------------------------------------------------------------------- |\n",
    "| **Shape**          | `arr2.shape` | Menunjukkan bentuk array, misal `(2, 3)` artinya 2 baris × 3 kolom    |\n",
    "| **Dimensi (ndim)** | `arr2.ndim`  | Menunjukkan jumlah dimensi array, contoh `2D` berarti array 2 dimensi |\n",
    "| **Jumlah Elemen**  | `arr2.size`  | Total semua elemen dalam array, contoh `2 × 3 = 6`                    |\n",
    "| **Tipe Data**      | `arr2.dtype` | Jenis data yang disimpan, contoh `int64`, `float64`, dll              |\n"
   ]
  },
  {
   "cell_type": "code",
   "execution_count": 5,
   "id": "37eaf2e6",
   "metadata": {},
   "outputs": [
    {
     "name": "stdout",
     "output_type": "stream",
     "text": [
      "Shape: (3, 3)\n",
      "Dimensi: 2\n",
      "Jumlah elemen: 9\n",
      "Tipe data: int64\n"
     ]
    }
   ],
   "source": [
    "# contoh sederhana\n",
    "import numpy as np\n",
    "\n",
    "arr2 = np.array([[1, 2, 3], [4, 5, 6], [10, 6, 8]]) # array 2 dimensi (2D).\n",
    "\n",
    "print(\"Shape:\", arr2.shape)\n",
    "print(\"Dimensi:\", arr2.ndim)\n",
    "print(\"Jumlah elemen:\", arr2.size)\n",
    "print(\"Tipe data:\", arr2.dtype)"
   ]
  },
  {
   "cell_type": "markdown",
   "id": "ab4340bf",
   "metadata": {},
   "source": [
    "***************"
   ]
  },
  {
   "cell_type": "code",
   "execution_count": 6,
   "id": "42c699f1",
   "metadata": {},
   "outputs": [],
   "source": [
    "import numpy as np\n",
    "# list\n",
    "a = np.array([1 ,2 ,3 ,4 ,5])\n",
    "# tuple\n",
    "b = np.array((1, 6, 3, 4, 9))"
   ]
  },
  {
   "cell_type": "code",
   "execution_count": 7,
   "id": "c13424e3",
   "metadata": {},
   "outputs": [
    {
     "name": "stdout",
     "output_type": "stream",
     "text": [
      "[1 2 3 4 5]\n"
     ]
    }
   ],
   "source": [
    "print(a)"
   ]
  },
  {
   "cell_type": "code",
   "execution_count": 8,
   "id": "925ebdc8",
   "metadata": {},
   "outputs": [
    {
     "name": "stdout",
     "output_type": "stream",
     "text": [
      "[1 6 3 4 9]\n"
     ]
    }
   ],
   "source": [
    "print(b)"
   ]
  },
  {
   "cell_type": "code",
   "execution_count": 9,
   "id": "583735a0",
   "metadata": {},
   "outputs": [
    {
     "data": {
      "text/plain": [
       "numpy.ndarray"
      ]
     },
     "execution_count": 9,
     "metadata": {},
     "output_type": "execute_result"
    }
   ],
   "source": [
    "type(a)  "
   ]
  },
  {
   "cell_type": "code",
   "execution_count": 10,
   "id": "57e983c4",
   "metadata": {},
   "outputs": [
    {
     "data": {
      "text/plain": [
       "numpy.ndarray"
      ]
     },
     "execution_count": 10,
     "metadata": {},
     "output_type": "execute_result"
    }
   ],
   "source": [
    "type(b)"
   ]
  },
  {
   "cell_type": "markdown",
   "id": "1ee6fe79",
   "metadata": {},
   "source": [
    "***********"
   ]
  },
  {
   "cell_type": "code",
   "execution_count": 11,
   "id": "822026b4",
   "metadata": {},
   "outputs": [],
   "source": [
    "import numpy as np\n",
    "# list\n",
    "a = np.array([1 ,2 ,3 ,4 ,5], dtype='i')\n",
    "# tuple\n",
    "b = np.array((1, 6, 3, 4, 9),dtype='f')"
   ]
  },
  {
   "cell_type": "code",
   "execution_count": 12,
   "id": "24384e5a",
   "metadata": {},
   "outputs": [
    {
     "name": "stdout",
     "output_type": "stream",
     "text": [
      "[1 2 3 4 5]\n"
     ]
    }
   ],
   "source": [
    "print(a)"
   ]
  },
  {
   "cell_type": "code",
   "execution_count": 13,
   "id": "4d38ea2c",
   "metadata": {},
   "outputs": [
    {
     "name": "stdout",
     "output_type": "stream",
     "text": [
      "[1. 6. 3. 4. 9.]\n"
     ]
    }
   ],
   "source": [
    "print(b)"
   ]
  },
  {
   "cell_type": "code",
   "execution_count": 14,
   "id": "1c668605",
   "metadata": {},
   "outputs": [
    {
     "data": {
      "text/plain": [
       "dtype('int32')"
      ]
     },
     "execution_count": 14,
     "metadata": {},
     "output_type": "execute_result"
    }
   ],
   "source": [
    "a.dtype"
   ]
  },
  {
   "cell_type": "code",
   "execution_count": 15,
   "id": "803abefa",
   "metadata": {},
   "outputs": [
    {
     "data": {
      "text/plain": [
       "dtype('float32')"
      ]
     },
     "execution_count": 15,
     "metadata": {},
     "output_type": "execute_result"
    }
   ],
   "source": [
    "b.dtype"
   ]
  },
  {
   "cell_type": "markdown",
   "id": "24e9975e",
   "metadata": {},
   "source": [
    "## 2. Numpy(Dimensions)"
   ]
  },
  {
   "cell_type": "markdown",
   "id": "efdfd42e",
   "metadata": {},
   "source": [
    "| Dimensi | Contoh Array                                     | Visualisasi Bentuk Array     | `ndim` | `shape`        | Penjelasan                                                                |\n",
    "| ------- | ------------------------------------------------ | ---------------------------- | ------ | -------------- | ------------------------------------------------------------------------- |\n",
    "| 0D      | `np.array(7)`                                    | `7`                          | 0      | `()`           | Skalar tunggal, bukan list atau array                                     |\n",
    "| 1D      | `np.array([1, 2, 3])`                            | `[1, 2, 3]`                  | 1      | `(3,)`         | Array 1 baris, 3 elemen                                                   |\n",
    "| 2D      | `np.array([[1, 2], [3, 4]])`                     | `[[1, 2], [3, 4]]`           | 2      | `(2, 2)`       | Tabel: 2 baris × 2 kolom                                                  |\n",
    "| 3D      | `np.array([[[1, 2], [3, 4]], [[5, 6], [7, 8]]])` | `2 blok → masing-masing 2×2` | 3      | `(2, 2, 2)`    | Tumpukan matrix: 2 blok, tiap blok 2×2                                    |\n",
    "| 4D      | `np.ones((2, 2, 2, 2))`                          | 4 tingkat kedalaman array    | 4      | `(2, 2, 2, 2)` | Jarang dipakai, biasanya untuk data image/video atau deep learning tensor |\n"
   ]
  },
  {
   "cell_type": "markdown",
   "id": "033af57e",
   "metadata": {},
   "source": [
    "| Properti/Fungsi | Kegunaan                          | Contoh               |\n",
    "| --------------- | --------------------------------- | -------------------- |\n",
    "| `.ndim`         | Menunjukkan jumlah dimensi array  | `arr.ndim → 2`       |\n",
    "| `.shape`        | Menunjukkan ukuran setiap dimensi | `arr.shape → (2, 3)` |\n",
    "| `.size`         | Total jumlah elemen dalam array   | `arr.size → 6`       |\n"
   ]
  },
  {
   "cell_type": "markdown",
   "id": "53339543",
   "metadata": {},
   "source": [
    "1D → Seperti daftar angka\n",
    "\n",
    "2D → Seperti tabel Excel\n",
    "\n",
    "3D → Seperti tumpukan tabel\n",
    "\n",
    "4D → Seperti video (frame × tinggi × lebar × channel)"
   ]
  },
  {
   "cell_type": "code",
   "execution_count": 16,
   "id": "7cbbc7bf",
   "metadata": {},
   "outputs": [
    {
     "data": {
      "text/plain": [
       "(2, 3, 4, 5)"
      ]
     },
     "execution_count": 16,
     "metadata": {},
     "output_type": "execute_result"
    }
   ],
   "source": [
    "import numpy as np\n",
    "\n",
    "arr4d = np.ones((2,3,4,5))\n",
    "arr4d.shape"
   ]
  },
  {
   "cell_type": "code",
   "execution_count": 17,
   "id": "d2364c41",
   "metadata": {},
   "outputs": [
    {
     "name": "stdout",
     "output_type": "stream",
     "text": [
      "shape:  (2, 3, 4, 5)\n",
      "Dimensi:  4\n",
      "Size :  120\n"
     ]
    }
   ],
   "source": [
    "arr4d = np.arange(120).reshape(2, 3, 4, 5)\n",
    "# array 4d - > (blok, sublok, baris, kolom)\n",
    "\n",
    "print(\"shape: \", arr4d.shape)\n",
    "print(\"Dimensi: \", arr4d.ndim)\n",
    "print(\"Size : \", arr4d.size)"
   ]
  },
  {
   "cell_type": "markdown",
   "id": "a091cb54",
   "metadata": {},
   "source": [
    "```lua\n",
    "arr4d\n",
    "│\n",
    "├── Blok 0\n",
    "│   ├── Sub-blok 0\n",
    "│   │   ├── [x, x, x, x, x]  ← baris 0\n",
    "│   │   ├── [x, x, x, x, x]  ← baris 1\n",
    "│   │   ├── [x, x, x, x, x]  ← baris 2\n",
    "│   │   └── [x, x, x, x, x]  ← baris 3\n",
    "│   │\n",
    "│   ├── Sub-blok 1\n",
    "│   │   ├── [x, x, x, x, x]\n",
    "│   │   ├── [x, x, x, x, x]\n",
    "│   │   ├── [x, x, x, x, x]\n",
    "│   │   └── [x, x, x, x, x]\n",
    "│   │\n",
    "│   └── Sub-blok 2\n",
    "│       ├── [x, x, x, x, x]\n",
    "│       ├── [x, x, x, x, x]\n",
    "│       ├── [x, x, x, x, x]\n",
    "│       └── [x, x, x, x, x]\n",
    "│\n",
    "└── Blok 1\n",
    "    ├── Sub-blok 0\n",
    "    │   ├── [x, x, x, x, x]\n",
    "    │   ├── [x, x, x, x, x]\n",
    "    │   ├── [x, x, x, x, x]\n",
    "    │   └── [x, x, x, x, x]\n",
    "    │\n",
    "    ├── Sub-blok 1\n",
    "    │   ├── [x, x, x, x, x]\n",
    "    │   ├── [x, x, x, x, x]\n",
    "    │   ├── [x, x, x, x, x]\n",
    "    │   └── [x, x, x, x, x]\n",
    "    │\n",
    "    └── Sub-blok 2\n",
    "        ├── [x, x, x, x, x]\n",
    "        ├── [x, x, x, x, x]\n",
    "        ├── [x, x, x, x, x]\n",
    "        └── [x, x, x, x, x]\n",
    "```"
   ]
  },
  {
   "cell_type": "code",
   "execution_count": null,
   "id": "05b0a5b1",
   "metadata": {},
   "outputs": [],
   "source": [
    "import numpy as np\n",
    "\n",
    "# ndim adalah dimension. dimensi dari array\n",
    "# ([[array1], [array2]]) = ini adalah array dari kedua array tersebut.\n",
    "# setiap 2d array memiliki 3 (1 dimensi) array\n",
    "# setiap 1 dimensi array tersebut memiliki 3 elemen atau indeks\n",
    "\n",
    "            # array1 ,  #array2\n",
    "a = np.array([[1,2,3], [4,5,6]])\n",
    "            # ------- array 2d 1st---, ------- array 2d 2nd ----\n",
    "            #       1d          1d          1d          1d\n",
    "            #    3 ele       3 ele        3 ele     3 ele\n",
    "b = np.array([[[1, 2 , 3, 4], [4, 5, 6, 5]], [[1, 2, 3, 0], [4, 5, 6, -1]]])"
   ]
  },
  {
   "cell_type": "code",
   "execution_count": 21,
   "id": "63616541",
   "metadata": {},
   "outputs": [
    {
     "name": "stdout",
     "output_type": "stream",
     "text": [
      "2\n"
     ]
    }
   ],
   "source": [
    "print(a.ndim) # 2 dimensi"
   ]
  },
  {
   "cell_type": "code",
   "execution_count": 20,
   "id": "cb1f8ced",
   "metadata": {},
   "outputs": [
    {
     "name": "stdout",
     "output_type": "stream",
     "text": [
      "3\n"
     ]
    }
   ],
   "source": [
    "print(b.ndim)"
   ]
  },
  {
   "cell_type": "code",
   "execution_count": 22,
   "id": "625e6de5",
   "metadata": {},
   "outputs": [
    {
     "data": {
      "text/plain": [
       "(2, 2, 4)"
      ]
     },
     "execution_count": 22,
     "metadata": {},
     "output_type": "execute_result"
    }
   ],
   "source": [
    "# Mengembalikan nilai tuple\n",
    "# (2, 2, 3) keterangan dibawah\n",
    "# 2 = berapa banyak 2 dimensi array yang ada ?\n",
    "# 2 = setiap 2 dimensi array ada berapa banyak 1d array nya ?\n",
    "# 3 = masing2 setiap 1d array ada berapa banyak elemen yang dimiliki ?\n",
    "b.shape"
   ]
  },
  {
   "cell_type": "code",
   "execution_count": 23,
   "id": "ec6419ea",
   "metadata": {},
   "outputs": [
    {
     "data": {
      "text/plain": [
       "16"
      ]
     },
     "execution_count": 23,
     "metadata": {},
     "output_type": "execute_result"
    }
   ],
   "source": [
    "b.size"
   ]
  },
  {
   "cell_type": "code",
   "execution_count": 24,
   "id": "6e3ade09",
   "metadata": {},
   "outputs": [
    {
     "name": "stdout",
     "output_type": "stream",
     "text": [
      "2 2 4\n"
     ]
    }
   ],
   "source": [
    "print(b.shape[0], b.shape[1],b.shape[2])"
   ]
  },
  {
   "cell_type": "code",
   "execution_count": 25,
   "id": "27621c97",
   "metadata": {},
   "outputs": [
    {
     "name": "stdout",
     "output_type": "stream",
     "text": [
      "6\n"
     ]
    }
   ],
   "source": [
    "# b = np.array([[[1, 2 , 3, 4], [4, 5, 6, 5]], [[1, 2, 3, 0], [4, 5, 6, -1]]])\n",
    "print(b[1, 1, 2])"
   ]
  },
  {
   "cell_type": "markdown",
   "id": "73994ddd",
   "metadata": {},
   "source": [
    "*************"
   ]
  },
  {
   "cell_type": "code",
   "execution_count": 26,
   "id": "19c9b874",
   "metadata": {},
   "outputs": [
    {
     "data": {
      "text/plain": [
       "2"
      ]
     },
     "execution_count": 26,
     "metadata": {},
     "output_type": "execute_result"
    }
   ],
   "source": [
    "import numpy as np\n",
    "\n",
    "# 2 dimensi array\n",
    "A = np.array([[1, 2, 3], [4, 5, 6]])\n",
    "A.ndim"
   ]
  },
  {
   "cell_type": "code",
   "execution_count": 27,
   "id": "cfd1b065",
   "metadata": {},
   "outputs": [
    {
     "data": {
      "text/plain": [
       "np.int64(3)"
      ]
     },
     "execution_count": 27,
     "metadata": {},
     "output_type": "execute_result"
    }
   ],
   "source": [
    "# akses elemen angka 3 dari array1\n",
    "# array1 indeks 0, array2 indeks 1\n",
    "A[0,2] #akses elemen 3"
   ]
  },
  {
   "cell_type": "code",
   "execution_count": 28,
   "id": "587e2169",
   "metadata": {},
   "outputs": [
    {
     "data": {
      "text/plain": [
       "np.int64(5)"
      ]
     },
     "execution_count": 28,
     "metadata": {},
     "output_type": "execute_result"
    }
   ],
   "source": [
    "A[1,1] #akses elemen 5"
   ]
  },
  {
   "cell_type": "code",
   "execution_count": 29,
   "id": "ef5cadd8",
   "metadata": {},
   "outputs": [],
   "source": [
    "B = np.array([[1,2,3,'A'],[2,4,5,9]])"
   ]
  },
  {
   "cell_type": "code",
   "execution_count": 30,
   "id": "cf8d47a3",
   "metadata": {},
   "outputs": [
    {
     "data": {
      "text/plain": [
       "np.str_('A')"
      ]
     },
     "execution_count": 30,
     "metadata": {},
     "output_type": "execute_result"
    }
   ],
   "source": [
    "B[0,3]"
   ]
  },
  {
   "cell_type": "code",
   "execution_count": 31,
   "id": "a6d6629d",
   "metadata": {},
   "outputs": [],
   "source": [
    "B = np.array([[1, 2, 3, -1],[2, 4, 5, 9]])"
   ]
  },
  {
   "cell_type": "code",
   "execution_count": 32,
   "id": "f0354a22",
   "metadata": {},
   "outputs": [
    {
     "data": {
      "text/plain": [
       "2"
      ]
     },
     "execution_count": 32,
     "metadata": {},
     "output_type": "execute_result"
    }
   ],
   "source": [
    "# misal kita mau akses elemen 5 dari array b\n",
    "B.ndim"
   ]
  },
  {
   "cell_type": "code",
   "execution_count": null,
   "id": "4596e7d8",
   "metadata": {},
   "outputs": [],
   "source": [
    "B[1,2]"
   ]
  },
  {
   "cell_type": "markdown",
   "id": "76d87813",
   "metadata": {},
   "source": [
    "************"
   ]
  },
  {
   "cell_type": "code",
   "execution_count": 33,
   "id": "9dc89b8e",
   "metadata": {},
   "outputs": [],
   "source": [
    "import numpy as np\n",
    "\n",
    "# 3 dimensi array\n",
    "            # -------- array 2d 1st --------- , --------- array 2d 2nd -------------\n",
    "            #    1d         1d          1d          1d          1d          1d\n",
    "C = np.array([[[1, 2, 3],[4, 5, 6],[0, 0, -1]],[[-1, -2, -3],[-4, -5, -6],[0, 0, 1]]])"
   ]
  },
  {
   "cell_type": "code",
   "execution_count": 35,
   "id": "4f2ee9e9",
   "metadata": {},
   "outputs": [
    {
     "data": {
      "text/plain": [
       "3"
      ]
     },
     "execution_count": 35,
     "metadata": {},
     "output_type": "execute_result"
    }
   ],
   "source": [
    "# 2 dimensi array + 2 dimensi array = 3 dimensi\n",
    "C.ndim"
   ]
  },
  {
   "cell_type": "code",
   "execution_count": 36,
   "id": "ce0f5419",
   "metadata": {},
   "outputs": [
    {
     "data": {
      "text/plain": [
       "np.int64(-3)"
      ]
     },
     "execution_count": 36,
     "metadata": {},
     "output_type": "execute_result"
    }
   ],
   "source": [
    "# semisal mau akses salah satu elemen\n",
    "# cari mau array dimensi berapa\n",
    "# cari mau array yang ke berapa\n",
    "# cari mau indeks berapa\n",
    "C[1,0,2]"
   ]
  },
  {
   "cell_type": "code",
   "execution_count": 37,
   "id": "881f0df5",
   "metadata": {},
   "outputs": [
    {
     "data": {
      "text/plain": [
       "numpy.ndarray"
      ]
     },
     "execution_count": 37,
     "metadata": {},
     "output_type": "execute_result"
    }
   ],
   "source": [
    "type(C)"
   ]
  },
  {
   "cell_type": "code",
   "execution_count": 38,
   "id": "36472c4b",
   "metadata": {},
   "outputs": [
    {
     "data": {
      "text/plain": [
       "(2, 3, 3)"
      ]
     },
     "execution_count": 38,
     "metadata": {},
     "output_type": "execute_result"
    }
   ],
   "source": [
    "C.shape"
   ]
  },
  {
   "cell_type": "code",
   "execution_count": 39,
   "id": "2ccf5f5c",
   "metadata": {},
   "outputs": [
    {
     "data": {
      "text/plain": [
       "2"
      ]
     },
     "execution_count": 39,
     "metadata": {},
     "output_type": "execute_result"
    }
   ],
   "source": [
    "# ini ngasih tau dimensi nya ada berapa dalam array\n",
    "C.shape[0]"
   ]
  },
  {
   "cell_type": "code",
   "execution_count": 40,
   "id": "44c74735",
   "metadata": {},
   "outputs": [
    {
     "data": {
      "text/plain": [
       "3"
      ]
     },
     "execution_count": 40,
     "metadata": {},
     "output_type": "execute_result"
    }
   ],
   "source": [
    "# ini ngasih tau setiap 2d array ada berapa 1d array di dalamnya\n",
    "C.shape[1]\n"
   ]
  },
  {
   "cell_type": "code",
   "execution_count": 41,
   "id": "630c3b56",
   "metadata": {},
   "outputs": [
    {
     "data": {
      "text/plain": [
       "3"
      ]
     },
     "execution_count": 41,
     "metadata": {},
     "output_type": "execute_result"
    }
   ],
   "source": [
    "# ini ngasih tau ada berapa elemen atau indeks dalam array tersebut.\n",
    "C.shape[2]"
   ]
  },
  {
   "cell_type": "code",
   "execution_count": 42,
   "id": "41afaa0f",
   "metadata": {},
   "outputs": [
    {
     "data": {
      "text/plain": [
       "1"
      ]
     },
     "execution_count": 42,
     "metadata": {},
     "output_type": "execute_result"
    }
   ],
   "source": [
    "# kita bisa define numpy array\n",
    "# ini kita ngebuat list ya jadinya hasilnya 1 atau 1d\n",
    "A = np.array([2])\n",
    "A.ndim"
   ]
  },
  {
   "cell_type": "code",
   "execution_count": 43,
   "id": "4a99dd0e",
   "metadata": {},
   "outputs": [
    {
     "data": {
      "text/plain": [
       "0"
      ]
     },
     "execution_count": 43,
     "metadata": {},
     "output_type": "execute_result"
    }
   ],
   "source": [
    "# ini adalah array jadi 0 dimensi\n",
    "# tapi kalau list baru jadi 1d\n",
    "B = np.array(3)\n",
    "B.ndim"
   ]
  },
  {
   "cell_type": "code",
   "execution_count": 44,
   "id": "f8842979",
   "metadata": {},
   "outputs": [
    {
     "data": {
      "text/plain": [
       "18"
      ]
     },
     "execution_count": 44,
     "metadata": {},
     "output_type": "execute_result"
    }
   ],
   "source": [
    "# untuk menghitung total element atau total indeks\n",
    "C.size"
   ]
  },
  {
   "cell_type": "code",
   "execution_count": 45,
   "id": "3b910319",
   "metadata": {},
   "outputs": [
    {
     "data": {
      "text/plain": [
       "144"
      ]
     },
     "execution_count": 45,
     "metadata": {},
     "output_type": "execute_result"
    }
   ],
   "source": [
    "# untuk menghitung berapa byte yang digunakan untuk list tersebut\n",
    "C.nbytes"
   ]
  },
  {
   "cell_type": "markdown",
   "id": "7d3d1ca2",
   "metadata": {},
   "source": [
    "************"
   ]
  },
  {
   "cell_type": "markdown",
   "id": "0237f0c6",
   "metadata": {},
   "source": [
    "## 3. Numpy (arange, random, reshape)"
   ]
  },
  {
   "cell_type": "markdown",
   "id": "78c74639",
   "metadata": {},
   "source": [
    "| Fungsi / Properti              | Kegunaan                                                             | Contoh Kode                                      | Output / Penjelasan                                      |\n",
    "| ------------------------------ | -------------------------------------------------------------------- | ------------------------------------------------ | -------------------------------------------------------- |\n",
    "| `np.arange(start, stop)`       | Membuat array dengan urutan angka dari `start` sampai sebelum `stop` | `np.arange(1, 5)`                                | `[1 2 3 4]` → mirip `range()`, tapi hasilnya array NumPy |\n",
    "| `np.arange(start, stop, step)` | Bisa menambahkan **langkah (step)**                                  | `np.arange(0, 10, 2)`                            | `[0 2 4 6 8]` → naik 2 tiap angka                        |\n",
    "| `np.random.rand(x, y)`         | Membuat array dengan nilai **acak** antara 0–1 dalam ukuran `(x, y)` | `np.random.rand(2, 3)`                           | Array 2 baris × 3 kolom dengan angka acak                |\n",
    "| `np.random.randint(a, b)`      | Membuat angka integer acak dari `a` sampai sebelum `b`               | `np.random.randint(1, 10)`                       | Misal: `4`, `7`, dst (berbeda-beda tiap dijalankan)      |\n",
    "| `.shape` (property)            | Menampilkan ukuran atau bentuk dari array (jumlah baris × kolom)     | `arr.shape` jika `arr = np.array([[1,2],[3,4]])` | `(2, 2)` → artinya 2 baris, 2 kolom                      |\n"
   ]
  },
  {
   "cell_type": "code",
   "execution_count": 46,
   "id": "d005b16a",
   "metadata": {},
   "outputs": [
    {
     "name": "stdout",
     "output_type": "stream",
     "text": [
      "[ 0  1  2  3  4  5  6  7  8  9 10 11 12 13 14 15 16 17 18 19 20 21 22 23\n",
      " 24 25 26 27 28 29 30 31 32 33 34 35 36 37 38 39 40 41 42 43 44 45 46 47\n",
      " 48 49]\n"
     ]
    }
   ],
   "source": [
    "# arrange\n",
    "import numpy as np\n",
    "\n",
    "S = np.arange(50)\n",
    "print(S)"
   ]
  },
  {
   "cell_type": "code",
   "execution_count": 47,
   "id": "564fd574",
   "metadata": {},
   "outputs": [
    {
     "name": "stdout",
     "output_type": "stream",
     "text": [
      "[20 21 22 23 24 25 26 27 28 29 30 31 32 33 34 35 36 37 38 39 40 41 42 43\n",
      " 44 45 46 47 48 49 50 51 52 53 54 55 56 57 58 59 60 61 62 63 64 65 66 67\n",
      " 68 69 70 71 72 73 74 75 76 77 78 79 80 81 82 83 84 85 86 87 88 89 90 91\n",
      " 92 93 94 95 96 97 98 99]\n"
     ]
    }
   ],
   "source": [
    "            #start, #stop\n",
    "T = np.arange(20, 100)\n",
    "print(T)"
   ]
  },
  {
   "cell_type": "code",
   "execution_count": 48,
   "id": "e24c9d11",
   "metadata": {},
   "outputs": [
    {
     "name": "stdout",
     "output_type": "stream",
     "text": [
      "[20 23 26 29 32 35 38 41 44 47 50 53 56 59 62 65 68 71 74 77 80 83 86 89\n",
      " 92 95 98]\n"
     ]
    }
   ],
   "source": [
    "# for i in range (20,100,3)\n",
    "# arange ini mengembalikan array\n",
    "# beda dengan perulangan yg menggunakan iterate atau iterasi\n",
    "            #start, stop, step (kelipatan)\n",
    "X = np.arange(20, 100, 3)\n",
    "print(X)"
   ]
  },
  {
   "cell_type": "code",
   "execution_count": 49,
   "id": "0f0f722f",
   "metadata": {},
   "outputs": [
    {
     "name": "stdout",
     "output_type": "stream",
     "text": [
      "[0, 1, 2, 3, 4, 5, 6, 7, 8, 9]\n"
     ]
    }
   ],
   "source": [
    "print(list(range(10)))"
   ]
  },
  {
   "cell_type": "code",
   "execution_count": 50,
   "id": "6a453d9f",
   "metadata": {},
   "outputs": [
    {
     "name": "stdout",
     "output_type": "stream",
     "text": [
      "[14  7 10 15 19 18  8 17  9  5  4  3  1  0  2 16 13  6 12 11]\n"
     ]
    }
   ],
   "source": [
    "G = np.random.permutation(np.arange(20))\n",
    "print(G)"
   ]
  },
  {
   "cell_type": "code",
   "execution_count": 83,
   "id": "35683715",
   "metadata": {},
   "outputs": [
    {
     "name": "stdout",
     "output_type": "stream",
     "text": [
      "[ 8 18 13  2  3  5  7 12 19 11 15  4 10 16  0  9  6 17 14  1]\n"
     ]
    }
   ],
   "source": [
    "# Import modul NumPy\n",
    "import numpy as np\n",
    "\n",
    "# Buat array berisi angka 0 sampai 9, lalu acak urutannya secara random\n",
    "G = np.random.permutation(np.arange(20)) # mengacak urutan elemen tanpa mengubah nilai aslinya (tidak ada pengulangan)\n",
    "\n",
    "# Tampilkan hasil array yang sudah diacak\n",
    "print(G)\n"
   ]
  },
  {
   "cell_type": "code",
   "execution_count": 84,
   "id": "74adb34d",
   "metadata": {},
   "outputs": [
    {
     "data": {
      "text/plain": [
       "<bound method RandomState.randint of RandomState(MT19937) at 0x1B6FE938540>"
      ]
     },
     "execution_count": 84,
     "metadata": {},
     "output_type": "execute_result"
    }
   ],
   "source": [
    "np.random.randint"
   ]
  },
  {
   "cell_type": "code",
   "execution_count": 122,
   "id": "008082d8",
   "metadata": {},
   "outputs": [
    {
     "data": {
      "text/plain": [
       "6"
      ]
     },
     "execution_count": 122,
     "metadata": {},
     "output_type": "execute_result"
    }
   ],
   "source": [
    "np.random.randint(5, 10)"
   ]
  },
  {
   "cell_type": "code",
   "execution_count": 123,
   "id": "3599f2c3",
   "metadata": {},
   "outputs": [
    {
     "data": {
      "text/plain": [
       "int"
      ]
     },
     "execution_count": 123,
     "metadata": {},
     "output_type": "execute_result"
    }
   ],
   "source": [
    "v = np.random.randint(20, 300)\n",
    "type(v)"
   ]
  },
  {
   "cell_type": "code",
   "execution_count": 124,
   "id": "fc2448c3",
   "metadata": {},
   "outputs": [
    {
     "data": {
      "text/plain": [
       "array([3.87610626e-01, 3.75856330e-01, 7.52193854e-01, 8.65523109e-01,\n",
       "       7.49498148e-01, 4.40846978e-01, 9.65635378e-01, 8.61533563e-01,\n",
       "       7.46153854e-01, 9.82810983e-01, 2.89386234e-01, 1.41952269e-01,\n",
       "       2.00146825e-01, 3.56458509e-02, 3.46502702e-01, 9.17080742e-01,\n",
       "       6.69564694e-02, 6.45628437e-01, 2.85053797e-01, 1.53692625e-01,\n",
       "       5.56752862e-01, 8.60843941e-01, 9.50256714e-01, 7.98257769e-01,\n",
       "       3.16792042e-01, 5.52065132e-01, 3.77665495e-01, 6.88838352e-01,\n",
       "       3.16800180e-01, 1.62684597e-01, 2.66285896e-01, 6.92691771e-01,\n",
       "       8.71680338e-01, 1.52584774e-02, 8.20602486e-01, 8.49796763e-01,\n",
       "       3.18091446e-01, 6.12348707e-01, 9.87287669e-01, 9.39525866e-01,\n",
       "       5.16407155e-01, 3.77573911e-01, 6.52032325e-01, 6.96611143e-01,\n",
       "       9.92293793e-01, 5.00820679e-01, 6.73352428e-01, 3.11951882e-01,\n",
       "       2.72459107e-01, 2.47990671e-01, 8.27223085e-01, 4.14302338e-01,\n",
       "       9.32438982e-01, 6.79467649e-01, 8.76408323e-01, 2.33320581e-01,\n",
       "       7.31661462e-01, 9.04310934e-02, 6.09787606e-01, 5.10555706e-01,\n",
       "       6.40023800e-01, 4.57084030e-01, 5.76308033e-01, 7.20802529e-01,\n",
       "       7.14951445e-01, 4.96125698e-01, 6.77051744e-01, 6.25018928e-01,\n",
       "       4.40897934e-01, 5.37733466e-02, 1.98271704e-01, 8.99404500e-01,\n",
       "       9.79286823e-01, 3.37999201e-01, 7.36694630e-01, 5.33610231e-01,\n",
       "       5.21035934e-01, 3.36133271e-01, 1.38280819e-01, 1.98340813e-01,\n",
       "       5.72621955e-01, 9.09865071e-01, 3.87963477e-02, 1.16634222e-01,\n",
       "       4.98209400e-01, 4.76997213e-02, 8.67577410e-01, 2.98420088e-01,\n",
       "       4.64420992e-01, 8.72272094e-01, 4.67944346e-01, 7.99445665e-01,\n",
       "       2.08591795e-01, 2.26447906e-01, 4.93658089e-03, 2.14364081e-01,\n",
       "       5.51169934e-01, 8.39099888e-01, 4.16727311e-01, 4.47263886e-01,\n",
       "       6.01007853e-01, 1.66339609e-01, 4.53020638e-01, 5.66915559e-01,\n",
       "       9.19087413e-01, 8.46862333e-01, 4.20038935e-02, 6.82222729e-02,\n",
       "       7.58254052e-01, 5.59820655e-01, 4.24172010e-01, 1.07159083e-01,\n",
       "       7.51861278e-01, 2.23082154e-01, 6.02454046e-01, 8.54195430e-01,\n",
       "       8.88803634e-01, 4.97150000e-01, 4.40839686e-01, 5.13638892e-01,\n",
       "       2.91813256e-01, 3.95142919e-01, 4.04493741e-01, 1.75070795e-01,\n",
       "       2.16736655e-01, 4.07029047e-01, 9.66004439e-01, 7.27556760e-01,\n",
       "       7.66466766e-01, 2.17076005e-01, 8.27296981e-01, 5.63286768e-01,\n",
       "       4.14492096e-01, 9.55724683e-02, 7.70586856e-01, 6.40960336e-01,\n",
       "       8.88705424e-01, 8.88332827e-01, 3.05005681e-01, 1.86432542e-01,\n",
       "       1.76425098e-01, 7.92375684e-01, 3.45120548e-01, 5.02776587e-01,\n",
       "       8.41903830e-01, 4.42632812e-01, 3.12811636e-01, 7.43552942e-01,\n",
       "       6.60118894e-01, 4.57701220e-01, 7.18559076e-01, 8.20151380e-01,\n",
       "       5.90921181e-01, 3.55628303e-01, 3.53135773e-01, 9.29408286e-01,\n",
       "       5.31113529e-01, 8.05284897e-01, 7.32093935e-01, 5.27823197e-01,\n",
       "       8.41995258e-01, 8.81743436e-01, 2.10215001e-01, 8.37694471e-01,\n",
       "       9.25242987e-02, 6.63102414e-01, 1.61850032e-01, 4.25067793e-01,\n",
       "       5.02765675e-01, 7.93784564e-01, 9.63452860e-01, 4.68165667e-02,\n",
       "       4.05532093e-01, 3.74886202e-01, 2.38274039e-01, 7.73655130e-01,\n",
       "       2.35903248e-02, 8.09029585e-01, 2.34776081e-01, 8.86499096e-01,\n",
       "       6.53018112e-01, 2.91940785e-01, 4.63606489e-01, 4.99038257e-01,\n",
       "       2.79525911e-01, 6.90588420e-01, 2.74241602e-01, 5.52567859e-01,\n",
       "       1.83383603e-01, 1.06165706e-01, 6.08157229e-01, 4.70060757e-01,\n",
       "       4.34927458e-01, 1.82952567e-01, 2.92758831e-02, 1.31451854e-01,\n",
       "       6.09653254e-01, 8.20201677e-01, 7.56799067e-01, 4.48830561e-01,\n",
       "       4.86109269e-01, 9.52119896e-01, 6.91988895e-01, 8.16313854e-01,\n",
       "       5.78748591e-01, 6.82393914e-01, 4.50615267e-01, 9.61525668e-01,\n",
       "       1.91768033e-01, 4.28973223e-01, 5.92010445e-02, 5.37612889e-02,\n",
       "       2.03217045e-01, 8.45187031e-01, 1.99988630e-01, 7.07526351e-01,\n",
       "       4.93332754e-01, 3.49893736e-02, 9.55791598e-01, 6.90327766e-02,\n",
       "       1.30167184e-01, 1.52243141e-01, 4.00212471e-01, 9.20661504e-01,\n",
       "       9.66003475e-01, 7.69813735e-02, 7.88847967e-01, 1.44491768e-01,\n",
       "       8.59625909e-01, 4.93434876e-01, 2.54216621e-01, 9.03954832e-01,\n",
       "       6.17767258e-01, 3.63986378e-01, 5.92001973e-01, 8.76091343e-01,\n",
       "       5.82569459e-01, 5.26043625e-02, 6.32361368e-01, 8.70210886e-01,\n",
       "       7.72808619e-01, 2.28120276e-01, 2.89809441e-01, 6.28643198e-01,\n",
       "       6.14192923e-01, 9.76631003e-01, 9.13205056e-02, 4.97384854e-01,\n",
       "       6.05739191e-01, 1.93493433e-02, 8.11487898e-01, 9.87864474e-01,\n",
       "       3.99006068e-02, 7.75801885e-01, 6.09362948e-01, 1.36837921e-01,\n",
       "       3.46474462e-01, 8.87636469e-04, 4.05035447e-01, 7.60424100e-01,\n",
       "       6.30769989e-01, 8.28405680e-02, 9.24385155e-01, 9.90940681e-01,\n",
       "       8.38546459e-01, 4.18915672e-01, 7.98512304e-01, 4.24128089e-01,\n",
       "       6.96024523e-01, 5.73960373e-02, 6.15738729e-01, 9.03404657e-01,\n",
       "       1.45203564e-02, 8.15032830e-01, 7.55154287e-01, 1.07313650e-01,\n",
       "       4.21315042e-02, 3.50208822e-01, 1.13175828e-01, 9.85985602e-01,\n",
       "       8.55578029e-01, 4.18161630e-01, 1.14324789e-01, 6.76742996e-01,\n",
       "       9.78557080e-01, 3.63372914e-01, 5.23793940e-01, 3.69187648e-01,\n",
       "       6.69276222e-01, 5.49237931e-01, 7.88234845e-02, 8.35227928e-01,\n",
       "       8.76669746e-01, 8.11988483e-01, 5.29005824e-01, 7.50999615e-01,\n",
       "       6.52621437e-01, 8.63228029e-01, 1.27936653e-01, 5.11852374e-01,\n",
       "       8.74490170e-02, 3.05521057e-02, 7.91624257e-01, 4.89664326e-01,\n",
       "       3.71434679e-01, 5.41285250e-01, 3.43095169e-01, 8.73172760e-01,\n",
       "       6.25346243e-02, 3.39090779e-01, 9.97986062e-01, 1.04280808e-01,\n",
       "       2.68584010e-01, 9.40695946e-01, 7.59734565e-01, 4.94451979e-01,\n",
       "       8.40268302e-01, 8.85368754e-01, 4.63323683e-01, 3.82090836e-01,\n",
       "       6.64969254e-01, 3.48537388e-01, 6.61769482e-01, 3.22050784e-01,\n",
       "       5.34907583e-01, 8.69883473e-02, 9.85460352e-01, 9.16194863e-01,\n",
       "       6.93935284e-02, 5.70514948e-02, 4.99033612e-01, 2.89352882e-01,\n",
       "       9.42479104e-01, 9.37914981e-01, 2.84173106e-01, 4.94977906e-02,\n",
       "       1.09619442e-01, 6.67169582e-01, 7.60194260e-01, 5.72403698e-01,\n",
       "       7.45257360e-01, 7.26873670e-01, 2.74030355e-01, 6.31313416e-01,\n",
       "       4.22276062e-01, 7.25814274e-01, 2.63007255e-02, 7.49403749e-02,\n",
       "       4.98726606e-01, 6.66924196e-01, 4.47872451e-01, 6.50295332e-01,\n",
       "       2.94000007e-01, 6.01362280e-01, 9.94789436e-01, 6.70037728e-01,\n",
       "       8.00047756e-01, 9.71583433e-01, 3.23477655e-01, 1.11672323e-01,\n",
       "       7.10672818e-01, 7.65974266e-01, 6.64758415e-01, 1.75277445e-01,\n",
       "       5.89970717e-01, 3.01850602e-01, 3.68219269e-01, 9.02848922e-01,\n",
       "       2.12842386e-01, 7.56777689e-01, 6.59337702e-01, 3.31060955e-01,\n",
       "       7.49630293e-01, 1.16640589e-01, 4.40076329e-01, 9.83288989e-01,\n",
       "       7.71729173e-01, 7.72230185e-01, 1.28340866e-02, 7.62541074e-01,\n",
       "       6.39551331e-01, 1.52593539e-01, 2.94518960e-01, 3.42998626e-01,\n",
       "       1.25475105e-01, 2.11694325e-01, 9.84610161e-01, 6.77057507e-02,\n",
       "       8.10579240e-02, 7.39304012e-01, 8.16110846e-01, 2.24274141e-01,\n",
       "       3.88526746e-01, 6.43314500e-01, 6.27778408e-01, 7.56124606e-03,\n",
       "       6.90605088e-01, 6.49400483e-01, 3.31875226e-01, 8.82194719e-01,\n",
       "       6.87089724e-01, 3.60446810e-01, 9.72137258e-01, 5.38804979e-01,\n",
       "       1.34541362e-01, 3.32907088e-01, 1.81762277e-02, 7.03746817e-01,\n",
       "       3.84828070e-02, 1.93531716e-01, 2.09165157e-01, 2.61847441e-01,\n",
       "       6.15868088e-01, 1.76868547e-02, 9.75026104e-01, 2.25360653e-01,\n",
       "       6.11796304e-01, 7.61749998e-01, 9.89919341e-01, 9.04412145e-01,\n",
       "       6.62203842e-01, 1.79553981e-01, 2.86639373e-01, 6.55175792e-01,\n",
       "       1.38614561e-01, 9.93664015e-01, 4.47583529e-01, 4.78521399e-01,\n",
       "       9.98790071e-01, 8.37627737e-01, 8.07724885e-01, 9.27655202e-01,\n",
       "       5.73054463e-01, 9.40852866e-01, 2.32595565e-01, 8.34297659e-01,\n",
       "       4.31821453e-01, 5.00174128e-01, 5.16863999e-01, 2.75235038e-01,\n",
       "       6.54096553e-01, 2.69434195e-01, 5.76303379e-01, 2.28708463e-01,\n",
       "       2.91373189e-01, 5.37537123e-01, 7.41582596e-01, 6.67339498e-01,\n",
       "       8.05678387e-01, 3.72749167e-02, 9.34563001e-01, 5.24326290e-01,\n",
       "       7.18434798e-01, 4.44345923e-01, 5.69845477e-02, 4.16701057e-01,\n",
       "       2.35821365e-01, 8.25212852e-01, 1.91454972e-01, 7.22460111e-01,\n",
       "       2.84225743e-01, 5.78721341e-01, 1.60372105e-01, 1.07537968e-02,\n",
       "       3.23178547e-01, 3.85699056e-01, 3.40626421e-01, 4.21681740e-01,\n",
       "       2.61146869e-01, 3.25749851e-01, 9.81764643e-01, 4.60743740e-01,\n",
       "       4.28628514e-01, 9.69525935e-02, 6.30192623e-01, 6.49114963e-01,\n",
       "       1.84254321e-01, 1.22531542e-02, 6.67632036e-01, 2.73438419e-01,\n",
       "       2.46926540e-01, 7.95638557e-01, 1.72420140e-01, 4.03610092e-01,\n",
       "       4.56363907e-01, 3.43473764e-01, 2.74669988e-01, 7.22540757e-01,\n",
       "       1.38734535e-02, 3.86301594e-01, 5.20974145e-02, 2.75147736e-01,\n",
       "       9.19825865e-01, 3.64229545e-01, 4.40085247e-01, 6.46122875e-01,\n",
       "       4.96634820e-01, 7.26259184e-01, 2.94768473e-01, 6.54932933e-01,\n",
       "       8.93287203e-01, 1.90806209e-01, 1.48095162e-01, 7.63124849e-01,\n",
       "       1.79595849e-01, 1.37575339e-01, 1.46276901e-01, 2.30731053e-01,\n",
       "       9.76416751e-01, 5.88373959e-01, 5.55385458e-01, 1.68091555e-01,\n",
       "       3.68694437e-01, 8.60852984e-01, 6.01425215e-01, 9.28573780e-01,\n",
       "       5.04681695e-02, 9.91553739e-03, 5.41210956e-01, 2.33127767e-02,\n",
       "       9.85351397e-01, 5.14271964e-01, 3.18991356e-01, 6.88561680e-01,\n",
       "       7.35293667e-01, 5.28437939e-01, 2.11891862e-02, 2.02509967e-01,\n",
       "       6.63528030e-01, 1.72014738e-01, 6.67189303e-01, 5.41274714e-01,\n",
       "       4.06030221e-01, 9.52566250e-01, 3.14876156e-01, 1.30236169e-01,\n",
       "       8.73195885e-01, 5.44419621e-01, 5.50542981e-02, 4.34139352e-01,\n",
       "       5.42854574e-02, 8.90066247e-01, 5.06076257e-01, 5.66944850e-02,\n",
       "       2.54768371e-01, 4.89065875e-01, 8.92619236e-01, 5.56556776e-01,\n",
       "       8.30059539e-01, 1.26176228e-01, 4.85432265e-01, 6.90956558e-01,\n",
       "       4.99756934e-01, 5.62820585e-01, 7.54827745e-01, 4.46794423e-01,\n",
       "       3.70534162e-01, 3.53339076e-01, 7.12153587e-01, 8.80079998e-01,\n",
       "       8.30865801e-01, 6.90822362e-01, 6.63347382e-01, 8.80582865e-01,\n",
       "       7.35941654e-01, 3.67777088e-01, 6.72976965e-01, 4.09208158e-01,\n",
       "       6.56359374e-01, 8.71667813e-01, 2.42748746e-01, 3.01471781e-01,\n",
       "       6.53370517e-01, 5.33556185e-01, 4.25102583e-01, 8.62494156e-01,\n",
       "       6.07118238e-01, 2.02146052e-01, 3.35447301e-01, 9.80020017e-01,\n",
       "       1.83508956e-01, 8.34425372e-01, 1.49987106e-02, 6.22556606e-01,\n",
       "       5.41250054e-01, 5.90235713e-01, 7.36102840e-01, 6.97285470e-01,\n",
       "       5.31039737e-02, 9.72642972e-02, 8.77091471e-01, 7.50892654e-01,\n",
       "       9.50958462e-01, 4.92504955e-01, 5.11766515e-01, 9.46814661e-01,\n",
       "       7.60141584e-01, 9.23008568e-01, 4.06054057e-01, 5.56716506e-01,\n",
       "       2.84107397e-02, 3.29513171e-01, 6.77969268e-03, 2.23748884e-01,\n",
       "       6.51926772e-01, 6.16226173e-01, 8.79986648e-01, 5.76944528e-01,\n",
       "       4.90246093e-01, 7.91598108e-01, 3.42282007e-01, 5.73243163e-01,\n",
       "       9.34136670e-01, 4.75726199e-01, 5.66783113e-01, 5.07843279e-01,\n",
       "       6.23448867e-01, 8.39632121e-01, 5.67083122e-01, 2.62764141e-02,\n",
       "       8.18357638e-01, 2.29436404e-01, 9.51752174e-01, 3.22677856e-01,\n",
       "       5.61470062e-01, 8.25669568e-01, 1.45863034e-01, 8.89360042e-01,\n",
       "       4.52196368e-01, 6.29216199e-01, 1.98073912e-01, 7.33677950e-01,\n",
       "       2.55872087e-01, 5.70992159e-01, 3.30509801e-01, 6.61198234e-01,\n",
       "       7.86075404e-01, 3.46662301e-01, 5.00738211e-01, 6.74519695e-01,\n",
       "       9.90748280e-01, 1.42733919e-01, 3.99275405e-01, 5.97967485e-01,\n",
       "       3.91645476e-01, 1.27458657e-01, 7.05171969e-01, 9.52623878e-01,\n",
       "       9.68446674e-01, 5.38927933e-01, 5.76190890e-01, 4.33216756e-01,\n",
       "       6.36347742e-01, 8.13270438e-01, 5.53586712e-01, 3.78125803e-01,\n",
       "       6.03384614e-01, 3.32934121e-03, 9.50700068e-01, 6.09522135e-01,\n",
       "       6.55231872e-01, 7.85446083e-01, 5.50113422e-01, 8.48159087e-01,\n",
       "       9.47613555e-01, 6.96805862e-01, 5.59016978e-01, 8.97596745e-01,\n",
       "       6.76770929e-03, 8.77928098e-01, 5.46093936e-01, 4.03435513e-01,\n",
       "       4.80040535e-01, 4.52641101e-01, 5.83296088e-01, 1.46169450e-01,\n",
       "       6.47485689e-01, 1.78814099e-02, 1.02522112e-01, 2.77780966e-01,\n",
       "       4.34950371e-01, 5.21628850e-01, 9.33752377e-01, 4.15670917e-01,\n",
       "       9.71372830e-01, 9.88642251e-01, 3.18774933e-01, 2.03796898e-01,\n",
       "       2.13770287e-01, 5.52204949e-01, 4.27292998e-01, 5.12718341e-01,\n",
       "       6.14766025e-01, 6.68854959e-01, 8.16755326e-01, 9.98433944e-01,\n",
       "       2.00334041e-01, 2.49645977e-01, 7.89170673e-01, 3.76566758e-01,\n",
       "       7.67692512e-01, 5.28535675e-01, 8.22546379e-01, 9.35091998e-01,\n",
       "       1.50336693e-01, 4.50602343e-01, 2.39154021e-01, 6.70468267e-01,\n",
       "       8.43203607e-01, 7.87765023e-01, 5.29547007e-02, 2.62811067e-01,\n",
       "       8.72555879e-01, 6.66991160e-01, 6.49093151e-01, 3.19666215e-01,\n",
       "       2.60696274e-01, 8.12454572e-01, 6.18896880e-01, 4.18927690e-01,\n",
       "       1.56989884e-01, 7.37979738e-01, 1.39595561e-01, 9.98274650e-01,\n",
       "       5.68920236e-01, 4.42305172e-01, 1.84452336e-01, 9.98580863e-01,\n",
       "       8.13447386e-02, 3.49108355e-01, 1.81351860e-01, 5.09849505e-01,\n",
       "       9.68128613e-01, 6.10678551e-01, 2.79850705e-01, 6.33038302e-01,\n",
       "       8.96604518e-01, 7.45245164e-01, 2.66105322e-01, 7.25358186e-01,\n",
       "       8.94658522e-01, 4.76127953e-01, 6.73715629e-01, 2.32535658e-01,\n",
       "       9.18017526e-01, 9.87180824e-01, 9.29636742e-01, 6.47711216e-01,\n",
       "       3.76802482e-01, 8.38288111e-01, 6.95771091e-01, 8.96216411e-01,\n",
       "       5.61613636e-01, 7.96510452e-02, 7.19939856e-01, 7.12679372e-01,\n",
       "       8.85022450e-01, 2.22703779e-01, 8.76774694e-01, 8.13577752e-01,\n",
       "       3.84443391e-01, 9.49572461e-01, 5.60330779e-02, 7.21040048e-01,\n",
       "       1.71831153e-01, 4.48166099e-05, 2.86709156e-02, 9.41785226e-01,\n",
       "       6.94696154e-02, 6.99449851e-01, 5.74275256e-01, 1.89671124e-01,\n",
       "       2.42233983e-01, 3.84712604e-01, 9.08035869e-01, 9.39257960e-01,\n",
       "       8.38000353e-01, 5.16977429e-01, 8.15715011e-01, 1.27001216e-02,\n",
       "       2.16154995e-01, 4.83695527e-01, 3.33722903e-01, 9.03018029e-01,\n",
       "       1.44826639e-01, 6.23123615e-01, 5.34492493e-01, 4.71077750e-02,\n",
       "       2.22114692e-01, 6.33764340e-01, 4.41761946e-01, 3.31941335e-01,\n",
       "       6.78342362e-01, 5.18661887e-01, 8.96926381e-01, 4.93036680e-01,\n",
       "       1.60275185e-01, 1.41733359e-01, 9.20450347e-01, 7.35726914e-01,\n",
       "       6.05276944e-02, 9.82089830e-01, 4.34462863e-01, 2.01239469e-01,\n",
       "       7.56251127e-02, 7.05616150e-01, 1.52348792e-01, 2.30326321e-01,\n",
       "       7.91277287e-01, 7.92177351e-01, 9.87106783e-01, 7.60442356e-01,\n",
       "       7.55806813e-01, 6.85522683e-01, 3.76347231e-01, 8.89420218e-01,\n",
       "       6.73141674e-01, 4.79829015e-01, 5.48717367e-01, 2.80550680e-01,\n",
       "       1.58605664e-01, 2.33390060e-01, 6.06507683e-01, 5.90051298e-01,\n",
       "       5.15712868e-01, 2.17116182e-02, 3.00840515e-01, 3.62175957e-01,\n",
       "       3.04991537e-01, 1.75577764e-01, 8.18577705e-01, 7.28081722e-01,\n",
       "       2.01314048e-01, 2.26330061e-01, 7.09399858e-01, 2.34336973e-01,\n",
       "       5.12594344e-01, 5.80099513e-01, 6.65566120e-01, 2.32310449e-01,\n",
       "       1.06191732e-01, 4.88719240e-01, 5.46326416e-01, 3.77866200e-01,\n",
       "       9.01050300e-01, 1.81364074e-01, 4.00204337e-02, 6.65813431e-01,\n",
       "       8.05087273e-01, 3.59852915e-01, 5.36120538e-01, 9.07524372e-01,\n",
       "       1.18901181e-01, 5.26233537e-01, 5.60602816e-01, 8.18431483e-01,\n",
       "       2.79131165e-01, 4.47264099e-01, 4.01135603e-01, 6.73151907e-01,\n",
       "       5.10457262e-01, 3.06114696e-01, 4.72258365e-01, 2.15528876e-01,\n",
       "       5.25241163e-01, 8.14701874e-01, 4.96376731e-01, 8.01378083e-01,\n",
       "       2.37490628e-01, 1.18253574e-01, 9.19049194e-01, 1.76251776e-01,\n",
       "       5.63077896e-01, 2.27480677e-01, 3.00600256e-01, 1.02394360e-01,\n",
       "       7.48425499e-01, 3.81985419e-01, 3.30717150e-01, 4.79808759e-01,\n",
       "       6.98000869e-01, 6.89300927e-01, 7.73513535e-01, 4.84379450e-01,\n",
       "       3.23127609e-01, 8.22699064e-01, 8.92759904e-01, 4.92313591e-01,\n",
       "       9.21011412e-01, 4.23260840e-01, 6.13053402e-01, 9.92644727e-01,\n",
       "       8.79409333e-02, 1.92016750e-01, 9.28792070e-01, 7.69353773e-01,\n",
       "       8.24033150e-01, 4.08718802e-01, 7.85103987e-01, 7.64020823e-01,\n",
       "       9.83858600e-01, 2.83345594e-01, 3.84237356e-01, 3.09049726e-01,\n",
       "       8.53826611e-01, 7.34730299e-01, 5.45273158e-01, 7.49228141e-01,\n",
       "       7.42549750e-01, 9.58799747e-01, 5.15558242e-01, 4.86591067e-01,\n",
       "       9.71555161e-01, 9.84422765e-01, 4.80950359e-01, 8.52535789e-01,\n",
       "       7.74476551e-01, 3.73107630e-01, 5.99867152e-01, 9.71016269e-01,\n",
       "       4.46316682e-01, 6.56642557e-01, 4.81920080e-01, 5.21519768e-02,\n",
       "       4.45680376e-01, 1.30796156e-01, 5.69648649e-01, 6.68397946e-01,\n",
       "       8.95286350e-02, 3.64334436e-01, 3.28937673e-01, 8.12749334e-01,\n",
       "       4.72188399e-01, 4.07930968e-01, 5.43637160e-01, 7.65523039e-01,\n",
       "       6.19116489e-01, 8.60522876e-01, 1.68492391e-01, 1.73768028e-01,\n",
       "       2.98003511e-01, 3.42110731e-02, 2.38228033e-01, 9.37688163e-01,\n",
       "       1.27057787e-01, 4.37088576e-01, 6.82449379e-01, 7.98486552e-03,\n",
       "       3.83154528e-01, 5.82759388e-01, 4.76366796e-01, 6.38716704e-01,\n",
       "       5.14148250e-01, 5.75184913e-01, 2.14663401e-02, 9.32989944e-01,\n",
       "       5.26330773e-01, 3.90552173e-01, 4.83397759e-01, 9.25813182e-01,\n",
       "       6.60694875e-01, 3.84895667e-01, 4.94963204e-01, 9.46071846e-01,\n",
       "       1.76641157e-01, 1.10454813e-01, 5.81530703e-02, 5.20885489e-01,\n",
       "       5.87498827e-01, 8.58185635e-01, 3.80367069e-01, 7.91870797e-01,\n",
       "       5.46994543e-01, 3.08639493e-01, 2.31863059e-01, 7.29991435e-01,\n",
       "       2.18658885e-01, 9.92964214e-01, 3.55612859e-01, 6.05508192e-01,\n",
       "       3.64798112e-01, 6.34131861e-01, 3.12247918e-01, 2.55177321e-02,\n",
       "       4.65704065e-01, 4.60537976e-01, 5.15474096e-01, 6.44704373e-01,\n",
       "       3.20083858e-01, 4.87626308e-01, 4.85259995e-02, 9.46620268e-01,\n",
       "       1.90939976e-01, 1.82988940e-02, 7.58561233e-01, 7.43805533e-01,\n",
       "       6.44767592e-01, 3.21085777e-01, 2.37643701e-02, 8.43763778e-01])"
      ]
     },
     "execution_count": 124,
     "metadata": {},
     "output_type": "execute_result"
    }
   ],
   "source": [
    "A = np.random.rand(1000)\n",
    "A"
   ]
  },
  {
   "cell_type": "markdown",
   "id": "4f499cde",
   "metadata": {},
   "source": [
    "## pip install matplotlib"
   ]
  },
  {
   "cell_type": "code",
   "execution_count": 125,
   "id": "aa50b1a5",
   "metadata": {},
   "outputs": [
    {
     "data": {
      "text/plain": [
       "(array([ 93.,  84.,  92.,  96., 109., 106., 121.,  95., 103., 101.]),\n",
       " array([4.48166099e-05, 9.99193420e-02, 1.99793867e-01, 2.99668393e-01,\n",
       "        3.99542918e-01, 4.99417444e-01, 5.99291969e-01, 6.99166494e-01,\n",
       "        7.99041020e-01, 8.98915545e-01, 9.98790071e-01]),\n",
       " <BarContainer object of 10 artists>)"
      ]
     },
     "execution_count": 125,
     "metadata": {},
     "output_type": "execute_result"
    },
    {
     "data": {
      "image/png": "[encoded data removed]",
      "text/plain": [
       "<Figure size 640x480 with 1 Axes>"
      ]
     },
     "metadata": {},
     "output_type": "display_data"
    }
   ],
   "source": [
    "import matplotlib.pyplot as plt\n",
    "\n",
    "plt.hist(A)"
   ]
  },
  {
   "cell_type": "code",
   "execution_count": 126,
   "id": "5e36280b",
   "metadata": {},
   "outputs": [
    {
     "data": {
      "text/plain": [
       "(array([ 93.,  84.,  92.,  96., 109., 106., 121.,  95., 103., 101.]),\n",
       " array([4.48166099e-05, 9.99193420e-02, 1.99793867e-01, 2.99668393e-01,\n",
       "        3.99542918e-01, 4.99417444e-01, 5.99291969e-01, 6.99166494e-01,\n",
       "        7.99041020e-01, 8.98915545e-01, 9.98790071e-01]),\n",
       " <BarContainer object of 10 artists>)"
      ]
     },
     "execution_count": 126,
     "metadata": {},
     "output_type": "execute_result"
    },
    {
     "data": {
      "image/png": "[encoded data removed]",
      "text/plain": [
       "<Figure size 640x480 with 1 Axes>"
      ]
     },
     "metadata": {},
     "output_type": "display_data"
    }
   ],
   "source": [
    "# Import library matplotlib.pyplot dan beri alias plt\n",
    "import matplotlib.pyplot as plt\n",
    "\n",
    "# Buat histogram dari data array/list A\n",
    "# Histogram akan menunjukkan frekuensi kemunculan nilai dalam A dalam bentuk batang\n",
    "plt.hist(A)\n"
   ]
  },
  {
   "cell_type": "code",
   "execution_count": 127,
   "id": "5a8dc95a",
   "metadata": {},
   "outputs": [
    {
     "data": {
      "text/plain": [
       "(array([ 9., 13., 12.,  8.,  8., 17.,  8.,  5.,  7.,  6.,  8.,  8.,  5.,\n",
       "        10.,  9.,  7.,  7., 12.,  9.,  9., 11., 10., 12., 15.,  5.,  3.,\n",
       "         8., 10.,  9.,  9.,  9.,  9., 11., 11., 11.,  5., 12., 12., 12.,\n",
       "         4., 13.,  8., 10.,  7., 17.,  8.,  7.,  7., 14., 18.,  8., 17.,\n",
       "        12.,  9., 12., 11., 11., 14.,  6.,  6., 11., 16.,  7.,  9., 12.,\n",
       "        13., 21., 12.,  7., 13.,  5.,  7., 11., 11.,  9., 14., 13.,  9.,\n",
       "         5., 11.,  7., 16., 10., 10., 10.,  6.,  9., 13., 11., 11.,  9.,\n",
       "         4., 12., 10., 10., 10.,  7.,  9., 17., 13.]),\n",
       " array([4.48166099e-05, 1.00322692e-02, 2.00197217e-02, 3.00071742e-02,\n",
       "        3.99946268e-02, 4.99820793e-02, 5.99695319e-02, 6.99569844e-02,\n",
       "        7.99444369e-02, 8.99318895e-02, 9.99193420e-02, 1.09906795e-01,\n",
       "        1.19894247e-01, 1.29881700e-01, 1.39869152e-01, 1.49856605e-01,\n",
       "        1.59844057e-01, 1.69831510e-01, 1.79818962e-01, 1.89806415e-01,\n",
       "        1.99793867e-01, 2.09781320e-01, 2.19768772e-01, 2.29756225e-01,\n",
       "        2.39743678e-01, 2.49731130e-01, 2.59718583e-01, 2.69706035e-01,\n",
       "        2.79693488e-01, 2.89680940e-01, 2.99668393e-01, 3.09655845e-01,\n",
       "        3.19643298e-01, 3.29630750e-01, 3.39618203e-01, 3.49605656e-01,\n",
       "        3.59593108e-01, 3.69580561e-01, 3.79568013e-01, 3.89555466e-01,\n",
       "        3.99542918e-01, 4.09530371e-01, 4.19517823e-01, 4.29505276e-01,\n",
       "        4.39492728e-01, 4.49480181e-01, 4.59467633e-01, 4.69455086e-01,\n",
       "        4.79442539e-01, 4.89429991e-01, 4.99417444e-01, 5.09404896e-01,\n",
       "        5.19392349e-01, 5.29379801e-01, 5.39367254e-01, 5.49354706e-01,\n",
       "        5.59342159e-01, 5.69329611e-01, 5.79317064e-01, 5.89304516e-01,\n",
       "        5.99291969e-01, 6.09279422e-01, 6.19266874e-01, 6.29254327e-01,\n",
       "        6.39241779e-01, 6.49229232e-01, 6.59216684e-01, 6.69204137e-01,\n",
       "        6.79191589e-01, 6.89179042e-01, 6.99166494e-01, 7.09153947e-01,\n",
       "        7.19141400e-01, 7.29128852e-01, 7.39116305e-01, 7.49103757e-01,\n",
       "        7.59091210e-01, 7.69078662e-01, 7.79066115e-01, 7.89053567e-01,\n",
       "        7.99041020e-01, 8.09028472e-01, 8.19015925e-01, 8.29003377e-01,\n",
       "        8.38990830e-01, 8.48978283e-01, 8.58965735e-01, 8.68953188e-01,\n",
       "        8.78940640e-01, 8.88928093e-01, 8.98915545e-01, 9.08902998e-01,\n",
       "        9.18890450e-01, 9.28877903e-01, 9.38865355e-01, 9.48852808e-01,\n",
       "        9.58840260e-01, 9.68827713e-01, 9.78815166e-01, 9.88802618e-01,\n",
       "        9.98790071e-01]),\n",
       " <BarContainer object of 100 artists>)"
      ]
     },
     "execution_count": 127,
     "metadata": {},
     "output_type": "execute_result"
    },
    {
     "data": {
      "image/png": "[encoded data removed]",
      "text/plain": [
       "<Figure size 640x480 with 1 Axes>"
      ]
     },
     "metadata": {},
     "output_type": "display_data"
    }
   ],
   "source": [
    "# A = np.random.rand(1000)\n",
    "plt.hist(A, bins=100)\n"
   ]
  },
  {
   "cell_type": "code",
   "execution_count": 130,
   "id": "c54d3765",
   "metadata": {},
   "outputs": [
    {
     "data": {
      "text/plain": [
       "(array([ 9., 13., 12.,  8.,  8., 17.,  8.,  5.,  7.,  6.,  8.,  8.,  5.,\n",
       "        10.,  9.,  7.,  7., 12.,  9.,  9., 11., 10., 12., 15.,  5.,  3.,\n",
       "         8., 10.,  9.,  9.,  9.,  9., 11., 11., 11.,  5., 12., 12., 12.,\n",
       "         4., 13.,  8., 10.,  7., 17.,  8.,  7.,  7., 14., 18.,  8., 17.,\n",
       "        12.,  9., 12., 11., 11., 14.,  6.,  6., 11., 16.,  7.,  9., 12.,\n",
       "        13., 21., 12.,  7., 13.,  5.,  7., 11., 11.,  9., 14., 13.,  9.,\n",
       "         5., 11.,  7., 16., 10., 10., 10.,  6.,  9., 13., 11., 11.,  9.,\n",
       "         4., 12., 10., 10., 10.,  7.,  9., 17., 13.]),\n",
       " array([4.48166099e-05, 1.00322692e-02, 2.00197217e-02, 3.00071742e-02,\n",
       "        3.99946268e-02, 4.99820793e-02, 5.99695319e-02, 6.99569844e-02,\n",
       "        7.99444369e-02, 8.99318895e-02, 9.99193420e-02, 1.09906795e-01,\n",
       "        1.19894247e-01, 1.29881700e-01, 1.39869152e-01, 1.49856605e-01,\n",
       "        1.59844057e-01, 1.69831510e-01, 1.79818962e-01, 1.89806415e-01,\n",
       "        1.99793867e-01, 2.09781320e-01, 2.19768772e-01, 2.29756225e-01,\n",
       "        2.39743678e-01, 2.49731130e-01, 2.59718583e-01, 2.69706035e-01,\n",
       "        2.79693488e-01, 2.89680940e-01, 2.99668393e-01, 3.09655845e-01,\n",
       "        3.19643298e-01, 3.29630750e-01, 3.39618203e-01, 3.49605656e-01,\n",
       "        3.59593108e-01, 3.69580561e-01, 3.79568013e-01, 3.89555466e-01,\n",
       "        3.99542918e-01, 4.09530371e-01, 4.19517823e-01, 4.29505276e-01,\n",
       "        4.39492728e-01, 4.49480181e-01, 4.59467633e-01, 4.69455086e-01,\n",
       "        4.79442539e-01, 4.89429991e-01, 4.99417444e-01, 5.09404896e-01,\n",
       "        5.19392349e-01, 5.29379801e-01, 5.39367254e-01, 5.49354706e-01,\n",
       "        5.59342159e-01, 5.69329611e-01, 5.79317064e-01, 5.89304516e-01,\n",
       "        5.99291969e-01, 6.09279422e-01, 6.19266874e-01, 6.29254327e-01,\n",
       "        6.39241779e-01, 6.49229232e-01, 6.59216684e-01, 6.69204137e-01,\n",
       "        6.79191589e-01, 6.89179042e-01, 6.99166494e-01, 7.09153947e-01,\n",
       "        7.19141400e-01, 7.29128852e-01, 7.39116305e-01, 7.49103757e-01,\n",
       "        7.59091210e-01, 7.69078662e-01, 7.79066115e-01, 7.89053567e-01,\n",
       "        7.99041020e-01, 8.09028472e-01, 8.19015925e-01, 8.29003377e-01,\n",
       "        8.38990830e-01, 8.48978283e-01, 8.58965735e-01, 8.68953188e-01,\n",
       "        8.78940640e-01, 8.88928093e-01, 8.98915545e-01, 9.08902998e-01,\n",
       "        9.18890450e-01, 9.28877903e-01, 9.38865355e-01, 9.48852808e-01,\n",
       "        9.58840260e-01, 9.68827713e-01, 9.78815166e-01, 9.88802618e-01,\n",
       "        9.98790071e-01]),\n",
       " <BarContainer object of 100 artists>)"
      ]
     },
     "execution_count": 130,
     "metadata": {},
     "output_type": "execute_result"
    },
    {
     "data": {
      "image/png": "[encoded data removed]",
      "text/plain": [
       "<Figure size 640x480 with 1 Axes>"
      ]
     },
     "metadata": {},
     "output_type": "display_data"
    }
   ],
   "source": [
    "# Buat histogram dari data A dengan jumlah bin (kelompok nilai) sebanyak 100\n",
    "# Semakin banyak bin, histogram akan semakin detail dan terperinci\n",
    "plt.hist(A, bins=100)\n"
   ]
  },
  {
   "cell_type": "code",
   "execution_count": 136,
   "id": "ef0421c5",
   "metadata": {},
   "outputs": [
    {
     "data": {
      "text/plain": [
       "(array([1.000e+00, 0.000e+00, 0.000e+00, 0.000e+00, 0.000e+00, 0.000e+00,\n",
       "        0.000e+00, 1.000e+00, 0.000e+00, 1.000e+00, 1.000e+00, 1.000e+00,\n",
       "        1.000e+00, 2.000e+00, 1.000e+00, 4.000e+00, 2.000e+00, 1.000e+00,\n",
       "        2.000e+00, 6.000e+00, 7.000e+00, 5.000e+00, 5.000e+00, 7.000e+00,\n",
       "        1.100e+01, 6.000e+00, 1.200e+01, 1.400e+01, 1.200e+01, 1.800e+01,\n",
       "        1.700e+01, 1.900e+01, 2.500e+01, 2.000e+01, 3.700e+01, 3.500e+01,\n",
       "        3.000e+01, 5.300e+01, 5.600e+01, 5.900e+01, 8.100e+01, 8.600e+01,\n",
       "        9.200e+01, 1.030e+02, 1.120e+02, 1.110e+02, 1.450e+02, 1.480e+02,\n",
       "        1.820e+02, 2.110e+02, 2.110e+02, 1.990e+02, 2.450e+02, 2.750e+02,\n",
       "        2.740e+02, 3.420e+02, 3.040e+02, 4.000e+02, 4.120e+02, 4.470e+02,\n",
       "        4.580e+02, 5.650e+02, 5.780e+02, 6.030e+02, 6.260e+02, 6.810e+02,\n",
       "        7.790e+02, 7.910e+02, 8.190e+02, 8.660e+02, 8.930e+02, 1.019e+03,\n",
       "        1.070e+03, 1.035e+03, 1.184e+03, 1.177e+03, 1.197e+03, 1.281e+03,\n",
       "        1.343e+03, 1.346e+03, 1.376e+03, 1.440e+03, 1.592e+03, 1.540e+03,\n",
       "        1.482e+03, 1.615e+03, 1.699e+03, 1.656e+03, 1.717e+03, 1.740e+03,\n",
       "        1.785e+03, 1.855e+03, 1.758e+03, 1.872e+03, 1.779e+03, 1.799e+03,\n",
       "        1.872e+03, 1.892e+03, 1.831e+03, 1.786e+03, 1.872e+03, 1.796e+03,\n",
       "        1.742e+03, 1.760e+03, 1.686e+03, 1.685e+03, 1.678e+03, 1.573e+03,\n",
       "        1.504e+03, 1.503e+03, 1.425e+03, 1.420e+03, 1.433e+03, 1.293e+03,\n",
       "        1.309e+03, 1.171e+03, 1.162e+03, 1.136e+03, 1.031e+03, 1.024e+03,\n",
       "        9.700e+02, 9.160e+02, 8.960e+02, 7.980e+02, 7.810e+02, 7.160e+02,\n",
       "        6.480e+02, 6.120e+02, 6.050e+02, 5.770e+02, 5.100e+02, 5.130e+02,\n",
       "        4.120e+02, 3.960e+02, 3.820e+02, 3.960e+02, 3.210e+02, 3.230e+02,\n",
       "        2.750e+02, 2.450e+02, 2.490e+02, 2.220e+02, 2.100e+02, 1.620e+02,\n",
       "        1.490e+02, 1.300e+02, 1.310e+02, 1.100e+02, 1.040e+02, 9.100e+01,\n",
       "        8.000e+01, 7.400e+01, 6.300e+01, 5.400e+01, 4.700e+01, 5.000e+01,\n",
       "        4.400e+01, 3.700e+01, 3.700e+01, 2.700e+01, 2.700e+01, 2.000e+01,\n",
       "        1.700e+01, 2.100e+01, 1.800e+01, 1.000e+01, 9.000e+00, 7.000e+00,\n",
       "        6.000e+00, 1.300e+01, 4.000e+00, 3.000e+00, 6.000e+00, 3.000e+00,\n",
       "        4.000e+00, 0.000e+00, 2.000e+00, 1.000e+00, 5.000e+00, 1.000e+00,\n",
       "        3.000e+00, 2.000e+00, 0.000e+00, 0.000e+00, 0.000e+00, 0.000e+00,\n",
       "        0.000e+00, 0.000e+00, 0.000e+00, 0.000e+00, 1.000e+00, 1.000e+00,\n",
       "        0.000e+00, 0.000e+00, 0.000e+00, 0.000e+00, 0.000e+00, 0.000e+00,\n",
       "        0.000e+00, 1.000e+00]),\n",
       " array([-4.40128176e+00, -4.35542633e+00, -4.30957090e+00, -4.26371547e+00,\n",
       "        -4.21786004e+00, -4.17200461e+00, -4.12614918e+00, -4.08029375e+00,\n",
       "        -4.03443831e+00, -3.98858288e+00, -3.94272745e+00, -3.89687202e+00,\n",
       "        -3.85101659e+00, -3.80516116e+00, -3.75930573e+00, -3.71345030e+00,\n",
       "        -3.66759486e+00, -3.62173943e+00, -3.57588400e+00, -3.53002857e+00,\n",
       "        -3.48417314e+00, -3.43831771e+00, -3.39246228e+00, -3.34660685e+00,\n",
       "        -3.30075142e+00, -3.25489598e+00, -3.20904055e+00, -3.16318512e+00,\n",
       "        -3.11732969e+00, -3.07147426e+00, -3.02561883e+00, -2.97976340e+00,\n",
       "        -2.93390797e+00, -2.88805253e+00, -2.84219710e+00, -2.79634167e+00,\n",
       "        -2.75048624e+00, -2.70463081e+00, -2.65877538e+00, -2.61291995e+00,\n",
       "        -2.56706452e+00, -2.52120908e+00, -2.47535365e+00, -2.42949822e+00,\n",
       "        -2.38364279e+00, -2.33778736e+00, -2.29193193e+00, -2.24607650e+00,\n",
       "        -2.20022107e+00, -2.15436564e+00, -2.10851020e+00, -2.06265477e+00,\n",
       "        -2.01679934e+00, -1.97094391e+00, -1.92508848e+00, -1.87923305e+00,\n",
       "        -1.83337762e+00, -1.78752219e+00, -1.74166675e+00, -1.69581132e+00,\n",
       "        -1.64995589e+00, -1.60410046e+00, -1.55824503e+00, -1.51238960e+00,\n",
       "        -1.46653417e+00, -1.42067874e+00, -1.37482330e+00, -1.32896787e+00,\n",
       "        -1.28311244e+00, -1.23725701e+00, -1.19140158e+00, -1.14554615e+00,\n",
       "        -1.09969072e+00, -1.05383529e+00, -1.00797986e+00, -9.62124424e-01,\n",
       "        -9.16268993e-01, -8.70413562e-01, -8.24558131e-01, -7.78702699e-01,\n",
       "        -7.32847268e-01, -6.86991837e-01, -6.41136406e-01, -5.95280975e-01,\n",
       "        -5.49425543e-01, -5.03570112e-01, -4.57714681e-01, -4.11859250e-01,\n",
       "        -3.66003819e-01, -3.20148387e-01, -2.74292956e-01, -2.28437525e-01,\n",
       "        -1.82582094e-01, -1.36726663e-01, -9.08712314e-02, -4.50158002e-02,\n",
       "         8.39631025e-04,  4.66950622e-02,  9.25504934e-02,  1.38405925e-01,\n",
       "         1.84261356e-01,  2.30116787e-01,  2.75972218e-01,  3.21827649e-01,\n",
       "         3.67683081e-01,  4.13538512e-01,  4.59393943e-01,  5.05249374e-01,\n",
       "         5.51104805e-01,  5.96960237e-01,  6.42815668e-01,  6.88671099e-01,\n",
       "         7.34526530e-01,  7.80381961e-01,  8.26237393e-01,  8.72092824e-01,\n",
       "         9.17948255e-01,  9.63803686e-01,  1.00965912e+00,  1.05551455e+00,\n",
       "         1.10136998e+00,  1.14722541e+00,  1.19308084e+00,  1.23893627e+00,\n",
       "         1.28479170e+00,  1.33064714e+00,  1.37650257e+00,  1.42235800e+00,\n",
       "         1.46821343e+00,  1.51406886e+00,  1.55992429e+00,  1.60577972e+00,\n",
       "         1.65163515e+00,  1.69749059e+00,  1.74334602e+00,  1.78920145e+00,\n",
       "         1.83505688e+00,  1.88091231e+00,  1.92676774e+00,  1.97262317e+00,\n",
       "         2.01847860e+00,  2.06433403e+00,  2.11018947e+00,  2.15604490e+00,\n",
       "         2.20190033e+00,  2.24775576e+00,  2.29361119e+00,  2.33946662e+00,\n",
       "         2.38532205e+00,  2.43117748e+00,  2.47703292e+00,  2.52288835e+00,\n",
       "         2.56874378e+00,  2.61459921e+00,  2.66045464e+00,  2.70631007e+00,\n",
       "         2.75216550e+00,  2.79802093e+00,  2.84387637e+00,  2.88973180e+00,\n",
       "         2.93558723e+00,  2.98144266e+00,  3.02729809e+00,  3.07315352e+00,\n",
       "         3.11900895e+00,  3.16486438e+00,  3.21071981e+00,  3.25657525e+00,\n",
       "         3.30243068e+00,  3.34828611e+00,  3.39414154e+00,  3.43999697e+00,\n",
       "         3.48585240e+00,  3.53170783e+00,  3.57756326e+00,  3.62341870e+00,\n",
       "         3.66927413e+00,  3.71512956e+00,  3.76098499e+00,  3.80684042e+00,\n",
       "         3.85269585e+00,  3.89855128e+00,  3.94440671e+00,  3.99026215e+00,\n",
       "         4.03611758e+00,  4.08197301e+00,  4.12782844e+00,  4.17368387e+00,\n",
       "         4.21953930e+00,  4.26539473e+00,  4.31125016e+00,  4.35710559e+00,\n",
       "         4.40296103e+00,  4.44881646e+00,  4.49467189e+00,  4.54052732e+00,\n",
       "         4.58638275e+00,  4.63223818e+00,  4.67809361e+00,  4.72394904e+00,\n",
       "         4.76980448e+00]),\n",
       " <BarContainer object of 200 artists>)"
      ]
     },
     "execution_count": 136,
     "metadata": {},
     "output_type": "execute_result"
    },
    {
     "data": {
      "image/png": "[encoded data removed]",
      "text/plain": [
       "<Figure size 640x480 with 1 Axes>"
      ]
     },
     "metadata": {},
     "output_type": "display_data"
    }
   ],
   "source": [
    "B = np.random.randn(100000)\n",
    "plt.hist(B, bins=200)"
   ]
  },
  {
   "cell_type": "code",
   "execution_count": 137,
   "id": "fc3c57e3",
   "metadata": {},
   "outputs": [
    {
     "data": {
      "text/plain": [
       "(array([1.000e+00, 0.000e+00, 0.000e+00, 0.000e+00, 0.000e+00, 0.000e+00,\n",
       "        0.000e+00, 0.000e+00, 0.000e+00, 0.000e+00, 0.000e+00, 1.000e+00,\n",
       "        1.000e+00, 2.000e+00, 0.000e+00, 1.000e+00, 0.000e+00, 0.000e+00,\n",
       "        1.000e+00, 0.000e+00, 2.000e+00, 3.000e+00, 3.000e+00, 2.000e+00,\n",
       "        3.000e+00, 5.000e+00, 8.000e+00, 1.000e+01, 6.000e+00, 8.000e+00,\n",
       "        1.400e+01, 1.300e+01, 1.300e+01, 1.400e+01, 2.500e+01, 2.000e+01,\n",
       "        1.700e+01, 2.800e+01, 3.100e+01, 4.600e+01, 4.300e+01, 5.800e+01,\n",
       "        4.800e+01, 6.100e+01, 6.500e+01, 9.000e+01, 1.190e+02, 1.170e+02,\n",
       "        1.030e+02, 1.260e+02, 1.380e+02, 1.490e+02, 1.880e+02, 1.830e+02,\n",
       "        2.240e+02, 2.170e+02, 2.490e+02, 2.780e+02, 2.750e+02, 3.100e+02,\n",
       "        3.160e+02, 3.700e+02, 3.810e+02, 4.240e+02, 4.920e+02, 5.210e+02,\n",
       "        5.430e+02, 5.860e+02, 5.830e+02, 6.690e+02, 7.200e+02, 6.840e+02,\n",
       "        7.550e+02, 8.450e+02, 8.880e+02, 8.700e+02, 9.770e+02, 1.011e+03,\n",
       "        1.097e+03, 1.134e+03, 1.114e+03, 1.219e+03, 1.274e+03, 1.332e+03,\n",
       "        1.318e+03, 1.391e+03, 1.416e+03, 1.438e+03, 1.477e+03, 1.527e+03,\n",
       "        1.623e+03, 1.608e+03, 1.643e+03, 1.723e+03, 1.687e+03, 1.626e+03,\n",
       "        1.707e+03, 1.731e+03, 1.748e+03, 1.766e+03, 1.915e+03, 1.790e+03,\n",
       "        1.753e+03, 1.773e+03, 1.795e+03, 1.800e+03, 1.755e+03, 1.660e+03,\n",
       "        1.613e+03, 1.685e+03, 1.573e+03, 1.588e+03, 1.559e+03, 1.552e+03,\n",
       "        1.501e+03, 1.469e+03, 1.395e+03, 1.323e+03, 1.358e+03, 1.358e+03,\n",
       "        1.222e+03, 1.196e+03, 1.165e+03, 1.009e+03, 1.075e+03, 9.890e+02,\n",
       "        9.560e+02, 9.210e+02, 8.520e+02, 8.220e+02, 7.320e+02, 7.220e+02,\n",
       "        6.420e+02, 6.760e+02, 5.640e+02, 5.420e+02, 5.190e+02, 4.750e+02,\n",
       "        4.700e+02, 4.010e+02, 3.640e+02, 3.780e+02, 3.250e+02, 2.940e+02,\n",
       "        2.710e+02, 2.850e+02, 2.360e+02, 2.100e+02, 2.040e+02, 1.660e+02,\n",
       "        1.630e+02, 1.570e+02, 1.250e+02, 1.240e+02, 1.250e+02, 1.180e+02,\n",
       "        8.700e+01, 6.400e+01, 6.800e+01, 7.500e+01, 4.900e+01, 5.000e+01,\n",
       "        5.000e+01, 3.300e+01, 3.100e+01, 2.600e+01, 2.600e+01, 1.400e+01,\n",
       "        1.500e+01, 1.800e+01, 2.300e+01, 1.500e+01, 1.800e+01, 1.000e+01,\n",
       "        6.000e+00, 1.000e+01, 1.000e+01, 8.000e+00, 6.000e+00, 4.000e+00,\n",
       "        1.000e+00, 3.000e+00, 2.000e+00, 3.000e+00, 1.000e+00, 2.000e+00,\n",
       "        1.000e+00, 1.000e+00, 1.000e+00, 0.000e+00, 1.000e+00, 0.000e+00,\n",
       "        1.000e+00, 0.000e+00, 0.000e+00, 1.000e+00, 0.000e+00, 2.000e+00,\n",
       "        0.000e+00, 1.000e+00]),\n",
       " array([-4.51129478, -4.46679872, -4.42230266, -4.3778066 , -4.33331054,\n",
       "        -4.28881449, -4.24431843, -4.19982237, -4.15532631, -4.11083025,\n",
       "        -4.06633419, -4.02183813, -3.97734207, -3.93284601, -3.88834995,\n",
       "        -3.8438539 , -3.79935784, -3.75486178, -3.71036572, -3.66586966,\n",
       "        -3.6213736 , -3.57687754, -3.53238148, -3.48788542, -3.44338937,\n",
       "        -3.39889331, -3.35439725, -3.30990119, -3.26540513, -3.22090907,\n",
       "        -3.17641301, -3.13191695, -3.08742089, -3.04292483, -2.99842878,\n",
       "        -2.95393272, -2.90943666, -2.8649406 , -2.82044454, -2.77594848,\n",
       "        -2.73145242, -2.68695636, -2.6424603 , -2.59796425, -2.55346819,\n",
       "        -2.50897213, -2.46447607, -2.41998001, -2.37548395, -2.33098789,\n",
       "        -2.28649183, -2.24199577, -2.19749971, -2.15300366, -2.1085076 ,\n",
       "        -2.06401154, -2.01951548, -1.97501942, -1.93052336, -1.8860273 ,\n",
       "        -1.84153124, -1.79703518, -1.75253913, -1.70804307, -1.66354701,\n",
       "        -1.61905095, -1.57455489, -1.53005883, -1.48556277, -1.44106671,\n",
       "        -1.39657065, -1.35207459, -1.30757854, -1.26308248, -1.21858642,\n",
       "        -1.17409036, -1.1295943 , -1.08509824, -1.04060218, -0.99610612,\n",
       "        -0.95161006, -0.90711401, -0.86261795, -0.81812189, -0.77362583,\n",
       "        -0.72912977, -0.68463371, -0.64013765, -0.59564159, -0.55114553,\n",
       "        -0.50664947, -0.46215342, -0.41765736, -0.3731613 , -0.32866524,\n",
       "        -0.28416918, -0.23967312, -0.19517706, -0.150681  , -0.10618494,\n",
       "        -0.06168888, -0.01719283,  0.02730323,  0.07179929,  0.11629535,\n",
       "         0.16079141,  0.20528747,  0.24978353,  0.29427959,  0.33877565,\n",
       "         0.3832717 ,  0.42776776,  0.47226382,  0.51675988,  0.56125594,\n",
       "         0.605752  ,  0.65024806,  0.69474412,  0.73924018,  0.78373624,\n",
       "         0.82823229,  0.87272835,  0.91722441,  0.96172047,  1.00621653,\n",
       "         1.05071259,  1.09520865,  1.13970471,  1.18420077,  1.22869682,\n",
       "         1.27319288,  1.31768894,  1.362185  ,  1.40668106,  1.45117712,\n",
       "         1.49567318,  1.54016924,  1.5846653 ,  1.62916136,  1.67365741,\n",
       "         1.71815347,  1.76264953,  1.80714559,  1.85164165,  1.89613771,\n",
       "         1.94063377,  1.98512983,  2.02962589,  2.07412194,  2.118618  ,\n",
       "         2.16311406,  2.20761012,  2.25210618,  2.29660224,  2.3410983 ,\n",
       "         2.38559436,  2.43009042,  2.47458648,  2.51908253,  2.56357859,\n",
       "         2.60807465,  2.65257071,  2.69706677,  2.74156283,  2.78605889,\n",
       "         2.83055495,  2.87505101,  2.91954706,  2.96404312,  3.00853918,\n",
       "         3.05303524,  3.0975313 ,  3.14202736,  3.18652342,  3.23101948,\n",
       "         3.27551554,  3.3200116 ,  3.36450765,  3.40900371,  3.45349977,\n",
       "         3.49799583,  3.54249189,  3.58698795,  3.63148401,  3.67598007,\n",
       "         3.72047613,  3.76497218,  3.80946824,  3.8539643 ,  3.89846036,\n",
       "         3.94295642,  3.98745248,  4.03194854,  4.0764446 ,  4.12094066,\n",
       "         4.16543672,  4.20993277,  4.25442883,  4.29892489,  4.34342095,\n",
       "         4.38791701]),\n",
       " <BarContainer object of 200 artists>)"
      ]
     },
     "execution_count": 137,
     "metadata": {},
     "output_type": "execute_result"
    },
    {
     "data": {
      "image/png": "[encoded data removed]",
      "text/plain": [
       "<Figure size 640x480 with 1 Axes>"
      ]
     },
     "metadata": {},
     "output_type": "display_data"
    }
   ],
   "source": [
    "# Buat array B berisi 100.000 angka acak dari distribusi normal (mean=0, std=1)\n",
    "B = np.random.randn(100000)\n",
    "\n",
    "# Buat histogram dari data B dengan 200 bin (kelompok nilai)\n",
    "# Ini akan menampilkan bentuk distribusi normal (lonceng) karena datanya random normal\n",
    "plt.hist(B, bins=200)\n"
   ]
  },
  {
   "cell_type": "code",
   "execution_count": 138,
   "id": "7141e9da",
   "metadata": {},
   "outputs": [
    {
     "data": {
      "text/plain": [
       "array([[0.98558273, 0.57382323, 0.07986055],\n",
       "       [0.75598153, 0.91838472, 0.36169925]])"
      ]
     },
     "execution_count": 138,
     "metadata": {},
     "output_type": "execute_result"
    }
   ],
   "source": [
    "# membuat 2d array dari random numbers\n",
    "C = np.random.rand(2,3)\n",
    "C"
   ]
  },
  {
   "cell_type": "code",
   "execution_count": 139,
   "id": "6365ba0c",
   "metadata": {},
   "outputs": [
    {
     "data": {
      "text/plain": [
       "2"
      ]
     },
     "execution_count": 139,
     "metadata": {},
     "output_type": "execute_result"
    }
   ],
   "source": [
    "C.ndim"
   ]
  },
  {
   "cell_type": "code",
   "execution_count": 140,
   "id": "75b3579e",
   "metadata": {},
   "outputs": [
    {
     "data": {
      "text/plain": [
       "4"
      ]
     },
     "execution_count": 140,
     "metadata": {},
     "output_type": "execute_result"
    }
   ],
   "source": [
    "# array 4 dimensi dengan rand\n",
    "# ada 2 array\n",
    "# ada 3 dimensi dan ada 2\n",
    "# setiap 3 dimensi array ada 3 2d array\n",
    "# jadi setiap 2d memiliki 4 1d\n",
    "# dan setiap 1d array memiliki 2 elements atau indeks\n",
    "C = np.random.rand(2,3,4,2)\n",
    "C.ndim"
   ]
  },
  {
   "cell_type": "code",
   "execution_count": 141,
   "id": "67cebe07",
   "metadata": {},
   "outputs": [
    {
     "data": {
      "text/plain": [
       "(4, 25)"
      ]
     },
     "execution_count": 141,
     "metadata": {},
     "output_type": "execute_result"
    }
   ],
   "source": [
    "# reshape\n",
    "D = np.arange(100).reshape(4,25)\n",
    "# berarti jadinya 2d array dengan 4 baris dan 25 kolom\n",
    "D.shape"
   ]
  },
  {
   "cell_type": "code",
   "execution_count": 142,
   "id": "5dc999aa",
   "metadata": {},
   "outputs": [
    {
     "data": {
      "text/plain": [
       "(4, 5, 5)"
      ]
     },
     "execution_count": 142,
     "metadata": {},
     "output_type": "execute_result"
    }
   ],
   "source": [
    "D = np.arange(100).reshape(4,5,5) # 3 dimensi array\n",
    "D.shape"
   ]
  },
  {
   "cell_type": "markdown",
   "id": "8e5c0920",
   "metadata": {},
   "source": [
    "***********"
   ]
  },
  {
   "cell_type": "markdown",
   "id": "f18a844b",
   "metadata": {},
   "source": [
    "## 4. Numpy(Slicing)"
   ]
  },
  {
   "cell_type": "markdown",
   "id": "0413ee41",
   "metadata": {},
   "source": [
    "```python\n",
    "A[start:end:step]\n",
    "\n",
    "a[1:5]     # indeks 1 sampai 5, tapi tidak termasuk 5\n",
    "a[:5]      # indeks 0 sampai 5, tapi tidak termasuk 5\n",
    "a[:5]      # indeks 0 sampai 5, tapi tidak termasuk 5\n",
    "a[2:]      # indeks 2 sampai akhir, termasuk elemen terakhir\n",
    "a[::-1]    # dari akhir ke awal (membalik array)\n",
    "a[::2]     # dari awal sampai akhir, loncati 1 elemen (setiap dua elemen)\n",
    "a[::2, :]  # ?\n",
    "```"
   ]
  },
  {
   "cell_type": "code",
   "execution_count": 145,
   "id": "200cb594",
   "metadata": {},
   "outputs": [
    {
     "name": "stdout",
     "output_type": "stream",
     "text": [
      "Array a: [10 20 30 40 50 60 70]\n",
      "a[1:5] = [20 30 40 50]\n",
      "a[:5] = [10 20 30 40 50]\n",
      "a[2:] = [30 40 50 60 70]\n",
      "a[::-1] = [70 60 50 40 30 20 10]\n",
      "a[::2] = [10 30 50 70]\n",
      "\n",
      "Array 2D b:\n",
      " [[ 1  2  3  4]\n",
      " [ 5  6  7  8]\n",
      " [ 9 10 11 12]\n",
      " [13 14 15 16]]\n",
      "b[::2, :] =\n",
      " [[ 1  2  3  4]\n",
      " [ 9 10 11 12]]\n"
     ]
    }
   ],
   "source": [
    "import numpy as np\n",
    "\n",
    "# Contoh array 1D\n",
    "a = np.array([10, 20, 30, 40, 50, 60, 70])\n",
    "print(\"Array a:\", a)\n",
    "\n",
    "# 1. a[1:5] → ambil elemen dari indeks 1 sampai 4 (5 tidak termasuk)\n",
    "print(\"a[1:5] =\", a[1:5])  # [20 30 40 50]\n",
    "\n",
    "# 2. a[:5] → ambil dari awal sampai indeks 4\n",
    "print(\"a[:5] =\", a[:5])  # [10 20 30 40 50]\n",
    "\n",
    "# 3. a[2:] → ambil dari indeks 2 sampai akhir\n",
    "print(\"a[2:] =\", a[2:])  # [30 40 50 60 70]\n",
    "\n",
    "# 4. a[::-1] → membalik urutan array\n",
    "print(\"a[::-1] =\", a[::-1])  # [70 60 50 40 30 20 10]\n",
    "\n",
    "# 5. a[::2] → ambil setiap elemen ke-2 dari awal\n",
    "print(\"a[::2] =\", a[::2])  # [10 30 50 70]\n",
    "\n",
    "# Contoh array 2D\n",
    "b = np.array([[1, 2, 3, 4],\n",
    "              [5, 6, 7, 8],\n",
    "              [9, 10, 11, 12],\n",
    "              [13, 14, 15, 16]])\n",
    "\n",
    "print(\"\\nArray 2D b:\\n\", b)\n",
    "\n",
    "# 6. b[::2, :] → ambil baris dengan loncatan 2, semua kolom\n",
    "print(\"b[::2, :] =\\n\", b[::2, :])\n",
    "# Ambil baris ke-0 dan ke-2 → [[1 2 3 4], [9 10 11 12]]\n"
   ]
  },
  {
   "cell_type": "code",
   "execution_count": 147,
   "id": "c6cceb99",
   "metadata": {},
   "outputs": [
    {
     "name": "stdout",
     "output_type": "stream",
     "text": [
      "[0.86552311 0.74949815 0.44084698 0.96563538 0.86153356 0.74615385\n",
      " 0.98281098 0.28938623 0.14195227 0.20014682 0.03564585 0.3465027\n",
      " 0.91708074 0.06695647 0.64562844 0.2850538  0.15369263 0.55675286\n",
      " 0.86084394 0.95025671 0.79825777 0.31679204 0.55206513 0.37766549\n",
      " 0.68883835 0.31680018 0.1626846  0.2662859  0.69269177 0.87168034\n",
      " 0.01525848 0.82060249 0.84979676 0.31809145 0.61234871 0.98728767\n",
      " 0.93952587 0.51640715 0.37757391 0.65203233 0.69661114 0.99229379\n",
      " 0.50082068 0.67335243 0.31195188 0.27245911 0.24799067 0.82722309\n",
      " 0.41430234 0.93243898 0.67946765 0.87640832 0.23332058 0.73166146\n",
      " 0.09043109 0.60978761 0.51055571 0.6400238  0.45708403 0.57630803\n",
      " 0.72080253 0.71495145 0.4961257  0.67705174 0.62501893 0.44089793\n",
      " 0.05377335 0.1982717  0.8994045  0.97928682 0.3379992  0.73669463\n",
      " 0.53361023 0.52103593 0.33613327 0.13828082 0.19834081 0.57262196\n",
      " 0.90986507 0.03879635 0.11663422 0.4982094  0.04769972 0.86757741\n",
      " 0.29842009 0.46442099 0.87227209 0.46794435 0.79944567 0.2085918\n",
      " 0.22644791 0.00493658 0.21436408 0.55116993 0.83909989 0.41672731\n",
      " 0.44726389]\n"
     ]
    }
   ],
   "source": [
    "import numpy as np\n",
    "\n",
    "b = A[3:100]\n",
    "print(b)"
   ]
  },
  {
   "cell_type": "code",
   "execution_count": 148,
   "id": "307e7e9b",
   "metadata": {},
   "outputs": [
    {
     "data": {
      "text/plain": [
       "array([-1.20000000e+03,  7.49498148e-01,  4.40846978e-01,  9.65635378e-01,\n",
       "        8.61533563e-01,  7.46153854e-01,  9.82810983e-01,  2.89386234e-01,\n",
       "        1.41952269e-01,  2.00146825e-01,  3.56458509e-02,  3.46502702e-01,\n",
       "        9.17080742e-01,  6.69564694e-02,  6.45628437e-01,  2.85053797e-01,\n",
       "        1.53692625e-01,  5.56752862e-01,  8.60843941e-01,  9.50256714e-01,\n",
       "        7.98257769e-01,  3.16792042e-01,  5.52065132e-01,  3.77665495e-01,\n",
       "        6.88838352e-01,  3.16800180e-01,  1.62684597e-01,  2.66285896e-01,\n",
       "        6.92691771e-01,  8.71680338e-01,  1.52584774e-02,  8.20602486e-01,\n",
       "        8.49796763e-01,  3.18091446e-01,  6.12348707e-01,  9.87287669e-01,\n",
       "        9.39525866e-01,  5.16407155e-01,  3.77573911e-01,  6.52032325e-01,\n",
       "        6.96611143e-01,  9.92293793e-01,  5.00820679e-01,  6.73352428e-01,\n",
       "        3.11951882e-01,  2.72459107e-01,  2.47990671e-01,  8.27223085e-01,\n",
       "        4.14302338e-01,  9.32438982e-01,  6.79467649e-01,  8.76408323e-01,\n",
       "        2.33320581e-01,  7.31661462e-01,  9.04310934e-02,  6.09787606e-01,\n",
       "        5.10555706e-01,  6.40023800e-01,  4.57084030e-01,  5.76308033e-01,\n",
       "        7.20802529e-01,  7.14951445e-01,  4.96125698e-01,  6.77051744e-01,\n",
       "        6.25018928e-01,  4.40897934e-01,  5.37733466e-02,  1.98271704e-01,\n",
       "        8.99404500e-01,  9.79286823e-01,  3.37999201e-01,  7.36694630e-01,\n",
       "        5.33610231e-01,  5.21035934e-01,  3.36133271e-01,  1.38280819e-01,\n",
       "        1.98340813e-01,  5.72621955e-01,  9.09865071e-01,  3.87963477e-02,\n",
       "        1.16634222e-01,  4.98209400e-01,  4.76997213e-02,  8.67577410e-01,\n",
       "        2.98420088e-01,  4.64420992e-01,  8.72272094e-01,  4.67944346e-01,\n",
       "        7.99445665e-01,  2.08591795e-01,  2.26447906e-01,  4.93658089e-03,\n",
       "        2.14364081e-01,  5.51169934e-01,  8.39099888e-01,  4.16727311e-01,\n",
       "        4.47263886e-01])"
      ]
     },
     "execution_count": 148,
     "metadata": {},
     "output_type": "execute_result"
    }
   ],
   "source": [
    "# nambahin -1200 di indeks 0\n",
    "b[0] = -1200\n",
    "b"
   ]
  },
  {
   "cell_type": "code",
   "execution_count": 149,
   "id": "8a38cdb0",
   "metadata": {},
   "outputs": [
    {
     "data": {
      "text/plain": [
       "array([ 3.87610626e-01,  3.75856330e-01,  7.52193854e-01, -1.20000000e+03,\n",
       "        7.49498148e-01,  4.40846978e-01,  9.65635378e-01,  8.61533563e-01,\n",
       "        7.46153854e-01,  9.82810983e-01,  2.89386234e-01,  1.41952269e-01,\n",
       "        2.00146825e-01,  3.56458509e-02,  3.46502702e-01,  9.17080742e-01,\n",
       "        6.69564694e-02,  6.45628437e-01,  2.85053797e-01,  1.53692625e-01,\n",
       "        5.56752862e-01,  8.60843941e-01,  9.50256714e-01,  7.98257769e-01,\n",
       "        3.16792042e-01,  5.52065132e-01,  3.77665495e-01,  6.88838352e-01,\n",
       "        3.16800180e-01,  1.62684597e-01,  2.66285896e-01,  6.92691771e-01,\n",
       "        8.71680338e-01,  1.52584774e-02,  8.20602486e-01,  8.49796763e-01,\n",
       "        3.18091446e-01,  6.12348707e-01,  9.87287669e-01,  9.39525866e-01,\n",
       "        5.16407155e-01,  3.77573911e-01,  6.52032325e-01,  6.96611143e-01,\n",
       "        9.92293793e-01,  5.00820679e-01,  6.73352428e-01,  3.11951882e-01,\n",
       "        2.72459107e-01,  2.47990671e-01,  8.27223085e-01,  4.14302338e-01,\n",
       "        9.32438982e-01,  6.79467649e-01,  8.76408323e-01,  2.33320581e-01,\n",
       "        7.31661462e-01,  9.04310934e-02,  6.09787606e-01,  5.10555706e-01,\n",
       "        6.40023800e-01,  4.57084030e-01,  5.76308033e-01,  7.20802529e-01,\n",
       "        7.14951445e-01,  4.96125698e-01,  6.77051744e-01,  6.25018928e-01,\n",
       "        4.40897934e-01,  5.37733466e-02,  1.98271704e-01,  8.99404500e-01,\n",
       "        9.79286823e-01,  3.37999201e-01,  7.36694630e-01,  5.33610231e-01,\n",
       "        5.21035934e-01,  3.36133271e-01,  1.38280819e-01,  1.98340813e-01,\n",
       "        5.72621955e-01,  9.09865071e-01,  3.87963477e-02,  1.16634222e-01,\n",
       "        4.98209400e-01,  4.76997213e-02,  8.67577410e-01,  2.98420088e-01,\n",
       "        4.64420992e-01,  8.72272094e-01,  4.67944346e-01,  7.99445665e-01,\n",
       "        2.08591795e-01,  2.26447906e-01,  4.93658089e-03,  2.14364081e-01,\n",
       "        5.51169934e-01,  8.39099888e-01,  4.16727311e-01,  4.47263886e-01,\n",
       "        6.01007853e-01,  1.66339609e-01,  4.53020638e-01,  5.66915559e-01,\n",
       "        9.19087413e-01,  8.46862333e-01,  4.20038935e-02,  6.82222729e-02,\n",
       "        7.58254052e-01,  5.59820655e-01,  4.24172010e-01,  1.07159083e-01,\n",
       "        7.51861278e-01,  2.23082154e-01,  6.02454046e-01,  8.54195430e-01,\n",
       "        8.88803634e-01,  4.97150000e-01,  4.40839686e-01,  5.13638892e-01,\n",
       "        2.91813256e-01,  3.95142919e-01,  4.04493741e-01,  1.75070795e-01,\n",
       "        2.16736655e-01,  4.07029047e-01,  9.66004439e-01,  7.27556760e-01,\n",
       "        7.66466766e-01,  2.17076005e-01,  8.27296981e-01,  5.63286768e-01,\n",
       "        4.14492096e-01,  9.55724683e-02,  7.70586856e-01,  6.40960336e-01,\n",
       "        8.88705424e-01,  8.88332827e-01,  3.05005681e-01,  1.86432542e-01,\n",
       "        1.76425098e-01,  7.92375684e-01,  3.45120548e-01,  5.02776587e-01,\n",
       "        8.41903830e-01,  4.42632812e-01,  3.12811636e-01,  7.43552942e-01,\n",
       "        6.60118894e-01,  4.57701220e-01,  7.18559076e-01,  8.20151380e-01,\n",
       "        5.90921181e-01,  3.55628303e-01,  3.53135773e-01,  9.29408286e-01,\n",
       "        5.31113529e-01,  8.05284897e-01,  7.32093935e-01,  5.27823197e-01,\n",
       "        8.41995258e-01,  8.81743436e-01,  2.10215001e-01,  8.37694471e-01,\n",
       "        9.25242987e-02,  6.63102414e-01,  1.61850032e-01,  4.25067793e-01,\n",
       "        5.02765675e-01,  7.93784564e-01,  9.63452860e-01,  4.68165667e-02,\n",
       "        4.05532093e-01,  3.74886202e-01,  2.38274039e-01,  7.73655130e-01,\n",
       "        2.35903248e-02,  8.09029585e-01,  2.34776081e-01,  8.86499096e-01,\n",
       "        6.53018112e-01,  2.91940785e-01,  4.63606489e-01,  4.99038257e-01,\n",
       "        2.79525911e-01,  6.90588420e-01,  2.74241602e-01,  5.52567859e-01,\n",
       "        1.83383603e-01,  1.06165706e-01,  6.08157229e-01,  4.70060757e-01,\n",
       "        4.34927458e-01,  1.82952567e-01,  2.92758831e-02,  1.31451854e-01,\n",
       "        6.09653254e-01,  8.20201677e-01,  7.56799067e-01,  4.48830561e-01,\n",
       "        4.86109269e-01,  9.52119896e-01,  6.91988895e-01,  8.16313854e-01,\n",
       "        5.78748591e-01,  6.82393914e-01,  4.50615267e-01,  9.61525668e-01,\n",
       "        1.91768033e-01,  4.28973223e-01,  5.92010445e-02,  5.37612889e-02,\n",
       "        2.03217045e-01,  8.45187031e-01,  1.99988630e-01,  7.07526351e-01,\n",
       "        4.93332754e-01,  3.49893736e-02,  9.55791598e-01,  6.90327766e-02,\n",
       "        1.30167184e-01,  1.52243141e-01,  4.00212471e-01,  9.20661504e-01,\n",
       "        9.66003475e-01,  7.69813735e-02,  7.88847967e-01,  1.44491768e-01,\n",
       "        8.59625909e-01,  4.93434876e-01,  2.54216621e-01,  9.03954832e-01,\n",
       "        6.17767258e-01,  3.63986378e-01,  5.92001973e-01,  8.76091343e-01,\n",
       "        5.82569459e-01,  5.26043625e-02,  6.32361368e-01,  8.70210886e-01,\n",
       "        7.72808619e-01,  2.28120276e-01,  2.89809441e-01,  6.28643198e-01,\n",
       "        6.14192923e-01,  9.76631003e-01,  9.13205056e-02,  4.97384854e-01,\n",
       "        6.05739191e-01,  1.93493433e-02,  8.11487898e-01,  9.87864474e-01,\n",
       "        3.99006068e-02,  7.75801885e-01,  6.09362948e-01,  1.36837921e-01,\n",
       "        3.46474462e-01,  8.87636469e-04,  4.05035447e-01,  7.60424100e-01,\n",
       "        6.30769989e-01,  8.28405680e-02,  9.24385155e-01,  9.90940681e-01,\n",
       "        8.38546459e-01,  4.18915672e-01,  7.98512304e-01,  4.24128089e-01,\n",
       "        6.96024523e-01,  5.73960373e-02,  6.15738729e-01,  9.03404657e-01,\n",
       "        1.45203564e-02,  8.15032830e-01,  7.55154287e-01,  1.07313650e-01,\n",
       "        4.21315042e-02,  3.50208822e-01,  1.13175828e-01,  9.85985602e-01,\n",
       "        8.55578029e-01,  4.18161630e-01,  1.14324789e-01,  6.76742996e-01,\n",
       "        9.78557080e-01,  3.63372914e-01,  5.23793940e-01,  3.69187648e-01,\n",
       "        6.69276222e-01,  5.49237931e-01,  7.88234845e-02,  8.35227928e-01,\n",
       "        8.76669746e-01,  8.11988483e-01,  5.29005824e-01,  7.50999615e-01,\n",
       "        6.52621437e-01,  8.63228029e-01,  1.27936653e-01,  5.11852374e-01,\n",
       "        8.74490170e-02,  3.05521057e-02,  7.91624257e-01,  4.89664326e-01,\n",
       "        3.71434679e-01,  5.41285250e-01,  3.43095169e-01,  8.73172760e-01,\n",
       "        6.25346243e-02,  3.39090779e-01,  9.97986062e-01,  1.04280808e-01,\n",
       "        2.68584010e-01,  9.40695946e-01,  7.59734565e-01,  4.94451979e-01,\n",
       "        8.40268302e-01,  8.85368754e-01,  4.63323683e-01,  3.82090836e-01,\n",
       "        6.64969254e-01,  3.48537388e-01,  6.61769482e-01,  3.22050784e-01,\n",
       "        5.34907583e-01,  8.69883473e-02,  9.85460352e-01,  9.16194863e-01,\n",
       "        6.93935284e-02,  5.70514948e-02,  4.99033612e-01,  2.89352882e-01,\n",
       "        9.42479104e-01,  9.37914981e-01,  2.84173106e-01,  4.94977906e-02,\n",
       "        1.09619442e-01,  6.67169582e-01,  7.60194260e-01,  5.72403698e-01,\n",
       "        7.45257360e-01,  7.26873670e-01,  2.74030355e-01,  6.31313416e-01,\n",
       "        4.22276062e-01,  7.25814274e-01,  2.63007255e-02,  7.49403749e-02,\n",
       "        4.98726606e-01,  6.66924196e-01,  4.47872451e-01,  6.50295332e-01,\n",
       "        2.94000007e-01,  6.01362280e-01,  9.94789436e-01,  6.70037728e-01,\n",
       "        8.00047756e-01,  9.71583433e-01,  3.23477655e-01,  1.11672323e-01,\n",
       "        7.10672818e-01,  7.65974266e-01,  6.64758415e-01,  1.75277445e-01,\n",
       "        5.89970717e-01,  3.01850602e-01,  3.68219269e-01,  9.02848922e-01,\n",
       "        2.12842386e-01,  7.56777689e-01,  6.59337702e-01,  3.31060955e-01,\n",
       "        7.49630293e-01,  1.16640589e-01,  4.40076329e-01,  9.83288989e-01,\n",
       "        7.71729173e-01,  7.72230185e-01,  1.28340866e-02,  7.62541074e-01,\n",
       "        6.39551331e-01,  1.52593539e-01,  2.94518960e-01,  3.42998626e-01,\n",
       "        1.25475105e-01,  2.11694325e-01,  9.84610161e-01,  6.77057507e-02,\n",
       "        8.10579240e-02,  7.39304012e-01,  8.16110846e-01,  2.24274141e-01,\n",
       "        3.88526746e-01,  6.43314500e-01,  6.27778408e-01,  7.56124606e-03,\n",
       "        6.90605088e-01,  6.49400483e-01,  3.31875226e-01,  8.82194719e-01,\n",
       "        6.87089724e-01,  3.60446810e-01,  9.72137258e-01,  5.38804979e-01,\n",
       "        1.34541362e-01,  3.32907088e-01,  1.81762277e-02,  7.03746817e-01,\n",
       "        3.84828070e-02,  1.93531716e-01,  2.09165157e-01,  2.61847441e-01,\n",
       "        6.15868088e-01,  1.76868547e-02,  9.75026104e-01,  2.25360653e-01,\n",
       "        6.11796304e-01,  7.61749998e-01,  9.89919341e-01,  9.04412145e-01,\n",
       "        6.62203842e-01,  1.79553981e-01,  2.86639373e-01,  6.55175792e-01,\n",
       "        1.38614561e-01,  9.93664015e-01,  4.47583529e-01,  4.78521399e-01,\n",
       "        9.98790071e-01,  8.37627737e-01,  8.07724885e-01,  9.27655202e-01,\n",
       "        5.73054463e-01,  9.40852866e-01,  2.32595565e-01,  8.34297659e-01,\n",
       "        4.31821453e-01,  5.00174128e-01,  5.16863999e-01,  2.75235038e-01,\n",
       "        6.54096553e-01,  2.69434195e-01,  5.76303379e-01,  2.28708463e-01,\n",
       "        2.91373189e-01,  5.37537123e-01,  7.41582596e-01,  6.67339498e-01,\n",
       "        8.05678387e-01,  3.72749167e-02,  9.34563001e-01,  5.24326290e-01,\n",
       "        7.18434798e-01,  4.44345923e-01,  5.69845477e-02,  4.16701057e-01,\n",
       "        2.35821365e-01,  8.25212852e-01,  1.91454972e-01,  7.22460111e-01,\n",
       "        2.84225743e-01,  5.78721341e-01,  1.60372105e-01,  1.07537968e-02,\n",
       "        3.23178547e-01,  3.85699056e-01,  3.40626421e-01,  4.21681740e-01,\n",
       "        2.61146869e-01,  3.25749851e-01,  9.81764643e-01,  4.60743740e-01,\n",
       "        4.28628514e-01,  9.69525935e-02,  6.30192623e-01,  6.49114963e-01,\n",
       "        1.84254321e-01,  1.22531542e-02,  6.67632036e-01,  2.73438419e-01,\n",
       "        2.46926540e-01,  7.95638557e-01,  1.72420140e-01,  4.03610092e-01,\n",
       "        4.56363907e-01,  3.43473764e-01,  2.74669988e-01,  7.22540757e-01,\n",
       "        1.38734535e-02,  3.86301594e-01,  5.20974145e-02,  2.75147736e-01,\n",
       "        9.19825865e-01,  3.64229545e-01,  4.40085247e-01,  6.46122875e-01,\n",
       "        4.96634820e-01,  7.26259184e-01,  2.94768473e-01,  6.54932933e-01,\n",
       "        8.93287203e-01,  1.90806209e-01,  1.48095162e-01,  7.63124849e-01,\n",
       "        1.79595849e-01,  1.37575339e-01,  1.46276901e-01,  2.30731053e-01,\n",
       "        9.76416751e-01,  5.88373959e-01,  5.55385458e-01,  1.68091555e-01,\n",
       "        3.68694437e-01,  8.60852984e-01,  6.01425215e-01,  9.28573780e-01,\n",
       "        5.04681695e-02,  9.91553739e-03,  5.41210956e-01,  2.33127767e-02,\n",
       "        9.85351397e-01,  5.14271964e-01,  3.18991356e-01,  6.88561680e-01,\n",
       "        7.35293667e-01,  5.28437939e-01,  2.11891862e-02,  2.02509967e-01,\n",
       "        6.63528030e-01,  1.72014738e-01,  6.67189303e-01,  5.41274714e-01,\n",
       "        4.06030221e-01,  9.52566250e-01,  3.14876156e-01,  1.30236169e-01,\n",
       "        8.73195885e-01,  5.44419621e-01,  5.50542981e-02,  4.34139352e-01,\n",
       "        5.42854574e-02,  8.90066247e-01,  5.06076257e-01,  5.66944850e-02,\n",
       "        2.54768371e-01,  4.89065875e-01,  8.92619236e-01,  5.56556776e-01,\n",
       "        8.30059539e-01,  1.26176228e-01,  4.85432265e-01,  6.90956558e-01,\n",
       "        4.99756934e-01,  5.62820585e-01,  7.54827745e-01,  4.46794423e-01,\n",
       "        3.70534162e-01,  3.53339076e-01,  7.12153587e-01,  8.80079998e-01,\n",
       "        8.30865801e-01,  6.90822362e-01,  6.63347382e-01,  8.80582865e-01,\n",
       "        7.35941654e-01,  3.67777088e-01,  6.72976965e-01,  4.09208158e-01,\n",
       "        6.56359374e-01,  8.71667813e-01,  2.42748746e-01,  3.01471781e-01,\n",
       "        6.53370517e-01,  5.33556185e-01,  4.25102583e-01,  8.62494156e-01,\n",
       "        6.07118238e-01,  2.02146052e-01,  3.35447301e-01,  9.80020017e-01,\n",
       "        1.83508956e-01,  8.34425372e-01,  1.49987106e-02,  6.22556606e-01,\n",
       "        5.41250054e-01,  5.90235713e-01,  7.36102840e-01,  6.97285470e-01,\n",
       "        5.31039737e-02,  9.72642972e-02,  8.77091471e-01,  7.50892654e-01,\n",
       "        9.50958462e-01,  4.92504955e-01,  5.11766515e-01,  9.46814661e-01,\n",
       "        7.60141584e-01,  9.23008568e-01,  4.06054057e-01,  5.56716506e-01,\n",
       "        2.84107397e-02,  3.29513171e-01,  6.77969268e-03,  2.23748884e-01,\n",
       "        6.51926772e-01,  6.16226173e-01,  8.79986648e-01,  5.76944528e-01,\n",
       "        4.90246093e-01,  7.91598108e-01,  3.42282007e-01,  5.73243163e-01,\n",
       "        9.34136670e-01,  4.75726199e-01,  5.66783113e-01,  5.07843279e-01,\n",
       "        6.23448867e-01,  8.39632121e-01,  5.67083122e-01,  2.62764141e-02,\n",
       "        8.18357638e-01,  2.29436404e-01,  9.51752174e-01,  3.22677856e-01,\n",
       "        5.61470062e-01,  8.25669568e-01,  1.45863034e-01,  8.89360042e-01,\n",
       "        4.52196368e-01,  6.29216199e-01,  1.98073912e-01,  7.33677950e-01,\n",
       "        2.55872087e-01,  5.70992159e-01,  3.30509801e-01,  6.61198234e-01,\n",
       "        7.86075404e-01,  3.46662301e-01,  5.00738211e-01,  6.74519695e-01,\n",
       "        9.90748280e-01,  1.42733919e-01,  3.99275405e-01,  5.97967485e-01,\n",
       "        3.91645476e-01,  1.27458657e-01,  7.05171969e-01,  9.52623878e-01,\n",
       "        9.68446674e-01,  5.38927933e-01,  5.76190890e-01,  4.33216756e-01,\n",
       "        6.36347742e-01,  8.13270438e-01,  5.53586712e-01,  3.78125803e-01,\n",
       "        6.03384614e-01,  3.32934121e-03,  9.50700068e-01,  6.09522135e-01,\n",
       "        6.55231872e-01,  7.85446083e-01,  5.50113422e-01,  8.48159087e-01,\n",
       "        9.47613555e-01,  6.96805862e-01,  5.59016978e-01,  8.97596745e-01,\n",
       "        6.76770929e-03,  8.77928098e-01,  5.46093936e-01,  4.03435513e-01,\n",
       "        4.80040535e-01,  4.52641101e-01,  5.83296088e-01,  1.46169450e-01,\n",
       "        6.47485689e-01,  1.78814099e-02,  1.02522112e-01,  2.77780966e-01,\n",
       "        4.34950371e-01,  5.21628850e-01,  9.33752377e-01,  4.15670917e-01,\n",
       "        9.71372830e-01,  9.88642251e-01,  3.18774933e-01,  2.03796898e-01,\n",
       "        2.13770287e-01,  5.52204949e-01,  4.27292998e-01,  5.12718341e-01,\n",
       "        6.14766025e-01,  6.68854959e-01,  8.16755326e-01,  9.98433944e-01,\n",
       "        2.00334041e-01,  2.49645977e-01,  7.89170673e-01,  3.76566758e-01,\n",
       "        7.67692512e-01,  5.28535675e-01,  8.22546379e-01,  9.35091998e-01,\n",
       "        1.50336693e-01,  4.50602343e-01,  2.39154021e-01,  6.70468267e-01,\n",
       "        8.43203607e-01,  7.87765023e-01,  5.29547007e-02,  2.62811067e-01,\n",
       "        8.72555879e-01,  6.66991160e-01,  6.49093151e-01,  3.19666215e-01,\n",
       "        2.60696274e-01,  8.12454572e-01,  6.18896880e-01,  4.18927690e-01,\n",
       "        1.56989884e-01,  7.37979738e-01,  1.39595561e-01,  9.98274650e-01,\n",
       "        5.68920236e-01,  4.42305172e-01,  1.84452336e-01,  9.98580863e-01,\n",
       "        8.13447386e-02,  3.49108355e-01,  1.81351860e-01,  5.09849505e-01,\n",
       "        9.68128613e-01,  6.10678551e-01,  2.79850705e-01,  6.33038302e-01,\n",
       "        8.96604518e-01,  7.45245164e-01,  2.66105322e-01,  7.25358186e-01,\n",
       "        8.94658522e-01,  4.76127953e-01,  6.73715629e-01,  2.32535658e-01,\n",
       "        9.18017526e-01,  9.87180824e-01,  9.29636742e-01,  6.47711216e-01,\n",
       "        3.76802482e-01,  8.38288111e-01,  6.95771091e-01,  8.96216411e-01,\n",
       "        5.61613636e-01,  7.96510452e-02,  7.19939856e-01,  7.12679372e-01,\n",
       "        8.85022450e-01,  2.22703779e-01,  8.76774694e-01,  8.13577752e-01,\n",
       "        3.84443391e-01,  9.49572461e-01,  5.60330779e-02,  7.21040048e-01,\n",
       "        1.71831153e-01,  4.48166099e-05,  2.86709156e-02,  9.41785226e-01,\n",
       "        6.94696154e-02,  6.99449851e-01,  5.74275256e-01,  1.89671124e-01,\n",
       "        2.42233983e-01,  3.84712604e-01,  9.08035869e-01,  9.39257960e-01,\n",
       "        8.38000353e-01,  5.16977429e-01,  8.15715011e-01,  1.27001216e-02,\n",
       "        2.16154995e-01,  4.83695527e-01,  3.33722903e-01,  9.03018029e-01,\n",
       "        1.44826639e-01,  6.23123615e-01,  5.34492493e-01,  4.71077750e-02,\n",
       "        2.22114692e-01,  6.33764340e-01,  4.41761946e-01,  3.31941335e-01,\n",
       "        6.78342362e-01,  5.18661887e-01,  8.96926381e-01,  4.93036680e-01,\n",
       "        1.60275185e-01,  1.41733359e-01,  9.20450347e-01,  7.35726914e-01,\n",
       "        6.05276944e-02,  9.82089830e-01,  4.34462863e-01,  2.01239469e-01,\n",
       "        7.56251127e-02,  7.05616150e-01,  1.52348792e-01,  2.30326321e-01,\n",
       "        7.91277287e-01,  7.92177351e-01,  9.87106783e-01,  7.60442356e-01,\n",
       "        7.55806813e-01,  6.85522683e-01,  3.76347231e-01,  8.89420218e-01,\n",
       "        6.73141674e-01,  4.79829015e-01,  5.48717367e-01,  2.80550680e-01,\n",
       "        1.58605664e-01,  2.33390060e-01,  6.06507683e-01,  5.90051298e-01,\n",
       "        5.15712868e-01,  2.17116182e-02,  3.00840515e-01,  3.62175957e-01,\n",
       "        3.04991537e-01,  1.75577764e-01,  8.18577705e-01,  7.28081722e-01,\n",
       "        2.01314048e-01,  2.26330061e-01,  7.09399858e-01,  2.34336973e-01,\n",
       "        5.12594344e-01,  5.80099513e-01,  6.65566120e-01,  2.32310449e-01,\n",
       "        1.06191732e-01,  4.88719240e-01,  5.46326416e-01,  3.77866200e-01,\n",
       "        9.01050300e-01,  1.81364074e-01,  4.00204337e-02,  6.65813431e-01,\n",
       "        8.05087273e-01,  3.59852915e-01,  5.36120538e-01,  9.07524372e-01,\n",
       "        1.18901181e-01,  5.26233537e-01,  5.60602816e-01,  8.18431483e-01,\n",
       "        2.79131165e-01,  4.47264099e-01,  4.01135603e-01,  6.73151907e-01,\n",
       "        5.10457262e-01,  3.06114696e-01,  4.72258365e-01,  2.15528876e-01,\n",
       "        5.25241163e-01,  8.14701874e-01,  4.96376731e-01,  8.01378083e-01,\n",
       "        2.37490628e-01,  1.18253574e-01,  9.19049194e-01,  1.76251776e-01,\n",
       "        5.63077896e-01,  2.27480677e-01,  3.00600256e-01,  1.02394360e-01,\n",
       "        7.48425499e-01,  3.81985419e-01,  3.30717150e-01,  4.79808759e-01,\n",
       "        6.98000869e-01,  6.89300927e-01,  7.73513535e-01,  4.84379450e-01,\n",
       "        3.23127609e-01,  8.22699064e-01,  8.92759904e-01,  4.92313591e-01,\n",
       "        9.21011412e-01,  4.23260840e-01,  6.13053402e-01,  9.92644727e-01,\n",
       "        8.79409333e-02,  1.92016750e-01,  9.28792070e-01,  7.69353773e-01,\n",
       "        8.24033150e-01,  4.08718802e-01,  7.85103987e-01,  7.64020823e-01,\n",
       "        9.83858600e-01,  2.83345594e-01,  3.84237356e-01,  3.09049726e-01,\n",
       "        8.53826611e-01,  7.34730299e-01,  5.45273158e-01,  7.49228141e-01,\n",
       "        7.42549750e-01,  9.58799747e-01,  5.15558242e-01,  4.86591067e-01,\n",
       "        9.71555161e-01,  9.84422765e-01,  4.80950359e-01,  8.52535789e-01,\n",
       "        7.74476551e-01,  3.73107630e-01,  5.99867152e-01,  9.71016269e-01,\n",
       "        4.46316682e-01,  6.56642557e-01,  4.81920080e-01,  5.21519768e-02,\n",
       "        4.45680376e-01,  1.30796156e-01,  5.69648649e-01,  6.68397946e-01,\n",
       "        8.95286350e-02,  3.64334436e-01,  3.28937673e-01,  8.12749334e-01,\n",
       "        4.72188399e-01,  4.07930968e-01,  5.43637160e-01,  7.65523039e-01,\n",
       "        6.19116489e-01,  8.60522876e-01,  1.68492391e-01,  1.73768028e-01,\n",
       "        2.98003511e-01,  3.42110731e-02,  2.38228033e-01,  9.37688163e-01,\n",
       "        1.27057787e-01,  4.37088576e-01,  6.82449379e-01,  7.98486552e-03,\n",
       "        3.83154528e-01,  5.82759388e-01,  4.76366796e-01,  6.38716704e-01,\n",
       "        5.14148250e-01,  5.75184913e-01,  2.14663401e-02,  9.32989944e-01,\n",
       "        5.26330773e-01,  3.90552173e-01,  4.83397759e-01,  9.25813182e-01,\n",
       "        6.60694875e-01,  3.84895667e-01,  4.94963204e-01,  9.46071846e-01,\n",
       "        1.76641157e-01,  1.10454813e-01,  5.81530703e-02,  5.20885489e-01,\n",
       "        5.87498827e-01,  8.58185635e-01,  3.80367069e-01,  7.91870797e-01,\n",
       "        5.46994543e-01,  3.08639493e-01,  2.31863059e-01,  7.29991435e-01,\n",
       "        2.18658885e-01,  9.92964214e-01,  3.55612859e-01,  6.05508192e-01,\n",
       "        3.64798112e-01,  6.34131861e-01,  3.12247918e-01,  2.55177321e-02,\n",
       "        4.65704065e-01,  4.60537976e-01,  5.15474096e-01,  6.44704373e-01,\n",
       "        3.20083858e-01,  4.87626308e-01,  4.85259995e-02,  9.46620268e-01,\n",
       "        1.90939976e-01,  1.82988940e-02,  7.58561233e-01,  7.43805533e-01,\n",
       "        6.44767592e-01,  3.21085777e-01,  2.37643701e-02,  8.43763778e-01])"
      ]
     },
     "execution_count": 149,
     "metadata": {},
     "output_type": "execute_result"
    }
   ],
   "source": [
    "A"
   ]
  },
  {
   "cell_type": "code",
   "execution_count": 150,
   "id": "c0500b3a",
   "metadata": {},
   "outputs": [],
   "source": [
    "b = A[3:10].copy()"
   ]
  },
  {
   "cell_type": "code",
   "execution_count": 151,
   "id": "b9f0cd13",
   "metadata": {},
   "outputs": [
    {
     "data": {
      "text/plain": [
       "array([3.87610626e-01, 4.40846978e-01, 2.89386234e-01, 9.17080742e-01,\n",
       "       5.56752862e-01, 5.52065132e-01, 2.66285896e-01, 8.49796763e-01,\n",
       "       5.16407155e-01, 5.00820679e-01, 8.27223085e-01, 2.33320581e-01,\n",
       "       6.40023800e-01, 4.96125698e-01, 1.98271704e-01, 5.33610231e-01,\n",
       "       5.72621955e-01, 4.76997213e-02, 4.67944346e-01, 2.14364081e-01,\n",
       "       6.01007853e-01, 8.46862333e-01, 4.24172010e-01, 8.54195430e-01,\n",
       "       2.91813256e-01, 4.07029047e-01, 8.27296981e-01, 6.40960336e-01,\n",
       "       1.76425098e-01, 4.42632812e-01, 7.18559076e-01, 9.29408286e-01,\n",
       "       8.41995258e-01, 6.63102414e-01, 9.63452860e-01, 7.73655130e-01,\n",
       "       6.53018112e-01, 6.90588420e-01, 6.08157229e-01, 1.31451854e-01,\n",
       "       4.86109269e-01, 6.82393914e-01, 5.92010445e-02, 7.07526351e-01,\n",
       "       1.30167184e-01, 7.69813735e-02, 2.54216621e-01, 8.76091343e-01,\n",
       "       7.72808619e-01, 9.76631003e-01, 8.11487898e-01, 1.36837921e-01,\n",
       "       6.30769989e-01, 4.18915672e-01, 6.15738729e-01, 1.07313650e-01,\n",
       "       8.55578029e-01, 3.63372914e-01, 7.88234845e-02, 7.50999615e-01,\n",
       "       8.74490170e-02, 5.41285250e-01, 9.97986062e-01, 4.94451979e-01,\n",
       "       6.64969254e-01, 8.69883473e-02, 4.99033612e-01, 4.94977906e-02,\n",
       "       7.45257360e-01, 7.25814274e-01, 4.47872451e-01, 6.70037728e-01,\n",
       "       7.10672818e-01, 3.01850602e-01, 6.59337702e-01, 9.83288989e-01,\n",
       "       6.39551331e-01, 2.11694325e-01, 8.16110846e-01, 7.56124606e-03,\n",
       "       6.87089724e-01, 3.32907088e-01, 2.09165157e-01, 2.25360653e-01,\n",
       "       6.62203842e-01, 9.93664015e-01, 8.07724885e-01, 8.34297659e-01,\n",
       "       6.54096553e-01, 5.37537123e-01, 9.34563001e-01, 4.16701057e-01,\n",
       "       2.84225743e-01, 3.85699056e-01, 9.81764643e-01, 6.49114963e-01,\n",
       "       2.46926540e-01, 3.43473764e-01, 5.20974145e-02, 6.46122875e-01,\n",
       "       8.93287203e-01, 1.37575339e-01, 5.55385458e-01, 9.28573780e-01,\n",
       "       9.85351397e-01, 5.28437939e-01, 6.67189303e-01, 1.30236169e-01,\n",
       "       5.42854574e-02, 4.89065875e-01, 4.85432265e-01, 4.46794423e-01,\n",
       "       8.30865801e-01, 3.67777088e-01, 2.42748746e-01, 8.62494156e-01,\n",
       "       1.83508956e-01, 5.90235713e-01, 8.77091471e-01, 9.46814661e-01,\n",
       "       2.84107397e-02, 6.16226173e-01, 3.42282007e-01, 5.07843279e-01,\n",
       "       8.18357638e-01, 8.25669568e-01, 1.98073912e-01, 6.61198234e-01,\n",
       "       9.90748280e-01, 1.27458657e-01, 5.76190890e-01, 3.78125803e-01,\n",
       "       6.55231872e-01, 6.96805862e-01, 5.46093936e-01, 1.46169450e-01,\n",
       "       4.34950371e-01, 9.88642251e-01, 4.27292998e-01, 9.98433944e-01,\n",
       "       7.67692512e-01, 4.50602343e-01, 5.29547007e-02, 3.19666215e-01,\n",
       "       1.56989884e-01, 4.42305172e-01, 1.81351860e-01, 6.33038302e-01,\n",
       "       8.94658522e-01, 9.87180824e-01, 6.95771091e-01, 7.12679372e-01,\n",
       "       3.84443391e-01, 4.48166099e-05, 5.74275256e-01, 9.39257960e-01,\n",
       "       2.16154995e-01, 6.23123615e-01, 4.41761946e-01, 4.93036680e-01,\n",
       "       6.05276944e-02, 7.05616150e-01, 9.87106783e-01, 8.89420218e-01,\n",
       "       1.58605664e-01, 2.17116182e-02, 8.18577705e-01, 2.34336973e-01,\n",
       "       1.06191732e-01, 1.81364074e-01, 5.36120538e-01, 8.18431483e-01,\n",
       "       5.10457262e-01, 8.14701874e-01, 9.19049194e-01, 1.02394360e-01,\n",
       "       6.98000869e-01, 8.22699064e-01, 6.13053402e-01, 7.69353773e-01,\n",
       "       9.83858600e-01, 7.34730299e-01, 5.15558242e-01, 8.52535789e-01,\n",
       "       4.46316682e-01, 1.30796156e-01, 3.28937673e-01, 7.65523039e-01,\n",
       "       2.98003511e-01, 4.37088576e-01, 4.76366796e-01, 9.32989944e-01,\n",
       "       6.60694875e-01, 1.10454813e-01, 3.80367069e-01, 7.29991435e-01,\n",
       "       3.64798112e-01, 4.60537976e-01, 4.85259995e-02, 7.43805533e-01])"
      ]
     },
     "execution_count": 151,
     "metadata": {},
     "output_type": "execute_result"
    }
   ],
   "source": [
    "# ini akan dimulai dari indeks pertama\n",
    "A[::5]"
   ]
  },
  {
   "cell_type": "code",
   "execution_count": 152,
   "id": "6719cba1",
   "metadata": {},
   "outputs": [
    {
     "data": {
      "text/plain": [
       "array([0.84376378, 0.75856123, 0.48762631, 0.46570406, 0.60550819,\n",
       "       0.23186306, 0.85818564, 0.17664116, 0.92581318, 0.02146634,\n",
       "       0.58275939, 0.12705779, 0.17376803, 0.54363716, 0.36433444,\n",
       "       0.44568038, 0.97101627, 0.48095036, 0.95879975, 0.85382661,\n",
       "       0.76402082, 0.92879207, 0.42326084, 0.32312761, 0.47980876,\n",
       "       0.30060026, 0.11825357, 0.52524116, 0.67315191, 0.56060282,\n",
       "       0.35985292, 0.9010503 , 0.23231045, 0.70939986, 0.17557776,\n",
       "       0.51571287, 0.28055068, 0.37634723, 0.79217735, 0.07562511,\n",
       "       0.73572691, 0.89692638, 0.63376434, 0.14482664, 0.01270012,\n",
       "       0.90803587, 0.69944985, 0.17183115, 0.81357775, 0.71993986,\n",
       "       0.83828811, 0.91801753, 0.72535819, 0.27985071, 0.34910835,\n",
       "       0.56892024, 0.41892769, 0.64909315, 0.78776502, 0.15033669,\n",
       "       0.37656676, 0.81675533, 0.55220495, 0.97137283, 0.27778097,\n",
       "       0.58329609, 0.8779281 , 0.94761356, 0.60952213, 0.55358671,\n",
       "       0.53892793, 0.39164548, 0.6745197 , 0.3305098 , 0.6292162 ,\n",
       "       0.56147006, 0.02627641, 0.56678311, 0.79159811, 0.65192677,\n",
       "       0.55671651, 0.51176652, 0.0972643 , 0.54125005, 0.98002002,\n",
       "       0.42510258, 0.87166781, 0.73594165, 0.88008   , 0.75482775,\n",
       "       0.12617623, 0.25476837, 0.43413935, 0.31487616, 0.17201474,\n",
       "       0.73529367, 0.02331278, 0.60142522, 0.58837396, 0.17959585,\n",
       "       0.65493293, 0.44008525, 0.38630159, 0.45636391, 0.27343842,\n",
       "       0.63019262, 0.32574985, 0.32317855, 0.72246011, 0.05698455,\n",
       "       0.03727492, 0.29137319, 0.27523504, 0.23259557, 0.83762774,\n",
       "       0.13861456, 0.90441215, 0.9750261 , 0.19353172, 0.13454136,\n",
       "       0.88219472, 0.62777841, 0.73930401, 0.1254751 , 0.76254107,\n",
       "       0.44007633, 0.75677769, 0.58997072, 0.11167232, 0.99478944,\n",
       "       0.6669242 , 0.42227606, 0.5724037 , 0.28417311, 0.05705149,\n",
       "       0.53490758, 0.38209084, 0.75973456, 0.33909078, 0.37143468,\n",
       "       0.51185237, 0.52900582, 0.54923793, 0.97855708, 0.9859856 ,\n",
       "       0.75515429, 0.05739604, 0.83854646, 0.7604241 , 0.60936295,\n",
       "       0.01934934, 0.61419292, 0.87021089, 0.59200197, 0.49343488,\n",
       "       0.96600347, 0.06903278, 0.19998863, 0.42897322, 0.57874859,\n",
       "       0.44883056, 0.02927588, 0.10616571, 0.27952591, 0.8864991 ,\n",
       "       0.23827404, 0.79378456, 0.0925243 , 0.5278232 , 0.35313577,\n",
       "       0.45770122, 0.84190383, 0.18643254, 0.77058686, 0.21707601,\n",
       "       0.21673666, 0.51363889, 0.60245405, 0.55982065, 0.91908741,\n",
       "       0.44726389, 0.00493658, 0.87227209, 0.4982094 , 0.19834081,\n",
       "       0.73669463, 0.05377335, 0.71495145, 0.51055571, 0.87640832,\n",
       "       0.24799067, 0.99229379, 0.93952587, 0.82060249, 0.1626846 ,\n",
       "       0.31679204, 0.15369263, 0.3465027 , 0.98281098, 0.74949815])"
      ]
     },
     "execution_count": 152,
     "metadata": {},
     "output_type": "execute_result"
    }
   ],
   "source": [
    "# reversed array\n",
    "A[::-5]"
   ]
  },
  {
   "cell_type": "code",
   "execution_count": 153,
   "id": "beff4cf6",
   "metadata": {},
   "outputs": [
    {
     "data": {
      "text/plain": [
       "array([ 8.43763778e-01,  2.37643701e-02,  3.21085777e-01,  6.44767592e-01,\n",
       "        7.43805533e-01,  7.58561233e-01,  1.82988940e-02,  1.90939976e-01,\n",
       "        9.46620268e-01,  4.85259995e-02,  4.87626308e-01,  3.20083858e-01,\n",
       "        6.44704373e-01,  5.15474096e-01,  4.60537976e-01,  4.65704065e-01,\n",
       "        2.55177321e-02,  3.12247918e-01,  6.34131861e-01,  3.64798112e-01,\n",
       "        6.05508192e-01,  3.55612859e-01,  9.92964214e-01,  2.18658885e-01,\n",
       "        7.29991435e-01,  2.31863059e-01,  3.08639493e-01,  5.46994543e-01,\n",
       "        7.91870797e-01,  3.80367069e-01,  8.58185635e-01,  5.87498827e-01,\n",
       "        5.20885489e-01,  5.81530703e-02,  1.10454813e-01,  1.76641157e-01,\n",
       "        9.46071846e-01,  4.94963204e-01,  3.84895667e-01,  6.60694875e-01,\n",
       "        9.25813182e-01,  4.83397759e-01,  3.90552173e-01,  5.26330773e-01,\n",
       "        9.32989944e-01,  2.14663401e-02,  5.75184913e-01,  5.14148250e-01,\n",
       "        6.38716704e-01,  4.76366796e-01,  5.82759388e-01,  3.83154528e-01,\n",
       "        7.98486552e-03,  6.82449379e-01,  4.37088576e-01,  1.27057787e-01,\n",
       "        9.37688163e-01,  2.38228033e-01,  3.42110731e-02,  2.98003511e-01,\n",
       "        1.73768028e-01,  1.68492391e-01,  8.60522876e-01,  6.19116489e-01,\n",
       "        7.65523039e-01,  5.43637160e-01,  4.07930968e-01,  4.72188399e-01,\n",
       "        8.12749334e-01,  3.28937673e-01,  3.64334436e-01,  8.95286350e-02,\n",
       "        6.68397946e-01,  5.69648649e-01,  1.30796156e-01,  4.45680376e-01,\n",
       "        5.21519768e-02,  4.81920080e-01,  6.56642557e-01,  4.46316682e-01,\n",
       "        9.71016269e-01,  5.99867152e-01,  3.73107630e-01,  7.74476551e-01,\n",
       "        8.52535789e-01,  4.80950359e-01,  9.84422765e-01,  9.71555161e-01,\n",
       "        4.86591067e-01,  5.15558242e-01,  9.58799747e-01,  7.42549750e-01,\n",
       "        7.49228141e-01,  5.45273158e-01,  7.34730299e-01,  8.53826611e-01,\n",
       "        3.09049726e-01,  3.84237356e-01,  2.83345594e-01,  9.83858600e-01,\n",
       "        7.64020823e-01,  7.85103987e-01,  4.08718802e-01,  8.24033150e-01,\n",
       "        7.69353773e-01,  9.28792070e-01,  1.92016750e-01,  8.79409333e-02,\n",
       "        9.92644727e-01,  6.13053402e-01,  4.23260840e-01,  9.21011412e-01,\n",
       "        4.92313591e-01,  8.92759904e-01,  8.22699064e-01,  3.23127609e-01,\n",
       "        4.84379450e-01,  7.73513535e-01,  6.89300927e-01,  6.98000869e-01,\n",
       "        4.79808759e-01,  3.30717150e-01,  3.81985419e-01,  7.48425499e-01,\n",
       "        1.02394360e-01,  3.00600256e-01,  2.27480677e-01,  5.63077896e-01,\n",
       "        1.76251776e-01,  9.19049194e-01,  1.18253574e-01,  2.37490628e-01,\n",
       "        8.01378083e-01,  4.96376731e-01,  8.14701874e-01,  5.25241163e-01,\n",
       "        2.15528876e-01,  4.72258365e-01,  3.06114696e-01,  5.10457262e-01,\n",
       "        6.73151907e-01,  4.01135603e-01,  4.47264099e-01,  2.79131165e-01,\n",
       "        8.18431483e-01,  5.60602816e-01,  5.26233537e-01,  1.18901181e-01,\n",
       "        9.07524372e-01,  5.36120538e-01,  3.59852915e-01,  8.05087273e-01,\n",
       "        6.65813431e-01,  4.00204337e-02,  1.81364074e-01,  9.01050300e-01,\n",
       "        3.77866200e-01,  5.46326416e-01,  4.88719240e-01,  1.06191732e-01,\n",
       "        2.32310449e-01,  6.65566120e-01,  5.80099513e-01,  5.12594344e-01,\n",
       "        2.34336973e-01,  7.09399858e-01,  2.26330061e-01,  2.01314048e-01,\n",
       "        7.28081722e-01,  8.18577705e-01,  1.75577764e-01,  3.04991537e-01,\n",
       "        3.62175957e-01,  3.00840515e-01,  2.17116182e-02,  5.15712868e-01,\n",
       "        5.90051298e-01,  6.06507683e-01,  2.33390060e-01,  1.58605664e-01,\n",
       "        2.80550680e-01,  5.48717367e-01,  4.79829015e-01,  6.73141674e-01,\n",
       "        8.89420218e-01,  3.76347231e-01,  6.85522683e-01,  7.55806813e-01,\n",
       "        7.60442356e-01,  9.87106783e-01,  7.92177351e-01,  7.91277287e-01,\n",
       "        2.30326321e-01,  1.52348792e-01,  7.05616150e-01,  7.56251127e-02,\n",
       "        2.01239469e-01,  4.34462863e-01,  9.82089830e-01,  6.05276944e-02,\n",
       "        7.35726914e-01,  9.20450347e-01,  1.41733359e-01,  1.60275185e-01,\n",
       "        4.93036680e-01,  8.96926381e-01,  5.18661887e-01,  6.78342362e-01,\n",
       "        3.31941335e-01,  4.41761946e-01,  6.33764340e-01,  2.22114692e-01,\n",
       "        4.71077750e-02,  5.34492493e-01,  6.23123615e-01,  1.44826639e-01,\n",
       "        9.03018029e-01,  3.33722903e-01,  4.83695527e-01,  2.16154995e-01,\n",
       "        1.27001216e-02,  8.15715011e-01,  5.16977429e-01,  8.38000353e-01,\n",
       "        9.39257960e-01,  9.08035869e-01,  3.84712604e-01,  2.42233983e-01,\n",
       "        1.89671124e-01,  5.74275256e-01,  6.99449851e-01,  6.94696154e-02,\n",
       "        9.41785226e-01,  2.86709156e-02,  4.48166099e-05,  1.71831153e-01,\n",
       "        7.21040048e-01,  5.60330779e-02,  9.49572461e-01,  3.84443391e-01,\n",
       "        8.13577752e-01,  8.76774694e-01,  2.22703779e-01,  8.85022450e-01,\n",
       "        7.12679372e-01,  7.19939856e-01,  7.96510452e-02,  5.61613636e-01,\n",
       "        8.96216411e-01,  6.95771091e-01,  8.38288111e-01,  3.76802482e-01,\n",
       "        6.47711216e-01,  9.29636742e-01,  9.87180824e-01,  9.18017526e-01,\n",
       "        2.32535658e-01,  6.73715629e-01,  4.76127953e-01,  8.94658522e-01,\n",
       "        7.25358186e-01,  2.66105322e-01,  7.45245164e-01,  8.96604518e-01,\n",
       "        6.33038302e-01,  2.79850705e-01,  6.10678551e-01,  9.68128613e-01,\n",
       "        5.09849505e-01,  1.81351860e-01,  3.49108355e-01,  8.13447386e-02,\n",
       "        9.98580863e-01,  1.84452336e-01,  4.42305172e-01,  5.68920236e-01,\n",
       "        9.98274650e-01,  1.39595561e-01,  7.37979738e-01,  1.56989884e-01,\n",
       "        4.18927690e-01,  6.18896880e-01,  8.12454572e-01,  2.60696274e-01,\n",
       "        3.19666215e-01,  6.49093151e-01,  6.66991160e-01,  8.72555879e-01,\n",
       "        2.62811067e-01,  5.29547007e-02,  7.87765023e-01,  8.43203607e-01,\n",
       "        6.70468267e-01,  2.39154021e-01,  4.50602343e-01,  1.50336693e-01,\n",
       "        9.35091998e-01,  8.22546379e-01,  5.28535675e-01,  7.67692512e-01,\n",
       "        3.76566758e-01,  7.89170673e-01,  2.49645977e-01,  2.00334041e-01,\n",
       "        9.98433944e-01,  8.16755326e-01,  6.68854959e-01,  6.14766025e-01,\n",
       "        5.12718341e-01,  4.27292998e-01,  5.52204949e-01,  2.13770287e-01,\n",
       "        2.03796898e-01,  3.18774933e-01,  9.88642251e-01,  9.71372830e-01,\n",
       "        4.15670917e-01,  9.33752377e-01,  5.21628850e-01,  4.34950371e-01,\n",
       "        2.77780966e-01,  1.02522112e-01,  1.78814099e-02,  6.47485689e-01,\n",
       "        1.46169450e-01,  5.83296088e-01,  4.52641101e-01,  4.80040535e-01,\n",
       "        4.03435513e-01,  5.46093936e-01,  8.77928098e-01,  6.76770929e-03,\n",
       "        8.97596745e-01,  5.59016978e-01,  6.96805862e-01,  9.47613555e-01,\n",
       "        8.48159087e-01,  5.50113422e-01,  7.85446083e-01,  6.55231872e-01,\n",
       "        6.09522135e-01,  9.50700068e-01,  3.32934121e-03,  6.03384614e-01,\n",
       "        3.78125803e-01,  5.53586712e-01,  8.13270438e-01,  6.36347742e-01,\n",
       "        4.33216756e-01,  5.76190890e-01,  5.38927933e-01,  9.68446674e-01,\n",
       "        9.52623878e-01,  7.05171969e-01,  1.27458657e-01,  3.91645476e-01,\n",
       "        5.97967485e-01,  3.99275405e-01,  1.42733919e-01,  9.90748280e-01,\n",
       "        6.74519695e-01,  5.00738211e-01,  3.46662301e-01,  7.86075404e-01,\n",
       "        6.61198234e-01,  3.30509801e-01,  5.70992159e-01,  2.55872087e-01,\n",
       "        7.33677950e-01,  1.98073912e-01,  6.29216199e-01,  4.52196368e-01,\n",
       "        8.89360042e-01,  1.45863034e-01,  8.25669568e-01,  5.61470062e-01,\n",
       "        3.22677856e-01,  9.51752174e-01,  2.29436404e-01,  8.18357638e-01,\n",
       "        2.62764141e-02,  5.67083122e-01,  8.39632121e-01,  6.23448867e-01,\n",
       "        5.07843279e-01,  5.66783113e-01,  4.75726199e-01,  9.34136670e-01,\n",
       "        5.73243163e-01,  3.42282007e-01,  7.91598108e-01,  4.90246093e-01,\n",
       "        5.76944528e-01,  8.79986648e-01,  6.16226173e-01,  6.51926772e-01,\n",
       "        2.23748884e-01,  6.77969268e-03,  3.29513171e-01,  2.84107397e-02,\n",
       "        5.56716506e-01,  4.06054057e-01,  9.23008568e-01,  7.60141584e-01,\n",
       "        9.46814661e-01,  5.11766515e-01,  4.92504955e-01,  9.50958462e-01,\n",
       "        7.50892654e-01,  8.77091471e-01,  9.72642972e-02,  5.31039737e-02,\n",
       "        6.97285470e-01,  7.36102840e-01,  5.90235713e-01,  5.41250054e-01,\n",
       "        6.22556606e-01,  1.49987106e-02,  8.34425372e-01,  1.83508956e-01,\n",
       "        9.80020017e-01,  3.35447301e-01,  2.02146052e-01,  6.07118238e-01,\n",
       "        8.62494156e-01,  4.25102583e-01,  5.33556185e-01,  6.53370517e-01,\n",
       "        3.01471781e-01,  2.42748746e-01,  8.71667813e-01,  6.56359374e-01,\n",
       "        4.09208158e-01,  6.72976965e-01,  3.67777088e-01,  7.35941654e-01,\n",
       "        8.80582865e-01,  6.63347382e-01,  6.90822362e-01,  8.30865801e-01,\n",
       "        8.80079998e-01,  7.12153587e-01,  3.53339076e-01,  3.70534162e-01,\n",
       "        4.46794423e-01,  7.54827745e-01,  5.62820585e-01,  4.99756934e-01,\n",
       "        6.90956558e-01,  4.85432265e-01,  1.26176228e-01,  8.30059539e-01,\n",
       "        5.56556776e-01,  8.92619236e-01,  4.89065875e-01,  2.54768371e-01,\n",
       "        5.66944850e-02,  5.06076257e-01,  8.90066247e-01,  5.42854574e-02,\n",
       "        4.34139352e-01,  5.50542981e-02,  5.44419621e-01,  8.73195885e-01,\n",
       "        1.30236169e-01,  3.14876156e-01,  9.52566250e-01,  4.06030221e-01,\n",
       "        5.41274714e-01,  6.67189303e-01,  1.72014738e-01,  6.63528030e-01,\n",
       "        2.02509967e-01,  2.11891862e-02,  5.28437939e-01,  7.35293667e-01,\n",
       "        6.88561680e-01,  3.18991356e-01,  5.14271964e-01,  9.85351397e-01,\n",
       "        2.33127767e-02,  5.41210956e-01,  9.91553739e-03,  5.04681695e-02,\n",
       "        9.28573780e-01,  6.01425215e-01,  8.60852984e-01,  3.68694437e-01,\n",
       "        1.68091555e-01,  5.55385458e-01,  5.88373959e-01,  9.76416751e-01,\n",
       "        2.30731053e-01,  1.46276901e-01,  1.37575339e-01,  1.79595849e-01,\n",
       "        7.63124849e-01,  1.48095162e-01,  1.90806209e-01,  8.93287203e-01,\n",
       "        6.54932933e-01,  2.94768473e-01,  7.26259184e-01,  4.96634820e-01,\n",
       "        6.46122875e-01,  4.40085247e-01,  3.64229545e-01,  9.19825865e-01,\n",
       "        2.75147736e-01,  5.20974145e-02,  3.86301594e-01,  1.38734535e-02,\n",
       "        7.22540757e-01,  2.74669988e-01,  3.43473764e-01,  4.56363907e-01,\n",
       "        4.03610092e-01,  1.72420140e-01,  7.95638557e-01,  2.46926540e-01,\n",
       "        2.73438419e-01,  6.67632036e-01,  1.22531542e-02,  1.84254321e-01,\n",
       "        6.49114963e-01,  6.30192623e-01,  9.69525935e-02,  4.28628514e-01,\n",
       "        4.60743740e-01,  9.81764643e-01,  3.25749851e-01,  2.61146869e-01,\n",
       "        4.21681740e-01,  3.40626421e-01,  3.85699056e-01,  3.23178547e-01,\n",
       "        1.07537968e-02,  1.60372105e-01,  5.78721341e-01,  2.84225743e-01,\n",
       "        7.22460111e-01,  1.91454972e-01,  8.25212852e-01,  2.35821365e-01,\n",
       "        4.16701057e-01,  5.69845477e-02,  4.44345923e-01,  7.18434798e-01,\n",
       "        5.24326290e-01,  9.34563001e-01,  3.72749167e-02,  8.05678387e-01,\n",
       "        6.67339498e-01,  7.41582596e-01,  5.37537123e-01,  2.91373189e-01,\n",
       "        2.28708463e-01,  5.76303379e-01,  2.69434195e-01,  6.54096553e-01,\n",
       "        2.75235038e-01,  5.16863999e-01,  5.00174128e-01,  4.31821453e-01,\n",
       "        8.34297659e-01,  2.32595565e-01,  9.40852866e-01,  5.73054463e-01,\n",
       "        9.27655202e-01,  8.07724885e-01,  8.37627737e-01,  9.98790071e-01,\n",
       "        4.78521399e-01,  4.47583529e-01,  9.93664015e-01,  1.38614561e-01,\n",
       "        6.55175792e-01,  2.86639373e-01,  1.79553981e-01,  6.62203842e-01,\n",
       "        9.04412145e-01,  9.89919341e-01,  7.61749998e-01,  6.11796304e-01,\n",
       "        2.25360653e-01,  9.75026104e-01,  1.76868547e-02,  6.15868088e-01,\n",
       "        2.61847441e-01,  2.09165157e-01,  1.93531716e-01,  3.84828070e-02,\n",
       "        7.03746817e-01,  1.81762277e-02,  3.32907088e-01,  1.34541362e-01,\n",
       "        5.38804979e-01,  9.72137258e-01,  3.60446810e-01,  6.87089724e-01,\n",
       "        8.82194719e-01,  3.31875226e-01,  6.49400483e-01,  6.90605088e-01,\n",
       "        7.56124606e-03,  6.27778408e-01,  6.43314500e-01,  3.88526746e-01,\n",
       "        2.24274141e-01,  8.16110846e-01,  7.39304012e-01,  8.10579240e-02,\n",
       "        6.77057507e-02,  9.84610161e-01,  2.11694325e-01,  1.25475105e-01,\n",
       "        3.42998626e-01,  2.94518960e-01,  1.52593539e-01,  6.39551331e-01,\n",
       "        7.62541074e-01,  1.28340866e-02,  7.72230185e-01,  7.71729173e-01,\n",
       "        9.83288989e-01,  4.40076329e-01,  1.16640589e-01,  7.49630293e-01,\n",
       "        3.31060955e-01,  6.59337702e-01,  7.56777689e-01,  2.12842386e-01,\n",
       "        9.02848922e-01,  3.68219269e-01,  3.01850602e-01,  5.89970717e-01,\n",
       "        1.75277445e-01,  6.64758415e-01,  7.65974266e-01,  7.10672818e-01,\n",
       "        1.11672323e-01,  3.23477655e-01,  9.71583433e-01,  8.00047756e-01,\n",
       "        6.70037728e-01,  9.94789436e-01,  6.01362280e-01,  2.94000007e-01,\n",
       "        6.50295332e-01,  4.47872451e-01,  6.66924196e-01,  4.98726606e-01,\n",
       "        7.49403749e-02,  2.63007255e-02,  7.25814274e-01,  4.22276062e-01,\n",
       "        6.31313416e-01,  2.74030355e-01,  7.26873670e-01,  7.45257360e-01,\n",
       "        5.72403698e-01,  7.60194260e-01,  6.67169582e-01,  1.09619442e-01,\n",
       "        4.94977906e-02,  2.84173106e-01,  9.37914981e-01,  9.42479104e-01,\n",
       "        2.89352882e-01,  4.99033612e-01,  5.70514948e-02,  6.93935284e-02,\n",
       "        9.16194863e-01,  9.85460352e-01,  8.69883473e-02,  5.34907583e-01,\n",
       "        3.22050784e-01,  6.61769482e-01,  3.48537388e-01,  6.64969254e-01,\n",
       "        3.82090836e-01,  4.63323683e-01,  8.85368754e-01,  8.40268302e-01,\n",
       "        4.94451979e-01,  7.59734565e-01,  9.40695946e-01,  2.68584010e-01,\n",
       "        1.04280808e-01,  9.97986062e-01,  3.39090779e-01,  6.25346243e-02,\n",
       "        8.73172760e-01,  3.43095169e-01,  5.41285250e-01,  3.71434679e-01,\n",
       "        4.89664326e-01,  7.91624257e-01,  3.05521057e-02,  8.74490170e-02,\n",
       "        5.11852374e-01,  1.27936653e-01,  8.63228029e-01,  6.52621437e-01,\n",
       "        7.50999615e-01,  5.29005824e-01,  8.11988483e-01,  8.76669746e-01,\n",
       "        8.35227928e-01,  7.88234845e-02,  5.49237931e-01,  6.69276222e-01,\n",
       "        3.69187648e-01,  5.23793940e-01,  3.63372914e-01,  9.78557080e-01,\n",
       "        6.76742996e-01,  1.14324789e-01,  4.18161630e-01,  8.55578029e-01,\n",
       "        9.85985602e-01,  1.13175828e-01,  3.50208822e-01,  4.21315042e-02,\n",
       "        1.07313650e-01,  7.55154287e-01,  8.15032830e-01,  1.45203564e-02,\n",
       "        9.03404657e-01,  6.15738729e-01,  5.73960373e-02,  6.96024523e-01,\n",
       "        4.24128089e-01,  7.98512304e-01,  4.18915672e-01,  8.38546459e-01,\n",
       "        9.90940681e-01,  9.24385155e-01,  8.28405680e-02,  6.30769989e-01,\n",
       "        7.60424100e-01,  4.05035447e-01,  8.87636469e-04,  3.46474462e-01,\n",
       "        1.36837921e-01,  6.09362948e-01,  7.75801885e-01,  3.99006068e-02,\n",
       "        9.87864474e-01,  8.11487898e-01,  1.93493433e-02,  6.05739191e-01,\n",
       "        4.97384854e-01,  9.13205056e-02,  9.76631003e-01,  6.14192923e-01,\n",
       "        6.28643198e-01,  2.89809441e-01,  2.28120276e-01,  7.72808619e-01,\n",
       "        8.70210886e-01,  6.32361368e-01,  5.26043625e-02,  5.82569459e-01,\n",
       "        8.76091343e-01,  5.92001973e-01,  3.63986378e-01,  6.17767258e-01,\n",
       "        9.03954832e-01,  2.54216621e-01,  4.93434876e-01,  8.59625909e-01,\n",
       "        1.44491768e-01,  7.88847967e-01,  7.69813735e-02,  9.66003475e-01,\n",
       "        9.20661504e-01,  4.00212471e-01,  1.52243141e-01,  1.30167184e-01,\n",
       "        6.90327766e-02,  9.55791598e-01,  3.49893736e-02,  4.93332754e-01,\n",
       "        7.07526351e-01,  1.99988630e-01,  8.45187031e-01,  2.03217045e-01,\n",
       "        5.37612889e-02,  5.92010445e-02,  4.28973223e-01,  1.91768033e-01,\n",
       "        9.61525668e-01,  4.50615267e-01,  6.82393914e-01,  5.78748591e-01,\n",
       "        8.16313854e-01,  6.91988895e-01,  9.52119896e-01,  4.86109269e-01,\n",
       "        4.48830561e-01,  7.56799067e-01,  8.20201677e-01,  6.09653254e-01,\n",
       "        1.31451854e-01,  2.92758831e-02,  1.82952567e-01,  4.34927458e-01,\n",
       "        4.70060757e-01,  6.08157229e-01,  1.06165706e-01,  1.83383603e-01,\n",
       "        5.52567859e-01,  2.74241602e-01,  6.90588420e-01,  2.79525911e-01,\n",
       "        4.99038257e-01,  4.63606489e-01,  2.91940785e-01,  6.53018112e-01,\n",
       "        8.86499096e-01,  2.34776081e-01,  8.09029585e-01,  2.35903248e-02,\n",
       "        7.73655130e-01,  2.38274039e-01,  3.74886202e-01,  4.05532093e-01,\n",
       "        4.68165667e-02,  9.63452860e-01,  7.93784564e-01,  5.02765675e-01,\n",
       "        4.25067793e-01,  1.61850032e-01,  6.63102414e-01,  9.25242987e-02,\n",
       "        8.37694471e-01,  2.10215001e-01,  8.81743436e-01,  8.41995258e-01,\n",
       "        5.27823197e-01,  7.32093935e-01,  8.05284897e-01,  5.31113529e-01,\n",
       "        9.29408286e-01,  3.53135773e-01,  3.55628303e-01,  5.90921181e-01,\n",
       "        8.20151380e-01,  7.18559076e-01,  4.57701220e-01,  6.60118894e-01,\n",
       "        7.43552942e-01,  3.12811636e-01,  4.42632812e-01,  8.41903830e-01,\n",
       "        5.02776587e-01,  3.45120548e-01,  7.92375684e-01,  1.76425098e-01,\n",
       "        1.86432542e-01,  3.05005681e-01,  8.88332827e-01,  8.88705424e-01,\n",
       "        6.40960336e-01,  7.70586856e-01,  9.55724683e-02,  4.14492096e-01,\n",
       "        5.63286768e-01,  8.27296981e-01,  2.17076005e-01,  7.66466766e-01,\n",
       "        7.27556760e-01,  9.66004439e-01,  4.07029047e-01,  2.16736655e-01,\n",
       "        1.75070795e-01,  4.04493741e-01,  3.95142919e-01,  2.91813256e-01,\n",
       "        5.13638892e-01,  4.40839686e-01,  4.97150000e-01,  8.88803634e-01,\n",
       "        8.54195430e-01,  6.02454046e-01,  2.23082154e-01,  7.51861278e-01,\n",
       "        1.07159083e-01,  4.24172010e-01,  5.59820655e-01,  7.58254052e-01,\n",
       "        6.82222729e-02,  4.20038935e-02,  8.46862333e-01,  9.19087413e-01,\n",
       "        5.66915559e-01,  4.53020638e-01,  1.66339609e-01,  6.01007853e-01,\n",
       "        4.47263886e-01,  4.16727311e-01,  8.39099888e-01,  5.51169934e-01,\n",
       "        2.14364081e-01,  4.93658089e-03,  2.26447906e-01,  2.08591795e-01,\n",
       "        7.99445665e-01,  4.67944346e-01,  8.72272094e-01,  4.64420992e-01,\n",
       "        2.98420088e-01,  8.67577410e-01,  4.76997213e-02,  4.98209400e-01,\n",
       "        1.16634222e-01,  3.87963477e-02,  9.09865071e-01,  5.72621955e-01,\n",
       "        1.98340813e-01,  1.38280819e-01,  3.36133271e-01,  5.21035934e-01,\n",
       "        5.33610231e-01,  7.36694630e-01,  3.37999201e-01,  9.79286823e-01,\n",
       "        8.99404500e-01,  1.98271704e-01,  5.37733466e-02,  4.40897934e-01,\n",
       "        6.25018928e-01,  6.77051744e-01,  4.96125698e-01,  7.14951445e-01,\n",
       "        7.20802529e-01,  5.76308033e-01,  4.57084030e-01,  6.40023800e-01,\n",
       "        5.10555706e-01,  6.09787606e-01,  9.04310934e-02,  7.31661462e-01,\n",
       "        2.33320581e-01,  8.76408323e-01,  6.79467649e-01,  9.32438982e-01,\n",
       "        4.14302338e-01,  8.27223085e-01,  2.47990671e-01,  2.72459107e-01,\n",
       "        3.11951882e-01,  6.73352428e-01,  5.00820679e-01,  9.92293793e-01,\n",
       "        6.96611143e-01,  6.52032325e-01,  3.77573911e-01,  5.16407155e-01,\n",
       "        9.39525866e-01,  9.87287669e-01,  6.12348707e-01,  3.18091446e-01,\n",
       "        8.49796763e-01,  8.20602486e-01,  1.52584774e-02,  8.71680338e-01,\n",
       "        6.92691771e-01,  2.66285896e-01,  1.62684597e-01,  3.16800180e-01,\n",
       "        6.88838352e-01,  3.77665495e-01,  5.52065132e-01,  3.16792042e-01,\n",
       "        7.98257769e-01,  9.50256714e-01,  8.60843941e-01,  5.56752862e-01,\n",
       "        1.53692625e-01,  2.85053797e-01,  6.45628437e-01,  6.69564694e-02,\n",
       "        9.17080742e-01,  3.46502702e-01,  3.56458509e-02,  2.00146825e-01,\n",
       "        1.41952269e-01,  2.89386234e-01,  9.82810983e-01,  7.46153854e-01,\n",
       "        8.61533563e-01,  9.65635378e-01,  4.40846978e-01,  7.49498148e-01,\n",
       "       -1.20000000e+03,  7.52193854e-01,  3.75856330e-01,  3.87610626e-01])"
      ]
     },
     "execution_count": 153,
     "metadata": {},
     "output_type": "execute_result"
    }
   ],
   "source": [
    "A[::-1]"
   ]
  },
  {
   "cell_type": "code",
   "execution_count": 155,
   "id": "314d8dd1",
   "metadata": {},
   "outputs": [
    {
     "data": {
      "text/plain": [
       "np.int64(3)"
      ]
     },
     "execution_count": 155,
     "metadata": {},
     "output_type": "execute_result"
    }
   ],
   "source": [
    "# mencari tau indeks dari -1200\n",
    "# argwhere digunakan untuk mencari indeks (lokasi) elemen-elemen dalam array\n",
    "idx = np.argwhere(A==-1200)[0][0]\n",
    "idx"
   ]
  },
  {
   "cell_type": "markdown",
   "id": "09be522b",
   "metadata": {},
   "source": [
    "**********"
   ]
  },
  {
   "cell_type": "markdown",
   "id": "aebecc4b",
   "metadata": {},
   "source": [
    "## 5. Operasi Dasar Array"
   ]
  },
  {
   "cell_type": "code",
   "execution_count": 156,
   "id": "a5048cf8",
   "metadata": {},
   "outputs": [
    {
     "name": "stdout",
     "output_type": "stream",
     "text": [
      "Penjumlahan: [5 7 9]\n",
      "Perkalian skalar: [2 4 6]\n",
      "perkalian a * b :  [ 4 10 18]\n",
      "Broadcasting:\n",
      "[[11 12]\n",
      " [13 14]]\n"
     ]
    }
   ],
   "source": [
    "import numpy as np\n",
    "\n",
    "a = np.array([1, 2, 3]) \n",
    "b = np.array([4, 5, 6])\n",
    "\n",
    "print(\"Penjumlahan:\", a + b)\n",
    "print(\"Perkalian skalar:\", a * 2)\n",
    "print(\"perkalian a * b : \", a * b)\n",
    "print(\"Broadcasting:\")\n",
    "A = np.array([[1, 2], [3, 4]])\n",
    "print(A + 10)"
   ]
  },
  {
   "cell_type": "markdown",
   "id": "69a366b6",
   "metadata": {},
   "source": [
    "## 6. Operasi Lanjutan"
   ]
  },
  {
   "cell_type": "code",
   "execution_count": 157,
   "id": "a29b4472",
   "metadata": {},
   "outputs": [
    {
     "name": "stdout",
     "output_type": "stream",
     "text": [
      "Dot product:\n",
      " [[19 22]\n",
      " [43 50]]\n",
      "Transpose:\n",
      " [[1 3]\n",
      " [2 4]]\n"
     ]
    }
   ],
   "source": [
    "import numpy as np\n",
    "\n",
    "mat1 = np.array([[1, 2], [3, 4]])\n",
    "mat2 = np.array([[5, 6], [7, 8]])\n",
    "\n",
    "# Dot product\n",
    "print(\"Dot product:\\n\", np.dot(mat1, mat2))\n",
    "\n",
    "# Transpose\n",
    "print(\"Transpose:\\n\", mat1.T)"
   ]
  },
  {
   "cell_type": "markdown",
   "id": "7b35486a",
   "metadata": {},
   "source": [
    "### Penjelasan :\n",
    "```python\n",
    "import numpy as np\n",
    "\n",
    "mat1 = np.array([[1, 2],\n",
    "                 [3, 4]])\n",
    "\n",
    "mat2 = np.array([[5, 6],\n",
    "                 [7, 8]])\n",
    "```\n",
    "- membuat dua matriks 2x2(array 2 dimensi)\n",
    "\n",
    "**mat1**\n",
    "```lua\n",
    "[[1 2]\n",
    " [3 4]]\n",
    "```\n",
    "**mat2**\n",
    "```lua\n",
    "[[5 6]\n",
    " [7 8]]\n",
    "```\n",
    "#### 1. np.dot(mat1, mat2) -> matrix multiplication (dot product)\n",
    "```python\n",
    "print(\"Dot product:\\n\", np.dot(mat1, mat2))\n",
    "```\n",
    "- Cara kerja: ambil baris dari matrix pertama, kalikan elemen‑per‑elemen dengan kolom matrix kedua, lalu jumlahkan hasilnya.\n",
    "\n",
    "    - Elemen baris‑0 kolom‑0: 1*5 + 2*7 = 19\n",
    "\n",
    "    - Elemen baris‑0 kolom‑1: 1*6 + 2*8 = 22\n",
    "\n",
    "    - Elemen baris‑1 kolom‑0: 3*5 + 4*7 = 43\n",
    "\n",
    "    - Elemen baris‑1 kolom‑1: 3*6 + 4*8 = 50\n",
    "\n",
    "**Hasil Akhirnya :**\n",
    "```lua\n",
    "[[19 22]\n",
    " [43 50]]\n",
    "```\n",
    "- Kegunaan umum:\n",
    "\n",
    "    - Operasi aljabar linier dasar (sistem persamaan, transformasi linier).\n",
    "\n",
    "    - Di machine learning & deep learning, dot product adalah inti perhitungan di layer neural network.\n",
    "\n",
    "    - Menghitung proyeksi vektor, covariance, dsb.\n",
    "\n",
    "### 2. mat1.T → transpose (menukar baris ↔ kolom)\n",
    "```python\n",
    "print(\"Transpose:\\n\", mat1.T)\n",
    "```\n",
    ">Cara Kerja : baris jadi kolom, kolom jadi baris\n",
    "\n",
    "**Hasil dari mat1.T :**\n",
    "```lua\n",
    "[[1 3]\n",
    " [2 4]]\n",
    "```\n",
    "- Kegunaan umum:\n",
    "\n",
    "    - Menyesuaikan shape agar dua matrix bisa dikalikan (atau operasi lain).\n",
    "\n",
    "    - Mengubah perspektif data: misalnya, baris jadi fitur & kolom jadi sampel (atau sebaliknya).\n",
    "\n",
    "    - Dipakai di statistik (mis. menghitung covariance =  X.T @ X)."
   ]
  },
  {
   "cell_type": "markdown",
   "id": "757287bb",
   "metadata": {},
   "source": [
    "| Perintah       | Apa yang dilakukan                              | Kenapa penting                                              |\n",
    "| -------------- | ----------------------------------------------- | ----------------------------------------------------------- |\n",
    "| `np.dot(A, B)` | Perkalian matrix (dot product).                 | Fondasi aljabar linier, ML, grafik komputer, dsb.           |\n",
    "| `A.T`          | Transpose: putar matrix sehingga baris ⇔ kolom. | Bantu penyesuaian bentuk, analisis data, & rumus statistik. |\n"
   ]
  },
  {
   "cell_type": "markdown",
   "id": "99d0651e",
   "metadata": {},
   "source": [
    "## 7. Fungsi Statistik"
   ]
  },
  {
   "cell_type": "code",
   "execution_count": 158,
   "id": "e22e494e",
   "metadata": {},
   "outputs": [
    {
     "name": "stdout",
     "output_type": "stream",
     "text": [
      "Mean: 12.5\n",
      "Max: 20\n",
      "Min: 5\n",
      "Std: 5.5901699437494745\n"
     ]
    }
   ],
   "source": [
    "data = np.array([[5, 10], [15, 20]])\n",
    "print(\"Mean:\", np.mean(data))  # Rata-rata\n",
    "print(\"Max:\", np.max(data))    # Nilai maksimum\n",
    "print(\"Min:\", np.min(data))    # Nilai minimum\n",
    "print(\"Std:\", np.std(data))    # Standar deviasi\n",
    "\n",
    "# Mean = (5 + 10 + 15 + 20) / 4 = 12.5\n",
    "# Max = 20\n",
    "# Min = 5"
   ]
  },
  {
   "cell_type": "markdown",
   "id": "095f6fc5",
   "metadata": {},
   "source": [
    "### Cara menghitung std\n",
    "1. Hitung selisih setiap nilai dengan rata-rata:\n",
    "\n",
    "    ```lua\n",
    "    5  → (5 - 12.5)^2  = 56.25  \n",
    "    10 → (10 - 12.5)^2 = 6.25  \n",
    "    15 → (15 - 12.5)^2 = 6.25  \n",
    "    20 → (20 - 12.5)^2 = 56.25  \n",
    "    ```\n",
    "\n",
    "2. Hitung rata-rata dari kuadrat selisih:\n",
    "    ```lua\n",
    "    (56.25 + 6.25 + 6.25 + 56.25) / 4 = 31.25\n",
    "    ```\n",
    "3. Akar dari 31.25 : \n",
    "    ```lua\n",
    "    √31.25 ≈ 5.59\n",
    "    ```"
   ]
  },
  {
   "cell_type": "markdown",
   "id": "e3a9cd7b",
   "metadata": {},
   "source": [
    "| Fungsi      | Arti                                       |\n",
    "| ----------- | ------------------------------------------ |\n",
    "| `np.mean()` | Rata-rata nilai                            |\n",
    "| `np.max()`  | Nilai paling besar                         |\n",
    "| `np.min()`  | Nilai paling kecil                         |\n",
    "| `np.std()`  | Seberapa jauh data menyebar dari rata-rata |\n"
   ]
  },
  {
   "cell_type": "markdown",
   "id": "acef4a58",
   "metadata": {},
   "source": [
    "## 8. Mini Project Analisis Data Suhu Harian"
   ]
  },
  {
   "cell_type": "code",
   "execution_count": 163,
   "id": "6da2a1c7",
   "metadata": {},
   "outputs": [
    {
     "name": "stdout",
     "output_type": "stream",
     "text": [
      "Rata-rata suhu per hari: [31.         32.         29.66666667 29.33333333 32.66666667 34.\n",
      " 30.        ]\n",
      "Suhu maksimum per hari: [32 34 31 32 35 36 31]\n",
      "Index kota terpanas tiap hari: [1 1 1 2 2 2 0]\n"
     ]
    }
   ],
   "source": [
    "# Data suhu: 7 hari x 3 kota (dalam derajat Celsius)\n",
    "suhu = np.array([\n",
    "    [30, 32, 31],\n",
    "    [29, 34, 33],\n",
    "    [28, 31, 30],\n",
    "    [27, 29, 32],\n",
    "    [30, 33, 35],\n",
    "    [32, 34, 36],\n",
    "    [31, 30, 29]\n",
    "])\n",
    "\n",
    "rata2_per_hari = np.mean(suhu, axis=1)\n",
    "max_per_hari = np.max(suhu, axis=1)\n",
    "kota_terpanas = np.argmax(suhu, axis=1)\n",
    "\n",
    "print(\"Rata-rata suhu per hari:\", rata2_per_hari)\n",
    "print(\"Suhu maksimum per hari:\", max_per_hari)\n",
    "print(\"Index kota terpanas tiap hari:\", kota_terpanas)"
   ]
  },
  {
   "cell_type": "code",
   "execution_count": 257,
   "id": "5615a5d6",
   "metadata": {},
   "outputs": [
    {
     "name": "stdout",
     "output_type": "stream",
     "text": [
      "Rata-rata suhu per hari: [31.         32.         29.66666667 29.33333333 32.66666667 34.\n",
      " 30.        ]\n",
      "Suhu maksimum per hari: [32 34 31 32 35 36 31]\n",
      "Index kota terpanas tiap hari: [1 1 1 2 2 2 0]\n"
     ]
    }
   ],
   "source": [
    "import numpy as np\n",
    "\n",
    "# Data suhu 7 hari × 3 kota (masing-masing elemen = suhu harian dari 1 kota)\n",
    "suhu = np.array([\n",
    "    [30, 32, 31],  # Hari ke-1: kota 0, kota 1, kota 2\n",
    "    [29, 34, 33],  # Hari ke-2\n",
    "    [28, 31, 30],  # Hari ke-3\n",
    "    [27, 29, 32],  # Hari ke-4\n",
    "    [30, 33, 35],  # Hari ke-5\n",
    "    [32, 34, 36],  # Hari ke-6\n",
    "    [31, 30, 29]   # Hari ke-7\n",
    "])\n",
    "\n",
    "# Hitung rata-rata suhu per hari (mean sepanjang axis 1 → per baris)\n",
    "# hitung rata-rata untuk tiap baris, yaitu rata-rata suhu dari setiap hari (karena tiap baris = 1 hari).\n",
    "rata2_per_hari = np.mean(suhu, axis=1)\n",
    "\n",
    "# Ambil suhu maksimum per hari (maksimum di setiap baris)\n",
    "# ambil suhu tertinggi dari setiap baris, yaitu suhu tertinggi per hari.\n",
    "max_per_hari = np.max(suhu, axis=1)\n",
    "\n",
    "# Ambil index kota yang memiliki suhu tertinggi per hari\n",
    "# Misal hasil 1 → berarti kota ke-1 paling panas hari itu\n",
    "# ambil index kota yang punya suhu tertinggi di setiap hari.\n",
    "kota_terpanas = np.argmax(suhu, axis=1)\n",
    "\n",
    "# Cetak hasil\n",
    "print(\"Rata-rata suhu per hari:\", rata2_per_hari)\n",
    "print(\"Suhu maksimum per hari:\", max_per_hari)\n",
    "print(\"Index kota terpanas tiap hari:\", kota_terpanas)\n"
   ]
  },
  {
   "cell_type": "markdown",
   "id": "871aabc2",
   "metadata": {},
   "source": [
    "#### Apa itu Axis dalam Numpy ?\n",
    "axis adalah cara NumPy menentukan arah operasi yang akan dilakukan di array (misalnya mean, sum, max, dll).\n",
    "| `axis`   | Artinya Operasi Dilakukan Per... | Arah Operasi             |\n",
    "| -------- | -------------------------------- | ------------------------ |\n",
    "| `axis=0` | **Kolom** (secara vertikal)      | Turun dari atas ke bawah |\n",
    "| `axis=1` | **Baris** (secara horizontal)    | Maju dari kiri ke kanan  |\n"
   ]
  },
  {
   "cell_type": "markdown",
   "id": "f3e0df58",
   "metadata": {},
   "source": [
    "**Contoh :**"
   ]
  },
  {
   "cell_type": "code",
   "execution_count": 164,
   "id": "2256c3af",
   "metadata": {},
   "outputs": [
    {
     "data": {
      "text/plain": [
       "array([50, 70, 90])"
      ]
     },
     "execution_count": 164,
     "metadata": {},
     "output_type": "execute_result"
    }
   ],
   "source": [
    "import numpy as np\n",
    "\n",
    "data = np.array([\n",
    "    [10, 20, 30],\n",
    "    [40, 50, 60]\n",
    "])\n",
    "\n",
    "np.sum(data, axis=0) #  Jumlah tiap kolom\n",
    "# Hasil: [10+40, 20+50, 30+60] = [50, 70, 90]"
   ]
  },
  {
   "cell_type": "code",
   "execution_count": 165,
   "id": "3a3bef37",
   "metadata": {},
   "outputs": [
    {
     "data": {
      "text/plain": [
       "array([ 60, 150])"
      ]
     },
     "execution_count": 165,
     "metadata": {},
     "output_type": "execute_result"
    }
   ],
   "source": [
    "np.sum(data, axis=1) # Jumlah tiap baris\n",
    "# Hasil: [10+20+30, 40+50+60] = [60, 150]"
   ]
  },
  {
   "cell_type": "markdown",
   "id": "ca6d7669",
   "metadata": {},
   "source": [
    "### Representasi Tabel Data Suhu (suhu)\n",
    "```diff\n",
    "+---------+--------+--------+--------+\n",
    "|  Hari   | Kota 0 | Kota 1 | Kota 2 |\n",
    "+---------+--------+--------+--------+\n",
    "| Hari 1  |   30   |   32   |   31   |\n",
    "| Hari 2  |   29   |   34   |   33   |\n",
    "| Hari 3  |   28   |   31   |   30   |\n",
    "| Hari 4  |   27   |   29   |   32   |\n",
    "| Hari 5  |   30   |   33   |   35   |\n",
    "| Hari 6  |   32   |   34   |   36   |\n",
    "| Hari 7  |   31   |   30   |   29   |\n",
    "+---------+--------+--------+--------+\n",
    "```\n",
    "\n",
    "### Operasi yang dilakukan\n",
    "1. np.mean(suhu, axis=1) → Rata-rata suhu per hari\n",
    "```yaml\n",
    "Hari 1: (30 + 32 + 31) / 3 = 31.0\n",
    "Hari 2: (29 + 34 + 33) / 3 = 32.0\n",
    "Hari 3: (28 + 31 + 30) / 3 ≈ 29.67\n",
    "Hari 4: (27 + 29 + 32) / 3 ≈ 29.33\n",
    "Hari 5: (30 + 33 + 35) / 3 ≈ 32.67\n",
    "Hari 6: (32 + 34 + 36) / 3 = 34.0\n",
    "Hari 7: (31 + 30 + 29) / 3 = 30.0\n",
    "```\n",
    "2. np.max(suhu, axis=1) → Suhu maksimum per hari\n",
    "```yaml\n",
    "Hari 1: 32\n",
    "Hari 2: 34\n",
    "Hari 3: 31\n",
    "Hari 4: 32\n",
    "Hari 5: 35\n",
    "Hari 6: 36\n",
    "Hari 7: 31\n",
    "```\n",
    "3. np.argmax(suhu, axis = 1) → Index kota dengan suhu tertinggi per hari\n",
    "```yaml\n",
    "Hari 1:  Kota 1 (32)\n",
    "Hari 2:  Kota 1 (34)\n",
    "Hari 3:  Kota 1 (31)\n",
    "Hari 4:  Kota 2 (32)\n",
    "Hari 5:  Kota 2 (35)\n",
    "Hari 6:  Kota 2 (36)\n",
    "Hari 7:  Kota 0 (31)\n",
    "```\n",
    "### Visual Sederhana\n",
    "```mathematica\n",
    "[ Hari ] => Suhu = [Kota0, Kota1, Kota2] → Max = nilai, Index = kota\n",
    "\n",
    "Hari 1 => [30, 32, 31] → Max = 32, Index = 1\n",
    "Hari 2 => [29, 34, 33] → Max = 34, Index = 1\n",
    "Hari 3 => [28, 31, 30] → Max = 31, Index = 1\n",
    "Hari 4 => [27, 29, 32] → Max = 32, Index = 2\n",
    "Hari 5 => [30, 33, 35] → Max = 35, Index = 2\n",
    "Hari 6 => [32, 34, 36] → Max = 36, Index = 2\n",
    "Hari 7 => [31, 30, 29] → Max = 31, Index = 0\n",
    "```"
   ]
  },
  {
   "cell_type": "markdown",
   "id": "98c653d7",
   "metadata": {},
   "source": [
    "***********"
   ]
  },
  {
   "cell_type": "markdown",
   "id": "de290dfc",
   "metadata": {},
   "source": [
    "### Latihan ( Analisis Data Penjualan Toko )\n",
    "Sebuah toko memiliki data penjualan selama 1 minggu (7 hari) dari 3 cabang toko: Toko A, Toko B, dan Toko C. Data dalam satuan juta rupiah."
   ]
  },
  {
   "cell_type": "code",
   "execution_count": null,
   "id": "55244378",
   "metadata": {},
   "outputs": [],
   "source": [
    "import numpy as np\n",
    "# Data penjualan (dalam juta rupiah)\n",
    "# 7 hari x 3 cabang toko\n",
    "penjualan = np.array([\n",
    "    [120, 135, 128],\n",
    "    [110, 140, 125],\n",
    "    [105, 138, 132],\n",
    "    [115, 120, 130],\n",
    "    [122, 144, 138],\n",
    "    [130, 150, 145],\n",
    "    [125, 128, 130]\n",
    "])"
   ]
  },
  {
   "cell_type": "markdown",
   "id": "3423722b",
   "metadata": {},
   "source": [
    "Tugas anda :\n",
    "1. Hitung rata-rata penjualan per hari (axis=1)\n",
    "\n",
    "2. Ambil penjualan maksimum per hari\n",
    "\n",
    "3. Tentukan toko mana yang paling tinggi penjualannya tiap hari (np.argmax)\n",
    "\n",
    "4. Tampilkan hasilnya"
   ]
  },
  {
   "cell_type": "code",
   "execution_count": null,
   "id": "a75a4ead",
   "metadata": {},
   "outputs": [
    {
     "name": "stdout",
     "output_type": "stream",
     "text": [
      "Rata-rata penjualan per hari: [127.66666667 125.         125.         121.66666667 134.66666667\n",
      " 141.66666667 127.66666667]\n",
      "penjualan maksimum per hari: [135 140 138 130 144 150 130]\n",
      "Index penjualan paling tinggi tiap hari: [1 1 1 2 1 1 2]\n"
     ]
    }
   ],
   "source": [
    "import numpy as np\n",
    "\n",
    "penjualan = np.array([\n",
    "#   Toko A, B, C\n",
    "    [120, 135, 128],\n",
    "    [110, 140, 125],\n",
    "    [105, 138, 132],\n",
    "    [115, 120, 130],\n",
    "    [122, 144, 138],\n",
    "    [130, 150, 145],\n",
    "    [125, 128, 130]\n",
    "])\n",
    "\n",
    "# hitung rata-rata penjualan per hari\n",
    "rata2_per_hari = np.mean(penjualan, axis=1)\n",
    "\n",
    "# ambil penjualan maksimum per hari\n",
    "max_per_hari = np.max(penjualan, axis=1)\n",
    "\n",
    "# cari index toko dengan penjualan tertinggi tiap hari\n",
    "pernjualan_tertinggi = np.argmax(penjualan, axis=1)\n",
    "\n",
    "# tampilin semuanya\n",
    "print(\"Rata-rata penjualan per hari:\", rata2_per_hari)\n",
    "print(\"penjualan maksimum per hari:\", max_per_hari)\n",
    "print(\"Index penjualan paling tinggi tiap hari:\", kota_terpanas)\n"
   ]
  }
 ],
 "metadata": {
  "kernelspec": {
   "display_name": "Python 3",
   "language": "python",
   "name": "python3"
  },
  "language_info": {
   "codemirror_mode": {
    "name": "ipython",
    "version": 3
   },
   "file_extension": ".py",
   "mimetype": "text/x-python",
   "name": "python",
   "nbconvert_exporter": "python",
   "pygments_lexer": "ipython3",
   "version": "3.13.0"
  }
 },
 "nbformat": 4,
 "nbformat_minor": 5
}
