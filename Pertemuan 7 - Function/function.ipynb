{
 "cells": [
  {
   "cell_type": "markdown",
   "id": "dcc253da",
   "metadata": {},
   "source": [
    "# Pertemuan 7\n",
    "************\n",
    "## Python Function"
   ]
  },
  {
   "cell_type": "markdown",
   "id": "23fb0008",
   "metadata": {},
   "source": [
    "### Apa itu Function di Python ?\n",
    "\n",
    "- Function (fungsi) adalah sekelompok perintah (kode) yang dibungkus dalam satu blok dan diberi nama, yang bisa dipanggil berulang kali.\n",
    "\n",
    "- Function adalah blok kode yang hanya akan dijalankan saat dipanggil. Gunanya adalah agar kode menjadi modular, reusable, dan lebih rapi.\n",
    "\n",
    "- Dengan adanya function codingan  menjadi lebih rapih, efisien dan mudah di maintain.\n",
    "\n",
    "- Function itu kayak \"resep masakan\". Kita tinggal panggil resepnya (nama fungsi), dan hasilnya keluar tanpa nulis ulang langkah-langkahnya satu per satu. Berarti si resep itu function karena kita panggil pada saat kita butuhkan."
   ]
  },
  {
   "cell_type": "markdown",
   "id": "206abb12",
   "metadata": {},
   "source": [
    "### Mengapa Menggunakan Function ?"
   ]
  },
  {
   "cell_type": "markdown",
   "id": "a5ddbb1f",
   "metadata": {},
   "source": [
    "1. Menghindari Penulisan Ulang Kode"
   ]
  },
  {
   "cell_type": "code",
   "execution_count": null,
   "id": "d7647188",
   "metadata": {},
   "outputs": [],
   "source": [
    "# Tanpa function / manual\n",
    "print(5 * 5) # 25\n",
    "print(7 * 7) # 49\n",
    "print(8 * 8) # 64\n",
    "\n",
    "# Dengan function / kita bisa manggil dia aja\n",
    "def kuadrat(y):\n",
    "    print(y * y) # 5x5 = 25 dan 7x7 = 49\n",
    "\n",
    "kuadrat(5) # 5 menjadi si x \n",
    "kuadrat(7) # 7 menjadi si x"
   ]
  },
  {
   "cell_type": "code",
   "execution_count": null,
   "id": "1084409f",
   "metadata": {},
   "outputs": [],
   "source": [
    "# tanpa function\n",
    "print(\"Selamat Ulang tahun!\")\n",
    "print(\"Kamu sudah tua ya\")\n",
    "\n",
    "# Dengan function\n",
    "def ultah(nama, usia):\n",
    "    print(f\"Selamat Ulang tahun {nama}!\")\n",
    "    print(f\"Kamu berumur {usia}\")\n",
    "    print(f\"Kamu sudah tua ya {nama}\")\n",
    "\n",
    "ultah(\"Nama\", 10)\n",
    "ultah(\"Budi\", 20)"
   ]
  },
  {
   "cell_type": "code",
   "execution_count": null,
   "id": "17b04d46",
   "metadata": {},
   "outputs": [],
   "source": [
    "def display_invoice(username, jumlah, batas_waktu):\n",
    "    print(f\"Hello {username}\")\n",
    "    print(f\"Bayaran anda berjumlah Rp.{jumlah:.2f} dengan batas waktu: {batas_waktu}\")\n",
    "\n",
    "display_invoice(\"Joe Smith\", 10000, \"08/07/2025\")"
   ]
  },
  {
   "cell_type": "code",
   "execution_count": null,
   "id": "c7772ef6",
   "metadata": {},
   "outputs": [],
   "source": [
    "# return statement\n",
    "def tambah(x, y):\n",
    "    z = x + y\n",
    "    return z\n",
    "\n",
    "def kurang(x, y):\n",
    "    z = x - y\n",
    "    return z\n",
    "\n",
    "def kali(x, y):\n",
    "    z = x * y\n",
    "    return z\n",
    "\n",
    "def bagi(x, y):\n",
    "    z = x / y\n",
    "    return z\n",
    "\n",
    "print(tambah(5, 2)) #z = 5 + 2 = 7\n",
    "print(kurang(10, 2))\n",
    "print(kali(2, 6))\n",
    "print(bagi(16, 8))"
   ]
  },
  {
   "cell_type": "code",
   "execution_count": null,
   "id": "cc9a765b",
   "metadata": {},
   "outputs": [],
   "source": [
    "def create_name(first, last):\n",
    "    return first + \" \" + last\n",
    "\n",
    "full_name = create_name(\"muhammad\", \"sumbul\")\n",
    "\n",
    "print(full_name)"
   ]
  },
  {
   "cell_type": "markdown",
   "id": "a836a5b2",
   "metadata": {},
   "source": [
    "2. Membuat Program Lebih Rapi dan Terstruktur\n",
    "Function membuat program modular → mudah dibaca, diuji, dan di-maintain.\n",
    "\n",
    "3. Memudahkan Kolaborasi dalam Tim\n",
    "Setiap orang bisa mengerjakan fungsi berbeda dalam 1 program besar.\n",
    "\n",
    "4. Memudahkan Debugging\n",
    "Kesalahan bisa dilokalisasi ke fungsi tertentu."
   ]
  },
  {
   "cell_type": "markdown",
   "id": "a5e1344c",
   "metadata": {},
   "source": [
    "### Jenis - Jenis Function di Python\n",
    "\n",
    "| **Jenis Function**                    | **Penjelasan Singkat**                                |\n",
    "| ------------------------------------- | ----------------------------------------------------- |\n",
    "| **Built-in Function**                 | Fungsi bawaan Python. Contoh: `print()`, `len()`.     |\n",
    "| **User-Defined Function**             | Fungsi buatan sendiri dengan `def`.                   |\n",
    "| **Function dengan Parameter**         | Menerima input dari luar fungsi.                      |\n",
    "| **Function dengan Return**            | Mengembalikan nilai hasil dari fungsi.                |\n",
    "| **Function dengan Default Parameter** | Parameter ada nilai default-nya.                      |\n",
    "\n",
    "\n",
    "#### 1. Built in Function\n",
    "Fungsi yang sudah tersedia di Python tanpa perlu dibuat.\n",
    "\n",
    "```python\n",
    "print()    # mencetak ke layar\n",
    "len()      # menghitung panjang list/string\n",
    "type()     # melihat tipe data\n",
    "sum()      # menjumlahkan list\n",
    "```\n",
    "\n",
    "#### 2. User-Defined Function\n",
    "Fungsi yang kita buat sendiri.\n",
    "\n",
    "```python\n",
    "def sapa(nama):\n",
    "    print(f\"Halo {nama}, selamat datang!\")\n",
    "```\n",
    "\n",
    "#### 3. Function dengan Parameter dan Return\n",
    "\n",
    "Dengan Parameter :\n",
    "```python\n",
    "def tambah(a, b):\n",
    "    print(a + b)\n",
    "\n",
    "tambah(3, 4)  # Output: 7\n",
    "```\n",
    "Dengan return :\n",
    "\n",
    "```python\n",
    "def kali(a, b):\n",
    "    return a * b\n",
    "\n",
    "hasil = kali(3, 5)\n",
    "print(\"Hasil:\", hasil)\n",
    "```\n",
    "\n",
    "#### 4. Function default parameter\n",
    "\n",
    "```python\n",
    "def sapa(nama=\"User\"):\n",
    "    print(f\"Halo {nama}\")\n",
    "\n",
    "sapa()\n",
    "sapa(\"Vanya\")\n",
    "```\n",
    "\n",
    "##### 5. Function dengan *args dan kwargs\n",
    "\n",
    "* args = menerima banyak argumen\n",
    "```python\n",
    "def total(*angka):\n",
    "    print(sum(angka))\n",
    "\n",
    "total(1, 2, 3, 4)\n",
    "```\n",
    "\n",
    "* **kwargs = menerima banyak key-value.\n",
    "\n",
    "```python\n",
    "def profil(**data):\n",
    "    print(data)\n",
    "\n",
    "profil(nama=\"Vanya\", umur=22)\n",
    "```\n",
    "***********"
   ]
  },
  {
   "cell_type": "code",
   "execution_count": null,
   "id": "6827b95c",
   "metadata": {},
   "outputs": [],
   "source": [
    "# Struktur Program\n",
    "def nama_fungsi(parameter1, parameter2, ...):\n",
    "    # blok kode\n",
    "    return nilai"
   ]
  },
  {
   "cell_type": "code",
   "execution_count": null,
   "id": "417dc565",
   "metadata": {},
   "outputs": [],
   "source": [
    "# Contoh Dasar\n",
    "def sapa(nama):\n",
    "    print(f\"Halo, {nama}!\")\n",
    "\n",
    "sapa(\"Vanya\")\n"
   ]
  },
  {
   "cell_type": "code",
   "execution_count": null,
   "id": "80ed7ac1",
   "metadata": {},
   "outputs": [],
   "source": [
    "# Function dasar tanpa parameter\n",
    "def tampilkan_nama():\n",
    "    print(\"Nama saya Vanya\")\n",
    "\n",
    "tampilkan_nama()\n"
   ]
  },
  {
   "cell_type": "code",
   "execution_count": null,
   "id": "088b3aeb",
   "metadata": {},
   "outputs": [],
   "source": [
    "# function dengan parameter dan return\n",
    "def luas_persegi(sisi):\n",
    "    return sisi * sisi\n",
    "\n",
    "print(\"Luas:\", luas_persegi(5))  # Output: Luas: 25\n"
   ]
  },
  {
   "cell_type": "code",
   "execution_count": null,
   "id": "eafc052c",
   "metadata": {},
   "outputs": [],
   "source": [
    "# function dengan Default Parameter & Keyword Argument\n",
    "def sapa(nama=\"User\", pesan=\"Selamat datang!\"):\n",
    "    print(f\"Halo {nama}, {pesan}\")\n",
    "\n",
    "sapa()  # pakai default\n",
    "sapa(pesan=\"Selamat belajar\", nama=\"Vanya\")\n"
   ]
  },
  {
   "cell_type": "code",
   "execution_count": null,
   "id": "1a2ac74a",
   "metadata": {},
   "outputs": [],
   "source": [
    "# Function dengan Return Multiple Values\n",
    "def hitung_luas_keliling(panjang, lebar):\n",
    "    luas = panjang * lebar\n",
    "    keliling = 2 * (panjang + lebar)\n",
    "    return luas, keliling\n",
    "\n",
    "l, k = hitung_luas_keliling(5, 3)\n",
    "print(f\"Luas: {l}, Keliling: {k}\")\n"
   ]
  },
  {
   "cell_type": "code",
   "execution_count": null,
   "id": "990ed993",
   "metadata": {},
   "outputs": [],
   "source": [
    "# Function dengan *args dan kwargs\n",
    "def total(*angka):\n",
    "    return sum(angka)\n",
    "            #*angka\n",
    "print(total(1, 2, 3, 4))  # Output: 10\n",
    "\n",
    "def profil(**data):\n",
    "    for key, value in data.items():\n",
    "        print(f\"{key}: {value}\")\n",
    "\n",
    "profil(nama=\"Vanya\", umur=23, hobi=\"Menggambar\", makanan=\"Ayam Goreng\")\n"
   ]
  },
  {
   "cell_type": "markdown",
   "id": "1c0401fc",
   "metadata": {},
   "source": [
    "Keterangan :\n",
    "- args, Menampung banyak argumen sebagai tuple\n",
    "- kwargs, Menampung banyak argumen keyword sebagai dict"
   ]
  },
  {
   "cell_type": "code",
   "execution_count": null,
   "id": "df0f7478",
   "metadata": {},
   "outputs": [],
   "source": [
    "# Nested Function\n",
    "def luar():\n",
    "    print(\"Ini fungsi luar\")\n",
    "\n",
    "    def dalam():\n",
    "        print(\"Ini fungsi dalam\")\n",
    "\n",
    "    dalam()\n",
    "\n",
    "luar()"
   ]
  },
  {
   "cell_type": "code",
   "execution_count": null,
   "id": "da4853f7",
   "metadata": {},
   "outputs": [],
   "source": [
    "# Function sebagai Parameter (Higher-Order Function)\n",
    "def ucapan(func): # luar\n",
    "    print(\"Selamat!\")\n",
    "     # memanggil function selanjutnya yaitu ucapan_lanjut()\n",
    "    func() # dalam\n",
    "\n",
    "def ucapan_lanjut(): #dalam\n",
    "    print(\"Semangat belajar Python!\")\n",
    "\n",
    "\n",
    "ucapan(ucapan_lanjut) # luar\n"
   ]
  },
  {
   "cell_type": "code",
   "execution_count": null,
   "id": "54cbe7b3",
   "metadata": {},
   "outputs": [],
   "source": [
    "# Kalkulator Sederhana\n",
    "def tambah(a, b):\n",
    "    return a + b\n",
    "\n",
    "def kurang(a, b):\n",
    "    return a - b\n",
    "\n",
    "def kali(a, b):\n",
    "    return a * b\n",
    "\n",
    "def bagi(a, b):\n",
    "    if b != 0:\n",
    "        return a / b\n",
    "    else:\n",
    "        return \"Tidak bisa dibagi 0\"\n",
    "\n",
    "# Menu\n",
    "def kalkulator():\n",
    "    print(\"=== Kalkulator ===\")\n",
    "    a = float(input(\"Masukkan angka pertama: \"))\n",
    "    b = float(input(\"Masukkan angka kedua: \"))\n",
    "    operasi = input(\"Pilih operasi (+, -, *, /): \")\n",
    "\n",
    "    if operasi == '+':\n",
    "        print(\"Hasil:\", tambah(a, b))\n",
    "    elif operasi == '-':\n",
    "        print(\"Hasil:\", kurang(a, b))\n",
    "    elif operasi == '*':\n",
    "        print(\"Hasil:\", kali(a, b))\n",
    "    elif operasi == '/':\n",
    "        print(\"Hasil:\", bagi(a, b))\n",
    "    else:\n",
    "        print(\"Operasi tidak dikenali\")\n",
    "\n",
    "kalkulator()"
   ]
  },
  {
   "cell_type": "code",
   "execution_count": null,
   "id": "2ba411ba",
   "metadata": {},
   "outputs": [],
   "source": [
    "# Validasi Login\n",
    "def login(username, password):\n",
    "    if username == \"admin\" and password == \"1234\":\n",
    "        return \"Login berhasil\"\n",
    "    else:\n",
    "        return \"Username atau password salah\"\n",
    "\n",
    "user = input(\"Username: \")\n",
    "pw = input(\"Password: \")\n",
    "print(login(user, pw))\n"
   ]
  },
  {
   "cell_type": "code",
   "execution_count": null,
   "id": "1781d923",
   "metadata": {},
   "outputs": [],
   "source": [
    "# Gaji Karyawan Lembur\n",
    "def hitung_gaji(jam_kerja, gaji_per_jam):\n",
    "    if jam_kerja <= 40:\n",
    "        return jam_kerja * gaji_per_jam\n",
    "    else:\n",
    "        lembur = jam_kerja - 40\n",
    "        return (40 * gaji_per_jam) + (lembur * gaji_per_jam * 1.5)\n",
    "\n",
    "# Tes\n",
    "nama = \"Rizky\"\n",
    "jam = 50\n",
    "gaji = 20000\n",
    "\n",
    "print(f\"Gaji {nama} minggu ini: Rp{hitung_gaji(jam, gaji):,.0f}\")\n"
   ]
  },
  {
   "cell_type": "code",
   "execution_count": null,
   "id": "bfe0d42b",
   "metadata": {},
   "outputs": [],
   "source": [
    "# Konversi format tanggal (dd-mm-yyyy → yyyy-mm-dd)\n",
    "def ubah_format_tanggal(tanggal):\n",
    "    hari, bulan, tahun = tanggal.split('-')\n",
    "    return f\"{tahun}-{bulan}-{hari}\"\n",
    "\n",
    "print(ubah_format_tanggal(\"07-07-2025\"))  # Output: 2025-07-07\n"
   ]
  },
  {
   "cell_type": "code",
   "execution_count": null,
   "id": "556b65c7",
   "metadata": {},
   "outputs": [],
   "source": [
    "# Rekap jumlah penjualan produk\n",
    "def total_penjualan(penjualan):\n",
    "    total = 0\n",
    "    for produk, jumlah in penjualan.items():\n",
    "        print(f\"{produk}: {jumlah} item\")\n",
    "        total += jumlah # total = total + jumlah\n",
    "    return total\n",
    "\n",
    "data_penjualan = {\n",
    "    \"Kaos Polos\": 15,\n",
    "    \"Hoodie\": 7,\n",
    "    \"Topi\": 10\n",
    "}\n",
    "\n",
    "print(\"Total item terjual:\", total_penjualan(data_penjualan))\n"
   ]
  },
  {
   "cell_type": "code",
   "execution_count": null,
   "id": "a37b6875",
   "metadata": {},
   "outputs": [],
   "source": [
    "# Cek Kuota pelatihan pegawai\n",
    "def cek_kuota(jumlah_daftar, kuota_maks=30):\n",
    "    if jumlah_daftar >= kuota_maks:\n",
    "        return \"Kuota penuh, tidak bisa mendaftar\"\n",
    "    else:\n",
    "        return f\"Masih tersedia {kuota_maks - jumlah_daftar} slot\"\n",
    "\n",
    "print(cek_kuota(28))  # Output: Masih tersedia 2 slot\n",
    "print(cek_kuota(30))  # Output: Kuota penuh\n"
   ]
  },
  {
   "cell_type": "code",
   "execution_count": null,
   "id": "26b9e753",
   "metadata": {},
   "outputs": [],
   "source": [
    "#  Menghitung Jam Kerja Pegawai (HR Payroll)\n",
    "def hitung_jam_kerja(jam_masuk, jam_pulang):\n",
    "    return jam_pulang - jam_masuk\n",
    "\n",
    "print(\"Jam kerja hari ini:\", hitung_jam_kerja(8, 17))  # 8 jam\n"
   ]
  },
  {
   "cell_type": "code",
   "execution_count": null,
   "id": "2eb0f661",
   "metadata": {},
   "outputs": [],
   "source": [
    "# Cek Format Email (Admin Pendaftaran / HR)\n",
    "def cek_email(email):\n",
    "    return \"@\" in email and \".\" in email\n",
    "\n",
    "print(cek_email(\"vanya@gmail.com\"))  # True\n",
    "print(cek_email(\"salahEmail\"))       # False\n",
    "print(cek_email(\"salah@gmailcom\"))"
   ]
  },
  {
   "cell_type": "markdown",
   "id": "84d7be81",
   "metadata": {},
   "source": [
    "**********************"
   ]
  },
  {
   "cell_type": "markdown",
   "id": "39e446c6",
   "metadata": {},
   "source": [
    "## Latihan Function\n",
    "\n",
    "1. Buatlah fungsi bernama halo() yang menampilkan teks:\n",
    "Halo, selamat belajar Python!\n",
    "\n",
    "```python\n",
    "\"Halo Selamat Belajar Python!\"\n",
    "```\n",
    "\n",
    "2. Buatlah fungsi luas_persegi(sisi) yang menghitung dan mengembalikan luas dari persegi.\n",
    "\n",
    "```python\n",
    "\"Luas Persegi : 16\"\n",
    "```\n",
    "\n",
    "3. Buatlah fungsi cek_nilai(nilai) yang mengembalikan:\n",
    "- \"Lulus\" jika nilai ≥ 75\n",
    "- \"Tidak Lulus\" jika nilai < 75\n",
    "\n",
    "```python\n",
    "\"Lulus\"\n",
    "\"Tidak Lulus\"\n",
    "```\n",
    "\n",
    "4. Buatlah fungsi sapa(nama=\"Pengunjung\") yang mencetak Halo, [nama]. dengan default parameter.\n",
    "\n",
    "```python\n",
    "\"Halo, Pengunjung\"\n",
    "\"Halo, James\"\n",
    "```\n",
    "\n",
    "5. Buatlah fungsi jumlahkan(*angka) yang menerima banyak angka dan mengembalikan total jumlahnya.\n",
    "\n",
    "```python\n",
    "1+2+3+4+5+6\n",
    "```\n"
   ]
  },
  {
   "cell_type": "markdown",
   "id": "88e14a0c",
   "metadata": {},
   "source": [
    "### Jawaban"
   ]
  },
  {
   "cell_type": "code",
   "execution_count": null,
   "id": "65034ac8",
   "metadata": {},
   "outputs": [],
   "source": [
    "# 1\n",
    "# Write your code here\n",
    "def halo():\n",
    "    print(\"Halo, selamat belajar Python!\")\n",
    "\n",
    "halo()"
   ]
  },
  {
   "cell_type": "code",
   "execution_count": null,
   "id": "15ca242d",
   "metadata": {},
   "outputs": [],
   "source": [
    "# 2\n",
    "# Write your code here\n",
    "def luas_persegi(sisi):\n",
    "    luas = sisi * sisi\n",
    "    return f\"Luas Persegi : {luas}\"\n",
    "\n",
    "print(luas_persegi(4))"
   ]
  },
  {
   "cell_type": "code",
   "execution_count": null,
   "id": "71bfa6c1",
   "metadata": {},
   "outputs": [],
   "source": [
    "# 3\n",
    "# Write your code here\n",
    "def cek_nilai(nilai):\n",
    "    if nilai >= 75:\n",
    "        return \"Lulus\"\n",
    "    else:\n",
    "        return \"Tidak Lulus\"\n",
    "\n",
    "print(cek_nilai(80))  # Output: Lulus\n",
    "print(cek_nilai(60))  # Output: Tidak Lulus"
   ]
  },
  {
   "cell_type": "code",
   "execution_count": null,
   "id": "3b6e3595",
   "metadata": {},
   "outputs": [],
   "source": [
    "# 4\n",
    "# Write your code here\n",
    "def sapa(nama=\"Pengunjung\"):\n",
    "    print(f\"Halo, {nama}\")\n",
    "\n",
    "sapa()           # Output: Halo, Pengunjung\n",
    "sapa(\"James\")    # Output: Halo, James"
   ]
  },
  {
   "cell_type": "code",
   "execution_count": null,
   "id": "09edbd97",
   "metadata": {},
   "outputs": [],
   "source": [
    "# 5\n",
    "# Write your code here\n",
    "def jumlahkan(*angka): #membuat parameter *args\n",
    "    return sum(angka)\n",
    "\n",
    "print(jumlahkan(1, 2, 3, 4, 5, 6))  # Output: 21"
   ]
  },
  {
   "cell_type": "markdown",
   "id": "5101f2fd",
   "metadata": {},
   "source": [
    "*********"
   ]
  },
  {
   "cell_type": "markdown",
   "id": "195dccc6",
   "metadata": {},
   "source": [
    "## Latihan 2"
   ]
  },
  {
   "cell_type": "markdown",
   "id": "3b4d83cc",
   "metadata": {},
   "source": [
    "1. Buatlah Fungsi mencetak angka dari angka 1 - 10 (perulangan).\n",
    "2. Buatlah Fungsi mencetak list namun angka nya yang genap saja yang dicetak. (perulangan dan percabangan)\n",
    "3. Buatlah Fungsi mengubah huruf menjadi kapital semua. (fungsi biasa)"
   ]
  },
  {
   "cell_type": "markdown",
   "id": "c7007018",
   "metadata": {},
   "source": [
    "### Jawaban"
   ]
  },
  {
   "cell_type": "code",
   "execution_count": null,
   "id": "1cf94dc8",
   "metadata": {},
   "outputs": [],
   "source": [
    "# 1\n",
    "# Write your code here\n",
    "def cetak_angka():\n",
    "    for i in range (1, 11):\n",
    "        print(i)\n",
    "\n",
    "cetak_angka()"
   ]
  },
  {
   "cell_type": "code",
   "execution_count": 78,
   "id": "ee4d6402",
   "metadata": {},
   "outputs": [
    {
     "name": "stdout",
     "output_type": "stream",
     "text": [
      "2\n",
      "4\n",
      "6\n",
      "8\n",
      "10\n"
     ]
    }
   ],
   "source": [
    "# 2\n",
    "# Write your code here\n",
    "def cetak_genap(angkagenap):\n",
    "    for angka in angkagenap:\n",
    "        if angka % 2 == 0:\n",
    "            print(angka)\n",
    "\n",
    "cetak_genap([1, 2, 3, 4, 5, 6, 7, 8, 9, 10])"
   ]
  },
  {
   "cell_type": "code",
   "execution_count": null,
   "id": "d77579f5",
   "metadata": {},
   "outputs": [
    {
     "name": "stdout",
     "output_type": "stream",
     "text": [
      "V\n",
      "A\n",
      "N\n",
      "Y\n",
      "A\n",
      " \n",
      "M\n",
      "A\n",
      "Y\n",
      "A\n",
      "Z\n",
      "U\n",
      "R\n",
      "A\n",
      " \n",
      "P\n",
      "U\n",
      "S\n",
      "P\n",
      "I\n",
      "T\n",
      "A\n",
      "N\n",
      "I\n",
      "N\n",
      "G\n",
      "R\n",
      "U\n",
      "M\n"
     ]
    }
   ],
   "source": [
    "# 3\n",
    "# Write your code here\n",
    "def ubah_kapital(kalimat):\n",
    "    for huruf in kalimat:\n",
    "        print(huruf.upper(), end=\"\")\n",
    "\n",
    "ubah_kapital(\"vanya mayazura puspitaningrum\")"
   ]
  }
 ],
 "metadata": {
  "kernelspec": {
   "display_name": "Python 3",
   "language": "python",
   "name": "python3"
  },
  "language_info": {
   "codemirror_mode": {
    "name": "ipython",
    "version": 3
   },
   "file_extension": ".py",
   "mimetype": "text/x-python",
   "name": "python",
   "nbconvert_exporter": "python",
   "pygments_lexer": "ipython3",
   "version": "3.13.0"
  }
 },
 "nbformat": 4,
 "nbformat_minor": 5
}
