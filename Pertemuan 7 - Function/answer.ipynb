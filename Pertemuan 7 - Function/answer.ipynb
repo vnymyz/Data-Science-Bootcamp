{
 "cells": [
  {
   "cell_type": "markdown",
   "id": "a3a9be3d",
   "metadata": {},
   "source": [
    "## Latihan Function"
   ]
  },
  {
   "cell_type": "code",
   "execution_count": null,
   "id": "14500bbd",
   "metadata": {},
   "outputs": [],
   "source": []
  },
  {
   "cell_type": "markdown",
   "id": "c8f00d27",
   "metadata": {},
   "source": [
    "## Latihan 2"
   ]
  },
  {
   "cell_type": "code",
   "execution_count": null,
   "id": "168a0851",
   "metadata": {},
   "outputs": [],
   "source": [
    "# 1 - 10\n",
    "def cetak_angka():\n",
    "    for i in range (1, 11):\n",
    "        print(i)\n",
    "\n",
    "cetak_angka()"
   ]
  },
  {
   "cell_type": "code",
   "execution_count": null,
   "id": "74f00e44",
   "metadata": {},
   "outputs": [],
   "source": [
    "def cetak_genap(list):\n",
    "    for angka in list:\n",
    "        if angka % 2 == 0:\n",
    "            print(angka)\n",
    "\n",
    "cetak_genap([1, 2, 3, 4, 5, 6, 7, 8, 9, 10])"
   ]
  },
  {
   "cell_type": "code",
   "execution_count": null,
   "id": "35fe1bb8",
   "metadata": {},
   "outputs": [],
   "source": [
    "def ubah_kapital(kalimat):\n",
    "    for huruf in kalimat:\n",
    "        print(huruf.upper(), end=\"\")\n",
    "\n",
    "ubah_kapital(\"Vanya\")"
   ]
  }
 ],
 "metadata": {
  "kernelspec": {
   "display_name": "Python 3",
   "language": "python",
   "name": "python3"
  },
  "language_info": {
   "name": "python",
   "version": "3.13.0"
  }
 },
 "nbformat": 4,
 "nbformat_minor": 5
}
