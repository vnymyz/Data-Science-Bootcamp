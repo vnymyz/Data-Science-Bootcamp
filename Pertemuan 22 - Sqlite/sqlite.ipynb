{
 "cells": [
  {
   "cell_type": "markdown",
   "id": "6a193b3d",
   "metadata": {},
   "source": [
    "# Pertemuan 22 - Python for SQLite3\n",
    "---"
   ]
  },
  {
   "cell_type": "markdown",
   "id": "a2b6f3e4",
   "metadata": {},
   "source": [
    "## 1. Intro to SQL\n",
    "\n",
    "### Tujuan\n",
    "- Memahami apa itu SQL\n",
    "\n",
    "- Perbedaan RDBMS (MySQL, PostgreSQL, SQLite, dll.)\n",
    "\n",
    "- Kenapa kita pakai SQLite di Python\n",
    "\n",
    "### Penjelasan Singkat:\n",
    "\n",
    "- SQL (Structured Query Language) adalah bahasa untuk mengakses dan mengelola database.\n",
    "\n",
    "- SQLite adalah database ringan, tanpa server, langsung tersimpan di file .db atau .sqlite.\n",
    "\n",
    "### Keunggulan SQLite:\n",
    "\n",
    "- Ringan dan portable\n",
    "\n",
    "- Tidak perlu install server\n",
    "\n",
    "- Cocok untuk belajar & prototyping\n",
    "\n",
    "### Contoh Koneksi Database di Python :\n",
    "\n",
    "```python\n",
    "import sqlite3\n",
    "\n",
    "# Membuat / koneksi ke database\n",
    "connection = sqlite3.connect(\"company.db\")\n",
    "\n",
    "# Membuat cursor\n",
    "cursor = connection.cursor()\n",
    "\n",
    "print(\"Database connected!\")\n",
    "```\n"
   ]
  },
  {
   "cell_type": "markdown",
   "id": "0ef04987",
   "metadata": {},
   "source": [
    "## 2. Pengenalan Database SQL\n",
    "\n",
    "### Tujuan :\n",
    "- Memahami konsep database, tabel, kolom, dan record\n",
    "\n",
    "- Mengenal tipe data di SQLite\n",
    "\n",
    "### Penjelasan :\n",
    "\n",
    "- Database: tempat menyimpan data\n",
    "\n",
    "- Table: kumpulan data dalam bentuk baris & kolom\n",
    "\n",
    "- Column: field (atribut data)\n",
    "\n",
    "- Row / Record: data individual\n",
    "\n",
    "### Tipe data utama di SQLite:\n",
    "\n",
    "- INTEGER\n",
    "\n",
    "- REAL\n",
    "\n",
    "- TEXT\n",
    "\n",
    "- BLOB (Binary Large Object) -> Gambar, Audio (MP3), Video (MP4), File Dokumen (PDF, DOCX, ZIP)\n",
    "\n",
    "- NULL\n",
    "\n",
    "### Contoh Melihat Tabel di Database :\n",
    "```python\n",
    "# Melihat daftar tabel\n",
    "cursor.execute(\"SELECT name FROM sqlite_master WHERE type='table'\")\n",
    "print(cursor.fetchall())\n",
    "```"
   ]
  },
  {
   "cell_type": "markdown",
   "id": "0c33346f",
   "metadata": {},
   "source": [
    "## 3. Membuat Tabel\n",
    "\n",
    "### Tujuan :\n",
    "\n",
    "- Membuat tabel di SQLite lewat Python\n",
    "\n",
    "- Memahami PRIMARY KEY dan NOT NULL\n",
    "\n",
    "### Contoh Kode :\n",
    "\n",
    "```python\n",
    "# Membuat tabel employees\n",
    "cursor.execute('''\n",
    "CREATE TABLE IF NOT EXISTS employees (\n",
    "    id INTEGER PRIMARY KEY AUTOINCREMENT,\n",
    "    name TEXT NOT NULL,\n",
    "    age INTEGER,\n",
    "    department TEXT\n",
    ")\n",
    "''')\n",
    "\n",
    "connection.commit()\n",
    "print(\"Tabel employees berhasil dibuat.\")\n",
    "```"
   ]
  },
  {
   "cell_type": "markdown",
   "id": "a5e1e823",
   "metadata": {},
   "source": [
    "## 4. Memasukkan & Memanipulasi Data\n",
    "\n",
    "### Tujuan\n",
    "\n",
    "- Insert data\n",
    "\n",
    "- Update data\n",
    "\n",
    "- Delete data\n",
    "\n",
    "### Contoh Insert Data Satu per Satu\n",
    "\n",
    "```python\n",
    "cursor.execute(\"INSERT INTO employees (name, age, department) VALUES (?, ?, ?)\",\n",
    "               (\"Vanya\", 23, \"Software Engineer Instructor\"))\n",
    "connection.commit()\n",
    "```\n",
    "\n",
    "### Contoh Insert Banyak Data Sekaligus\n",
    "\n",
    "```python\n",
    "data = [\n",
    "    (\"Dani\", 22, \"Data Scientist\"),\n",
    "    (\"Bayan\", 18, \"Data Engineer\"),\n",
    "    (\"Rika\", 25, \"UI/UX Designer\")\n",
    "]\n",
    "cursor.executemany(\"INSERT INTO employees (name, age, department) VALUES (?, ?, ?)\", data)\n",
    "connection.commit()\n",
    "```\n",
    "\n",
    "### Contoh Update data\n",
    "\n",
    "```python\n",
    "cursor.execute(\"UPDATE employees SET department = ? WHERE name = ?\", (\"Senior Data Scientist\", \"Dani\"))\n",
    "connection.commit()\n",
    "```\n",
    "\n",
    "### Contoh Delete data\n",
    "\n",
    "```python\n",
    "cursor.execute(\"DELETE FROM employees WHERE name = ?\", (\"Bayan\",))\n",
    "connection.commit()\n",
    "```"
   ]
  },
  {
   "cell_type": "markdown",
   "id": "a3930f6e",
   "metadata": {},
   "source": [
    "## 5. Join Table\n",
    "\n",
    "### Tujuan\n",
    "\n",
    "- Menggabungkan data dari dua tabel\n",
    "\n",
    "- Memahami INNER JOIN, LEFT JOIN, RIGHT JOIN\n",
    "\n",
    "### Persiapan Tabel Department\n",
    "\n",
    "```python\n",
    "cursor.execute('''\n",
    "CREATE TABLE IF NOT EXISTS departments (\n",
    "    dept_id INTEGER PRIMARY KEY AUTOINCREMENT,\n",
    "    dept_name TEXT NOT NULL\n",
    ")\n",
    "''')\n",
    "\n",
    "cursor.executemany(\"INSERT INTO departments (dept_name) VALUES (?)\",\n",
    "                   [(\"Software Engineer\",), (\"Data Science\",), (\"UI/UX\",)])\n",
    "connection.commit()\n",
    "```\n",
    "\n",
    "### Menambahkan Kolom Foreign Key di Employees\n",
    "\n",
    "```python\n",
    "# Untuk contoh, kita tambahkan kolom dept_id\n",
    "cursor.execute(\"ALTER TABLE employees ADD COLUMN dept_id INTEGER\")\n",
    "connection.commit()\n",
    "\n",
    "# Update data dengan dept_id\n",
    "cursor.execute(\"UPDATE employees SET dept_id = 1 WHERE department LIKE '%Software%'\")\n",
    "cursor.execute(\"UPDATE employees SET dept_id = 2 WHERE department LIKE '%Data%'\")\n",
    "cursor.execute(\"UPDATE employees SET dept_id = 3 WHERE department LIKE '%UI/UX%'\")\n",
    "connection.commit()\n",
    "```\n",
    "\n",
    "### Contoh JOIN\n",
    "\n",
    "```python\n",
    "cursor.execute('''\n",
    "SELECT e.name, e.age, d.dept_name\n",
    "FROM employees e\n",
    "INNER JOIN departments d ON e.dept_id = d.dept_id\n",
    "''')\n",
    "\n",
    "for row in cursor.fetchall():\n",
    "    print(row)\n",
    "```"
   ]
  },
  {
   "cell_type": "markdown",
   "id": "eb1ea1b7",
   "metadata": {},
   "source": [
    "---"
   ]
  },
  {
   "cell_type": "markdown",
   "id": "52834332",
   "metadata": {},
   "source": [
    "## Code Together"
   ]
  },
  {
   "cell_type": "markdown",
   "id": "d0a2dae5",
   "metadata": {},
   "source": [
    "### 1. Setup Database"
   ]
  },
  {
   "cell_type": "code",
   "execution_count": 1,
   "id": "db4da207",
   "metadata": {},
   "outputs": [
    {
     "name": "stdout",
     "output_type": "stream",
     "text": [
      "Koneksi database berhasil!\n"
     ]
    }
   ],
   "source": [
    "import sqlite3\n",
    "\n",
    "# Koneksi ke database (akan membuat file baru jika belum ada)\n",
    "conn = sqlite3.connect(\"company.db\")\n",
    "cursor = conn.cursor()\n",
    "\n",
    "print(\"Koneksi database berhasil!\")"
   ]
  },
  {
   "cell_type": "markdown",
   "id": "e3c74848",
   "metadata": {},
   "source": [
    "### 2. Membuat Tabel"
   ]
  },
  {
   "cell_type": "code",
   "execution_count": null,
   "id": "6d797efc",
   "metadata": {},
   "outputs": [
    {
     "name": "stdout",
     "output_type": "stream",
     "text": [
      "Tabel berhasil dibuat!\n"
     ]
    }
   ],
   "source": [
    "# Buat tabel employees\n",
    "cursor.execute('''\n",
    "CREATE TABLE IF NOT EXISTS employees (\n",
    "    id INTEGER PRIMARY KEY AUTOINCREMENT,\n",
    "    name TEXT NOT NULL,\n",
    "    age INTEGER,\n",
    "    department TEXT\n",
    ")\n",
    "''')\n",
    "\n",
    "# Buat tabel departments\n",
    "cursor.execute('''\n",
    "CREATE TABLE IF NOT EXISTS departments (\n",
    "    dept_id INTEGER PRIMARY KEY AUTOINCREMENT,\n",
    "    dept_name TEXT NOT NULL\n",
    ")\n",
    "''')\n",
    "\n",
    "# memastikan database nya terjadi suatu perubahan\n",
    "conn.commit()\n",
    "print(\"Tabel berhasil dibuat!\")"
   ]
  },
  {
   "cell_type": "code",
   "execution_count": 3,
   "id": "a52e7f65",
   "metadata": {},
   "outputs": [
    {
     "name": "stdout",
     "output_type": "stream",
     "text": [
      "(0, 'id', 'INTEGER', 0, None, 1)\n",
      "(1, 'name', 'TEXT', 1, None, 0)\n",
      "(2, 'age', 'INTEGER', 0, None, 0)\n",
      "(3, 'department', 'TEXT', 0, None, 0)\n"
     ]
    }
   ],
   "source": [
    "# buat cek tabel employess (strukturnya)\n",
    "cursor.execute(\"PRAGMA table_info(employees)\")\n",
    "for row in cursor.fetchall():\n",
    "    print(row)"
   ]
  },
  {
   "cell_type": "code",
   "execution_count": 4,
   "id": "f5e1836f",
   "metadata": {},
   "outputs": [
    {
     "name": "stdout",
     "output_type": "stream",
     "text": [
      "(0, 'dept_id', 'INTEGER', 0, None, 1)\n",
      "(1, 'dept_name', 'TEXT', 1, None, 0)\n"
     ]
    }
   ],
   "source": [
    "# cek tabel departemen (strukturnya)\n",
    "cursor.execute(\"PRAGMA table_info(departments)\")\n",
    "for row in cursor.fetchall():\n",
    "    print(row)"
   ]
  },
  {
   "cell_type": "markdown",
   "id": "195e8090",
   "metadata": {},
   "source": [
    "### 3. Memasukkan Data"
   ]
  },
  {
   "cell_type": "code",
   "execution_count": 5,
   "id": "e9892c7a",
   "metadata": {},
   "outputs": [
    {
     "name": "stdout",
     "output_type": "stream",
     "text": [
      "Data berhasil dimasukkan!\n"
     ]
    }
   ],
   "source": [
    "# Insert ke tabel employees\n",
    "employees_data = [\n",
    "    (\"Bayu\", 23, \"Software Engineer\"),\n",
    "    (\"Amel\", 22, \"Data Scientist\"),\n",
    "    (\"Pak Budi\", 18, \"Data Engineer\")\n",
    "]\n",
    "cursor.executemany(\"INSERT INTO employees (name, age, department) VALUES (?, ?, ?)\", employees_data)\n",
    "\n",
    "# Insert ke tabel departments\n",
    "departments_data = [\n",
    "    (\"Software Engineer\",),\n",
    "    (\"Data Science\",),\n",
    "    (\"UI/UX Design\",)\n",
    "]\n",
    "cursor.executemany(\"INSERT INTO departments (dept_name) VALUES (?)\", departments_data)\n",
    "\n",
    "conn.commit()\n",
    "print(\"Data berhasil dimasukkan!\")\n"
   ]
  },
  {
   "cell_type": "markdown",
   "id": "742f069f",
   "metadata": {},
   "source": [
    "### 4. Menampilkan Data"
   ]
  },
  {
   "cell_type": "code",
   "execution_count": null,
   "id": "76036461",
   "metadata": {},
   "outputs": [
    {
     "name": "stdout",
     "output_type": "stream",
     "text": [
      "(1, 'Bayu', 23, 'Software Engineer')\n",
      "(2, 'Amel', 22, 'Data Scientist')\n",
      "(3, 'Pak Budi', 18, 'Data Engineer')\n"
     ]
    }
   ],
   "source": [
    "# Lihat semua data employees\n",
    "#               tolong tampilin semua data dari tabel employees\n",
    "cursor.execute(\"SELECT * FROM employees\")\n",
    "# perulangan buat nampilin semua datanya yaitu data employees\n",
    "for row in cursor.fetchall():\n",
    "    print(row)"
   ]
  },
  {
   "cell_type": "code",
   "execution_count": 7,
   "id": "108cfa14",
   "metadata": {},
   "outputs": [
    {
     "name": "stdout",
     "output_type": "stream",
     "text": [
      "(1, 'Software Engineer')\n",
      "(2, 'Data Science')\n",
      "(3, 'UI/UX Design')\n"
     ]
    }
   ],
   "source": [
    "# Lihat semua data departments\n",
    "cursor.execute(\"SELECT * FROM departments\")\n",
    "for row in cursor.fetchall():\n",
    "    print(row)"
   ]
  },
  {
   "cell_type": "markdown",
   "id": "6baf9191",
   "metadata": {},
   "source": [
    "### 5. Mengupdate Data"
   ]
  },
  {
   "cell_type": "code",
   "execution_count": 9,
   "id": "bb839913",
   "metadata": {},
   "outputs": [],
   "source": [
    "# Update department Bayan\n",
    "cursor.execute(\"UPDATE employees SET department = ? WHERE name = ?\", (\"UI/UX Design\", \"Amel\"))\n",
    "conn.commit()"
   ]
  },
  {
   "cell_type": "code",
   "execution_count": 10,
   "id": "a51204e0",
   "metadata": {},
   "outputs": [
    {
     "name": "stdout",
     "output_type": "stream",
     "text": [
      "(1, 'Bayu', 23, 'Software Engineer')\n",
      "(2, 'Amel', 22, 'UI/UX Design')\n",
      "(3, 'Pak Budi', 18, 'Data Engineer')\n"
     ]
    }
   ],
   "source": [
    "# Lihat semua data employees\n",
    "cursor.execute(\"SELECT * FROM employees\")\n",
    "for row in cursor.fetchall():\n",
    "    print(row)"
   ]
  },
  {
   "cell_type": "markdown",
   "id": "58963a4c",
   "metadata": {},
   "source": [
    "### 6. Menghapus Data"
   ]
  },
  {
   "cell_type": "code",
   "execution_count": 11,
   "id": "bc1eca1e",
   "metadata": {},
   "outputs": [],
   "source": [
    "# Hapus 1 data\n",
    "# dia itu delete by id entah itu kolom name atau kolom departemen\n",
    "cursor.execute(\"DELETE FROM employees WHERE name = ?\", (\"Amel\",))\n",
    "conn.commit()"
   ]
  },
  {
   "cell_type": "code",
   "execution_count": 12,
   "id": "0369d1e6",
   "metadata": {},
   "outputs": [
    {
     "name": "stdout",
     "output_type": "stream",
     "text": [
      "(1, 'Bayu', 23, 'Software Engineer')\n",
      "(3, 'Pak Budi', 18, 'Data Engineer')\n"
     ]
    }
   ],
   "source": [
    "# Lihat semua data employees\n",
    "cursor.execute(\"SELECT * FROM employees\")\n",
    "for row in cursor.fetchall():\n",
    "    print(row)"
   ]
  },
  {
   "cell_type": "markdown",
   "id": "91ba1cd1",
   "metadata": {},
   "source": [
    "### 7. JOIN Table"
   ]
  },
  {
   "cell_type": "code",
   "execution_count": 13,
   "id": "01ef8ab3",
   "metadata": {},
   "outputs": [
    {
     "name": "stdout",
     "output_type": "stream",
     "text": [
      "('Bayu', 23, 'Software Engineer')\n",
      "('Pak Budi', 18, 'Data Science')\n"
     ]
    }
   ],
   "source": [
    "# Tambah kolom dept_id di employees (kalau belum ada)\n",
    "try:\n",
    "    cursor.execute(\"ALTER TABLE employees ADD COLUMN dept_id INTEGER\")\n",
    "except:\n",
    "    pass\n",
    "\n",
    "# Update dept_id berdasarkan department\n",
    "cursor.execute(\"UPDATE employees SET dept_id = 1 WHERE department = 'Software Engineer'\")\n",
    "cursor.execute(\"UPDATE employees SET dept_id = 2 WHERE department LIKE '%Data%'\")\n",
    "cursor.execute(\"UPDATE employees SET dept_id = 3 WHERE department LIKE '%UI/UX%'\")\n",
    "conn.commit()\n",
    "\n",
    "# INNNER JOIN\n",
    "cursor.execute('''\n",
    "SELECT e.name, e.age, d.dept_name\n",
    "FROM employees e\n",
    "INNER JOIN departments d ON e.dept_id = d.dept_id\n",
    "''')\n",
    "for row in cursor.fetchall():\n",
    "    print(row)"
   ]
  },
  {
   "cell_type": "code",
   "execution_count": 14,
   "id": "636b0f60",
   "metadata": {},
   "outputs": [],
   "source": [
    "# buat nutup koneksi database\n",
    "conn.close()"
   ]
  },
  {
   "cell_type": "markdown",
   "id": "4fb9ab9f",
   "metadata": {},
   "source": [
    "---"
   ]
  },
  {
   "cell_type": "markdown",
   "id": "e80393b6",
   "metadata": {},
   "source": [
    "## Latihan"
   ]
  },
  {
   "cell_type": "markdown",
   "id": "7564e72a",
   "metadata": {},
   "source": [
    "### Soal 1 – Membuat Database & Tabel\n",
    "\n",
    "Buat database bernama school.db.\n",
    "\n",
    "Di dalamnya, buat tabel students dengan struktur:\n",
    "\n",
    "| Kolom | Tipe Data | Keterangan                  |\n",
    "| ----- | --------- | --------------------------- |\n",
    "| id    | INTEGER   | Primary Key, Auto Increment |\n",
    "| name  | TEXT      | Tidak boleh kosong          |\n",
    "| age   | INTEGER   |                             |\n",
    "| major | TEXT      |                             |"
   ]
  },
  {
   "cell_type": "markdown",
   "id": "d7fa5a8d",
   "metadata": {},
   "source": [
    "### Soal 2 - Insert Data\n",
    "\n",
    "Masukkan 5 Data Mahasiswa berikut ke tabel students :\n",
    "\n",
    "| name  | age | major            |\n",
    "| ----- | --- | ---------------- |\n",
    "| Vanya | 23  | Computer Science |\n",
    "| Dani  | 22  | Data Science     |\n",
    "| Bayan | 18  | Information Sys  |\n",
    "| Dika  | 21  | Software Eng     |\n",
    "| Lala  | 20  | Cyber Security   |"
   ]
  },
  {
   "cell_type": "markdown",
   "id": "6a094c85",
   "metadata": {},
   "source": [
    "### Soal 3 - Menampilkan data\n",
    "\n",
    "Tampilkan semua data mahasiswa."
   ]
  },
  {
   "cell_type": "markdown",
   "id": "cade6314",
   "metadata": {},
   "source": [
    "### Soal 4 – Filter Data\n",
    "\n",
    "Tampilkan semua mahasiswa yang umur lebih dari 20."
   ]
  },
  {
   "cell_type": "markdown",
   "id": "ad9b697b",
   "metadata": {},
   "source": [
    "### Soal 5 – Update Data\n",
    "\n",
    "Ubah major mahasiswa bernama Bayan menjadi Data Engineering."
   ]
  },
  {
   "cell_type": "markdown",
   "id": "c66d1933",
   "metadata": {},
   "source": [
    "### Soal 6 – Delete Data\n",
    "\n",
    "Hapus data mahasiswa yang bernama Dika."
   ]
  },
  {
   "cell_type": "markdown",
   "id": "575cb251",
   "metadata": {},
   "source": [
    "### Soal 7 – Menampilkan Kolom Tertentu\n",
    "\n",
    "Tampilkan hanya kolom name dan major dari tabel students."
   ]
  },
  {
   "cell_type": "markdown",
   "id": "711fd715",
   "metadata": {},
   "source": [
    "### Soal 8 – Urutkan Data\n",
    "\n",
    "Tampilkan semua data mahasiswa diurutkan berdasarkan umur dari yang paling muda."
   ]
  },
  {
   "cell_type": "markdown",
   "id": "dfa46e8d",
   "metadata": {},
   "source": [
    "### Soal 9 – Pencarian\n",
    "\n",
    "Tampilkan semua mahasiswa yang major-nya mengandung kata Data."
   ]
  },
  {
   "cell_type": "markdown",
   "id": "b42f042c",
   "metadata": {},
   "source": [
    "### Soal 10 – Menghapus Tabel\n",
    "\n",
    "Hapus tabel students."
   ]
  },
  {
   "cell_type": "markdown",
   "id": "01ea2265",
   "metadata": {},
   "source": [
    "---"
   ]
  },
  {
   "cell_type": "markdown",
   "id": "a95b8b4b",
   "metadata": {},
   "source": [
    "### Jawab Latihan dibawah ini"
   ]
  },
  {
   "cell_type": "code",
   "execution_count": null,
   "id": "c7cf78d3",
   "metadata": {},
   "outputs": [],
   "source": [
    "# Code Your Answer Here\n"
   ]
  },
  {
   "cell_type": "markdown",
   "id": "b813bcd6",
   "metadata": {},
   "source": [
    "---"
   ]
  },
  {
   "cell_type": "markdown",
   "id": "04e5a6d4",
   "metadata": {},
   "source": [
    "### Kunci Jawaban"
   ]
  },
  {
   "cell_type": "code",
   "execution_count": null,
   "id": "879f1518",
   "metadata": {},
   "outputs": [],
   "source": [
    "import sqlite3\n",
    "\n",
    "# === Soal 1: Membuat Database & Tabel ===\n",
    "conn = sqlite3.connect(\"school.db\")\n",
    "cur = conn.cursor()\n",
    "\n",
    "cur.execute(\"\"\"\n",
    "CREATE TABLE IF NOT EXISTS students (\n",
    "    id INTEGER PRIMARY KEY AUTOINCREMENT,\n",
    "    name TEXT NOT NULL,\n",
    "    age INTEGER,\n",
    "    major TEXT\n",
    ")\n",
    "\"\"\")\n",
    "\n",
    "# === Soal 2: Insert Data ===\n",
    "students_data = [\n",
    "    ('Vanya', 23, 'Computer Science'),\n",
    "    ('Dani', 22, 'Data Science'),\n",
    "    ('Bayan', 18, 'Information Sys'),\n",
    "    ('Dika', 21, 'Software Eng'),\n",
    "    ('Lala', 20, 'Cyber Security')\n",
    "]\n",
    "\n",
    "cur.executemany(\"INSERT INTO students (name, age, major) VALUES (?, ?, ?)\", students_data)\n",
    "conn.commit()"
   ]
  },
  {
   "cell_type": "code",
   "execution_count": null,
   "id": "d611ff39",
   "metadata": {},
   "outputs": [],
   "source": [
    "# === Soal 3: Menampilkan Semua Data ===\n",
    "cur.execute(\"SELECT * FROM students\")\n",
    "print(\"Semua Data:\", cur.fetchall())"
   ]
  },
  {
   "cell_type": "code",
   "execution_count": null,
   "id": "1fac02be",
   "metadata": {},
   "outputs": [],
   "source": [
    "# === Soal 4: Filter Data ===\n",
    "cur.execute(\"SELECT * FROM students WHERE age > 20\")\n",
    "print(\"Umur > 20:\", cur.fetchall())"
   ]
  },
  {
   "cell_type": "code",
   "execution_count": null,
   "id": "bdfac242",
   "metadata": {},
   "outputs": [],
   "source": [
    "# === Soal 5: Update Data ===\n",
    "cur.execute(\"UPDATE students SET major = 'Data Engineering' WHERE name = 'Bayan'\")\n",
    "conn.commit()"
   ]
  },
  {
   "cell_type": "code",
   "execution_count": null,
   "id": "4087117f",
   "metadata": {},
   "outputs": [],
   "source": [
    "# === Soal 6: Delete Data ===\n",
    "cur.execute(\"DELETE FROM students WHERE name = 'Dika'\")\n",
    "conn.commit()"
   ]
  },
  {
   "cell_type": "code",
   "execution_count": null,
   "id": "e774b9c5",
   "metadata": {},
   "outputs": [],
   "source": [
    "# === Soal 7: Menampilkan Kolom Tertentu ===\n",
    "cur.execute(\"SELECT name, major FROM students\")\n",
    "print(\"Name & Major:\", cur.fetchall())"
   ]
  },
  {
   "cell_type": "code",
   "execution_count": null,
   "id": "4aa462e1",
   "metadata": {},
   "outputs": [],
   "source": [
    "# === Soal 8: Urutkan Data ===\n",
    "cur.execute(\"SELECT * FROM students ORDER BY age ASC\")\n",
    "print(\"Urut Umur:\", cur.fetchall())"
   ]
  },
  {
   "cell_type": "code",
   "execution_count": null,
   "id": "2b5e00fa",
   "metadata": {},
   "outputs": [],
   "source": [
    "# === Soal 9: Pencarian ===\n",
    "cur.execute(\"SELECT * FROM students WHERE major LIKE '%Data%'\")\n",
    "print(\"Major mengandung Data:\", cur.fetchall())"
   ]
  },
  {
   "cell_type": "code",
   "execution_count": null,
   "id": "f4c6dab9",
   "metadata": {},
   "outputs": [],
   "source": [
    "# === Soal 10: Menghapus Tabel ===\n",
    "cur.execute(\"DROP TABLE students\")\n",
    "conn.commit()"
   ]
  },
  {
   "cell_type": "code",
   "execution_count": null,
   "id": "7098b7a5",
   "metadata": {},
   "outputs": [],
   "source": [
    "cur.execute(\"SELECT * FROM students\")"
   ]
  },
  {
   "cell_type": "code",
   "execution_count": null,
   "id": "643c91b8",
   "metadata": {},
   "outputs": [],
   "source": [
    "# Tutup koneksi (Optional)\n",
    "conn.close()"
   ]
  }
 ],
 "metadata": {
  "kernelspec": {
   "display_name": "Python 3",
   "language": "python",
   "name": "python3"
  },
  "language_info": {
   "codemirror_mode": {
    "name": "ipython",
    "version": 3
   },
   "file_extension": ".py",
   "mimetype": "text/x-python",
   "name": "python",
   "nbconvert_exporter": "python",
   "pygments_lexer": "ipython3",
   "version": "3.13.0"
  }
 },
 "nbformat": 4,
 "nbformat_minor": 5
}
