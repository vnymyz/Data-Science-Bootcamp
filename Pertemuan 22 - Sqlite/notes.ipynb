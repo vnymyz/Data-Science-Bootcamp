{
 "cells": [
  {
   "cell_type": "code",
   "execution_count": null,
   "id": "80e023b5",
   "metadata": {},
   "outputs": [],
   "source": [
    "import sqlite3"
   ]
  },
  {
   "cell_type": "code",
   "execution_count": null,
   "id": "77eeaa94",
   "metadata": {},
   "outputs": [
    {
     "data": {
      "text/plain": [
       "<sqlite3.Connection at 0x298ddf91030>"
      ]
     },
     "metadata": {},
     "output_type": "display_data"
    }
   ],
   "source": [
    "# Connect to a SQLite Database\n",
    "connection = sqlite3.connect('example.db')\n",
    "connection"
   ]
  },
  {
   "cell_type": "code",
   "execution_count": null,
   "id": "2ae90817",
   "metadata": {},
   "outputs": [],
   "source": [
    "# membuat cursor biar kita bisa melakukan iterasi ke semua baris table\n",
    "cursor = connection.cursor()"
   ]
  },
  {
   "cell_type": "code",
   "execution_count": null,
   "id": "15ebfddb",
   "metadata": {},
   "outputs": [],
   "source": [
    "# membuat table\n",
    "cursor.execute('''\n",
    "Create Table If Not Exists employees(\n",
    "    id Integer Primary Key,\n",
    "    name Text Not Null,\n",
    "    age Integer,\n",
    "    department Text\n",
    "    )\n",
    "''')\n",
    "\n",
    "# Commit the changes\n",
    "connection.commit()"
   ]
  },
  {
   "cell_type": "code",
   "execution_count": null,
   "id": "bace218f",
   "metadata": {},
   "outputs": [
    {
     "name": "stdout",
     "output_type": "stream",
     "text": [
      "(0, 'id', 'INTEGER', 0, None, 1)\n",
      "(1, 'name', 'TEXT', 1, None, 0)\n",
      "(2, 'age', 'INTEGER', 0, None, 0)\n",
      "(3, 'department', 'TEXT', 0, None, 0)\n"
     ]
    }
   ],
   "source": [
    "# Lihat struktur tabel employ\n",
    "cursor.execute(\"PRAGMA table_info(employees)\")\n",
    "for row in cursor.fetchall():\n",
    "    print(row)"
   ]
  },
  {
   "cell_type": "code",
   "execution_count": null,
   "id": "bca0a3fb",
   "metadata": {},
   "outputs": [
    {
     "data": {
      "text/html": [
       "<div>\n",
       "<style scoped>\n",
       "    .dataframe tbody tr th:only-of-type {\n",
       "        vertical-align: middle;\n",
       "    }\n",
       "\n",
       "    .dataframe tbody tr th {\n",
       "        vertical-align: top;\n",
       "    }\n",
       "\n",
       "    .dataframe thead th {\n",
       "        text-align: right;\n",
       "    }\n",
       "</style>\n",
       "<table border=\"1\" class=\"dataframe\">\n",
       "  <thead>\n",
       "    <tr style=\"text-align: right;\">\n",
       "      <th></th>\n",
       "      <th>cid</th>\n",
       "      <th>name</th>\n",
       "      <th>type</th>\n",
       "      <th>notnull</th>\n",
       "      <th>dflt_value</th>\n",
       "      <th>pk</th>\n",
       "    </tr>\n",
       "  </thead>\n",
       "  <tbody>\n",
       "    <tr>\n",
       "      <th>0</th>\n",
       "      <td>0</td>\n",
       "      <td>id</td>\n",
       "      <td>INTEGER</td>\n",
       "      <td>0</td>\n",
       "      <td>None</td>\n",
       "      <td>1</td>\n",
       "    </tr>\n",
       "    <tr>\n",
       "      <th>1</th>\n",
       "      <td>1</td>\n",
       "      <td>name</td>\n",
       "      <td>TEXT</td>\n",
       "      <td>1</td>\n",
       "      <td>None</td>\n",
       "      <td>0</td>\n",
       "    </tr>\n",
       "    <tr>\n",
       "      <th>2</th>\n",
       "      <td>2</td>\n",
       "      <td>age</td>\n",
       "      <td>INTEGER</td>\n",
       "      <td>0</td>\n",
       "      <td>None</td>\n",
       "      <td>0</td>\n",
       "    </tr>\n",
       "    <tr>\n",
       "      <th>3</th>\n",
       "      <td>3</td>\n",
       "      <td>department</td>\n",
       "      <td>TEXT</td>\n",
       "      <td>0</td>\n",
       "      <td>None</td>\n",
       "      <td>0</td>\n",
       "    </tr>\n",
       "  </tbody>\n",
       "</table>\n",
       "</div>"
      ],
      "text/plain": [
       "   cid        name     type  notnull dflt_value  pk\n",
       "0    0          id  INTEGER        0       None   1\n",
       "1    1        name     TEXT        1       None   0\n",
       "2    2         age  INTEGER        0       None   0\n",
       "3    3  department     TEXT        0       None   0"
      ]
     },
     "metadata": {},
     "output_type": "display_data"
    }
   ],
   "source": [
    "# kalau mau nampilin isi data yang di insert dalam bentuk tabel\n",
    "import pandas as pd\n",
    "\n",
    "# Ambil struktur tabel\n",
    "cursor.execute(\"PRAGMA table_info(employees)\")\n",
    "columns = [\"cid\", \"name\", \"type\", \"notnull\", \"dflt_value\", \"pk\"]\n",
    "df = pd.DataFrame(cursor.fetchall(), columns=columns)\n",
    "\n",
    "df"
   ]
  },
  {
   "cell_type": "code",
   "execution_count": null,
   "id": "fd117cfd",
   "metadata": {},
   "outputs": [
    {
     "data": {
      "text/plain": [
       "<sqlite3.Cursor at 0x298de1c8840>"
      ]
     },
     "metadata": {},
     "output_type": "display_data"
    }
   ],
   "source": [
    "cursor.execute('''\n",
    "Select * from employees\n",
    "''')"
   ]
  },
  {
   "cell_type": "code",
   "execution_count": null,
   "id": "3de0af45",
   "metadata": {},
   "outputs": [],
   "source": [
    "# Insert data di dalam sqlite table\n",
    "cursor.execute('''\n",
    "    Insert Into employees(name, age, department) \n",
    "               values ('Vanya', 23, 'Software Engineer Instructor' )\n",
    "''')\n",
    "\n",
    "cursor.execute('''\n",
    "    Insert Into employees(name, age, department) \n",
    "               values ('Dani', 22, 'Data Scientist' )\n",
    "''')\n",
    "\n",
    "cursor.execute('''\n",
    "    Insert Into employees(name, age, department) \n",
    "               values ('Bayan', 18, 'Data Engineering' )\n",
    "''')\n",
    "\n",
    "# Commit Changes\n",
    "connection.commit()"
   ]
  },
  {
   "cell_type": "code",
   "execution_count": null,
   "id": "9d9f6049",
   "metadata": {},
   "outputs": [
    {
     "name": "stdout",
     "output_type": "stream",
     "text": [
      "(1, 'Vanya', 28, 'Software Engineer Instructor')\n",
      "(2, 'Dani', 22, 'Data Scientist')\n"
     ]
    }
   ],
   "source": [
    "# Query the data from the table\n",
    "cursor.execute('Select * from employees')\n",
    "rows= cursor.fetchall()\n",
    "\n",
    "# Print the queried data \n",
    "for row in rows:\n",
    "    print(row)"
   ]
  },
  {
   "cell_type": "code",
   "execution_count": null,
   "id": "95a0cbde",
   "metadata": {},
   "outputs": [],
   "source": [
    "# Update data in the table\n",
    "cursor.execute('''\n",
    "    Update employees\n",
    "               Set age = 28\n",
    "               Where name = \"Vanya\"\n",
    "''')\n",
    "\n",
    "connection.commit()"
   ]
  },
  {
   "cell_type": "code",
   "execution_count": null,
   "id": "b31dfe8d",
   "metadata": {},
   "outputs": [],
   "source": [
    "# Delete the data from the table \n",
    "cursor.execute('''\n",
    "    Delete from employees\n",
    "               Where name = \"Bayan\"\n",
    "\n",
    "''')\n",
    "\n",
    "connection.commit()"
   ]
  },
  {
   "cell_type": "markdown",
   "id": "626da3da",
   "metadata": {},
   "source": [
    "---"
   ]
  },
  {
   "cell_type": "markdown",
   "id": "e9fd2f59",
   "metadata": {},
   "source": [
    "### Sales data"
   ]
  },
  {
   "cell_type": "code",
   "execution_count": null,
   "id": "9658bee0",
   "metadata": {},
   "outputs": [],
   "source": [
    "# Menggunakan sqlite sales data\n",
    "connection = sqlite3.connect('sales_data.db')\n",
    "curs = connection.cursor()"
   ]
  },
  {
   "cell_type": "code",
   "execution_count": null,
   "id": "c542ea68",
   "metadata": {},
   "outputs": [],
   "source": [
    "# Membuat table buat database sales data\n",
    "curs.execute('''\n",
    "    CREATE TABLE IF NOT EXISTS sales (\n",
    "             id INTEGER PRIMARY KEY,\n",
    "             date TEXT NOT NULL,\n",
    "             product TEXT NOT NULL,\n",
    "             sales INTEGER,\n",
    "             region TEXT\n",
    "             )\n",
    "''')\n",
    "\n",
    "# Insert beberapa data dalam table sales\n",
    "sales_data = [\n",
    "    ('2023-01-01', 'Product1', 100, 'North'),\n",
    "    ('2023-01-02', 'Product2', 200, 'South'),\n",
    "    ('2023-01-03', 'Product1', 150, 'East'),\n",
    "    ('2023-01-04', 'Product3', 250, 'West'),\n",
    "    ('2023-01-05', 'Product2', 300, 'North')\n",
    "]\n",
    "\n",
    "# insert all data \n",
    "curs.executemany('''\n",
    "    INSERT INTO sales(date, product, sales, region)\n",
    "                 values (?,?,?,?)\n",
    "''', sales_data)\n",
    "\n",
    "connection.commit()"
   ]
  },
  {
   "cell_type": "code",
   "execution_count": null,
   "id": "4e4db8ca",
   "metadata": {},
   "outputs": [
    {
     "name": "stdout",
     "output_type": "stream",
     "text": [
      "(1, '2023-01-01', 'Product1', 100, 'North')\n",
      "(2, '2023-01-02', 'Product2', 200, 'South')\n",
      "(3, '2023-01-03', 'Product1', 150, 'East')\n",
      "(4, '2023-01-04', 'Product3', 250, 'West')\n",
      "(5, '2023-01-05', 'Product2', 300, 'North')\n"
     ]
    }
   ],
   "source": [
    "# Query the data from the table\n",
    "curs.execute('Select * from sales')\n",
    "rows= curs.fetchall()\n",
    "\n",
    "# Print the queried data \n",
    "for row in rows:\n",
    "    print(row)"
   ]
  },
  {
   "cell_type": "code",
   "execution_count": null,
   "id": "03cb6cf6",
   "metadata": {},
   "outputs": [],
   "source": [
    "# Close the connection jadi endak dapet akses database\n",
    "connection.close()"
   ]
  },
  {
   "cell_type": "code",
   "execution_count": null,
   "id": "a2a3202c",
   "metadata": {},
   "outputs": [
    {
     "ename": "ProgrammingError",
     "evalue": "Cannot operate on a closed database.",
     "output_type": "error",
     "traceback": [
      "\u001b[31m---------------------------------------------------------------------------\u001b[39m\n",
      "\u001b[31mProgrammingError\u001b[39m                          Traceback (most recent call last)\n",
      "\u001b[36mCell\u001b[39m\u001b[36m \u001b[39m\u001b[32mIn[23]\u001b[39m\u001b[32m, line 2\u001b[39m\n",
      "\u001b[32m      1\u001b[39m \u001b[38;5;66;03m# Query the data from the table\u001b[39;00m\n",
      "\u001b[32m----> \u001b[39m\u001b[32m2\u001b[39m \u001b[43mcurs\u001b[49m\u001b[43m.\u001b[49m\u001b[43mexecute\u001b[49m\u001b[43m(\u001b[49m\u001b[33;43m'\u001b[39;49m\u001b[33;43mSelect * from sales\u001b[39;49m\u001b[33;43m'\u001b[39;49m\u001b[43m)\u001b[49m\n",
      "\u001b[32m      3\u001b[39m rows= curs.fetchall()\n",
      "\u001b[32m      5\u001b[39m \u001b[38;5;66;03m# Print the queried data \u001b[39;00m\n",
      "\n",
      "\u001b[31mProgrammingError\u001b[39m: Cannot operate on a closed database."
     ]
    }
   ],
   "source": [
    "# Query the data from the table\n",
    "curs.execute('Select * from sales')\n",
    "rows= curs.fetchall()\n",
    "\n",
    "# Print the queried data \n",
    "for row in rows:\n",
    "    print(row)"
   ]
  }
 ],
 "metadata": {
  "language_info": {
   "name": "python"
  }
 },
 "nbformat": 4,
 "nbformat_minor": 5
}
