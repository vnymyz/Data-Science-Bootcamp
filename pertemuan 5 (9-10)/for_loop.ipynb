{
 "cells": [
  {
   "cell_type": "markdown",
   "id": "78a486a4",
   "metadata": {},
   "source": [
    "# Pertemuan 5\n",
    "\n",
    "************************\n",
    "\n",
    "## Conditional Programming (Looping for)\n",
    "\n",
    "*************************\n",
    "\n",
    "### 1. Looping For"
   ]
  },
  {
   "cell_type": "markdown",
   "id": "65504c48",
   "metadata": {},
   "source": [
    "For looping adalah perulangan yang menjalankan beberapa blok kode dengan ketentuan yang sudah ditetapkan.\n",
    "\n",
    "Gunakan for disaat kita mengetahui berapa kali ingin mengulang. Sedangkan while jalan dulu baru kondisi di akhir."
   ]
  },
  {
   "cell_type": "markdown",
   "id": "0d86ce90",
   "metadata": {},
   "source": [
    "**Struktur Program For Loop**\n",
    "```Python\n",
    "for variabel in urutan:\n",
    "    # blok kode yang diulang\n",
    "```\n",
    "\n",
    "**Penjelasan:**\n",
    "\n",
    "* variabel → nama variabel yang akan menyimpan tiap nilai sementara dalam urutan\n",
    "\n",
    "* urutan → bisa berupa range(), list, string, atau data iterable lainnya\n",
    "\n",
    "* Blok kode di dalam for akan diulang sebanyak elemen dalam urutan tersebut"
   ]
  },
  {
   "cell_type": "markdown",
   "id": "fdd2ef8a",
   "metadata": {},
   "source": [
    "| Tipe `for` Loop           | Digunakan Saat...                   |\n",
    "| ------------------------- | ----------------------------------- |\n",
    "| `for i in range()`        | Perulangan berdasarkan jumlah angka |\n",
    "| `for item in list/tuple`  | Menelusuri isi koleksi              |\n",
    "| `for char in string`      | Mengulang tiap huruf                |\n",
    "| `for key, value in dict`  | Iterasi key dan value               |\n",
    "| `for i, v in enumerate()` | Dapatkan index dan item             |\n",
    "| Nested loop               | Pola, kombinasi, baris x kolom      |\n"
   ]
  },
  {
   "cell_type": "markdown",
   "id": "e4273192",
   "metadata": {},
   "source": [
    "| Aspek                    | `for` loop                                       | `while` loop                                       |\n",
    "| ------------------------ | ------------------------------------------------ | -------------------------------------------------- |\n",
    "| **Digunakan saat**       | Jumlah perulangan **sudah diketahui**            | Jumlah perulangan **belum pasti / dinamis**        |\n",
    "| **Struktur**             | `for variabel in urutan:`                        | `while kondisi:`                                   |\n",
    "| **Berdasarkan**          | **urutan / iterable** (list, range, string, dsb) | **kondisi** (True/False)                           |\n",
    "| **Kontrol perulangan**   | Otomatis (lewat range, list, dst)                | Harus update variabel manual agar kondisi berhenti |\n",
    "| **Risiko infinite loop** | Kecil (karena otomatis selesai)                  | Lebih tinggi (kalau lupa update kondisi)           |\n"
   ]
  },
  {
   "cell_type": "code",
   "execution_count": null,
   "id": "12992a7c",
   "metadata": {},
   "outputs": [],
   "source": [
    "# perulangan sederhana\n",
    "for i in range(5):\n",
    "    print(i)\n"
   ]
  },
  {
   "cell_type": "code",
   "execution_count": null,
   "id": "11352c72",
   "metadata": {},
   "outputs": [],
   "source": [
    "# FOR LOOP LIST\n",
    "buah = [\"apel\", \"jeruk\", \"pisang\", \"Mangga\", \"Buah naga\", \"Markisa\", \"Terong belanda\", \"tomat\"]\n",
    "for list in buah:\n",
    "    print(list)\n",
    "    print(\"============\")\n",
    "    print(f\"Saya suka {list}\\n\")"
   ]
  },
  {
   "cell_type": "code",
   "execution_count": null,
   "id": "e5584c51",
   "metadata": {},
   "outputs": [],
   "source": [
    "# FOR LOOP STRING\n",
    "\n",
    "# perulangan huruf atau string\n",
    "for huruf in \"Python Data Science\":\n",
    "    print(huruf)"
   ]
  },
  {
   "cell_type": "code",
   "execution_count": null,
   "id": "e0f9e523",
   "metadata": {},
   "outputs": [],
   "source": [
    "# FOR LOOP STRING\n",
    "\n",
    "kartu_kredit = \"1234-5678-9012-3456\"\n",
    "\n",
    "for x in reversed(kartu_kredit):\n",
    "    print(x)"
   ]
  },
  {
   "cell_type": "markdown",
   "id": "dc2c92e5",
   "metadata": {},
   "source": [
    "#### 1.2 For in range"
   ]
  },
  {
   "cell_type": "code",
   "execution_count": null,
   "id": "cd4bf125",
   "metadata": {},
   "outputs": [],
   "source": [
    "# perulangan for range\n",
    "for x in range(0, 11):\n",
    "    print(x)\n",
    "\n",
    "print(\"Ini adalah looping\")"
   ]
  },
  {
   "cell_type": "code",
   "execution_count": null,
   "id": "a92a66cd",
   "metadata": {},
   "outputs": [],
   "source": [
    "for x in range(1, 21):\n",
    "    if x == 13:\n",
    "        # continue\n",
    "        break\n",
    "    else:\n",
    "        print(x)"
   ]
  },
  {
   "cell_type": "code",
   "execution_count": null,
   "id": "1b8683c9",
   "metadata": {},
   "outputs": [],
   "source": [
    "# Program tabel perkalian\n",
    "angka = int(input(\"Masukkan angka: \"))\n",
    "\n",
    "for i in range(1, 11):\n",
    "    print(f\"{angka} x {i} = {angka * i}\")\n"
   ]
  },
  {
   "cell_type": "code",
   "execution_count": null,
   "id": "5974d05a",
   "metadata": {},
   "outputs": [],
   "source": [
    "# Program bentuk segitiga\n",
    "tinggi = 5\n",
    "for i in range(1, tinggi + 1):\n",
    "    print(\"*\" * i)\n"
   ]
  },
  {
   "cell_type": "code",
   "execution_count": null,
   "id": "842ffbdf",
   "metadata": {},
   "outputs": [],
   "source": [
    "# menggunakan perintah reversed\n",
    "for x in reversed(range(0, 5)):\n",
    "    print(x)\n",
    "\n",
    "print(\"Looping ini terbalik\")"
   ]
  },
  {
   "cell_type": "code",
   "execution_count": null,
   "id": "bed11aa6",
   "metadata": {},
   "outputs": [],
   "source": [
    "# Program Ganjil Genap\n",
    "for i in range(1, 11):\n",
    "    if i % 2 == 0:\n",
    "        print(f\"{i} adalah genap\")\n",
    "    else:\n",
    "        print(f\"{i} adalah ganjil\")"
   ]
  },
  {
   "cell_type": "markdown",
   "id": "67528599",
   "metadata": {},
   "source": [
    "#### 1.3 For loop (Start, Stop, Step)\n",
    "\n",
    "termasuk perulangan terkontrol. Struktur nya :\n",
    "\n",
    "```Pyhton\n",
    "range(start, stop, step)\n",
    "```\n",
    "Penjelasan :\n",
    "\n",
    "start → nilai awal perulangan (default: 0)\n",
    "\n",
    "stop → batas akhir (tidak termasuk) atau kapan berhenti nya\n",
    "\n",
    "step → loncatan / selisih antar nilai (default: 1)\n"
   ]
  },
  {
   "cell_type": "code",
   "execution_count": null,
   "id": "7aad96eb",
   "metadata": {},
   "outputs": [],
   "source": [
    "for x in range(0, 10, 1):\n",
    "    print(x)"
   ]
  },
  {
   "cell_type": "code",
   "execution_count": null,
   "id": "11382a50",
   "metadata": {},
   "outputs": [],
   "source": [
    "for x in range(5, 0, 1):\n",
    "    print(x)"
   ]
  },
  {
   "cell_type": "code",
   "execution_count": null,
   "id": "eeae96a9",
   "metadata": {},
   "outputs": [],
   "source": [
    "# program hitung mundur atau countdown\n",
    "import time\n",
    "\n",
    "waktu_saya = int(input(\"Masukkan waktu dalam detik\"))\n",
    "\n",
    "# for x in range(0, waktu_saya):\n",
    "for x in range(waktu_saya, 0, -1):\n",
    "    detik = x % 60 \n",
    "    menit = int(x / 60) % 60\n",
    "    jam = int(x / 3600)\n",
    "    print(f\"{jam:02}:{menit:02}:{detik:02}\")\n",
    "    time.sleep(1)\n",
    "\n",
    "print(\"Waktu habis\")"
   ]
  },
  {
   "cell_type": "markdown",
   "id": "16557d96",
   "metadata": {},
   "source": [
    "#### 1.4 For loop Dictionary"
   ]
  },
  {
   "cell_type": "code",
   "execution_count": null,
   "id": "932fdf84",
   "metadata": {},
   "outputs": [],
   "source": [
    "# Data siswa berupa dictionary\n",
    "siswa = {\n",
    "    \"nama\": \"Budi\",\n",
    "    \"umur\": 21,\n",
    "    \"jurusan\": \"Teknik Informatika\"\n",
    "}\n",
    "\n",
    "# Menelusuri key dan value\n",
    "for k, v in siswa.items():\n",
    "    print(f\"{k}: {v}\")\n"
   ]
  },
  {
   "cell_type": "code",
   "execution_count": null,
   "id": "b97925ab",
   "metadata": {},
   "outputs": [],
   "source": [
    "# Nested Loop Dictionary\n",
    "data_siswa = [\n",
    "    {\"nama\": \"Budi\", \"umur\": 21, \"jurusan\": \"Teknik Informatika\"},\n",
    "    {\"nama\": \"Ani\", \"umur\": 22, \"jurusan\": \"Sistem Informasi\"},\n",
    "    {\"nama\": \"Cici\", \"umur\": 20, \"jurusan\": \"Teknik Komputer\"}\n",
    "]\n",
    "\n",
    "# Menelusuri seluruh data\n",
    "for index, siswa in enumerate(data_siswa, start=1):\n",
    "    print(f\"\\nData Siswa {index}:\")\n",
    "    for key, value in siswa.items():\n",
    "        print(f\"{key.capitalize()}: {value}\")\n"
   ]
  },
  {
   "cell_type": "markdown",
   "id": "ea18882f",
   "metadata": {},
   "source": [
    "#### 1.5 For Loop Enumerate"
   ]
  },
  {
   "cell_type": "markdown",
   "id": "222040e7",
   "metadata": {},
   "source": [
    "**Apa Itu enumerate ?**\n",
    "\n",
    "**Enumerate()** adalah fungsi bawaan (built-in function) di Python yang digunakan untuk mengulang (loop) sebuah iterable sambil mendapatkan index-nya secara otomatis.\n",
    "\n",
    "**Enumerate** itu memberi nomor pada isi list pada saat for loop.\n",
    "\n",
    "Struktur Dasar nya :\n",
    "\n",
    "```python\n",
    "for index, value in enumerate(iterable):\n",
    "    # kode di sini\n",
    "```"
   ]
  },
  {
   "cell_type": "code",
   "execution_count": null,
   "id": "e969d504",
   "metadata": {},
   "outputs": [],
   "source": [
    "buah = [\"apel\", \"jeruk\", \"mangga\"]\n",
    "\n",
    "for i, nama in enumerate(buah):\n",
    "    print(f\"{i}. {nama}\")"
   ]
  },
  {
   "cell_type": "code",
   "execution_count": null,
   "id": "c4214054",
   "metadata": {},
   "outputs": [],
   "source": [
    "# List mata pelajaran\n",
    "mapel = [\"Matematika\", \"Biologi\", \"Pemrograman\", \"Fisika\"]\n",
    "\n",
    "# Loop dengan index\n",
    "for index, nama in enumerate(mapel):\n",
    "    print(f\"{index + 1}. {nama}\")"
   ]
  },
  {
   "cell_type": "code",
   "execution_count": null,
   "id": "534291ea",
   "metadata": {},
   "outputs": [],
   "source": [
    "for i, pelajaran in enumerate(mapel, start=1):\n",
    "    print(f\"{i}. {pelajaran}\")\n"
   ]
  },
  {
   "cell_type": "code",
   "execution_count": null,
   "id": "e8033b15",
   "metadata": {},
   "outputs": [],
   "source": [
    "menu = [\"Nasi Goreng\", \"Mie Ayam\", \"Sate Ayam\"]\n",
    "\n",
    "print(\"Menu Hari Ini:\")\n",
    "for i, makanan in enumerate(menu, start=1):\n",
    "    print(f\"{i}. {makanan}\")\n",
    "\n",
    "pilihan = int(input(\"Pilih menu nomor berapa? \"))\n",
    "\n",
    "if 1 <= pilihan <= len(menu):\n",
    "    print(f\"Kamu memilih: {menu[pilihan - 1]}\")\n",
    "else:\n",
    "    print(\"Pilihan tidak valid.\")\n",
    "\n"
   ]
  },
  {
   "cell_type": "markdown",
   "id": "c3c31042",
   "metadata": {},
   "source": [
    "****************************"
   ]
  },
  {
   "cell_type": "markdown",
   "id": "e9e6b9e3",
   "metadata": {},
   "source": [
    "### 2. Nested Loop For\n",
    "\n",
    "Nested loop adalah loop bersarang yang terdiri dari outer loop dan inner loop.\n",
    "\n",
    "Digunakan untuk : \n",
    "\n",
    "* Matriks\n",
    "\n",
    "* Tabel\n",
    "\n",
    "* Pola bintang\n",
    "\n",
    "* Loop dalam loop (misalnya: baris dan kolom)\n",
    "\n",
    "**Contoh bentuk nya :**\n",
    "\n",
    "```python\n",
    "outer loop:\n",
    "    inner loop:\n",
    "```"
   ]
  },
  {
   "cell_type": "code",
   "execution_count": null,
   "id": "827090c8",
   "metadata": {},
   "outputs": [],
   "source": [
    "# looping angka satu baris\n",
    "for x in range(1, 10):\n",
    "    print(x, end=\" \")"
   ]
  },
  {
   "cell_type": "code",
   "execution_count": null,
   "id": "3818a344",
   "metadata": {},
   "outputs": [],
   "source": [
    "# outer loop\n",
    "for x in range(3):\n",
    "    # inner loop\n",
    "    for y in range(1, 10):\n",
    "        print(y, end=\" \")\n",
    "    print()"
   ]
  },
  {
   "cell_type": "code",
   "execution_count": null,
   "id": "8d044c87",
   "metadata": {},
   "outputs": [],
   "source": [
    "# PROGRAM BARIS DAN KOLOM\n",
    "baris = int(input(\"masukkan angka untuk baris: \"))\n",
    "kolom = int(input(\"masukkan angka untuk kolom: \"))\n",
    "simbol = input(\"masukkan simbol yang digunakan: \")\n",
    "\n",
    "# outer loop\n",
    "for x in range(baris):\n",
    "    # inner loop\n",
    "    for y in range(kolom):\n",
    "        print(simbol, end=\"\")\n",
    "    \n",
    "    print()"
   ]
  },
  {
   "cell_type": "code",
   "execution_count": null,
   "id": "acfe397c",
   "metadata": {},
   "outputs": [],
   "source": [
    "# Program Jumlah rata2 kelas siswa\n",
    "\n",
    "# Input jumlah siswa\n",
    "jumlah_siswa = int(input(\"Masukkan jumlah siswa: \"))\n",
    "daftar_nilai = []\n",
    "\n",
    "# Input nilai menggunakan for loop\n",
    "for i in range(1, jumlah_siswa + 1):\n",
    "    nilai = float(input(f\"Masukkan nilai siswa ke-{i}: \"))\n",
    "    daftar_nilai.append(nilai)\n",
    "\n",
    "# Tampilkan nilai tiap siswa\n",
    "print(\"\\nDaftar Nilai Siswa:\")\n",
    "for index, nilai in enumerate(daftar_nilai, start=1):\n",
    "    print(f\"Siswa {index}: {nilai}\")\n",
    "\n",
    "# Hitung rata-rata\n",
    "rata_rata = sum(daftar_nilai) / jumlah_siswa\n",
    "print(f\"\\nRata-rata nilai kelas: {rata_rata:.2f}\")\n"
   ]
  },
  {
   "cell_type": "code",
   "execution_count": null,
   "id": "449a82bd",
   "metadata": {},
   "outputs": [],
   "source": [
    "# PROGRAM MATRIKS\n",
    "\n",
    "# Input ukuran matriks\n",
    "baris = int(input(\"Masukkan jumlah baris: \"))\n",
    "kolom = int(input(\"Masukkan jumlah kolom: \"))\n",
    "\n",
    "# Buat matriks kosong\n",
    "matriks = []\n",
    "\n",
    "# Input elemen matriks\n",
    "print(\"\\nMasukkan elemen matriks:\")\n",
    "for i in range(baris):\n",
    "    baris_data = []\n",
    "    for j in range(kolom):\n",
    "        nilai = int(input(f\"Elemen [{i}][{j}]: \"))\n",
    "        baris_data.append(nilai)\n",
    "    matriks.append(baris_data)\n",
    "\n",
    "# Tampilkan matriks\n",
    "print(\"\\n🧾 Matriks yang diinput:\")\n",
    "for i in range(baris):\n",
    "    for j in range(kolom):\n",
    "        print(matriks[i][j], end=\"\\t\")\n",
    "    print()\n"
   ]
  },
  {
   "cell_type": "code",
   "execution_count": null,
   "id": "c4614b3b",
   "metadata": {},
   "outputs": [],
   "source": [
    "# Program Gudang Sederhana untuk Menampilkan Lokasi Barang\n",
    "# Dibuat dengan nested loop 3 tingkat (rak, baris, kolom)\n",
    "\n",
    "# Input dari pengguna untuk menentukan ukuran gudang\n",
    "rak = int(input(\"Masukkan jumlah rak: \"))       # Input jumlah rak (tinggi)\n",
    "baris = int(input(\"Masukkan jumlah baris: \"))   # Input jumlah baris (maju-mundur)\n",
    "kolom = int(input(\"Masukkan jumlah kolom: \"))   # Input jumlah kolom (kiri-kanan)\n",
    "\n",
    "print(\"\\n Lokasi Barang di Gudang:\\n\")\n",
    "\n",
    "# Perulangan pertama: untuk setiap rak\n",
    "for r in range(1, rak + 1):  \n",
    "    \n",
    "    for b in range(1, baris + 1):\n",
    "        \n",
    "        for k in range(1, kolom + 1):\n",
    "           \n",
    "            print(f\"Rak-{r} | Baris-{b} | Kolom-{k}\")\n",
    "\n",
    "# +1 ini agar loop mencakup angka terakhir\n"
   ]
  }
 ],
 "metadata": {
  "kernelspec": {
   "display_name": "Python 3",
   "language": "python",
   "name": "python3"
  },
  "language_info": {
   "codemirror_mode": {
    "name": "ipython",
    "version": 3
   },
   "file_extension": ".py",
   "mimetype": "text/x-python",
   "name": "python",
   "nbconvert_exporter": "python",
   "pygments_lexer": "ipython3",
   "version": "3.10.6"
  }
 },
 "nbformat": 4,
 "nbformat_minor": 5
}
