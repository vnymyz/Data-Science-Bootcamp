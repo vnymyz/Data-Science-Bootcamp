{
 "cells": [
  {
   "cell_type": "markdown",
   "id": "352333dc",
   "metadata": {},
   "source": [
    "## Ujian Akhir - Data Science Bootcamp\n",
    "\n",
    "\n",
    "##### Waktu Ujian : 3 Jam (180 Menit)\n",
    "\n",
    "---"
   ]
  },
  {
   "cell_type": "markdown",
   "id": "12b87125",
   "metadata": {},
   "source": [
    "# Part 1\n",
    "---"
   ]
  },
  {
   "cell_type": "markdown",
   "id": "7d65656b",
   "metadata": {},
   "source": [
    "## Python Coding : \n",
    "\n",
    "- Syntax Dasar\n",
    "\n",
    "- Tipe data dan Operasi\n",
    "\n",
    "- Conditional If Else\n",
    "\n",
    "- Looping While\n",
    "\n",
    "- Looping For\n",
    "\n",
    "- Try-except (Debugging)\n",
    "\n",
    "- Function\n",
    "\n",
    "- OOP Dasar\n",
    "---"
   ]
  },
  {
   "cell_type": "markdown",
   "id": "1089e4db",
   "metadata": {},
   "source": [
    "### 1. Pengenalan Python Syntax\n",
    "\n",
    "Soal:\n",
    "\n",
    "Tuliskan program Python sederhana untuk menampilkan teks berikut di layar:\n",
    "\n",
    "```css\n",
    "Hello, my name is [Nama Kamu]\n",
    "I am learning Python!\n",
    "```"
   ]
  },
  {
   "cell_type": "code",
   "execution_count": null,
   "id": "c8c7b075",
   "metadata": {},
   "outputs": [],
   "source": [
    "# Code Here"
   ]
  },
  {
   "cell_type": "markdown",
   "id": "42239b3f",
   "metadata": {},
   "source": [
    "### 2. Tipe Data dan Operasi Sederhana\n",
    "\n",
    "Soal :\n",
    "\n",
    "Buatlah 3 variabel:\n",
    "\n",
    "- name berisi nama kamu\n",
    "\n",
    "- age berisi umur kamu\n",
    "\n",
    "- is_student berisi nilai boolean True\n",
    "\n",
    "Kemudian tampilkan kalimat berikut menggunakan string formatting:\n",
    "\n",
    "```less\n",
    "My name is [name], I am [age] years old. Student: [is_student]\n",
    "```"
   ]
  },
  {
   "cell_type": "code",
   "execution_count": null,
   "id": "dc26a3b7",
   "metadata": {},
   "outputs": [],
   "source": [
    "# Code Here"
   ]
  },
  {
   "cell_type": "markdown",
   "id": "f5b11e34",
   "metadata": {},
   "source": [
    "### 3. Conditional Programming\n",
    "\n",
    "Soal :\n",
    "\n",
    "Buat program yang menerima input angka dari pengguna.\n",
    "\n",
    "- Jika angka lebih besar dari 0 → tampilkan \"Positive\",\n",
    "\n",
    "- jika sama dengan 0 → \"Zero\",\n",
    "\n",
    "- dan jika kurang dari 0 → \"Negative\"."
   ]
  },
  {
   "cell_type": "code",
   "execution_count": null,
   "id": "9684db5c",
   "metadata": {},
   "outputs": [],
   "source": [
    "# Code Here"
   ]
  },
  {
   "cell_type": "markdown",
   "id": "0f089359",
   "metadata": {},
   "source": [
    "### 4. Looping While\n",
    "\n",
    "Soal:\n",
    "\n",
    "Gunakan while loop untuk menampilkan angka dari 1 sampai 5."
   ]
  },
  {
   "cell_type": "code",
   "execution_count": null,
   "id": "8fdbd7e8",
   "metadata": {},
   "outputs": [],
   "source": [
    "# Code Here"
   ]
  },
  {
   "cell_type": "markdown",
   "id": "e04707c1",
   "metadata": {},
   "source": [
    "### 5. Looping For\n",
    "\n",
    "Soal :\n",
    "\n",
    "Gunakan for loop untuk menampilkan semua elemen dari list berikut :\n",
    "\n",
    "```python\n",
    "fruits = [\"apple\", \"banana\", \"cherry\"]\n",
    "```\n",
    "\n",
    "dan tampilkan setiap buah dengan format :\n",
    "\n",
    "```css\n",
    "I like [buah]\n",
    "```\n"
   ]
  },
  {
   "cell_type": "code",
   "execution_count": null,
   "id": "97df3acb",
   "metadata": {},
   "outputs": [],
   "source": [
    "# Code Here"
   ]
  },
  {
   "cell_type": "markdown",
   "id": "3db52b37",
   "metadata": {},
   "source": [
    "### 6. Debugging Try-Except\n",
    "\n",
    "Soal :\n",
    "\n",
    "- Buat program yang meminta pengguna memasukkan angka.\n",
    "\n",
    "- Tangani kesalahan jika pengguna memasukkan teks (bukan angka).\n",
    "\n",
    "- Tampilkan pesan \"Input harus berupa angka!\" jika terjadi error."
   ]
  },
  {
   "cell_type": "code",
   "execution_count": null,
   "id": "7f11de35",
   "metadata": {},
   "outputs": [],
   "source": [
    "# Code Here"
   ]
  },
  {
   "cell_type": "markdown",
   "id": "76868040",
   "metadata": {},
   "source": [
    "### 7. Python Function\n",
    "\n",
    "Soal:\n",
    "\n",
    "- Buat fungsi bernama add_numbers(a, b) yang mengembalikan hasil penjumlahan (+) a dan b.\n",
    "\n",
    "- Panggil fungsi tersebut dengan argumen 3 dan 5, lalu tampilkan hasilnya."
   ]
  },
  {
   "cell_type": "code",
   "execution_count": null,
   "id": "ccd3813c",
   "metadata": {},
   "outputs": [],
   "source": [
    "# Code Here"
   ]
  },
  {
   "cell_type": "markdown",
   "id": "7de94b66",
   "metadata": {},
   "source": [
    "### 8. Python OOP ( Class & Object )\n",
    "\n",
    "Soal :\n",
    "\n",
    "Buat class bernama Student dengan atribut :\n",
    "\n",
    "- name\n",
    "\n",
    "- age\n",
    "\n",
    "dan method show_info() yang menampilkan:\n",
    "\n",
    "```yaml\n",
    "Name: [name], Age: [age]\n",
    "```\n",
    "\n",
    "Kemudian buat object dari class tersebut dan panggil method-nya."
   ]
  },
  {
   "cell_type": "code",
   "execution_count": null,
   "id": "0f88a67c",
   "metadata": {},
   "outputs": [],
   "source": [
    "# Code Here"
   ]
  },
  {
   "cell_type": "markdown",
   "id": "2d40abf1",
   "metadata": {},
   "source": [
    "### 9. Program Kalkulator\n",
    "\n",
    "Buatlah program kalkulator sederhana dengan ketentuan berikut:\n",
    "\n",
    "- Program meminta pengguna memasukkan dua angka (a dan b).\n",
    "\n",
    "- Program meminta pengguna memilih operator (+, -, *, /).\n",
    "\n",
    "- Program menampilkan hasil perhitungannya sesuai operator yang dipilih.\n",
    "\n",
    "- Jika pengguna memasukkan operator yang tidak valid, tampilkan pesan \"Operator tidak dikenali\".\n",
    "\n",
    "- Jika pembagian dengan nol terjadi, tampilkan pesan \"Error: tidak bisa dibagi dengan nol\".\n",
    "\n",
    "- Gunakan try-except untuk menangani jika input bukan angka."
   ]
  },
  {
   "cell_type": "code",
   "execution_count": null,
   "id": "44060fe4",
   "metadata": {},
   "outputs": [],
   "source": [
    "# Code Here"
   ]
  },
  {
   "cell_type": "markdown",
   "id": "bd77c9b1",
   "metadata": {},
   "source": [
    "### 10. Program Nilai to Grade\n",
    "\n",
    "Buatlah program Python yang meminta pengguna memasukkan nilai akhir (0–100),\n",
    "lalu menampilkan grade huruf berdasarkan kriteria berikut:\n",
    "\n",
    "|  Nilai | Grade |\n",
    "| :----: | :---: |\n",
    "| 85–100 |   A   |\n",
    "|  70–84 |   B   |\n",
    "|  55–69 |   C   |\n",
    "|  40–54 |   D   |\n",
    "|  0–39  |   E   |\n",
    "\n",
    "**Ketentuan :**\n",
    "\n",
    "1. Jika nilai di luar rentang 0–100, tampilkan pesan \"Nilai tidak valid!\"\n",
    "\n",
    "2. Gunakan try-except agar program tidak error jika pengguna memasukkan selain angka.\n",
    "\n",
    "3. Gunakan struktur if-elif-else untuk menentukan grade."
   ]
  },
  {
   "cell_type": "code",
   "execution_count": null,
   "id": "2f892b6e",
   "metadata": {},
   "outputs": [],
   "source": [
    "# Code Here"
   ]
  },
  {
   "cell_type": "markdown",
   "id": "2f5a813e",
   "metadata": {},
   "source": [
    "---"
   ]
  },
  {
   "cell_type": "markdown",
   "id": "ac69a935",
   "metadata": {},
   "source": [
    "# Part 2\n",
    "---"
   ]
  },
  {
   "cell_type": "markdown",
   "id": "9d8ce402",
   "metadata": {},
   "source": [
    "## Data Analysis & Visualization :\n",
    "\n",
    "- Numpy\n",
    "\n",
    "- Pandas\n",
    "\n",
    "- Matplotlib\n",
    "\n",
    "- Seaborn\n",
    "\n",
    "---"
   ]
  },
  {
   "cell_type": "markdown",
   "id": "23a9421a",
   "metadata": {},
   "source": [
    "### Bagian 1 - Numpy\n",
    "\n",
    "1. Buat array NumPy berisi angka 1–10.\n",
    "\n",
    "- Tampilkan elemen ganjil saja.\n",
    "\n",
    "- Hitung rata-rata dari array tersebut.\n",
    "\n",
    "2. Buat array 3x3 berisi angka acak antara 0–9, lalu:\n",
    "\n",
    "- Tampilkan nilai maksimum dan minimumnya.\n",
    "\n",
    "- Hitung jumlah seluruh elemen.\n",
    "\n",
    "3. Buat fungsi NumPy yang mengalikan dua matriks 2x2."
   ]
  },
  {
   "cell_type": "code",
   "execution_count": null,
   "id": "8bda6b09",
   "metadata": {},
   "outputs": [],
   "source": [
    "# Nomor 1. Buat array NumPy berisi angka 1–10.\n"
   ]
  },
  {
   "cell_type": "code",
   "execution_count": null,
   "id": "644b905e",
   "metadata": {},
   "outputs": [],
   "source": [
    "# Nomor 2. Buat array 3x3 berisi angka acak antara 0–9.\n"
   ]
  },
  {
   "cell_type": "code",
   "execution_count": null,
   "id": "0dc25993",
   "metadata": {},
   "outputs": [],
   "source": [
    "# Nomor 3. Buat fungsi NumPy yang mengalikan dua matriks 2x2.\n"
   ]
  },
  {
   "cell_type": "markdown",
   "id": "1e1fa94a",
   "metadata": {},
   "source": [
    "### Bagian 2 - Pandas\n",
    "\n",
    "Disini Menggunakan Dataset Tips :"
   ]
  },
  {
   "cell_type": "code",
   "execution_count": null,
   "id": "042f2d36",
   "metadata": {},
   "outputs": [],
   "source": [
    "import seaborn as sns\n",
    "tips = sns.load_dataset(\"tips\")"
   ]
  },
  {
   "cell_type": "markdown",
   "id": "f4cf5444",
   "metadata": {},
   "source": [
    "#### Soal"
   ]
  },
  {
   "cell_type": "markdown",
   "id": "3be1269d",
   "metadata": {},
   "source": [
    "1. Tampilkan 5 data teratas dan tipe data tiap kolom.\n",
    "\n",
    "2. Hitung :\n",
    "\n",
    "- Total baris dan kolom.\n",
    "\n",
    "- Rata-rata total_bill dan tip.\n",
    "\n",
    "3. Tampilkan hanya kolom sex, day, dan total_bill.\n",
    "\n",
    "4. Tampilkan data dengan total_bill > 30.\n",
    "\n",
    "5. Hitung rata-rata tip berdasarkan day.\n",
    "\n",
    "6. Tambahkan kolom baru bernama tip_percent = (tip / total_bill) * 100.\n",
    "\n",
    "7. Simpan dataset baru ke file tips_clean.csv."
   ]
  },
  {
   "cell_type": "code",
   "execution_count": null,
   "id": "070f4a99",
   "metadata": {},
   "outputs": [],
   "source": [
    "# Nomor 1. Tampilkan 5 data teratas dan tipe data tiap kolom.\n"
   ]
  },
  {
   "cell_type": "code",
   "execution_count": null,
   "id": "5ad6f0de",
   "metadata": {},
   "outputs": [],
   "source": [
    "# Nomor 2. \n",
    "# Hitung:\n",
    "# Total baris dan kolom.\n",
    "# Rata-rata total_bill dan tip."
   ]
  },
  {
   "cell_type": "code",
   "execution_count": null,
   "id": "0ef02c73",
   "metadata": {},
   "outputs": [],
   "source": [
    "# Nomor 3. Tampilkan hanya kolom sex, day, dan total_bill."
   ]
  },
  {
   "cell_type": "code",
   "execution_count": null,
   "id": "52aa6b0d",
   "metadata": {},
   "outputs": [],
   "source": [
    "# Nomor 4 Tampilkan data dengan total_bill > 30."
   ]
  },
  {
   "cell_type": "code",
   "execution_count": null,
   "id": "1716c2b3",
   "metadata": {},
   "outputs": [],
   "source": [
    "# Nomor 5 Hitung rata-rata tip berdasarkan day.\n"
   ]
  },
  {
   "cell_type": "code",
   "execution_count": null,
   "id": "3c8e7c5e",
   "metadata": {},
   "outputs": [],
   "source": [
    "# Nomor 6. Tambahkan kolom baru bernama tip_percent = (tip / total_bill) * 100."
   ]
  },
  {
   "cell_type": "code",
   "execution_count": null,
   "id": "b58504ef",
   "metadata": {},
   "outputs": [],
   "source": [
    "# nomor 7 Simpan dataset baru ke file tips_clean.csv."
   ]
  },
  {
   "cell_type": "markdown",
   "id": "b6871038",
   "metadata": {},
   "source": [
    "### Bagian 3 - Data Visualisasi (Matplotlib & Seaborn)\n",
    "\n",
    "Gunakan dataset tips (setelah kamu bersihkan).\n",
    "\n",
    "1. Buat histogram distribusi total_bill menggunakan Matplotlib.\n",
    "\n",
    "2. Buat scatter plot antara total_bill dan tip.\n",
    "\n",
    "3. Buat bar plot rata-rata tip per day menggunakan Seaborn.\n",
    "\n",
    "4. Buat boxplot total_bill berdasarkan sex.\n",
    "\n",
    "5. Buat heatmap korelasi antar kolom numerik (sns.heatmap())."
   ]
  },
  {
   "cell_type": "code",
   "execution_count": null,
   "id": "73510657",
   "metadata": {},
   "outputs": [],
   "source": [
    "# import Library\n",
    "import matplotlib.pyplot as plt\n",
    "import seaborn as sns"
   ]
  },
  {
   "cell_type": "code",
   "execution_count": null,
   "id": "eae1a8ab",
   "metadata": {},
   "outputs": [],
   "source": [
    "# 1. Buat histogram distribusi total_bill.\n"
   ]
  },
  {
   "cell_type": "code",
   "execution_count": null,
   "id": "c7703cee",
   "metadata": {},
   "outputs": [],
   "source": [
    "# Nomor 2. Buat scatter plot antara total_bill dan tip.\n"
   ]
  },
  {
   "cell_type": "code",
   "execution_count": null,
   "id": "8237aad6",
   "metadata": {},
   "outputs": [],
   "source": [
    "#  Nomor 3 Buat bar plot rata-rata tip per day.\n"
   ]
  },
  {
   "cell_type": "code",
   "execution_count": null,
   "id": "c3e2e563",
   "metadata": {},
   "outputs": [],
   "source": [
    "# Nomor 4 Buat boxplot total_bill berdasarkan sex.\n"
   ]
  },
  {
   "cell_type": "code",
   "execution_count": null,
   "id": "cb7fdf4a",
   "metadata": {},
   "outputs": [],
   "source": [
    "# Nomor 5 Buat heatmap korelasi antar kolom numerik.\n"
   ]
  },
  {
   "cell_type": "markdown",
   "id": "7c52a630",
   "metadata": {},
   "source": [
    "### Bagian 4 - Analisis Singkat (Opsional / Bonus)\n",
    "\n",
    "Berdasarkan visualisasi:\n",
    "\n",
    "1. Hari apa pelanggan memberi tip paling besar?\n",
    "\n",
    "2. Apakah gender berpengaruh terhadap jumlah tip?\n",
    "\n",
    "3. Adakah korelasi antara total_bill dan tip?"
   ]
  },
  {
   "cell_type": "markdown",
   "id": "50b81302",
   "metadata": {},
   "source": [
    "### Jawaban Bagian 4\n",
    "\n",
    "Isi jawaban disini :"
   ]
  },
  {
   "cell_type": "markdown",
   "id": "09cbcfa5",
   "metadata": {},
   "source": [
    "---"
   ]
  },
  {
   "cell_type": "markdown",
   "id": "e0d1e854",
   "metadata": {},
   "source": [
    "# Part 3\n",
    "---"
   ]
  },
  {
   "cell_type": "markdown",
   "id": "4a68f7ca",
   "metadata": {},
   "source": [
    "## Machine Learning (Decision Tree + Titanic Dataset)\n",
    "---\n"
   ]
  },
  {
   "cell_type": "markdown",
   "id": "522a8d30",
   "metadata": {},
   "source": [
    "### Petunjuk:\n",
    "\n",
    "Gunakan dataset Titanic dari seaborn.\n",
    "Tujuan kamu adalah membuat model Decision Tree Classifier\n",
    "untuk memprediksi siapa yang selamat (survived) dalam kecelakaan kapal Titanic.\n",
    "\n",
    "Kerjakan langkah-langkah berikut:"
   ]
  },
  {
   "cell_type": "markdown",
   "id": "be1d17bf",
   "metadata": {},
   "source": [
    "### Soal \n",
    "\n",
    "#### 1. Import Library\n",
    "\n",
    "- Import semua library yang diperlukan untuk analisis dan modeling:\n",
    "`pandas, seaborn, matplotlib, dan library dari sklearn.`"
   ]
  },
  {
   "cell_type": "markdown",
   "id": "11844a92",
   "metadata": {},
   "source": [
    "#### 2. Load Dataset\n",
    "- Gunakan `sns.load_dataset(\"titanic\")` untuk memuat dataset.\n",
    "\n",
    "- Tampilkan 5 data teratas."
   ]
  },
  {
   "cell_type": "markdown",
   "id": "fd5e84d5",
   "metadata": {},
   "source": [
    "#### 3. Pilih dan Bersihkan Data\n",
    "\n",
    "- Pilih kolom berikut saja:\n",
    "`['pclass', 'sex', 'age', 'fare', 'survived']`\n",
    "\n",
    "- Tangani missing value:\n",
    "\n",
    "    - Isi nilai kosong pada age dengan rata-rata usia.\n",
    "\n",
    "- Ubah kolom sex menjadi numerik:\n",
    "\n",
    "    - male = 0, female = 1."
   ]
  },
  {
   "cell_type": "markdown",
   "id": "11e6e4ec",
   "metadata": {},
   "source": [
    "#### 4. Pisahkan Data\n",
    "- Pisahkan fitur (X) dan target (y).\n",
    "\n",
    "    - X = ['pclass', 'sex', 'age', 'fare']\n",
    "\n",
    "    - y = 'survived'\n",
    "\n",
    "- Bagi dataset menjadi data training dan testing (80% : 20%)."
   ]
  },
  {
   "cell_type": "markdown",
   "id": "e9f5fd28",
   "metadata": {},
   "source": [
    "#### 5. Buat dan Latiha Model\n",
    "\n",
    "- Gunakan DecisionTreeClassifier dari sklearn.tree.\n",
    "\n",
    "- Latih model menggunakan data training.\n",
    "\n",
    "#### 6. Evaluasi Model\n",
    "\n",
    "- Lakukan prediksi pada data test.\n",
    "\n",
    "- Hitung dan tampilkan akurasi model.\n",
    "\n",
    "- Tampilkan confusion matrix menggunakan seaborn.heatmap."
   ]
  },
  {
   "cell_type": "markdown",
   "id": "006cf4d8",
   "metadata": {},
   "source": [
    "#### 7. Visualisasi Decision Tree\n",
    "\n",
    "- Gunakan plot_tree untuk menampilkan struktur decision tree.\n",
    "\n",
    "- Tambahkan label dan ukuran gambar agar mudah dibaca."
   ]
  },
  {
   "cell_type": "markdown",
   "id": "fc7e7ce3",
   "metadata": {},
   "source": [
    "#### 8. Interpretasi Singkat\n",
    "\n",
    "- Tuliskan 1–2 kalimat interpretasi hasil model (misal: “Penumpang wanita memiliki peluang lebih tinggi untuk selamat.”)"
   ]
  },
  {
   "cell_type": "code",
   "execution_count": null,
   "id": "fa0bc8e9",
   "metadata": {},
   "outputs": [],
   "source": [
    "# 1. Import Library\n",
    "import pandas as pd\n",
    "import seaborn as sns\n",
    "import matplotlib.pyplot as plt\n",
    "from sklearn.model_selection import train_test_split\n",
    "from sklearn.tree import DecisionTreeClassifier, plot_tree\n",
    "from sklearn.metrics import accuracy_score, confusion_matrix\n",
    "\n",
    "# 2. Load Dataset\n"
   ]
  },
  {
   "cell_type": "code",
   "execution_count": null,
   "id": "30eac859",
   "metadata": {},
   "outputs": [],
   "source": [
    "# 3. Pilih dan Bersihkan Data\n",
    "\n",
    "\n",
    "# Tangani missing value\n",
    "\n",
    "\n",
    "# Ubah kolom 'sex' jadi numerik\n",
    "\n",
    "\n",
    "# Pastikan tidak ada missing value tersisa\n"
   ]
  },
  {
   "cell_type": "code",
   "execution_count": null,
   "id": "c58ca2d8",
   "metadata": {},
   "outputs": [],
   "source": [
    "# 4. Pisahkan Data\n"
   ]
  },
  {
   "cell_type": "code",
   "execution_count": null,
   "id": "1a65bad3",
   "metadata": {},
   "outputs": [],
   "source": [
    "# 5. Buat dan Latih Model\n"
   ]
  },
  {
   "cell_type": "code",
   "execution_count": null,
   "id": "876dcf3a",
   "metadata": {},
   "outputs": [],
   "source": [
    "# 6. Evaluasi Model\n",
    "\n",
    "\n",
    "\n",
    "\n",
    "# Confusion Matrix\n"
   ]
  },
  {
   "cell_type": "code",
   "execution_count": null,
   "id": "525762cd",
   "metadata": {},
   "outputs": [],
   "source": [
    "# 7. Visualisasi Pohon Keputusan\n"
   ]
  },
  {
   "cell_type": "code",
   "execution_count": null,
   "id": "bbf80920",
   "metadata": {},
   "outputs": [],
   "source": [
    "# 8. Interpretasi Singkat\n"
   ]
  },
  {
   "cell_type": "markdown",
   "id": "a2b4d27d",
   "metadata": {},
   "source": [
    "---"
   ]
  },
  {
   "cell_type": "markdown",
   "id": "b241c4b4",
   "metadata": {},
   "source": [
    "# Part 4\n",
    "---"
   ]
  },
  {
   "cell_type": "markdown",
   "id": "40a6f0cb",
   "metadata": {},
   "source": [
    "## NLP ( Natural Language Processing) - Sentiment Analysis"
   ]
  },
  {
   "cell_type": "markdown",
   "id": "8657c713",
   "metadata": {},
   "source": [
    "---"
   ]
  },
  {
   "cell_type": "markdown",
   "id": "20d973e9",
   "metadata": {},
   "source": [
    "### Ujian Akhir Project Sentiment Analysis"
   ]
  },
  {
   "cell_type": "markdown",
   "id": "1e8b423a",
   "metadata": {},
   "source": [
    "Buatlah Project Sentiment Analysis dengan dataset berikut :\n",
    "\n",
    "https://www.kaggle.com/datasets/lakshmi25npathi/imdb-dataset-of-50k-movie-reviews\n",
    "\n",
    "berikut struktur file project nya (optional biar rapih aja ) :\n",
    "\n",
    "```arduino\n",
    "sentiment_imdb/\n",
    "│  \n",
    "├── data/\n",
    "│   └── imdb_reviews.csv      # dataset utama  \n",
    "│  \n",
    "├── notebooks/\n",
    "│   └── sentiment_analysis.ipynb  \n",
    "│  \n",
    "├── src/\n",
    "│   ├── preprocessing.py  \n",
    "│   ├── model.py  \n",
    "│   └── utils.py  \n",
    "│  \n",
    "├── outputs/\n",
    "│   ├── confusion_matrix.png  \n",
    "│   ├── classification_report.txt  \n",
    "│   ├── wordcloud_pos.png  \n",
    "│   └── wordcloud_neg.png  \n",
    "│  \n",
    "└── README.md\n",
    "```"
   ]
  },
  {
   "cell_type": "markdown",
   "id": "8585ac89",
   "metadata": {},
   "source": [
    "### Langkah Mengerjakan \n",
    "\n",
    "#### 1. Load dataset\n",
    "\n",
    "#### 2. Exploratory Data Analysis (EDA)\n",
    "\n",
    "- Cek distribusi label (positif vs negatif)\n",
    "\n",
    "- Lihat panjang review, contoh teks\n",
    "\n",
    "#### 3. Preprocessing teks\n",
    "\n",
    "- Lowercase\n",
    "\n",
    "- Hapus HTML tags\n",
    "\n",
    "- Hapus karakter non-alphabet\n",
    "\n",
    "- Tokenization\n",
    "\n",
    "- Hapus stopwords\n",
    "\n",
    "- (Opsional) Stemming / Lemmatization\n",
    "\n",
    "#### 4. Representasi fitur (Vectorization)\n",
    "\n",
    "- Bag of Words (CountVectorizer) atau\n",
    "\n",
    "- TF-IDF (TfidfVectorizer)\n",
    "\n",
    "#### 5. Bagi train & test set\n",
    "\n",
    "#### 6. Buat model klasifikasi\n",
    "\n",
    "- Logistic Regression atau Naive Bayes\n",
    "\n",
    "#### 7. Evaluasi model\n",
    "\n",
    "- Accuracy, Precision, Recall, F1-score\n",
    "\n",
    "- Confusion matrix\n",
    "\n",
    "#### 8. Visualisasi & interpretasi\n",
    "\n",
    "- WordCloud untuk review positif & negatif\n",
    "\n",
    "- Bar chart metrik\n",
    "\n",
    "- (Opsional) analisis kata paling penting\n",
    "\n",
    "#### 9. Kesimpulan & rekomendasi"
   ]
  },
  {
   "cell_type": "code",
   "execution_count": null,
   "id": "45cb65a3",
   "metadata": {},
   "outputs": [],
   "source": [
    "# 1. Import library\n",
    "import pandas as pd\n",
    "import numpy as np\n",
    "from sklearn.model_selection import train_test_split\n",
    "from sklearn.feature_extraction.text import CountVectorizer, TfidfVectorizer\n",
    "from sklearn.linear_model import LogisticRegression\n",
    "from sklearn.naive_bayes import MultinomialNB\n",
    "from sklearn.metrics import accuracy_score, classification_report, confusion_matrix\n",
    "import matplotlib.pyplot as plt\n",
    "import seaborn as sns\n",
    "from wordcloud import WordCloud\n",
    "import re\n",
    "import nltk\n",
    "from nltk.corpus import stopwords\n",
    "\n",
    "# Jika belum download stopwords"
   ]
  },
  {
   "cell_type": "code",
   "execution_count": null,
   "id": "f994f6c0",
   "metadata": {},
   "outputs": [],
   "source": [
    "# 2. Load dataset\n"
   ]
  },
  {
   "cell_type": "code",
   "execution_count": null,
   "id": "97a089ba",
   "metadata": {},
   "outputs": [],
   "source": [
    "# 3. EDA sederhana\n",
    "\n",
    "\n",
    "# Panjang review\n",
    "\n"
   ]
  },
  {
   "cell_type": "code",
   "execution_count": null,
   "id": "d16482be",
   "metadata": {},
   "outputs": [],
   "source": [
    "# 4. Preprocessing teks"
   ]
  },
  {
   "cell_type": "code",
   "execution_count": null,
   "id": "318b3f0b",
   "metadata": {},
   "outputs": [],
   "source": [
    "# 5. Representasi fitur\n"
   ]
  },
  {
   "cell_type": "code",
   "execution_count": null,
   "id": "89e07779",
   "metadata": {},
   "outputs": [],
   "source": [
    "# 6. Split data\n"
   ]
  },
  {
   "cell_type": "code",
   "execution_count": null,
   "id": "915d29df",
   "metadata": {},
   "outputs": [],
   "source": [
    "# 7. Model — Logistic Regression dan / atau Naive Bayes\n"
   ]
  },
  {
   "cell_type": "code",
   "execution_count": null,
   "id": "2d4db121",
   "metadata": {},
   "outputs": [],
   "source": [
    "# 8. Evaluasi model\n"
   ]
  },
  {
   "cell_type": "code",
   "execution_count": null,
   "id": "cb448386",
   "metadata": {},
   "outputs": [],
   "source": [
    "# 9. WordCloud positif & negatif\n",
    "\n"
   ]
  },
  {
   "cell_type": "code",
   "execution_count": null,
   "id": "b15e0afe",
   "metadata": {},
   "outputs": [],
   "source": [
    "# 10. Kesimpulan\n"
   ]
  },
  {
   "cell_type": "code",
   "execution_count": null,
   "id": "6ff0611e",
   "metadata": {},
   "outputs": [],
   "source": [
    "# Simpan Model buat app.py dan tampilkan di streamlit\n"
   ]
  }
 ],
 "metadata": {
  "kernelspec": {
   "display_name": "Python 3",
   "language": "python",
   "name": "python3"
  },
  "language_info": {
   "codemirror_mode": {
    "name": "ipython",
    "version": 3
   },
   "file_extension": ".py",
   "mimetype": "text/x-python",
   "name": "python",
   "nbconvert_exporter": "python",
   "pygments_lexer": "ipython3",
   "version": "3.13.0"
  }
 },
 "nbformat": 4,
 "nbformat_minor": 5
}
