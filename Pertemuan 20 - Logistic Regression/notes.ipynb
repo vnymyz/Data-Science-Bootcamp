{
 "cells": [
  {
   "cell_type": "markdown",
   "id": "414273be",
   "metadata": {},
   "source": [
    "### Info Dataset Heart Disease\n",
    "- age: Umur pasien\n",
    "\n",
    "- sex: Jenis kelamin (1 = male, 0 = female)\n",
    "\n",
    "- cp: Chest pain type (0-3)\n",
    "\n",
    "- trestbps: Resting blood pressure\n",
    "\n",
    "- chol: Serum cholesterol\n",
    "\n",
    "- fbs: Fasting blood sugar > 120 mg/dl (1 = true, 0 = false)\n",
    "\n",
    "- restecg: Resting electrocardiographic results (0-2)\n",
    "\n",
    "- thalach: Maximum heart rate achieved\n",
    "\n",
    "- exang: Exercise induced angina (1 = yes, 0 = no)\n",
    "\n",
    "- oldpeak: ST depression induced by exercise\n",
    "\n",
    "- slope: Slope of peak exercise ST segment (0-2)\n",
    "\n",
    "- ca: Number of major vessels colored by fluoroscopy (0-3)\n",
    "\n",
    "- thal: Thalassemia (1 = normal, 2 = fixed defect, 3 = reversible defect)\n",
    "\n",
    "- target: Penyakit jantung (0 = tidak ada, 1 = ada) [TARGET VARIABLE]"
   ]
  },
  {
   "cell_type": "markdown",
   "id": "35dc1cfe",
   "metadata": {},
   "source": []
  }
 ],
 "metadata": {
  "language_info": {
   "name": "python"
  }
 },
 "nbformat": 4,
 "nbformat_minor": 5
}
