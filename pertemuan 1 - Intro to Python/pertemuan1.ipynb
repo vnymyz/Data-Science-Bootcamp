{
 "cells": [
  {
   "cell_type": "markdown",
   "id": "38e2c53a",
   "metadata": {},
   "source": [
    "# Python for Data Science\n",
    "--------\n",
    "## Pertemuan 1\n",
    "------\n",
    "### Google Colab : https://colab.research.google.com/\n",
    "----\n",
    "#### 1. Pengenalan Program python"
   ]
  },
  {
   "cell_type": "markdown",
   "id": "f2d5a56e",
   "metadata": {},
   "source": [
    "Python adalah bahasa pemrograman tingkat tinggi. Python bahasa nya simple sehingga mudah dipahami.\n",
    "\n",
    "Dengan python kita dapat membuat game, aplikasi dan melakukan data analisis atau mengolah data."
   ]
  },
  {
   "cell_type": "code",
   "execution_count": 1,
   "id": "7a7a393e",
   "metadata": {},
   "outputs": [],
   "source": [
    "# ini adalah komentar"
   ]
  },
  {
   "cell_type": "markdown",
   "id": "4b709f4b",
   "metadata": {},
   "source": [
    "Perintah Komentar tidak akan menjalankan apa-apa. Karena komentar itu hanya tulisan atau dokumentasi dari suatu program.\n",
    "\n",
    "Komentar dalam python itu seperti anda membuat suatu catetan dari aplikasi yang anda buat saja."
   ]
  },
  {
   "cell_type": "code",
   "execution_count": 2,
   "id": "2b996026",
   "metadata": {},
   "outputs": [
    {
     "name": "stdout",
     "output_type": "stream",
     "text": [
      "Halo, Semua !\n",
      "Ini adalah Program pertama saya\n"
     ]
    }
   ],
   "source": [
    "# Program cetak atau print\n",
    "print(\"Halo, Semua !\")\n",
    "print(\"Ini adalah Program pertama saya\")"
   ]
  },
  {
   "cell_type": "markdown",
   "id": "c052220d",
   "metadata": {},
   "source": [
    "#### Penjelasan :\n",
    "\n",
    "1. Fungsi print() digunakan untuk menampilkan teks ke layar (output).\n",
    "\n",
    "2. \"Halo, Semua !\" adalah string literal, yaitu teks yang akan ditampilkan.\n",
    "\n",
    "3. Baris tersebut akan mencetak -> Halo, Semua !\n",
    "\n",
    "4. Baris yang terakhir akan mencetak -> ini adalah program pertama saya"
   ]
  },
  {
   "cell_type": "code",
   "execution_count": null,
   "id": "11f7b286",
   "metadata": {},
   "outputs": [],
   "source": [
    "nama = \"Hendra\" # String\n",
    "umur = 25       # Integer\n",
    "\n",
    "print(f\"halo nama saya {nama} dan saya berumur {umur} tahun\")"
   ]
  },
  {
   "cell_type": "markdown",
   "id": "ef72babb",
   "metadata": {},
   "source": [
    "#### Penjelasan :\n",
    "\n",
    "Program ini berfungsi untuk menampilkan kalimat perkenalan yang berisi nama dan umur seseorang.\n",
    "\n",
    "- Variabel nama diisi dengan nilai \"Hendra\", yang merupakan data bertipe string karena menyimpan teks.\n",
    "\n",
    "- Variabel umur diisi dengan angka 25, bertipe integer karena menyimpan bilangan bulat.\n",
    "\n",
    "- Fungsi print() digunakan untuk menampilkan teks ke layar.\n",
    "\n",
    "- Pada bagian print(), digunakan f-string (formatted string literal) yang memungkinkan kita menyisipkan isi variabel langsung ke dalam teks dengan cara menuliskan variabel di dalam kurung kurawal {}.\n",
    "\n",
    "- Saat program dijalankan, Python akan menggantikan {nama} dengan Hendra dan {umur} dengan 25, lalu menampilkan kalimat lengkapnya ke layar."
   ]
  },
  {
   "cell_type": "markdown",
   "id": "af58077a",
   "metadata": {},
   "source": [
    "#### 2. Program Input Output dan return Variable"
   ]
  },
  {
   "cell_type": "markdown",
   "id": "6350d8c6",
   "metadata": {},
   "source": [
    "F-string (formatted string literal) di Python adalah cara modern dan efisien untuk menyisipkan variabel atau ekspresi ke dalam string."
   ]
  },
  {
   "cell_type": "code",
   "execution_count": null,
   "id": "2bc53a7b",
   "metadata": {},
   "outputs": [],
   "source": [
    "# Meminta input dari keyboard\n",
    "nama = input(\"Masukkan nama kamu: \") # string\n",
    "usia = input(\"Masukkan usia kamu: \") # string\n",
    "\n",
    "# Menampilkan hasil output dari inputan keyboard\n",
    "print(f\"Halo {nama} dan umur saya {usia} tahun\")"
   ]
  },
  {
   "cell_type": "markdown",
   "id": "7f28d64f",
   "metadata": {},
   "source": [
    "#### 3. Program Kalkulator"
   ]
  },
  {
   "cell_type": "code",
   "execution_count": null,
   "id": "0ba7f6a5",
   "metadata": {},
   "outputs": [],
   "source": [
    "# Memberi input atau memasukkan angka saja dari keyboard\n",
    "a = int(input(\"masukkan angka pertama: \"))\n",
    "b = int(input(\"masukkan angka kedua : \"))\n",
    "\n",
    "print(a + b) # Jumlah\n",
    "print(a - b) # Pengurangan\n",
    "print(a * b) # Perkalian\n",
    "print(a / b) # Pembagian"
   ]
  },
  {
   "cell_type": "markdown",
   "id": "9b3721b8",
   "metadata": {},
   "source": [
    "### 4. Cara membuat catetan pada ipynb atau jupyter notebook"
   ]
  },
  {
   "cell_type": "markdown",
   "id": "d4f9cf24",
   "metadata": {},
   "source": [
    "# Header 1 \n",
    "## Header 2\n",
    "### Header 3\n",
    "\n",
    "- list 1\n",
    "- list 2\n",
    "- list 3\n",
    "- list 4 :\n",
    "    - list 1.1\n",
    "    - list 1.2\n",
    "\n",
    "**text**\n",
    "\n",
    "*text*\n",
    "\n",
    "---"
   ]
  }
 ],
 "metadata": {
  "kernelspec": {
   "display_name": "Python 3",
   "language": "python",
   "name": "python3"
  },
  "language_info": {
   "codemirror_mode": {
    "name": "ipython",
    "version": 3
   },
   "file_extension": ".py",
   "mimetype": "text/x-python",
   "name": "python",
   "nbconvert_exporter": "python",
   "pygments_lexer": "ipython3",
   "version": "3.13.0"
  }
 },
 "nbformat": 4,
 "nbformat_minor": 5
}
