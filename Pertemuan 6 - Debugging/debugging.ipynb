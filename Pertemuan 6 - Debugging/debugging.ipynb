{
 "cells": [
  {
   "cell_type": "markdown",
   "id": "da4eac72",
   "metadata": {},
   "source": [
    "# Pertemuan 6\n",
    "*******\n",
    "### **Tujuan Pembelajaran**\n",
    "\n",
    "1. Mengenali dan memperbaiki kesalahan penulisan (syntax error).\n",
    "\n",
    "2. Memahami pesan error Python dan mengetahui letak kesalahan.\n",
    "\n",
    "3. Menangani error agar program tidak berhenti mendadak dengan try-except.\n",
    "\n",
    "\n",
    "*****\n",
    "\n",
    "\n",
    "## Debugging dalam Python\n"
   ]
  },
  {
   "cell_type": "markdown",
   "id": "bf510c38",
   "metadata": {},
   "source": [
    "**Debugging** adalah proses **mendeteksi, menganalisis, dan memperbaiki** kesalahan (bug) dalam kode program.\n",
    "\n",
    "Istilah “bug” merujuk pada kesalahan yang menyebabkan program berjalan tidak sesuai harapan, error, atau berhenti total.\n",
    "\n",
    "**Kenapa Debugging Penting?**\n",
    "\n",
    "- Membuat program bebas error\n",
    "\n",
    "- Menjamin program berjalan sesuai tujuan\n",
    "\n",
    "- Membantu kamu memahami alur dan logika kode\n",
    "\n",
    "- Meningkatkan kualitas dan keandalan software\n",
    "\n",
    "#### Tahapan dalam Proses Debugging\n",
    "\n",
    "| Tahap              | Penjelasan                                                     |\n",
    "| ------------------ | -------------------------------------------------------------- |\n",
    "| 1. Deteksi         | Menemukan **bagian kode** yang menyebabkan error / hasil salah |\n",
    "| 2. Analisis        | Membaca error / uji logika untuk memahami **penyebab bug**     |\n",
    "| 3. Perbaikan       | Memodifikasi kode untuk memperbaiki bug                        |\n",
    "| 4. Pengujian ulang | Menjalankan kembali program untuk memastikan bug sudah hilang  |\n"
   ]
  },
  {
   "cell_type": "markdown",
   "id": "42a598a7",
   "metadata": {},
   "source": [
    "#### Jenis-Jenis Kesalahan (Bug)\n",
    "\n",
    "| Jenis Error        | Contoh                                                | Penjelasan                               |\n",
    "| ------------------ | ----------------------------------------------------- | ---------------------------------------- |\n",
    "| **Syntax Error**   | `print(\"Hello\"`                                       | Kesalahan penulisan aturan bahasa Python |\n",
    "| **Runtime Error**  | `10 / 0` → ZeroDivisionError                          | Error saat program berjalan              |\n",
    "| **Logic Error**    | Hasil hitung salah, walau tidak ada error             | Logika program tidak sesuai tujuan       |\n",
    "| **Semantic Error** | Salah arti, misalnya pakai `=` padahal maksudnya `==` | Program jalan tapi hasil salah           |\n"
   ]
  },
  {
   "cell_type": "markdown",
   "id": "99adddc6",
   "metadata": {},
   "source": [
    "**********"
   ]
  },
  {
   "cell_type": "markdown",
   "id": "b0183c3f",
   "metadata": {},
   "source": [
    "### 1. Debugging (Kesalahan Penulisan)"
   ]
  },
  {
   "cell_type": "markdown",
   "id": "8d69323d",
   "metadata": {},
   "source": [
    "Syntax Error terjadi saat kita melanggar aturan penulisan Python.\n",
    "\n",
    "Program tidak akan bisa dijalankan hingga kesalahan ini diperbaiki.\n",
    "\n",
    "Contoh kesalahan dalam penulisan :\n",
    "\n",
    "```python\n",
    "print(\"Halo nama saya Vanya\"  # Lupa tanda tutup kurung\n",
    "```\n",
    "\n",
    "Contoh Perbaikan :\n",
    "\n",
    "```python\n",
    "print(\"Halo nama saya Vanya\")  # Sudah benar\n",
    "```\n"
   ]
  },
  {
   "cell_type": "code",
   "execution_count": null,
   "id": "0042d2cf",
   "metadata": {},
   "outputs": [],
   "source": [
    "# Syntax Error\n",
    "angka = int(input(\"masukkan angka : \"))\n",
    "\n",
    "if angka > 10:\n",
    "    print(\"Lebih dari 10\")\n",
    "else:\n",
    "    print(\"angka dibawah 10\")"
   ]
  },
  {
   "cell_type": "code",
   "execution_count": null,
   "id": "7888867b",
   "metadata": {},
   "outputs": [],
   "source": [
    "# Input Error atau Value Error\n",
    "usia = int(input(\"Masukkan usia: \"))\n",
    "print(\"Usia Anda adalah\", usia)\n",
    "# Coba input huruf, akan error"
   ]
  },
  {
   "cell_type": "markdown",
   "id": "aa762b6e",
   "metadata": {},
   "source": [
    "### 2. Debugging (Reading Error)"
   ]
  },
  {
   "cell_type": "markdown",
   "id": "b511a828",
   "metadata": {},
   "source": [
    "Python memberikan pesan error lengkap ketika terjadi kesalahan.\n",
    "Contoh error umum:\n",
    "\n",
    "- SyntaxError\n",
    "\n",
    "- NameError\n",
    "\n",
    "- TypeError\n",
    "\n",
    "- IndexError\n",
    "\n",
    "- ValueError\n",
    "\n",
    "Contoh Kasus dan penjelasan :\n",
    "\n",
    "```python\n",
    "angka = input(\"Masukkan angka: \")\n",
    "print(angka + 10)  # Error karena angka adalah string\n",
    "```\n",
    "\n",
    "Perbaikan :\n",
    "\n",
    "```python\n",
    "angka = int(input(\"Masukkan angka: \"))\n",
    "print(angka + 10)\n",
    "```\n",
    "\n",
    "\n",
    "**Tips membaca error :**\n",
    "\n",
    "- Perhatikan baris error muncul.\n",
    "\n",
    "- Cek tipe error dan pelajari artinya.\n",
    "\n",
    "- Baca pesan penjelasan yang diberikan Python.\n"
   ]
  },
  {
   "cell_type": "code",
   "execution_count": null,
   "id": "0d445d8d",
   "metadata": {},
   "outputs": [],
   "source": [
    "# Syntax Error\n",
    "if True:\n",
    "    print(\"Hello bro\")\n"
   ]
  },
  {
   "cell_type": "code",
   "execution_count": null,
   "id": "3427c584",
   "metadata": {},
   "outputs": [],
   "source": [
    "# Perbaikan Syntax Error\n",
    "if True:\n",
    "    print(\"Hello\")\n"
   ]
  },
  {
   "cell_type": "code",
   "execution_count": null,
   "id": "05bc5fdf",
   "metadata": {},
   "outputs": [],
   "source": [
    "# Name Error\n",
    "print(nama)"
   ]
  },
  {
   "cell_type": "code",
   "execution_count": null,
   "id": "636a49dd",
   "metadata": {},
   "outputs": [],
   "source": [
    "# Perbaikan Name Error\n",
    "nama = \"Isi nama\"\n",
    "print(f\"Halo {nama}\")"
   ]
  },
  {
   "cell_type": "code",
   "execution_count": null,
   "id": "6fcdcb2a",
   "metadata": {},
   "outputs": [],
   "source": [
    "# Type Error\n",
    "angka = 10\n",
    "kata = 20\n",
    "print(angka + kata)\n"
   ]
  },
  {
   "cell_type": "code",
   "execution_count": null,
   "id": "c31c3bf7",
   "metadata": {},
   "outputs": [],
   "source": [
    "# Perbaikan Type Error\n",
    "# int(kata) adalah mengkonversi string menjadi integer\n",
    "\n",
    "angka = 10 # integer\n",
    "kata = \"5\" # string\n",
    "print(angka + int(kata))"
   ]
  },
  {
   "cell_type": "code",
   "execution_count": null,
   "id": "8fb70913",
   "metadata": {},
   "outputs": [],
   "source": [
    "# Index Error\n",
    "        # 0,        1,      2           3       4\n",
    "buah = [\"apel\", \"mangga\", \"jeruk\", \"kelapa\", \"pepaya\"]\n",
    "print(buah[4])"
   ]
  },
  {
   "cell_type": "code",
   "execution_count": null,
   "id": "a862b486",
   "metadata": {},
   "outputs": [],
   "source": [
    "# Perbaikan Index Error\n",
    "buah = [\"apel\", \"mangga\", \"jeruk\"]\n",
    "print(buah[2])  # Maksimal indeks 2 (karena total 3 elemen)"
   ]
  },
  {
   "cell_type": "code",
   "execution_count": null,
   "id": "ccfeeede",
   "metadata": {},
   "outputs": [],
   "source": [
    "# Value Error\n",
    "angka = int(\"satu\")"
   ]
  },
  {
   "cell_type": "code",
   "execution_count": null,
   "id": "a25c7556",
   "metadata": {},
   "outputs": [],
   "source": [
    "# Perbaikan Value Error\n",
    "try:\n",
    "    angka = int(\"satu\") # mencoba mengkonversi string menjadi integer\n",
    "except ValueError: # hasil error ketika dimasukkan input yang salah atau tidak valid\n",
    "    print(\"Masukkan harus berupa angka!\")\n"
   ]
  },
  {
   "cell_type": "code",
   "execution_count": null,
   "id": "e8e15f76",
   "metadata": {},
   "outputs": [],
   "source": [
    "# Logic Error\n",
    "angka = 15\n",
    "if angka % 2 == 1:   # Salah! Ini justru mengecek ganjil\n",
    "    print(\"Genap\")\n",
    "else:\n",
    "    print(\"Ganjil\")\n"
   ]
  },
  {
   "cell_type": "code",
   "execution_count": null,
   "id": "917582e9",
   "metadata": {},
   "outputs": [],
   "source": [
    "# Perbaikan Logic error\n",
    "angka = 10\n",
    "if angka % 2 == 0:  \n",
    "    print(\"Genap\")\n",
    "else:\n",
    "    print(\"Ganjil\")"
   ]
  },
  {
   "cell_type": "code",
   "execution_count": null,
   "id": "217ff5c4",
   "metadata": {},
   "outputs": [],
   "source": [
    "# Semantic Error\n",
    "panjang = 10\n",
    "lebar = 5\n",
    "\n",
    "luas = panjang * lebar   # Salah! Seharusnya perkalian\n",
    "print(\"Luas persegi panjang adalah:\", luas)\n"
   ]
  },
  {
   "cell_type": "code",
   "execution_count": null,
   "id": "f15c5330",
   "metadata": {},
   "outputs": [],
   "source": [
    "# Perbaikan Semantic Error\n",
    "panjang = 10\n",
    "lebar = 5\n",
    "\n",
    "luas = panjang * lebar   # Salah! Seharusnya perkalian\n",
    "print(\"Luas persegi panjang adalah:\", luas)"
   ]
  },
  {
   "cell_type": "markdown",
   "id": "e0dbdc93",
   "metadata": {},
   "source": [
    "### 3. Debugging (Try Exception)"
   ]
  },
  {
   "cell_type": "markdown",
   "id": "a968552d",
   "metadata": {},
   "source": [
    "Gunakan try-except untuk menangani error agar program tidak berhenti tiba-tiba.\n",
    "\n",
    "Cocok digunakan saat input user, pembacaan file, atau koneksi jaringan.\n",
    "\n",
    "Bentuk Umum :\n",
    "\n",
    "```python\n",
    "try:\n",
    "    # kode yang mungkin error\n",
    "    ...\n",
    "except ErrorType:\n",
    "    # aksi jika error\n",
    "    ...\n",
    "else:\n",
    "    # jika tidak error\n",
    "    ...\n",
    "finally:\n",
    "    # dijalankan selalu, error atau tidak\n",
    "    ...\n",
    "```\n",
    "\n",
    "| Blok      | Fungsi                                                                  |\n",
    "| --------- | ----------------------------------------------------------------------- |\n",
    "| `try`     | Tempat kode utama yang bisa menyebabkan error                           |\n",
    "| `except`  | Menangani error tertentu (`ZeroDivisionError`, `ValueError`, dll.)      |\n",
    "| `else`    | Dijalankan **hanya jika** tidak terjadi error                           |\n",
    "| `finally` | Dijalankan **selalu**, mau error atau tidak (biasa untuk bersih-bersih) |\n",
    "\n",
    "**Kok If else sama Try Except hampir sama sih ? Yakin ?**\n",
    "\n",
    "| Aspek             | `try-except`                                           | `if-else`                                      |\n",
    "| ----------------- | ------------------------------------------------------ | ---------------------------------------------- |\n",
    "| **Fungsi utama**  | Menangani **error/exception** saat program berjalan    | Mengontrol **logika kondisi** dalam program    |\n",
    "| **Waktu deteksi** | Error **terjadi saat program dijalankan**              | Kondisi **diperiksa sebelum** menjalankan kode |\n",
    "| **Tujuan utama**  | Menangani kejadian tak terduga                         | Mengarahkan alur logika program                |\n",
    "| **Cocok untuk**   | Error input, pembagian 0, file tidak ditemukan         | Perbandingan nilai, logika biasa               |\n",
    "| **Contoh kasus**  | `ValueError`, `ZeroDivisionError`, `FileNotFoundError` | Cek apakah `x > 10`, `nama == \"Budi\"`, dll     |\n",
    "\n",
    "\n",
    "#### Contoh Dasar\n",
    "\n",
    "```python\n",
    "try:\n",
    "    angka = int(input(\"Masukkan angka: \"))\n",
    "    print(angka + 10)\n",
    "except ValueError:\n",
    "    print(\"❌ Masukkan harus berupa angka!\")\n",
    "```\n",
    "\n",
    "#### **Fungsi Try-Except**\n",
    "\n",
    "1. Mencegah Program Crash\n",
    "\n",
    "2. Menangani Error dengan Cara Sendiri\n",
    "\n",
    "3. Membuat Program Lebih Tangguh & User Friendly\n",
    "\n",
    "#### **Kira-kira kapan ya digunakan ?**\n",
    "\n",
    "- Input dari user (rawan kesalahan)\n",
    "\n",
    "- File handling (open(), read())\n",
    "\n",
    "- Operasi matematika (misal: pembagian nol)\n",
    "\n",
    "- Koneksi jaringan/API (bisa timeout)\n",
    "\n",
    "- Akses data (misal: index out of range)"
   ]
  },
  {
   "cell_type": "code",
   "execution_count": null,
   "id": "c36c6ad9",
   "metadata": {},
   "outputs": [],
   "source": [
    "# Kalkulator\n",
    "# Menangani input error menggunakan try-except\n",
    "\n",
    "print(\"=== Kalkulator Tambah ===\")\n",
    "try:\n",
    "    a = float(input(\"Masukkan angka pertama: \"))\n",
    "    b = float(input(\"Masukkan angka kedua: \"))\n",
    "    hasil = a + b\n",
    "    print(f\"Hasil penjumlahan: {hasil}\")\n",
    "except ValueError: # buat deteksi input yang salah\n",
    "    print(\"Input tidak valid! Harus angka.\")"
   ]
  },
  {
   "cell_type": "code",
   "execution_count": null,
   "id": "78969997",
   "metadata": {},
   "outputs": [],
   "source": [
    "# Debug Try Catch Input Angka\n",
    "try:\n",
    "    angka = int(input(\"Masukkan angka: \"))\n",
    "    hasil = 10 / angka\n",
    "    print(\"Hasilnya:\", hasil)\n",
    "except ValueError: # buat deteksi input tipe data error\n",
    "    print(\"Input bukan angka.\")\n",
    "except ZeroDivisionError: # buat deteksi jika input itu 0 = error\n",
    "    print(\"Tidak bisa dibagi dengan nol.\")\n"
   ]
  },
  {
   "cell_type": "code",
   "execution_count": null,
   "id": "818eb606",
   "metadata": {},
   "outputs": [],
   "source": [
    "# Debugging Try Catch Daftar Mahasiswa Baru\n",
    "print(\"📋 Pendaftaran Mahasiswa Baru\\n\")\n",
    "\n",
    "try:\n",
    "    nama = input(\"Masukkan nama lengkap: \")\n",
    "    usia = int(input(\"Masukkan usia: \"))\n",
    "    \n",
    "    if usia < 15:\n",
    "        print(\"❌ Usia terlalu muda untuk mendaftar.\")\n",
    "    else:\n",
    "        print(f\"✅ Pendaftaran berhasil!\\nNama: {nama}\\nUsia: {usia} tahun\")\n",
    "except ValueError:\n",
    "    print(\"⚠️ Pastikan usia yang dimasukkan adalah angka!\")\n"
   ]
  },
  {
   "cell_type": "code",
   "execution_count": null,
   "id": "8cec4be2",
   "metadata": {},
   "outputs": [
    {
     "name": "stdout",
     "output_type": "stream",
     "text": [
      "=== Program Pembagian ===\n",
      "✅ Hasil pembagian: 1.0\n"
     ]
    }
   ],
   "source": [
    "try:\n",
    "    print(\"=== Program Pembagian ===\")\n",
    "    a = float(input(\"Masukkan angka pertama: \"))\n",
    "    b = float(input(\"Masukkan angka kedua: \"))\n",
    "    \n",
    "    hasil = a / b  # berpotensi error jika b = 0\n",
    "\n",
    "except ZeroDivisionError:\n",
    "    print(\"❌ Tidak bisa dibagi dengan nol!\")\n",
    "\n",
    "except ValueError:\n",
    "    print(\"⚠️ Input harus berupa angka!\")\n",
    "\n",
    "else: # yang sudah pasti berhasil\n",
    "    print(f\"✅ Hasil pembagian: {hasil}\")\n",
    "\n",
    "finally:\n",
    "    print(\"📌 Program selesai dijalankan.\")\n"
   ]
  },
  {
   "cell_type": "markdown",
   "id": "833d0c08",
   "metadata": {},
   "source": [
    "### Perbedaan Debugging Masing2\n",
    "\n",
    "| Teknik Debugging    | Fokus Utama                                     | Contoh Kasus                            |\n",
    "| ------------------- | ----------------------------------------------- | --------------------------------------- |\n",
    "| Kesalahan Penulisan | Perbaiki typo / sintaks yang salah              | Lupa `:` di `if`, kurung tidak lengkap  |\n",
    "| Reading Error       | Membaca & pahami pesan error Python             | `TypeError`, `NameError`, `IndexError`  |\n",
    "| Try Exception       | Menangani error agar tidak menghentikan program | Input bukan angka, file tidak ditemukan |\n"
   ]
  },
  {
   "cell_type": "markdown",
   "id": "a190c647",
   "metadata": {},
   "source": [
    "********"
   ]
  },
  {
   "cell_type": "markdown",
   "id": "0818b5aa",
   "metadata": {},
   "source": [
    "## Latihan Debugging"
   ]
  },
  {
   "cell_type": "code",
   "execution_count": null,
   "id": "9da58cc7",
   "metadata": {},
   "outputs": [],
   "source": [
    "# Soal 1\n",
    "\n",
    "# Tujuan: Menampilkan teks ke layar\n",
    "\n",
    "print(\"Halo nama saya Budi\"\n"
   ]
  },
  {
   "cell_type": "code",
   "execution_count": null,
   "id": "049c295e",
   "metadata": {},
   "outputs": [],
   "source": [
    "# Soal 2\n",
    "\n",
    "# Tujuan: Mengalikan angka input user\n",
    "\n",
    "angka = input(\"Masukkan angka: \")\n",
    "print(\"Hasil kali dua:\", angka * 2)\n"
   ]
  },
  {
   "cell_type": "code",
   "execution_count": null,
   "id": "597fe94d",
   "metadata": {},
   "outputs": [],
   "source": [
    "# Soal 3\n",
    "\n",
    "# Tujuan: Menghitung luas persegi panjang\n",
    "\n",
    "panjang = 6\n",
    "lebar = 4\n",
    "luas = panjang + lebar\n",
    "\n",
    "print(\"Luas persegi panjang adalah:\", luas)\n"
   ]
  },
  {
   "cell_type": "code",
   "execution_count": null,
   "id": "b72d3909",
   "metadata": {},
   "outputs": [],
   "source": [
    "# Soal 4\n",
    "\n",
    "# Tujuan: Menampilkan item terakhir dari list\n",
    "\n",
    "buah = [\"apel\", \"jeruk\", \"pisang\"]\n",
    "print(\"Buah terakhir:\", buah[])\n"
   ]
  },
  {
   "cell_type": "code",
   "execution_count": null,
   "id": "cc024b98",
   "metadata": {},
   "outputs": [],
   "source": [
    "# Soal 5\n",
    "\n",
    "# Tujuan: Program minta input angka lalu bagi 100 dengan angka tsb\n",
    "\n",
    "try:\n",
    "    angka = int(input(\"Masukkan angka pembagi: \"))\n",
    "    hasil = 100 / angka\n",
    "    print(\"Hasilnya:\", hasil)\n",
    "\n",
    "# Bug: Program tetap error kalau input huruf\n"
   ]
  },
  {
   "cell_type": "markdown",
   "id": "12418416",
   "metadata": {},
   "source": [
    "********"
   ]
  },
  {
   "cell_type": "markdown",
   "id": "e59eb078",
   "metadata": {},
   "source": [
    "## Latihan Debugging Set 2"
   ]
  },
  {
   "cell_type": "code",
   "execution_count": null,
   "id": "4bb72bd2",
   "metadata": {},
   "outputs": [],
   "source": [
    "# Soal 1\n",
    "# Tujuan: Menjumlahkan dua angka\n",
    "\n",
    "a = 10\n",
    "b = 20\n",
    "print(\"Hasil penjumlahan adalah: \" )\n"
   ]
  },
  {
   "cell_type": "code",
   "execution_count": null,
   "id": "883d65ca",
   "metadata": {},
   "outputs": [],
   "source": [
    "# Soal 2\n",
    "\n",
    "# Tujuan: Mengonversi input ke integer dan kalikan 2\n",
    "\n",
    "angka = input(\"Masukkan angka: \")\n",
    "hasil = angka * 2\n",
    "print(\"Hasilnya:\", hasil)\n"
   ]
  },
  {
   "cell_type": "code",
   "execution_count": null,
   "id": "f179f029",
   "metadata": {},
   "outputs": [],
   "source": [
    "# Soal 3\n",
    "\n",
    "# Tujuan: Menampilkan item ketiga dalam list\n",
    "\n",
    "hewan = [\"kucing\", \"anjing\", \"kelinci\"]\n",
    "print(\"Hewan ketiga adalah:\", hewan[])"
   ]
  },
  {
   "cell_type": "code",
   "execution_count": null,
   "id": "18d64b46",
   "metadata": {},
   "outputs": [],
   "source": [
    "# Soal 4\n",
    "\n",
    "# Tujuan: Menampilkan angka dari 1 hingga 5\n",
    "\n",
    "for i in range():\n",
    "    print(i)\n"
   ]
  },
  {
   "cell_type": "code",
   "execution_count": null,
   "id": "9e4083bd",
   "metadata": {},
   "outputs": [],
   "source": [
    "# Soal 5\n",
    "\n",
    "# Tujuan: \n",
    "# Minta user masukkan dua angka\n",
    "# Membuat error message jika input 0\n",
    "# Membuat error message jika input tipe yang salah\n",
    "# Tambahkan perintah selesai atau akhir dari program tersebut\n",
    "\n",
    "try:\n",
    "    a = int(input(\"Masukkan angka pertama: \"))\n",
    "    b = int(input(\"Masukkan angka kedua: \"))\n",
    "    print(\"Hasil pembagian:\", a / b)\n",
    "\n"
   ]
  }
 ],
 "metadata": {
  "kernelspec": {
   "display_name": "Python 3",
   "language": "python",
   "name": "python3"
  },
  "language_info": {
   "codemirror_mode": {
    "name": "ipython",
    "version": 3
   },
   "file_extension": ".py",
   "mimetype": "text/x-python",
   "name": "python",
   "nbconvert_exporter": "python",
   "pygments_lexer": "ipython3",
   "version": "3.13.0"
  }
 },
 "nbformat": 4,
 "nbformat_minor": 5
}
