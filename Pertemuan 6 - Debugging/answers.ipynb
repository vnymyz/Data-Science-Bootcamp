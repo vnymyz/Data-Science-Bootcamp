{
 "cells": [
  {
   "cell_type": "markdown",
   "id": "562e2d2f",
   "metadata": {},
   "source": [
    "## Latihan Debugging"
   ]
  },
  {
   "cell_type": "code",
   "execution_count": 1,
   "id": "99db92e4",
   "metadata": {},
   "outputs": [
    {
     "name": "stdout",
     "output_type": "stream",
     "text": [
      "Halo nama saya Budi\n"
     ]
    }
   ],
   "source": [
    "# Soal 1\n",
    "\n",
    "# Tujuan: Menampilkan teks ke layar\n",
    "\n",
    "print(\"Halo nama saya Budi\")\n"
   ]
  },
  {
   "cell_type": "code",
   "execution_count": null,
   "id": "977984cf",
   "metadata": {},
   "outputs": [
    {
     "name": "stdout",
     "output_type": "stream",
     "text": [
      "Hasil 20 kali dua: 40\n"
     ]
    }
   ],
   "source": [
    "# Soal 2\n",
    "\n",
    "# Tujuan: Mengalikan angka input user\n",
    "\n",
    "angka = int(input(\"Masukkan angka: \"))\n",
    "print(f\"Hasil {angka} kali 2:\", angka * 2)\n"
   ]
  },
  {
   "cell_type": "code",
   "execution_count": 5,
   "id": "50c53c5d",
   "metadata": {},
   "outputs": [
    {
     "name": "stdout",
     "output_type": "stream",
     "text": [
      "Luas persegi panjang adalah: 24\n"
     ]
    }
   ],
   "source": [
    "# Soal 3\n",
    "\n",
    "# Tujuan: Menghitung luas persegi panjang\n",
    "\n",
    "panjang = 6\n",
    "lebar = 4\n",
    "luas = panjang * lebar\n",
    "\n",
    "print(\"Luas persegi panjang adalah:\", luas)\n"
   ]
  },
  {
   "cell_type": "code",
   "execution_count": 6,
   "id": "10280ec5",
   "metadata": {},
   "outputs": [
    {
     "name": "stdout",
     "output_type": "stream",
     "text": [
      "Buah terakhir: pisang\n"
     ]
    }
   ],
   "source": [
    "# Soal 4\n",
    "\n",
    "# Tujuan: Menampilkan item terakhir dari list\n",
    "\n",
    "buah = [\"apel\", \"jeruk\", \"pisang\"]\n",
    "print(\"Buah terakhir:\", buah[2])\n"
   ]
  },
  {
   "cell_type": "code",
   "execution_count": 9,
   "id": "8491105d",
   "metadata": {},
   "outputs": [
    {
     "name": "stdout",
     "output_type": "stream",
     "text": [
      "Hasilnya: 20.0\n"
     ]
    }
   ],
   "source": [
    "# Soal 5\n",
    "\n",
    "# Tujuan: Program minta input angka lalu bagi 100 dengan angka tsb\n",
    "\n",
    "try:\n",
    "    angka = int(input(\"Masukkan angka pembagi: \"))\n",
    "    hasil = 100 / angka\n",
    "    print(\"Hasilnya:\", hasil)\n",
    "\n",
    "# Bug: Program tetap error kalau input huruf\n",
    "except ValueError:\n",
    "    print(\"Bukan berupa angka\")\n",
    "\n",
    "except ZeroDivisionError:\n",
    "    print(\"Angka tidak boleh 0\")\n"
   ]
  },
  {
   "cell_type": "markdown",
   "id": "04aef177",
   "metadata": {},
   "source": [
    "********"
   ]
  },
  {
   "cell_type": "markdown",
   "id": "9d57b48c",
   "metadata": {},
   "source": [
    "## Latihan Debugging Set 2"
   ]
  },
  {
   "cell_type": "code",
   "execution_count": 11,
   "id": "9dbcf057",
   "metadata": {},
   "outputs": [
    {
     "name": "stdout",
     "output_type": "stream",
     "text": [
      "Hasil penjumlahan adalah:  30\n"
     ]
    }
   ],
   "source": [
    "# Soal 1\n",
    "# Tujuan: Menjumlahkan dua angka\n",
    "\n",
    "a = 10\n",
    "b = 20\n",
    "print(\"Hasil penjumlahan adalah: \", a + b)\n"
   ]
  },
  {
   "cell_type": "code",
   "execution_count": 12,
   "id": "a95cfff0",
   "metadata": {},
   "outputs": [
    {
     "name": "stdout",
     "output_type": "stream",
     "text": [
      "Hasilnya: 40\n"
     ]
    }
   ],
   "source": [
    "# Soal 2\n",
    "\n",
    "# Tujuan: Mengonversi input ke integer dan kalikan 2\n",
    "\n",
    "angka = int(input(\"Masukkan angka: \"))\n",
    "hasil = angka * 2\n",
    "print(\"Hasilnya:\", hasil)\n"
   ]
  },
  {
   "cell_type": "code",
   "execution_count": 13,
   "id": "7fa092db",
   "metadata": {},
   "outputs": [
    {
     "name": "stdout",
     "output_type": "stream",
     "text": [
      "Hewan ketiga adalah: kelinci\n"
     ]
    }
   ],
   "source": [
    "# Soal 3\n",
    "\n",
    "# Tujuan: Menampilkan item ketiga dalam list\n",
    "        # 0             1       2\n",
    "hewan = [\"kucing\", \"anjing\", \"kelinci\"]\n",
    "print(\"Hewan ketiga adalah:\", hewan[2])"
   ]
  },
  {
   "cell_type": "code",
   "execution_count": 15,
   "id": "886e6245",
   "metadata": {},
   "outputs": [
    {
     "name": "stdout",
     "output_type": "stream",
     "text": [
      "1\n",
      "2\n",
      "3\n",
      "4\n"
     ]
    }
   ],
   "source": [
    "# Soal 4\n",
    "\n",
    "# Tujuan: Menampilkan angka dari 1 hingga 5\n",
    "\n",
    "for i in range(1, 5):\n",
    "    print(i)\n"
   ]
  },
  {
   "cell_type": "code",
   "execution_count": 18,
   "id": "10082235",
   "metadata": {},
   "outputs": [
    {
     "name": "stdout",
     "output_type": "stream",
     "text": [
      "Hasil pembagian: 5.0\n"
     ]
    }
   ],
   "source": [
    "# Soal 5\n",
    "\n",
    "# Tujuan: \n",
    "# Minta user masukkan dua angka\n",
    "# Membuat error message jika input 0\n",
    "# Membuat error message jika input tipe yang salah\n",
    "# Tambahkan perintah selesai atau akhir dari program tersebut\n",
    "\n",
    "try:\n",
    "    a = int(input(\"Masukkan angka pertama: \"))\n",
    "    b = int(input(\"Masukkan angka kedua: \"))\n",
    "    print(\"Hasil pembagian:\", a / b)\n",
    "\n",
    "except ZeroDivisionError:\n",
    "    print(\"Tidak boleh angka 0\")\n",
    "\n",
    "except ValueError:\n",
    "    print(\"Angka tidak valid\")\n",
    "\n",
    "finally:\n",
    "    \"Program Selesai\"\n"
   ]
  }
 ],
 "metadata": {
  "kernelspec": {
   "display_name": "Python 3",
   "language": "python",
   "name": "python3"
  },
  "language_info": {
   "codemirror_mode": {
    "name": "ipython",
    "version": 3
   },
   "file_extension": ".py",
   "mimetype": "text/x-python",
   "name": "python",
   "nbconvert_exporter": "python",
   "pygments_lexer": "ipython3",
   "version": "3.13.0"
  }
 },
 "nbformat": 4,
 "nbformat_minor": 5
}
