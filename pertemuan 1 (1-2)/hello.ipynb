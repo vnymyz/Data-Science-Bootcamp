{
 "cells": [
  {
   "cell_type": "markdown",
   "id": "38e2c53a",
   "metadata": {},
   "source": [
    "# Python for Data Science\n",
    "## Pertemuan 1\n",
    "#### 1. Program Hello World"
   ]
  },
  {
   "cell_type": "code",
   "execution_count": 8,
   "id": "2b996026",
   "metadata": {},
   "outputs": [
    {
     "name": "stdout",
     "output_type": "stream",
     "text": [
      "Hello, World !\n",
      "This is my first code\n"
     ]
    }
   ],
   "source": [
    "print(\"Hello, World !\")\n",
    "print(\"This is my first code\")"
   ]
  },
  {
   "cell_type": "markdown",
   "id": "af58077a",
   "metadata": {},
   "source": [
    "#### 2. Program Input Output dan return Variable"
   ]
  },
  {
   "cell_type": "code",
   "execution_count": 9,
   "id": "2bc53a7b",
   "metadata": {},
   "outputs": [
    {
     "name": "stdout",
     "output_type": "stream",
     "text": [
      "Halo, Vanya Mayazura! Kamu berusia 23 tahun.\n"
     ]
    }
   ],
   "source": [
    "# Meminta input dari pengguna\n",
    "nama = input(\"Masukkan nama kamu: \") # string\n",
    "usia = input(\"Masukkan usia kamu: \") # string\n",
    "\n",
    "# Menampilkan hasil\n",
    "print(\"Halo, \" + nama + \"! Kamu berusia \" + usia + \" tahun.\")"
   ]
  },
  {
   "cell_type": "markdown",
   "id": "9d839e2a",
   "metadata": {},
   "source": [
    "#### 3. Program Cetak atau Output biasa"
   ]
  },
  {
   "cell_type": "code",
   "execution_count": 5,
   "id": "fdfe9a04",
   "metadata": {},
   "outputs": [
    {
     "name": "stdout",
     "output_type": "stream",
     "text": [
      "Halo nama saya nama dan saya tertarik untuk belajar Data Science\n"
     ]
    }
   ],
   "source": [
    "print(\"Halo nama saya nama dan saya tertarik untuk belajar Data Science\")"
   ]
  },
  {
   "cell_type": "markdown",
   "id": "7f28d64f",
   "metadata": {},
   "source": [
    "#### 4. Program Kalkulator"
   ]
  },
  {
   "cell_type": "code",
   "execution_count": 7,
   "id": "0ba7f6a5",
   "metadata": {},
   "outputs": [
    {
     "name": "stdout",
     "output_type": "stream",
     "text": [
      "8\n",
      "2\n",
      "15\n",
      "1.6666666666666667\n"
     ]
    }
   ],
   "source": [
    "a = 5\n",
    "b = 3\n",
    "print(a + b)\n",
    "print(a - b)\n",
    "print(a * b)\n",
    "print(a / b)"
   ]
  }
 ],
 "metadata": {
  "kernelspec": {
   "display_name": "Python 3",
   "language": "python",
   "name": "python3"
  },
  "language_info": {
   "codemirror_mode": {
    "name": "ipython",
    "version": 3
   },
   "file_extension": ".py",
   "mimetype": "text/x-python",
   "name": "python",
   "nbconvert_exporter": "python",
   "pygments_lexer": "ipython3",
   "version": "3.10.6"
  }
 },
 "nbformat": 4,
 "nbformat_minor": 5
}
